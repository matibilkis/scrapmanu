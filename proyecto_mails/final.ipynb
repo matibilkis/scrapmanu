{
 "cells": [
  {
   "cell_type": "code",
   "execution_count": 8,
   "metadata": {},
   "outputs": [
    {
     "name": "stdout",
     "output_type": "stream",
     "text": [
      "['sltRegistro', 'txtNroProf', 'txtDNIBusca', 'txtApellidoBusca', 'txtNombre', 'sltTitulo', 'sltProvincia', 'sltPartidoR', 'sltLocalidadR', 'btnBuscaDNI']\n"
     ]
    }
   ],
   "source": [
    "import re\n",
    "from bs4 import BeautifulSoup\n",
    "from mechanize import Browser\n",
    "import pandas as pd\n",
    "import requests\n",
    "from IPython.display import display_html\n",
    "from tqdm import tqdm\n",
    "\n",
    "br = Browser()\n",
    "\n",
    "br.set_handle_robots( False )\n",
    "br.addheaders = [(\"User-agent\", \"Firefox\")]\n",
    "br.open(\"http://sistemas.opds.gba.gov.ar/intra/Profesionales/ConsultaWeb.php\")\n",
    "\n",
    "br.select_form(\"frmBuscaProf\")\n",
    "controls = br.form.controls\n",
    "print([control.name for control in controls])"
   ]
  },
  {
   "cell_type": "code",
   "execution_count": 3,
   "metadata": {},
   "outputs": [
    {
     "name": "stdout",
     "output_type": "stream",
     "text": [
      "0     <option value=\"0\">-- Seleccione Registro --</option>    value:  0\n",
      "1     <option value=\"3\">Consultoras de Evaluación</option>    value:  3\n",
      "2     <option value=\"1\">Profesionales de Aparatos Sometidos A Presión</option>    value:  1\n",
      "3     <option value=\"2\">Profesionales de Evaluación</option>    value:  2\n",
      "4     <option value=\"13\">Técnicos de Aparatos Sometidos a Presión</option>    value:  13\n",
      "5     <option value=\"nada\">-- Seleccione Título --</option>    value:  nada\n",
      "6     <option value=\"\tLIC. SEGURIDAD E HIGIENE Y CONTROL AMBIENTAL \">\tLIC. SEGURIDAD E HIGIENE Y CONTROL AMBIENTAL </option>    value:  \tLIC. SEGURIDAD E HIGIENE Y CONTROL AMBIENTAL \n",
      "7     <option value=\"ABOGADA\">ABOGADA</option>    value:  ABOGADA\n",
      "8     <option value=\"Abogado\">Abogado</option>    value:  Abogado\n",
      "9     <option value=\"Agrimensor\">Agrimensor</option>    value:  Agrimensor\n",
      "10     <option value=\"Agrónomo\">Agrónomo</option>    value:  Agrónomo\n",
      "11     <option value=\"Analista de Sistemas\">Analista de Sistemas</option>    value:  Analista de Sistemas\n",
      "12     <option value=\"ANALISTA ECOLOGICO\">ANALISTA ECOLOGICO</option>    value:  ANALISTA ECOLOGICO\n",
      "13     <option value=\"Analista Ecológico\">Analista Ecológico</option>    value:  Analista Ecológico\n",
      "14     <option value=\"Analista Ecológico y en  Contaminación\">Analista Ecológico y en  Contaminación</option>    value:  Analista Ecológico y en  Contaminación\n",
      "15     <option value=\"Analista en Ciencias Ambientales\">Analista en Ciencias Ambientales</option>    value:  Analista en Ciencias Ambientales\n",
      "16     <option value=\"Analista en Contaminación y Analista Ecológico\">Analista en Contaminación y Analista Ecológico</option>    value:  Analista en Contaminación y Analista Ecológico\n",
      "17     <option value=\"ANALISTA UNIVERSITARIO EN MONITOREO DEL AMBIENTE\">ANALISTA UNIVERSITARIO EN MONITOREO DEL AMBIENTE</option>    value:  ANALISTA UNIVERSITARIO EN MONITOREO DEL AMBIENTE\n",
      "18     <option value=\"Antropologa\">Antropologa</option>    value:  Antropologa\n",
      "19     <option value=\"Arquitecta\">Arquitecta</option>    value:  Arquitecta\n",
      "20     <option value=\"Arquitecto\">Arquitecto</option>    value:  Arquitecto\n",
      "21     <option value=\"Artillero y corredor Publico\">Artillero y corredor Publico</option>    value:  Artillero y corredor Publico\n",
      "22     <option value=\"BIOLOGA\">BIOLOGA</option>    value:  BIOLOGA\n",
      "23     <option value=\"Biologo\">Biologo</option>    value:  Biologo\n",
      "24     <option value=\"Bioquímico\">Bioquímico</option>    value:  Bioquímico\n",
      "25     <option value=\"con orientacion en botanica\">con orientacion en botanica</option>    value:  con orientacion en botanica\n",
      "26     <option value=\"Contador\">Contador</option>    value:  Contador\n",
      "27     <option value=\"Curso de Evaluacion de Impacto Ambiental y Proyect\">Curso de Evaluacion de Impacto Ambiental y Proyect</option>    value:  Curso de Evaluacion de Impacto Ambiental y Proyect\n",
      "28     <option value=\"curso de psgrado en EIA\">curso de psgrado en EIA</option>    value:  curso de psgrado en EIA\n",
      "29     <option value=\"CURSO DE PUESTA A TIERRA DE PLANTAS INDUSTRIALES\">CURSO DE PUESTA A TIERRA DE PLANTAS INDUSTRIALES</option>    value:  CURSO DE PUESTA A TIERRA DE PLANTAS INDUSTRIALES\n",
      "30     <option value=\"Curso EIA y Proyecto Urbano\">Curso EIA y Proyecto Urbano</option>    value:  Curso EIA y Proyecto Urbano\n",
      "31     <option value=\"Diseñador Industrial\">Diseñador Industrial</option>    value:  Diseñador Industrial\n",
      "32     <option value=\"diseño en areas esteriles \">diseño en areas esteriles </option>    value:  diseño en areas esteriles \n",
      "33     <option value=\"Doctor de la Univ. Bs.As. área Ingeniería\">Doctor de la Univ. Bs.As. área Ingeniería</option>    value:  Doctor de la Univ. Bs.As. área Ingeniería\n",
      "34     <option value=\"Doctor en Ciencias del Mar\">Doctor en Ciencias del Mar</option>    value:  Doctor en Ciencias del Mar\n",
      "35     <option value=\"Doctor en Ciencias Naturales\">Doctor en Ciencias Naturales</option>    value:  Doctor en Ciencias Naturales\n",
      "36     <option value=\"Doctor en Ciencias Veterinarias \">Doctor en Ciencias Veterinarias </option>    value:  Doctor en Ciencias Veterinarias \n",
      "37     <option value=\"Doctorado en Ciencias Quimica\">Doctorado en Ciencias Quimica</option>    value:  Doctorado en Ciencias Quimica\n",
      "38     <option value=\"DR EN QUIMICA\">DR EN QUIMICA</option>    value:  DR EN QUIMICA\n",
      "39     <option value=\"E. en Seguridad, Higiene y Protección Ambiental\">E. en Seguridad, Higiene y Protección Ambiental</option>    value:  E. en Seguridad, Higiene y Protección Ambiental\n",
      "40     <option value=\"Ecólogo\">Ecólogo</option>    value:  Ecólogo\n",
      "41     <option value=\"Esp en Hig Ambiental\">Esp en Hig Ambiental</option>    value:  Esp en Hig Ambiental\n",
      "42     <option value=\"Esp. en Eval. de Contaminación Amb.               \">Esp. en Eval. de Contaminación Amb.               </option>    value:  Esp. en Eval. de Contaminación Amb.               \n",
      "43     <option value=\"Esp. en Gestion Ambiental\">Esp. en Gestion Ambiental</option>    value:  Esp. en Gestion Ambiental\n",
      "44     <option value=\"Esp. en Higiene y Seguridad en el Trabajo Agrario\">Esp. en Higiene y Seguridad en el Trabajo Agrario</option>    value:  Esp. en Higiene y Seguridad en el Trabajo Agrario\n",
      "45     <option value=\"ESP. HIGIENE Y SEG.LAB.INDUST. DE LA CONST.\">ESP. HIGIENE Y SEG.LAB.INDUST. DE LA CONST.</option>    value:  ESP. HIGIENE Y SEG.LAB.INDUST. DE LA CONST.\n",
      "46     <option value=\"Esp. Seg. e Higiene\">Esp. Seg. e Higiene</option>    value:  Esp. Seg. e Higiene\n",
      "47     <option value=\"Esp. Seg.e Higiene\">Esp. Seg.e Higiene</option>    value:  Esp. Seg.e Higiene\n",
      "48     <option value=\"ESPCIALISTA EN PLANEAMIENTO P. Y AMB.\">ESPCIALISTA EN PLANEAMIENTO P. Y AMB.</option>    value:  ESPCIALISTA EN PLANEAMIENTO P. Y AMB.\n",
      "49     <option value=\"Espec. en Hig y Seg en el Trab Agra\">Espec. en Hig y Seg en el Trab Agra</option>    value:  Espec. en Hig y Seg en el Trab Agra\n",
      "50     <option value=\"espec.en Gestion del Patrimonio y Turismo Sostenib\">espec.en Gestion del Patrimonio y Turismo Sostenib</option>    value:  espec.en Gestion del Patrimonio y Turismo Sostenib\n",
      "51     <option value=\"Especialidad Hidraulica\">Especialidad Hidraulica</option>    value:  Especialidad Hidraulica\n",
      "52     <option value=\"ESPECIALISTA  AMBIENTAL\">ESPECIALISTA  AMBIENTAL</option>    value:  ESPECIALISTA  AMBIENTAL\n",
      "53     <option value=\"especialista  en ambiente y patologia ambiental\">especialista  en ambiente y patologia ambiental</option>    value:  especialista  en ambiente y patologia ambiental\n",
      "54     <option value=\"Especialista en Ciencias Químicas y Ambiente\">Especialista en Ciencias Químicas y Ambiente</option>    value:  Especialista en Ciencias Químicas y Ambiente\n",
      "55     <option value=\"Especialista en Derecho Ambiental\">Especialista en Derecho Ambiental</option>    value:  Especialista en Derecho Ambiental\n",
      "56     <option value=\"Especialista en Diagnostico y EvaluaciÃ³n Ambienta\">Especialista en Diagnostico y EvaluaciÃ³n Ambienta</option>    value:  Especialista en Diagnostico y EvaluaciÃ³n Ambienta\n",
      "57     <option value=\"Especialista en Explotación de Yacimientos\">Especialista en Explotación de Yacimientos</option>    value:  Especialista en Explotación de Yacimientos\n",
      "58     <option value=\"Especialista en gestion ambiental - higiene y seg.\">Especialista en gestion ambiental - higiene y seg.</option>    value:  Especialista en gestion ambiental - higiene y seg.\n",
      "59     <option value=\"Especialista en Higiene y Proteccion Ambiental\">Especialista en Higiene y Proteccion Ambiental</option>    value:  Especialista en Higiene y Proteccion Ambiental\n",
      "60     <option value=\"Especialista en Higiene y Seg. \">Especialista en Higiene y Seg. </option>    value:  Especialista en Higiene y Seg. \n",
      "61     <option value=\"especialista en higiene y seguridad en el trabajo\">especialista en higiene y seguridad en el trabajo</option>    value:  especialista en higiene y seguridad en el trabajo\n",
      "62     <option value=\"ESPECIALISTA EN ING. INDUSTRIAL\">ESPECIALISTA EN ING. INDUSTRIAL</option>    value:  ESPECIALISTA EN ING. INDUSTRIAL\n",
      "63     <option value=\"Especialista en Ingenieria Ambiental\">Especialista en Ingenieria Ambiental</option>    value:  Especialista en Ingenieria Ambiental\n",
      "64     <option value=\"Especialista en Ingeniería Ambiental\">Especialista en Ingeniería Ambiental</option>    value:  Especialista en Ingeniería Ambiental\n",
      "65     <option value=\"Especialista en Ingeniería en Calidad\">Especialista en Ingeniería en Calidad</option>    value:  Especialista en Ingeniería en Calidad\n",
      "66     <option value=\"Especialista en Planificacion Urbana  \">Especialista en Planificacion Urbana  </option>    value:  Especialista en Planificacion Urbana  \n",
      "67     <option value=\"ESPECIALISTA EN PROTECCIÓN AMBIENTAL\">ESPECIALISTA EN PROTECCIÓN AMBIENTAL</option>    value:  ESPECIALISTA EN PROTECCIÓN AMBIENTAL\n",
      "68     <option value=\"ESPECIALISTA EN SEGURIDAD E HIGIENE\">ESPECIALISTA EN SEGURIDAD E HIGIENE</option>    value:  ESPECIALISTA EN SEGURIDAD E HIGIENE\n",
      "69     <option value=\"ESPECIALISTA EN SEGURIDAD E HIGIENE DEL TRABAJO\">ESPECIALISTA EN SEGURIDAD E HIGIENE DEL TRABAJO</option>    value:  ESPECIALISTA EN SEGURIDAD E HIGIENE DEL TRABAJO\n",
      "70     <option value=\"Especialista en Seguridad e Higiene en el Trabajo\">Especialista en Seguridad e Higiene en el Trabajo</option>    value:  Especialista en Seguridad e Higiene en el Trabajo\n",
      "71     <option value=\"Especialista en seguridad en el trabajo agrario\">Especialista en seguridad en el trabajo agrario</option>    value:  Especialista en seguridad en el trabajo agrario\n",
      "72     <option value=\"Especialista en Seguridad, Higiene y ProtecciÃ³n A\">Especialista en Seguridad, Higiene y ProtecciÃ³n A</option>    value:  Especialista en Seguridad, Higiene y ProtecciÃ³n A\n",
      "73     <option value=\"Especialista en Seguridad, Higiene y Protección Am\">Especialista en Seguridad, Higiene y Protección Am</option>    value:  Especialista en Seguridad, Higiene y Protección Am\n",
      "74     <option value=\"Especialista en Seguridad,Higiene y Proteccion Amb\">Especialista en Seguridad,Higiene y Proteccion Amb</option>    value:  Especialista en Seguridad,Higiene y Proteccion Amb\n",
      "75     <option value=\"ESPECIALISTA HIGIENE Y SEGURIDAD EN EL TRABAJO\">ESPECIALISTA HIGIENE Y SEGURIDAD EN EL TRABAJO</option>    value:  ESPECIALISTA HIGIENE Y SEGURIDAD EN EL TRABAJO\n",
      "76     <option value=\"Especialista medio ambiente y contaminación de eco\">Especialista medio ambiente y contaminación de eco</option>    value:  Especialista medio ambiente y contaminación de eco\n",
      "77     <option value=\"Especialización en Ciencias Químicas y Ambiente\">Especialización en Ciencias Químicas y Ambiente</option>    value:  Especialización en Ciencias Químicas y Ambiente\n",
      "78     <option value=\"Especializacion en Desarrollo Sustentable\">Especializacion en Desarrollo Sustentable</option>    value:  Especializacion en Desarrollo Sustentable\n",
      "79     <option value=\"ESPECIALIZACION EN EVALUACION DEL IMPACTO AMBIENTA\">ESPECIALIZACION EN EVALUACION DEL IMPACTO AMBIENTA</option>    value:  ESPECIALIZACION EN EVALUACION DEL IMPACTO AMBIENTA\n",
      "80     <option value=\"Especializacion en Higiene  y Seg. en el Trabajo\">Especializacion en Higiene  y Seg. en el Trabajo</option>    value:  Especializacion en Higiene  y Seg. en el Trabajo\n",
      "81     <option value=\"ESPECIALIZACION EN HIGIENE Y SEGURIDAD EN EL TRABA\">ESPECIALIZACION EN HIGIENE Y SEGURIDAD EN EL TRABA</option>    value:  ESPECIALIZACION EN HIGIENE Y SEGURIDAD EN EL TRABA\n",
      "82     <option value=\"Farmaceutica Especialista en Esterilización\">Farmaceutica Especialista en Esterilización</option>    value:  Farmaceutica Especialista en Esterilización\n",
      "83     <option value=\"Farmaceutico\">Farmaceutico</option>    value:  Farmaceutico\n",
      "84     <option value=\"Geofísico\">Geofísico</option>    value:  Geofísico\n",
      "85     <option value=\"Geólogo\">Geólogo</option>    value:  Geólogo\n",
      "86     <option value=\"Geoquímico\">Geoquímico</option>    value:  Geoquímico\n",
      "87     <option value=\"Hidrologia Ambiental\">Hidrologia Ambiental</option>    value:  Hidrologia Ambiental\n",
      "88     <option value=\"HIGIENE Y SEGURIDAD DEN EL TRABAJO\">HIGIENE Y SEGURIDAD DEN EL TRABAJO</option>    value:  HIGIENE Y SEGURIDAD DEN EL TRABAJO\n",
      "89     <option value=\"Higiene y Seguridad en el Trabajo y Medio Ambiente\">Higiene y Seguridad en el Trabajo y Medio Ambiente</option>    value:  Higiene y Seguridad en el Trabajo y Medio Ambiente\n",
      "90     <option value=\"Iing. laboral  y especialista en hig y seg\">Iing. laboral  y especialista en hig y seg</option>    value:  Iing. laboral  y especialista en hig y seg\n",
      "91     <option value=\"Ing industrial y espec en ing amb\">Ing industrial y espec en ing amb</option>    value:  Ing industrial y espec en ing amb\n",
      "92     <option value=\"ING. Electricista con Orientación Electronica\">ING. Electricista con Orientación Electronica</option>    value:  ING. Electricista con Orientación Electronica\n",
      "93     <option value=\"ING. EN ELECTRONICA\">ING. EN ELECTRONICA</option>    value:  ING. EN ELECTRONICA\n",
      "94     <option value=\"ING. INDUSTRIAL\">ING. INDUSTRIAL</option>    value:  ING. INDUSTRIAL\n",
      "95     <option value=\"Ing. metalurgico\">Ing. metalurgico</option>    value:  Ing. metalurgico\n",
      "96     <option value=\"ING. TELEC., ELECT. Y COMPUTACION\">ING. TELEC., ELECT. Y COMPUTACION</option>    value:  ING. TELEC., ELECT. Y COMPUTACION\n",
      "97     <option value=\"ING.QUIMICA Y ESPECIALISTA EN INGENIERÍA AMBIENTAL\">ING.QUIMICA Y ESPECIALISTA EN INGENIERÍA AMBIENTAL</option>    value:  ING.QUIMICA Y ESPECIALISTA EN INGENIERÍA AMBIENTAL\n",
      "98     <option value=\"INGENIERA  CIVIL\">INGENIERA  CIVIL</option>    value:  INGENIERA  CIVIL\n",
      "99     <option value=\"INGENIERA AGROINDUSTRIAL\">INGENIERA AGROINDUSTRIAL</option>    value:  INGENIERA AGROINDUSTRIAL\n",
      "100     <option value=\"INGENIERA AGRONOMA\">INGENIERA AGRONOMA</option>    value:  INGENIERA AGRONOMA\n",
      "101     <option value=\"INGENIERA AMB. Y SANITARIA\">INGENIERA AMB. Y SANITARIA</option>    value:  INGENIERA AMB. Y SANITARIA\n",
      "102     <option value=\"INGENIERA AMBIENTAL\">INGENIERA AMBIENTAL</option>    value:  INGENIERA AMBIENTAL\n",
      "103     <option value=\"INGENIERA CIVIL\">INGENIERA CIVIL</option>    value:  INGENIERA CIVIL\n",
      "104     <option value=\"INGENIERA EN ALIMENTOS\">INGENIERA EN ALIMENTOS</option>    value:  INGENIERA EN ALIMENTOS\n",
      "105     <option value=\"Ingeniera en Ecologia\">Ingeniera en Ecologia</option>    value:  Ingeniera en Ecologia\n",
      "106     <option value=\"Ingeniera en Recursos Naturales y Medio Ambiente\">Ingeniera en Recursos Naturales y Medio Ambiente</option>    value:  Ingeniera en Recursos Naturales y Medio Ambiente\n",
      "107     <option value=\"INGENIERA HIDRAULICA\">INGENIERA HIDRAULICA</option>    value:  INGENIERA HIDRAULICA\n",
      "108     <option value=\"INGENIERA INDUSTRIAL\">INGENIERA INDUSTRIAL</option>    value:  INGENIERA INDUSTRIAL\n",
      "109     <option value=\"INGENIERA LABORAL\">INGENIERA LABORAL</option>    value:  INGENIERA LABORAL\n",
      "110     <option value=\"INGENIERA QUIMICA\">INGENIERA QUIMICA</option>    value:  INGENIERA QUIMICA\n",
      "111     <option value=\"INGENIERA ZOOTECNISTA \">INGENIERA ZOOTECNISTA </option>    value:  INGENIERA ZOOTECNISTA \n",
      "112     <option value=\"Ingeniería en Seguridad Ambiental\">Ingeniería en Seguridad Ambiental</option>    value:  Ingeniería en Seguridad Ambiental\n",
      "113     <option value=\"Ingenieria Sanitaria\">Ingenieria Sanitaria</option>    value:  Ingenieria Sanitaria\n",
      "114     <option value=\"Ingeniero  en Alimentos\">Ingeniero  en Alimentos</option>    value:  Ingeniero  en Alimentos\n",
      "115     <option value=\"INGENIERO AERONAUTICO\">INGENIERO AERONAUTICO</option>    value:  INGENIERO AERONAUTICO\n",
      "116     <option value=\"Ingeniero Aeronáutico\">Ingeniero Aeronáutico</option>    value:  Ingeniero Aeronáutico\n",
      "117     <option value=\"INGENIERO AGRIMENSOR\">INGENIERO AGRIMENSOR</option>    value:  INGENIERO AGRIMENSOR\n",
      "118     <option value=\"INGENIERO AGRONOMO\">INGENIERO AGRONOMO</option>    value:  INGENIERO AGRONOMO\n",
      "119     <option value=\"Ingeniero Agrónomo\">Ingeniero Agrónomo</option>    value:  Ingeniero Agrónomo\n",
      "120     <option value=\"Ingeniero Ambiental\">Ingeniero Ambiental</option>    value:  Ingeniero Ambiental\n",
      "121     <option value=\"Ingeniero Civil\">Ingeniero Civil</option>    value:  Ingeniero Civil\n",
      "122     <option value=\"INGENIERO DE PETROLEOS\">INGENIERO DE PETROLEOS</option>    value:  INGENIERO DE PETROLEOS\n",
      "123     <option value=\"INGENIERO DE SONIDO\">INGENIERO DE SONIDO</option>    value:  INGENIERO DE SONIDO\n",
      "124     <option value=\"Ingeniero Electricista\">Ingeniero Electricista</option>    value:  Ingeniero Electricista\n",
      "125     <option value=\"Ingeniero Electromecánico\">Ingeniero Electromecánico</option>    value:  Ingeniero Electromecánico\n",
      "126     <option value=\"INGENIERO ELECTROMECANICO CON OR. MECANICA\">INGENIERO ELECTROMECANICO CON OR. MECANICA</option>    value:  INGENIERO ELECTROMECANICO CON OR. MECANICA\n",
      "127     <option value=\"Ingeniero Electromecánico or Electricista\">Ingeniero Electromecánico or Electricista</option>    value:  Ingeniero Electromecánico or Electricista\n",
      "128     <option value=\"INGENIERO ELECTRONICO\">INGENIERO ELECTRONICO</option>    value:  INGENIERO ELECTRONICO\n",
      "129     <option value=\"Ingeniero Electrónico\">Ingeniero Electrónico</option>    value:  Ingeniero Electrónico\n",
      "130     <option value=\"Ingeniero en Arsenales\">Ingeniero en Arsenales</option>    value:  Ingeniero en Arsenales\n",
      "131     <option value=\"Ingeniero en Construcciones\">Ingeniero en Construcciones</option>    value:  Ingeniero en Construcciones\n",
      "132     <option value=\"Ingeniero en Ecologia\">Ingeniero en Ecologia</option>    value:  Ingeniero en Ecologia\n",
      "133     <option value=\"Ingeniero en Electrònica\">Ingeniero en Electrònica</option>    value:  Ingeniero en Electrònica\n",
      "134     <option value=\"Ingeniero en Geodesia\">Ingeniero en Geodesia</option>    value:  Ingeniero en Geodesia\n",
      "135     <option value=\"INGENIERO EN GESTION DE SINIESTROS Y SEGURIDAD AMB\">INGENIERO EN GESTION DE SINIESTROS Y SEGURIDAD AMB</option>    value:  INGENIERO EN GESTION DE SINIESTROS Y SEGURIDAD AMB\n",
      "136     <option value=\"Ingeniero en Higiene y Seguridad  en el Trabajo\">Ingeniero en Higiene y Seguridad  en el Trabajo</option>    value:  Ingeniero en Higiene y Seguridad  en el Trabajo\n",
      "137     <option value=\"Ingeniero en Higiene y Seguridad en el Trabajo\">Ingeniero en Higiene y Seguridad en el Trabajo</option>    value:  Ingeniero en Higiene y Seguridad en el Trabajo\n",
      "138     <option value=\"Ingeniero en Industrias de la Alimentacion\">Ingeniero en Industrias de la Alimentacion</option>    value:  Ingeniero en Industrias de la Alimentacion\n",
      "139     <option value=\"Ingeniero en Materiales\">Ingeniero en Materiales</option>    value:  Ingeniero en Materiales\n",
      "140     <option value=\"Ingeniero en Organizaci{on de Empresas\">Ingeniero en Organizaci{on de Empresas</option>    value:  Ingeniero en Organizaci{on de Empresas\n",
      "141     <option value=\"Ingeniero en Organizacion de Empresas\">Ingeniero en Organizacion de Empresas</option>    value:  Ingeniero en Organizacion de Empresas\n",
      "142     <option value=\"INGENIERO EN PRODUCCION AGROPECUARIA\">INGENIERO EN PRODUCCION AGROPECUARIA</option>    value:  INGENIERO EN PRODUCCION AGROPECUARIA\n",
      "143     <option value=\"Ingeniero en Recursos Hidricos\">Ingeniero en Recursos Hidricos</option>    value:  Ingeniero en Recursos Hidricos\n",
      "144     <option value=\"Ingeniero en Recursos Naturales y Medio  Ambiente\">Ingeniero en Recursos Naturales y Medio  Ambiente</option>    value:  Ingeniero en Recursos Naturales y Medio  Ambiente\n",
      "145     <option value=\"Ingeniero en Seguridad Ambiental\">Ingeniero en Seguridad Ambiental</option>    value:  Ingeniero en Seguridad Ambiental\n",
      "146     <option value=\"Ingeniero en Seguridad e Higiene\">Ingeniero en Seguridad e Higiene</option>    value:  Ingeniero en Seguridad e Higiene\n",
      "147     <option value=\"Ingeniero en Seguridad e Higiene en el Trabajo \">Ingeniero en Seguridad e Higiene en el Trabajo </option>    value:  Ingeniero en Seguridad e Higiene en el Trabajo \n",
      "148     <option value=\"ingeniero en sistemas de informacion\">ingeniero en sistemas de informacion</option>    value:  ingeniero en sistemas de informacion\n",
      "149     <option value=\"Ingeniero en Telecomunicaciones\">Ingeniero en Telecomunicaciones</option>    value:  Ingeniero en Telecomunicaciones\n",
      "150     <option value=\"Ingeniero en vias de comunicacion\">Ingeniero en vias de comunicacion</option>    value:  Ingeniero en vias de comunicacion\n",
      "151     <option value=\"Ingeniero Especialista en Higiene y Seguridad en e\">Ingeniero Especialista en Higiene y Seguridad en e</option>    value:  Ingeniero Especialista en Higiene y Seguridad en e\n",
      "152     <option value=\"INGENIERO ESPECIALISTA EN PROTECCIÓN AMBIENTAL\">INGENIERO ESPECIALISTA EN PROTECCIÓN AMBIENTAL</option>    value:  INGENIERO ESPECIALISTA EN PROTECCIÓN AMBIENTAL\n",
      "153     <option value=\"Ingeniero Forestal\">Ingeniero Forestal</option>    value:  Ingeniero Forestal\n",
      "154     <option value=\"Ingeniero Geógrafo\">Ingeniero Geógrafo</option>    value:  Ingeniero Geógrafo\n",
      "155     <option value=\"Ingeniero Hidráulico\">Ingeniero Hidráulico</option>    value:  Ingeniero Hidráulico\n",
      "156     <option value=\"Ingeniero Industrail\">Ingeniero Industrail</option>    value:  Ingeniero Industrail\n",
      "157     <option value=\"Ingeniero Industrial\">Ingeniero Industrial</option>    value:  Ingeniero Industrial\n",
      "158     <option value=\"Ingeniero Laboral\">Ingeniero Laboral</option>    value:  Ingeniero Laboral\n",
      "159     <option value=\"Ingeniero Laboral \">Ingeniero Laboral </option>    value:  Ingeniero Laboral \n",
      "160     <option value=\"Ingeniero Mecanico\">Ingeniero Mecanico</option>    value:  Ingeniero Mecanico\n",
      "161     <option value=\"Ingeniero Mecánico\">Ingeniero Mecánico</option>    value:  Ingeniero Mecánico\n",
      "162     <option value=\"Ingeniero Mecánico \">Ingeniero Mecánico </option>    value:  Ingeniero Mecánico \n",
      "163     <option value=\"Ingeniero Metalúrgico\">Ingeniero Metalúrgico</option>    value:  Ingeniero Metalúrgico\n",
      "164     <option value=\"INGENIERO MILITAR\">INGENIERO MILITAR</option>    value:  INGENIERO MILITAR\n",
      "165     <option value=\"Ingeniero Químico\">Ingeniero Químico</option>    value:  Ingeniero Químico\n",
      "166     <option value=\"Ingeniero Sanitario\">Ingeniero Sanitario</option>    value:  Ingeniero Sanitario\n",
      "167     <option value=\"Ingeniero Textil\">Ingeniero Textil</option>    value:  Ingeniero Textil\n",
      "168     <option value=\"Ingeniero Zootecnista\">Ingeniero Zootecnista</option>    value:  Ingeniero Zootecnista\n",
      "169     <option value=\"INGENIRO NAVAL Y MECANICO\">INGENIRO NAVAL Y MECANICO</option>    value:  INGENIRO NAVAL Y MECANICO\n",
      "170     <option value=\"LIC EN BIOLOGIA OR. ECOLOGIA\">LIC EN BIOLOGIA OR. ECOLOGIA</option>    value:  LIC EN BIOLOGIA OR. ECOLOGIA\n",
      "171     <option value=\"Lic en Hig y Seg en el Trab, Esp en Protecc Ambtal\">Lic en Hig y Seg en el Trab, Esp en Protecc Ambtal</option>    value:  Lic en Hig y Seg en el Trab, Esp en Protecc Ambtal\n",
      "172     <option value=\"Lic. Ciencias de la Educacion\">Lic. Ciencias de la Educacion</option>    value:  Lic. Ciencias de la Educacion\n",
      "173     <option value=\"Lic. en Aprovechamiento de Recur. Nat. Renovables\">Lic. en Aprovechamiento de Recur. Nat. Renovables</option>    value:  Lic. en Aprovechamiento de Recur. Nat. Renovables\n",
      "174     <option value=\"LIC. en BIOLOGIA con orientacion en  ZOOLOGIA\">LIC. en BIOLOGIA con orientacion en  ZOOLOGIA</option>    value:  LIC. en BIOLOGIA con orientacion en  ZOOLOGIA\n",
      "175     <option value=\"LIC. EN BIOQUIMICA\">LIC. EN BIOQUIMICA</option>    value:  LIC. EN BIOQUIMICA\n",
      "176     <option value=\"LIC. EN C. ANTROPOLOGICAS C. OR. ARQUEOLOGICA\">LIC. EN C. ANTROPOLOGICAS C. OR. ARQUEOLOGICA</option>    value:  LIC. EN C. ANTROPOLOGICAS C. OR. ARQUEOLOGICA\n",
      "177     <option value=\"LIC. EN CIENCIAS AMBIENTALES\">LIC. EN CIENCIAS AMBIENTALES</option>    value:  LIC. EN CIENCIAS AMBIENTALES\n",
      "178     <option value=\"LIC. EN CIENCIAS BIOLOGICAS\">LIC. EN CIENCIAS BIOLOGICAS</option>    value:  LIC. EN CIENCIAS BIOLOGICAS\n",
      "179     <option value=\"LIC. EN CIENCIAS DEL AMBIENTE\">LIC. EN CIENCIAS DEL AMBIENTE</option>    value:  LIC. EN CIENCIAS DEL AMBIENTE\n",
      "180     <option value=\"LIC. EN CIENCIAS GEOLOGICAS\">LIC. EN CIENCIAS GEOLOGICAS</option>    value:  LIC. EN CIENCIAS GEOLOGICAS\n",
      "181     <option value=\"LIC. EN CIENCIAS QUÍMICAS\">LIC. EN CIENCIAS QUÍMICAS</option>    value:  LIC. EN CIENCIAS QUÍMICAS\n",
      "182     <option value=\"LIC. EN CIENCIAS QUIMICAS O. ANALISIS BIOLOGICOS\">LIC. EN CIENCIAS QUIMICAS O. ANALISIS BIOLOGICOS</option>    value:  LIC. EN CIENCIAS QUIMICAS O. ANALISIS BIOLOGICOS\n",
      "183     <option value=\"Lic. en Ecolgia y Cons.de Rec. Nat. Renovables\">Lic. en Ecolgia y Cons.de Rec. Nat. Renovables</option>    value:  Lic. en Ecolgia y Cons.de Rec. Nat. Renovables\n",
      "184     <option value=\"LIC. EN ENSEÑANZA DE LAS CIENCIAS DEL AMBIENTE\">LIC. EN ENSEÑANZA DE LAS CIENCIAS DEL AMBIENTE</option>    value:  LIC. EN ENSEÑANZA DE LAS CIENCIAS DEL AMBIENTE\n",
      "185     <option value=\"LIC. EN GEOLOGIA\">LIC. EN GEOLOGIA</option>    value:  LIC. EN GEOLOGIA\n",
      "186     <option value=\"LIC. EN GERENCIAMIENTO AMBIENTAL\">LIC. EN GERENCIAMIENTO AMBIENTAL</option>    value:  LIC. EN GERENCIAMIENTO AMBIENTAL\n",
      "187     <option value=\"Lic. en Gestion Ambiental\">Lic. en Gestion Ambiental</option>    value:  Lic. en Gestion Ambiental\n",
      "188     <option value=\"LIC. EN GESTION AMBIENTAL URBANA\">LIC. EN GESTION AMBIENTAL URBANA</option>    value:  LIC. EN GESTION AMBIENTAL URBANA\n",
      "189     <option value=\"LIC. EN HIGIENE Y  SEG EN EL TRABAJO\">LIC. EN HIGIENE Y  SEG EN EL TRABAJO</option>    value:  LIC. EN HIGIENE Y  SEG EN EL TRABAJO\n",
      "190     <option value=\"LIC. EN HIGIENE Y SEGURIDAD INDUSTRIAL\">LIC. EN HIGIENE Y SEGURIDAD INDUSTRIAL</option>    value:  LIC. EN HIGIENE Y SEGURIDAD INDUSTRIAL\n",
      "191     <option value=\"LIC. EN PROTECCIÓN Y SANEAMIENTO AMBIENTAL\">LIC. EN PROTECCIÓN Y SANEAMIENTO AMBIENTAL</option>    value:  LIC. EN PROTECCIÓN Y SANEAMIENTO AMBIENTAL\n",
      "192     <option value=\"Lic. en Química y Tecnología Ambiental\">Lic. en Química y Tecnología Ambiental</option>    value:  Lic. en Química y Tecnología Ambiental\n",
      "193     <option value=\"LIC. EN RELACIONES COM. INTERNACIONALES\">LIC. EN RELACIONES COM. INTERNACIONALES</option>    value:  LIC. EN RELACIONES COM. INTERNACIONALES\n",
      "194     <option value=\"LIC. EN RELACIONES INDUSTRIALES CON ESPEC. EN UCA,\">LIC. EN RELACIONES INDUSTRIALES CON ESPEC. EN UCA,</option>    value:  LIC. EN RELACIONES INDUSTRIALES CON ESPEC. EN UCA,\n",
      "195     <option value=\"Lic. en Saneamiento y proteccion ambiental\">Lic. en Saneamiento y proteccion ambiental</option>    value:  Lic. en Saneamiento y proteccion ambiental\n",
      "196     <option value=\"Lic. en Seg. e Higiene en el Trabajo y Medio Amb.\">Lic. en Seg. e Higiene en el Trabajo y Medio Amb.</option>    value:  Lic. en Seg. e Higiene en el Trabajo y Medio Amb.\n",
      "197     <option value=\"LIC. EN SEG. HIGIENE IND. Y CONTROL AMBIENTAL\">LIC. EN SEG. HIGIENE IND. Y CONTROL AMBIENTAL</option>    value:  LIC. EN SEG. HIGIENE IND. Y CONTROL AMBIENTAL\n",
      "198     <option value=\"Lic. en Seguridad Ambiental\">Lic. en Seguridad Ambiental</option>    value:  Lic. en Seguridad Ambiental\n",
      "199     <option value=\"LIC. EN SEGURIDAD E HIGIENE \">LIC. EN SEGURIDAD E HIGIENE </option>    value:  LIC. EN SEGURIDAD E HIGIENE \n",
      "200     <option value=\"LIC. EN SEGURIDAD Y SALUD OCUPACIONAL\">LIC. EN SEGURIDAD Y SALUD OCUPACIONAL</option>    value:  LIC. EN SEGURIDAD Y SALUD OCUPACIONAL\n",
      "201     <option value=\"Lic. en Seguridad, Higiene y Control Ambiental Lab\">Lic. en Seguridad, Higiene y Control Ambiental Lab</option>    value:  Lic. en Seguridad, Higiene y Control Ambiental Lab\n",
      "202     <option value=\"LIC. EN SISTEMAS \">LIC. EN SISTEMAS </option>    value:  LIC. EN SISTEMAS \n",
      "203     <option value=\"LIC. EN TECNOLOGÍA AMBIENTAL\">LIC. EN TECNOLOGÍA AMBIENTAL</option>    value:  LIC. EN TECNOLOGÍA AMBIENTAL\n",
      "204     <option value=\"LIC. INFORMACIÓN AMBIENTAL\">LIC. INFORMACIÓN AMBIENTAL</option>    value:  LIC. INFORMACIÓN AMBIENTAL\n",
      "205     <option value=\"LIC. SEGURIDAD E HIGIENE Y CONTROL AMBIENTAL\">LIC. SEGURIDAD E HIGIENE Y CONTROL AMBIENTAL</option>    value:  LIC. SEGURIDAD E HIGIENE Y CONTROL AMBIENTAL\n",
      "206     <option value=\"Lic.en Biologia OR Zoologia\">Lic.en Biologia OR Zoologia</option>    value:  Lic.en Biologia OR Zoologia\n",
      "207     <option value=\"Lic.en Seg e Hig y Control Amb Laboral\">Lic.en Seg e Hig y Control Amb Laboral</option>    value:  Lic.en Seg e Hig y Control Amb Laboral\n",
      "208     <option value=\"Licenciad en Seguridad y salud ocupacional\">Licenciad en Seguridad y salud ocupacional</option>    value:  Licenciad en Seguridad y salud ocupacional\n",
      "209     <option value=\"LICENCIADA  EN CIENCIAS DEL AMBIENTE\">LICENCIADA  EN CIENCIAS DEL AMBIENTE</option>    value:  LICENCIADA  EN CIENCIAS DEL AMBIENTE\n",
      "210     <option value=\"Licenciada en Análisis Ambiental\">Licenciada en Análisis Ambiental</option>    value:  Licenciada en Análisis Ambiental\n",
      "211     <option value=\"LICENCIADA EN BIOTECNOLOGIA\">LICENCIADA EN BIOTECNOLOGIA</option>    value:  LICENCIADA EN BIOTECNOLOGIA\n",
      "212     <option value=\"LICENCIADA EN BROMATOLOGIA\">LICENCIADA EN BROMATOLOGIA</option>    value:  LICENCIADA EN BROMATOLOGIA\n",
      "213     <option value=\"Licenciada en Ciencia y Tecnología de Alimentos\">Licenciada en Ciencia y Tecnología de Alimentos</option>    value:  Licenciada en Ciencia y Tecnología de Alimentos\n",
      "214     <option value=\"LICENCIADA EN CIENCIAS AMBIENTALES\">LICENCIADA EN CIENCIAS AMBIENTALES</option>    value:  LICENCIADA EN CIENCIAS AMBIENTALES\n",
      "215     <option value=\"Licenciada en Ciencias Geologicas\">Licenciada en Ciencias Geologicas</option>    value:  Licenciada en Ciencias Geologicas\n",
      "216     <option value=\"Licenciada en Ciencias Politicas\">Licenciada en Ciencias Politicas</option>    value:  Licenciada en Ciencias Politicas\n",
      "217     <option value=\"LICENCIADA EN CIENCIAS QUIMICAS O. ANALISIS QUIM.\">LICENCIADA EN CIENCIAS QUIMICAS O. ANALISIS QUIM.</option>    value:  LICENCIADA EN CIENCIAS QUIMICAS O. ANALISIS QUIM.\n",
      "218     <option value=\"Licenciada en Diagnóstico y Gestión Ambiental\">Licenciada en Diagnóstico y Gestión Ambiental</option>    value:  Licenciada en Diagnóstico y Gestión Ambiental\n",
      "219     <option value=\"Licenciada en Ecología Urbana\">Licenciada en Ecología Urbana</option>    value:  Licenciada en Ecología Urbana\n",
      "220     <option value=\"LICENCIADA EN GEOLOGIA\">LICENCIADA EN GEOLOGIA</option>    value:  LICENCIADA EN GEOLOGIA\n",
      "221     <option value=\"LICENCIADA EN GERENCIAMIENTO  AMB.\">LICENCIADA EN GERENCIAMIENTO  AMB.</option>    value:  LICENCIADA EN GERENCIAMIENTO  AMB.\n",
      "222     <option value=\"LICENCIADA EN GESTION AMBIENTAL\">LICENCIADA EN GESTION AMBIENTAL</option>    value:  LICENCIADA EN GESTION AMBIENTAL\n",
      "223     <option value=\"LICENCIADA EN INFORMACION AMBIENTAL\">LICENCIADA EN INFORMACION AMBIENTAL</option>    value:  LICENCIADA EN INFORMACION AMBIENTAL\n",
      "224     <option value=\"Licenciada en Oceanografia\">Licenciada en Oceanografia</option>    value:  Licenciada en Oceanografia\n",
      "225     <option value=\"Licenciada en Oceanografía Orientación Química Mar\">Licenciada en Oceanografía Orientación Química Mar</option>    value:  Licenciada en Oceanografía Orientación Química Mar\n",
      "226     <option value=\"Licenciada en Quimica Industrial\">Licenciada en Quimica Industrial</option>    value:  Licenciada en Quimica Industrial\n",
      "227     <option value=\"Licenciada en Química y Tecnologia Ambienta\">Licenciada en Química y Tecnologia Ambienta</option>    value:  Licenciada en Química y Tecnologia Ambienta\n",
      "228     <option value=\"Licenciada en Relaciones Industriales\">Licenciada en Relaciones Industriales</option>    value:  Licenciada en Relaciones Industriales\n",
      "229     <option value=\"Licenciada en Tecnología de los alimentos\">Licenciada en Tecnología de los alimentos</option>    value:  Licenciada en Tecnología de los alimentos\n",
      "230     <option value=\"Licenciada en Tecnología Industrial de los Aliment\">Licenciada en Tecnología Industrial de los Aliment</option>    value:  Licenciada en Tecnología Industrial de los Aliment\n",
      "231     <option value=\"licenciada en turismo\">licenciada en turismo</option>    value:  licenciada en turismo\n",
      "232     <option value=\"Licenciada Oceanografía Orientación Química Marina\">Licenciada Oceanografía Orientación Química Marina</option>    value:  Licenciada Oceanografía Orientación Química Marina\n",
      "233     <option value=\"Licenciado en Administración Agraria\">Licenciado en Administración Agraria</option>    value:  Licenciado en Administración Agraria\n",
      "234     <option value=\"LICENCIADO EN ADMINISTRACION DE EMPRESAS.\">LICENCIADO EN ADMINISTRACION DE EMPRESAS.</option>    value:  LICENCIADO EN ADMINISTRACION DE EMPRESAS.\n",
      "235     <option value=\"Licenciado en Analisis de Sistemas\">Licenciado en Analisis de Sistemas</option>    value:  Licenciado en Analisis de Sistemas\n",
      "236     <option value=\"Licenciado en Antropologia\">Licenciado en Antropologia</option>    value:  Licenciado en Antropologia\n",
      "237     <option value=\"Licenciado en Aprovechamiento de Recursos Naturale\">Licenciado en Aprovechamiento de Recursos Naturale</option>    value:  Licenciado en Aprovechamiento de Recursos Naturale\n",
      "238     <option value=\"Licenciado en Biologia\">Licenciado en Biologia</option>    value:  Licenciado en Biologia\n",
      "239     <option value=\"LICENCIADO EN BIOLOGIA or zoologia\">LICENCIADO EN BIOLOGIA or zoologia</option>    value:  LICENCIADO EN BIOLOGIA or zoologia\n",
      "240     <option value=\"LICENCIADO EN BIOLOGIA OR. ECOLOGIA\">LICENCIADO EN BIOLOGIA OR. ECOLOGIA</option>    value:  LICENCIADO EN BIOLOGIA OR. ECOLOGIA\n",
      "241     <option value=\"LICENCIADO EN BIOLOGIA OR. ECOLOGICA\">LICENCIADO EN BIOLOGIA OR. ECOLOGICA</option>    value:  LICENCIADO EN BIOLOGIA OR. ECOLOGICA\n",
      "242     <option value=\"Licenciado en Biología or. Zoologia \">Licenciado en Biología or. Zoologia </option>    value:  Licenciado en Biología or. Zoologia \n",
      "243     <option value=\"Licenciado en Bioquímica\">Licenciado en Bioquímica</option>    value:  Licenciado en Bioquímica\n",
      "244     <option value=\"LICENCIADO EN BIOTECNOLOGIA\">LICENCIADO EN BIOTECNOLOGIA</option>    value:  LICENCIADO EN BIOTECNOLOGIA\n",
      "245     <option value=\"Licenciado en Ciencias Agrarias\">Licenciado en Ciencias Agrarias</option>    value:  Licenciado en Ciencias Agrarias\n",
      "246     <option value=\"Licenciado en Ciencias Ambientales\">Licenciado en Ciencias Ambientales</option>    value:  Licenciado en Ciencias Ambientales\n",
      "247     <option value=\"Licenciado en Ciencias Antropológicas\">Licenciado en Ciencias Antropológicas</option>    value:  Licenciado en Ciencias Antropológicas\n",
      "248     <option value=\"Licenciado en Ciencias Biologicas\">Licenciado en Ciencias Biologicas</option>    value:  Licenciado en Ciencias Biologicas\n",
      "249     <option value=\"LICENCIADO EN CIENCIAS DEL AMBIENTE\">LICENCIADO EN CIENCIAS DEL AMBIENTE</option>    value:  LICENCIADO EN CIENCIAS DEL AMBIENTE\n",
      "250     <option value=\"Licenciado en Ciencias Fisicas\">Licenciado en Ciencias Fisicas</option>    value:  Licenciado en Ciencias Fisicas\n",
      "251     <option value=\"LICENCIADO EN CIENCIAS GEOLOGICAS\">LICENCIADO EN CIENCIAS GEOLOGICAS</option>    value:  LICENCIADO EN CIENCIAS GEOLOGICAS\n",
      "252     <option value=\"Licenciado en Ciencias Oceonografia\">Licenciado en Ciencias Oceonografia</option>    value:  Licenciado en Ciencias Oceonografia\n",
      "253     <option value=\"LICENCIADO EN COMUNICACION SOCIAL \">LICENCIADO EN COMUNICACION SOCIAL </option>    value:  LICENCIADO EN COMUNICACION SOCIAL \n",
      "254     <option value=\"Licenciado en Comunicación Social\">Licenciado en Comunicación Social</option>    value:  Licenciado en Comunicación Social\n",
      "255     <option value=\"LICENCIADO EN CRIMINALISTA\">LICENCIADO EN CRIMINALISTA</option>    value:  LICENCIADO EN CRIMINALISTA\n",
      "256     <option value=\"Licenciado en Cs.Quimicas\">Licenciado en Cs.Quimicas</option>    value:  Licenciado en Cs.Quimicas\n",
      "257     <option value=\"LICENCIADO EN DIAG. Y GESTION AMBIENTAL\">LICENCIADO EN DIAG. Y GESTION AMBIENTAL</option>    value:  LICENCIADO EN DIAG. Y GESTION AMBIENTAL\n",
      "258     <option value=\"Licenciado en Diagnostico y Gestion Ambiental\">Licenciado en Diagnostico y Gestion Ambiental</option>    value:  Licenciado en Diagnostico y Gestion Ambiental\n",
      "259     <option value=\"Licenciado en Diagnóstico y Gestión Ambiental\">Licenciado en Diagnóstico y Gestión Ambiental</option>    value:  Licenciado en Diagnóstico y Gestión Ambiental\n",
      "260     <option value=\"Licenciado en Ecología\">Licenciado en Ecología</option>    value:  Licenciado en Ecología\n",
      "261     <option value=\"Licenciado en Ecologia Urbana\">Licenciado en Ecologia Urbana</option>    value:  Licenciado en Ecologia Urbana\n",
      "262     <option value=\"Licenciado en Economía\">Licenciado en Economía</option>    value:  Licenciado en Economía\n",
      "263     <option value=\"Licenciado en Economia Agropecuaria\">Licenciado en Economia Agropecuaria</option>    value:  Licenciado en Economia Agropecuaria\n",
      "264     <option value=\"Licenciado en Edafología\">Licenciado en Edafología</option>    value:  Licenciado en Edafología\n",
      "265     <option value=\"Licenciado en Enseñanza de ciencias del ambiente\">Licenciado en Enseñanza de ciencias del ambiente</option>    value:  Licenciado en Enseñanza de ciencias del ambiente\n",
      "266     <option value=\"Licenciado en Gelogía\">Licenciado en Gelogía</option>    value:  Licenciado en Gelogía\n",
      "267     <option value=\"LICENCIADO EN GEOGRAFIA\">LICENCIADO EN GEOGRAFIA</option>    value:  LICENCIADO EN GEOGRAFIA\n",
      "268     <option value=\"Licenciado en Geografía\">Licenciado en Geografía</option>    value:  Licenciado en Geografía\n",
      "269     <option value=\"LICENCIADO EN GEOLOGIA\">LICENCIADO EN GEOLOGIA</option>    value:  LICENCIADO EN GEOLOGIA\n",
      "270     <option value=\"Licenciado en Geología\">Licenciado en Geología</option>    value:  Licenciado en Geología\n",
      "271     <option value=\"Licenciado en Gerenciamiento Ambiental\">Licenciado en Gerenciamiento Ambiental</option>    value:  Licenciado en Gerenciamiento Ambiental\n",
      "272     <option value=\"Licenciado en Gestiòn Ambiental\">Licenciado en Gestiòn Ambiental</option>    value:  Licenciado en Gestiòn Ambiental\n",
      "273     <option value=\"Licenciado en Gestion Ambiental Urbano\">Licenciado en Gestion Ambiental Urbano</option>    value:  Licenciado en Gestion Ambiental Urbano\n",
      "274     <option value=\"LICENCIADO EN H. Y SEG. EN EL TRAB. ESP. EN P. AMB\">LICENCIADO EN H. Y SEG. EN EL TRAB. ESP. EN P. AMB</option>    value:  LICENCIADO EN H. Y SEG. EN EL TRAB. ESP. EN P. AMB\n",
      "275     <option value=\"Licenciado en Higiene y Seguridad  en el Trabajo\">Licenciado en Higiene y Seguridad  en el Trabajo</option>    value:  Licenciado en Higiene y Seguridad  en el Trabajo\n",
      "276     <option value=\"LICENCIADO EN HIGIENE Y SEGURIDAD LABORAL\">LICENCIADO EN HIGIENE Y SEGURIDAD LABORAL</option>    value:  LICENCIADO EN HIGIENE Y SEGURIDAD LABORAL\n",
      "277     <option value=\"LICENCIADO EN INFORMACION AMBIENTAL\">LICENCIADO EN INFORMACION AMBIENTAL</option>    value:  LICENCIADO EN INFORMACION AMBIENTAL\n",
      "278     <option value=\"Licenciado en Informatica Ambiental\">Licenciado en Informatica Ambiental</option>    value:  Licenciado en Informatica Ambiental\n",
      "279     <option value=\"LICENCIADO EN ORGANIZACION INDUSTRIAL\">LICENCIADO EN ORGANIZACION INDUSTRIAL</option>    value:  LICENCIADO EN ORGANIZACION INDUSTRIAL\n",
      "280     <option value=\"Licenciado en Organizaciòn Industrial\">Licenciado en Organizaciòn Industrial</option>    value:  Licenciado en Organizaciòn Industrial\n",
      "281     <option value=\"Licenciado en Química\">Licenciado en Química</option>    value:  Licenciado en Química\n",
      "282     <option value=\"LICENCIADO EN QUIMICA INDUSTRIAL\">LICENCIADO EN QUIMICA INDUSTRIAL</option>    value:  LICENCIADO EN QUIMICA INDUSTRIAL\n",
      "283     <option value=\"LICENCIADO EN RELACIONES DEL TRABAJO\">LICENCIADO EN RELACIONES DEL TRABAJO</option>    value:  LICENCIADO EN RELACIONES DEL TRABAJO\n",
      "284     <option value=\"LICENCIADO EN SANEAMIENTO AMBIENTAL \">LICENCIADO EN SANEAMIENTO AMBIENTAL </option>    value:  LICENCIADO EN SANEAMIENTO AMBIENTAL \n",
      "285     <option value=\"LICENCIADO EN SANEAMIENTO Y PROTECCION AMBIENTAL\">LICENCIADO EN SANEAMIENTO Y PROTECCION AMBIENTAL</option>    value:  LICENCIADO EN SANEAMIENTO Y PROTECCION AMBIENTAL\n",
      "286     <option value=\"Licenciado en Seguridad e Higiene en el Trabajo\">Licenciado en Seguridad e Higiene en el Trabajo</option>    value:  Licenciado en Seguridad e Higiene en el Trabajo\n",
      "287     <option value=\"Licenciado en Seguridad Higiene y Control Ambienta\">Licenciado en Seguridad Higiene y Control Ambienta</option>    value:  Licenciado en Seguridad Higiene y Control Ambienta\n",
      "288     <option value=\"LICENCIADO EN SEGURIDAD Y SALUD OCUPACIONAL\">LICENCIADO EN SEGURIDAD Y SALUD OCUPACIONAL</option>    value:  LICENCIADO EN SEGURIDAD Y SALUD OCUPACIONAL\n",
      "289     <option value=\"Licenciado en Seguridad, Higiene y Control Ambient\">Licenciado en Seguridad, Higiene y Control Ambient</option>    value:  Licenciado en Seguridad, Higiene y Control Ambient\n",
      "290     <option value=\"Licenciado en Sistemas de Protección Contra Sinies\">Licenciado en Sistemas de Protección Contra Sinies</option>    value:  Licenciado en Sistemas de Protección Contra Sinies\n",
      "291     <option value=\"Licenciado en Sociología\">Licenciado en Sociología</option>    value:  Licenciado en Sociología\n",
      "292     <option value=\"Licenciado en Tecnologia Ambiental\">Licenciado en Tecnologia Ambiental</option>    value:  Licenciado en Tecnologia Ambiental\n",
      "293     <option value=\"Licenciado en Trabajo Social\">Licenciado en Trabajo Social</option>    value:  Licenciado en Trabajo Social\n",
      "294     <option value=\"Licenciado en Transporte y Logística Operativa\">Licenciado en Transporte y Logística Operativa</option>    value:  Licenciado en Transporte y Logística Operativa\n",
      "295     <option value=\"Licenciado en Zoología\">Licenciado en Zoología</option>    value:  Licenciado en Zoología\n",
      "296     <option value=\"Licenciado Eugenista Humanologo\">Licenciado Eugenista Humanologo</option>    value:  Licenciado Eugenista Humanologo\n",
      "297     <option value=\"Licenciano de Seguridad\">Licenciano de Seguridad</option>    value:  Licenciano de Seguridad\n",
      "298     <option value=\"LICENCIATURA DE SEGURIDAD\">LICENCIATURA DE SEGURIDAD</option>    value:  LICENCIATURA DE SEGURIDAD\n",
      "299     <option value=\"Licenciatura en AnÃ¡lisis ClÃ­nicos y BioquÃ­mica\">Licenciatura en AnÃ¡lisis ClÃ­nicos y BioquÃ­mica</option>    value:  Licenciatura en AnÃ¡lisis ClÃ­nicos y BioquÃ­mica\n",
      "300     <option value=\"LICENCIATURA EN GERENCIAMIENTO AMBIENTAL\">LICENCIATURA EN GERENCIAMIENTO AMBIENTAL</option>    value:  LICENCIATURA EN GERENCIAMIENTO AMBIENTAL\n",
      "301     <option value=\"LICENCIATURA EN SEGURIDAD Y SALUD OCUPACIONAL\">LICENCIATURA EN SEGURIDAD Y SALUD OCUPACIONAL</option>    value:  LICENCIATURA EN SEGURIDAD Y SALUD OCUPACIONAL\n",
      "302     <option value=\"Licencioado en Geoquimica\">Licencioado en Geoquimica</option>    value:  Licencioado en Geoquimica\n",
      "303     <option value=\"Liicenciatura en Información Ambiental\">Liicenciatura en Información Ambiental</option>    value:  Liicenciatura en Información Ambiental\n",
      "304     <option value=\"MAESTRIA EN ADMINISTRACION DE EMPRESAS\">MAESTRIA EN ADMINISTRACION DE EMPRESAS</option>    value:  MAESTRIA EN ADMINISTRACION DE EMPRESAS\n",
      "305     <option value=\"MAESTRIA EN AMBIENTE Y DESARROLLO SUSTENTABLE\">MAESTRIA EN AMBIENTE Y DESARROLLO SUSTENTABLE</option>    value:  MAESTRIA EN AMBIENTE Y DESARROLLO SUSTENTABLE\n",
      "306     <option value=\"Maestría en Ciencias Ambientales\">Maestría en Ciencias Ambientales</option>    value:  Maestría en Ciencias Ambientales\n",
      "307     <option value=\"MAESTRIA EN GESTION AMBIENTAL\">MAESTRIA EN GESTION AMBIENTAL</option>    value:  MAESTRIA EN GESTION AMBIENTAL\n",
      "308     <option value=\"MAESTRIA EN HIGIENE Y SEGURIDAD EN EL TRABAJO\">MAESTRIA EN HIGIENE Y SEGURIDAD EN EL TRABAJO</option>    value:  MAESTRIA EN HIGIENE Y SEGURIDAD EN EL TRABAJO\n",
      "309     <option value=\"MAESTRIA EN MANEJO AMBIENTAL DE SISTEMAS HIDRICOS\">MAESTRIA EN MANEJO AMBIENTAL DE SISTEMAS HIDRICOS</option>    value:  MAESTRIA EN MANEJO AMBIENTAL DE SISTEMAS HIDRICOS\n",
      "310     <option value=\"Maestro  Mayor de Obras\">Maestro  Mayor de Obras</option>    value:  Maestro  Mayor de Obras\n",
      "311     <option value=\"MAGISTER EN ESTUDIOS AMBIENTALES \">MAGISTER EN ESTUDIOS AMBIENTALES </option>    value:  MAGISTER EN ESTUDIOS AMBIENTALES \n",
      "312     <option value=\"MAGISTER EN GESTION AMBIENTAL DEL DESARROLLO URBAN\">MAGISTER EN GESTION AMBIENTAL DEL DESARROLLO URBAN</option>    value:  MAGISTER EN GESTION AMBIENTAL DEL DESARROLLO URBAN\n",
      "313     <option value=\"Magister en Ingenieria Ambiental\">Magister en Ingenieria Ambiental</option>    value:  Magister en Ingenieria Ambiental\n",
      "314     <option value=\"Martillero y Corredor Publico\">Martillero y Corredor Publico</option>    value:  Martillero y Corredor Publico\n",
      "315     <option value=\"Master en Gestion y Auditorias Ambientales\">Master en Gestion y Auditorias Ambientales</option>    value:  Master en Gestion y Auditorias Ambientales\n",
      "316     <option value=\"MASTER EN INGENIERIA AMBIENTAL DE LA EMPRESA\">MASTER EN INGENIERIA AMBIENTAL DE LA EMPRESA</option>    value:  MASTER EN INGENIERIA AMBIENTAL DE LA EMPRESA\n",
      "317     <option value=\"Master en Seguridad Industrial\">Master en Seguridad Industrial</option>    value:  Master en Seguridad Industrial\n",
      "318     <option value=\"Master Lic. en Amb. del Desarrolo Urbano   \">Master Lic. en Amb. del Desarrolo Urbano   </option>    value:  Master Lic. en Amb. del Desarrolo Urbano   \n",
      "319     <option value=\"Master Universitario en Gestion y Auditoria Ambie \">Master Universitario en Gestion y Auditoria Ambie </option>    value:  Master Universitario en Gestion y Auditoria Ambie \n",
      "320     <option value=\"Médico\">Médico</option>    value:  Médico\n",
      "321     <option value=\"Meteorólogo\">Meteorólogo</option>    value:  Meteorólogo\n",
      "322     <option value=\"Muestreador (Curso RENATOM)\">Muestreador (Curso RENATOM)</option>    value:  Muestreador (Curso RENATOM)\n",
      "323     <option value=\"Muestreador (Curso RETOMA)\">Muestreador (Curso RETOMA)</option>    value:  Muestreador (Curso RETOMA)\n",
      "324     <option value=\"No posee colegio\">No posee colegio</option>    value:  No posee colegio\n",
      "325     <option value=\"Oceanografo\">Oceanografo</option>    value:  Oceanografo\n",
      "326     <option value=\"ODONTOLOGA\">ODONTOLOGA</option>    value:  ODONTOLOGA\n",
      "327     <option value=\"Orientacion Mecanica\">Orientacion Mecanica</option>    value:  Orientacion Mecanica\n",
      "328     <option value=\"Posgrado - INGENIERIA AMBIENTAL\">Posgrado - INGENIERIA AMBIENTAL</option>    value:  Posgrado - INGENIERIA AMBIENTAL\n",
      "329     <option value=\"Posgrado en Hig. y Seg. en el Trab\">Posgrado en Hig. y Seg. en el Trab</option>    value:  Posgrado en Hig. y Seg. en el Trab\n",
      "330     <option value=\"post grado en gestión ambiental\">post grado en gestión ambiental</option>    value:  post grado en gestión ambiental\n",
      "331     <option value=\"PROCURADORA\">PROCURADORA</option>    value:  PROCURADORA\n",
      "332     <option value=\"Profesora en Geografía\">Profesora en Geografía</option>    value:  Profesora en Geografía\n",
      "333     <option value=\"Programa de Gestión Ambiental\">Programa de Gestión Ambiental</option>    value:  Programa de Gestión Ambiental\n",
      "334     <option value=\"Programa de Gestiòn Ambiental\">Programa de Gestiòn Ambiental</option>    value:  Programa de Gestiòn Ambiental\n",
      "335     <option value=\"proyecto de instalaciones hospitalarias\">proyecto de instalaciones hospitalarias</option>    value:  proyecto de instalaciones hospitalarias\n",
      "336     <option value=\"QUIMICA (Carrera Bioquimica)\">QUIMICA (Carrera Bioquimica)</option>    value:  QUIMICA (Carrera Bioquimica)\n",
      "337     <option value=\"QUIMICO\">QUIMICO</option>    value:  QUIMICO\n",
      "338     <option value=\"saneamiento proteccion ambiental\">saneamiento proteccion ambiental</option>    value:  saneamiento proteccion ambiental\n",
      "339     <option value=\"tec sup en seg e higiene en el trabajo . \">tec sup en seg e higiene en el trabajo . </option>    value:  tec sup en seg e higiene en el trabajo . \n",
      "340     <option value=\"TEC. SUP. EN MED. AMB. MARINO Y COSTERO\">TEC. SUP. EN MED. AMB. MARINO Y COSTERO</option>    value:  TEC. SUP. EN MED. AMB. MARINO Y COSTERO\n",
      "341     <option value=\"Tec. Sup. en Seg., Hig. y Control Amb. Ind.\">Tec. Sup. en Seg., Hig. y Control Amb. Ind.</option>    value:  Tec. Sup. en Seg., Hig. y Control Amb. Ind.\n",
      "342     <option value=\"Tec. Superior en Hig. y Seg. en el Trabajo\">Tec. Superior en Hig. y Seg. en el Trabajo</option>    value:  Tec. Superior en Hig. y Seg. en el Trabajo\n",
      "343     <option value=\"Tec. Superior en Manejo Ambiental\">Tec. Superior en Manejo Ambiental</option>    value:  Tec. Superior en Manejo Ambiental\n",
      "344     <option value=\"Tec. Universitario en Gestión Ambiental Urbana\">Tec. Universitario en Gestión Ambiental Urbana</option>    value:  Tec. Universitario en Gestión Ambiental Urbana\n",
      "345     <option value=\"TECNICA MAESTRO MAYOR DE OBRAS\">TECNICA MAESTRO MAYOR DE OBRAS</option>    value:  TECNICA MAESTRO MAYOR DE OBRAS\n",
      "346     <option value=\"Tecnica Superior en Gestiòn Ambiental\">Tecnica Superior en Gestiòn Ambiental</option>    value:  Tecnica Superior en Gestiòn Ambiental\n",
      "347     <option value=\"Tecnica Univ. en Informacion Ambiental\">Tecnica Univ. en Informacion Ambiental</option>    value:  Tecnica Univ. en Informacion Ambiental\n",
      "348     <option value=\"TECNICATURA SUPERIOR EN GESTION AMBIENTAL Y SALUD\">TECNICATURA SUPERIOR EN GESTION AMBIENTAL Y SALUD</option>    value:  TECNICATURA SUPERIOR EN GESTION AMBIENTAL Y SALUD\n",
      "349     <option value=\"Tecnico  Mecanico\">Tecnico  Mecanico</option>    value:  Tecnico  Mecanico\n",
      "350     <option value=\"Tecnico  Saneamiento Ambiental\">Tecnico  Saneamiento Ambiental</option>    value:  Tecnico  Saneamiento Ambiental\n",
      "351     <option value=\"Tecnico Analista Ambiental\">Tecnico Analista Ambiental</option>    value:  Tecnico Analista Ambiental\n",
      "352     <option value=\"tecnico constructor\">tecnico constructor</option>    value:  tecnico constructor\n",
      "353     <option value=\"Técnico Electrónico\">Técnico Electrónico</option>    value:  Técnico Electrónico\n",
      "354     <option value=\"TECNICO EN E. Y INST. ELECTROMECANICAS\">TECNICO EN E. Y INST. ELECTROMECANICAS</option>    value:  TECNICO EN E. Y INST. ELECTROMECANICAS\n",
      "355     <option value=\"Técnico en Electromecanica\">Técnico en Electromecanica</option>    value:  Técnico en Electromecanica\n",
      "356     <option value=\"TECNICO EN EQUIPOS E INST. ELECTROMECANICAS\">TECNICO EN EQUIPOS E INST. ELECTROMECANICAS</option>    value:  TECNICO EN EQUIPOS E INST. ELECTROMECANICAS\n",
      "357     <option value=\"Tecnico en Gerenciamiento Ambiental\">Tecnico en Gerenciamiento Ambiental</option>    value:  Tecnico en Gerenciamiento Ambiental\n",
      "358     <option value=\"TECNICO EN INDUSTRIAS DE LA ALIMENTACION ORI.PESCA\">TECNICO EN INDUSTRIAS DE LA ALIMENTACION ORI.PESCA</option>    value:  TECNICO EN INDUSTRIAS DE LA ALIMENTACION ORI.PESCA\n",
      "359     <option value=\"TECNICO EN INDUSTRIAS DE PROCESOS\">TECNICO EN INDUSTRIAS DE PROCESOS</option>    value:  TECNICO EN INDUSTRIAS DE PROCESOS\n",
      "360     <option value=\"Técnico en la Cadena de Carnes\">Técnico en la Cadena de Carnes</option>    value:  Técnico en la Cadena de Carnes\n",
      "361     <option value=\"Técnico en Meteorología Sinóptica\">Técnico en Meteorología Sinóptica</option>    value:  Técnico en Meteorología Sinóptica\n",
      "362     <option value=\"Tecnico en Seguridad e Higiene\">Tecnico en Seguridad e Higiene</option>    value:  Tecnico en Seguridad e Higiene\n",
      "363     <option value=\"Tecnico en Seguridad Industrial \">Tecnico en Seguridad Industrial </option>    value:  Tecnico en Seguridad Industrial \n",
      "364     <option value=\"TECNICO EN SONIDO ESP EN DISEÑO DE INST. ACUSTICAS\">TECNICO EN SONIDO ESP EN DISEÑO DE INST. ACUSTICAS</option>    value:  TECNICO EN SONIDO ESP EN DISEÑO DE INST. ACUSTICAS\n",
      "365     <option value=\"TECNICO FORESTAL\">TECNICO FORESTAL</option>    value:  TECNICO FORESTAL\n",
      "366     <option value=\"Técnico Mecánico \">Técnico Mecánico </option>    value:  Técnico Mecánico \n",
      "367     <option value=\"Tecnico Mecanico Electricista\">Tecnico Mecanico Electricista</option>    value:  Tecnico Mecanico Electricista\n",
      "368     <option value=\"Tècnico Mecanico Electricista\">Tècnico Mecanico Electricista</option>    value:  Tècnico Mecanico Electricista\n",
      "369     <option value=\"Técnico Químico\">Técnico Químico</option>    value:  Técnico Químico\n",
      "370     <option value=\"Técnico sup. en gestion Ambiental\">Técnico sup. en gestion Ambiental</option>    value:  Técnico sup. en gestion Ambiental\n",
      "371     <option value=\"TECNICO SUPERIOR AGRARIO EN SUELOS Y AGUAS\">TECNICO SUPERIOR AGRARIO EN SUELOS Y AGUAS</option>    value:  TECNICO SUPERIOR AGRARIO EN SUELOS Y AGUAS\n",
      "372     <option value=\"TECNICO SUPERIOR EN BROMATOLOGIA\">TECNICO SUPERIOR EN BROMATOLOGIA</option>    value:  TECNICO SUPERIOR EN BROMATOLOGIA\n",
      "373     <option value=\"Tecnico Superior en Ecologia\">Tecnico Superior en Ecologia</option>    value:  Tecnico Superior en Ecologia\n",
      "374     <option value=\"TECNICO SUPERIOR EN MANEJO AMBIENTAL\">TECNICO SUPERIOR EN MANEJO AMBIENTAL</option>    value:  TECNICO SUPERIOR EN MANEJO AMBIENTAL\n",
      "375     <option value=\"Técnico Superior en Seg. Higiene y Control Amb.\">Técnico Superior en Seg. Higiene y Control Amb.</option>    value:  Técnico Superior en Seg. Higiene y Control Amb.\n",
      "376     <option value=\"Tecnico Superior en Seguridad e Higiene en el Trab\">Tecnico Superior en Seguridad e Higiene en el Trab</option>    value:  Tecnico Superior en Seguridad e Higiene en el Trab\n",
      "377     <option value=\"Técnico Superior en Seguridad e Higiene Industrial\">Técnico Superior en Seguridad e Higiene Industrial</option>    value:  Técnico Superior en Seguridad e Higiene Industrial\n",
      "378     <option value=\"Técnico Superior en Seguridad, Higiene y Control A\">Técnico Superior en Seguridad, Higiene y Control A</option>    value:  Técnico Superior en Seguridad, Higiene y Control A\n",
      "379     <option value=\"Tecnico Superior en Seguridad, Higiene y ControlAm\">Tecnico Superior en Seguridad, Higiene y ControlAm</option>    value:  Tecnico Superior en Seguridad, Higiene y ControlAm\n",
      "380     <option value=\"tecnico superior en turismo\">tecnico superior en turismo</option>    value:  tecnico superior en turismo\n",
      "381     <option value=\"TECNICO UNIVERSITARIO EN GERENCIAMIENTO AMBIENTAL\">TECNICO UNIVERSITARIO EN GERENCIAMIENTO AMBIENTAL</option>    value:  TECNICO UNIVERSITARIO EN GERENCIAMIENTO AMBIENTAL\n",
      "382     <option value=\"TECNICO UNIVERSITARIO EN GESTION AMBIENTAL\">TECNICO UNIVERSITARIO EN GESTION AMBIENTAL</option>    value:  TECNICO UNIVERSITARIO EN GESTION AMBIENTAL\n",
      "383     <option value=\"Técnico Universitario en Gestión Ambiental\">Técnico Universitario en Gestión Ambiental</option>    value:  Técnico Universitario en Gestión Ambiental\n",
      "384     <option value=\"TECNICO UNIVERSITARIO EN HIGIENE Y SEGURIDAD EN EL\">TECNICO UNIVERSITARIO EN HIGIENE Y SEGURIDAD EN EL</option>    value:  TECNICO UNIVERSITARIO EN HIGIENE Y SEGURIDAD EN EL\n",
      "385     <option value=\"Técnico Universitario en Higiene y Seguridad Labor\">Técnico Universitario en Higiene y Seguridad Labor</option>    value:  Técnico Universitario en Higiene y Seguridad Labor\n",
      "386     <option value=\"TECNICO UNIVERSITARIO EN INFORMACION AMBIENTAL\">TECNICO UNIVERSITARIO EN INFORMACION AMBIENTAL</option>    value:  TECNICO UNIVERSITARIO EN INFORMACION AMBIENTAL\n",
      "387     <option value=\"TECNICO UNIVERSITARIO EN MEDIO AMBIENTE\">TECNICO UNIVERSITARIO EN MEDIO AMBIENTE</option>    value:  TECNICO UNIVERSITARIO EN MEDIO AMBIENTE\n",
      "388     <option value=\"Veterinario\">Veterinario</option>    value:  Veterinario\n",
      "389     <option value=\"Zoólogo\">Zoólogo</option>    value:  Zoólogo\n",
      "390     <option value=\"0\">-- Seleccione --</option>    value:  0\n",
      "391     <option value=\"1\">BUENOS AIRES</option>    value:  1\n",
      "392     <option value=\"22\">CATAMARCA</option>    value:  22\n",
      "393     <option value=\"5\">CHACO</option>    value:  5\n",
      "394     <option value=\"17\">CHUBUT</option>    value:  17\n",
      "395     <option value=\"14\">CORDOBA</option>    value:  14\n",
      "396     <option value=\"4\">CORRIENTES</option>    value:  4\n",
      "397     <option value=\"2\">ENTRE RIOS</option>    value:  2\n",
      "398     <option value=\"6\">FORMOSA</option>    value:  6\n",
      "399     <option value=\"8\">JUJUY</option>    value:  8\n",
      "400     <option value=\"13\">LA PAMPA</option>    value:  13\n",
      "401     <option value=\"23\">LA RIOJA</option>    value:  23\n",
      "402     <option value=\"11\">MENDOZA</option>    value:  11\n",
      "403     <option value=\"7\">MISIONES</option>    value:  7\n",
      "404     <option value=\"15\">NEUQUÉN</option>    value:  15\n",
      "405     <option value=\"16\">RÍO NEGRO</option>    value:  16\n",
      "406     <option value=\"9\">SALTA</option>    value:  9\n",
      "407     <option value=\"10\">SAN JUAN</option>    value:  10\n",
      "408     <option value=\"12\">SAN LUIS</option>    value:  12\n",
      "409     <option value=\"18\">SANTA CRUZ</option>    value:  18\n",
      "410     <option value=\"3\">SANTA FE</option>    value:  3\n",
      "411     <option value=\"21\">SANTIAGO DEL ESTERO</option>    value:  21\n",
      "412     <option value=\"19\">TIERRA DEL FUEGO</option>    value:  19\n",
      "413     <option value=\"20\">TUCUMÁN</option>    value:  20\n",
      "414     <option value=\"0\">-- Seleccione Partido --</option>    value:  0\n",
      "415     <option value=\"0\">-- Seleccione Localidad --</option>    value:  0\n"
     ]
    }
   ],
   "source": [
    "\n",
    "url=\"http://sistemas.opds.gba.gov.ar/intra/Profesionales/ConsultaWeb.php\"\n",
    "html_content = requests.get(url).text\n",
    "soup = BeautifulSoup(html_content, \"lxml\")\n",
    "options = soup.find_all(\"option\")\n",
    "for k, i in enumerate(options):\n",
    "    print(k,\"   \", i,\"   value: \", i.get(\"value\"))"
   ]
  },
  {
   "cell_type": "code",
   "execution_count": 7,
   "metadata": {},
   "outputs": [
    {
     "name": "stdout",
     "output_type": "stream",
     "text": [
      "  <html>\r\n",
      "<head>\r\n",
      "<title>Registro de Profesionales</title>\r\n",
      "<meta http-equiv=\"Content-Type\" content=\"text/html; charset=iso-8859-1\">\r\n",
      "<link rel=\"stylesheet\" type=\"text/css\" href=\"../EstiloNuevo/general.css\" />\r\n",
      "\r\n",
      "\r\n",
      "\r\n",
      "</head>\r\n",
      "\r\n",
      "\t<script>\r\n",
      "\tfunction solonumeros() {\r\n",
      "\t\tif ((event.keyCode < 48) || (event.keyCode > 57)) \r\n",
      "\t\t{\t\r\n",
      "\t\t\tevent.returnValue = false;\r\n",
      "\t\t}\r\n",
      "\t} // end function \r\n",
      "\r\n",
      "\r\n",
      "function validar(){\r\n",
      "\t   mensaje='';\r\n",
      "\r\n",
      "    var indice = document.formMovim.sltAreas.selectedIndex;  \r\n",
      "    var tipoarea = document.formMovim.sltAreas.options[indice].value;\r\n",
      "    if (tipoarea == ''){ mensaje='Debe seleccionar el Area del cual decea Recibir los Expedientes'; } \r\n",
      "\tif (formMovim.numRemito.value == ''){ mensaje='Debe seleccionar un Remito'; }   \r\n",
      "    \r\n",
      "\r\n",
      "\t\t  if (mensaje!=''){\r\n",
      "  \t\t\t  alert(mensaje);\r\n",
      "\t\t     return false;\r\n",
      "\t\t  }else{ return true;}\r\n",
      "\t}\r\n",
      "\r\n",
      "\r\n",
      "</script>\r\n",
      "<body>\r\n",
      "<p>\r\n",
      "    <br>\r\n",
      "</p>\r\n",
      "<table width=\"1100\" border=\"0\" align=\"center\" class=\"tabla\">\r\n",
      "  <tr>\r\n",
      "    <td><img src=\"../../Imagenes/header_opds.jpg\" width=\"1100\" height=\"134\"></td>\r\n",
      "  </tr>\r\n",
      "</table>\r\n",
      "<form name=\"frmBuscaProf\" method=\"post\" action=\"ConsultaWeb.php\">\r\n",
      "  <table width=\"1100\" border=\"0\" align=\"center\" class=\"tabla\">\r\n",
      "    <tr>\r\n",
      "      <td width=\"848\" class=\"estilo-titulos-principales\">B&Uacute;SQUEDA DE PROFESIONALES</td>\r\n",
      "    </tr>\r\n",
      "  </table>\r\n",
      "  <br>\r\n",
      "  <table width=\"1100\"  border=\"0\" align=\"center\" class=\"tabla\">\r\n",
      "  <tr>\r\n",
      " <td width=\"15%\" class=\"FontNormal\">Registro:</td>\r\n",
      " <td colspan=\"3\" class=\"FontNormal\"><select name=\"sltRegistro\">\r\n",
      "  <option value=\"0\">-- Seleccione Registro --</option>\r\n",
      "  <option value='3' >Consultoras de Evaluación</option><option value='1' >Profesionales de Aparatos Sometidos A Presión</option><option value='2' >Profesionales de Evaluación</option><option value='13' >Técnicos de Aparatos Sometidos a Presión</option></select></td>\r\n",
      " </tr>\r\n",
      " <tr class=\"FontNormal\">\r\n",
      "  <td width=\"15%\"> <span class=\"FontNormal\">Nro Profesional: </span></td>\r\n",
      "  <td width=\"35%\"> <input name=\"txtNroProf\" type=\"text\" onKeyPress=\"solonumeros();\" value=\"\" size=\"8\" maxlength=\"8\"></td>\r\n",
      "   <td width=\"15%\" class=\"FontNormal\">Nro Documento:</td>\t\r\n",
      "      <td width=\"35%\"><input name=\"txtDNIBusca\" type=\"text\" onKeyPress=\"solonumeros();\" value=\"\" size=\"9\" maxlength=\"9\"> \r\n",
      "</td>\r\n",
      "\t\t\r\n",
      " </tr>\r\n",
      "<tr class=\"FontNormal\">\r\n",
      "   <td width=\"15%\"> <span class=\"FontNormal\">Apellido: </span></td>\r\n",
      "   <td width=\"35%\"><input name=\"txtApellidoBusca\" type=\"text\"  value=\"\" size=\"37\"></td>\r\n",
      "   <td width=\"15%\" class=\"FontNormal\">Nombre:</td>\r\n",
      "    <td width=\"35%\"><input name=\"txtNombre\" type=\"text\"  value=\"\" size=\"37\"></td>\r\n",
      "</tr>\r\n",
      "  <tr class=\"FontNormal\">\r\n",
      "\t<td class=\"FontNormal\">Título: </td>\r\n",
      "\t<td class=\"FontNormal\">\r\n",
      "\t  <select name=\"sltTitulo\" class=\"FontNormal\">\r\n",
      "      <option value=\"nada\">-- Seleccione Título --</option>\r\n",
      "      <option value='\tLIC. SEGURIDAD E HIGIENE Y CONTROL AMBIENTAL ' >\tLIC. SEGURIDAD E HIGIENE Y CONTROL AMBIENTAL </option><option value='ABOGADA' >ABOGADA</option><option value='Abogado' >Abogado</option><option value='Agrimensor' >Agrimensor</option><option value='Agrónomo' >Agrónomo</option><option value='Analista de Sistemas' >Analista de Sistemas</option><option value='ANALISTA ECOLOGICO' >ANALISTA ECOLOGICO</option><option value='Analista Ecológico' >Analista Ecológico</option><option value='Analista Ecológico y en  Contaminación' >Analista Ecológico y en  Contaminación</option><option value='Analista en Ciencias Ambientales' >Analista en Ciencias Ambientales</option><option value='Analista en Contaminación y Analista Ecológico' >Analista en Contaminación y Analista Ecológico</option><option value='ANALISTA UNIVERSITARIO EN MONITOREO DEL AMBIENTE' >ANALISTA UNIVERSITARIO EN MONITOREO DEL AMBIENTE</option><option value='Antropologa' >Antropologa</option><option value='Arquitecta' >Arquitecta</option><option value='Arquitecto' >Arquitecto</option><option value='Artillero y corredor Publico' >Artillero y corredor Publico</option><option value='BIOLOGA' >BIOLOGA</option><option value='Biologo' >Biologo</option><option value='Bioquímico' >Bioquímico</option><option value='con orientacion en botanica' >con orientacion en botanica</option><option value='Contador' >Contador</option><option value='Curso de Evaluacion de Impacto Ambiental y Proyect' >Curso de Evaluacion de Impacto Ambiental y Proyect</option><option value='curso de psgrado en EIA' >curso de psgrado en EIA</option><option value='CURSO DE PUESTA A TIERRA DE PLANTAS INDUSTRIALES' >CURSO DE PUESTA A TIERRA DE PLANTAS INDUSTRIALES</option><option value='Curso EIA y Proyecto Urbano' >Curso EIA y Proyecto Urbano</option><option value='Diseñador Industrial' >Diseñador Industrial</option><option value='diseño en areas esteriles ' >diseño en areas esteriles </option><option value='Doctor de la Univ. Bs.As. área Ingeniería' >Doctor de la Univ. Bs.As. área Ingeniería</option><option value='Doctor en Ciencias del Mar' >Doctor en Ciencias del Mar</option><option value='Doctor en Ciencias Naturales' >Doctor en Ciencias Naturales</option><option value='Doctor en Ciencias Veterinarias ' >Doctor en Ciencias Veterinarias </option><option value='Doctorado en Ciencias Quimica' >Doctorado en Ciencias Quimica</option><option value='DR EN QUIMICA' >DR EN QUIMICA</option><option value='E. en Seguridad, Higiene y Protección Ambiental' >E. en Seguridad, Higiene y Protección Ambiental</option><option value='Ecólogo' >Ecólogo</option><option value='Esp en Hig Ambiental' >Esp en Hig Ambiental</option><option value='Esp. en Eval. de Contaminación Amb.               ' >Esp. en Eval. de Contaminación Amb.               </option><option value='Esp. en Gestion Ambiental' >Esp. en Gestion Ambiental</option><option value='Esp. en Higiene y Seguridad en el Trabajo Agrario' >Esp. en Higiene y Seguridad en el Trabajo Agrario</option><option value='ESP. HIGIENE Y SEG.LAB.INDUST. DE LA CONST.' >ESP. HIGIENE Y SEG.LAB.INDUST. DE LA CONST.</option><option value='Esp. Seg. e Higiene' >Esp. Seg. e Higiene</option><option value='Esp. Seg.e Higiene' >Esp. Seg.e Higiene</option><option value='ESPCIALISTA EN PLANEAMIENTO P. Y AMB.' >ESPCIALISTA EN PLANEAMIENTO P. Y AMB.</option><option value='Espec. en Hig y Seg en el Trab Agra' >Espec. en Hig y Seg en el Trab Agra</option><option value='espec.en Gestion del Patrimonio y Turismo Sostenib' >espec.en Gestion del Patrimonio y Turismo Sostenib</option><option value='Especialidad Hidraulica' >Especialidad Hidraulica</option><option value='ESPECIALISTA  AMBIENTAL' >ESPECIALISTA  AMBIENTAL</option><option value='especialista  en ambiente y patologia ambiental' >especialista  en ambiente y patologia ambiental</option><option value='Especialista en Ciencias Químicas y Ambiente' >Especialista en Ciencias Químicas y Ambiente</option><option value='Especialista en Derecho Ambiental' >Especialista en Derecho Ambiental</option><option value='Especialista en Diagnostico y EvaluaciÃ³n Ambienta' >Especialista en Diagnostico y EvaluaciÃ³n Ambienta</option><option value='Especialista en Explotación de Yacimientos' >Especialista en Explotación de Yacimientos</option><option value='Especialista en gestion ambiental - higiene y seg.' >Especialista en gestion ambiental - higiene y seg.</option><option value='Especialista en Higiene y Proteccion Ambiental' >Especialista en Higiene y Proteccion Ambiental</option><option value='Especialista en Higiene y Seg. ' >Especialista en Higiene y Seg. </option><option value='especialista en higiene y seguridad en el trabajo' >especialista en higiene y seguridad en el trabajo</option><option value='ESPECIALISTA EN ING. INDUSTRIAL' >ESPECIALISTA EN ING. INDUSTRIAL</option><option value='Especialista en Ingenieria Ambiental' >Especialista en Ingenieria Ambiental</option><option value='Especialista en Ingeniería Ambiental' >Especialista en Ingeniería Ambiental</option><option value='Especialista en Ingeniería en Calidad' >Especialista en Ingeniería en Calidad</option><option value='Especialista en Planificacion Urbana  ' >Especialista en Planificacion Urbana  </option><option value='ESPECIALISTA EN PROTECCIÓN AMBIENTAL' >ESPECIALISTA EN PROTECCIÓN AMBIENTAL</option><option value='ESPECIALISTA EN SEGURIDAD E HIGIENE' >ESPECIALISTA EN SEGURIDAD E HIGIENE</option><option value='ESPECIALISTA EN SEGURIDAD E HIGIENE DEL TRABAJO' >ESPECIALISTA EN SEGURIDAD E HIGIENE DEL TRABAJO</option><option value='Especialista en Seguridad e Higiene en el Trabajo' >Especialista en Seguridad e Higiene en el Trabajo</option><option value='Especialista en seguridad en el trabajo agrario' >Especialista en seguridad en el trabajo agrario</option><option value='Especialista en Seguridad, Higiene y ProtecciÃ³n A' >Especialista en Seguridad, Higiene y ProtecciÃ³n A</option><option value='Especialista en Seguridad, Higiene y Protección Am' >Especialista en Seguridad, Higiene y Protección Am</option><option value='Especialista en Seguridad,Higiene y Proteccion Amb' >Especialista en Seguridad,Higiene y Proteccion Amb</option><option value='ESPECIALISTA HIGIENE Y SEGURIDAD EN EL TRABAJO' >ESPECIALISTA HIGIENE Y SEGURIDAD EN EL TRABAJO</option><option value='Especialista medio ambiente y contaminación de eco' >Especialista medio ambiente y contaminación de eco</option><option value='Especialización en Ciencias Químicas y Ambiente' >Especialización en Ciencias Químicas y Ambiente</option><option value='Especializacion en Desarrollo Sustentable' >Especializacion en Desarrollo Sustentable</option><option value='ESPECIALIZACION EN EVALUACION DEL IMPACTO AMBIENTA' >ESPECIALIZACION EN EVALUACION DEL IMPACTO AMBIENTA</option><option value='Especializacion en Higiene  y Seg. en el Trabajo' >Especializacion en Higiene  y Seg. en el Trabajo</option><option value='ESPECIALIZACION EN HIGIENE Y SEGURIDAD EN EL TRABA' >ESPECIALIZACION EN HIGIENE Y SEGURIDAD EN EL TRABA</option><option value='Farmaceutica Especialista en Esterilización' >Farmaceutica Especialista en Esterilización</option><option value='Farmaceutico' >Farmaceutico</option><option value='Geofísico' >Geofísico</option><option value='Geólogo' >Geólogo</option><option value='Geoquímico' >Geoquímico</option><option value='Hidrologia Ambiental' >Hidrologia Ambiental</option><option value='HIGIENE Y SEGURIDAD DEN EL TRABAJO' >HIGIENE Y SEGURIDAD DEN EL TRABAJO</option><option value='Higiene y Seguridad en el Trabajo y Medio Ambiente' >Higiene y Seguridad en el Trabajo y Medio Ambiente</option><option value='Iing. laboral  y especialista en hig y seg' >Iing. laboral  y especialista en hig y seg</option><option value='Ing industrial y espec en ing amb' >Ing industrial y espec en ing amb</option><option value='ING. Electricista con Orientación Electronica' >ING. Electricista con Orientación Electronica</option><option value='ING. EN ELECTRONICA' >ING. EN ELECTRONICA</option><option value='ING. INDUSTRIAL' >ING. INDUSTRIAL</option><option value='Ing. metalurgico' >Ing. metalurgico</option><option value='ING. TELEC., ELECT. Y COMPUTACION' >ING. TELEC., ELECT. Y COMPUTACION</option><option value='ING.QUIMICA Y ESPECIALISTA EN INGENIERÍA AMBIENTAL' >ING.QUIMICA Y ESPECIALISTA EN INGENIERÍA AMBIENTAL</option><option value='INGENIERA  CIVIL' >INGENIERA  CIVIL</option><option value='INGENIERA AGROINDUSTRIAL' >INGENIERA AGROINDUSTRIAL</option><option value='INGENIERA AGRONOMA' >INGENIERA AGRONOMA</option><option value='INGENIERA AMB. Y SANITARIA' >INGENIERA AMB. Y SANITARIA</option><option value='INGENIERA AMBIENTAL' >INGENIERA AMBIENTAL</option><option value='INGENIERA CIVIL' >INGENIERA CIVIL</option><option value='INGENIERA EN ALIMENTOS' >INGENIERA EN ALIMENTOS</option><option value='Ingeniera en Ecologia' >Ingeniera en Ecologia</option><option value='Ingeniera en Recursos Naturales y Medio Ambiente' >Ingeniera en Recursos Naturales y Medio Ambiente</option><option value='INGENIERA HIDRAULICA' >INGENIERA HIDRAULICA</option><option value='INGENIERA INDUSTRIAL' >INGENIERA INDUSTRIAL</option><option value='INGENIERA LABORAL' >INGENIERA LABORAL</option><option value='INGENIERA QUIMICA' >INGENIERA QUIMICA</option><option value='INGENIERA ZOOTECNISTA ' >INGENIERA ZOOTECNISTA </option><option value='Ingeniería en Seguridad Ambiental' >Ingeniería en Seguridad Ambiental</option><option value='Ingenieria Sanitaria' >Ingenieria Sanitaria</option><option value='Ingeniero  en Alimentos' >Ingeniero  en Alimentos</option><option value='INGENIERO AERONAUTICO' >INGENIERO AERONAUTICO</option><option value='Ingeniero Aeronáutico' >Ingeniero Aeronáutico</option><option value='INGENIERO AGRIMENSOR' >INGENIERO AGRIMENSOR</option><option value='INGENIERO AGRONOMO' >INGENIERO AGRONOMO</option><option value='Ingeniero Agrónomo' >Ingeniero Agrónomo</option><option value='Ingeniero Ambiental' >Ingeniero Ambiental</option><option value='Ingeniero Civil' >Ingeniero Civil</option><option value='INGENIERO DE PETROLEOS' >INGENIERO DE PETROLEOS</option><option value='INGENIERO DE SONIDO' >INGENIERO DE SONIDO</option><option value='Ingeniero Electricista' >Ingeniero Electricista</option><option value='Ingeniero Electromecánico' >Ingeniero Electromecánico</option><option value='INGENIERO ELECTROMECANICO CON OR. MECANICA' >INGENIERO ELECTROMECANICO CON OR. MECANICA</option><option value='Ingeniero Electromecánico or Electricista' >Ingeniero Electromecánico or Electricista</option><option value='INGENIERO ELECTRONICO' >INGENIERO ELECTRONICO</option><option value='Ingeniero Electrónico' >Ingeniero Electrónico</option><option value='Ingeniero en Arsenales' >Ingeniero en Arsenales</option><option value='Ingeniero en Construcciones' >Ingeniero en Construcciones</option><option value='Ingeniero en Ecologia' >Ingeniero en Ecologia</option><option value='Ingeniero en Electrònica' >Ingeniero en Electrònica</option><option value='Ingeniero en Geodesia' >Ingeniero en Geodesia</option><option value='INGENIERO EN GESTION DE SINIESTROS Y SEGURIDAD AMB' >INGENIERO EN GESTION DE SINIESTROS Y SEGURIDAD AMB</option><option value='Ingeniero en Higiene y Seguridad  en el Trabajo' >Ingeniero en Higiene y Seguridad  en el Trabajo</option><option value='Ingeniero en Higiene y Seguridad en el Trabajo' >Ingeniero en Higiene y Seguridad en el Trabajo</option><option value='Ingeniero en Industrias de la Alimentacion' >Ingeniero en Industrias de la Alimentacion</option><option value='Ingeniero en Materiales' >Ingeniero en Materiales</option><option value='Ingeniero en Organizaci{on de Empresas' >Ingeniero en Organizaci{on de Empresas</option><option value='Ingeniero en Organizacion de Empresas' >Ingeniero en Organizacion de Empresas</option><option value='INGENIERO EN PRODUCCION AGROPECUARIA' >INGENIERO EN PRODUCCION AGROPECUARIA</option><option value='Ingeniero en Recursos Hidricos' >Ingeniero en Recursos Hidricos</option><option value='Ingeniero en Recursos Naturales y Medio  Ambiente' >Ingeniero en Recursos Naturales y Medio  Ambiente</option><option value='Ingeniero en Seguridad Ambiental' >Ingeniero en Seguridad Ambiental</option><option value='Ingeniero en Seguridad e Higiene' >Ingeniero en Seguridad e Higiene</option><option value='Ingeniero en Seguridad e Higiene en el Trabajo ' >Ingeniero en Seguridad e Higiene en el Trabajo </option><option value='ingeniero en sistemas de informacion' >ingeniero en sistemas de informacion</option><option value='Ingeniero en Telecomunicaciones' >Ingeniero en Telecomunicaciones</option><option value='Ingeniero en vias de comunicacion' >Ingeniero en vias de comunicacion</option><option value='Ingeniero Especialista en Higiene y Seguridad en e' >Ingeniero Especialista en Higiene y Seguridad en e</option><option value='INGENIERO ESPECIALISTA EN PROTECCIÓN AMBIENTAL' >INGENIERO ESPECIALISTA EN PROTECCIÓN AMBIENTAL</option><option value='Ingeniero Forestal' >Ingeniero Forestal</option><option value='Ingeniero Geógrafo' >Ingeniero Geógrafo</option><option value='Ingeniero Hidráulico' >Ingeniero Hidráulico</option><option value='Ingeniero Industrail' >Ingeniero Industrail</option><option value='Ingeniero Industrial' >Ingeniero Industrial</option><option value='Ingeniero Laboral' >Ingeniero Laboral</option><option value='Ingeniero Laboral ' >Ingeniero Laboral </option><option value='Ingeniero Mecanico' >Ingeniero Mecanico</option><option value='Ingeniero Mecánico' >Ingeniero Mecánico</option><option value='Ingeniero Mecánico ' >Ingeniero Mecánico </option><option value='Ingeniero Metalúrgico' >Ingeniero Metalúrgico</option><option value='INGENIERO MILITAR' >INGENIERO MILITAR</option><option value='Ingeniero Químico' >Ingeniero Químico</option><option value='Ingeniero Sanitario' >Ingeniero Sanitario</option><option value='Ingeniero Textil' >Ingeniero Textil</option><option value='Ingeniero Zootecnista' >Ingeniero Zootecnista</option><option value='INGENIRO NAVAL Y MECANICO' >INGENIRO NAVAL Y MECANICO</option><option value='LIC EN BIOLOGIA OR. ECOLOGIA' >LIC EN BIOLOGIA OR. ECOLOGIA</option><option value='Lic en Hig y Seg en el Trab, Esp en Protecc Ambtal' >Lic en Hig y Seg en el Trab, Esp en Protecc Ambtal</option><option value='Lic. Ciencias de la Educacion' >Lic. Ciencias de la Educacion</option><option value='Lic. en Aprovechamiento de Recur. Nat. Renovables' >Lic. en Aprovechamiento de Recur. Nat. Renovables</option><option value='LIC. en BIOLOGIA con orientacion en  ZOOLOGIA' >LIC. en BIOLOGIA con orientacion en  ZOOLOGIA</option><option value='LIC. EN BIOQUIMICA' >LIC. EN BIOQUIMICA</option><option value='LIC. EN C. ANTROPOLOGICAS C. OR. ARQUEOLOGICA' >LIC. EN C. ANTROPOLOGICAS C. OR. ARQUEOLOGICA</option><option value='LIC. EN CIENCIAS AMBIENTALES' >LIC. EN CIENCIAS AMBIENTALES</option><option value='LIC. EN CIENCIAS BIOLOGICAS' >LIC. EN CIENCIAS BIOLOGICAS</option><option value='LIC. EN CIENCIAS DEL AMBIENTE' >LIC. EN CIENCIAS DEL AMBIENTE</option><option value='LIC. EN CIENCIAS GEOLOGICAS' >LIC. EN CIENCIAS GEOLOGICAS</option><option value='LIC. EN CIENCIAS QUÍMICAS' >LIC. EN CIENCIAS QUÍMICAS</option><option value='LIC. EN CIENCIAS QUIMICAS O. ANALISIS BIOLOGICOS' >LIC. EN CIENCIAS QUIMICAS O. ANALISIS BIOLOGICOS</option><option value='Lic. en Ecolgia y Cons.de Rec. Nat. Renovables' >Lic. en Ecolgia y Cons.de Rec. Nat. Renovables</option><option value='LIC. EN ENSEÑANZA DE LAS CIENCIAS DEL AMBIENTE' >LIC. EN ENSEÑANZA DE LAS CIENCIAS DEL AMBIENTE</option><option value='LIC. EN GEOLOGIA' >LIC. EN GEOLOGIA</option><option value='LIC. EN GERENCIAMIENTO AMBIENTAL' >LIC. EN GERENCIAMIENTO AMBIENTAL</option><option value='Lic. en Gestion Ambiental' >Lic. en Gestion Ambiental</option><option value='LIC. EN GESTION AMBIENTAL URBANA' >LIC. EN GESTION AMBIENTAL URBANA</option><option value='LIC. EN HIGIENE Y  SEG EN EL TRABAJO' >LIC. EN HIGIENE Y  SEG EN EL TRABAJO</option><option value='LIC. EN HIGIENE Y SEGURIDAD INDUSTRIAL' >LIC. EN HIGIENE Y SEGURIDAD INDUSTRIAL</option><option value='LIC. EN PROTECCIÓN Y SANEAMIENTO AMBIENTAL' >LIC. EN PROTECCIÓN Y SANEAMIENTO AMBIENTAL</option><option value='Lic. en Química y Tecnología Ambiental' >Lic. en Química y Tecnología Ambiental</option><option value='LIC. EN RELACIONES COM. INTERNACIONALES' >LIC. EN RELACIONES COM. INTERNACIONALES</option><option value='LIC. EN RELACIONES INDUSTRIALES CON ESPEC. EN UCA,' >LIC. EN RELACIONES INDUSTRIALES CON ESPEC. EN UCA,</option><option value='Lic. en Saneamiento y proteccion ambiental' >Lic. en Saneamiento y proteccion ambiental</option><option value='Lic. en Seg. e Higiene en el Trabajo y Medio Amb.' >Lic. en Seg. e Higiene en el Trabajo y Medio Amb.</option><option value='LIC. EN SEG. HIGIENE IND. Y CONTROL AMBIENTAL' >LIC. EN SEG. HIGIENE IND. Y CONTROL AMBIENTAL</option><option value='Lic. en Seguridad Ambiental' >Lic. en Seguridad Ambiental</option><option value='LIC. EN SEGURIDAD E HIGIENE ' >LIC. EN SEGURIDAD E HIGIENE </option><option value='LIC. EN SEGURIDAD Y SALUD OCUPACIONAL' >LIC. EN SEGURIDAD Y SALUD OCUPACIONAL</option><option value='Lic. en Seguridad, Higiene y Control Ambiental Lab' >Lic. en Seguridad, Higiene y Control Ambiental Lab</option><option value='LIC. EN SISTEMAS ' >LIC. EN SISTEMAS </option><option value='LIC. EN TECNOLOGÍA AMBIENTAL' >LIC. EN TECNOLOGÍA AMBIENTAL</option><option value='LIC. INFORMACIÓN AMBIENTAL' >LIC. INFORMACIÓN AMBIENTAL</option><option value='LIC. SEGURIDAD E HIGIENE Y CONTROL AMBIENTAL' >LIC. SEGURIDAD E HIGIENE Y CONTROL AMBIENTAL</option><option value='Lic.en Biologia OR Zoologia' >Lic.en Biologia OR Zoologia</option><option value='Lic.en Seg e Hig y Control Amb Laboral' >Lic.en Seg e Hig y Control Amb Laboral</option><option value='Licenciad en Seguridad y salud ocupacional' >Licenciad en Seguridad y salud ocupacional</option><option value='LICENCIADA  EN CIENCIAS DEL AMBIENTE' >LICENCIADA  EN CIENCIAS DEL AMBIENTE</option><option value='Licenciada en Análisis Ambiental' >Licenciada en Análisis Ambiental</option><option value='LICENCIADA EN BIOTECNOLOGIA' >LICENCIADA EN BIOTECNOLOGIA</option><option value='LICENCIADA EN BROMATOLOGIA' >LICENCIADA EN BROMATOLOGIA</option><option value='Licenciada en Ciencia y Tecnología de Alimentos' >Licenciada en Ciencia y Tecnología de Alimentos</option><option value='LICENCIADA EN CIENCIAS AMBIENTALES' >LICENCIADA EN CIENCIAS AMBIENTALES</option><option value='Licenciada en Ciencias Geologicas' >Licenciada en Ciencias Geologicas</option><option value='Licenciada en Ciencias Politicas' >Licenciada en Ciencias Politicas</option><option value='LICENCIADA EN CIENCIAS QUIMICAS O. ANALISIS QUIM.' >LICENCIADA EN CIENCIAS QUIMICAS O. ANALISIS QUIM.</option><option value='Licenciada en Diagnóstico y Gestión Ambiental' >Licenciada en Diagnóstico y Gestión Ambiental</option><option value='Licenciada en Ecología Urbana' >Licenciada en Ecología Urbana</option><option value='LICENCIADA EN GEOLOGIA' >LICENCIADA EN GEOLOGIA</option><option value='LICENCIADA EN GERENCIAMIENTO  AMB.' >LICENCIADA EN GERENCIAMIENTO  AMB.</option><option value='LICENCIADA EN GESTION AMBIENTAL' >LICENCIADA EN GESTION AMBIENTAL</option><option value='LICENCIADA EN INFORMACION AMBIENTAL' >LICENCIADA EN INFORMACION AMBIENTAL</option><option value='Licenciada en Oceanografia' >Licenciada en Oceanografia</option><option value='Licenciada en Oceanografía Orientación Química Mar' >Licenciada en Oceanografía Orientación Química Mar</option><option value='Licenciada en Quimica Industrial' >Licenciada en Quimica Industrial</option><option value='Licenciada en Química y Tecnologia Ambienta' >Licenciada en Química y Tecnologia Ambienta</option><option value='Licenciada en Relaciones Industriales' >Licenciada en Relaciones Industriales</option><option value='Licenciada en Tecnología de los alimentos' >Licenciada en Tecnología de los alimentos</option><option value='Licenciada en Tecnología Industrial de los Aliment' >Licenciada en Tecnología Industrial de los Aliment</option><option value='licenciada en turismo' >licenciada en turismo</option><option value='Licenciada Oceanografía Orientación Química Marina' >Licenciada Oceanografía Orientación Química Marina</option><option value='Licenciado en Administración Agraria' >Licenciado en Administración Agraria</option><option value='LICENCIADO EN ADMINISTRACION DE EMPRESAS.' >LICENCIADO EN ADMINISTRACION DE EMPRESAS.</option><option value='Licenciado en Analisis de Sistemas' >Licenciado en Analisis de Sistemas</option><option value='Licenciado en Antropologia' >Licenciado en Antropologia</option><option value='Licenciado en Aprovechamiento de Recursos Naturale' >Licenciado en Aprovechamiento de Recursos Naturale</option><option value='Licenciado en Biologia' >Licenciado en Biologia</option><option value='LICENCIADO EN BIOLOGIA or zoologia' >LICENCIADO EN BIOLOGIA or zoologia</option><option value='LICENCIADO EN BIOLOGIA OR. ECOLOGIA' >LICENCIADO EN BIOLOGIA OR. ECOLOGIA</option><option value='LICENCIADO EN BIOLOGIA OR. ECOLOGICA' >LICENCIADO EN BIOLOGIA OR. ECOLOGICA</option><option value='Licenciado en Biología or. Zoologia ' >Licenciado en Biología or. Zoologia </option><option value='Licenciado en Bioquímica' >Licenciado en Bioquímica</option><option value='LICENCIADO EN BIOTECNOLOGIA' >LICENCIADO EN BIOTECNOLOGIA</option><option value='Licenciado en Ciencias Agrarias' >Licenciado en Ciencias Agrarias</option><option value='Licenciado en Ciencias Ambientales' >Licenciado en Ciencias Ambientales</option><option value='Licenciado en Ciencias Antropológicas' >Licenciado en Ciencias Antropológicas</option><option value='Licenciado en Ciencias Biologicas' >Licenciado en Ciencias Biologicas</option><option value='LICENCIADO EN CIENCIAS DEL AMBIENTE' >LICENCIADO EN CIENCIAS DEL AMBIENTE</option><option value='Licenciado en Ciencias Fisicas' >Licenciado en Ciencias Fisicas</option><option value='LICENCIADO EN CIENCIAS GEOLOGICAS' >LICENCIADO EN CIENCIAS GEOLOGICAS</option><option value='Licenciado en Ciencias Oceonografia' >Licenciado en Ciencias Oceonografia</option><option value='LICENCIADO EN COMUNICACION SOCIAL ' >LICENCIADO EN COMUNICACION SOCIAL </option><option value='Licenciado en Comunicación Social' >Licenciado en Comunicación Social</option><option value='LICENCIADO EN CRIMINALISTA' >LICENCIADO EN CRIMINALISTA</option><option value='Licenciado en Cs.Quimicas' >Licenciado en Cs.Quimicas</option><option value='LICENCIADO EN DIAG. Y GESTION AMBIENTAL' >LICENCIADO EN DIAG. Y GESTION AMBIENTAL</option><option value='Licenciado en Diagnostico y Gestion Ambiental' >Licenciado en Diagnostico y Gestion Ambiental</option><option value='Licenciado en Diagnóstico y Gestión Ambiental' >Licenciado en Diagnóstico y Gestión Ambiental</option><option value='Licenciado en Ecología' >Licenciado en Ecología</option><option value='Licenciado en Ecologia Urbana' >Licenciado en Ecologia Urbana</option><option value='Licenciado en Economía' >Licenciado en Economía</option><option value='Licenciado en Economia Agropecuaria' >Licenciado en Economia Agropecuaria</option><option value='Licenciado en Edafología' >Licenciado en Edafología</option><option value='Licenciado en Enseñanza de ciencias del ambiente' >Licenciado en Enseñanza de ciencias del ambiente</option><option value='Licenciado en Gelogía' >Licenciado en Gelogía</option><option value='LICENCIADO EN GEOGRAFIA' >LICENCIADO EN GEOGRAFIA</option><option value='Licenciado en Geografía' >Licenciado en Geografía</option><option value='LICENCIADO EN GEOLOGIA' >LICENCIADO EN GEOLOGIA</option><option value='Licenciado en Geología' >Licenciado en Geología</option><option value='Licenciado en Gerenciamiento Ambiental' >Licenciado en Gerenciamiento Ambiental</option><option value='Licenciado en Gestiòn Ambiental' >Licenciado en Gestiòn Ambiental</option><option value='Licenciado en Gestion Ambiental Urbano' >Licenciado en Gestion Ambiental Urbano</option><option value='LICENCIADO EN H. Y SEG. EN EL TRAB. ESP. EN P. AMB' >LICENCIADO EN H. Y SEG. EN EL TRAB. ESP. EN P. AMB</option><option value='Licenciado en Higiene y Seguridad  en el Trabajo' >Licenciado en Higiene y Seguridad  en el Trabajo</option><option value='LICENCIADO EN HIGIENE Y SEGURIDAD LABORAL' >LICENCIADO EN HIGIENE Y SEGURIDAD LABORAL</option><option value='LICENCIADO EN INFORMACION AMBIENTAL' >LICENCIADO EN INFORMACION AMBIENTAL</option><option value='Licenciado en Informatica Ambiental' >Licenciado en Informatica Ambiental</option><option value='LICENCIADO EN ORGANIZACION INDUSTRIAL' >LICENCIADO EN ORGANIZACION INDUSTRIAL</option><option value='Licenciado en Organizaciòn Industrial' >Licenciado en Organizaciòn Industrial</option><option value='Licenciado en Química' >Licenciado en Química</option><option value='LICENCIADO EN QUIMICA INDUSTRIAL' >LICENCIADO EN QUIMICA INDUSTRIAL</option><option value='LICENCIADO EN RELACIONES DEL TRABAJO' >LICENCIADO EN RELACIONES DEL TRABAJO</option><option value='LICENCIADO EN SANEAMIENTO AMBIENTAL ' >LICENCIADO EN SANEAMIENTO AMBIENTAL </option><option value='LICENCIADO EN SANEAMIENTO Y PROTECCION AMBIENTAL' >LICENCIADO EN SANEAMIENTO Y PROTECCION AMBIENTAL</option><option value='Licenciado en Seguridad e Higiene en el Trabajo' >Licenciado en Seguridad e Higiene en el Trabajo</option><option value='Licenciado en Seguridad Higiene y Control Ambienta' >Licenciado en Seguridad Higiene y Control Ambienta</option><option value='LICENCIADO EN SEGURIDAD Y SALUD OCUPACIONAL' >LICENCIADO EN SEGURIDAD Y SALUD OCUPACIONAL</option><option value='Licenciado en Seguridad, Higiene y Control Ambient' >Licenciado en Seguridad, Higiene y Control Ambient</option><option value='Licenciado en Sistemas de Protección Contra Sinies' >Licenciado en Sistemas de Protección Contra Sinies</option><option value='Licenciado en Sociología' >Licenciado en Sociología</option><option value='Licenciado en Tecnologia Ambiental' >Licenciado en Tecnologia Ambiental</option><option value='Licenciado en Trabajo Social' >Licenciado en Trabajo Social</option><option value='Licenciado en Transporte y Logística Operativa' >Licenciado en Transporte y Logística Operativa</option><option value='Licenciado en Zoología' >Licenciado en Zoología</option><option value='Licenciado Eugenista Humanologo' >Licenciado Eugenista Humanologo</option><option value='Licenciano de Seguridad' >Licenciano de Seguridad</option><option value='LICENCIATURA DE SEGURIDAD' >LICENCIATURA DE SEGURIDAD</option><option value='Licenciatura en AnÃ¡lisis ClÃ­nicos y BioquÃ­mica' >Licenciatura en AnÃ¡lisis ClÃ­nicos y BioquÃ­mica</option><option value='LICENCIATURA EN GERENCIAMIENTO AMBIENTAL' >LICENCIATURA EN GERENCIAMIENTO AMBIENTAL</option><option value='LICENCIATURA EN SEGURIDAD Y SALUD OCUPACIONAL' >LICENCIATURA EN SEGURIDAD Y SALUD OCUPACIONAL</option><option value='Licencioado en Geoquimica' >Licencioado en Geoquimica</option><option value='Liicenciatura en Información Ambiental' >Liicenciatura en Información Ambiental</option><option value='MAESTRIA EN ADMINISTRACION DE EMPRESAS' >MAESTRIA EN ADMINISTRACION DE EMPRESAS</option><option value='MAESTRIA EN AMBIENTE Y DESARROLLO SUSTENTABLE' >MAESTRIA EN AMBIENTE Y DESARROLLO SUSTENTABLE</option><option value='Maestría en Ciencias Ambientales' >Maestría en Ciencias Ambientales</option><option value='MAESTRIA EN GESTION AMBIENTAL' >MAESTRIA EN GESTION AMBIENTAL</option><option value='MAESTRIA EN HIGIENE Y SEGURIDAD EN EL TRABAJO' >MAESTRIA EN HIGIENE Y SEGURIDAD EN EL TRABAJO</option><option value='MAESTRIA EN MANEJO AMBIENTAL DE SISTEMAS HIDRICOS' >MAESTRIA EN MANEJO AMBIENTAL DE SISTEMAS HIDRICOS</option><option value='Maestro  Mayor de Obras' >Maestro  Mayor de Obras</option><option value='MAGISTER EN ESTUDIOS AMBIENTALES ' >MAGISTER EN ESTUDIOS AMBIENTALES </option><option value='MAGISTER EN GESTION AMBIENTAL DEL DESARROLLO URBAN' >MAGISTER EN GESTION AMBIENTAL DEL DESARROLLO URBAN</option><option value='Magister en Ingenieria Ambiental' >Magister en Ingenieria Ambiental</option><option value='Martillero y Corredor Publico' >Martillero y Corredor Publico</option><option value='Master en Gestion y Auditorias Ambientales' >Master en Gestion y Auditorias Ambientales</option><option value='MASTER EN INGENIERIA AMBIENTAL DE LA EMPRESA' >MASTER EN INGENIERIA AMBIENTAL DE LA EMPRESA</option><option value='Master en Seguridad Industrial' >Master en Seguridad Industrial</option><option value='Master Lic. en Amb. del Desarrolo Urbano   ' >Master Lic. en Amb. del Desarrolo Urbano   </option><option value='Master Universitario en Gestion y Auditoria Ambie ' >Master Universitario en Gestion y Auditoria Ambie </option><option value='Médico' >Médico</option><option value='Meteorólogo' >Meteorólogo</option><option value='Muestreador (Curso RENATOM)' >Muestreador (Curso RENATOM)</option><option value='Muestreador (Curso RETOMA)' >Muestreador (Curso RETOMA)</option><option value='No posee colegio' >No posee colegio</option><option value='Oceanografo' >Oceanografo</option><option value='ODONTOLOGA' >ODONTOLOGA</option><option value='Orientacion Mecanica' >Orientacion Mecanica</option><option value='Posgrado - INGENIERIA AMBIENTAL' >Posgrado - INGENIERIA AMBIENTAL</option><option value='Posgrado en Hig. y Seg. en el Trab' >Posgrado en Hig. y Seg. en el Trab</option><option value='post grado en gestión ambiental' >post grado en gestión ambiental</option><option value='PROCURADORA' >PROCURADORA</option><option value='Profesora en Geografía' >Profesora en Geografía</option><option value='Programa de Gestión Ambiental' >Programa de Gestión Ambiental</option><option value='Programa de Gestiòn Ambiental' >Programa de Gestiòn Ambiental</option><option value='proyecto de instalaciones hospitalarias' >proyecto de instalaciones hospitalarias</option><option value='QUIMICA (Carrera Bioquimica)' >QUIMICA (Carrera Bioquimica)</option><option value='QUIMICO' >QUIMICO</option><option value='saneamiento proteccion ambiental' >saneamiento proteccion ambiental</option><option value='tec sup en seg e higiene en el trabajo . ' >tec sup en seg e higiene en el trabajo . </option><option value='TEC. SUP. EN MED. AMB. MARINO Y COSTERO' >TEC. SUP. EN MED. AMB. MARINO Y COSTERO</option><option value='Tec. Sup. en Seg., Hig. y Control Amb. Ind.' >Tec. Sup. en Seg., Hig. y Control Amb. Ind.</option><option value='Tec. Superior en Hig. y Seg. en el Trabajo' >Tec. Superior en Hig. y Seg. en el Trabajo</option><option value='Tec. Superior en Manejo Ambiental' >Tec. Superior en Manejo Ambiental</option><option value='Tec. Universitario en Gestión Ambiental Urbana' >Tec. Universitario en Gestión Ambiental Urbana</option><option value='TECNICA MAESTRO MAYOR DE OBRAS' >TECNICA MAESTRO MAYOR DE OBRAS</option><option value='Tecnica Superior en Gestiòn Ambiental' >Tecnica Superior en Gestiòn Ambiental</option><option value='Tecnica Univ. en Informacion Ambiental' >Tecnica Univ. en Informacion Ambiental</option><option value='TECNICATURA SUPERIOR EN GESTION AMBIENTAL Y SALUD' >TECNICATURA SUPERIOR EN GESTION AMBIENTAL Y SALUD</option><option value='Tecnico  Mecanico' >Tecnico  Mecanico</option><option value='Tecnico  Saneamiento Ambiental' >Tecnico  Saneamiento Ambiental</option><option value='Tecnico Analista Ambiental' >Tecnico Analista Ambiental</option><option value='tecnico constructor' >tecnico constructor</option><option value='Técnico Electrónico' >Técnico Electrónico</option><option value='TECNICO EN E. Y INST. ELECTROMECANICAS' >TECNICO EN E. Y INST. ELECTROMECANICAS</option><option value='Técnico en Electromecanica' >Técnico en Electromecanica</option><option value='TECNICO EN EQUIPOS E INST. ELECTROMECANICAS' >TECNICO EN EQUIPOS E INST. ELECTROMECANICAS</option><option value='Tecnico en Gerenciamiento Ambiental' >Tecnico en Gerenciamiento Ambiental</option><option value='TECNICO EN INDUSTRIAS DE LA ALIMENTACION ORI.PESCA' >TECNICO EN INDUSTRIAS DE LA ALIMENTACION ORI.PESCA</option><option value='TECNICO EN INDUSTRIAS DE PROCESOS' >TECNICO EN INDUSTRIAS DE PROCESOS</option><option value='Técnico en la Cadena de Carnes' >Técnico en la Cadena de Carnes</option><option value='Técnico en Meteorología Sinóptica' >Técnico en Meteorología Sinóptica</option><option value='Tecnico en Seguridad e Higiene' >Tecnico en Seguridad e Higiene</option><option value='Tecnico en Seguridad Industrial ' >Tecnico en Seguridad Industrial </option><option value='TECNICO EN SONIDO ESP EN DISEÑO DE INST. ACUSTICAS' >TECNICO EN SONIDO ESP EN DISEÑO DE INST. ACUSTICAS</option><option value='TECNICO FORESTAL' >TECNICO FORESTAL</option><option value='Técnico Mecánico ' >Técnico Mecánico </option><option value='Tecnico Mecanico Electricista' >Tecnico Mecanico Electricista</option><option value='Tècnico Mecanico Electricista' >Tècnico Mecanico Electricista</option><option value='Técnico Químico' >Técnico Químico</option><option value='Técnico sup. en gestion Ambiental' >Técnico sup. en gestion Ambiental</option><option value='TECNICO SUPERIOR AGRARIO EN SUELOS Y AGUAS' >TECNICO SUPERIOR AGRARIO EN SUELOS Y AGUAS</option><option value='TECNICO SUPERIOR EN BROMATOLOGIA' >TECNICO SUPERIOR EN BROMATOLOGIA</option><option value='Tecnico Superior en Ecologia' >Tecnico Superior en Ecologia</option><option value='TECNICO SUPERIOR EN MANEJO AMBIENTAL' >TECNICO SUPERIOR EN MANEJO AMBIENTAL</option><option value='Técnico Superior en Seg. Higiene y Control Amb.' >Técnico Superior en Seg. Higiene y Control Amb.</option><option value='Tecnico Superior en Seguridad e Higiene en el Trab' >Tecnico Superior en Seguridad e Higiene en el Trab</option><option value='Técnico Superior en Seguridad e Higiene Industrial' >Técnico Superior en Seguridad e Higiene Industrial</option><option value='Técnico Superior en Seguridad, Higiene y Control A' >Técnico Superior en Seguridad, Higiene y Control A</option><option value='Tecnico Superior en Seguridad, Higiene y ControlAm' >Tecnico Superior en Seguridad, Higiene y ControlAm</option><option value='tecnico superior en turismo' >tecnico superior en turismo</option><option value='TECNICO UNIVERSITARIO EN GERENCIAMIENTO AMBIENTAL' >TECNICO UNIVERSITARIO EN GERENCIAMIENTO AMBIENTAL</option><option value='TECNICO UNIVERSITARIO EN GESTION AMBIENTAL' >TECNICO UNIVERSITARIO EN GESTION AMBIENTAL</option><option value='Técnico Universitario en Gestión Ambiental' >Técnico Universitario en Gestión Ambiental</option><option value='TECNICO UNIVERSITARIO EN HIGIENE Y SEGURIDAD EN EL' >TECNICO UNIVERSITARIO EN HIGIENE Y SEGURIDAD EN EL</option><option value='Técnico Universitario en Higiene y Seguridad Labor' >Técnico Universitario en Higiene y Seguridad Labor</option><option value='TECNICO UNIVERSITARIO EN INFORMACION AMBIENTAL' >TECNICO UNIVERSITARIO EN INFORMACION AMBIENTAL</option><option value='TECNICO UNIVERSITARIO EN MEDIO AMBIENTE' >TECNICO UNIVERSITARIO EN MEDIO AMBIENTE</option><option value='Veterinario' >Veterinario</option><option value='Zoólogo' >Zoólogo</option>      </select>\r\n",
      "\t  </td>\r\n",
      "\t<td class=\"FontNormal\">Provincia: </td>\r\n",
      "    <td><span class=\"FontNormal\">\r\n",
      "      <select name=\"sltProvincia\" class=\"FontNormal\"  onChange=\"submit();\">\r\n",
      "       <option value=\"0\">-- Seleccione --</option>\r\n",
      "       <option value='1' >BUENOS AIRES</option><option value='22' >CATAMARCA</option><option value='5' >CHACO</option><option value='17' >CHUBUT</option><option value='14' >CORDOBA</option><option value='4' >CORRIENTES</option><option value='2' >ENTRE RIOS</option><option value='6' >FORMOSA</option><option value='8' >JUJUY</option><option value='13' >LA PAMPA</option><option value='23' >LA RIOJA</option><option value='11' >MENDOZA</option><option value='7' >MISIONES</option><option value='15' >NEUQUÉN</option><option value='16' >RÍO NEGRO</option><option value='9' >SALTA</option><option value='10' >SAN JUAN</option><option value='12' >SAN LUIS</option><option value='18' >SANTA CRUZ</option><option value='3' >SANTA FE</option><option value='21' >SANTIAGO DEL ESTERO</option><option value='19' >TIERRA DEL FUEGO</option><option value='20' >TUCUMÁN</option>      </select>\r\n",
      "    </span> </td>\r\n",
      "  </tr>\t\r\n",
      "\r\n",
      "<tr class=\"FontNormal\">\r\n",
      "    <td class=\"FontNormal\">Partido:</td>\r\n",
      "\t<td><span class=\"FontNormal\">\r\n",
      "\t  <select name=\"sltPartidoR\" class=\"FontNormal\"  onChange=\"submit();\">\r\n",
      "        <option value=\"0\">-- Seleccione Partido --</option>\r\n",
      "              </select>\r\n",
      "\t  </span> </td>\r\n",
      "\t<td class=\"FontNormal\">Localidad:</td>\r\n",
      "\t <td class=\"FontNormal\">\r\n",
      "\t   <select name=\"sltLocalidadR\" class=\"FontNormal\" >\r\n",
      "         <option value=\"0\">-- Seleccione Localidad --</option>\r\n",
      "                </select>\r\n",
      "      </td>\r\n",
      "</tr>\r\n",
      "\r\n",
      "<tr>\r\n",
      "\r\n",
      "\r\n",
      "</tr>\r\n",
      "\r\n",
      " \r\n",
      "</table>\r\n",
      "\r\n",
      "<p align=\"center\"><input type=\"submit\" name=\"btnBuscaDNI\" value=\"Buscar\" onMouseOut='javascript:this.className=\"botones\";' onMouseOver='javascript:this.className=\"botonesSeleccionados\";' class=\"botones\" ></p>\r\n",
      "\r\n",
      "\r\n",
      "<p></p>\r\n",
      "\r\n",
      "<p><span class=\"FontNormal\">\r\n",
      "   \r\n",
      "</body>\r\n",
      "</html>\r\n",
      "\n"
     ]
    }
   ],
   "source": [
    "print(html_content)"
   ]
  },
  {
   "cell_type": "code",
   "execution_count": null,
   "metadata": {},
   "outputs": [],
   "source": [
    "registro = [0,1,2,3]\n",
    "provincias=[]\n",
    "partidos=[]"
   ]
  },
  {
   "cell_type": "code",
   "execution_count": 4,
   "metadata": {},
   "outputs": [],
   "source": [
    "tits = []\n",
    "for k, i in enumerate(options):\n",
    "    if (k>5)&(k<390):\n",
    "        tits.append(i.get(\"value\"))\n",
    "    if (k>390):\n",
    "        provincias.append(i.get(\"value\"))"
   ]
  },
  {
   "cell_type": "code",
   "execution_count": 14,
   "metadata": {},
   "outputs": [
    {
     "name": "stderr",
     "output_type": "stream",
     "text": [
      "\n",
      "  0%|          | 0/384 [00:00<?, ?it/s]\u001b[A/usr/lib/python3/dist-packages/ipykernel_launcher.py:26: FutureWarning: The signature of `Series.to_csv` was aligned to that of `DataFrame.to_csv`, and argument 'header' will change its default value from False to True: please pass an explicit value to suppress this warning.\n",
      "\n",
      "  0%|          | 1/384 [00:06<43:20,  6.79s/it]\u001b[A"
     ]
    },
    {
     "name": "stdout",
     "output_type": "stream",
     "text": [
      "\tLIC. SEGURIDAD E HIGIENE Y CONTROL AMBIENTAL  Done 1    ggcisterna@gmail.com\n",
      "dtype: object\n"
     ]
    },
    {
     "name": "stderr",
     "output_type": "stream",
     "text": [
      "\n",
      "  1%|          | 2/384 [00:15<46:15,  7.27s/it]\u001b[A"
     ]
    },
    {
     "name": "stdout",
     "output_type": "stream",
     "text": [
      "ABOGADA Done 1          ggcisterna@gmail.com\n",
      "1    sanchogabriela@hotmail.com\n",
      "dtype: object\n"
     ]
    },
    {
     "name": "stderr",
     "output_type": "stream",
     "text": [
      "\n",
      "  1%|          | 3/384 [00:39<1:17:53, 12.27s/it]\u001b[A"
     ]
    },
    {
     "name": "stdout",
     "output_type": "stream",
     "text": [
      "Abogado Done 1           ggcisterna@gmail.com\n",
      "1     sanchogabriela@hotmail.com\n",
      "1         ecalamos@argentina.com\n",
      "4         conghos@hotmail.com.ar\n",
      "5    marianonicola1975@gmail.com\n",
      "6        estudio_dlq@hotmail.com\n",
      "7      mmroncoli@eiascoop.com.ar\n",
      "8     jp@ambienteyterritorio.com\n",
      "dtype: object\n"
     ]
    },
    {
     "name": "stderr",
     "output_type": "stream",
     "text": [
      "\n",
      "  1%|          | 4/384 [00:47<1:10:58, 11.21s/it]\u001b[A"
     ]
    },
    {
     "name": "stdout",
     "output_type": "stream",
     "text": [
      "Agrimensor Done 1           ggcisterna@gmail.com\n",
      "1     sanchogabriela@hotmail.com\n",
      "1         ecalamos@argentina.com\n",
      "4         conghos@hotmail.com.ar\n",
      "5    marianonicola1975@gmail.com\n",
      "6        estudio_dlq@hotmail.com\n",
      "7      mmroncoli@eiascoop.com.ar\n",
      "8     jp@ambienteyterritorio.com\n",
      "dtype: object\n"
     ]
    },
    {
     "name": "stderr",
     "output_type": "stream",
     "text": [
      "\n",
      "  1%|▏         | 5/384 [01:23<1:57:23, 18.58s/it]\u001b[A"
     ]
    },
    {
     "name": "stdout",
     "output_type": "stream",
     "text": [
      "Agrónomo Done 1            ggcisterna@gmail.com\n",
      "1      sanchogabriela@hotmail.com\n",
      "1          ecalamos@argentina.com\n",
      "4          conghos@hotmail.com.ar\n",
      "5     marianonicola1975@gmail.com\n",
      "6         estudio_dlq@hotmail.com\n",
      "7       mmroncoli@eiascoop.com.ar\n",
      "8      jp@ambienteyterritorio.com\n",
      "1    aradoconsultora@jsnet.com.ar\n",
      "2        fedegarcia83@hotmail.com\n",
      "4       maroteclaudio@hotmail.com\n",
      "5        EMERONO2004@YAHOO.COM.AR\n",
      "7              neldo@ar.inter.net\n",
      "dtype: object\n"
     ]
    },
    {
     "name": "stderr",
     "output_type": "stream",
     "text": [
      "\n",
      "  2%|▏         | 6/384 [01:29<1:33:29, 14.84s/it]\u001b[A"
     ]
    },
    {
     "name": "stdout",
     "output_type": "stream",
     "text": [
      "Analista de Sistemas Done 1            ggcisterna@gmail.com\n",
      "1      sanchogabriela@hotmail.com\n",
      "1          ecalamos@argentina.com\n",
      "4          conghos@hotmail.com.ar\n",
      "5     marianonicola1975@gmail.com\n",
      "6         estudio_dlq@hotmail.com\n",
      "7       mmroncoli@eiascoop.com.ar\n",
      "8      jp@ambienteyterritorio.com\n",
      "1    aradoconsultora@jsnet.com.ar\n",
      "2        fedegarcia83@hotmail.com\n",
      "4       maroteclaudio@hotmail.com\n",
      "5        EMERONO2004@YAHOO.COM.AR\n",
      "7              neldo@ar.inter.net\n",
      "1           valjauregui@gmail.com\n",
      "dtype: object\n"
     ]
    },
    {
     "name": "stderr",
     "output_type": "stream",
     "text": [
      "\n",
      "  2%|▏         | 7/384 [01:38<1:21:18, 12.94s/it]\u001b[A"
     ]
    },
    {
     "name": "stdout",
     "output_type": "stream",
     "text": [
      "ANALISTA ECOLOGICO Done 1            ggcisterna@gmail.com\n",
      "1      sanchogabriela@hotmail.com\n",
      "1          ecalamos@argentina.com\n",
      "4          conghos@hotmail.com.ar\n",
      "5     marianonicola1975@gmail.com\n",
      "6         estudio_dlq@hotmail.com\n",
      "7       mmroncoli@eiascoop.com.ar\n",
      "8      jp@ambienteyterritorio.com\n",
      "1    aradoconsultora@jsnet.com.ar\n",
      "2        fedegarcia83@hotmail.com\n",
      "4       maroteclaudio@hotmail.com\n",
      "5        EMERONO2004@YAHOO.COM.AR\n",
      "7              neldo@ar.inter.net\n",
      "1           valjauregui@gmail.com\n",
      "dtype: object\n"
     ]
    },
    {
     "name": "stderr",
     "output_type": "stream",
     "text": [
      "\n",
      "  2%|▏         | 8/384 [01:47<1:14:37, 11.91s/it]\u001b[A"
     ]
    },
    {
     "name": "stdout",
     "output_type": "stream",
     "text": [
      "Analista Ecológico Done 1            ggcisterna@gmail.com\n",
      "1      sanchogabriela@hotmail.com\n",
      "1          ecalamos@argentina.com\n",
      "4          conghos@hotmail.com.ar\n",
      "5     marianonicola1975@gmail.com\n",
      "6         estudio_dlq@hotmail.com\n",
      "7       mmroncoli@eiascoop.com.ar\n",
      "8      jp@ambienteyterritorio.com\n",
      "1    aradoconsultora@jsnet.com.ar\n",
      "2        fedegarcia83@hotmail.com\n",
      "4       maroteclaudio@hotmail.com\n",
      "5        EMERONO2004@YAHOO.COM.AR\n",
      "7              neldo@ar.inter.net\n",
      "1           valjauregui@gmail.com\n",
      "1     guillermo@ghernandez.com.ar\n",
      "dtype: object\n"
     ]
    },
    {
     "name": "stderr",
     "output_type": "stream",
     "text": [
      "\n",
      "  2%|▏         | 9/384 [01:56<1:09:22, 11.10s/it]\u001b[A"
     ]
    },
    {
     "name": "stdout",
     "output_type": "stream",
     "text": [
      "Analista Ecológico y en  Contaminación Done 1            ggcisterna@gmail.com\n",
      "1      sanchogabriela@hotmail.com\n",
      "1          ecalamos@argentina.com\n",
      "4          conghos@hotmail.com.ar\n",
      "5     marianonicola1975@gmail.com\n",
      "6         estudio_dlq@hotmail.com\n",
      "7       mmroncoli@eiascoop.com.ar\n",
      "8      jp@ambienteyterritorio.com\n",
      "1    aradoconsultora@jsnet.com.ar\n",
      "2        fedegarcia83@hotmail.com\n",
      "4       maroteclaudio@hotmail.com\n",
      "5        EMERONO2004@YAHOO.COM.AR\n",
      "7              neldo@ar.inter.net\n",
      "1           valjauregui@gmail.com\n",
      "1     guillermo@ghernandez.com.ar\n",
      "1     guillermo@ghernandez.com.ar\n",
      "dtype: object\n"
     ]
    },
    {
     "name": "stderr",
     "output_type": "stream",
     "text": [
      "\n",
      "  3%|▎         | 10/384 [02:03<1:01:24,  9.85s/it]\u001b[A"
     ]
    },
    {
     "name": "stdout",
     "output_type": "stream",
     "text": [
      "Analista en Ciencias Ambientales Done 1            ggcisterna@gmail.com\n",
      "1      sanchogabriela@hotmail.com\n",
      "1          ecalamos@argentina.com\n",
      "4          conghos@hotmail.com.ar\n",
      "5     marianonicola1975@gmail.com\n",
      "6         estudio_dlq@hotmail.com\n",
      "7       mmroncoli@eiascoop.com.ar\n",
      "8      jp@ambienteyterritorio.com\n",
      "1    aradoconsultora@jsnet.com.ar\n",
      "2        fedegarcia83@hotmail.com\n",
      "4       maroteclaudio@hotmail.com\n",
      "5        EMERONO2004@YAHOO.COM.AR\n",
      "7              neldo@ar.inter.net\n",
      "1           valjauregui@gmail.com\n",
      "1     guillermo@ghernandez.com.ar\n",
      "1     guillermo@ghernandez.com.ar\n",
      "1          pablojcucchi@gmail.com\n",
      "2         nachostoray@hotmail.com\n",
      "dtype: object\n"
     ]
    },
    {
     "name": "stderr",
     "output_type": "stream",
     "text": [
      "\n",
      "  3%|▎         | 11/384 [02:10<55:19,  8.90s/it]  \u001b[A"
     ]
    },
    {
     "name": "stdout",
     "output_type": "stream",
     "text": [
      "Analista en Contaminación y Analista Ecológico Done 1            ggcisterna@gmail.com\n",
      "1      sanchogabriela@hotmail.com\n",
      "1          ecalamos@argentina.com\n",
      "4          conghos@hotmail.com.ar\n",
      "5     marianonicola1975@gmail.com\n",
      "6         estudio_dlq@hotmail.com\n",
      "7       mmroncoli@eiascoop.com.ar\n",
      "8      jp@ambienteyterritorio.com\n",
      "1    aradoconsultora@jsnet.com.ar\n",
      "2        fedegarcia83@hotmail.com\n",
      "4       maroteclaudio@hotmail.com\n",
      "5        EMERONO2004@YAHOO.COM.AR\n",
      "7              neldo@ar.inter.net\n",
      "1           valjauregui@gmail.com\n",
      "1     guillermo@ghernandez.com.ar\n",
      "1     guillermo@ghernandez.com.ar\n",
      "1          pablojcucchi@gmail.com\n",
      "2         nachostoray@hotmail.com\n",
      "dtype: object\n"
     ]
    },
    {
     "name": "stderr",
     "output_type": "stream",
     "text": [
      "\n",
      "  3%|▎         | 12/384 [02:17<51:31,  8.31s/it]\u001b[A"
     ]
    },
    {
     "name": "stdout",
     "output_type": "stream",
     "text": [
      "ANALISTA UNIVERSITARIO EN MONITOREO DEL AMBIENTE Done 1              ggcisterna@gmail.com\n",
      "1        sanchogabriela@hotmail.com\n",
      "1            ecalamos@argentina.com\n",
      "4            conghos@hotmail.com.ar\n",
      "5       marianonicola1975@gmail.com\n",
      "6           estudio_dlq@hotmail.com\n",
      "7         mmroncoli@eiascoop.com.ar\n",
      "8        jp@ambienteyterritorio.com\n",
      "1      aradoconsultora@jsnet.com.ar\n",
      "2          fedegarcia83@hotmail.com\n",
      "4         maroteclaudio@hotmail.com\n",
      "5          EMERONO2004@YAHOO.COM.AR\n",
      "7                neldo@ar.inter.net\n",
      "1             valjauregui@gmail.com\n",
      "1       guillermo@ghernandez.com.ar\n",
      "1       guillermo@ghernandez.com.ar\n",
      "1            pablojcucchi@gmail.com\n",
      "2           nachostoray@hotmail.com\n",
      "1    mariano.javier.veron@gmail.com\n",
      "dtype: object\n"
     ]
    },
    {
     "name": "stderr",
     "output_type": "stream",
     "text": [
      "\n",
      "  3%|▎         | 13/384 [02:23<46:13,  7.48s/it]\u001b[A"
     ]
    },
    {
     "name": "stdout",
     "output_type": "stream",
     "text": [
      "Antropologa Done 1              ggcisterna@gmail.com\n",
      "1        sanchogabriela@hotmail.com\n",
      "1            ecalamos@argentina.com\n",
      "4            conghos@hotmail.com.ar\n",
      "5       marianonicola1975@gmail.com\n",
      "6           estudio_dlq@hotmail.com\n",
      "7         mmroncoli@eiascoop.com.ar\n",
      "8        jp@ambienteyterritorio.com\n",
      "1      aradoconsultora@jsnet.com.ar\n",
      "2          fedegarcia83@hotmail.com\n",
      "4         maroteclaudio@hotmail.com\n",
      "5          EMERONO2004@YAHOO.COM.AR\n",
      "7                neldo@ar.inter.net\n",
      "1             valjauregui@gmail.com\n",
      "1       guillermo@ghernandez.com.ar\n",
      "1       guillermo@ghernandez.com.ar\n",
      "1            pablojcucchi@gmail.com\n",
      "2           nachostoray@hotmail.com\n",
      "1    mariano.javier.veron@gmail.com\n",
      "dtype: object\n"
     ]
    },
    {
     "name": "stderr",
     "output_type": "stream",
     "text": [
      "\n",
      "  4%|▎         | 14/384 [02:38<59:59,  9.73s/it]\u001b[A"
     ]
    },
    {
     "name": "stdout",
     "output_type": "stream",
     "text": [
      "Arquitecta Done 1              ggcisterna@gmail.com\n",
      "1        sanchogabriela@hotmail.com\n",
      "1            ecalamos@argentina.com\n",
      "4            conghos@hotmail.com.ar\n",
      "5       marianonicola1975@gmail.com\n",
      "6           estudio_dlq@hotmail.com\n",
      "7         mmroncoli@eiascoop.com.ar\n",
      "8        jp@ambienteyterritorio.com\n",
      "1      aradoconsultora@jsnet.com.ar\n",
      "2          fedegarcia83@hotmail.com\n",
      "4         maroteclaudio@hotmail.com\n",
      "5          EMERONO2004@YAHOO.COM.AR\n",
      "7                neldo@ar.inter.net\n",
      "1             valjauregui@gmail.com\n",
      "1       guillermo@ghernandez.com.ar\n",
      "1       guillermo@ghernandez.com.ar\n",
      "1            pablojcucchi@gmail.com\n",
      "2           nachostoray@hotmail.com\n",
      "1    mariano.javier.veron@gmail.com\n",
      "1           paulalagana@hotmail.com\n",
      "2      constanzamantovani@gmail.com\n",
      "3              sofisimizu@gmail.com\n",
      "dtype: object\n"
     ]
    },
    {
     "name": "stderr",
     "output_type": "stream",
     "text": [
      "\n",
      "  4%|▍         | 15/384 [04:21<3:52:39, 37.83s/it]\u001b[A"
     ]
    },
    {
     "name": "stdout",
     "output_type": "stream",
     "text": [
      "Arquitecto Done 1                    ggcisterna@gmail.com\n",
      "1              sanchogabriela@hotmail.com\n",
      "1                  ecalamos@argentina.com\n",
      "4                  conghos@hotmail.com.ar\n",
      "5             marianonicola1975@gmail.com\n",
      "6                 estudio_dlq@hotmail.com\n",
      "7               mmroncoli@eiascoop.com.ar\n",
      "8              jp@ambienteyterritorio.com\n",
      "1            aradoconsultora@jsnet.com.ar\n",
      "2                fedegarcia83@hotmail.com\n",
      "4               maroteclaudio@hotmail.com\n",
      "5                EMERONO2004@YAHOO.COM.AR\n",
      "7                      neldo@ar.inter.net\n",
      "1                   valjauregui@gmail.com\n",
      "1             guillermo@ghernandez.com.ar\n",
      "1             guillermo@ghernandez.com.ar\n",
      "1                  pablojcucchi@gmail.com\n",
      "2                 nachostoray@hotmail.com\n",
      "1          mariano.javier.veron@gmail.com\n",
      "1                 paulalagana@hotmail.com\n",
      "2            constanzamantovani@gmail.com\n",
      "3                    sofisimizu@gmail.com\n",
      "1                        balderiote@arnet\n",
      "2                  ceciliadambo@gmail.com\n",
      "3              de-carolis@sinectis.com.ar\n",
      "4             patryciogarcia@yahoo.com.ar\n",
      "5               luisakurata@speedy.com.ar\n",
      "7                 e.mariamuller@gmail.com\n",
      "8                    ecotimesrl@gmail.com\n",
      "9                   otegui.ruth@gmail.com\n",
      "11                     PASGROMO@GMAIL.COM\n",
      "12    bernardostocker@catambiental.com.ar\n",
      "13               guillermo.taft@gmail.com\n",
      "dtype: object\n"
     ]
    },
    {
     "name": "stderr",
     "output_type": "stream",
     "text": [
      "\n",
      "  4%|▍         | 16/384 [04:28<2:55:38, 28.64s/it]\u001b[A"
     ]
    },
    {
     "name": "stdout",
     "output_type": "stream",
     "text": [
      "Artillero y corredor Publico Done 1                    ggcisterna@gmail.com\n",
      "1              sanchogabriela@hotmail.com\n",
      "1                  ecalamos@argentina.com\n",
      "4                  conghos@hotmail.com.ar\n",
      "5             marianonicola1975@gmail.com\n",
      "6                 estudio_dlq@hotmail.com\n",
      "7               mmroncoli@eiascoop.com.ar\n",
      "8              jp@ambienteyterritorio.com\n",
      "1            aradoconsultora@jsnet.com.ar\n",
      "2                fedegarcia83@hotmail.com\n",
      "4               maroteclaudio@hotmail.com\n",
      "5                EMERONO2004@YAHOO.COM.AR\n",
      "7                      neldo@ar.inter.net\n",
      "1                   valjauregui@gmail.com\n",
      "1             guillermo@ghernandez.com.ar\n",
      "1             guillermo@ghernandez.com.ar\n",
      "1                  pablojcucchi@gmail.com\n",
      "2                 nachostoray@hotmail.com\n",
      "1          mariano.javier.veron@gmail.com\n",
      "1                 paulalagana@hotmail.com\n",
      "2            constanzamantovani@gmail.com\n",
      "3                    sofisimizu@gmail.com\n",
      "1                        balderiote@arnet\n",
      "2                  ceciliadambo@gmail.com\n",
      "3              de-carolis@sinectis.com.ar\n",
      "4             patryciogarcia@yahoo.com.ar\n",
      "5               luisakurata@speedy.com.ar\n",
      "7                 e.mariamuller@gmail.com\n",
      "8                    ecotimesrl@gmail.com\n",
      "9                   otegui.ruth@gmail.com\n",
      "11                     PASGROMO@GMAIL.COM\n",
      "12    bernardostocker@catambiental.com.ar\n",
      "13               guillermo.taft@gmail.com\n",
      "dtype: object\n"
     ]
    },
    {
     "name": "stderr",
     "output_type": "stream",
     "text": [
      "\n",
      "  4%|▍         | 17/384 [04:36<2:17:50, 22.54s/it]\u001b[A"
     ]
    },
    {
     "name": "stdout",
     "output_type": "stream",
     "text": [
      "BIOLOGA Done 1                    ggcisterna@gmail.com\n",
      "1              sanchogabriela@hotmail.com\n",
      "1                  ecalamos@argentina.com\n",
      "4                  conghos@hotmail.com.ar\n",
      "5             marianonicola1975@gmail.com\n",
      "6                 estudio_dlq@hotmail.com\n",
      "7               mmroncoli@eiascoop.com.ar\n",
      "8              jp@ambienteyterritorio.com\n",
      "1            aradoconsultora@jsnet.com.ar\n",
      "2                fedegarcia83@hotmail.com\n",
      "4               maroteclaudio@hotmail.com\n",
      "5                EMERONO2004@YAHOO.COM.AR\n",
      "7                      neldo@ar.inter.net\n",
      "1                   valjauregui@gmail.com\n",
      "1             guillermo@ghernandez.com.ar\n",
      "1             guillermo@ghernandez.com.ar\n",
      "1                  pablojcucchi@gmail.com\n",
      "2                 nachostoray@hotmail.com\n",
      "1          mariano.javier.veron@gmail.com\n",
      "1                 paulalagana@hotmail.com\n",
      "2            constanzamantovani@gmail.com\n",
      "3                    sofisimizu@gmail.com\n",
      "1                        balderiote@arnet\n",
      "2                  ceciliadambo@gmail.com\n",
      "3              de-carolis@sinectis.com.ar\n",
      "4             patryciogarcia@yahoo.com.ar\n",
      "5               luisakurata@speedy.com.ar\n",
      "7                 e.mariamuller@gmail.com\n",
      "8                    ecotimesrl@gmail.com\n",
      "9                   otegui.ruth@gmail.com\n",
      "11                     PASGROMO@GMAIL.COM\n",
      "12    bernardostocker@catambiental.com.ar\n",
      "13               guillermo.taft@gmail.com\n",
      "1                mborland_amb@hotmail.com\n",
      "2                       lucigoy@gmail.com\n",
      "3               msalvioli@ing.unlp.edu.ar\n",
      "dtype: object\n"
     ]
    },
    {
     "name": "stderr",
     "output_type": "stream",
     "text": [
      "\n",
      "  5%|▍         | 18/384 [05:20<2:56:15, 28.89s/it]\u001b[A"
     ]
    },
    {
     "name": "stdout",
     "output_type": "stream",
     "text": [
      "Biologo Done 1                    ggcisterna@gmail.com\n",
      "1              sanchogabriela@hotmail.com\n",
      "1                  ecalamos@argentina.com\n",
      "4                  conghos@hotmail.com.ar\n",
      "5             marianonicola1975@gmail.com\n",
      "6                 estudio_dlq@hotmail.com\n",
      "7               mmroncoli@eiascoop.com.ar\n",
      "8              jp@ambienteyterritorio.com\n",
      "1            aradoconsultora@jsnet.com.ar\n",
      "2                fedegarcia83@hotmail.com\n",
      "4               maroteclaudio@hotmail.com\n",
      "5                EMERONO2004@YAHOO.COM.AR\n",
      "7                      neldo@ar.inter.net\n",
      "1                   valjauregui@gmail.com\n",
      "1             guillermo@ghernandez.com.ar\n",
      "1             guillermo@ghernandez.com.ar\n",
      "1                  pablojcucchi@gmail.com\n",
      "2                 nachostoray@hotmail.com\n",
      "1          mariano.javier.veron@gmail.com\n",
      "1                 paulalagana@hotmail.com\n",
      "2            constanzamantovani@gmail.com\n",
      "3                    sofisimizu@gmail.com\n",
      "1                        balderiote@arnet\n",
      "2                  ceciliadambo@gmail.com\n",
      "3              de-carolis@sinectis.com.ar\n",
      "4             patryciogarcia@yahoo.com.ar\n",
      "5               luisakurata@speedy.com.ar\n",
      "7                 e.mariamuller@gmail.com\n",
      "8                    ecotimesrl@gmail.com\n",
      "9                   otegui.ruth@gmail.com\n",
      "11                     PASGROMO@GMAIL.COM\n",
      "12    bernardostocker@catambiental.com.ar\n",
      "13               guillermo.taft@gmail.com\n",
      "1                mborland_amb@hotmail.com\n",
      "2                       lucigoy@gmail.com\n",
      "3               msalvioli@ing.unlp.edu.ar\n",
      "1                abertona@fibertel.com.ar\n",
      "2                    gdbulus@yahoo.com.ar\n",
      "3                  info@ecotecnica.com.ar\n",
      "4               PROTO@ECOGESTIONAR.COM.AR\n",
      "6                   jilescano88@gmail.com\n",
      "7           javiermartinezheres@gmail.com\n",
      "8                lilianarithner@gmail.com\n",
      "9               axonambiental@hotmail.com\n",
      "11          rafael.emilio.silva@gmail.com\n",
      "12                        ZULETA.GUSTAVO@\n",
      "dtype: object\n"
     ]
    },
    {
     "name": "stderr",
     "output_type": "stream",
     "text": [
      "\n",
      "  5%|▍         | 19/384 [05:34<2:27:51, 24.31s/it]\u001b[A"
     ]
    },
    {
     "name": "stdout",
     "output_type": "stream",
     "text": [
      "Bioquímico Done 1                    ggcisterna@gmail.com\n",
      "1              sanchogabriela@hotmail.com\n",
      "1                  ecalamos@argentina.com\n",
      "4                  conghos@hotmail.com.ar\n",
      "5             marianonicola1975@gmail.com\n",
      "6                 estudio_dlq@hotmail.com\n",
      "7               mmroncoli@eiascoop.com.ar\n",
      "8              jp@ambienteyterritorio.com\n",
      "1            aradoconsultora@jsnet.com.ar\n",
      "2                fedegarcia83@hotmail.com\n",
      "4               maroteclaudio@hotmail.com\n",
      "5                EMERONO2004@YAHOO.COM.AR\n",
      "7                      neldo@ar.inter.net\n",
      "1                   valjauregui@gmail.com\n",
      "1             guillermo@ghernandez.com.ar\n",
      "1             guillermo@ghernandez.com.ar\n",
      "1                  pablojcucchi@gmail.com\n",
      "2                 nachostoray@hotmail.com\n",
      "1          mariano.javier.veron@gmail.com\n",
      "1                 paulalagana@hotmail.com\n",
      "2            constanzamantovani@gmail.com\n",
      "3                    sofisimizu@gmail.com\n",
      "1                        balderiote@arnet\n",
      "2                  ceciliadambo@gmail.com\n",
      "3              de-carolis@sinectis.com.ar\n",
      "4             patryciogarcia@yahoo.com.ar\n",
      "5               luisakurata@speedy.com.ar\n",
      "7                 e.mariamuller@gmail.com\n",
      "8                    ecotimesrl@gmail.com\n",
      "9                   otegui.ruth@gmail.com\n",
      "11                     PASGROMO@GMAIL.COM\n",
      "12    bernardostocker@catambiental.com.ar\n",
      "13               guillermo.taft@gmail.com\n",
      "1                mborland_amb@hotmail.com\n",
      "2                       lucigoy@gmail.com\n",
      "3               msalvioli@ing.unlp.edu.ar\n",
      "1                abertona@fibertel.com.ar\n",
      "2                    gdbulus@yahoo.com.ar\n",
      "3                  info@ecotecnica.com.ar\n",
      "4               PROTO@ECOGESTIONAR.COM.AR\n",
      "6                   jilescano88@gmail.com\n",
      "7           javiermartinezheres@gmail.com\n",
      "8                lilianarithner@gmail.com\n",
      "9               axonambiental@hotmail.com\n",
      "11          rafael.emilio.silva@gmail.com\n",
      "12                        ZULETA.GUSTAVO@\n",
      "2               ricardodeina@yahoo.com.ar\n",
      "3                   CINIRGON@YAHOO.COM.AR\n",
      "4          vgraf@laboratoriowasser.com.ar\n",
      "5                    MJSALELLAS@GMAIL.COM\n",
      "6                 gvalentinuzzi@gmail.com\n",
      "dtype: object\n"
     ]
    },
    {
     "name": "stderr",
     "output_type": "stream",
     "text": [
      "\n",
      "  5%|▌         | 20/384 [05:39<1:53:05, 18.64s/it]\u001b[A"
     ]
    },
    {
     "name": "stdout",
     "output_type": "stream",
     "text": [
      "con orientacion en botanica Done 1                    ggcisterna@gmail.com\n",
      "1              sanchogabriela@hotmail.com\n",
      "1                  ecalamos@argentina.com\n",
      "4                  conghos@hotmail.com.ar\n",
      "5             marianonicola1975@gmail.com\n",
      "6                 estudio_dlq@hotmail.com\n",
      "7               mmroncoli@eiascoop.com.ar\n",
      "8              jp@ambienteyterritorio.com\n",
      "1            aradoconsultora@jsnet.com.ar\n",
      "2                fedegarcia83@hotmail.com\n",
      "4               maroteclaudio@hotmail.com\n",
      "5                EMERONO2004@YAHOO.COM.AR\n",
      "7                      neldo@ar.inter.net\n",
      "1                   valjauregui@gmail.com\n",
      "1             guillermo@ghernandez.com.ar\n",
      "1             guillermo@ghernandez.com.ar\n",
      "1                  pablojcucchi@gmail.com\n",
      "2                 nachostoray@hotmail.com\n",
      "1          mariano.javier.veron@gmail.com\n",
      "1                 paulalagana@hotmail.com\n",
      "2            constanzamantovani@gmail.com\n",
      "3                    sofisimizu@gmail.com\n",
      "1                        balderiote@arnet\n",
      "2                  ceciliadambo@gmail.com\n",
      "3              de-carolis@sinectis.com.ar\n",
      "4             patryciogarcia@yahoo.com.ar\n",
      "5               luisakurata@speedy.com.ar\n",
      "7                 e.mariamuller@gmail.com\n",
      "8                    ecotimesrl@gmail.com\n",
      "9                   otegui.ruth@gmail.com\n",
      "11                     PASGROMO@GMAIL.COM\n",
      "12    bernardostocker@catambiental.com.ar\n",
      "13               guillermo.taft@gmail.com\n",
      "1                mborland_amb@hotmail.com\n",
      "2                       lucigoy@gmail.com\n",
      "3               msalvioli@ing.unlp.edu.ar\n",
      "1                abertona@fibertel.com.ar\n",
      "2                    gdbulus@yahoo.com.ar\n",
      "3                  info@ecotecnica.com.ar\n",
      "4               PROTO@ECOGESTIONAR.COM.AR\n",
      "6                   jilescano88@gmail.com\n",
      "7           javiermartinezheres@gmail.com\n",
      "8                lilianarithner@gmail.com\n",
      "9               axonambiental@hotmail.com\n",
      "11          rafael.emilio.silva@gmail.com\n",
      "12                        ZULETA.GUSTAVO@\n",
      "2               ricardodeina@yahoo.com.ar\n",
      "3                   CINIRGON@YAHOO.COM.AR\n",
      "4          vgraf@laboratoriowasser.com.ar\n",
      "5                    MJSALELLAS@GMAIL.COM\n",
      "6                 gvalentinuzzi@gmail.com\n",
      "dtype: object\n"
     ]
    },
    {
     "name": "stderr",
     "output_type": "stream",
     "text": [
      "\n",
      "  5%|▌         | 21/384 [05:45<1:29:10, 14.74s/it]\u001b[A"
     ]
    },
    {
     "name": "stdout",
     "output_type": "stream",
     "text": [
      "Contador Done 1                    ggcisterna@gmail.com\n",
      "1              sanchogabriela@hotmail.com\n",
      "1                  ecalamos@argentina.com\n",
      "4                  conghos@hotmail.com.ar\n",
      "5             marianonicola1975@gmail.com\n",
      "6                 estudio_dlq@hotmail.com\n",
      "7               mmroncoli@eiascoop.com.ar\n",
      "8              jp@ambienteyterritorio.com\n",
      "1            aradoconsultora@jsnet.com.ar\n",
      "2                fedegarcia83@hotmail.com\n",
      "4               maroteclaudio@hotmail.com\n",
      "5                EMERONO2004@YAHOO.COM.AR\n",
      "7                      neldo@ar.inter.net\n",
      "1                   valjauregui@gmail.com\n",
      "1             guillermo@ghernandez.com.ar\n",
      "1             guillermo@ghernandez.com.ar\n",
      "1                  pablojcucchi@gmail.com\n",
      "2                 nachostoray@hotmail.com\n",
      "1          mariano.javier.veron@gmail.com\n",
      "1                 paulalagana@hotmail.com\n",
      "2            constanzamantovani@gmail.com\n",
      "3                    sofisimizu@gmail.com\n",
      "1                        balderiote@arnet\n",
      "2                  ceciliadambo@gmail.com\n",
      "3              de-carolis@sinectis.com.ar\n",
      "4             patryciogarcia@yahoo.com.ar\n",
      "5               luisakurata@speedy.com.ar\n",
      "7                 e.mariamuller@gmail.com\n",
      "8                    ecotimesrl@gmail.com\n",
      "9                   otegui.ruth@gmail.com\n",
      "11                     PASGROMO@GMAIL.COM\n",
      "12    bernardostocker@catambiental.com.ar\n",
      "13               guillermo.taft@gmail.com\n",
      "1                mborland_amb@hotmail.com\n",
      "2                       lucigoy@gmail.com\n",
      "3               msalvioli@ing.unlp.edu.ar\n",
      "1                abertona@fibertel.com.ar\n",
      "2                    gdbulus@yahoo.com.ar\n",
      "3                  info@ecotecnica.com.ar\n",
      "4               PROTO@ECOGESTIONAR.COM.AR\n",
      "6                   jilescano88@gmail.com\n",
      "7           javiermartinezheres@gmail.com\n",
      "8                lilianarithner@gmail.com\n",
      "9               axonambiental@hotmail.com\n",
      "11          rafael.emilio.silva@gmail.com\n",
      "12                        ZULETA.GUSTAVO@\n",
      "2               ricardodeina@yahoo.com.ar\n",
      "3                   CINIRGON@YAHOO.COM.AR\n",
      "4          vgraf@laboratoriowasser.com.ar\n",
      "5                    MJSALELLAS@GMAIL.COM\n",
      "6                 gvalentinuzzi@gmail.com\n",
      "dtype: object\n"
     ]
    },
    {
     "name": "stderr",
     "output_type": "stream",
     "text": [
      "\n",
      "  6%|▌         | 22/384 [05:51<1:13:45, 12.22s/it]\u001b[A"
     ]
    },
    {
     "name": "stdout",
     "output_type": "stream",
     "text": [
      "Curso de Evaluacion de Impacto Ambiental y Proyect Done 1                    ggcisterna@gmail.com\n",
      "1              sanchogabriela@hotmail.com\n",
      "1                  ecalamos@argentina.com\n",
      "4                  conghos@hotmail.com.ar\n",
      "5             marianonicola1975@gmail.com\n",
      "6                 estudio_dlq@hotmail.com\n",
      "7               mmroncoli@eiascoop.com.ar\n",
      "8              jp@ambienteyterritorio.com\n",
      "1            aradoconsultora@jsnet.com.ar\n",
      "2                fedegarcia83@hotmail.com\n",
      "4               maroteclaudio@hotmail.com\n",
      "5                EMERONO2004@YAHOO.COM.AR\n",
      "7                      neldo@ar.inter.net\n",
      "1                   valjauregui@gmail.com\n",
      "1             guillermo@ghernandez.com.ar\n",
      "1             guillermo@ghernandez.com.ar\n",
      "1                  pablojcucchi@gmail.com\n",
      "2                 nachostoray@hotmail.com\n",
      "1          mariano.javier.veron@gmail.com\n",
      "1                 paulalagana@hotmail.com\n",
      "2            constanzamantovani@gmail.com\n",
      "3                    sofisimizu@gmail.com\n",
      "1                        balderiote@arnet\n",
      "2                  ceciliadambo@gmail.com\n",
      "3              de-carolis@sinectis.com.ar\n",
      "4             patryciogarcia@yahoo.com.ar\n",
      "5               luisakurata@speedy.com.ar\n",
      "7                 e.mariamuller@gmail.com\n",
      "8                    ecotimesrl@gmail.com\n",
      "9                   otegui.ruth@gmail.com\n",
      "11                     PASGROMO@GMAIL.COM\n",
      "12    bernardostocker@catambiental.com.ar\n",
      "13               guillermo.taft@gmail.com\n",
      "1                mborland_amb@hotmail.com\n",
      "2                       lucigoy@gmail.com\n",
      "3               msalvioli@ing.unlp.edu.ar\n",
      "1                abertona@fibertel.com.ar\n",
      "2                    gdbulus@yahoo.com.ar\n",
      "3                  info@ecotecnica.com.ar\n",
      "4               PROTO@ECOGESTIONAR.COM.AR\n",
      "6                   jilescano88@gmail.com\n",
      "7           javiermartinezheres@gmail.com\n",
      "8                lilianarithner@gmail.com\n",
      "9               axonambiental@hotmail.com\n",
      "11          rafael.emilio.silva@gmail.com\n",
      "12                        ZULETA.GUSTAVO@\n",
      "2               ricardodeina@yahoo.com.ar\n",
      "3                   CINIRGON@YAHOO.COM.AR\n",
      "4          vgraf@laboratoriowasser.com.ar\n",
      "5                    MJSALELLAS@GMAIL.COM\n",
      "6                 gvalentinuzzi@gmail.com\n",
      "dtype: object\n"
     ]
    },
    {
     "name": "stderr",
     "output_type": "stream",
     "text": [
      "\n",
      "  6%|▌         | 23/384 [05:57<1:02:34, 10.40s/it]\u001b[A"
     ]
    },
    {
     "name": "stdout",
     "output_type": "stream",
     "text": [
      "curso de psgrado en EIA Done 1                    ggcisterna@gmail.com\n",
      "1              sanchogabriela@hotmail.com\n",
      "1                  ecalamos@argentina.com\n",
      "4                  conghos@hotmail.com.ar\n",
      "5             marianonicola1975@gmail.com\n",
      "6                 estudio_dlq@hotmail.com\n",
      "7               mmroncoli@eiascoop.com.ar\n",
      "8              jp@ambienteyterritorio.com\n",
      "1            aradoconsultora@jsnet.com.ar\n",
      "2                fedegarcia83@hotmail.com\n",
      "4               maroteclaudio@hotmail.com\n",
      "5                EMERONO2004@YAHOO.COM.AR\n",
      "7                      neldo@ar.inter.net\n",
      "1                   valjauregui@gmail.com\n",
      "1             guillermo@ghernandez.com.ar\n",
      "1             guillermo@ghernandez.com.ar\n",
      "1                  pablojcucchi@gmail.com\n",
      "2                 nachostoray@hotmail.com\n",
      "1          mariano.javier.veron@gmail.com\n",
      "1                 paulalagana@hotmail.com\n",
      "2            constanzamantovani@gmail.com\n",
      "3                    sofisimizu@gmail.com\n",
      "1                        balderiote@arnet\n",
      "2                  ceciliadambo@gmail.com\n",
      "3              de-carolis@sinectis.com.ar\n",
      "4             patryciogarcia@yahoo.com.ar\n",
      "5               luisakurata@speedy.com.ar\n",
      "7                 e.mariamuller@gmail.com\n",
      "8                    ecotimesrl@gmail.com\n",
      "9                   otegui.ruth@gmail.com\n",
      "11                     PASGROMO@GMAIL.COM\n",
      "12    bernardostocker@catambiental.com.ar\n",
      "13               guillermo.taft@gmail.com\n",
      "1                mborland_amb@hotmail.com\n",
      "2                       lucigoy@gmail.com\n",
      "3               msalvioli@ing.unlp.edu.ar\n",
      "1                abertona@fibertel.com.ar\n",
      "2                    gdbulus@yahoo.com.ar\n",
      "3                  info@ecotecnica.com.ar\n",
      "4               PROTO@ECOGESTIONAR.COM.AR\n",
      "6                   jilescano88@gmail.com\n",
      "7           javiermartinezheres@gmail.com\n",
      "8                lilianarithner@gmail.com\n",
      "9               axonambiental@hotmail.com\n",
      "11          rafael.emilio.silva@gmail.com\n",
      "12                        ZULETA.GUSTAVO@\n",
      "2               ricardodeina@yahoo.com.ar\n",
      "3                   CINIRGON@YAHOO.COM.AR\n",
      "4          vgraf@laboratoriowasser.com.ar\n",
      "5                    MJSALELLAS@GMAIL.COM\n",
      "6                 gvalentinuzzi@gmail.com\n",
      "dtype: object\n"
     ]
    },
    {
     "name": "stderr",
     "output_type": "stream",
     "text": [
      "\n",
      "  6%|▋         | 24/384 [06:04<56:05,  9.35s/it]  \u001b[A"
     ]
    },
    {
     "name": "stdout",
     "output_type": "stream",
     "text": [
      "CURSO DE PUESTA A TIERRA DE PLANTAS INDUSTRIALES Done 1                    ggcisterna@gmail.com\n",
      "1              sanchogabriela@hotmail.com\n",
      "1                  ecalamos@argentina.com\n",
      "4                  conghos@hotmail.com.ar\n",
      "5             marianonicola1975@gmail.com\n",
      "6                 estudio_dlq@hotmail.com\n",
      "7               mmroncoli@eiascoop.com.ar\n",
      "8              jp@ambienteyterritorio.com\n",
      "1            aradoconsultora@jsnet.com.ar\n",
      "2                fedegarcia83@hotmail.com\n",
      "4               maroteclaudio@hotmail.com\n",
      "5                EMERONO2004@YAHOO.COM.AR\n",
      "7                      neldo@ar.inter.net\n",
      "1                   valjauregui@gmail.com\n",
      "1             guillermo@ghernandez.com.ar\n",
      "1             guillermo@ghernandez.com.ar\n",
      "1                  pablojcucchi@gmail.com\n",
      "2                 nachostoray@hotmail.com\n",
      "1          mariano.javier.veron@gmail.com\n",
      "1                 paulalagana@hotmail.com\n",
      "2            constanzamantovani@gmail.com\n",
      "3                    sofisimizu@gmail.com\n",
      "1                        balderiote@arnet\n",
      "2                  ceciliadambo@gmail.com\n",
      "3              de-carolis@sinectis.com.ar\n",
      "4             patryciogarcia@yahoo.com.ar\n",
      "5               luisakurata@speedy.com.ar\n",
      "7                 e.mariamuller@gmail.com\n",
      "8                    ecotimesrl@gmail.com\n",
      "9                   otegui.ruth@gmail.com\n",
      "11                     PASGROMO@GMAIL.COM\n",
      "12    bernardostocker@catambiental.com.ar\n",
      "13               guillermo.taft@gmail.com\n",
      "1                mborland_amb@hotmail.com\n",
      "2                       lucigoy@gmail.com\n",
      "3               msalvioli@ing.unlp.edu.ar\n",
      "1                abertona@fibertel.com.ar\n",
      "2                    gdbulus@yahoo.com.ar\n",
      "3                  info@ecotecnica.com.ar\n",
      "4               PROTO@ECOGESTIONAR.COM.AR\n",
      "6                   jilescano88@gmail.com\n",
      "7           javiermartinezheres@gmail.com\n",
      "8                lilianarithner@gmail.com\n",
      "9               axonambiental@hotmail.com\n",
      "11          rafael.emilio.silva@gmail.com\n",
      "12                        ZULETA.GUSTAVO@\n",
      "2               ricardodeina@yahoo.com.ar\n",
      "3                   CINIRGON@YAHOO.COM.AR\n",
      "4          vgraf@laboratoriowasser.com.ar\n",
      "5                    MJSALELLAS@GMAIL.COM\n",
      "6                 gvalentinuzzi@gmail.com\n",
      "1                raulmonsalvo57@gmail.com\n",
      "dtype: object\n"
     ]
    },
    {
     "name": "stderr",
     "output_type": "stream",
     "text": [
      "\n",
      "  7%|▋         | 25/384 [06:11<50:51,  8.50s/it]\u001b[A"
     ]
    },
    {
     "name": "stdout",
     "output_type": "stream",
     "text": [
      "Curso EIA y Proyecto Urbano Done 1                    ggcisterna@gmail.com\n",
      "1              sanchogabriela@hotmail.com\n",
      "1                  ecalamos@argentina.com\n",
      "4                  conghos@hotmail.com.ar\n",
      "5             marianonicola1975@gmail.com\n",
      "6                 estudio_dlq@hotmail.com\n",
      "7               mmroncoli@eiascoop.com.ar\n",
      "8              jp@ambienteyterritorio.com\n",
      "1            aradoconsultora@jsnet.com.ar\n",
      "2                fedegarcia83@hotmail.com\n",
      "4               maroteclaudio@hotmail.com\n",
      "5                EMERONO2004@YAHOO.COM.AR\n",
      "7                      neldo@ar.inter.net\n",
      "1                   valjauregui@gmail.com\n",
      "1             guillermo@ghernandez.com.ar\n",
      "1             guillermo@ghernandez.com.ar\n",
      "1                  pablojcucchi@gmail.com\n",
      "2                 nachostoray@hotmail.com\n",
      "1          mariano.javier.veron@gmail.com\n",
      "1                 paulalagana@hotmail.com\n",
      "2            constanzamantovani@gmail.com\n",
      "3                    sofisimizu@gmail.com\n",
      "1                        balderiote@arnet\n",
      "2                  ceciliadambo@gmail.com\n",
      "3              de-carolis@sinectis.com.ar\n",
      "4             patryciogarcia@yahoo.com.ar\n",
      "5               luisakurata@speedy.com.ar\n",
      "7                 e.mariamuller@gmail.com\n",
      "8                    ecotimesrl@gmail.com\n",
      "9                   otegui.ruth@gmail.com\n",
      "11                     PASGROMO@GMAIL.COM\n",
      "12    bernardostocker@catambiental.com.ar\n",
      "13               guillermo.taft@gmail.com\n",
      "1                mborland_amb@hotmail.com\n",
      "2                       lucigoy@gmail.com\n",
      "3               msalvioli@ing.unlp.edu.ar\n",
      "1                abertona@fibertel.com.ar\n",
      "2                    gdbulus@yahoo.com.ar\n",
      "3                  info@ecotecnica.com.ar\n",
      "4               PROTO@ECOGESTIONAR.COM.AR\n",
      "6                   jilescano88@gmail.com\n",
      "7           javiermartinezheres@gmail.com\n",
      "8                lilianarithner@gmail.com\n",
      "9               axonambiental@hotmail.com\n",
      "11          rafael.emilio.silva@gmail.com\n",
      "12                        ZULETA.GUSTAVO@\n",
      "2               ricardodeina@yahoo.com.ar\n",
      "3                   CINIRGON@YAHOO.COM.AR\n",
      "4          vgraf@laboratoriowasser.com.ar\n",
      "5                    MJSALELLAS@GMAIL.COM\n",
      "6                 gvalentinuzzi@gmail.com\n",
      "1                raulmonsalvo57@gmail.com\n",
      "dtype: object\n"
     ]
    },
    {
     "name": "stderr",
     "output_type": "stream",
     "text": [
      "\n",
      "  7%|▋         | 26/384 [06:17<47:24,  7.95s/it]\u001b[A"
     ]
    },
    {
     "name": "stdout",
     "output_type": "stream",
     "text": [
      "Diseñador Industrial Done 1                    ggcisterna@gmail.com\n",
      "1              sanchogabriela@hotmail.com\n",
      "1                  ecalamos@argentina.com\n",
      "4                  conghos@hotmail.com.ar\n",
      "5             marianonicola1975@gmail.com\n",
      "6                 estudio_dlq@hotmail.com\n",
      "7               mmroncoli@eiascoop.com.ar\n",
      "8              jp@ambienteyterritorio.com\n",
      "1            aradoconsultora@jsnet.com.ar\n",
      "2                fedegarcia83@hotmail.com\n",
      "4               maroteclaudio@hotmail.com\n",
      "5                EMERONO2004@YAHOO.COM.AR\n",
      "7                      neldo@ar.inter.net\n",
      "1                   valjauregui@gmail.com\n",
      "1             guillermo@ghernandez.com.ar\n",
      "1             guillermo@ghernandez.com.ar\n",
      "1                  pablojcucchi@gmail.com\n",
      "2                 nachostoray@hotmail.com\n",
      "1          mariano.javier.veron@gmail.com\n",
      "1                 paulalagana@hotmail.com\n",
      "2            constanzamantovani@gmail.com\n",
      "3                    sofisimizu@gmail.com\n",
      "1                        balderiote@arnet\n",
      "2                  ceciliadambo@gmail.com\n",
      "3              de-carolis@sinectis.com.ar\n",
      "4             patryciogarcia@yahoo.com.ar\n",
      "5               luisakurata@speedy.com.ar\n",
      "7                 e.mariamuller@gmail.com\n",
      "8                    ecotimesrl@gmail.com\n",
      "9                   otegui.ruth@gmail.com\n",
      "11                     PASGROMO@GMAIL.COM\n",
      "12    bernardostocker@catambiental.com.ar\n",
      "13               guillermo.taft@gmail.com\n",
      "1                mborland_amb@hotmail.com\n",
      "2                       lucigoy@gmail.com\n",
      "3               msalvioli@ing.unlp.edu.ar\n",
      "1                abertona@fibertel.com.ar\n",
      "2                    gdbulus@yahoo.com.ar\n",
      "3                  info@ecotecnica.com.ar\n",
      "4               PROTO@ECOGESTIONAR.COM.AR\n",
      "6                   jilescano88@gmail.com\n",
      "7           javiermartinezheres@gmail.com\n",
      "8                lilianarithner@gmail.com\n",
      "9               axonambiental@hotmail.com\n",
      "11          rafael.emilio.silva@gmail.com\n",
      "12                        ZULETA.GUSTAVO@\n",
      "2               ricardodeina@yahoo.com.ar\n",
      "3                   CINIRGON@YAHOO.COM.AR\n",
      "4          vgraf@laboratoriowasser.com.ar\n",
      "5                    MJSALELLAS@GMAIL.COM\n",
      "6                 gvalentinuzzi@gmail.com\n",
      "1                raulmonsalvo57@gmail.com\n",
      "dtype: object\n"
     ]
    },
    {
     "name": "stderr",
     "output_type": "stream",
     "text": [
      "\n",
      "  7%|▋         | 27/384 [06:24<44:58,  7.56s/it]\u001b[A"
     ]
    },
    {
     "name": "stdout",
     "output_type": "stream",
     "text": [
      "diseño en areas esteriles  Done 1                    ggcisterna@gmail.com\n",
      "1              sanchogabriela@hotmail.com\n",
      "1                  ecalamos@argentina.com\n",
      "4                  conghos@hotmail.com.ar\n",
      "5             marianonicola1975@gmail.com\n",
      "6                 estudio_dlq@hotmail.com\n",
      "7               mmroncoli@eiascoop.com.ar\n",
      "8              jp@ambienteyterritorio.com\n",
      "1            aradoconsultora@jsnet.com.ar\n",
      "2                fedegarcia83@hotmail.com\n",
      "4               maroteclaudio@hotmail.com\n",
      "5                EMERONO2004@YAHOO.COM.AR\n",
      "7                      neldo@ar.inter.net\n",
      "1                   valjauregui@gmail.com\n",
      "1             guillermo@ghernandez.com.ar\n",
      "1             guillermo@ghernandez.com.ar\n",
      "1                  pablojcucchi@gmail.com\n",
      "2                 nachostoray@hotmail.com\n",
      "1          mariano.javier.veron@gmail.com\n",
      "1                 paulalagana@hotmail.com\n",
      "2            constanzamantovani@gmail.com\n",
      "3                    sofisimizu@gmail.com\n",
      "1                        balderiote@arnet\n",
      "2                  ceciliadambo@gmail.com\n",
      "3              de-carolis@sinectis.com.ar\n",
      "4             patryciogarcia@yahoo.com.ar\n",
      "5               luisakurata@speedy.com.ar\n",
      "7                 e.mariamuller@gmail.com\n",
      "8                    ecotimesrl@gmail.com\n",
      "9                   otegui.ruth@gmail.com\n",
      "11                     PASGROMO@GMAIL.COM\n",
      "12    bernardostocker@catambiental.com.ar\n",
      "13               guillermo.taft@gmail.com\n",
      "1                mborland_amb@hotmail.com\n",
      "2                       lucigoy@gmail.com\n",
      "3               msalvioli@ing.unlp.edu.ar\n",
      "1                abertona@fibertel.com.ar\n",
      "2                    gdbulus@yahoo.com.ar\n",
      "3                  info@ecotecnica.com.ar\n",
      "4               PROTO@ECOGESTIONAR.COM.AR\n",
      "6                   jilescano88@gmail.com\n",
      "7           javiermartinezheres@gmail.com\n",
      "8                lilianarithner@gmail.com\n",
      "9               axonambiental@hotmail.com\n",
      "11          rafael.emilio.silva@gmail.com\n",
      "12                        ZULETA.GUSTAVO@\n",
      "2               ricardodeina@yahoo.com.ar\n",
      "3                   CINIRGON@YAHOO.COM.AR\n",
      "4          vgraf@laboratoriowasser.com.ar\n",
      "5                    MJSALELLAS@GMAIL.COM\n",
      "6                 gvalentinuzzi@gmail.com\n",
      "1                raulmonsalvo57@gmail.com\n",
      "dtype: object\n"
     ]
    },
    {
     "name": "stderr",
     "output_type": "stream",
     "text": [
      "\n",
      "  7%|▋         | 28/384 [06:30<42:09,  7.10s/it]\u001b[A"
     ]
    },
    {
     "name": "stdout",
     "output_type": "stream",
     "text": [
      "Doctor de la Univ. Bs.As. área Ingeniería Done 1                    ggcisterna@gmail.com\n",
      "1              sanchogabriela@hotmail.com\n",
      "1                  ecalamos@argentina.com\n",
      "4                  conghos@hotmail.com.ar\n",
      "5             marianonicola1975@gmail.com\n",
      "6                 estudio_dlq@hotmail.com\n",
      "7               mmroncoli@eiascoop.com.ar\n",
      "8              jp@ambienteyterritorio.com\n",
      "1            aradoconsultora@jsnet.com.ar\n",
      "2                fedegarcia83@hotmail.com\n",
      "4               maroteclaudio@hotmail.com\n",
      "5                EMERONO2004@YAHOO.COM.AR\n",
      "7                      neldo@ar.inter.net\n",
      "1                   valjauregui@gmail.com\n",
      "1             guillermo@ghernandez.com.ar\n",
      "1             guillermo@ghernandez.com.ar\n",
      "1                  pablojcucchi@gmail.com\n",
      "2                 nachostoray@hotmail.com\n",
      "1          mariano.javier.veron@gmail.com\n",
      "1                 paulalagana@hotmail.com\n",
      "2            constanzamantovani@gmail.com\n",
      "3                    sofisimizu@gmail.com\n",
      "1                        balderiote@arnet\n",
      "2                  ceciliadambo@gmail.com\n",
      "3              de-carolis@sinectis.com.ar\n",
      "4             patryciogarcia@yahoo.com.ar\n",
      "5               luisakurata@speedy.com.ar\n",
      "7                 e.mariamuller@gmail.com\n",
      "8                    ecotimesrl@gmail.com\n",
      "9                   otegui.ruth@gmail.com\n",
      "11                     PASGROMO@GMAIL.COM\n",
      "12    bernardostocker@catambiental.com.ar\n",
      "13               guillermo.taft@gmail.com\n",
      "1                mborland_amb@hotmail.com\n",
      "2                       lucigoy@gmail.com\n",
      "3               msalvioli@ing.unlp.edu.ar\n",
      "1                abertona@fibertel.com.ar\n",
      "2                    gdbulus@yahoo.com.ar\n",
      "3                  info@ecotecnica.com.ar\n",
      "4               PROTO@ECOGESTIONAR.COM.AR\n",
      "6                   jilescano88@gmail.com\n",
      "7           javiermartinezheres@gmail.com\n",
      "8                lilianarithner@gmail.com\n",
      "9               axonambiental@hotmail.com\n",
      "11          rafael.emilio.silva@gmail.com\n",
      "12                        ZULETA.GUSTAVO@\n",
      "2               ricardodeina@yahoo.com.ar\n",
      "3                   CINIRGON@YAHOO.COM.AR\n",
      "4          vgraf@laboratoriowasser.com.ar\n",
      "5                    MJSALELLAS@GMAIL.COM\n",
      "6                 gvalentinuzzi@gmail.com\n",
      "1                raulmonsalvo57@gmail.com\n",
      "dtype: object\n"
     ]
    },
    {
     "name": "stderr",
     "output_type": "stream",
     "text": [
      "\n",
      "  8%|▊         | 29/384 [06:37<41:55,  7.09s/it]\u001b[A"
     ]
    },
    {
     "name": "stdout",
     "output_type": "stream",
     "text": [
      "Doctor en Ciencias del Mar Done 1                    ggcisterna@gmail.com\n",
      "1              sanchogabriela@hotmail.com\n",
      "1                  ecalamos@argentina.com\n",
      "4                  conghos@hotmail.com.ar\n",
      "5             marianonicola1975@gmail.com\n",
      "6                 estudio_dlq@hotmail.com\n",
      "7               mmroncoli@eiascoop.com.ar\n",
      "8              jp@ambienteyterritorio.com\n",
      "1            aradoconsultora@jsnet.com.ar\n",
      "2                fedegarcia83@hotmail.com\n",
      "4               maroteclaudio@hotmail.com\n",
      "5                EMERONO2004@YAHOO.COM.AR\n",
      "7                      neldo@ar.inter.net\n",
      "1                   valjauregui@gmail.com\n",
      "1             guillermo@ghernandez.com.ar\n",
      "1             guillermo@ghernandez.com.ar\n",
      "1                  pablojcucchi@gmail.com\n",
      "2                 nachostoray@hotmail.com\n",
      "1          mariano.javier.veron@gmail.com\n",
      "1                 paulalagana@hotmail.com\n",
      "2            constanzamantovani@gmail.com\n",
      "3                    sofisimizu@gmail.com\n",
      "1                        balderiote@arnet\n",
      "2                  ceciliadambo@gmail.com\n",
      "3              de-carolis@sinectis.com.ar\n",
      "4             patryciogarcia@yahoo.com.ar\n",
      "5               luisakurata@speedy.com.ar\n",
      "7                 e.mariamuller@gmail.com\n",
      "8                    ecotimesrl@gmail.com\n",
      "9                   otegui.ruth@gmail.com\n",
      "11                     PASGROMO@GMAIL.COM\n",
      "12    bernardostocker@catambiental.com.ar\n",
      "13               guillermo.taft@gmail.com\n",
      "1                mborland_amb@hotmail.com\n",
      "2                       lucigoy@gmail.com\n",
      "3               msalvioli@ing.unlp.edu.ar\n",
      "1                abertona@fibertel.com.ar\n",
      "2                    gdbulus@yahoo.com.ar\n",
      "3                  info@ecotecnica.com.ar\n",
      "4               PROTO@ECOGESTIONAR.COM.AR\n",
      "6                   jilescano88@gmail.com\n",
      "7           javiermartinezheres@gmail.com\n",
      "8                lilianarithner@gmail.com\n",
      "9               axonambiental@hotmail.com\n",
      "11          rafael.emilio.silva@gmail.com\n",
      "12                        ZULETA.GUSTAVO@\n",
      "2               ricardodeina@yahoo.com.ar\n",
      "3                   CINIRGON@YAHOO.COM.AR\n",
      "4          vgraf@laboratoriowasser.com.ar\n",
      "5                    MJSALELLAS@GMAIL.COM\n",
      "6                 gvalentinuzzi@gmail.com\n",
      "1                raulmonsalvo57@gmail.com\n",
      "dtype: object\n"
     ]
    },
    {
     "name": "stderr",
     "output_type": "stream",
     "text": [
      "\n",
      "  8%|▊         | 30/384 [06:45<42:23,  7.18s/it]\u001b[A"
     ]
    },
    {
     "name": "stdout",
     "output_type": "stream",
     "text": [
      "Doctor en Ciencias Naturales Done 1                    ggcisterna@gmail.com\n",
      "1              sanchogabriela@hotmail.com\n",
      "1                  ecalamos@argentina.com\n",
      "4                  conghos@hotmail.com.ar\n",
      "5             marianonicola1975@gmail.com\n",
      "6                 estudio_dlq@hotmail.com\n",
      "7               mmroncoli@eiascoop.com.ar\n",
      "8              jp@ambienteyterritorio.com\n",
      "1            aradoconsultora@jsnet.com.ar\n",
      "2                fedegarcia83@hotmail.com\n",
      "4               maroteclaudio@hotmail.com\n",
      "5                EMERONO2004@YAHOO.COM.AR\n",
      "7                      neldo@ar.inter.net\n",
      "1                   valjauregui@gmail.com\n",
      "1             guillermo@ghernandez.com.ar\n",
      "1             guillermo@ghernandez.com.ar\n",
      "1                  pablojcucchi@gmail.com\n",
      "2                 nachostoray@hotmail.com\n",
      "1          mariano.javier.veron@gmail.com\n",
      "1                 paulalagana@hotmail.com\n",
      "2            constanzamantovani@gmail.com\n",
      "3                    sofisimizu@gmail.com\n",
      "1                        balderiote@arnet\n",
      "2                  ceciliadambo@gmail.com\n",
      "3              de-carolis@sinectis.com.ar\n",
      "4             patryciogarcia@yahoo.com.ar\n",
      "5               luisakurata@speedy.com.ar\n",
      "7                 e.mariamuller@gmail.com\n",
      "8                    ecotimesrl@gmail.com\n",
      "9                   otegui.ruth@gmail.com\n",
      "11                     PASGROMO@GMAIL.COM\n",
      "12    bernardostocker@catambiental.com.ar\n",
      "13               guillermo.taft@gmail.com\n",
      "1                mborland_amb@hotmail.com\n",
      "2                       lucigoy@gmail.com\n",
      "3               msalvioli@ing.unlp.edu.ar\n",
      "1                abertona@fibertel.com.ar\n",
      "2                    gdbulus@yahoo.com.ar\n",
      "3                  info@ecotecnica.com.ar\n",
      "4               PROTO@ECOGESTIONAR.COM.AR\n",
      "6                   jilescano88@gmail.com\n",
      "7           javiermartinezheres@gmail.com\n",
      "8                lilianarithner@gmail.com\n",
      "9               axonambiental@hotmail.com\n",
      "11          rafael.emilio.silva@gmail.com\n",
      "12                        ZULETA.GUSTAVO@\n",
      "2               ricardodeina@yahoo.com.ar\n",
      "3                   CINIRGON@YAHOO.COM.AR\n",
      "4          vgraf@laboratoriowasser.com.ar\n",
      "5                    MJSALELLAS@GMAIL.COM\n",
      "6                 gvalentinuzzi@gmail.com\n",
      "1                raulmonsalvo57@gmail.com\n",
      "1              jeremiasppuentes@gmail.com\n",
      "dtype: object\n"
     ]
    },
    {
     "name": "stderr",
     "output_type": "stream",
     "text": [
      "\n",
      "  8%|▊         | 31/384 [06:51<41:00,  6.97s/it]\u001b[A"
     ]
    },
    {
     "name": "stdout",
     "output_type": "stream",
     "text": [
      "Doctor en Ciencias Veterinarias  Done 1                    ggcisterna@gmail.com\n",
      "1              sanchogabriela@hotmail.com\n",
      "1                  ecalamos@argentina.com\n",
      "4                  conghos@hotmail.com.ar\n",
      "5             marianonicola1975@gmail.com\n",
      "6                 estudio_dlq@hotmail.com\n",
      "7               mmroncoli@eiascoop.com.ar\n",
      "8              jp@ambienteyterritorio.com\n",
      "1            aradoconsultora@jsnet.com.ar\n",
      "2                fedegarcia83@hotmail.com\n",
      "4               maroteclaudio@hotmail.com\n",
      "5                EMERONO2004@YAHOO.COM.AR\n",
      "7                      neldo@ar.inter.net\n",
      "1                   valjauregui@gmail.com\n",
      "1             guillermo@ghernandez.com.ar\n",
      "1             guillermo@ghernandez.com.ar\n",
      "1                  pablojcucchi@gmail.com\n",
      "2                 nachostoray@hotmail.com\n",
      "1          mariano.javier.veron@gmail.com\n",
      "1                 paulalagana@hotmail.com\n",
      "2            constanzamantovani@gmail.com\n",
      "3                    sofisimizu@gmail.com\n",
      "1                        balderiote@arnet\n",
      "2                  ceciliadambo@gmail.com\n",
      "3              de-carolis@sinectis.com.ar\n",
      "4             patryciogarcia@yahoo.com.ar\n",
      "5               luisakurata@speedy.com.ar\n",
      "7                 e.mariamuller@gmail.com\n",
      "8                    ecotimesrl@gmail.com\n",
      "9                   otegui.ruth@gmail.com\n",
      "11                     PASGROMO@GMAIL.COM\n",
      "12    bernardostocker@catambiental.com.ar\n",
      "13               guillermo.taft@gmail.com\n",
      "1                mborland_amb@hotmail.com\n",
      "2                       lucigoy@gmail.com\n",
      "3               msalvioli@ing.unlp.edu.ar\n",
      "1                abertona@fibertel.com.ar\n",
      "2                    gdbulus@yahoo.com.ar\n",
      "3                  info@ecotecnica.com.ar\n",
      "4               PROTO@ECOGESTIONAR.COM.AR\n",
      "6                   jilescano88@gmail.com\n",
      "7           javiermartinezheres@gmail.com\n",
      "8                lilianarithner@gmail.com\n",
      "9               axonambiental@hotmail.com\n",
      "11          rafael.emilio.silva@gmail.com\n",
      "12                        ZULETA.GUSTAVO@\n",
      "2               ricardodeina@yahoo.com.ar\n",
      "3                   CINIRGON@YAHOO.COM.AR\n",
      "4          vgraf@laboratoriowasser.com.ar\n",
      "5                    MJSALELLAS@GMAIL.COM\n",
      "6                 gvalentinuzzi@gmail.com\n",
      "1                raulmonsalvo57@gmail.com\n",
      "1              jeremiasppuentes@gmail.com\n",
      "dtype: object\n"
     ]
    },
    {
     "name": "stderr",
     "output_type": "stream",
     "text": [
      "\n",
      "  8%|▊         | 32/384 [06:58<40:48,  6.96s/it]\u001b[A"
     ]
    },
    {
     "name": "stdout",
     "output_type": "stream",
     "text": [
      "Doctorado en Ciencias Quimica Done 1                    ggcisterna@gmail.com\n",
      "1              sanchogabriela@hotmail.com\n",
      "1                  ecalamos@argentina.com\n",
      "4                  conghos@hotmail.com.ar\n",
      "5             marianonicola1975@gmail.com\n",
      "6                 estudio_dlq@hotmail.com\n",
      "7               mmroncoli@eiascoop.com.ar\n",
      "8              jp@ambienteyterritorio.com\n",
      "1            aradoconsultora@jsnet.com.ar\n",
      "2                fedegarcia83@hotmail.com\n",
      "4               maroteclaudio@hotmail.com\n",
      "5                EMERONO2004@YAHOO.COM.AR\n",
      "7                      neldo@ar.inter.net\n",
      "1                   valjauregui@gmail.com\n",
      "1             guillermo@ghernandez.com.ar\n",
      "1             guillermo@ghernandez.com.ar\n",
      "1                  pablojcucchi@gmail.com\n",
      "2                 nachostoray@hotmail.com\n",
      "1          mariano.javier.veron@gmail.com\n",
      "1                 paulalagana@hotmail.com\n",
      "2            constanzamantovani@gmail.com\n",
      "3                    sofisimizu@gmail.com\n",
      "1                        balderiote@arnet\n",
      "2                  ceciliadambo@gmail.com\n",
      "3              de-carolis@sinectis.com.ar\n",
      "4             patryciogarcia@yahoo.com.ar\n",
      "5               luisakurata@speedy.com.ar\n",
      "7                 e.mariamuller@gmail.com\n",
      "8                    ecotimesrl@gmail.com\n",
      "9                   otegui.ruth@gmail.com\n",
      "11                     PASGROMO@GMAIL.COM\n",
      "12    bernardostocker@catambiental.com.ar\n",
      "13               guillermo.taft@gmail.com\n",
      "1                mborland_amb@hotmail.com\n",
      "2                       lucigoy@gmail.com\n",
      "3               msalvioli@ing.unlp.edu.ar\n",
      "1                abertona@fibertel.com.ar\n",
      "2                    gdbulus@yahoo.com.ar\n",
      "3                  info@ecotecnica.com.ar\n",
      "4               PROTO@ECOGESTIONAR.COM.AR\n",
      "6                   jilescano88@gmail.com\n",
      "7           javiermartinezheres@gmail.com\n",
      "8                lilianarithner@gmail.com\n",
      "9               axonambiental@hotmail.com\n",
      "11          rafael.emilio.silva@gmail.com\n",
      "12                        ZULETA.GUSTAVO@\n",
      "2               ricardodeina@yahoo.com.ar\n",
      "3                   CINIRGON@YAHOO.COM.AR\n",
      "4          vgraf@laboratoriowasser.com.ar\n",
      "5                    MJSALELLAS@GMAIL.COM\n",
      "6                 gvalentinuzzi@gmail.com\n",
      "1                raulmonsalvo57@gmail.com\n",
      "1              jeremiasppuentes@gmail.com\n",
      "dtype: object\n"
     ]
    },
    {
     "name": "stderr",
     "output_type": "stream",
     "text": [
      "\n",
      "  9%|▊         | 33/384 [07:05<40:09,  6.86s/it]\u001b[A"
     ]
    },
    {
     "name": "stdout",
     "output_type": "stream",
     "text": [
      "DR EN QUIMICA Done 1                    ggcisterna@gmail.com\n",
      "1              sanchogabriela@hotmail.com\n",
      "1                  ecalamos@argentina.com\n",
      "4                  conghos@hotmail.com.ar\n",
      "5             marianonicola1975@gmail.com\n",
      "6                 estudio_dlq@hotmail.com\n",
      "7               mmroncoli@eiascoop.com.ar\n",
      "8              jp@ambienteyterritorio.com\n",
      "1            aradoconsultora@jsnet.com.ar\n",
      "2                fedegarcia83@hotmail.com\n",
      "4               maroteclaudio@hotmail.com\n",
      "5                EMERONO2004@YAHOO.COM.AR\n",
      "7                      neldo@ar.inter.net\n",
      "1                   valjauregui@gmail.com\n",
      "1             guillermo@ghernandez.com.ar\n",
      "1             guillermo@ghernandez.com.ar\n",
      "1                  pablojcucchi@gmail.com\n",
      "2                 nachostoray@hotmail.com\n",
      "1          mariano.javier.veron@gmail.com\n",
      "1                 paulalagana@hotmail.com\n",
      "2            constanzamantovani@gmail.com\n",
      "3                    sofisimizu@gmail.com\n",
      "1                        balderiote@arnet\n",
      "2                  ceciliadambo@gmail.com\n",
      "3              de-carolis@sinectis.com.ar\n",
      "4             patryciogarcia@yahoo.com.ar\n",
      "5               luisakurata@speedy.com.ar\n",
      "7                 e.mariamuller@gmail.com\n",
      "8                    ecotimesrl@gmail.com\n",
      "9                   otegui.ruth@gmail.com\n",
      "11                     PASGROMO@GMAIL.COM\n",
      "12    bernardostocker@catambiental.com.ar\n",
      "13               guillermo.taft@gmail.com\n",
      "1                mborland_amb@hotmail.com\n",
      "2                       lucigoy@gmail.com\n",
      "3               msalvioli@ing.unlp.edu.ar\n",
      "1                abertona@fibertel.com.ar\n",
      "2                    gdbulus@yahoo.com.ar\n",
      "3                  info@ecotecnica.com.ar\n",
      "4               PROTO@ECOGESTIONAR.COM.AR\n",
      "6                   jilescano88@gmail.com\n",
      "7           javiermartinezheres@gmail.com\n",
      "8                lilianarithner@gmail.com\n",
      "9               axonambiental@hotmail.com\n",
      "11          rafael.emilio.silva@gmail.com\n",
      "12                        ZULETA.GUSTAVO@\n",
      "2               ricardodeina@yahoo.com.ar\n",
      "3                   CINIRGON@YAHOO.COM.AR\n",
      "4          vgraf@laboratoriowasser.com.ar\n",
      "5                    MJSALELLAS@GMAIL.COM\n",
      "6                 gvalentinuzzi@gmail.com\n",
      "1                raulmonsalvo57@gmail.com\n",
      "1              jeremiasppuentes@gmail.com\n",
      "dtype: object\n"
     ]
    },
    {
     "name": "stderr",
     "output_type": "stream",
     "text": [
      "\n",
      "  9%|▉         | 34/384 [07:11<40:02,  6.87s/it]\u001b[A"
     ]
    },
    {
     "name": "stdout",
     "output_type": "stream",
     "text": [
      "E. en Seguridad, Higiene y Protección Ambiental Done 1                    ggcisterna@gmail.com\n",
      "1              sanchogabriela@hotmail.com\n",
      "1                  ecalamos@argentina.com\n",
      "4                  conghos@hotmail.com.ar\n",
      "5             marianonicola1975@gmail.com\n",
      "6                 estudio_dlq@hotmail.com\n",
      "7               mmroncoli@eiascoop.com.ar\n",
      "8              jp@ambienteyterritorio.com\n",
      "1            aradoconsultora@jsnet.com.ar\n",
      "2                fedegarcia83@hotmail.com\n",
      "4               maroteclaudio@hotmail.com\n",
      "5                EMERONO2004@YAHOO.COM.AR\n",
      "7                      neldo@ar.inter.net\n",
      "1                   valjauregui@gmail.com\n",
      "1             guillermo@ghernandez.com.ar\n",
      "1             guillermo@ghernandez.com.ar\n",
      "1                  pablojcucchi@gmail.com\n",
      "2                 nachostoray@hotmail.com\n",
      "1          mariano.javier.veron@gmail.com\n",
      "1                 paulalagana@hotmail.com\n",
      "2            constanzamantovani@gmail.com\n",
      "3                    sofisimizu@gmail.com\n",
      "1                        balderiote@arnet\n",
      "2                  ceciliadambo@gmail.com\n",
      "3              de-carolis@sinectis.com.ar\n",
      "4             patryciogarcia@yahoo.com.ar\n",
      "5               luisakurata@speedy.com.ar\n",
      "7                 e.mariamuller@gmail.com\n",
      "8                    ecotimesrl@gmail.com\n",
      "9                   otegui.ruth@gmail.com\n",
      "11                     PASGROMO@GMAIL.COM\n",
      "12    bernardostocker@catambiental.com.ar\n",
      "13               guillermo.taft@gmail.com\n",
      "1                mborland_amb@hotmail.com\n",
      "2                       lucigoy@gmail.com\n",
      "3               msalvioli@ing.unlp.edu.ar\n",
      "1                abertona@fibertel.com.ar\n",
      "2                    gdbulus@yahoo.com.ar\n",
      "3                  info@ecotecnica.com.ar\n",
      "4               PROTO@ECOGESTIONAR.COM.AR\n",
      "6                   jilescano88@gmail.com\n",
      "7           javiermartinezheres@gmail.com\n",
      "8                lilianarithner@gmail.com\n",
      "9               axonambiental@hotmail.com\n",
      "11          rafael.emilio.silva@gmail.com\n",
      "12                        ZULETA.GUSTAVO@\n",
      "2               ricardodeina@yahoo.com.ar\n",
      "3                   CINIRGON@YAHOO.COM.AR\n",
      "4          vgraf@laboratoriowasser.com.ar\n",
      "5                    MJSALELLAS@GMAIL.COM\n",
      "6                 gvalentinuzzi@gmail.com\n",
      "1                raulmonsalvo57@gmail.com\n",
      "1              jeremiasppuentes@gmail.com\n",
      "1                      jorge@amari.com.ar\n",
      "dtype: object\n"
     ]
    },
    {
     "name": "stderr",
     "output_type": "stream",
     "text": [
      "\n",
      "  9%|▉         | 35/384 [07:32<1:03:10, 10.86s/it]\u001b[A"
     ]
    },
    {
     "name": "stdout",
     "output_type": "stream",
     "text": [
      "Ecólogo Done 1                    ggcisterna@gmail.com\n",
      "1              sanchogabriela@hotmail.com\n",
      "1                  ecalamos@argentina.com\n",
      "4                  conghos@hotmail.com.ar\n",
      "5             marianonicola1975@gmail.com\n",
      "6                 estudio_dlq@hotmail.com\n",
      "7               mmroncoli@eiascoop.com.ar\n",
      "8              jp@ambienteyterritorio.com\n",
      "1            aradoconsultora@jsnet.com.ar\n",
      "2                fedegarcia83@hotmail.com\n",
      "4               maroteclaudio@hotmail.com\n",
      "5                EMERONO2004@YAHOO.COM.AR\n",
      "7                      neldo@ar.inter.net\n",
      "1                   valjauregui@gmail.com\n",
      "1             guillermo@ghernandez.com.ar\n",
      "1             guillermo@ghernandez.com.ar\n",
      "1                  pablojcucchi@gmail.com\n",
      "2                 nachostoray@hotmail.com\n",
      "1          mariano.javier.veron@gmail.com\n",
      "1                 paulalagana@hotmail.com\n",
      "2            constanzamantovani@gmail.com\n",
      "3                    sofisimizu@gmail.com\n",
      "1                        balderiote@arnet\n",
      "2                  ceciliadambo@gmail.com\n",
      "3              de-carolis@sinectis.com.ar\n",
      "4             patryciogarcia@yahoo.com.ar\n",
      "5               luisakurata@speedy.com.ar\n",
      "7                 e.mariamuller@gmail.com\n",
      "8                    ecotimesrl@gmail.com\n",
      "9                   otegui.ruth@gmail.com\n",
      "11                     PASGROMO@GMAIL.COM\n",
      "12    bernardostocker@catambiental.com.ar\n",
      "13               guillermo.taft@gmail.com\n",
      "1                mborland_amb@hotmail.com\n",
      "2                       lucigoy@gmail.com\n",
      "3               msalvioli@ing.unlp.edu.ar\n",
      "1                abertona@fibertel.com.ar\n",
      "2                    gdbulus@yahoo.com.ar\n",
      "3                  info@ecotecnica.com.ar\n",
      "4               PROTO@ECOGESTIONAR.COM.AR\n",
      "6                   jilescano88@gmail.com\n",
      "7           javiermartinezheres@gmail.com\n",
      "8                lilianarithner@gmail.com\n",
      "9               axonambiental@hotmail.com\n",
      "11          rafael.emilio.silva@gmail.com\n",
      "12                        ZULETA.GUSTAVO@\n",
      "2               ricardodeina@yahoo.com.ar\n",
      "3                   CINIRGON@YAHOO.COM.AR\n",
      "4          vgraf@laboratoriowasser.com.ar\n",
      "5                    MJSALELLAS@GMAIL.COM\n",
      "6                 gvalentinuzzi@gmail.com\n",
      "1                raulmonsalvo57@gmail.com\n",
      "1              jeremiasppuentes@gmail.com\n",
      "1                      jorge@amari.com.ar\n",
      "1                c.bacigalupo@hotmail.com\n",
      "2                    gdbulus@yahoo.com.ar\n",
      "3             rosanaferraro_2@hotmail.com\n",
      "5               axonambiental@hotmail.com\n",
      "dtype: object\n"
     ]
    },
    {
     "name": "stderr",
     "output_type": "stream",
     "text": [
      "\n",
      "  9%|▉         | 36/384 [07:39<57:05,  9.84s/it]  \u001b[A"
     ]
    },
    {
     "name": "stdout",
     "output_type": "stream",
     "text": [
      "Esp en Hig Ambiental Done 1                    ggcisterna@gmail.com\n",
      "1              sanchogabriela@hotmail.com\n",
      "1                  ecalamos@argentina.com\n",
      "4                  conghos@hotmail.com.ar\n",
      "5             marianonicola1975@gmail.com\n",
      "6                 estudio_dlq@hotmail.com\n",
      "7               mmroncoli@eiascoop.com.ar\n",
      "8              jp@ambienteyterritorio.com\n",
      "1            aradoconsultora@jsnet.com.ar\n",
      "2                fedegarcia83@hotmail.com\n",
      "4               maroteclaudio@hotmail.com\n",
      "5                EMERONO2004@YAHOO.COM.AR\n",
      "7                      neldo@ar.inter.net\n",
      "1                   valjauregui@gmail.com\n",
      "1             guillermo@ghernandez.com.ar\n",
      "1             guillermo@ghernandez.com.ar\n",
      "1                  pablojcucchi@gmail.com\n",
      "2                 nachostoray@hotmail.com\n",
      "1          mariano.javier.veron@gmail.com\n",
      "1                 paulalagana@hotmail.com\n",
      "2            constanzamantovani@gmail.com\n",
      "3                    sofisimizu@gmail.com\n",
      "1                        balderiote@arnet\n",
      "2                  ceciliadambo@gmail.com\n",
      "3              de-carolis@sinectis.com.ar\n",
      "4             patryciogarcia@yahoo.com.ar\n",
      "5               luisakurata@speedy.com.ar\n",
      "7                 e.mariamuller@gmail.com\n",
      "8                    ecotimesrl@gmail.com\n",
      "9                   otegui.ruth@gmail.com\n",
      "11                     PASGROMO@GMAIL.COM\n",
      "12    bernardostocker@catambiental.com.ar\n",
      "13               guillermo.taft@gmail.com\n",
      "1                mborland_amb@hotmail.com\n",
      "2                       lucigoy@gmail.com\n",
      "3               msalvioli@ing.unlp.edu.ar\n",
      "1                abertona@fibertel.com.ar\n",
      "2                    gdbulus@yahoo.com.ar\n",
      "3                  info@ecotecnica.com.ar\n",
      "4               PROTO@ECOGESTIONAR.COM.AR\n",
      "6                   jilescano88@gmail.com\n",
      "7           javiermartinezheres@gmail.com\n",
      "8                lilianarithner@gmail.com\n",
      "9               axonambiental@hotmail.com\n",
      "11          rafael.emilio.silva@gmail.com\n",
      "12                        ZULETA.GUSTAVO@\n",
      "2               ricardodeina@yahoo.com.ar\n",
      "3                   CINIRGON@YAHOO.COM.AR\n",
      "4          vgraf@laboratoriowasser.com.ar\n",
      "5                    MJSALELLAS@GMAIL.COM\n",
      "6                 gvalentinuzzi@gmail.com\n",
      "1                raulmonsalvo57@gmail.com\n",
      "1              jeremiasppuentes@gmail.com\n",
      "1                      jorge@amari.com.ar\n",
      "1                c.bacigalupo@hotmail.com\n",
      "2                    gdbulus@yahoo.com.ar\n",
      "3             rosanaferraro_2@hotmail.com\n",
      "5               axonambiental@hotmail.com\n",
      "1                esgomez55@hotmail.com.ar\n",
      "dtype: object\n"
     ]
    },
    {
     "name": "stderr",
     "output_type": "stream",
     "text": [
      "\n",
      " 10%|▉         | 37/384 [07:45<50:48,  8.79s/it]\u001b[A"
     ]
    },
    {
     "name": "stdout",
     "output_type": "stream",
     "text": [
      "Esp. en Eval. de Contaminación Amb.                Done 1                    ggcisterna@gmail.com\n",
      "1              sanchogabriela@hotmail.com\n",
      "1                  ecalamos@argentina.com\n",
      "4                  conghos@hotmail.com.ar\n",
      "5             marianonicola1975@gmail.com\n",
      "6                 estudio_dlq@hotmail.com\n",
      "7               mmroncoli@eiascoop.com.ar\n",
      "8              jp@ambienteyterritorio.com\n",
      "1            aradoconsultora@jsnet.com.ar\n",
      "2                fedegarcia83@hotmail.com\n",
      "4               maroteclaudio@hotmail.com\n",
      "5                EMERONO2004@YAHOO.COM.AR\n",
      "7                      neldo@ar.inter.net\n",
      "1                   valjauregui@gmail.com\n",
      "1             guillermo@ghernandez.com.ar\n",
      "1             guillermo@ghernandez.com.ar\n",
      "1                  pablojcucchi@gmail.com\n",
      "2                 nachostoray@hotmail.com\n",
      "1          mariano.javier.veron@gmail.com\n",
      "1                 paulalagana@hotmail.com\n",
      "2            constanzamantovani@gmail.com\n",
      "3                    sofisimizu@gmail.com\n",
      "1                        balderiote@arnet\n",
      "2                  ceciliadambo@gmail.com\n",
      "3              de-carolis@sinectis.com.ar\n",
      "4             patryciogarcia@yahoo.com.ar\n",
      "5               luisakurata@speedy.com.ar\n",
      "7                 e.mariamuller@gmail.com\n",
      "8                    ecotimesrl@gmail.com\n",
      "9                   otegui.ruth@gmail.com\n",
      "11                     PASGROMO@GMAIL.COM\n",
      "12    bernardostocker@catambiental.com.ar\n",
      "13               guillermo.taft@gmail.com\n",
      "1                mborland_amb@hotmail.com\n",
      "2                       lucigoy@gmail.com\n",
      "3               msalvioli@ing.unlp.edu.ar\n",
      "1                abertona@fibertel.com.ar\n",
      "2                    gdbulus@yahoo.com.ar\n",
      "3                  info@ecotecnica.com.ar\n",
      "4               PROTO@ECOGESTIONAR.COM.AR\n",
      "6                   jilescano88@gmail.com\n",
      "7           javiermartinezheres@gmail.com\n",
      "8                lilianarithner@gmail.com\n",
      "9               axonambiental@hotmail.com\n",
      "11          rafael.emilio.silva@gmail.com\n",
      "12                        ZULETA.GUSTAVO@\n",
      "2               ricardodeina@yahoo.com.ar\n",
      "3                   CINIRGON@YAHOO.COM.AR\n",
      "4          vgraf@laboratoriowasser.com.ar\n",
      "5                    MJSALELLAS@GMAIL.COM\n",
      "6                 gvalentinuzzi@gmail.com\n",
      "1                raulmonsalvo57@gmail.com\n",
      "1              jeremiasppuentes@gmail.com\n",
      "1                      jorge@amari.com.ar\n",
      "1                c.bacigalupo@hotmail.com\n",
      "2                    gdbulus@yahoo.com.ar\n",
      "3             rosanaferraro_2@hotmail.com\n",
      "5               axonambiental@hotmail.com\n",
      "1                esgomez55@hotmail.com.ar\n",
      "dtype: object\n"
     ]
    },
    {
     "name": "stderr",
     "output_type": "stream",
     "text": [
      "\n",
      " 10%|▉         | 38/384 [07:52<46:27,  8.06s/it]\u001b[A"
     ]
    },
    {
     "name": "stdout",
     "output_type": "stream",
     "text": [
      "Esp. en Gestion Ambiental Done 1                    ggcisterna@gmail.com\n",
      "1              sanchogabriela@hotmail.com\n",
      "1                  ecalamos@argentina.com\n",
      "4                  conghos@hotmail.com.ar\n",
      "5             marianonicola1975@gmail.com\n",
      "6                 estudio_dlq@hotmail.com\n",
      "7               mmroncoli@eiascoop.com.ar\n",
      "8              jp@ambienteyterritorio.com\n",
      "1            aradoconsultora@jsnet.com.ar\n",
      "2                fedegarcia83@hotmail.com\n",
      "4               maroteclaudio@hotmail.com\n",
      "5                EMERONO2004@YAHOO.COM.AR\n",
      "7                      neldo@ar.inter.net\n",
      "1                   valjauregui@gmail.com\n",
      "1             guillermo@ghernandez.com.ar\n",
      "1             guillermo@ghernandez.com.ar\n",
      "1                  pablojcucchi@gmail.com\n",
      "2                 nachostoray@hotmail.com\n",
      "1          mariano.javier.veron@gmail.com\n",
      "1                 paulalagana@hotmail.com\n",
      "2            constanzamantovani@gmail.com\n",
      "3                    sofisimizu@gmail.com\n",
      "1                        balderiote@arnet\n",
      "2                  ceciliadambo@gmail.com\n",
      "3              de-carolis@sinectis.com.ar\n",
      "4             patryciogarcia@yahoo.com.ar\n",
      "5               luisakurata@speedy.com.ar\n",
      "7                 e.mariamuller@gmail.com\n",
      "8                    ecotimesrl@gmail.com\n",
      "9                   otegui.ruth@gmail.com\n",
      "11                     PASGROMO@GMAIL.COM\n",
      "12    bernardostocker@catambiental.com.ar\n",
      "13               guillermo.taft@gmail.com\n",
      "1                mborland_amb@hotmail.com\n",
      "2                       lucigoy@gmail.com\n",
      "3               msalvioli@ing.unlp.edu.ar\n",
      "1                abertona@fibertel.com.ar\n",
      "2                    gdbulus@yahoo.com.ar\n",
      "3                  info@ecotecnica.com.ar\n",
      "4               PROTO@ECOGESTIONAR.COM.AR\n",
      "6                   jilescano88@gmail.com\n",
      "7           javiermartinezheres@gmail.com\n",
      "8                lilianarithner@gmail.com\n",
      "9               axonambiental@hotmail.com\n",
      "11          rafael.emilio.silva@gmail.com\n",
      "12                        ZULETA.GUSTAVO@\n",
      "2               ricardodeina@yahoo.com.ar\n",
      "3                   CINIRGON@YAHOO.COM.AR\n",
      "4          vgraf@laboratoriowasser.com.ar\n",
      "5                    MJSALELLAS@GMAIL.COM\n",
      "6                 gvalentinuzzi@gmail.com\n",
      "1                raulmonsalvo57@gmail.com\n",
      "1              jeremiasppuentes@gmail.com\n",
      "1                      jorge@amari.com.ar\n",
      "1                c.bacigalupo@hotmail.com\n",
      "2                    gdbulus@yahoo.com.ar\n",
      "3             rosanaferraro_2@hotmail.com\n",
      "5               axonambiental@hotmail.com\n",
      "1                esgomez55@hotmail.com.ar\n",
      "1                 paulababaylac@gmail.com\n",
      "dtype: object\n"
     ]
    },
    {
     "name": "stderr",
     "output_type": "stream",
     "text": [
      "\n",
      " 10%|█         | 39/384 [07:58<43:35,  7.58s/it]\u001b[A"
     ]
    },
    {
     "name": "stdout",
     "output_type": "stream",
     "text": [
      "Esp. en Higiene y Seguridad en el Trabajo Agrario Done 1                    ggcisterna@gmail.com\n",
      "1              sanchogabriela@hotmail.com\n",
      "1                  ecalamos@argentina.com\n",
      "4                  conghos@hotmail.com.ar\n",
      "5             marianonicola1975@gmail.com\n",
      "6                 estudio_dlq@hotmail.com\n",
      "7               mmroncoli@eiascoop.com.ar\n",
      "8              jp@ambienteyterritorio.com\n",
      "1            aradoconsultora@jsnet.com.ar\n",
      "2                fedegarcia83@hotmail.com\n",
      "4               maroteclaudio@hotmail.com\n",
      "5                EMERONO2004@YAHOO.COM.AR\n",
      "7                      neldo@ar.inter.net\n",
      "1                   valjauregui@gmail.com\n",
      "1             guillermo@ghernandez.com.ar\n",
      "1             guillermo@ghernandez.com.ar\n",
      "1                  pablojcucchi@gmail.com\n",
      "2                 nachostoray@hotmail.com\n",
      "1          mariano.javier.veron@gmail.com\n",
      "1                 paulalagana@hotmail.com\n",
      "2            constanzamantovani@gmail.com\n",
      "3                    sofisimizu@gmail.com\n",
      "1                        balderiote@arnet\n",
      "2                  ceciliadambo@gmail.com\n",
      "3              de-carolis@sinectis.com.ar\n",
      "4             patryciogarcia@yahoo.com.ar\n",
      "5               luisakurata@speedy.com.ar\n",
      "7                 e.mariamuller@gmail.com\n",
      "8                    ecotimesrl@gmail.com\n",
      "9                   otegui.ruth@gmail.com\n",
      "11                     PASGROMO@GMAIL.COM\n",
      "12    bernardostocker@catambiental.com.ar\n",
      "13               guillermo.taft@gmail.com\n",
      "1                mborland_amb@hotmail.com\n",
      "2                       lucigoy@gmail.com\n",
      "3               msalvioli@ing.unlp.edu.ar\n",
      "1                abertona@fibertel.com.ar\n",
      "2                    gdbulus@yahoo.com.ar\n",
      "3                  info@ecotecnica.com.ar\n",
      "4               PROTO@ECOGESTIONAR.COM.AR\n",
      "6                   jilescano88@gmail.com\n",
      "7           javiermartinezheres@gmail.com\n",
      "8                lilianarithner@gmail.com\n",
      "9               axonambiental@hotmail.com\n",
      "11          rafael.emilio.silva@gmail.com\n",
      "12                        ZULETA.GUSTAVO@\n",
      "2               ricardodeina@yahoo.com.ar\n",
      "3                   CINIRGON@YAHOO.COM.AR\n",
      "4          vgraf@laboratoriowasser.com.ar\n",
      "5                    MJSALELLAS@GMAIL.COM\n",
      "6                 gvalentinuzzi@gmail.com\n",
      "1                raulmonsalvo57@gmail.com\n",
      "1              jeremiasppuentes@gmail.com\n",
      "1                      jorge@amari.com.ar\n",
      "1                c.bacigalupo@hotmail.com\n",
      "2                    gdbulus@yahoo.com.ar\n",
      "3             rosanaferraro_2@hotmail.com\n",
      "5               axonambiental@hotmail.com\n",
      "1                esgomez55@hotmail.com.ar\n",
      "1                 paulababaylac@gmail.com\n",
      "dtype: object\n"
     ]
    },
    {
     "name": "stderr",
     "output_type": "stream",
     "text": [
      "\n",
      " 10%|█         | 40/384 [08:05<41:41,  7.27s/it]\u001b[A"
     ]
    },
    {
     "name": "stdout",
     "output_type": "stream",
     "text": [
      "ESP. HIGIENE Y SEG.LAB.INDUST. DE LA CONST. Done 1                    ggcisterna@gmail.com\n",
      "1              sanchogabriela@hotmail.com\n",
      "1                  ecalamos@argentina.com\n",
      "4                  conghos@hotmail.com.ar\n",
      "5             marianonicola1975@gmail.com\n",
      "6                 estudio_dlq@hotmail.com\n",
      "7               mmroncoli@eiascoop.com.ar\n",
      "8              jp@ambienteyterritorio.com\n",
      "1            aradoconsultora@jsnet.com.ar\n",
      "2                fedegarcia83@hotmail.com\n",
      "4               maroteclaudio@hotmail.com\n",
      "5                EMERONO2004@YAHOO.COM.AR\n",
      "7                      neldo@ar.inter.net\n",
      "1                   valjauregui@gmail.com\n",
      "1             guillermo@ghernandez.com.ar\n",
      "1             guillermo@ghernandez.com.ar\n",
      "1                  pablojcucchi@gmail.com\n",
      "2                 nachostoray@hotmail.com\n",
      "1          mariano.javier.veron@gmail.com\n",
      "1                 paulalagana@hotmail.com\n",
      "2            constanzamantovani@gmail.com\n",
      "3                    sofisimizu@gmail.com\n",
      "1                        balderiote@arnet\n",
      "2                  ceciliadambo@gmail.com\n",
      "3              de-carolis@sinectis.com.ar\n",
      "4             patryciogarcia@yahoo.com.ar\n",
      "5               luisakurata@speedy.com.ar\n",
      "7                 e.mariamuller@gmail.com\n",
      "8                    ecotimesrl@gmail.com\n",
      "9                   otegui.ruth@gmail.com\n",
      "11                     PASGROMO@GMAIL.COM\n",
      "12    bernardostocker@catambiental.com.ar\n",
      "13               guillermo.taft@gmail.com\n",
      "1                mborland_amb@hotmail.com\n",
      "2                       lucigoy@gmail.com\n",
      "3               msalvioli@ing.unlp.edu.ar\n",
      "1                abertona@fibertel.com.ar\n",
      "2                    gdbulus@yahoo.com.ar\n",
      "3                  info@ecotecnica.com.ar\n",
      "4               PROTO@ECOGESTIONAR.COM.AR\n",
      "6                   jilescano88@gmail.com\n",
      "7           javiermartinezheres@gmail.com\n",
      "8                lilianarithner@gmail.com\n",
      "9               axonambiental@hotmail.com\n",
      "11          rafael.emilio.silva@gmail.com\n",
      "12                        ZULETA.GUSTAVO@\n",
      "2               ricardodeina@yahoo.com.ar\n",
      "3                   CINIRGON@YAHOO.COM.AR\n",
      "4          vgraf@laboratoriowasser.com.ar\n",
      "5                    MJSALELLAS@GMAIL.COM\n",
      "6                 gvalentinuzzi@gmail.com\n",
      "1                raulmonsalvo57@gmail.com\n",
      "1              jeremiasppuentes@gmail.com\n",
      "1                      jorge@amari.com.ar\n",
      "1                c.bacigalupo@hotmail.com\n",
      "2                    gdbulus@yahoo.com.ar\n",
      "3             rosanaferraro_2@hotmail.com\n",
      "5               axonambiental@hotmail.com\n",
      "1                esgomez55@hotmail.com.ar\n",
      "1                 paulababaylac@gmail.com\n",
      "dtype: object\n"
     ]
    },
    {
     "name": "stderr",
     "output_type": "stream",
     "text": [
      "\n",
      " 11%|█         | 41/384 [08:12<41:03,  7.18s/it]\u001b[A"
     ]
    },
    {
     "name": "stdout",
     "output_type": "stream",
     "text": [
      "Esp. Seg. e Higiene Done 1           ggcisterna@gmail.com\n",
      "1     sanchogabriela@hotmail.com\n",
      "1         ecalamos@argentina.com\n",
      "4         conghos@hotmail.com.ar\n",
      "5    marianonicola1975@gmail.com\n",
      "                ...             \n",
      "3    rosanaferraro_2@hotmail.com\n",
      "5      axonambiental@hotmail.com\n",
      "1       esgomez55@hotmail.com.ar\n",
      "1        paulababaylac@gmail.com\n",
      "1    silvia.parrotta@hotmail.com\n",
      "Length: 61, dtype: object\n"
     ]
    },
    {
     "name": "stderr",
     "output_type": "stream",
     "text": [
      "\n",
      " 11%|█         | 42/384 [08:18<39:51,  6.99s/it]\u001b[A"
     ]
    },
    {
     "name": "stdout",
     "output_type": "stream",
     "text": [
      "Esp. Seg.e Higiene Done 1           ggcisterna@gmail.com\n",
      "1     sanchogabriela@hotmail.com\n",
      "1         ecalamos@argentina.com\n",
      "4         conghos@hotmail.com.ar\n",
      "5    marianonicola1975@gmail.com\n",
      "                ...             \n",
      "3    rosanaferraro_2@hotmail.com\n",
      "5      axonambiental@hotmail.com\n",
      "1       esgomez55@hotmail.com.ar\n",
      "1        paulababaylac@gmail.com\n",
      "1    silvia.parrotta@hotmail.com\n",
      "Length: 61, dtype: object\n"
     ]
    },
    {
     "name": "stderr",
     "output_type": "stream",
     "text": [
      "\n",
      " 11%|█         | 43/384 [08:25<39:17,  6.91s/it]\u001b[A"
     ]
    },
    {
     "name": "stdout",
     "output_type": "stream",
     "text": [
      "ESPCIALISTA EN PLANEAMIENTO P. Y AMB. Done 1           ggcisterna@gmail.com\n",
      "1     sanchogabriela@hotmail.com\n",
      "1         ecalamos@argentina.com\n",
      "4         conghos@hotmail.com.ar\n",
      "5    marianonicola1975@gmail.com\n",
      "                ...             \n",
      "3    rosanaferraro_2@hotmail.com\n",
      "5      axonambiental@hotmail.com\n",
      "1       esgomez55@hotmail.com.ar\n",
      "1        paulababaylac@gmail.com\n",
      "1    silvia.parrotta@hotmail.com\n",
      "Length: 61, dtype: object\n"
     ]
    },
    {
     "name": "stderr",
     "output_type": "stream",
     "text": [
      "\n",
      " 11%|█▏        | 44/384 [08:32<39:28,  6.97s/it]\u001b[A"
     ]
    },
    {
     "name": "stdout",
     "output_type": "stream",
     "text": [
      "Espec. en Hig y Seg en el Trab Agra Done 1           ggcisterna@gmail.com\n",
      "1     sanchogabriela@hotmail.com\n",
      "1         ecalamos@argentina.com\n",
      "4         conghos@hotmail.com.ar\n",
      "5    marianonicola1975@gmail.com\n",
      "                ...             \n",
      "3    rosanaferraro_2@hotmail.com\n",
      "5      axonambiental@hotmail.com\n",
      "1       esgomez55@hotmail.com.ar\n",
      "1        paulababaylac@gmail.com\n",
      "1    silvia.parrotta@hotmail.com\n",
      "Length: 61, dtype: object\n"
     ]
    },
    {
     "name": "stderr",
     "output_type": "stream",
     "text": [
      "\n",
      " 12%|█▏        | 45/384 [08:38<38:08,  6.75s/it]\u001b[A"
     ]
    },
    {
     "name": "stdout",
     "output_type": "stream",
     "text": [
      "espec.en Gestion del Patrimonio y Turismo Sostenib Done 1           ggcisterna@gmail.com\n",
      "1     sanchogabriela@hotmail.com\n",
      "1         ecalamos@argentina.com\n",
      "4         conghos@hotmail.com.ar\n",
      "5    marianonicola1975@gmail.com\n",
      "                ...             \n",
      "3    rosanaferraro_2@hotmail.com\n",
      "5      axonambiental@hotmail.com\n",
      "1       esgomez55@hotmail.com.ar\n",
      "1        paulababaylac@gmail.com\n",
      "1    silvia.parrotta@hotmail.com\n",
      "Length: 61, dtype: object\n"
     ]
    },
    {
     "name": "stderr",
     "output_type": "stream",
     "text": [
      "\n",
      " 12%|█▏        | 46/384 [08:45<37:51,  6.72s/it]\u001b[A"
     ]
    },
    {
     "name": "stdout",
     "output_type": "stream",
     "text": [
      "Especialidad Hidraulica Done 1           ggcisterna@gmail.com\n",
      "1     sanchogabriela@hotmail.com\n",
      "1         ecalamos@argentina.com\n",
      "4         conghos@hotmail.com.ar\n",
      "5    marianonicola1975@gmail.com\n",
      "                ...             \n",
      "3    rosanaferraro_2@hotmail.com\n",
      "5      axonambiental@hotmail.com\n",
      "1       esgomez55@hotmail.com.ar\n",
      "1        paulababaylac@gmail.com\n",
      "1    silvia.parrotta@hotmail.com\n",
      "Length: 61, dtype: object\n"
     ]
    },
    {
     "name": "stderr",
     "output_type": "stream",
     "text": [
      "\n",
      " 12%|█▏        | 47/384 [08:51<37:17,  6.64s/it]\u001b[A"
     ]
    },
    {
     "name": "stdout",
     "output_type": "stream",
     "text": [
      "ESPECIALISTA  AMBIENTAL Done 1           ggcisterna@gmail.com\n",
      "1     sanchogabriela@hotmail.com\n",
      "1         ecalamos@argentina.com\n",
      "4         conghos@hotmail.com.ar\n",
      "5    marianonicola1975@gmail.com\n",
      "                ...             \n",
      "3    rosanaferraro_2@hotmail.com\n",
      "5      axonambiental@hotmail.com\n",
      "1       esgomez55@hotmail.com.ar\n",
      "1        paulababaylac@gmail.com\n",
      "1    silvia.parrotta@hotmail.com\n",
      "Length: 61, dtype: object\n"
     ]
    },
    {
     "name": "stderr",
     "output_type": "stream",
     "text": [
      "\n",
      " 12%|█▎        | 48/384 [08:58<37:33,  6.71s/it]\u001b[A"
     ]
    },
    {
     "name": "stdout",
     "output_type": "stream",
     "text": [
      "especialista  en ambiente y patologia ambiental Done 1           ggcisterna@gmail.com\n",
      "1     sanchogabriela@hotmail.com\n",
      "1         ecalamos@argentina.com\n",
      "4         conghos@hotmail.com.ar\n",
      "5    marianonicola1975@gmail.com\n",
      "                ...             \n",
      "3    rosanaferraro_2@hotmail.com\n",
      "5      axonambiental@hotmail.com\n",
      "1       esgomez55@hotmail.com.ar\n",
      "1        paulababaylac@gmail.com\n",
      "1    silvia.parrotta@hotmail.com\n",
      "Length: 61, dtype: object\n"
     ]
    },
    {
     "name": "stderr",
     "output_type": "stream",
     "text": [
      "\n",
      " 13%|█▎        | 49/384 [09:06<39:15,  7.03s/it]\u001b[A"
     ]
    },
    {
     "name": "stdout",
     "output_type": "stream",
     "text": [
      "Especialista en Ciencias Químicas y Ambiente Done 1           ggcisterna@gmail.com\n",
      "1     sanchogabriela@hotmail.com\n",
      "1         ecalamos@argentina.com\n",
      "4         conghos@hotmail.com.ar\n",
      "5    marianonicola1975@gmail.com\n",
      "                ...             \n",
      "5      axonambiental@hotmail.com\n",
      "1       esgomez55@hotmail.com.ar\n",
      "1        paulababaylac@gmail.com\n",
      "1    silvia.parrotta@hotmail.com\n",
      "1       lilianarithner@gmail.com\n",
      "Length: 62, dtype: object\n"
     ]
    },
    {
     "name": "stderr",
     "output_type": "stream",
     "text": [
      "\n",
      " 13%|█▎        | 50/384 [09:13<38:30,  6.92s/it]\u001b[A"
     ]
    },
    {
     "name": "stdout",
     "output_type": "stream",
     "text": [
      "Especialista en Derecho Ambiental Done 1           ggcisterna@gmail.com\n",
      "1     sanchogabriela@hotmail.com\n",
      "1         ecalamos@argentina.com\n",
      "4         conghos@hotmail.com.ar\n",
      "5    marianonicola1975@gmail.com\n",
      "                ...             \n",
      "5      axonambiental@hotmail.com\n",
      "1       esgomez55@hotmail.com.ar\n",
      "1        paulababaylac@gmail.com\n",
      "1    silvia.parrotta@hotmail.com\n",
      "1       lilianarithner@gmail.com\n",
      "Length: 62, dtype: object\n"
     ]
    },
    {
     "name": "stderr",
     "output_type": "stream",
     "text": [
      "\n",
      " 13%|█▎        | 51/384 [09:20<38:28,  6.93s/it]\u001b[A"
     ]
    },
    {
     "name": "stdout",
     "output_type": "stream",
     "text": [
      "Especialista en Diagnostico y EvaluaciÃ³n Ambienta Done 1           ggcisterna@gmail.com\n",
      "1     sanchogabriela@hotmail.com\n",
      "1         ecalamos@argentina.com\n",
      "4         conghos@hotmail.com.ar\n",
      "5    marianonicola1975@gmail.com\n",
      "                ...             \n",
      "5      axonambiental@hotmail.com\n",
      "1       esgomez55@hotmail.com.ar\n",
      "1        paulababaylac@gmail.com\n",
      "1    silvia.parrotta@hotmail.com\n",
      "1       lilianarithner@gmail.com\n",
      "Length: 62, dtype: object\n"
     ]
    },
    {
     "name": "stderr",
     "output_type": "stream",
     "text": [
      "\n",
      " 14%|█▎        | 52/384 [09:27<38:14,  6.91s/it]\u001b[A"
     ]
    },
    {
     "name": "stdout",
     "output_type": "stream",
     "text": [
      "Especialista en Explotación de Yacimientos Done 1           ggcisterna@gmail.com\n",
      "1     sanchogabriela@hotmail.com\n",
      "1         ecalamos@argentina.com\n",
      "4         conghos@hotmail.com.ar\n",
      "5    marianonicola1975@gmail.com\n",
      "                ...             \n",
      "5      axonambiental@hotmail.com\n",
      "1       esgomez55@hotmail.com.ar\n",
      "1        paulababaylac@gmail.com\n",
      "1    silvia.parrotta@hotmail.com\n",
      "1       lilianarithner@gmail.com\n",
      "Length: 62, dtype: object\n"
     ]
    },
    {
     "name": "stderr",
     "output_type": "stream",
     "text": [
      "\n",
      " 14%|█▍        | 53/384 [09:34<38:12,  6.93s/it]\u001b[A"
     ]
    },
    {
     "name": "stdout",
     "output_type": "stream",
     "text": [
      "Especialista en gestion ambiental - higiene y seg. Done 1           ggcisterna@gmail.com\n",
      "1     sanchogabriela@hotmail.com\n",
      "1         ecalamos@argentina.com\n",
      "4         conghos@hotmail.com.ar\n",
      "5    marianonicola1975@gmail.com\n",
      "                ...             \n",
      "5      axonambiental@hotmail.com\n",
      "1       esgomez55@hotmail.com.ar\n",
      "1        paulababaylac@gmail.com\n",
      "1    silvia.parrotta@hotmail.com\n",
      "1       lilianarithner@gmail.com\n",
      "Length: 62, dtype: object\n"
     ]
    },
    {
     "name": "stderr",
     "output_type": "stream",
     "text": [
      "\n",
      " 14%|█▍        | 54/384 [09:40<37:39,  6.85s/it]\u001b[A"
     ]
    },
    {
     "name": "stdout",
     "output_type": "stream",
     "text": [
      "Especialista en Higiene y Proteccion Ambiental Done 1             ggcisterna@gmail.com\n",
      "1       sanchogabriela@hotmail.com\n",
      "1           ecalamos@argentina.com\n",
      "4           conghos@hotmail.com.ar\n",
      "5      marianonicola1975@gmail.com\n",
      "                 ...              \n",
      "1         esgomez55@hotmail.com.ar\n",
      "1          paulababaylac@gmail.com\n",
      "1      silvia.parrotta@hotmail.com\n",
      "1         lilianarithner@gmail.com\n",
      "1    nataliamontanari@yahoo.com.ar\n",
      "Length: 63, dtype: object\n"
     ]
    },
    {
     "name": "stderr",
     "output_type": "stream",
     "text": [
      "\n",
      " 14%|█▍        | 55/384 [09:52<45:29,  8.30s/it]\u001b[A"
     ]
    },
    {
     "name": "stdout",
     "output_type": "stream",
     "text": [
      "Especialista en Higiene y Seg.  Done 1             ggcisterna@gmail.com\n",
      "1       sanchogabriela@hotmail.com\n",
      "1           ecalamos@argentina.com\n",
      "4           conghos@hotmail.com.ar\n",
      "5      marianonicola1975@gmail.com\n",
      "                 ...              \n",
      "1          paulababaylac@gmail.com\n",
      "1      silvia.parrotta@hotmail.com\n",
      "1         lilianarithner@gmail.com\n",
      "1    nataliamontanari@yahoo.com.ar\n",
      "1         luis.pereira@novocap.com\n",
      "Length: 64, dtype: object\n"
     ]
    },
    {
     "name": "stderr",
     "output_type": "stream",
     "text": [
      "\n",
      " 15%|█▍        | 56/384 [10:18<1:14:16, 13.59s/it]\u001b[A"
     ]
    },
    {
     "name": "stdout",
     "output_type": "stream",
     "text": [
      "especialista en higiene y seguridad en el trabajo Done 1            ggcisterna@gmail.com\n",
      "1      sanchogabriela@hotmail.com\n",
      "1          ecalamos@argentina.com\n",
      "4          conghos@hotmail.com.ar\n",
      "5     marianonicola1975@gmail.com\n",
      "                 ...             \n",
      "19          mschamber78@gmail.com\n",
      "22             neldo@ar.inter.net\n",
      "23       danielrvidal@hotmail.com\n",
      "24        gustavowilder@gmail.com\n",
      "25      raulhzanconi@yahoo.com.ar\n",
      "Length: 86, dtype: object\n"
     ]
    },
    {
     "name": "stderr",
     "output_type": "stream",
     "text": [
      "\n",
      " 15%|█▍        | 57/384 [10:25<1:03:27, 11.64s/it]\u001b[A"
     ]
    },
    {
     "name": "stdout",
     "output_type": "stream",
     "text": [
      "ESPECIALISTA EN ING. INDUSTRIAL Done 1            ggcisterna@gmail.com\n",
      "1      sanchogabriela@hotmail.com\n",
      "1          ecalamos@argentina.com\n",
      "4          conghos@hotmail.com.ar\n",
      "5     marianonicola1975@gmail.com\n",
      "                 ...             \n",
      "19          mschamber78@gmail.com\n",
      "22             neldo@ar.inter.net\n",
      "23       danielrvidal@hotmail.com\n",
      "24        gustavowilder@gmail.com\n",
      "25      raulhzanconi@yahoo.com.ar\n",
      "Length: 86, dtype: object\n"
     ]
    },
    {
     "name": "stderr",
     "output_type": "stream",
     "text": [
      "\n",
      " 15%|█▌        | 58/384 [10:43<1:13:14, 13.48s/it]\u001b[A"
     ]
    },
    {
     "name": "stdout",
     "output_type": "stream",
     "text": [
      "Especialista en Ingenieria Ambiental Done 1            ggcisterna@gmail.com\n",
      "1      sanchogabriela@hotmail.com\n",
      "1          ecalamos@argentina.com\n",
      "4          conghos@hotmail.com.ar\n",
      "5     marianonicola1975@gmail.com\n",
      "                 ...             \n",
      "7        manoiosi@deriplom.com.ar\n",
      "8       axonambiental@hotmail.com\n",
      "9       ingenierosendin@gmail.com\n",
      "10      ingenierosendin@gmail.com\n",
      "11      adrianaspagnolo@gmail.com\n",
      "Length: 97, dtype: object\n"
     ]
    },
    {
     "name": "stderr",
     "output_type": "stream",
     "text": [
      "\n",
      " 15%|█▌        | 59/384 [10:51<1:04:13, 11.86s/it]\u001b[A"
     ]
    },
    {
     "name": "stdout",
     "output_type": "stream",
     "text": [
      "Especialista en Ingeniería Ambiental Done 1            ggcisterna@gmail.com\n",
      "1      sanchogabriela@hotmail.com\n",
      "1          ecalamos@argentina.com\n",
      "4          conghos@hotmail.com.ar\n",
      "5     marianonicola1975@gmail.com\n",
      "                 ...             \n",
      "9       ingenierosendin@gmail.com\n",
      "10      ingenierosendin@gmail.com\n",
      "11      adrianaspagnolo@gmail.com\n",
      "1           lauccordoba@gmail.com\n",
      "2          alejandro@falco.net.ar\n",
      "Length: 99, dtype: object\n"
     ]
    },
    {
     "name": "stderr",
     "output_type": "stream",
     "text": [
      "\n",
      " 16%|█▌        | 60/384 [10:58<55:43, 10.32s/it]  \u001b[A"
     ]
    },
    {
     "name": "stdout",
     "output_type": "stream",
     "text": [
      "Especialista en Ingeniería en Calidad Done 1            ggcisterna@gmail.com\n",
      "1      sanchogabriela@hotmail.com\n",
      "1          ecalamos@argentina.com\n",
      "4          conghos@hotmail.com.ar\n",
      "5     marianonicola1975@gmail.com\n",
      "                 ...             \n",
      "9       ingenierosendin@gmail.com\n",
      "10      ingenierosendin@gmail.com\n",
      "11      adrianaspagnolo@gmail.com\n",
      "1           lauccordoba@gmail.com\n",
      "2          alejandro@falco.net.ar\n",
      "Length: 99, dtype: object\n"
     ]
    },
    {
     "name": "stderr",
     "output_type": "stream",
     "text": [
      "\n",
      " 16%|█▌        | 61/384 [11:04<50:00,  9.29s/it]\u001b[A"
     ]
    },
    {
     "name": "stdout",
     "output_type": "stream",
     "text": [
      "Especialista en Planificacion Urbana   Done 1            ggcisterna@gmail.com\n",
      "1      sanchogabriela@hotmail.com\n",
      "1          ecalamos@argentina.com\n",
      "4          conghos@hotmail.com.ar\n",
      "5     marianonicola1975@gmail.com\n",
      "                 ...             \n",
      "9       ingenierosendin@gmail.com\n",
      "10      ingenierosendin@gmail.com\n",
      "11      adrianaspagnolo@gmail.com\n",
      "1           lauccordoba@gmail.com\n",
      "2          alejandro@falco.net.ar\n",
      "Length: 99, dtype: object\n"
     ]
    },
    {
     "name": "stderr",
     "output_type": "stream",
     "text": [
      "\n",
      " 16%|█▌        | 62/384 [11:11<44:48,  8.35s/it]\u001b[A"
     ]
    },
    {
     "name": "stdout",
     "output_type": "stream",
     "text": [
      "ESPECIALISTA EN PROTECCIÓN AMBIENTAL Done 1            ggcisterna@gmail.com\n",
      "1      sanchogabriela@hotmail.com\n",
      "1          ecalamos@argentina.com\n",
      "4          conghos@hotmail.com.ar\n",
      "5     marianonicola1975@gmail.com\n",
      "                 ...             \n",
      "9       ingenierosendin@gmail.com\n",
      "10      ingenierosendin@gmail.com\n",
      "11      adrianaspagnolo@gmail.com\n",
      "1           lauccordoba@gmail.com\n",
      "2          alejandro@falco.net.ar\n",
      "Length: 99, dtype: object\n"
     ]
    },
    {
     "name": "stderr",
     "output_type": "stream",
     "text": [
      "\n",
      " 16%|█▋        | 63/384 [11:18<43:06,  8.06s/it]\u001b[A"
     ]
    },
    {
     "name": "stdout",
     "output_type": "stream",
     "text": [
      "ESPECIALISTA EN SEGURIDAD E HIGIENE Done 1            ggcisterna@gmail.com\n",
      "1      sanchogabriela@hotmail.com\n",
      "1          ecalamos@argentina.com\n",
      "4          conghos@hotmail.com.ar\n",
      "5     marianonicola1975@gmail.com\n",
      "                 ...             \n",
      "11      adrianaspagnolo@gmail.com\n",
      "1           lauccordoba@gmail.com\n",
      "2          alejandro@falco.net.ar\n",
      "1       jmgconstrucciones.2@gmail\n",
      "2            mssollazzo@gmail.com\n",
      "Length: 101, dtype: object\n"
     ]
    },
    {
     "name": "stderr",
     "output_type": "stream",
     "text": [
      "\n",
      " 17%|█▋        | 64/384 [11:26<42:30,  7.97s/it]\u001b[A"
     ]
    },
    {
     "name": "stdout",
     "output_type": "stream",
     "text": [
      "ESPECIALISTA EN SEGURIDAD E HIGIENE DEL TRABAJO Done 1           ggcisterna@gmail.com\n",
      "1     sanchogabriela@hotmail.com\n",
      "1         ecalamos@argentina.com\n",
      "4         conghos@hotmail.com.ar\n",
      "5    marianonicola1975@gmail.com\n",
      "                ...             \n",
      "1          lauccordoba@gmail.com\n",
      "2         alejandro@falco.net.ar\n",
      "1      jmgconstrucciones.2@gmail\n",
      "2           mssollazzo@gmail.com\n",
      "1      jmgconstrucciones.2@gmail\n",
      "Length: 102, dtype: object\n"
     ]
    },
    {
     "name": "stderr",
     "output_type": "stream",
     "text": [
      "\n",
      " 17%|█▋        | 65/384 [11:32<40:17,  7.58s/it]\u001b[A"
     ]
    },
    {
     "name": "stdout",
     "output_type": "stream",
     "text": [
      "Especialista en Seguridad e Higiene en el Trabajo Done 1           ggcisterna@gmail.com\n",
      "1     sanchogabriela@hotmail.com\n",
      "1         ecalamos@argentina.com\n",
      "4         conghos@hotmail.com.ar\n",
      "5    marianonicola1975@gmail.com\n",
      "                ...             \n",
      "2         alejandro@falco.net.ar\n",
      "1      jmgconstrucciones.2@gmail\n",
      "2           mssollazzo@gmail.com\n",
      "1      jmgconstrucciones.2@gmail\n",
      "1           mssollazzo@gmail.com\n",
      "Length: 103, dtype: object\n"
     ]
    },
    {
     "name": "stderr",
     "output_type": "stream",
     "text": [
      "\n",
      " 17%|█▋        | 66/384 [11:39<38:48,  7.32s/it]\u001b[A"
     ]
    },
    {
     "name": "stdout",
     "output_type": "stream",
     "text": [
      "Especialista en seguridad en el trabajo agrario Done 1           ggcisterna@gmail.com\n",
      "1     sanchogabriela@hotmail.com\n",
      "1         ecalamos@argentina.com\n",
      "4         conghos@hotmail.com.ar\n",
      "5    marianonicola1975@gmail.com\n",
      "                ...             \n",
      "2         alejandro@falco.net.ar\n",
      "1      jmgconstrucciones.2@gmail\n",
      "2           mssollazzo@gmail.com\n",
      "1      jmgconstrucciones.2@gmail\n",
      "1           mssollazzo@gmail.com\n",
      "Length: 103, dtype: object\n"
     ]
    },
    {
     "name": "stderr",
     "output_type": "stream",
     "text": [
      "\n",
      " 17%|█▋        | 67/384 [11:46<38:09,  7.22s/it]\u001b[A"
     ]
    },
    {
     "name": "stdout",
     "output_type": "stream",
     "text": [
      "Especialista en Seguridad, Higiene y ProtecciÃ³n A Done 1                ggcisterna@gmail.com\n",
      "1          sanchogabriela@hotmail.com\n",
      "1              ecalamos@argentina.com\n",
      "4              conghos@hotmail.com.ar\n",
      "5         marianonicola1975@gmail.com\n",
      "                   ...               \n",
      "1           jmgconstrucciones.2@gmail\n",
      "2                mssollazzo@gmail.com\n",
      "1           jmgconstrucciones.2@gmail\n",
      "1                mssollazzo@gmail.com\n",
      "1    MARIAEUGENIA_MARTIN@YAHOO.COM.AR\n",
      "Length: 104, dtype: object\n"
     ]
    },
    {
     "name": "stderr",
     "output_type": "stream",
     "text": [
      "\n",
      " 18%|█▊        | 68/384 [11:55<40:20,  7.66s/it]\u001b[A"
     ]
    },
    {
     "name": "stdout",
     "output_type": "stream",
     "text": [
      "Especialista en Seguridad, Higiene y Protección Am Done 1                ggcisterna@gmail.com\n",
      "1          sanchogabriela@hotmail.com\n",
      "1              ecalamos@argentina.com\n",
      "4              conghos@hotmail.com.ar\n",
      "5         marianonicola1975@gmail.com\n",
      "                   ...               \n",
      "1           jmgconstrucciones.2@gmail\n",
      "1                mssollazzo@gmail.com\n",
      "1    MARIAEUGENIA_MARTIN@YAHOO.COM.AR\n",
      "1             ars.servicios@gmail.com\n",
      "2                noranievas@gmail.com\n",
      "Length: 106, dtype: object\n"
     ]
    },
    {
     "name": "stderr",
     "output_type": "stream",
     "text": [
      "\n",
      " 18%|█▊        | 69/384 [12:01<37:42,  7.18s/it]\u001b[A"
     ]
    },
    {
     "name": "stdout",
     "output_type": "stream",
     "text": [
      "Especialista en Seguridad,Higiene y Proteccion Amb Done 1                ggcisterna@gmail.com\n",
      "1          sanchogabriela@hotmail.com\n",
      "1              ecalamos@argentina.com\n",
      "4              conghos@hotmail.com.ar\n",
      "5         marianonicola1975@gmail.com\n",
      "                   ...               \n",
      "1           jmgconstrucciones.2@gmail\n",
      "1                mssollazzo@gmail.com\n",
      "1    MARIAEUGENIA_MARTIN@YAHOO.COM.AR\n",
      "1             ars.servicios@gmail.com\n",
      "2                noranievas@gmail.com\n",
      "Length: 106, dtype: object\n"
     ]
    },
    {
     "name": "stderr",
     "output_type": "stream",
     "text": [
      "\n",
      " 18%|█▊        | 70/384 [12:09<39:24,  7.53s/it]\u001b[A"
     ]
    },
    {
     "name": "stdout",
     "output_type": "stream",
     "text": [
      "ESPECIALISTA HIGIENE Y SEGURIDAD EN EL TRABAJO Done 1                ggcisterna@gmail.com\n",
      "1          sanchogabriela@hotmail.com\n",
      "1              ecalamos@argentina.com\n",
      "4              conghos@hotmail.com.ar\n",
      "5         marianonicola1975@gmail.com\n",
      "                   ...               \n",
      "1                mssollazzo@gmail.com\n",
      "1    MARIAEUGENIA_MARTIN@YAHOO.COM.AR\n",
      "1             ars.servicios@gmail.com\n",
      "2                noranievas@gmail.com\n",
      "1                edelaplaza@gmail.com\n",
      "Length: 107, dtype: object\n"
     ]
    },
    {
     "name": "stderr",
     "output_type": "stream",
     "text": [
      "\n",
      " 18%|█▊        | 71/384 [12:15<37:12,  7.13s/it]\u001b[A"
     ]
    },
    {
     "name": "stdout",
     "output_type": "stream",
     "text": [
      "Especialista medio ambiente y contaminación de eco Done 1                ggcisterna@gmail.com\n",
      "1          sanchogabriela@hotmail.com\n",
      "1              ecalamos@argentina.com\n",
      "4              conghos@hotmail.com.ar\n",
      "5         marianonicola1975@gmail.com\n",
      "                   ...               \n",
      "1                mssollazzo@gmail.com\n",
      "1    MARIAEUGENIA_MARTIN@YAHOO.COM.AR\n",
      "1             ars.servicios@gmail.com\n",
      "2                noranievas@gmail.com\n",
      "1                edelaplaza@gmail.com\n",
      "Length: 107, dtype: object\n"
     ]
    },
    {
     "name": "stderr",
     "output_type": "stream",
     "text": [
      "\n",
      " 19%|█▉        | 72/384 [12:22<36:20,  6.99s/it]\u001b[A"
     ]
    },
    {
     "name": "stdout",
     "output_type": "stream",
     "text": [
      "Especialización en Ciencias Químicas y Ambiente Done 1                ggcisterna@gmail.com\n",
      "1          sanchogabriela@hotmail.com\n",
      "1              ecalamos@argentina.com\n",
      "4              conghos@hotmail.com.ar\n",
      "5         marianonicola1975@gmail.com\n",
      "                   ...               \n",
      "1    MARIAEUGENIA_MARTIN@YAHOO.COM.AR\n",
      "1             ars.servicios@gmail.com\n",
      "2                noranievas@gmail.com\n",
      "1                edelaplaza@gmail.com\n",
      "1                alejandrolucini@mijo\n",
      "Length: 108, dtype: object\n"
     ]
    },
    {
     "name": "stderr",
     "output_type": "stream",
     "text": [
      "\n",
      " 19%|█▉        | 73/384 [12:28<35:14,  6.80s/it]\u001b[A"
     ]
    },
    {
     "name": "stdout",
     "output_type": "stream",
     "text": [
      "Especializacion en Desarrollo Sustentable Done 1                ggcisterna@gmail.com\n",
      "1          sanchogabriela@hotmail.com\n",
      "1              ecalamos@argentina.com\n",
      "4              conghos@hotmail.com.ar\n",
      "5         marianonicola1975@gmail.com\n",
      "                   ...               \n",
      "1    MARIAEUGENIA_MARTIN@YAHOO.COM.AR\n",
      "1             ars.servicios@gmail.com\n",
      "2                noranievas@gmail.com\n",
      "1                edelaplaza@gmail.com\n",
      "1                alejandrolucini@mijo\n",
      "Length: 108, dtype: object\n"
     ]
    },
    {
     "name": "stderr",
     "output_type": "stream",
     "text": [
      "\n",
      " 19%|█▉        | 74/384 [12:36<36:03,  6.98s/it]\u001b[A"
     ]
    },
    {
     "name": "stdout",
     "output_type": "stream",
     "text": [
      "ESPECIALIZACION EN EVALUACION DEL IMPACTO AMBIENTA Done 1                ggcisterna@gmail.com\n",
      "1          sanchogabriela@hotmail.com\n",
      "1              ecalamos@argentina.com\n",
      "4              conghos@hotmail.com.ar\n",
      "5         marianonicola1975@gmail.com\n",
      "                   ...               \n",
      "1    MARIAEUGENIA_MARTIN@YAHOO.COM.AR\n",
      "1             ars.servicios@gmail.com\n",
      "2                noranievas@gmail.com\n",
      "1                edelaplaza@gmail.com\n",
      "1                alejandrolucini@mijo\n",
      "Length: 108, dtype: object\n"
     ]
    },
    {
     "name": "stderr",
     "output_type": "stream",
     "text": [
      "\n",
      " 20%|█▉        | 75/384 [12:44<37:17,  7.24s/it]\u001b[A"
     ]
    },
    {
     "name": "stdout",
     "output_type": "stream",
     "text": [
      "Especializacion en Higiene  y Seg. en el Trabajo Done 1                ggcisterna@gmail.com\n",
      "1          sanchogabriela@hotmail.com\n",
      "1              ecalamos@argentina.com\n",
      "4              conghos@hotmail.com.ar\n",
      "5         marianonicola1975@gmail.com\n",
      "                   ...               \n",
      "1    MARIAEUGENIA_MARTIN@YAHOO.COM.AR\n",
      "1             ars.servicios@gmail.com\n",
      "2                noranievas@gmail.com\n",
      "1                edelaplaza@gmail.com\n",
      "1                alejandrolucini@mijo\n",
      "Length: 108, dtype: object\n"
     ]
    },
    {
     "name": "stderr",
     "output_type": "stream",
     "text": [
      "\n",
      " 20%|█▉        | 76/384 [12:51<36:50,  7.18s/it]\u001b[A"
     ]
    },
    {
     "name": "stdout",
     "output_type": "stream",
     "text": [
      "ESPECIALIZACION EN HIGIENE Y SEGURIDAD EN EL TRABA Done 1                ggcisterna@gmail.com\n",
      "1          sanchogabriela@hotmail.com\n",
      "1              ecalamos@argentina.com\n",
      "4              conghos@hotmail.com.ar\n",
      "5         marianonicola1975@gmail.com\n",
      "                   ...               \n",
      "1    MARIAEUGENIA_MARTIN@YAHOO.COM.AR\n",
      "1             ars.servicios@gmail.com\n",
      "2                noranievas@gmail.com\n",
      "1                edelaplaza@gmail.com\n",
      "1                alejandrolucini@mijo\n",
      "Length: 108, dtype: object\n"
     ]
    },
    {
     "name": "stderr",
     "output_type": "stream",
     "text": [
      "\n",
      " 20%|██        | 77/384 [12:58<36:26,  7.12s/it]\u001b[A"
     ]
    },
    {
     "name": "stdout",
     "output_type": "stream",
     "text": [
      "Farmaceutica Especialista en Esterilización Done 1                ggcisterna@gmail.com\n",
      "1          sanchogabriela@hotmail.com\n",
      "1              ecalamos@argentina.com\n",
      "4              conghos@hotmail.com.ar\n",
      "5         marianonicola1975@gmail.com\n",
      "                   ...               \n",
      "1    MARIAEUGENIA_MARTIN@YAHOO.COM.AR\n",
      "1             ars.servicios@gmail.com\n",
      "2                noranievas@gmail.com\n",
      "1                edelaplaza@gmail.com\n",
      "1                alejandrolucini@mijo\n",
      "Length: 108, dtype: object\n"
     ]
    },
    {
     "name": "stderr",
     "output_type": "stream",
     "text": [
      "\n",
      " 20%|██        | 78/384 [13:07<39:38,  7.77s/it]\u001b[A"
     ]
    },
    {
     "name": "stdout",
     "output_type": "stream",
     "text": [
      "Farmaceutico Done 1                ggcisterna@gmail.com\n",
      "1          sanchogabriela@hotmail.com\n",
      "1              ecalamos@argentina.com\n",
      "4              conghos@hotmail.com.ar\n",
      "5         marianonicola1975@gmail.com\n",
      "                   ...               \n",
      "1    MARIAEUGENIA_MARTIN@YAHOO.COM.AR\n",
      "1             ars.servicios@gmail.com\n",
      "2                noranievas@gmail.com\n",
      "1                edelaplaza@gmail.com\n",
      "1                alejandrolucini@mijo\n",
      "Length: 108, dtype: object\n"
     ]
    },
    {
     "name": "stderr",
     "output_type": "stream",
     "text": [
      "\n",
      " 21%|██        | 79/384 [13:14<39:06,  7.69s/it]\u001b[A"
     ]
    },
    {
     "name": "stdout",
     "output_type": "stream",
     "text": [
      "Geofísico Done 1                ggcisterna@gmail.com\n",
      "1          sanchogabriela@hotmail.com\n",
      "1              ecalamos@argentina.com\n",
      "4              conghos@hotmail.com.ar\n",
      "5         marianonicola1975@gmail.com\n",
      "                   ...               \n",
      "1    MARIAEUGENIA_MARTIN@YAHOO.COM.AR\n",
      "1             ars.servicios@gmail.com\n",
      "2                noranievas@gmail.com\n",
      "1                edelaplaza@gmail.com\n",
      "1                alejandrolucini@mijo\n",
      "Length: 108, dtype: object\n"
     ]
    },
    {
     "name": "stderr",
     "output_type": "stream",
     "text": [
      "\n",
      " 21%|██        | 80/384 [14:39<2:35:50, 30.76s/it]\u001b[A"
     ]
    },
    {
     "name": "stdout",
     "output_type": "stream",
     "text": [
      "Geólogo Done 1            ggcisterna@gmail.com\n",
      "1      sanchogabriela@hotmail.com\n",
      "1          ecalamos@argentina.com\n",
      "4          conghos@hotmail.com.ar\n",
      "5     marianonicola1975@gmail.com\n",
      "                 ...             \n",
      "17             perera@hidroar.com\n",
      "20       geologotimon@hotmail.com\n",
      "22     hugovidili@fibertel.com.ar\n",
      "23      villalbaha@infovia.com.ar\n",
      "25              jwgeo@hotmail.com\n",
      "Length: 125, dtype: object\n"
     ]
    },
    {
     "name": "stderr",
     "output_type": "stream",
     "text": [
      "\n",
      " 21%|██        | 81/384 [14:48<2:02:51, 24.33s/it]\u001b[A"
     ]
    },
    {
     "name": "stdout",
     "output_type": "stream",
     "text": [
      "Geoquímico Done 1            ggcisterna@gmail.com\n",
      "1      sanchogabriela@hotmail.com\n",
      "1          ecalamos@argentina.com\n",
      "4          conghos@hotmail.com.ar\n",
      "5     marianonicola1975@gmail.com\n",
      "                 ...             \n",
      "17             perera@hidroar.com\n",
      "20       geologotimon@hotmail.com\n",
      "22     hugovidili@fibertel.com.ar\n",
      "23      villalbaha@infovia.com.ar\n",
      "25              jwgeo@hotmail.com\n",
      "Length: 125, dtype: object\n"
     ]
    },
    {
     "name": "stderr",
     "output_type": "stream",
     "text": [
      "\n",
      " 21%|██▏       | 82/384 [14:55<1:35:46, 19.03s/it]\u001b[A"
     ]
    },
    {
     "name": "stdout",
     "output_type": "stream",
     "text": [
      "Hidrologia Ambiental Done 1            ggcisterna@gmail.com\n",
      "1      sanchogabriela@hotmail.com\n",
      "1          ecalamos@argentina.com\n",
      "4          conghos@hotmail.com.ar\n",
      "5     marianonicola1975@gmail.com\n",
      "                 ...             \n",
      "20       geologotimon@hotmail.com\n",
      "22     hugovidili@fibertel.com.ar\n",
      "23      villalbaha@infovia.com.ar\n",
      "25              jwgeo@hotmail.com\n",
      "1         enriquehopman@gmail.com\n",
      "Length: 126, dtype: object\n"
     ]
    },
    {
     "name": "stderr",
     "output_type": "stream",
     "text": [
      "\n",
      " 22%|██▏       | 83/384 [15:00<1:14:37, 14.88s/it]\u001b[A"
     ]
    },
    {
     "name": "stdout",
     "output_type": "stream",
     "text": [
      "HIGIENE Y SEGURIDAD DEN EL TRABAJO Done 1            ggcisterna@gmail.com\n",
      "1      sanchogabriela@hotmail.com\n",
      "1          ecalamos@argentina.com\n",
      "4          conghos@hotmail.com.ar\n",
      "5     marianonicola1975@gmail.com\n",
      "                 ...             \n",
      "20       geologotimon@hotmail.com\n",
      "22     hugovidili@fibertel.com.ar\n",
      "23      villalbaha@infovia.com.ar\n",
      "25              jwgeo@hotmail.com\n",
      "1         enriquehopman@gmail.com\n",
      "Length: 126, dtype: object\n"
     ]
    },
    {
     "name": "stderr",
     "output_type": "stream",
     "text": [
      "\n",
      " 22%|██▏       | 84/384 [15:07<1:02:10, 12.43s/it]\u001b[A"
     ]
    },
    {
     "name": "stdout",
     "output_type": "stream",
     "text": [
      "Higiene y Seguridad en el Trabajo y Medio Ambiente Done 1            ggcisterna@gmail.com\n",
      "1      sanchogabriela@hotmail.com\n",
      "1          ecalamos@argentina.com\n",
      "4          conghos@hotmail.com.ar\n",
      "5     marianonicola1975@gmail.com\n",
      "                 ...             \n",
      "23      villalbaha@infovia.com.ar\n",
      "25              jwgeo@hotmail.com\n",
      "1         enriquehopman@gmail.com\n",
      "1           earmanini@hotmail.com\n",
      "2           earmanini@hotmail.com\n",
      "Length: 128, dtype: object\n"
     ]
    },
    {
     "name": "stderr",
     "output_type": "stream",
     "text": [
      "\n",
      " 22%|██▏       | 85/384 [15:13<52:24, 10.52s/it]  \u001b[A"
     ]
    },
    {
     "name": "stdout",
     "output_type": "stream",
     "text": [
      "Iing. laboral  y especialista en hig y seg Done 1            ggcisterna@gmail.com\n",
      "1      sanchogabriela@hotmail.com\n",
      "1          ecalamos@argentina.com\n",
      "4          conghos@hotmail.com.ar\n",
      "5     marianonicola1975@gmail.com\n",
      "                 ...             \n",
      "23      villalbaha@infovia.com.ar\n",
      "25              jwgeo@hotmail.com\n",
      "1         enriquehopman@gmail.com\n",
      "1           earmanini@hotmail.com\n",
      "2           earmanini@hotmail.com\n",
      "Length: 128, dtype: object\n"
     ]
    },
    {
     "name": "stderr",
     "output_type": "stream",
     "text": [
      "\n",
      " 22%|██▏       | 86/384 [15:19<46:05,  9.28s/it]\u001b[A"
     ]
    },
    {
     "name": "stdout",
     "output_type": "stream",
     "text": [
      "Ing industrial y espec en ing amb Done 1            ggcisterna@gmail.com\n",
      "1      sanchogabriela@hotmail.com\n",
      "1          ecalamos@argentina.com\n",
      "4          conghos@hotmail.com.ar\n",
      "5     marianonicola1975@gmail.com\n",
      "                 ...             \n",
      "23      villalbaha@infovia.com.ar\n",
      "25              jwgeo@hotmail.com\n",
      "1         enriquehopman@gmail.com\n",
      "1           earmanini@hotmail.com\n",
      "2           earmanini@hotmail.com\n",
      "Length: 128, dtype: object\n"
     ]
    },
    {
     "name": "stderr",
     "output_type": "stream",
     "text": [
      "\n",
      " 23%|██▎       | 87/384 [15:26<42:01,  8.49s/it]\u001b[A"
     ]
    },
    {
     "name": "stdout",
     "output_type": "stream",
     "text": [
      "ING. Electricista con Orientación Electronica Done 1            ggcisterna@gmail.com\n",
      "1      sanchogabriela@hotmail.com\n",
      "1          ecalamos@argentina.com\n",
      "4          conghos@hotmail.com.ar\n",
      "5     marianonicola1975@gmail.com\n",
      "                 ...             \n",
      "23      villalbaha@infovia.com.ar\n",
      "25              jwgeo@hotmail.com\n",
      "1         enriquehopman@gmail.com\n",
      "1           earmanini@hotmail.com\n",
      "2           earmanini@hotmail.com\n",
      "Length: 128, dtype: object\n"
     ]
    },
    {
     "name": "stderr",
     "output_type": "stream",
     "text": [
      "\n",
      " 23%|██▎       | 88/384 [15:32<37:28,  7.60s/it]\u001b[A"
     ]
    },
    {
     "name": "stdout",
     "output_type": "stream",
     "text": [
      "ING. EN ELECTRONICA Done 1            ggcisterna@gmail.com\n",
      "1      sanchogabriela@hotmail.com\n",
      "1          ecalamos@argentina.com\n",
      "4          conghos@hotmail.com.ar\n",
      "5     marianonicola1975@gmail.com\n",
      "                 ...             \n",
      "23      villalbaha@infovia.com.ar\n",
      "25              jwgeo@hotmail.com\n",
      "1         enriquehopman@gmail.com\n",
      "1           earmanini@hotmail.com\n",
      "2           earmanini@hotmail.com\n",
      "Length: 128, dtype: object\n"
     ]
    },
    {
     "name": "stderr",
     "output_type": "stream",
     "text": [
      "\n",
      " 23%|██▎       | 89/384 [15:52<55:50, 11.36s/it]\u001b[A"
     ]
    },
    {
     "name": "stdout",
     "output_type": "stream",
     "text": [
      "ING. INDUSTRIAL Done 1            ggcisterna@gmail.com\n",
      "1      sanchogabriela@hotmail.com\n",
      "1          ecalamos@argentina.com\n",
      "4          conghos@hotmail.com.ar\n",
      "5     marianonicola1975@gmail.com\n",
      "                 ...             \n",
      "9            mrosso@ceamse.gov.ar\n",
      "10           dariosalvo@gmail.com\n",
      "11     ingjaviertaboada@gmail.com\n",
      "12         teyssan269@hotmail.com\n",
      "13        gustavowilder@gmail.com\n",
      "Length: 140, dtype: object\n"
     ]
    },
    {
     "name": "stderr",
     "output_type": "stream",
     "text": [
      "\n",
      " 23%|██▎       | 90/384 [15:59<49:16, 10.06s/it]\u001b[A"
     ]
    },
    {
     "name": "stdout",
     "output_type": "stream",
     "text": [
      "Ing. metalurgico Done 1            ggcisterna@gmail.com\n",
      "1      sanchogabriela@hotmail.com\n",
      "1          ecalamos@argentina.com\n",
      "4          conghos@hotmail.com.ar\n",
      "5     marianonicola1975@gmail.com\n",
      "                 ...             \n",
      "9            mrosso@ceamse.gov.ar\n",
      "10           dariosalvo@gmail.com\n",
      "11     ingjaviertaboada@gmail.com\n",
      "12         teyssan269@hotmail.com\n",
      "13        gustavowilder@gmail.com\n",
      "Length: 140, dtype: object\n"
     ]
    },
    {
     "name": "stderr",
     "output_type": "stream",
     "text": [
      "\n",
      " 24%|██▎       | 91/384 [16:04<42:13,  8.65s/it]\u001b[A"
     ]
    },
    {
     "name": "stdout",
     "output_type": "stream",
     "text": [
      "ING. TELEC., ELECT. Y COMPUTACION Done 1            ggcisterna@gmail.com\n",
      "1      sanchogabriela@hotmail.com\n",
      "1          ecalamos@argentina.com\n",
      "4          conghos@hotmail.com.ar\n",
      "5     marianonicola1975@gmail.com\n",
      "                 ...             \n",
      "9            mrosso@ceamse.gov.ar\n",
      "10           dariosalvo@gmail.com\n",
      "11     ingjaviertaboada@gmail.com\n",
      "12         teyssan269@hotmail.com\n",
      "13        gustavowilder@gmail.com\n",
      "Length: 140, dtype: object\n"
     ]
    },
    {
     "name": "stderr",
     "output_type": "stream",
     "text": [
      "\n",
      " 24%|██▍       | 92/384 [16:10<38:37,  7.94s/it]\u001b[A"
     ]
    },
    {
     "name": "stdout",
     "output_type": "stream",
     "text": [
      "ING.QUIMICA Y ESPECIALISTA EN INGENIERÍA AMBIENTAL Done 1            ggcisterna@gmail.com\n",
      "1      sanchogabriela@hotmail.com\n",
      "1          ecalamos@argentina.com\n",
      "4          conghos@hotmail.com.ar\n",
      "5     marianonicola1975@gmail.com\n",
      "                 ...             \n",
      "9            mrosso@ceamse.gov.ar\n",
      "10           dariosalvo@gmail.com\n",
      "11     ingjaviertaboada@gmail.com\n",
      "12         teyssan269@hotmail.com\n",
      "13        gustavowilder@gmail.com\n",
      "Length: 140, dtype: object\n"
     ]
    },
    {
     "name": "stderr",
     "output_type": "stream",
     "text": [
      "\n",
      " 24%|██▍       | 93/384 [16:22<44:36,  9.20s/it]\u001b[A"
     ]
    },
    {
     "name": "stdout",
     "output_type": "stream",
     "text": [
      "INGENIERA  CIVIL Done 1            ggcisterna@gmail.com\n",
      "1      sanchogabriela@hotmail.com\n",
      "1          ecalamos@argentina.com\n",
      "4          conghos@hotmail.com.ar\n",
      "5     marianonicola1975@gmail.com\n",
      "                 ...             \n",
      "12         teyssan269@hotmail.com\n",
      "13        gustavowilder@gmail.com\n",
      "1               sfiotto@gmail.com\n",
      "2       jmgconstrucciones.2@gmail\n",
      "3         mgonzal@frbb.utn.edu.ar\n",
      "Length: 143, dtype: object\n"
     ]
    },
    {
     "name": "stderr",
     "output_type": "stream",
     "text": [
      "\n",
      " 24%|██▍       | 94/384 [16:30<41:28,  8.58s/it]\u001b[A"
     ]
    },
    {
     "name": "stdout",
     "output_type": "stream",
     "text": [
      "INGENIERA AGROINDUSTRIAL Done 1            ggcisterna@gmail.com\n",
      "1      sanchogabriela@hotmail.com\n",
      "1          ecalamos@argentina.com\n",
      "4          conghos@hotmail.com.ar\n",
      "5     marianonicola1975@gmail.com\n",
      "                 ...             \n",
      "12         teyssan269@hotmail.com\n",
      "13        gustavowilder@gmail.com\n",
      "1               sfiotto@gmail.com\n",
      "2       jmgconstrucciones.2@gmail\n",
      "3         mgonzal@frbb.utn.edu.ar\n",
      "Length: 143, dtype: object\n"
     ]
    },
    {
     "name": "stderr",
     "output_type": "stream",
     "text": [
      "\n",
      " 25%|██▍       | 95/384 [16:37<39:00,  8.10s/it]\u001b[A"
     ]
    },
    {
     "name": "stdout",
     "output_type": "stream",
     "text": [
      "INGENIERA AGRONOMA Done 1            ggcisterna@gmail.com\n",
      "1      sanchogabriela@hotmail.com\n",
      "1          ecalamos@argentina.com\n",
      "4          conghos@hotmail.com.ar\n",
      "5     marianonicola1975@gmail.com\n",
      "                 ...             \n",
      "12         teyssan269@hotmail.com\n",
      "13        gustavowilder@gmail.com\n",
      "1               sfiotto@gmail.com\n",
      "2       jmgconstrucciones.2@gmail\n",
      "3         mgonzal@frbb.utn.edu.ar\n",
      "Length: 143, dtype: object\n"
     ]
    },
    {
     "name": "stderr",
     "output_type": "stream",
     "text": [
      "\n",
      " 25%|██▌       | 96/384 [16:43<36:43,  7.65s/it]\u001b[A"
     ]
    },
    {
     "name": "stdout",
     "output_type": "stream",
     "text": [
      "INGENIERA AMB. Y SANITARIA Done 1            ggcisterna@gmail.com\n",
      "1      sanchogabriela@hotmail.com\n",
      "1          ecalamos@argentina.com\n",
      "4          conghos@hotmail.com.ar\n",
      "5     marianonicola1975@gmail.com\n",
      "                 ...             \n",
      "12         teyssan269@hotmail.com\n",
      "13        gustavowilder@gmail.com\n",
      "1               sfiotto@gmail.com\n",
      "2       jmgconstrucciones.2@gmail\n",
      "3         mgonzal@frbb.utn.edu.ar\n",
      "Length: 143, dtype: object\n"
     ]
    },
    {
     "name": "stderr",
     "output_type": "stream",
     "text": [
      "\n",
      " 25%|██▌       | 97/384 [16:57<44:58,  9.40s/it]\u001b[A"
     ]
    },
    {
     "name": "stdout",
     "output_type": "stream",
     "text": [
      "INGENIERA AMBIENTAL Done 1             ggcisterna@gmail.com\n",
      "1       sanchogabriela@hotmail.com\n",
      "1           ecalamos@argentina.com\n",
      "4           conghos@hotmail.com.ar\n",
      "5      marianonicola1975@gmail.com\n",
      "                 ...              \n",
      "2        jmgconstrucciones.2@gmail\n",
      "3          mgonzal@frbb.utn.edu.ar\n",
      "1       josefinaaristain@gmail.com\n",
      "2    mauro_constantino@hotmail.com\n",
      "4      micaelalambertini@gmail.com\n",
      "Length: 146, dtype: object\n"
     ]
    },
    {
     "name": "stderr",
     "output_type": "stream",
     "text": [
      "\n",
      " 26%|██▌       | 98/384 [17:04<41:16,  8.66s/it]\u001b[A"
     ]
    },
    {
     "name": "stdout",
     "output_type": "stream",
     "text": [
      "INGENIERA CIVIL Done 1             ggcisterna@gmail.com\n",
      "1       sanchogabriela@hotmail.com\n",
      "1           ecalamos@argentina.com\n",
      "4           conghos@hotmail.com.ar\n",
      "5      marianonicola1975@gmail.com\n",
      "                 ...              \n",
      "2        jmgconstrucciones.2@gmail\n",
      "3          mgonzal@frbb.utn.edu.ar\n",
      "1       josefinaaristain@gmail.com\n",
      "2    mauro_constantino@hotmail.com\n",
      "4      micaelalambertini@gmail.com\n",
      "Length: 146, dtype: object\n"
     ]
    },
    {
     "name": "stderr",
     "output_type": "stream",
     "text": [
      "\n",
      " 26%|██▌       | 99/384 [17:10<37:56,  7.99s/it]\u001b[A"
     ]
    },
    {
     "name": "stdout",
     "output_type": "stream",
     "text": [
      "INGENIERA EN ALIMENTOS Done 1             ggcisterna@gmail.com\n",
      "1       sanchogabriela@hotmail.com\n",
      "1           ecalamos@argentina.com\n",
      "4           conghos@hotmail.com.ar\n",
      "5      marianonicola1975@gmail.com\n",
      "                 ...              \n",
      "2        jmgconstrucciones.2@gmail\n",
      "3          mgonzal@frbb.utn.edu.ar\n",
      "1       josefinaaristain@gmail.com\n",
      "2    mauro_constantino@hotmail.com\n",
      "4      micaelalambertini@gmail.com\n",
      "Length: 146, dtype: object\n"
     ]
    },
    {
     "name": "stderr",
     "output_type": "stream",
     "text": [
      "\n",
      " 26%|██▌       | 100/384 [17:19<39:20,  8.31s/it]\u001b[A"
     ]
    },
    {
     "name": "stdout",
     "output_type": "stream",
     "text": [
      "Ingeniera en Ecologia Done 1             ggcisterna@gmail.com\n",
      "1       sanchogabriela@hotmail.com\n",
      "1           ecalamos@argentina.com\n",
      "4           conghos@hotmail.com.ar\n",
      "5      marianonicola1975@gmail.com\n",
      "                 ...              \n",
      "1       josefinaaristain@gmail.com\n",
      "2    mauro_constantino@hotmail.com\n",
      "4      micaelalambertini@gmail.com\n",
      "1         paolapaterno75@gmail.com\n",
      "2       florencia.poggio@gmail.com\n",
      "Length: 148, dtype: object\n"
     ]
    },
    {
     "name": "stderr",
     "output_type": "stream",
     "text": [
      "\n",
      " 26%|██▋       | 101/384 [17:26<36:45,  7.80s/it]\u001b[A"
     ]
    },
    {
     "name": "stdout",
     "output_type": "stream",
     "text": [
      "Ingeniera en Recursos Naturales y Medio Ambiente Done 1             ggcisterna@gmail.com\n",
      "1       sanchogabriela@hotmail.com\n",
      "1           ecalamos@argentina.com\n",
      "4           conghos@hotmail.com.ar\n",
      "5      marianonicola1975@gmail.com\n",
      "                 ...              \n",
      "1       josefinaaristain@gmail.com\n",
      "2    mauro_constantino@hotmail.com\n",
      "4      micaelalambertini@gmail.com\n",
      "1         paolapaterno75@gmail.com\n",
      "2       florencia.poggio@gmail.com\n",
      "Length: 148, dtype: object\n"
     ]
    },
    {
     "name": "stderr",
     "output_type": "stream",
     "text": [
      "\n",
      " 27%|██▋       | 102/384 [17:32<35:13,  7.50s/it]\u001b[A"
     ]
    },
    {
     "name": "stdout",
     "output_type": "stream",
     "text": [
      "INGENIERA HIDRAULICA Done 1             ggcisterna@gmail.com\n",
      "1       sanchogabriela@hotmail.com\n",
      "1           ecalamos@argentina.com\n",
      "4           conghos@hotmail.com.ar\n",
      "5      marianonicola1975@gmail.com\n",
      "                 ...              \n",
      "1       josefinaaristain@gmail.com\n",
      "2    mauro_constantino@hotmail.com\n",
      "4      micaelalambertini@gmail.com\n",
      "1         paolapaterno75@gmail.com\n",
      "2       florencia.poggio@gmail.com\n",
      "Length: 148, dtype: object\n"
     ]
    },
    {
     "name": "stderr",
     "output_type": "stream",
     "text": [
      "\n",
      " 27%|██▋       | 103/384 [17:41<36:30,  7.80s/it]\u001b[A"
     ]
    },
    {
     "name": "stdout",
     "output_type": "stream",
     "text": [
      "INGENIERA INDUSTRIAL Done 1             ggcisterna@gmail.com\n",
      "1       sanchogabriela@hotmail.com\n",
      "1           ecalamos@argentina.com\n",
      "4           conghos@hotmail.com.ar\n",
      "5      marianonicola1975@gmail.com\n",
      "                 ...              \n",
      "1       josefinaaristain@gmail.com\n",
      "2    mauro_constantino@hotmail.com\n",
      "4      micaelalambertini@gmail.com\n",
      "1         paolapaterno75@gmail.com\n",
      "2       florencia.poggio@gmail.com\n",
      "Length: 148, dtype: object\n"
     ]
    },
    {
     "name": "stderr",
     "output_type": "stream",
     "text": [
      "\n",
      " 27%|██▋       | 104/384 [17:48<35:46,  7.67s/it]\u001b[A"
     ]
    },
    {
     "name": "stdout",
     "output_type": "stream",
     "text": [
      "INGENIERA LABORAL Done 1             ggcisterna@gmail.com\n",
      "1       sanchogabriela@hotmail.com\n",
      "1           ecalamos@argentina.com\n",
      "4           conghos@hotmail.com.ar\n",
      "5      marianonicola1975@gmail.com\n",
      "                 ...              \n",
      "2    mauro_constantino@hotmail.com\n",
      "4      micaelalambertini@gmail.com\n",
      "1         paolapaterno75@gmail.com\n",
      "2       florencia.poggio@gmail.com\n",
      "2        osvaldoscian@yahoo.com.ar\n",
      "Length: 149, dtype: object\n"
     ]
    },
    {
     "name": "stderr",
     "output_type": "stream",
     "text": [
      "\n",
      " 27%|██▋       | 105/384 [18:01<42:16,  9.09s/it]\u001b[A"
     ]
    },
    {
     "name": "stdout",
     "output_type": "stream",
     "text": [
      "INGENIERA QUIMICA Done 1                  ggcisterna@gmail.com\n",
      "1            sanchogabriela@hotmail.com\n",
      "1                ecalamos@argentina.com\n",
      "4                conghos@hotmail.com.ar\n",
      "5           marianonicola1975@gmail.com\n",
      "                    ...                \n",
      "4    danilo.lozada@ar.bureauveritas.com\n",
      "5                camazzini@yahoo.com.ar\n",
      "6       mariagianninapastor@hotmail.com\n",
      "7                  ppingitore@gmail.com\n",
      "9                MPRAUSCHE@YAHOO.COM.AR\n",
      "Length: 157, dtype: object\n"
     ]
    },
    {
     "name": "stderr",
     "output_type": "stream",
     "text": [
      "\n",
      " 28%|██▊       | 106/384 [18:07<38:28,  8.30s/it]\u001b[A"
     ]
    },
    {
     "name": "stdout",
     "output_type": "stream",
     "text": [
      "INGENIERA ZOOTECNISTA  Done 1                  ggcisterna@gmail.com\n",
      "1            sanchogabriela@hotmail.com\n",
      "1                ecalamos@argentina.com\n",
      "4                conghos@hotmail.com.ar\n",
      "5           marianonicola1975@gmail.com\n",
      "                    ...                \n",
      "4    danilo.lozada@ar.bureauveritas.com\n",
      "5                camazzini@yahoo.com.ar\n",
      "6       mariagianninapastor@hotmail.com\n",
      "7                  ppingitore@gmail.com\n",
      "9                MPRAUSCHE@YAHOO.COM.AR\n",
      "Length: 157, dtype: object\n"
     ]
    },
    {
     "name": "stderr",
     "output_type": "stream",
     "text": [
      "\n",
      " 28%|██▊       | 107/384 [18:17<40:00,  8.67s/it]\u001b[A"
     ]
    },
    {
     "name": "stdout",
     "output_type": "stream",
     "text": [
      "Ingeniería en Seguridad Ambiental Done 1               ggcisterna@gmail.com\n",
      "1         sanchogabriela@hotmail.com\n",
      "1             ecalamos@argentina.com\n",
      "4             conghos@hotmail.com.ar\n",
      "5        marianonicola1975@gmail.com\n",
      "                  ...               \n",
      "7               ppingitore@gmail.com\n",
      "9             MPRAUSCHE@YAHOO.COM.AR\n",
      "1               amihoc@edesur.com.ar\n",
      "2    MARCELO.ANINO@AUSTRALTUB.COM.AR\n",
      "3               jpporterie@gmail.com\n",
      "Length: 160, dtype: object\n"
     ]
    },
    {
     "name": "stderr",
     "output_type": "stream",
     "text": [
      "\n",
      " 28%|██▊       | 108/384 [18:24<38:23,  8.35s/it]\u001b[A"
     ]
    },
    {
     "name": "stdout",
     "output_type": "stream",
     "text": [
      "Ingenieria Sanitaria Done 1               ggcisterna@gmail.com\n",
      "1         sanchogabriela@hotmail.com\n",
      "1             ecalamos@argentina.com\n",
      "4             conghos@hotmail.com.ar\n",
      "5        marianonicola1975@gmail.com\n",
      "                  ...               \n",
      "7               ppingitore@gmail.com\n",
      "9             MPRAUSCHE@YAHOO.COM.AR\n",
      "1               amihoc@edesur.com.ar\n",
      "2    MARCELO.ANINO@AUSTRALTUB.COM.AR\n",
      "3               jpporterie@gmail.com\n",
      "Length: 160, dtype: object\n"
     ]
    },
    {
     "name": "stderr",
     "output_type": "stream",
     "text": [
      "\n",
      " 28%|██▊       | 109/384 [18:35<40:51,  8.91s/it]\u001b[A"
     ]
    },
    {
     "name": "stdout",
     "output_type": "stream",
     "text": [
      "Ingeniero  en Alimentos Done 1               ggcisterna@gmail.com\n",
      "1         sanchogabriela@hotmail.com\n",
      "1             ecalamos@argentina.com\n",
      "4             conghos@hotmail.com.ar\n",
      "5        marianonicola1975@gmail.com\n",
      "                  ...               \n",
      "2    MARCELO.ANINO@AUSTRALTUB.COM.AR\n",
      "3               jpporterie@gmail.com\n",
      "1      alonsojuanignacio@hotmail.com\n",
      "2       MANUELENRIQUEZ84@HOTMAIL.COM\n",
      "4                 mourea@hotmail.com\n",
      "Length: 163, dtype: object\n"
     ]
    },
    {
     "name": "stderr",
     "output_type": "stream",
     "text": [
      "\n",
      " 29%|██▊       | 110/384 [18:44<40:50,  8.94s/it]\u001b[A"
     ]
    },
    {
     "name": "stdout",
     "output_type": "stream",
     "text": [
      "INGENIERO AERONAUTICO Done 1            ggcisterna@gmail.com\n",
      "1      sanchogabriela@hotmail.com\n",
      "1          ecalamos@argentina.com\n",
      "4          conghos@hotmail.com.ar\n",
      "5     marianonicola1975@gmail.com\n",
      "                 ...             \n",
      "2    MANUELENRIQUEZ84@HOTMAIL.COM\n",
      "4              mourea@hotmail.com\n",
      "1            myjpuen@yahoo.com.ar\n",
      "2            myjpuen@yahoo.com.ar\n",
      "3             JRAPOSO@HOTMAIL.COM\n",
      "Length: 166, dtype: object\n"
     ]
    },
    {
     "name": "stderr",
     "output_type": "stream",
     "text": [
      "\n",
      " 29%|██▉       | 111/384 [18:56<45:10,  9.93s/it]\u001b[A"
     ]
    },
    {
     "name": "stdout",
     "output_type": "stream",
     "text": [
      "Ingeniero Aeronáutico Done 1            ggcisterna@gmail.com\n",
      "1      sanchogabriela@hotmail.com\n",
      "1          ecalamos@argentina.com\n",
      "4          conghos@hotmail.com.ar\n",
      "5     marianonicola1975@gmail.com\n",
      "                 ...             \n",
      "1            myjpuen@yahoo.com.ar\n",
      "2            myjpuen@yahoo.com.ar\n",
      "3             JRAPOSO@HOTMAIL.COM\n",
      "1     ingenieria_enn@yahoo.com.ar\n",
      "2    ingenieria@estudioifp.com.ar\n",
      "Length: 168, dtype: object\n"
     ]
    },
    {
     "name": "stderr",
     "output_type": "stream",
     "text": [
      "\n",
      " 29%|██▉       | 112/384 [19:03<41:06,  9.07s/it]\u001b[A"
     ]
    },
    {
     "name": "stdout",
     "output_type": "stream",
     "text": [
      "INGENIERO AGRIMENSOR Done 1            ggcisterna@gmail.com\n",
      "1      sanchogabriela@hotmail.com\n",
      "1          ecalamos@argentina.com\n",
      "4          conghos@hotmail.com.ar\n",
      "5     marianonicola1975@gmail.com\n",
      "                 ...             \n",
      "1            myjpuen@yahoo.com.ar\n",
      "2            myjpuen@yahoo.com.ar\n",
      "3             JRAPOSO@HOTMAIL.COM\n",
      "1     ingenieria_enn@yahoo.com.ar\n",
      "2    ingenieria@estudioifp.com.ar\n",
      "Length: 168, dtype: object\n"
     ]
    },
    {
     "name": "stderr",
     "output_type": "stream",
     "text": [
      "\n",
      " 29%|██▉       | 113/384 [19:11<40:07,  8.88s/it]\u001b[A"
     ]
    },
    {
     "name": "stdout",
     "output_type": "stream",
     "text": [
      "INGENIERO AGRONOMO Done 1            ggcisterna@gmail.com\n",
      "1      sanchogabriela@hotmail.com\n",
      "1          ecalamos@argentina.com\n",
      "4          conghos@hotmail.com.ar\n",
      "5     marianonicola1975@gmail.com\n",
      "                 ...             \n",
      "1            myjpuen@yahoo.com.ar\n",
      "2            myjpuen@yahoo.com.ar\n",
      "3             JRAPOSO@HOTMAIL.COM\n",
      "1     ingenieria_enn@yahoo.com.ar\n",
      "2    ingenieria@estudioifp.com.ar\n",
      "Length: 168, dtype: object\n"
     ]
    },
    {
     "name": "stderr",
     "output_type": "stream",
     "text": [
      "\n",
      " 30%|██▉       | 114/384 [19:48<1:17:20, 17.19s/it]\u001b[A"
     ]
    },
    {
     "name": "stdout",
     "output_type": "stream",
     "text": [
      "Ingeniero Agrónomo Done 1            ggcisterna@gmail.com\n",
      "1      sanchogabriela@hotmail.com\n",
      "1          ecalamos@argentina.com\n",
      "4          conghos@hotmail.com.ar\n",
      "5     marianonicola1975@gmail.com\n",
      "                 ...             \n",
      "1    aradoconsultora@jsnet.com.ar\n",
      "2        fedegarcia83@hotmail.com\n",
      "4       maroteclaudio@hotmail.com\n",
      "5        EMERONO2004@YAHOO.COM.AR\n",
      "7              neldo@ar.inter.net\n",
      "Length: 173, dtype: object\n"
     ]
    },
    {
     "name": "stderr",
     "output_type": "stream",
     "text": [
      "\n",
      " 30%|██▉       | 115/384 [20:40<2:04:37, 27.80s/it]\u001b[A"
     ]
    },
    {
     "name": "stdout",
     "output_type": "stream",
     "text": [
      "Ingeniero Ambiental Done 1                     ggcisterna@gmail.com\n",
      "1               sanchogabriela@hotmail.com\n",
      "1                   ecalamos@argentina.com\n",
      "4                   conghos@hotmail.com.ar\n",
      "5              marianonicola1975@gmail.com\n",
      "                      ...                 \n",
      "28    coordinadoraambiental@hotmail.com.ar\n",
      "29    coordinadoraambiental@hotmail.com.ar\n",
      "30                     vitravettoa@ypf.com\n",
      "31               villalbaha@infovia.com.ar\n",
      "32                      jpweihs@bra.com.ar\n",
      "Length: 204, dtype: object\n"
     ]
    },
    {
     "name": "stderr",
     "output_type": "stream",
     "text": [
      "\n",
      " 30%|███       | 116/384 [22:15<3:33:08, 47.72s/it]\u001b[A"
     ]
    },
    {
     "name": "stdout",
     "output_type": "stream",
     "text": [
      "Ingeniero Civil Done 1              ggcisterna@gmail.com\n",
      "1        sanchogabriela@hotmail.com\n",
      "1            ecalamos@argentina.com\n",
      "4            conghos@hotmail.com.ar\n",
      "5       marianonicola1975@gmail.com\n",
      "                  ...              \n",
      "29       rrtempestilli@yahoo.com.ar\n",
      "30    mariainestombesi@yahoo.com.ar\n",
      "31          marina_vaca@hotmail.com\n",
      "32     alberto.williams@mecalux.com\n",
      "33        raulhzanconi@yahoo.com.ar\n",
      "Length: 233, dtype: object\n"
     ]
    },
    {
     "name": "stderr",
     "output_type": "stream",
     "text": [
      "\n",
      " 30%|███       | 117/384 [22:22<2:37:56, 35.49s/it]\u001b[A"
     ]
    },
    {
     "name": "stdout",
     "output_type": "stream",
     "text": [
      "INGENIERO DE PETROLEOS Done 1              ggcisterna@gmail.com\n",
      "1        sanchogabriela@hotmail.com\n",
      "1            ecalamos@argentina.com\n",
      "4            conghos@hotmail.com.ar\n",
      "5       marianonicola1975@gmail.com\n",
      "                  ...              \n",
      "29       rrtempestilli@yahoo.com.ar\n",
      "30    mariainestombesi@yahoo.com.ar\n",
      "31          marina_vaca@hotmail.com\n",
      "32     alberto.williams@mecalux.com\n",
      "33        raulhzanconi@yahoo.com.ar\n",
      "Length: 233, dtype: object\n"
     ]
    },
    {
     "name": "stderr",
     "output_type": "stream",
     "text": [
      "\n",
      " 31%|███       | 118/384 [22:28<1:58:57, 26.83s/it]\u001b[A"
     ]
    },
    {
     "name": "stdout",
     "output_type": "stream",
     "text": [
      "INGENIERO DE SONIDO Done 1              ggcisterna@gmail.com\n",
      "1        sanchogabriela@hotmail.com\n",
      "1            ecalamos@argentina.com\n",
      "4            conghos@hotmail.com.ar\n",
      "5       marianonicola1975@gmail.com\n",
      "                  ...              \n",
      "29       rrtempestilli@yahoo.com.ar\n",
      "30    mariainestombesi@yahoo.com.ar\n",
      "31          marina_vaca@hotmail.com\n",
      "32     alberto.williams@mecalux.com\n",
      "33        raulhzanconi@yahoo.com.ar\n",
      "Length: 233, dtype: object\n"
     ]
    },
    {
     "name": "stderr",
     "output_type": "stream",
     "text": [
      "\n",
      " 31%|███       | 119/384 [23:18<2:28:22, 33.59s/it]\u001b[A"
     ]
    },
    {
     "name": "stdout",
     "output_type": "stream",
     "text": [
      "Ingeniero Electricista Done 1            ggcisterna@gmail.com\n",
      "1      sanchogabriela@hotmail.com\n",
      "1          ecalamos@argentina.com\n",
      "4          conghos@hotmail.com.ar\n",
      "5     marianonicola1975@gmail.com\n",
      "                 ...             \n",
      "24          LSANTOS@ESURSA.COM.AR\n",
      "25     INFO@SILVEIRAEHIJOS.COM.AR\n",
      "26          ingecologia@gmail.com\n",
      "27    GABRIEL.TOMASELLI@GMAIL.COM\n",
      "28       josetome@sinectis.com.ar\n",
      "Length: 261, dtype: object\n"
     ]
    },
    {
     "name": "stderr",
     "output_type": "stream",
     "text": [
      "\n",
      " 31%|███▏      | 120/384 [23:41<2:14:51, 30.65s/it]\u001b[A"
     ]
    },
    {
     "name": "stdout",
     "output_type": "stream",
     "text": [
      "Ingeniero Electromecánico Done 1               ggcisterna@gmail.com\n",
      "1         sanchogabriela@hotmail.com\n",
      "1             ecalamos@argentina.com\n",
      "4             conghos@hotmail.com.ar\n",
      "5        marianonicola1975@gmail.com\n",
      "                   ...              \n",
      "15    osvaldo.simonini@ecotec.com.ar\n",
      "16           spadaforah@yahoo.com.ar\n",
      "17           spadaforah@yahoo.com.ar\n",
      "18               gvezin@arnet.com.ar\n",
      "19       ingevill@uolsinectis.com.ar\n",
      "Length: 279, dtype: object\n"
     ]
    },
    {
     "name": "stderr",
     "output_type": "stream",
     "text": [
      "\n",
      " 32%|███▏      | 121/384 [23:50<1:44:45, 23.90s/it]\u001b[A"
     ]
    },
    {
     "name": "stdout",
     "output_type": "stream",
     "text": [
      "INGENIERO ELECTROMECANICO CON OR. MECANICA Done 1               ggcisterna@gmail.com\n",
      "1         sanchogabriela@hotmail.com\n",
      "1             ecalamos@argentina.com\n",
      "4             conghos@hotmail.com.ar\n",
      "5        marianonicola1975@gmail.com\n",
      "                   ...              \n",
      "15    osvaldo.simonini@ecotec.com.ar\n",
      "16           spadaforah@yahoo.com.ar\n",
      "17           spadaforah@yahoo.com.ar\n",
      "18               gvezin@arnet.com.ar\n",
      "19       ingevill@uolsinectis.com.ar\n",
      "Length: 279, dtype: object\n"
     ]
    },
    {
     "name": "stderr",
     "output_type": "stream",
     "text": [
      "\n",
      " 32%|███▏      | 122/384 [23:57<1:22:26, 18.88s/it]\u001b[A"
     ]
    },
    {
     "name": "stdout",
     "output_type": "stream",
     "text": [
      "Ingeniero Electromecánico or Electricista Done 1            ggcisterna@gmail.com\n",
      "1      sanchogabriela@hotmail.com\n",
      "1          ecalamos@argentina.com\n",
      "4          conghos@hotmail.com.ar\n",
      "5     marianonicola1975@gmail.com\n",
      "                 ...             \n",
      "18            gvezin@arnet.com.ar\n",
      "19    ingevill@uolsinectis.com.ar\n",
      "1     antoniolara@fibertel.com.ar\n",
      "2         spadaforah@yahoo.com.ar\n",
      "3         spadaforah@yahoo.com.ar\n",
      "Length: 282, dtype: object\n"
     ]
    },
    {
     "name": "stderr",
     "output_type": "stream",
     "text": [
      "\n",
      " 32%|███▏      | 123/384 [24:04<1:07:14, 15.46s/it]\u001b[A"
     ]
    },
    {
     "name": "stdout",
     "output_type": "stream",
     "text": [
      "INGENIERO ELECTRONICO Done 1           ggcisterna@gmail.com\n",
      "1     sanchogabriela@hotmail.com\n",
      "1         ecalamos@argentina.com\n",
      "4         conghos@hotmail.com.ar\n",
      "5    marianonicola1975@gmail.com\n",
      "                ...             \n",
      "1    antoniolara@fibertel.com.ar\n",
      "2        spadaforah@yahoo.com.ar\n",
      "3        spadaforah@yahoo.com.ar\n",
      "1    estudiomalizia@yahoo.com.ar\n",
      "2                  @yahoo.com.ar\n",
      "Length: 284, dtype: object\n"
     ]
    },
    {
     "name": "stderr",
     "output_type": "stream",
     "text": [
      "\n",
      " 32%|███▏      | 124/384 [24:21<1:08:11, 15.74s/it]\u001b[A"
     ]
    },
    {
     "name": "stdout",
     "output_type": "stream",
     "text": [
      "Ingeniero Electrónico Done 1                         ggcisterna@gmail.com\n",
      "1                   sanchogabriela@hotmail.com\n",
      "1                       ecalamos@argentina.com\n",
      "4                       conghos@hotmail.com.ar\n",
      "5                  marianonicola1975@gmail.com\n",
      "                       ...                    \n",
      "2                                @yahoo.com.ar\n",
      "1                       ing_bentos@hotmail.com\n",
      "2    morcelo.jauregui@telefonicamoviles.com.ar\n",
      "3                lrkardos@groupintegral.com.ar\n",
      "4                     antoniomanolio@gmail.com\n",
      "Length: 288, dtype: object\n"
     ]
    },
    {
     "name": "stderr",
     "output_type": "stream",
     "text": [
      "\n",
      " 33%|███▎      | 125/384 [24:28<56:41, 13.13s/it]  \u001b[A"
     ]
    },
    {
     "name": "stdout",
     "output_type": "stream",
     "text": [
      "Ingeniero en Arsenales Done 1                         ggcisterna@gmail.com\n",
      "1                   sanchogabriela@hotmail.com\n",
      "1                       ecalamos@argentina.com\n",
      "4                       conghos@hotmail.com.ar\n",
      "5                  marianonicola1975@gmail.com\n",
      "                       ...                    \n",
      "2                                @yahoo.com.ar\n",
      "1                       ing_bentos@hotmail.com\n",
      "2    morcelo.jauregui@telefonicamoviles.com.ar\n",
      "3                lrkardos@groupintegral.com.ar\n",
      "4                     antoniomanolio@gmail.com\n",
      "Length: 288, dtype: object\n"
     ]
    },
    {
     "name": "stderr",
     "output_type": "stream",
     "text": [
      "\n",
      " 33%|███▎      | 126/384 [25:06<1:29:05, 20.72s/it]\u001b[A"
     ]
    },
    {
     "name": "stdout",
     "output_type": "stream",
     "text": [
      "Ingeniero en Construcciones Done 1             ggcisterna@gmail.com\n",
      "1       sanchogabriela@hotmail.com\n",
      "1           ecalamos@argentina.com\n",
      "4           conghos@hotmail.com.ar\n",
      "5      marianonicola1975@gmail.com\n",
      "                  ...             \n",
      "13    silviasenn63@coopenet.com.ar\n",
      "14        spiedoadrian@hotmail.com\n",
      "15          MARTINHTANCO@GMAIL.COM\n",
      "16        ECOLOGIA@CONTEMAN.COM.AR\n",
      "17          JUANZABALA@HOTMAIL.COM\n",
      "Length: 305, dtype: object\n"
     ]
    },
    {
     "name": "stderr",
     "output_type": "stream",
     "text": [
      "\n",
      " 33%|███▎      | 127/384 [25:19<1:18:17, 18.28s/it]\u001b[A"
     ]
    },
    {
     "name": "stdout",
     "output_type": "stream",
     "text": [
      "Ingeniero en Ecologia Done 1             ggcisterna@gmail.com\n",
      "1       sanchogabriela@hotmail.com\n",
      "1           ecalamos@argentina.com\n",
      "4           conghos@hotmail.com.ar\n",
      "5      marianonicola1975@gmail.com\n",
      "                 ...              \n",
      "4            ANAHIMLOPEZ@GMAIL.COM\n",
      "5      ingnataliamartnez@gmail.com\n",
      "6    FRANCOOSTILLITANO@HOTMAIL.COM\n",
      "7        estebanvojaccek@gmail.com\n",
      "8        daniela.zanello@gmail.com\n",
      "Length: 313, dtype: object\n"
     ]
    },
    {
     "name": "stderr",
     "output_type": "stream",
     "text": [
      "\n",
      " 33%|███▎      | 128/384 [25:27<1:04:48, 15.19s/it]\u001b[A"
     ]
    },
    {
     "name": "stdout",
     "output_type": "stream",
     "text": [
      "Ingeniero en Electrònica Done 1             ggcisterna@gmail.com\n",
      "1       sanchogabriela@hotmail.com\n",
      "1           ecalamos@argentina.com\n",
      "4           conghos@hotmail.com.ar\n",
      "5      marianonicola1975@gmail.com\n",
      "                 ...              \n",
      "4            ANAHIMLOPEZ@GMAIL.COM\n",
      "5      ingnataliamartnez@gmail.com\n",
      "6    FRANCOOSTILLITANO@HOTMAIL.COM\n",
      "7        estebanvojaccek@gmail.com\n",
      "8        daniela.zanello@gmail.com\n",
      "Length: 313, dtype: object\n"
     ]
    },
    {
     "name": "stderr",
     "output_type": "stream",
     "text": [
      "\n",
      " 34%|███▎      | 129/384 [25:34<54:36, 12.85s/it]  \u001b[A"
     ]
    },
    {
     "name": "stdout",
     "output_type": "stream",
     "text": [
      "Ingeniero en Geodesia Done 1             ggcisterna@gmail.com\n",
      "1       sanchogabriela@hotmail.com\n",
      "1           ecalamos@argentina.com\n",
      "4           conghos@hotmail.com.ar\n",
      "5      marianonicola1975@gmail.com\n",
      "                 ...              \n",
      "4            ANAHIMLOPEZ@GMAIL.COM\n",
      "5      ingnataliamartnez@gmail.com\n",
      "6    FRANCOOSTILLITANO@HOTMAIL.COM\n",
      "7        estebanvojaccek@gmail.com\n",
      "8        daniela.zanello@gmail.com\n",
      "Length: 313, dtype: object\n"
     ]
    },
    {
     "name": "stderr",
     "output_type": "stream",
     "text": [
      "\n",
      " 34%|███▍      | 130/384 [25:41<46:56, 11.09s/it]\u001b[A"
     ]
    },
    {
     "name": "stdout",
     "output_type": "stream",
     "text": [
      "INGENIERO EN GESTION DE SINIESTROS Y SEGURIDAD AMB Done 1             ggcisterna@gmail.com\n",
      "1       sanchogabriela@hotmail.com\n",
      "1           ecalamos@argentina.com\n",
      "4           conghos@hotmail.com.ar\n",
      "5      marianonicola1975@gmail.com\n",
      "                 ...              \n",
      "4            ANAHIMLOPEZ@GMAIL.COM\n",
      "5      ingnataliamartnez@gmail.com\n",
      "6    FRANCOOSTILLITANO@HOTMAIL.COM\n",
      "7        estebanvojaccek@gmail.com\n",
      "8        daniela.zanello@gmail.com\n",
      "Length: 313, dtype: object\n"
     ]
    },
    {
     "name": "stderr",
     "output_type": "stream",
     "text": [
      "\n",
      " 34%|███▍      | 131/384 [25:51<45:27, 10.78s/it]\u001b[A"
     ]
    },
    {
     "name": "stdout",
     "output_type": "stream",
     "text": [
      "Ingeniero en Higiene y Seguridad  en el Trabajo Done 1               ggcisterna@gmail.com\n",
      "1         sanchogabriela@hotmail.com\n",
      "1             ecalamos@argentina.com\n",
      "4             conghos@hotmail.com.ar\n",
      "5        marianonicola1975@gmail.com\n",
      "                  ...               \n",
      "3    mariagianninapastor@hotmail.com\n",
      "4               myjpuen@yahoo.com.ar\n",
      "5               myjpuen@yahoo.com.ar\n",
      "6                   quilpo@gmail.com\n",
      "7                   quilpo@gmail.com\n",
      "Length: 320, dtype: object\n"
     ]
    },
    {
     "name": "stderr",
     "output_type": "stream",
     "text": [
      "\n",
      " 34%|███▍      | 132/384 [25:58<40:25,  9.62s/it]\u001b[A"
     ]
    },
    {
     "name": "stdout",
     "output_type": "stream",
     "text": [
      "Ingeniero en Higiene y Seguridad en el Trabajo Done 1               ggcisterna@gmail.com\n",
      "1         sanchogabriela@hotmail.com\n",
      "1             ecalamos@argentina.com\n",
      "4             conghos@hotmail.com.ar\n",
      "5        marianonicola1975@gmail.com\n",
      "                  ...               \n",
      "3    mariagianninapastor@hotmail.com\n",
      "4               myjpuen@yahoo.com.ar\n",
      "5               myjpuen@yahoo.com.ar\n",
      "6                   quilpo@gmail.com\n",
      "7                   quilpo@gmail.com\n",
      "Length: 320, dtype: object\n"
     ]
    },
    {
     "name": "stderr",
     "output_type": "stream",
     "text": [
      "\n",
      " 35%|███▍      | 133/384 [26:05<36:40,  8.77s/it]\u001b[A"
     ]
    },
    {
     "name": "stdout",
     "output_type": "stream",
     "text": [
      "Ingeniero en Industrias de la Alimentacion Done 1               ggcisterna@gmail.com\n",
      "1         sanchogabriela@hotmail.com\n",
      "1             ecalamos@argentina.com\n",
      "4             conghos@hotmail.com.ar\n",
      "5        marianonicola1975@gmail.com\n",
      "                  ...               \n",
      "3    mariagianninapastor@hotmail.com\n",
      "4               myjpuen@yahoo.com.ar\n",
      "5               myjpuen@yahoo.com.ar\n",
      "6                   quilpo@gmail.com\n",
      "7                   quilpo@gmail.com\n",
      "Length: 320, dtype: object\n"
     ]
    },
    {
     "name": "stderr",
     "output_type": "stream",
     "text": [
      "\n",
      " 35%|███▍      | 134/384 [26:12<34:06,  8.19s/it]\u001b[A"
     ]
    },
    {
     "name": "stdout",
     "output_type": "stream",
     "text": [
      "Ingeniero en Materiales Done 1           ggcisterna@gmail.com\n",
      "1     sanchogabriela@hotmail.com\n",
      "1         ecalamos@argentina.com\n",
      "4         conghos@hotmail.com.ar\n",
      "5    marianonicola1975@gmail.com\n",
      "                ...             \n",
      "4           myjpuen@yahoo.com.ar\n",
      "5           myjpuen@yahoo.com.ar\n",
      "6               quilpo@gmail.com\n",
      "7               quilpo@gmail.com\n",
      "1         josefinacura@gmail.com\n",
      "Length: 321, dtype: object\n"
     ]
    },
    {
     "name": "stderr",
     "output_type": "stream",
     "text": [
      "\n",
      " 35%|███▌      | 135/384 [26:18<32:13,  7.77s/it]\u001b[A"
     ]
    },
    {
     "name": "stdout",
     "output_type": "stream",
     "text": [
      "Ingeniero en Organizaci{on de Empresas Done 1           ggcisterna@gmail.com\n",
      "1     sanchogabriela@hotmail.com\n",
      "1         ecalamos@argentina.com\n",
      "4         conghos@hotmail.com.ar\n",
      "5    marianonicola1975@gmail.com\n",
      "                ...             \n",
      "4           myjpuen@yahoo.com.ar\n",
      "5           myjpuen@yahoo.com.ar\n",
      "6               quilpo@gmail.com\n",
      "7               quilpo@gmail.com\n",
      "1         josefinacura@gmail.com\n",
      "Length: 321, dtype: object\n"
     ]
    },
    {
     "name": "stderr",
     "output_type": "stream",
     "text": [
      "\n",
      " 35%|███▌      | 136/384 [26:27<32:37,  7.89s/it]\u001b[A"
     ]
    },
    {
     "name": "stdout",
     "output_type": "stream",
     "text": [
      "Ingeniero en Organizacion de Empresas Done 1           ggcisterna@gmail.com\n",
      "1     sanchogabriela@hotmail.com\n",
      "1         ecalamos@argentina.com\n",
      "4         conghos@hotmail.com.ar\n",
      "5    marianonicola1975@gmail.com\n",
      "                ...             \n",
      "4           myjpuen@yahoo.com.ar\n",
      "5           myjpuen@yahoo.com.ar\n",
      "6               quilpo@gmail.com\n",
      "7               quilpo@gmail.com\n",
      "1         josefinacura@gmail.com\n",
      "Length: 321, dtype: object\n"
     ]
    },
    {
     "name": "stderr",
     "output_type": "stream",
     "text": [
      "\n",
      " 36%|███▌      | 137/384 [26:33<30:50,  7.49s/it]\u001b[A"
     ]
    },
    {
     "name": "stdout",
     "output_type": "stream",
     "text": [
      "INGENIERO EN PRODUCCION AGROPECUARIA Done 1           ggcisterna@gmail.com\n",
      "1     sanchogabriela@hotmail.com\n",
      "1         ecalamos@argentina.com\n",
      "4         conghos@hotmail.com.ar\n",
      "5    marianonicola1975@gmail.com\n",
      "                ...             \n",
      "4           myjpuen@yahoo.com.ar\n",
      "5           myjpuen@yahoo.com.ar\n",
      "6               quilpo@gmail.com\n",
      "7               quilpo@gmail.com\n",
      "1         josefinacura@gmail.com\n",
      "Length: 321, dtype: object\n"
     ]
    },
    {
     "name": "stderr",
     "output_type": "stream",
     "text": [
      "\n",
      " 36%|███▌      | 138/384 [26:41<30:56,  7.55s/it]\u001b[A"
     ]
    },
    {
     "name": "stdout",
     "output_type": "stream",
     "text": [
      "Ingeniero en Recursos Hidricos Done 1           ggcisterna@gmail.com\n",
      "1     sanchogabriela@hotmail.com\n",
      "1         ecalamos@argentina.com\n",
      "4         conghos@hotmail.com.ar\n",
      "5    marianonicola1975@gmail.com\n",
      "                ...             \n",
      "5           myjpuen@yahoo.com.ar\n",
      "6               quilpo@gmail.com\n",
      "7               quilpo@gmail.com\n",
      "1         josefinacura@gmail.com\n",
      "1     ingenieros@fibertel.com.ar\n",
      "Length: 322, dtype: object\n"
     ]
    },
    {
     "name": "stderr",
     "output_type": "stream",
     "text": [
      "\n",
      " 36%|███▌      | 139/384 [26:50<32:44,  8.02s/it]\u001b[A"
     ]
    },
    {
     "name": "stdout",
     "output_type": "stream",
     "text": [
      "Ingeniero en Recursos Naturales y Medio  Ambiente Done 1           ggcisterna@gmail.com\n",
      "1     sanchogabriela@hotmail.com\n",
      "1         ecalamos@argentina.com\n",
      "4         conghos@hotmail.com.ar\n",
      "5    marianonicola1975@gmail.com\n",
      "                ...             \n",
      "5           myjpuen@yahoo.com.ar\n",
      "6               quilpo@gmail.com\n",
      "7               quilpo@gmail.com\n",
      "1         josefinacura@gmail.com\n",
      "1     ingenieros@fibertel.com.ar\n",
      "Length: 322, dtype: object\n"
     ]
    },
    {
     "name": "stderr",
     "output_type": "stream",
     "text": [
      "\n",
      " 36%|███▋      | 140/384 [27:29<1:10:58, 17.45s/it]\u001b[A"
     ]
    },
    {
     "name": "stdout",
     "output_type": "stream",
     "text": [
      "Ingeniero en Seguridad Ambiental Done 1            ggcisterna@gmail.com\n",
      "1      sanchogabriela@hotmail.com\n",
      "1          ecalamos@argentina.com\n",
      "4          conghos@hotmail.com.ar\n",
      "5     marianonicola1975@gmail.com\n",
      "                 ...             \n",
      "39          ingasuar@yahoo.com.ar\n",
      "40    TABOADA.GUILLERMO@GMAIL.COM\n",
      "41         jorge-vera@hotmail.com\n",
      "42         ingevilar@yahoo.com.ar\n",
      "43            OZARLENGA@GMAIL.COM\n",
      "Length: 362, dtype: object\n"
     ]
    },
    {
     "name": "stderr",
     "output_type": "stream",
     "text": [
      "\n",
      " 37%|███▋      | 141/384 [29:26<3:10:45, 47.10s/it]\u001b[A"
     ]
    },
    {
     "name": "stdout",
     "output_type": "stream",
     "text": [
      "Ingeniero en Seguridad e Higiene Done 1            ggcisterna@gmail.com\n",
      "1      sanchogabriela@hotmail.com\n",
      "1          ecalamos@argentina.com\n",
      "4          conghos@hotmail.com.ar\n",
      "5     marianonicola1975@gmail.com\n",
      "                 ...             \n",
      "39          ingasuar@yahoo.com.ar\n",
      "40    TABOADA.GUILLERMO@GMAIL.COM\n",
      "41         jorge-vera@hotmail.com\n",
      "42         ingevilar@yahoo.com.ar\n",
      "43            OZARLENGA@GMAIL.COM\n",
      "Length: 362, dtype: object\n"
     ]
    },
    {
     "name": "stderr",
     "output_type": "stream",
     "text": [
      "\n",
      " 37%|███▋      | 142/384 [29:36<2:26:01, 36.20s/it]\u001b[A"
     ]
    },
    {
     "name": "stdout",
     "output_type": "stream",
     "text": [
      "Ingeniero en Seguridad e Higiene en el Trabajo  Done 1                ggcisterna@gmail.com\n",
      "1          sanchogabriela@hotmail.com\n",
      "1              ecalamos@argentina.com\n",
      "4              conghos@hotmail.com.ar\n",
      "5         marianonicola1975@gmail.com\n",
      "                   ...               \n",
      "42             ingevilar@yahoo.com.ar\n",
      "43                OZARLENGA@GMAIL.COM\n",
      "1     hernandelavegarojas@hotmail.com\n",
      "2           mariahesayne@yahoo.com.ar\n",
      "3            antoniomanolio@gmail.com\n",
      "Length: 365, dtype: object\n"
     ]
    },
    {
     "name": "stderr",
     "output_type": "stream",
     "text": [
      "\n",
      " 37%|███▋      | 143/384 [29:43<1:49:54, 27.36s/it]\u001b[A"
     ]
    },
    {
     "name": "stdout",
     "output_type": "stream",
     "text": [
      "ingeniero en sistemas de informacion Done 1                ggcisterna@gmail.com\n",
      "1          sanchogabriela@hotmail.com\n",
      "1              ecalamos@argentina.com\n",
      "4              conghos@hotmail.com.ar\n",
      "5         marianonicola1975@gmail.com\n",
      "                   ...               \n",
      "42             ingevilar@yahoo.com.ar\n",
      "43                OZARLENGA@GMAIL.COM\n",
      "1     hernandelavegarojas@hotmail.com\n",
      "2           mariahesayne@yahoo.com.ar\n",
      "3            antoniomanolio@gmail.com\n",
      "Length: 365, dtype: object\n"
     ]
    },
    {
     "name": "stderr",
     "output_type": "stream",
     "text": [
      "\n",
      " 38%|███▊      | 144/384 [29:52<1:27:27, 21.86s/it]\u001b[A"
     ]
    },
    {
     "name": "stdout",
     "output_type": "stream",
     "text": [
      "Ingeniero en Telecomunicaciones Done 1                ggcisterna@gmail.com\n",
      "1          sanchogabriela@hotmail.com\n",
      "1              ecalamos@argentina.com\n",
      "4              conghos@hotmail.com.ar\n",
      "5         marianonicola1975@gmail.com\n",
      "                   ...               \n",
      "43                OZARLENGA@GMAIL.COM\n",
      "1     hernandelavegarojas@hotmail.com\n",
      "2           mariahesayne@yahoo.com.ar\n",
      "3            antoniomanolio@gmail.com\n",
      "1              mstaiano@speedy.com.ar\n",
      "Length: 366, dtype: object\n"
     ]
    },
    {
     "name": "stderr",
     "output_type": "stream",
     "text": [
      "\n",
      " 38%|███▊      | 145/384 [30:00<1:10:28, 17.69s/it]\u001b[A"
     ]
    },
    {
     "name": "stdout",
     "output_type": "stream",
     "text": [
      "Ingeniero en vias de comunicacion Done 1                ggcisterna@gmail.com\n",
      "1          sanchogabriela@hotmail.com\n",
      "1              ecalamos@argentina.com\n",
      "4              conghos@hotmail.com.ar\n",
      "5         marianonicola1975@gmail.com\n",
      "                   ...               \n",
      "43                OZARLENGA@GMAIL.COM\n",
      "1     hernandelavegarojas@hotmail.com\n",
      "2           mariahesayne@yahoo.com.ar\n",
      "3            antoniomanolio@gmail.com\n",
      "1              mstaiano@speedy.com.ar\n",
      "Length: 366, dtype: object\n"
     ]
    },
    {
     "name": "stderr",
     "output_type": "stream",
     "text": [
      "\n",
      " 38%|███▊      | 146/384 [30:07<57:20, 14.45s/it]  \u001b[A"
     ]
    },
    {
     "name": "stdout",
     "output_type": "stream",
     "text": [
      "Ingeniero Especialista en Higiene y Seguridad en e Done 1                ggcisterna@gmail.com\n",
      "1          sanchogabriela@hotmail.com\n",
      "1              ecalamos@argentina.com\n",
      "4              conghos@hotmail.com.ar\n",
      "5         marianonicola1975@gmail.com\n",
      "                   ...               \n",
      "43                OZARLENGA@GMAIL.COM\n",
      "1     hernandelavegarojas@hotmail.com\n",
      "2           mariahesayne@yahoo.com.ar\n",
      "3            antoniomanolio@gmail.com\n",
      "1              mstaiano@speedy.com.ar\n",
      "Length: 366, dtype: object\n"
     ]
    },
    {
     "name": "stderr",
     "output_type": "stream",
     "text": [
      "\n",
      " 38%|███▊      | 147/384 [30:13<47:27, 12.01s/it]\u001b[A"
     ]
    },
    {
     "name": "stdout",
     "output_type": "stream",
     "text": [
      "INGENIERO ESPECIALISTA EN PROTECCIÓN AMBIENTAL Done 1                ggcisterna@gmail.com\n",
      "1          sanchogabriela@hotmail.com\n",
      "1              ecalamos@argentina.com\n",
      "4              conghos@hotmail.com.ar\n",
      "5         marianonicola1975@gmail.com\n",
      "                   ...               \n",
      "43                OZARLENGA@GMAIL.COM\n",
      "1     hernandelavegarojas@hotmail.com\n",
      "2           mariahesayne@yahoo.com.ar\n",
      "3            antoniomanolio@gmail.com\n",
      "1              mstaiano@speedy.com.ar\n",
      "Length: 366, dtype: object\n"
     ]
    },
    {
     "name": "stderr",
     "output_type": "stream",
     "text": [
      "\n",
      " 39%|███▊      | 148/384 [30:23<44:41, 11.36s/it]\u001b[A"
     ]
    },
    {
     "name": "stdout",
     "output_type": "stream",
     "text": [
      "Ingeniero Forestal Done 1           ggcisterna@gmail.com\n",
      "1     sanchogabriela@hotmail.com\n",
      "1         ecalamos@argentina.com\n",
      "4         conghos@hotmail.com.ar\n",
      "5    marianonicola1975@gmail.com\n",
      "                ...             \n",
      "2      mariahesayne@yahoo.com.ar\n",
      "3       antoniomanolio@gmail.com\n",
      "1         mstaiano@speedy.com.ar\n",
      "1             anayan@live.com.ar\n",
      "2    infosco@araucoargentina.com\n",
      "Length: 368, dtype: object\n"
     ]
    },
    {
     "name": "stderr",
     "output_type": "stream",
     "text": [
      "\n",
      " 39%|███▉      | 149/384 [30:30<39:18, 10.04s/it]\u001b[A"
     ]
    },
    {
     "name": "stdout",
     "output_type": "stream",
     "text": [
      "Ingeniero Geógrafo Done 1           ggcisterna@gmail.com\n",
      "1     sanchogabriela@hotmail.com\n",
      "1         ecalamos@argentina.com\n",
      "4         conghos@hotmail.com.ar\n",
      "5    marianonicola1975@gmail.com\n",
      "                ...             \n",
      "2      mariahesayne@yahoo.com.ar\n",
      "3       antoniomanolio@gmail.com\n",
      "1         mstaiano@speedy.com.ar\n",
      "1             anayan@live.com.ar\n",
      "2    infosco@araucoargentina.com\n",
      "Length: 368, dtype: object\n"
     ]
    },
    {
     "name": "stderr",
     "output_type": "stream",
     "text": [
      "\n",
      " 39%|███▉      | 150/384 [30:51<52:14, 13.40s/it]\u001b[A"
     ]
    },
    {
     "name": "stdout",
     "output_type": "stream",
     "text": [
      "Ingeniero Hidráulico Done 1           ggcisterna@gmail.com\n",
      "1     sanchogabriela@hotmail.com\n",
      "1         ecalamos@argentina.com\n",
      "4         conghos@hotmail.com.ar\n",
      "5    marianonicola1975@gmail.com\n",
      "                ...             \n",
      "2      mariahesayne@yahoo.com.ar\n",
      "3       antoniomanolio@gmail.com\n",
      "1         mstaiano@speedy.com.ar\n",
      "1             anayan@live.com.ar\n",
      "2    infosco@araucoargentina.com\n",
      "Length: 368, dtype: object\n"
     ]
    },
    {
     "name": "stderr",
     "output_type": "stream",
     "text": [
      "\n",
      " 39%|███▉      | 151/384 [31:07<54:18, 13.98s/it]\u001b[A"
     ]
    },
    {
     "name": "stdout",
     "output_type": "stream",
     "text": [
      "Ingeniero Industrail Done 1           ggcisterna@gmail.com\n",
      "1     sanchogabriela@hotmail.com\n",
      "1         ecalamos@argentina.com\n",
      "4         conghos@hotmail.com.ar\n",
      "5    marianonicola1975@gmail.com\n",
      "                ...             \n",
      "1             anayan@live.com.ar\n",
      "2    infosco@araucoargentina.com\n",
      "1           edelaplaza@gmail.com\n",
      "2       esgomez55@hotmail.com.ar\n",
      "3            mszejer@hotmail.com\n",
      "Length: 371, dtype: object\n"
     ]
    },
    {
     "name": "stderr",
     "output_type": "stream",
     "text": [
      "\n",
      " 40%|███▉      | 152/384 [32:39<2:25:00, 37.50s/it]\u001b[A"
     ]
    },
    {
     "name": "stdout",
     "output_type": "stream",
     "text": [
      "Ingeniero Industrial Done 1            ggcisterna@gmail.com\n",
      "1      sanchogabriela@hotmail.com\n",
      "1          ecalamos@argentina.com\n",
      "4          conghos@hotmail.com.ar\n",
      "5     marianonicola1975@gmail.com\n",
      "                 ...             \n",
      "47         mariovalmala@yahoo.com\n",
      "48         mariovalmala@yahoo.com\n",
      "49          velcicms@yahoo.com.ar\n",
      "50           jjzaga@speedy.com.ar\n",
      "51      info@mzconsultores.com.ar\n",
      "Length: 420, dtype: object\n"
     ]
    },
    {
     "name": "stderr",
     "output_type": "stream",
     "text": [
      "\n",
      " 40%|███▉      | 153/384 [33:43<2:55:17, 45.53s/it]\u001b[A"
     ]
    },
    {
     "name": "stdout",
     "output_type": "stream",
     "text": [
      "Ingeniero Laboral Done 1            ggcisterna@gmail.com\n",
      "1      sanchogabriela@hotmail.com\n",
      "1          ecalamos@argentina.com\n",
      "4          conghos@hotmail.com.ar\n",
      "5     marianonicola1975@gmail.com\n",
      "                 ...             \n",
      "47         mariovalmala@yahoo.com\n",
      "48         mariovalmala@yahoo.com\n",
      "49          velcicms@yahoo.com.ar\n",
      "50           jjzaga@speedy.com.ar\n",
      "51      info@mzconsultores.com.ar\n",
      "Length: 420, dtype: object\n"
     ]
    },
    {
     "name": "stderr",
     "output_type": "stream",
     "text": [
      "\n",
      " 40%|████      | 154/384 [33:52<2:11:48, 34.39s/it]\u001b[A"
     ]
    },
    {
     "name": "stdout",
     "output_type": "stream",
     "text": [
      "Ingeniero Laboral  Done 1                ggcisterna@gmail.com\n",
      "1          sanchogabriela@hotmail.com\n",
      "1              ecalamos@argentina.com\n",
      "4              conghos@hotmail.com.ar\n",
      "5         marianonicola1975@gmail.com\n",
      "                   ...               \n",
      "51          info@mzconsultores.com.ar\n",
      "1             alellanos1@yahoo.com.ar\n",
      "2       ingsebastianlopez@hotmail.com\n",
      "3     alfaconsultores_sa@yahoo.com.ar\n",
      "4     alfaconsultores_sa@yahoo.com.ar\n",
      "Length: 424, dtype: object\n"
     ]
    },
    {
     "name": "stderr",
     "output_type": "stream",
     "text": [
      "\n",
      " 40%|████      | 155/384 [34:05<1:47:15, 28.10s/it]\u001b[A"
     ]
    },
    {
     "name": "stdout",
     "output_type": "stream",
     "text": [
      "Ingeniero Mecanico Done 1            ggcisterna@gmail.com\n",
      "1      sanchogabriela@hotmail.com\n",
      "1          ecalamos@argentina.com\n",
      "4          conghos@hotmail.com.ar\n",
      "5     marianonicola1975@gmail.com\n",
      "                 ...             \n",
      "5           betoluisr@hotmail.com\n",
      "6          diego_m327@hotmail.com\n",
      "7    horaciopereira1@yahoo.com.ar\n",
      "8         agustinpua@yahoo.com.ar\n",
      "9            cjevera@yahoo.com.ar\n",
      "Length: 433, dtype: object\n"
     ]
    },
    {
     "name": "stderr",
     "output_type": "stream",
     "text": [
      "\n",
      " 41%|████      | 156/384 [35:09<2:28:03, 38.96s/it]\u001b[A"
     ]
    },
    {
     "name": "stdout",
     "output_type": "stream",
     "text": [
      "Ingeniero Mecánico Done 1            ggcisterna@gmail.com\n",
      "1      sanchogabriela@hotmail.com\n",
      "1          ecalamos@argentina.com\n",
      "4          conghos@hotmail.com.ar\n",
      "5     marianonicola1975@gmail.com\n",
      "                 ...             \n",
      "5           betoluisr@hotmail.com\n",
      "6          diego_m327@hotmail.com\n",
      "7    horaciopereira1@yahoo.com.ar\n",
      "8         agustinpua@yahoo.com.ar\n",
      "9            cjevera@yahoo.com.ar\n",
      "Length: 433, dtype: object\n"
     ]
    },
    {
     "name": "stderr",
     "output_type": "stream",
     "text": [
      "\n",
      " 41%|████      | 157/384 [35:21<1:56:45, 30.86s/it]\u001b[A"
     ]
    },
    {
     "name": "stdout",
     "output_type": "stream",
     "text": [
      "Ingeniero Mecánico  Done 1             ggcisterna@gmail.com\n",
      "1       sanchogabriela@hotmail.com\n",
      "1           ecalamos@argentina.com\n",
      "4           conghos@hotmail.com.ar\n",
      "5      marianonicola1975@gmail.com\n",
      "                 ...              \n",
      "2    jorgeadamburruchaga@gmail.com\n",
      "3     bceccarelli@igestudio.com.ar\n",
      "4      jemantovani@fibertel.com.ar\n",
      "5      jemantovani@fibertel.com.ar\n",
      "6        sergiomrollanQhotmail.com\n",
      "Length: 439, dtype: object\n"
     ]
    },
    {
     "name": "stderr",
     "output_type": "stream",
     "text": [
      "\n",
      " 41%|████      | 158/384 [35:36<1:38:03, 26.03s/it]\u001b[A"
     ]
    },
    {
     "name": "stdout",
     "output_type": "stream",
     "text": [
      "Ingeniero Metalúrgico Done 1            ggcisterna@gmail.com\n",
      "1      sanchogabriela@hotmail.com\n",
      "1          ecalamos@argentina.com\n",
      "4          conghos@hotmail.com.ar\n",
      "5     marianonicola1975@gmail.com\n",
      "                 ...             \n",
      "3                pdgaya@gmail.com\n",
      "4            KILTEC@SPEEDY.COM.AR\n",
      "5         closi@consultas1.com.ar\n",
      "6         closi@consultas1.com.ar\n",
      "8    parrella_marcos@yahoo.com.ar\n",
      "Length: 446, dtype: object\n"
     ]
    },
    {
     "name": "stderr",
     "output_type": "stream",
     "text": [
      "\n",
      " 41%|████▏     | 159/384 [35:43<1:16:29, 20.40s/it]\u001b[A"
     ]
    },
    {
     "name": "stdout",
     "output_type": "stream",
     "text": [
      "INGENIERO MILITAR Done 1            ggcisterna@gmail.com\n",
      "1      sanchogabriela@hotmail.com\n",
      "1          ecalamos@argentina.com\n",
      "4          conghos@hotmail.com.ar\n",
      "5     marianonicola1975@gmail.com\n",
      "                 ...             \n",
      "5         closi@consultas1.com.ar\n",
      "6         closi@consultas1.com.ar\n",
      "8    parrella_marcos@yahoo.com.ar\n",
      "1             jhbustamante.com.ar\n",
      "2             jhbustamante.com.ar\n",
      "Length: 448, dtype: object\n"
     ]
    },
    {
     "name": "stderr",
     "output_type": "stream",
     "text": [
      "\n",
      " 42%|████▏     | 160/384 [36:48<2:05:20, 33.58s/it]\u001b[A"
     ]
    },
    {
     "name": "stdout",
     "output_type": "stream",
     "text": [
      "Ingeniero Químico Done 1            ggcisterna@gmail.com\n",
      "1      sanchogabriela@hotmail.com\n",
      "1          ecalamos@argentina.com\n",
      "4          conghos@hotmail.com.ar\n",
      "5     marianonicola1975@gmail.com\n",
      "                 ...             \n",
      "5         closi@consultas1.com.ar\n",
      "6         closi@consultas1.com.ar\n",
      "8    parrella_marcos@yahoo.com.ar\n",
      "1             jhbustamante.com.ar\n",
      "2             jhbustamante.com.ar\n",
      "Length: 448, dtype: object\n"
     ]
    },
    {
     "name": "stderr",
     "output_type": "stream",
     "text": [
      "\n",
      " 42%|████▏     | 161/384 [37:09<1:51:19, 29.95s/it]\u001b[A"
     ]
    },
    {
     "name": "stdout",
     "output_type": "stream",
     "text": [
      "Ingeniero Sanitario Done 1                    ggcisterna@gmail.com\n",
      "1              sanchogabriela@hotmail.com\n",
      "1                  ecalamos@argentina.com\n",
      "4                  conghos@hotmail.com.ar\n",
      "5             marianonicola1975@gmail.com\n",
      "                     ...                 \n",
      "3               cmatrone@iplanmail.com.ar\n",
      "4          guillermo_mendola@yahoo.com.ar\n",
      "5                  correo@ecoverde.com.ar\n",
      "6    consulta.tecnica.ofi@fibertel.com.ar\n",
      "7                ricardo.roizen@gmail.com\n",
      "Length: 455, dtype: object\n"
     ]
    },
    {
     "name": "stderr",
     "output_type": "stream",
     "text": [
      "\n",
      " 42%|████▏     | 162/384 [37:17<1:25:44, 23.17s/it]\u001b[A"
     ]
    },
    {
     "name": "stdout",
     "output_type": "stream",
     "text": [
      "Ingeniero Textil Done 1                    ggcisterna@gmail.com\n",
      "1              sanchogabriela@hotmail.com\n",
      "1                  ecalamos@argentina.com\n",
      "4                  conghos@hotmail.com.ar\n",
      "5             marianonicola1975@gmail.com\n",
      "                     ...                 \n",
      "3               cmatrone@iplanmail.com.ar\n",
      "4          guillermo_mendola@yahoo.com.ar\n",
      "5                  correo@ecoverde.com.ar\n",
      "6    consulta.tecnica.ofi@fibertel.com.ar\n",
      "7                ricardo.roizen@gmail.com\n",
      "Length: 455, dtype: object\n"
     ]
    },
    {
     "name": "stderr",
     "output_type": "stream",
     "text": [
      "\n",
      " 42%|████▏     | 163/384 [37:24<1:07:47, 18.40s/it]\u001b[A"
     ]
    },
    {
     "name": "stdout",
     "output_type": "stream",
     "text": [
      "Ingeniero Zootecnista Done 1                    ggcisterna@gmail.com\n",
      "1              sanchogabriela@hotmail.com\n",
      "1                  ecalamos@argentina.com\n",
      "4                  conghos@hotmail.com.ar\n",
      "5             marianonicola1975@gmail.com\n",
      "                     ...                 \n",
      "4          guillermo_mendola@yahoo.com.ar\n",
      "5                  correo@ecoverde.com.ar\n",
      "6    consulta.tecnica.ofi@fibertel.com.ar\n",
      "7                ricardo.roizen@gmail.com\n",
      "1                  kvazquez@desler-sa.com\n",
      "Length: 456, dtype: object\n"
     ]
    },
    {
     "name": "stderr",
     "output_type": "stream",
     "text": [
      "\n",
      " 43%|████▎     | 164/384 [37:31<54:41, 14.92s/it]  \u001b[A"
     ]
    },
    {
     "name": "stdout",
     "output_type": "stream",
     "text": [
      "INGENIRO NAVAL Y MECANICO Done 1                    ggcisterna@gmail.com\n",
      "1              sanchogabriela@hotmail.com\n",
      "1                  ecalamos@argentina.com\n",
      "4                  conghos@hotmail.com.ar\n",
      "5             marianonicola1975@gmail.com\n",
      "                     ...                 \n",
      "4          guillermo_mendola@yahoo.com.ar\n",
      "5                  correo@ecoverde.com.ar\n",
      "6    consulta.tecnica.ofi@fibertel.com.ar\n",
      "7                ricardo.roizen@gmail.com\n",
      "1                  kvazquez@desler-sa.com\n",
      "Length: 456, dtype: object\n"
     ]
    },
    {
     "name": "stderr",
     "output_type": "stream",
     "text": [
      "\n",
      " 43%|████▎     | 165/384 [37:39<47:37, 13.05s/it]\u001b[A"
     ]
    },
    {
     "name": "stdout",
     "output_type": "stream",
     "text": [
      "LIC EN BIOLOGIA OR. ECOLOGIA Done 1                    ggcisterna@gmail.com\n",
      "1              sanchogabriela@hotmail.com\n",
      "1                  ecalamos@argentina.com\n",
      "4                  conghos@hotmail.com.ar\n",
      "5             marianonicola1975@gmail.com\n",
      "                     ...                 \n",
      "6    consulta.tecnica.ofi@fibertel.com.ar\n",
      "7                ricardo.roizen@gmail.com\n",
      "1                  kvazquez@desler-sa.com\n",
      "1              jeremiasppuentes@gmail.com\n",
      "2               nestestoni@cadiasa.com.ar\n",
      "Length: 458, dtype: object\n"
     ]
    },
    {
     "name": "stderr",
     "output_type": "stream",
     "text": [
      "\n",
      " 43%|████▎     | 166/384 [37:46<40:25, 11.13s/it]\u001b[A"
     ]
    },
    {
     "name": "stdout",
     "output_type": "stream",
     "text": [
      "Lic en Hig y Seg en el Trab, Esp en Protecc Ambtal Done 1                    ggcisterna@gmail.com\n",
      "1              sanchogabriela@hotmail.com\n",
      "1                  ecalamos@argentina.com\n",
      "4                  conghos@hotmail.com.ar\n",
      "5             marianonicola1975@gmail.com\n",
      "                     ...                 \n",
      "6    consulta.tecnica.ofi@fibertel.com.ar\n",
      "7                ricardo.roizen@gmail.com\n",
      "1                  kvazquez@desler-sa.com\n",
      "1              jeremiasppuentes@gmail.com\n",
      "2               nestestoni@cadiasa.com.ar\n",
      "Length: 458, dtype: object\n"
     ]
    },
    {
     "name": "stderr",
     "output_type": "stream",
     "text": [
      "\n",
      " 43%|████▎     | 167/384 [37:52<35:10,  9.73s/it]\u001b[A"
     ]
    },
    {
     "name": "stdout",
     "output_type": "stream",
     "text": [
      "Lic. Ciencias de la Educacion Done 1                    ggcisterna@gmail.com\n",
      "1              sanchogabriela@hotmail.com\n",
      "1                  ecalamos@argentina.com\n",
      "4                  conghos@hotmail.com.ar\n",
      "5             marianonicola1975@gmail.com\n",
      "                     ...                 \n",
      "6    consulta.tecnica.ofi@fibertel.com.ar\n",
      "7                ricardo.roizen@gmail.com\n",
      "1                  kvazquez@desler-sa.com\n",
      "1              jeremiasppuentes@gmail.com\n",
      "2               nestestoni@cadiasa.com.ar\n",
      "Length: 458, dtype: object\n"
     ]
    },
    {
     "name": "stderr",
     "output_type": "stream",
     "text": [
      "\n",
      " 44%|████▍     | 168/384 [38:00<32:47,  9.11s/it]\u001b[A"
     ]
    },
    {
     "name": "stdout",
     "output_type": "stream",
     "text": [
      "Lic. en Aprovechamiento de Recur. Nat. Renovables Done 1                    ggcisterna@gmail.com\n",
      "1              sanchogabriela@hotmail.com\n",
      "1                  ecalamos@argentina.com\n",
      "4                  conghos@hotmail.com.ar\n",
      "5             marianonicola1975@gmail.com\n",
      "                     ...                 \n",
      "6    consulta.tecnica.ofi@fibertel.com.ar\n",
      "7                ricardo.roizen@gmail.com\n",
      "1                  kvazquez@desler-sa.com\n",
      "1              jeremiasppuentes@gmail.com\n",
      "2               nestestoni@cadiasa.com.ar\n",
      "Length: 458, dtype: object\n"
     ]
    },
    {
     "name": "stderr",
     "output_type": "stream",
     "text": [
      "\n",
      " 44%|████▍     | 169/384 [38:11<34:31,  9.64s/it]\u001b[A"
     ]
    },
    {
     "name": "stdout",
     "output_type": "stream",
     "text": [
      "LIC. en BIOLOGIA con orientacion en  ZOOLOGIA Done 1           ggcisterna@gmail.com\n",
      "1     sanchogabriela@hotmail.com\n",
      "1         ecalamos@argentina.com\n",
      "4         conghos@hotmail.com.ar\n",
      "5    marianonicola1975@gmail.com\n",
      "                ...             \n",
      "1     jeremiasppuentes@gmail.com\n",
      "2      nestestoni@cadiasa.com.ar\n",
      "1     de-carolis@sinectis.com.ar\n",
      "2        YAMILARAHAL@HOTMAIL.COM\n",
      "3       rominavalente2@gmail.com\n",
      "Length: 461, dtype: object\n"
     ]
    },
    {
     "name": "stderr",
     "output_type": "stream",
     "text": [
      "\n",
      " 44%|████▍     | 170/384 [38:18<31:10,  8.74s/it]\u001b[A"
     ]
    },
    {
     "name": "stdout",
     "output_type": "stream",
     "text": [
      "LIC. EN BIOQUIMICA Done 1           ggcisterna@gmail.com\n",
      "1     sanchogabriela@hotmail.com\n",
      "1         ecalamos@argentina.com\n",
      "4         conghos@hotmail.com.ar\n",
      "5    marianonicola1975@gmail.com\n",
      "                ...             \n",
      "1     jeremiasppuentes@gmail.com\n",
      "2      nestestoni@cadiasa.com.ar\n",
      "1     de-carolis@sinectis.com.ar\n",
      "2        YAMILARAHAL@HOTMAIL.COM\n",
      "3       rominavalente2@gmail.com\n",
      "Length: 461, dtype: object\n"
     ]
    },
    {
     "name": "stderr",
     "output_type": "stream",
     "text": [
      "\n",
      " 45%|████▍     | 171/384 [38:24<28:36,  8.06s/it]\u001b[A"
     ]
    },
    {
     "name": "stdout",
     "output_type": "stream",
     "text": [
      "LIC. EN C. ANTROPOLOGICAS C. OR. ARQUEOLOGICA Done 1           ggcisterna@gmail.com\n",
      "1     sanchogabriela@hotmail.com\n",
      "1         ecalamos@argentina.com\n",
      "4         conghos@hotmail.com.ar\n",
      "5    marianonicola1975@gmail.com\n",
      "                ...             \n",
      "1     jeremiasppuentes@gmail.com\n",
      "2      nestestoni@cadiasa.com.ar\n",
      "1     de-carolis@sinectis.com.ar\n",
      "2        YAMILARAHAL@HOTMAIL.COM\n",
      "3       rominavalente2@gmail.com\n",
      "Length: 461, dtype: object\n"
     ]
    },
    {
     "name": "stderr",
     "output_type": "stream",
     "text": [
      "\n",
      " 45%|████▍     | 172/384 [38:38<34:09,  9.67s/it]\u001b[A"
     ]
    },
    {
     "name": "stdout",
     "output_type": "stream",
     "text": [
      "LIC. EN CIENCIAS AMBIENTALES Done 1           ggcisterna@gmail.com\n",
      "1     sanchogabriela@hotmail.com\n",
      "1         ecalamos@argentina.com\n",
      "4         conghos@hotmail.com.ar\n",
      "5    marianonicola1975@gmail.com\n",
      "                ...             \n",
      "2       marianelagiffi@gmail.com\n",
      "3          amartinez@agro.uba.ar\n",
      "4        ignacionmurga@gmail.com\n",
      "5    ORTELLADOMACARENA@GMAIL.COM\n",
      "6     picassojuanpablo@gmail.com\n",
      "Length: 467, dtype: object\n"
     ]
    },
    {
     "name": "stderr",
     "output_type": "stream",
     "text": [
      "\n",
      " 45%|████▌     | 173/384 [38:45<31:33,  8.97s/it]\u001b[A"
     ]
    },
    {
     "name": "stdout",
     "output_type": "stream",
     "text": [
      "LIC. EN CIENCIAS BIOLOGICAS Done 1           ggcisterna@gmail.com\n",
      "1     sanchogabriela@hotmail.com\n",
      "1         ecalamos@argentina.com\n",
      "4         conghos@hotmail.com.ar\n",
      "5    marianonicola1975@gmail.com\n",
      "                ...             \n",
      "3          amartinez@agro.uba.ar\n",
      "4        ignacionmurga@gmail.com\n",
      "5    ORTELLADOMACARENA@GMAIL.COM\n",
      "6     picassojuanpablo@gmail.com\n",
      "1          izzosilvina@gmail.com\n",
      "Length: 468, dtype: object\n"
     ]
    },
    {
     "name": "stderr",
     "output_type": "stream",
     "text": [
      "\n",
      " 45%|████▌     | 174/384 [38:54<31:01,  8.86s/it]\u001b[A"
     ]
    },
    {
     "name": "stdout",
     "output_type": "stream",
     "text": [
      "LIC. EN CIENCIAS DEL AMBIENTE Done 1           ggcisterna@gmail.com\n",
      "1     sanchogabriela@hotmail.com\n",
      "1         ecalamos@argentina.com\n",
      "4         conghos@hotmail.com.ar\n",
      "5    marianonicola1975@gmail.com\n",
      "                ...             \n",
      "1     cadan@mtconsultores.com.ar\n",
      "2     gaciacecilia.lic@gmail.com\n",
      "3         matias.postay@live.com\n",
      "4         ana.saura@yahoo.com.ar\n",
      "5            dmurquiza@gmail.com\n",
      "Length: 473, dtype: object\n"
     ]
    },
    {
     "name": "stderr",
     "output_type": "stream",
     "text": [
      "\n",
      " 46%|████▌     | 175/384 [39:06<34:59, 10.04s/it]\u001b[A"
     ]
    },
    {
     "name": "stdout",
     "output_type": "stream",
     "text": [
      "LIC. EN CIENCIAS GEOLOGICAS Done 1                               ggcisterna@gmail.com\n",
      "1                         sanchogabriela@hotmail.com\n",
      "1                             ecalamos@argentina.com\n",
      "4                             conghos@hotmail.com.ar\n",
      "5                        marianonicola1975@gmail.com\n",
      "                           ...                      \n",
      "6                          diegonheffner@hotmail.com\n",
      "7                                mi.sirsrl@gmail.com\n",
      "8                                rlopez@yahoo.com.ar\n",
      "9                        smarcomini2006@yahoo.com.ar\n",
      "10    MJ.ARGEO@HOTMAIL.COM / geologia@cristamine.com\n",
      "Length: 480, dtype: object\n"
     ]
    },
    {
     "name": "stderr",
     "output_type": "stream",
     "text": [
      "\n",
      " 46%|████▌     | 176/384 [39:16<34:13,  9.87s/it]\u001b[A"
     ]
    },
    {
     "name": "stdout",
     "output_type": "stream",
     "text": [
      "LIC. EN CIENCIAS QUÍMICAS Done 1                               ggcisterna@gmail.com\n",
      "1                         sanchogabriela@hotmail.com\n",
      "1                             ecalamos@argentina.com\n",
      "4                             conghos@hotmail.com.ar\n",
      "5                        marianonicola1975@gmail.com\n",
      "                           ...                      \n",
      "10    MJ.ARGEO@HOTMAIL.COM / geologia@cristamine.com\n",
      "1                            gesa.integral@gmail.com\n",
      "2                               mfbauleo@hotmail.com\n",
      "4                          fabianjaruf@speedy.com.ar\n",
      "5                                elieschke@gmail.com\n",
      "Length: 484, dtype: object\n"
     ]
    },
    {
     "name": "stderr",
     "output_type": "stream",
     "text": [
      "\n",
      " 46%|████▌     | 177/384 [39:23<30:50,  8.94s/it]\u001b[A"
     ]
    },
    {
     "name": "stdout",
     "output_type": "stream",
     "text": [
      "LIC. EN CIENCIAS QUIMICAS O. ANALISIS BIOLOGICOS Done 1                               ggcisterna@gmail.com\n",
      "1                         sanchogabriela@hotmail.com\n",
      "1                             ecalamos@argentina.com\n",
      "4                             conghos@hotmail.com.ar\n",
      "5                        marianonicola1975@gmail.com\n",
      "                           ...                      \n",
      "10    MJ.ARGEO@HOTMAIL.COM / geologia@cristamine.com\n",
      "1                            gesa.integral@gmail.com\n",
      "2                               mfbauleo@hotmail.com\n",
      "4                          fabianjaruf@speedy.com.ar\n",
      "5                                elieschke@gmail.com\n",
      "Length: 484, dtype: object\n"
     ]
    },
    {
     "name": "stderr",
     "output_type": "stream",
     "text": [
      "\n",
      " 46%|████▋     | 178/384 [39:29<28:09,  8.20s/it]\u001b[A"
     ]
    },
    {
     "name": "stdout",
     "output_type": "stream",
     "text": [
      "Lic. en Ecolgia y Cons.de Rec. Nat. Renovables Done 1                               ggcisterna@gmail.com\n",
      "1                         sanchogabriela@hotmail.com\n",
      "1                             ecalamos@argentina.com\n",
      "4                             conghos@hotmail.com.ar\n",
      "5                        marianonicola1975@gmail.com\n",
      "                           ...                      \n",
      "10    MJ.ARGEO@HOTMAIL.COM / geologia@cristamine.com\n",
      "1                            gesa.integral@gmail.com\n",
      "2                               mfbauleo@hotmail.com\n",
      "4                          fabianjaruf@speedy.com.ar\n",
      "5                                elieschke@gmail.com\n",
      "Length: 484, dtype: object\n"
     ]
    },
    {
     "name": "stderr",
     "output_type": "stream",
     "text": [
      "\n",
      " 47%|████▋     | 179/384 [39:36<26:53,  7.87s/it]\u001b[A"
     ]
    },
    {
     "name": "stdout",
     "output_type": "stream",
     "text": [
      "LIC. EN ENSEÑANZA DE LAS CIENCIAS DEL AMBIENTE Done 1           ggcisterna@gmail.com\n",
      "1     sanchogabriela@hotmail.com\n",
      "1         ecalamos@argentina.com\n",
      "4         conghos@hotmail.com.ar\n",
      "5    marianonicola1975@gmail.com\n",
      "                ...             \n",
      "1        gesa.integral@gmail.com\n",
      "2           mfbauleo@hotmail.com\n",
      "4      fabianjaruf@speedy.com.ar\n",
      "5            elieschke@gmail.com\n",
      "1        porcellilucio@gmail.com\n",
      "Length: 485, dtype: object\n"
     ]
    },
    {
     "name": "stderr",
     "output_type": "stream",
     "text": [
      "\n",
      " 47%|████▋     | 180/384 [39:56<38:52, 11.43s/it]\u001b[A"
     ]
    },
    {
     "name": "stdout",
     "output_type": "stream",
     "text": [
      "LIC. EN GEOLOGIA Done 1            ggcisterna@gmail.com\n",
      "1      sanchogabriela@hotmail.com\n",
      "1          ecalamos@argentina.com\n",
      "4          conghos@hotmail.com.ar\n",
      "5     marianonicola1975@gmail.com\n",
      "                 ...             \n",
      "8               juan7@hotmail.com\n",
      "9             qlondono@mdp.edu.ar\n",
      "10            ruizapgeo@gmail.com\n",
      "11           frspeziale@gmail.com\n",
      "12              vucar@hotmail.com\n",
      "Length: 497, dtype: object\n"
     ]
    },
    {
     "name": "stderr",
     "output_type": "stream",
     "text": [
      "\n",
      " 47%|████▋     | 181/384 [40:04<35:10, 10.40s/it]\u001b[A"
     ]
    },
    {
     "name": "stdout",
     "output_type": "stream",
     "text": [
      "LIC. EN GERENCIAMIENTO AMBIENTAL Done 1              ggcisterna@gmail.com\n",
      "1        sanchogabriela@hotmail.com\n",
      "1            ecalamos@argentina.com\n",
      "4            conghos@hotmail.com.ar\n",
      "5       marianonicola1975@gmail.com\n",
      "                  ...              \n",
      "10              ruizapgeo@gmail.com\n",
      "11             frspeziale@gmail.com\n",
      "12                vucar@hotmail.com\n",
      "1         sergiociglesias@gmail.com\n",
      "2     julietaveronica2@yahoo.com.ar\n",
      "Length: 499, dtype: object\n"
     ]
    },
    {
     "name": "stderr",
     "output_type": "stream",
     "text": [
      "\n",
      " 47%|████▋     | 182/384 [40:16<36:56, 10.97s/it]\u001b[A"
     ]
    },
    {
     "name": "stdout",
     "output_type": "stream",
     "text": [
      "Lic. en Gestion Ambiental Done 1             ggcisterna@gmail.com\n",
      "1       sanchogabriela@hotmail.com\n",
      "1           ecalamos@argentina.com\n",
      "4           conghos@hotmail.com.ar\n",
      "5      marianonicola1975@gmail.com\n",
      "                 ...              \n",
      "4        pablocesarduran@gmail.com\n",
      "5       valeria_flamin@hotmail.com\n",
      "6                 DALOI@HOTMAIL.ES\n",
      "7    nataliamontanari@yahoo.com.ar\n",
      "8          nogueiras@serman.com.ar\n",
      "Length: 507, dtype: object\n"
     ]
    },
    {
     "name": "stderr",
     "output_type": "stream",
     "text": [
      "\n",
      " 48%|████▊     | 183/384 [40:24<33:56, 10.13s/it]\u001b[A"
     ]
    },
    {
     "name": "stdout",
     "output_type": "stream",
     "text": [
      "LIC. EN GESTION AMBIENTAL URBANA Done 1             ggcisterna@gmail.com\n",
      "1       sanchogabriela@hotmail.com\n",
      "1           ecalamos@argentina.com\n",
      "4           conghos@hotmail.com.ar\n",
      "5      marianonicola1975@gmail.com\n",
      "                 ...              \n",
      "6                 DALOI@HOTMAIL.ES\n",
      "7    nataliamontanari@yahoo.com.ar\n",
      "8          nogueiras@serman.com.ar\n",
      "1      nicolasbasso_91@hotmail.com\n",
      "2        pablocesarduran@gmail.com\n",
      "Length: 509, dtype: object\n"
     ]
    },
    {
     "name": "stderr",
     "output_type": "stream",
     "text": [
      "\n",
      " 48%|████▊     | 184/384 [41:59<1:58:30, 35.55s/it]\u001b[A"
     ]
    },
    {
     "name": "stdout",
     "output_type": "stream",
     "text": [
      "LIC. EN HIGIENE Y  SEG EN EL TRABAJO Done 1              ggcisterna@gmail.com\n",
      "1        sanchogabriela@hotmail.com\n",
      "1            ecalamos@argentina.com\n",
      "4            conghos@hotmail.com.ar\n",
      "5       marianonicola1975@gmail.com\n",
      "                  ...              \n",
      "82                ntrinak@gmail.com\n",
      "83    carolina.vallejos@hotmail.com\n",
      "86            eliydioni@hotmail.com\n",
      "87                cvolpi@way.com.ar\n",
      "88    micaela.zegarra@edelap.com.ar\n",
      "Length: 594, dtype: object\n"
     ]
    },
    {
     "name": "stderr",
     "output_type": "stream",
     "text": [
      "\n",
      " 48%|████▊     | 185/384 [42:06<1:29:26, 26.97s/it]\u001b[A"
     ]
    },
    {
     "name": "stdout",
     "output_type": "stream",
     "text": [
      "LIC. EN HIGIENE Y SEGURIDAD INDUSTRIAL Done 1              ggcisterna@gmail.com\n",
      "1        sanchogabriela@hotmail.com\n",
      "1            ecalamos@argentina.com\n",
      "4            conghos@hotmail.com.ar\n",
      "5       marianonicola1975@gmail.com\n",
      "                  ...              \n",
      "83    carolina.vallejos@hotmail.com\n",
      "86            eliydioni@hotmail.com\n",
      "87                cvolpi@way.com.ar\n",
      "88    micaela.zegarra@edelap.com.ar\n",
      "1            msdiaz_shi@hotmail.com\n",
      "Length: 595, dtype: object\n"
     ]
    },
    {
     "name": "stderr",
     "output_type": "stream",
     "text": [
      "\n",
      " 48%|████▊     | 186/384 [42:13<1:08:47, 20.84s/it]\u001b[A"
     ]
    },
    {
     "name": "stdout",
     "output_type": "stream",
     "text": [
      "LIC. EN PROTECCIÓN Y SANEAMIENTO AMBIENTAL Done 1              ggcisterna@gmail.com\n",
      "1        sanchogabriela@hotmail.com\n",
      "1            ecalamos@argentina.com\n",
      "4            conghos@hotmail.com.ar\n",
      "5       marianonicola1975@gmail.com\n",
      "                  ...              \n",
      "86            eliydioni@hotmail.com\n",
      "87                cvolpi@way.com.ar\n",
      "88    micaela.zegarra@edelap.com.ar\n",
      "1            msdiaz_shi@hotmail.com\n",
      "1          melissafarroni@gmail.com\n",
      "Length: 596, dtype: object\n"
     ]
    },
    {
     "name": "stderr",
     "output_type": "stream",
     "text": [
      "\n",
      " 49%|████▊     | 187/384 [42:21<56:28, 17.20s/it]  \u001b[A"
     ]
    },
    {
     "name": "stdout",
     "output_type": "stream",
     "text": [
      "Lic. en Química y Tecnología Ambiental Done 1              ggcisterna@gmail.com\n",
      "1        sanchogabriela@hotmail.com\n",
      "1            ecalamos@argentina.com\n",
      "4            conghos@hotmail.com.ar\n",
      "5       marianonicola1975@gmail.com\n",
      "                  ...              \n",
      "87                cvolpi@way.com.ar\n",
      "88    micaela.zegarra@edelap.com.ar\n",
      "1            msdiaz_shi@hotmail.com\n",
      "1          melissafarroni@gmail.com\n",
      "1            mieresnoelia@gmail.com\n",
      "Length: 597, dtype: object\n"
     ]
    },
    {
     "name": "stderr",
     "output_type": "stream",
     "text": [
      "\n",
      " 49%|████▉     | 188/384 [42:29<46:25, 14.21s/it]\u001b[A"
     ]
    },
    {
     "name": "stdout",
     "output_type": "stream",
     "text": [
      "LIC. EN RELACIONES COM. INTERNACIONALES Done 1              ggcisterna@gmail.com\n",
      "1        sanchogabriela@hotmail.com\n",
      "1            ecalamos@argentina.com\n",
      "4            conghos@hotmail.com.ar\n",
      "5       marianonicola1975@gmail.com\n",
      "                  ...              \n",
      "87                cvolpi@way.com.ar\n",
      "88    micaela.zegarra@edelap.com.ar\n",
      "1            msdiaz_shi@hotmail.com\n",
      "1          melissafarroni@gmail.com\n",
      "1            mieresnoelia@gmail.com\n",
      "Length: 597, dtype: object\n"
     ]
    },
    {
     "name": "stderr",
     "output_type": "stream",
     "text": [
      "\n",
      " 49%|████▉     | 189/384 [42:36<39:37, 12.19s/it]\u001b[A"
     ]
    },
    {
     "name": "stdout",
     "output_type": "stream",
     "text": [
      "LIC. EN RELACIONES INDUSTRIALES CON ESPEC. EN UCA, Done 1              ggcisterna@gmail.com\n",
      "1        sanchogabriela@hotmail.com\n",
      "1            ecalamos@argentina.com\n",
      "4            conghos@hotmail.com.ar\n",
      "5       marianonicola1975@gmail.com\n",
      "                  ...              \n",
      "87                cvolpi@way.com.ar\n",
      "88    micaela.zegarra@edelap.com.ar\n",
      "1            msdiaz_shi@hotmail.com\n",
      "1          melissafarroni@gmail.com\n",
      "1            mieresnoelia@gmail.com\n",
      "Length: 597, dtype: object\n"
     ]
    },
    {
     "name": "stderr",
     "output_type": "stream",
     "text": [
      "\n",
      " 49%|████▉     | 190/384 [42:44<35:20, 10.93s/it]\u001b[A"
     ]
    },
    {
     "name": "stdout",
     "output_type": "stream",
     "text": [
      "Lic. en Saneamiento y proteccion ambiental Done 1              ggcisterna@gmail.com\n",
      "1        sanchogabriela@hotmail.com\n",
      "1            ecalamos@argentina.com\n",
      "4            conghos@hotmail.com.ar\n",
      "5       marianonicola1975@gmail.com\n",
      "                  ...              \n",
      "87                cvolpi@way.com.ar\n",
      "88    micaela.zegarra@edelap.com.ar\n",
      "1            msdiaz_shi@hotmail.com\n",
      "1          melissafarroni@gmail.com\n",
      "1            mieresnoelia@gmail.com\n",
      "Length: 597, dtype: object\n"
     ]
    },
    {
     "name": "stderr",
     "output_type": "stream",
     "text": [
      "\n",
      " 50%|████▉     | 191/384 [42:52<32:19, 10.05s/it]\u001b[A"
     ]
    },
    {
     "name": "stdout",
     "output_type": "stream",
     "text": [
      "Lic. en Seg. e Higiene en el Trabajo y Medio Amb. Done 1                     ggcisterna@gmail.com\n",
      "1               sanchogabriela@hotmail.com\n",
      "1                   ecalamos@argentina.com\n",
      "4                   conghos@hotmail.com.ar\n",
      "5              marianonicola1975@gmail.com\n",
      "                     ...                  \n",
      "1                   msdiaz_shi@hotmail.com\n",
      "1                 melissafarroni@gmail.com\n",
      "1                   mieresnoelia@gmail.com\n",
      "1    nicolasbocca@prevenirseguridad.com.ar\n",
      "2           nrodriguez@consultorars.com.ar\n",
      "Length: 599, dtype: object\n"
     ]
    },
    {
     "name": "stderr",
     "output_type": "stream",
     "text": [
      "\n",
      " 50%|█████     | 192/384 [42:59<29:10,  9.12s/it]\u001b[A"
     ]
    },
    {
     "name": "stdout",
     "output_type": "stream",
     "text": [
      "LIC. EN SEG. HIGIENE IND. Y CONTROL AMBIENTAL Done 1                     ggcisterna@gmail.com\n",
      "1               sanchogabriela@hotmail.com\n",
      "1                   ecalamos@argentina.com\n",
      "4                   conghos@hotmail.com.ar\n",
      "5              marianonicola1975@gmail.com\n",
      "                     ...                  \n",
      "1                 melissafarroni@gmail.com\n",
      "1                   mieresnoelia@gmail.com\n",
      "1    nicolasbocca@prevenirseguridad.com.ar\n",
      "2           nrodriguez@consultorars.com.ar\n",
      "1                 AMBIENTAL@LABTESA.COM.AR\n",
      "Length: 600, dtype: object\n"
     ]
    },
    {
     "name": "stderr",
     "output_type": "stream",
     "text": [
      "\n",
      " 50%|█████     | 193/384 [43:07<27:28,  8.63s/it]\u001b[A"
     ]
    },
    {
     "name": "stdout",
     "output_type": "stream",
     "text": [
      "Lic. en Seguridad Ambiental Done 1                     ggcisterna@gmail.com\n",
      "1               sanchogabriela@hotmail.com\n",
      "1                   ecalamos@argentina.com\n",
      "4                   conghos@hotmail.com.ar\n",
      "5              marianonicola1975@gmail.com\n",
      "                     ...                  \n",
      "1                   mieresnoelia@gmail.com\n",
      "1    nicolasbocca@prevenirseguridad.com.ar\n",
      "2           nrodriguez@consultorars.com.ar\n",
      "1                 AMBIENTAL@LABTESA.COM.AR\n",
      "1              CONSULTORAALFAR@HOTMAIL.COM\n",
      "Length: 601, dtype: object\n"
     ]
    },
    {
     "name": "stderr",
     "output_type": "stream",
     "text": [
      "\n",
      " 51%|█████     | 194/384 [43:15<27:31,  8.69s/it]\u001b[A"
     ]
    },
    {
     "name": "stdout",
     "output_type": "stream",
     "text": [
      "LIC. EN SEGURIDAD E HIGIENE  Done 1              ggcisterna@gmail.com\n",
      "1        sanchogabriela@hotmail.com\n",
      "1            ecalamos@argentina.com\n",
      "4            conghos@hotmail.com.ar\n",
      "5       marianonicola1975@gmail.com\n",
      "                  ...              \n",
      "2    nrodriguez@consultorars.com.ar\n",
      "1          AMBIENTAL@LABTESA.COM.AR\n",
      "1       CONSULTORAALFAR@HOTMAIL.COM\n",
      "1           hysdemateo@yahoo.com.ar\n",
      "2             ayelenff@yahoo.com.ar\n",
      "Length: 603, dtype: object\n"
     ]
    },
    {
     "name": "stderr",
     "output_type": "stream",
     "text": [
      "\n",
      " 51%|█████     | 195/384 [43:22<25:25,  8.07s/it]\u001b[A"
     ]
    },
    {
     "name": "stdout",
     "output_type": "stream",
     "text": [
      "LIC. EN SEGURIDAD Y SALUD OCUPACIONAL Done 1              ggcisterna@gmail.com\n",
      "1        sanchogabriela@hotmail.com\n",
      "1            ecalamos@argentina.com\n",
      "4            conghos@hotmail.com.ar\n",
      "5       marianonicola1975@gmail.com\n",
      "                  ...              \n",
      "2    nrodriguez@consultorars.com.ar\n",
      "1          AMBIENTAL@LABTESA.COM.AR\n",
      "1       CONSULTORAALFAR@HOTMAIL.COM\n",
      "1           hysdemateo@yahoo.com.ar\n",
      "2             ayelenff@yahoo.com.ar\n",
      "Length: 603, dtype: object\n"
     ]
    },
    {
     "name": "stderr",
     "output_type": "stream",
     "text": [
      "\n",
      " 51%|█████     | 196/384 [43:57<50:17, 16.05s/it]\u001b[A"
     ]
    },
    {
     "name": "stdout",
     "output_type": "stream",
     "text": [
      "Lic. en Seguridad, Higiene y Control Ambiental Lab Done 1                   ggcisterna@gmail.com\n",
      "1             sanchogabriela@hotmail.com\n",
      "1                 ecalamos@argentina.com\n",
      "4                 conghos@hotmail.com.ar\n",
      "5            marianonicola1975@gmail.com\n",
      "                     ...                \n",
      "23     emiliano.rodriguez@hotmail.com.ar\n",
      "24                    nesayago@gmail.com\n",
      "25                bruno_sosa@hotmail.com\n",
      "26    lsperoni@comunicarseguridad.com.ar\n",
      "27                tello.diegom@gmail.com\n",
      "Length: 629, dtype: object\n"
     ]
    },
    {
     "name": "stderr",
     "output_type": "stream",
     "text": [
      "\n",
      " 51%|█████▏    | 197/384 [44:04<41:34, 13.34s/it]\u001b[A"
     ]
    },
    {
     "name": "stdout",
     "output_type": "stream",
     "text": [
      "LIC. EN SISTEMAS  Done 1                   ggcisterna@gmail.com\n",
      "1             sanchogabriela@hotmail.com\n",
      "1                 ecalamos@argentina.com\n",
      "4                 conghos@hotmail.com.ar\n",
      "5            marianonicola1975@gmail.com\n",
      "                     ...                \n",
      "24                    nesayago@gmail.com\n",
      "25                bruno_sosa@hotmail.com\n",
      "26    lsperoni@comunicarseguridad.com.ar\n",
      "27                tello.diegom@gmail.com\n",
      "1                    jmarquez@edenor.com\n",
      "Length: 630, dtype: object\n"
     ]
    },
    {
     "name": "stderr",
     "output_type": "stream",
     "text": [
      "\n",
      " 52%|█████▏    | 198/384 [44:11<35:31, 11.46s/it]\u001b[A"
     ]
    },
    {
     "name": "stdout",
     "output_type": "stream",
     "text": [
      "LIC. EN TECNOLOGÍA AMBIENTAL Done 1                   ggcisterna@gmail.com\n",
      "1             sanchogabriela@hotmail.com\n",
      "1                 ecalamos@argentina.com\n",
      "4                 conghos@hotmail.com.ar\n",
      "5            marianonicola1975@gmail.com\n",
      "                     ...                \n",
      "26    lsperoni@comunicarseguridad.com.ar\n",
      "27                tello.diegom@gmail.com\n",
      "1                    jmarquez@edenor.com\n",
      "1                pfacundo.orte@gmail.com\n",
      "2         mariano.javier.veron@gmail.com\n",
      "Length: 632, dtype: object\n"
     ]
    },
    {
     "name": "stderr",
     "output_type": "stream",
     "text": [
      "\n",
      " 52%|█████▏    | 199/384 [44:18<31:32, 10.23s/it]\u001b[A"
     ]
    },
    {
     "name": "stdout",
     "output_type": "stream",
     "text": [
      "LIC. INFORMACIÓN AMBIENTAL Done 1               ggcisterna@gmail.com\n",
      "1         sanchogabriela@hotmail.com\n",
      "1             ecalamos@argentina.com\n",
      "4             conghos@hotmail.com.ar\n",
      "5        marianonicola1975@gmail.com\n",
      "                   ...              \n",
      "27            tello.diegom@gmail.com\n",
      "1                jmarquez@edenor.com\n",
      "1            pfacundo.orte@gmail.com\n",
      "2     mariano.javier.veron@gmail.com\n",
      "1          JULIANADUENAS.A@GMAIL.COM\n",
      "Length: 633, dtype: object\n"
     ]
    },
    {
     "name": "stderr",
     "output_type": "stream",
     "text": [
      "\n",
      " 52%|█████▏    | 200/384 [44:28<30:49, 10.05s/it]\u001b[A"
     ]
    },
    {
     "name": "stdout",
     "output_type": "stream",
     "text": [
      "LIC. SEGURIDAD E HIGIENE Y CONTROL AMBIENTAL Done 1              ggcisterna@gmail.com\n",
      "1        sanchogabriela@hotmail.com\n",
      "1            ecalamos@argentina.com\n",
      "4            conghos@hotmail.com.ar\n",
      "5       marianonicola1975@gmail.com\n",
      "                  ...              \n",
      "1               jmarquez@edenor.com\n",
      "1           pfacundo.orte@gmail.com\n",
      "2    mariano.javier.veron@gmail.com\n",
      "1         JULIANADUENAS.A@GMAIL.COM\n",
      "1              ggcisterna@gmail.com\n",
      "Length: 634, dtype: object\n"
     ]
    },
    {
     "name": "stderr",
     "output_type": "stream",
     "text": [
      "\n",
      " 52%|█████▏    | 201/384 [44:34<27:32,  9.03s/it]\u001b[A"
     ]
    },
    {
     "name": "stdout",
     "output_type": "stream",
     "text": [
      "Lic.en Biologia OR Zoologia Done 1              ggcisterna@gmail.com\n",
      "1        sanchogabriela@hotmail.com\n",
      "1            ecalamos@argentina.com\n",
      "4            conghos@hotmail.com.ar\n",
      "5       marianonicola1975@gmail.com\n",
      "                  ...              \n",
      "1               jmarquez@edenor.com\n",
      "1           pfacundo.orte@gmail.com\n",
      "2    mariano.javier.veron@gmail.com\n",
      "1         JULIANADUENAS.A@GMAIL.COM\n",
      "1              ggcisterna@gmail.com\n",
      "Length: 634, dtype: object\n"
     ]
    },
    {
     "name": "stderr",
     "output_type": "stream",
     "text": [
      "\n",
      " 53%|█████▎    | 202/384 [44:43<27:11,  8.97s/it]\u001b[A"
     ]
    },
    {
     "name": "stdout",
     "output_type": "stream",
     "text": [
      "Lic.en Seg e Hig y Control Amb Laboral Done 1              ggcisterna@gmail.com\n",
      "1        sanchogabriela@hotmail.com\n",
      "1            ecalamos@argentina.com\n",
      "4            conghos@hotmail.com.ar\n",
      "5       marianonicola1975@gmail.com\n",
      "                  ...              \n",
      "2    mariano.javier.veron@gmail.com\n",
      "1         JULIANADUENAS.A@GMAIL.COM\n",
      "1              ggcisterna@gmail.com\n",
      "1                 mcano@live.com.ar\n",
      "3        juan.wieckiewick@gmail.com\n",
      "Length: 636, dtype: object\n"
     ]
    },
    {
     "name": "stderr",
     "output_type": "stream",
     "text": [
      "\n",
      " 53%|█████▎    | 203/384 [45:00<34:13, 11.35s/it]\u001b[A"
     ]
    },
    {
     "name": "stdout",
     "output_type": "stream",
     "text": [
      "Licenciad en Seguridad y salud ocupacional Done 1            ggcisterna@gmail.com\n",
      "1      sanchogabriela@hotmail.com\n",
      "1          ecalamos@argentina.com\n",
      "4          conghos@hotmail.com.ar\n",
      "5     marianonicola1975@gmail.com\n",
      "                 ...             \n",
      "3     sabrinaastrada@yahoo.com.ar\n",
      "4           martincua@hotmail.com\n",
      "5                hugesp@gmail.com\n",
      "6    georgina.b.gomez@hotmail.com\n",
      "7         lorena_groh@hotmail.com\n",
      "Length: 643, dtype: object\n"
     ]
    },
    {
     "name": "stderr",
     "output_type": "stream",
     "text": [
      "\n",
      " 53%|█████▎    | 204/384 [45:11<33:18, 11.11s/it]\u001b[A"
     ]
    },
    {
     "name": "stdout",
     "output_type": "stream",
     "text": [
      "LICENCIADA  EN CIENCIAS DEL AMBIENTE Done 1                              ggcisterna@gmail.com\n",
      "1                        sanchogabriela@hotmail.com\n",
      "1                            ecalamos@argentina.com\n",
      "4                            conghos@hotmail.com.ar\n",
      "5                       marianonicola1975@gmail.com\n",
      "                          ...                      \n",
      "6                      georgina.b.gomez@hotmail.com\n",
      "7                           lorena_groh@hotmail.com\n",
      "1                                jorge@amari.com.ar\n",
      "2    yaninacasaca@gmail.com / yanina@exonova.com.ar\n",
      "3                        miriamparcero@yahoo.com.ar\n",
      "Length: 646, dtype: object\n"
     ]
    },
    {
     "name": "stderr",
     "output_type": "stream",
     "text": [
      "\n",
      " 53%|█████▎    | 205/384 [45:18<29:35,  9.92s/it]\u001b[A"
     ]
    },
    {
     "name": "stdout",
     "output_type": "stream",
     "text": [
      "Licenciada en Análisis Ambiental Done 1                              ggcisterna@gmail.com\n",
      "1                        sanchogabriela@hotmail.com\n",
      "1                            ecalamos@argentina.com\n",
      "4                            conghos@hotmail.com.ar\n",
      "5                       marianonicola1975@gmail.com\n",
      "                          ...                      \n",
      "7                           lorena_groh@hotmail.com\n",
      "1                                jorge@amari.com.ar\n",
      "2    yaninacasaca@gmail.com / yanina@exonova.com.ar\n",
      "3                        miriamparcero@yahoo.com.ar\n",
      "1                          rominabaldi@yahoo.com.ar\n",
      "Length: 647, dtype: object\n"
     ]
    },
    {
     "name": "stderr",
     "output_type": "stream",
     "text": [
      "\n",
      " 54%|█████▎    | 206/384 [45:24<26:15,  8.85s/it]\u001b[A"
     ]
    },
    {
     "name": "stdout",
     "output_type": "stream",
     "text": [
      "LICENCIADA EN BIOTECNOLOGIA Done 1                              ggcisterna@gmail.com\n",
      "1                        sanchogabriela@hotmail.com\n",
      "1                            ecalamos@argentina.com\n",
      "4                            conghos@hotmail.com.ar\n",
      "5                       marianonicola1975@gmail.com\n",
      "                          ...                      \n",
      "7                           lorena_groh@hotmail.com\n",
      "1                                jorge@amari.com.ar\n",
      "2    yaninacasaca@gmail.com / yanina@exonova.com.ar\n",
      "3                        miriamparcero@yahoo.com.ar\n",
      "1                          rominabaldi@yahoo.com.ar\n",
      "Length: 647, dtype: object\n"
     ]
    },
    {
     "name": "stderr",
     "output_type": "stream",
     "text": [
      "\n",
      " 54%|█████▍    | 207/384 [45:31<24:11,  8.20s/it]\u001b[A"
     ]
    },
    {
     "name": "stdout",
     "output_type": "stream",
     "text": [
      "LICENCIADA EN BROMATOLOGIA Done 1                              ggcisterna@gmail.com\n",
      "1                        sanchogabriela@hotmail.com\n",
      "1                            ecalamos@argentina.com\n",
      "4                            conghos@hotmail.com.ar\n",
      "5                       marianonicola1975@gmail.com\n",
      "                          ...                      \n",
      "7                           lorena_groh@hotmail.com\n",
      "1                                jorge@amari.com.ar\n",
      "2    yaninacasaca@gmail.com / yanina@exonova.com.ar\n",
      "3                        miriamparcero@yahoo.com.ar\n",
      "1                          rominabaldi@yahoo.com.ar\n",
      "Length: 647, dtype: object\n"
     ]
    },
    {
     "name": "stderr",
     "output_type": "stream",
     "text": [
      "\n",
      " 54%|█████▍    | 208/384 [45:38<22:52,  7.80s/it]\u001b[A"
     ]
    },
    {
     "name": "stdout",
     "output_type": "stream",
     "text": [
      "Licenciada en Ciencia y Tecnología de Alimentos Done 1                              ggcisterna@gmail.com\n",
      "1                        sanchogabriela@hotmail.com\n",
      "1                            ecalamos@argentina.com\n",
      "4                            conghos@hotmail.com.ar\n",
      "5                       marianonicola1975@gmail.com\n",
      "                          ...                      \n",
      "7                           lorena_groh@hotmail.com\n",
      "1                                jorge@amari.com.ar\n",
      "2    yaninacasaca@gmail.com / yanina@exonova.com.ar\n",
      "3                        miriamparcero@yahoo.com.ar\n",
      "1                          rominabaldi@yahoo.com.ar\n",
      "Length: 647, dtype: object\n"
     ]
    },
    {
     "name": "stderr",
     "output_type": "stream",
     "text": [
      "\n",
      " 54%|█████▍    | 209/384 [45:55<30:55, 10.60s/it]\u001b[A"
     ]
    },
    {
     "name": "stdout",
     "output_type": "stream",
     "text": [
      "LICENCIADA EN CIENCIAS AMBIENTALES Done 1                 ggcisterna@gmail.com\n",
      "1           sanchogabriela@hotmail.com\n",
      "1               ecalamos@argentina.com\n",
      "4               conghos@hotmail.com.ar\n",
      "5          marianonicola1975@gmail.com\n",
      "                    ...               \n",
      "7             nicole.dorbesi@gmail.com\n",
      "8        mercedesgallo@fibertel.com.ar\n",
      "9          astrid_gardiner@hotmail.com\n",
      "11    MARIAEUGENIA_MARTIN@YAHOO.COM.AR\n",
      "12             marcomateu@yahoo.com.ar\n",
      "Length: 658, dtype: object\n"
     ]
    },
    {
     "name": "stderr",
     "output_type": "stream",
     "text": [
      "\n",
      " 55%|█████▍    | 210/384 [46:08<33:15, 11.47s/it]\u001b[A"
     ]
    },
    {
     "name": "stdout",
     "output_type": "stream",
     "text": [
      "Licenciada en Ciencias Geologicas Done 1              ggcisterna@gmail.com\n",
      "1        sanchogabriela@hotmail.com\n",
      "1            ecalamos@argentina.com\n",
      "4            conghos@hotmail.com.ar\n",
      "5       marianonicola1975@gmail.com\n",
      "                  ...              \n",
      "12          marcomateu@yahoo.com.ar\n",
      "1     angelettirodolfo@yahoo.com.ar\n",
      "2           sbojarski1@yahoo.com.ar\n",
      "3             enronzoni@hotmail.com\n",
      "4            gturazzini@demison.com\n",
      "Length: 662, dtype: object\n"
     ]
    },
    {
     "name": "stderr",
     "output_type": "stream",
     "text": [
      "\n",
      " 55%|█████▍    | 211/384 [46:15<29:04, 10.08s/it]\u001b[A"
     ]
    },
    {
     "name": "stdout",
     "output_type": "stream",
     "text": [
      "Licenciada en Ciencias Politicas Done 1              ggcisterna@gmail.com\n",
      "1        sanchogabriela@hotmail.com\n",
      "1            ecalamos@argentina.com\n",
      "4            conghos@hotmail.com.ar\n",
      "5       marianonicola1975@gmail.com\n",
      "                  ...              \n",
      "12          marcomateu@yahoo.com.ar\n",
      "1     angelettirodolfo@yahoo.com.ar\n",
      "2           sbojarski1@yahoo.com.ar\n",
      "3             enronzoni@hotmail.com\n",
      "4            gturazzini@demison.com\n",
      "Length: 662, dtype: object\n"
     ]
    },
    {
     "name": "stderr",
     "output_type": "stream",
     "text": [
      "\n",
      " 55%|█████▌    | 212/384 [46:22<26:12,  9.14s/it]\u001b[A"
     ]
    },
    {
     "name": "stdout",
     "output_type": "stream",
     "text": [
      "LICENCIADA EN CIENCIAS QUIMICAS O. ANALISIS QUIM. Done 1             ggcisterna@gmail.com\n",
      "1       sanchogabriela@hotmail.com\n",
      "1           ecalamos@argentina.com\n",
      "4           conghos@hotmail.com.ar\n",
      "5      marianonicola1975@gmail.com\n",
      "                 ...              \n",
      "1    angelettirodolfo@yahoo.com.ar\n",
      "2          sbojarski1@yahoo.com.ar\n",
      "3            enronzoni@hotmail.com\n",
      "4           gturazzini@demison.com\n",
      "1        tecnologia@induser.com.ar\n",
      "Length: 663, dtype: object\n"
     ]
    },
    {
     "name": "stderr",
     "output_type": "stream",
     "text": [
      "\n",
      " 55%|█████▌    | 213/384 [46:42<35:03, 12.30s/it]\u001b[A"
     ]
    },
    {
     "name": "stdout",
     "output_type": "stream",
     "text": [
      "Licenciada en Diagnóstico y Gestión Ambiental Done 1                ggcisterna@gmail.com\n",
      "1          sanchogabriela@hotmail.com\n",
      "1              ecalamos@argentina.com\n",
      "4              conghos@hotmail.com.ar\n",
      "5         marianonicola1975@gmail.com\n",
      "                   ...               \n",
      "4       fgonzalezcolombi@yahoo.com.ar\n",
      "5             manuelmorrone@gmail.com\n",
      "6         natalia_agnelli@hotmail.com\n",
      "7          lorenasilvaarias@gmail.com\n",
      "8    adelinawebb@acgconsultora.com.ar\n",
      "Length: 671, dtype: object\n"
     ]
    },
    {
     "name": "stderr",
     "output_type": "stream",
     "text": [
      "\n",
      " 56%|█████▌    | 214/384 [46:49<30:28, 10.76s/it]\u001b[A"
     ]
    },
    {
     "name": "stdout",
     "output_type": "stream",
     "text": [
      "Licenciada en Ecología Urbana Done 1                ggcisterna@gmail.com\n",
      "1          sanchogabriela@hotmail.com\n",
      "1              ecalamos@argentina.com\n",
      "4              conghos@hotmail.com.ar\n",
      "5         marianonicola1975@gmail.com\n",
      "                   ...               \n",
      "4       fgonzalezcolombi@yahoo.com.ar\n",
      "5             manuelmorrone@gmail.com\n",
      "6         natalia_agnelli@hotmail.com\n",
      "7          lorenasilvaarias@gmail.com\n",
      "8    adelinawebb@acgconsultora.com.ar\n",
      "Length: 671, dtype: object\n"
     ]
    },
    {
     "name": "stderr",
     "output_type": "stream",
     "text": [
      "\n",
      " 56%|█████▌    | 215/384 [46:56<27:10,  9.65s/it]\u001b[A"
     ]
    },
    {
     "name": "stdout",
     "output_type": "stream",
     "text": [
      "LICENCIADA EN GEOLOGIA Done 1                ggcisterna@gmail.com\n",
      "1          sanchogabriela@hotmail.com\n",
      "1              ecalamos@argentina.com\n",
      "4              conghos@hotmail.com.ar\n",
      "5         marianonicola1975@gmail.com\n",
      "                   ...               \n",
      "5             manuelmorrone@gmail.com\n",
      "6         natalia_agnelli@hotmail.com\n",
      "7          lorenasilvaarias@gmail.com\n",
      "8    adelinawebb@acgconsultora.com.ar\n",
      "1                mdlangeles@gmail.com\n",
      "Length: 672, dtype: object\n"
     ]
    },
    {
     "name": "stderr",
     "output_type": "stream",
     "text": [
      "\n",
      " 56%|█████▋    | 216/384 [47:04<25:11,  9.00s/it]\u001b[A"
     ]
    },
    {
     "name": "stdout",
     "output_type": "stream",
     "text": [
      "LICENCIADA EN GERENCIAMIENTO  AMB. Done 1                ggcisterna@gmail.com\n",
      "1          sanchogabriela@hotmail.com\n",
      "1              ecalamos@argentina.com\n",
      "4              conghos@hotmail.com.ar\n",
      "5         marianonicola1975@gmail.com\n",
      "                   ...               \n",
      "6         natalia_agnelli@hotmail.com\n",
      "7          lorenasilvaarias@gmail.com\n",
      "8    adelinawebb@acgconsultora.com.ar\n",
      "1                mdlangeles@gmail.com\n",
      "1            tomascolombo@hotmail.com\n",
      "Length: 673, dtype: object\n"
     ]
    },
    {
     "name": "stderr",
     "output_type": "stream",
     "text": [
      "\n",
      " 57%|█████▋    | 217/384 [47:14<26:21,  9.47s/it]\u001b[A"
     ]
    },
    {
     "name": "stdout",
     "output_type": "stream",
     "text": [
      "LICENCIADA EN GESTION AMBIENTAL Done 1           ggcisterna@gmail.com\n",
      "1     sanchogabriela@hotmail.com\n",
      "1         ecalamos@argentina.com\n",
      "4         conghos@hotmail.com.ar\n",
      "5    marianonicola1975@gmail.com\n",
      "                ...             \n",
      "1           mdlangeles@gmail.com\n",
      "1       tomascolombo@hotmail.com\n",
      "1     andreaandersen73@gmail.com\n",
      "2         julian.dorna@aecom.com\n",
      "3         mv_morales@hotmail.com\n",
      "Length: 676, dtype: object\n"
     ]
    },
    {
     "name": "stderr",
     "output_type": "stream",
     "text": [
      "\n",
      " 57%|█████▋    | 218/384 [47:22<24:36,  8.89s/it]\u001b[A"
     ]
    },
    {
     "name": "stdout",
     "output_type": "stream",
     "text": [
      "LICENCIADA EN INFORMACION AMBIENTAL Done 1           ggcisterna@gmail.com\n",
      "1     sanchogabriela@hotmail.com\n",
      "1         ecalamos@argentina.com\n",
      "4         conghos@hotmail.com.ar\n",
      "5    marianonicola1975@gmail.com\n",
      "                ...             \n",
      "1           mdlangeles@gmail.com\n",
      "1       tomascolombo@hotmail.com\n",
      "1     andreaandersen73@gmail.com\n",
      "2         julian.dorna@aecom.com\n",
      "3         mv_morales@hotmail.com\n",
      "Length: 676, dtype: object\n"
     ]
    },
    {
     "name": "stderr",
     "output_type": "stream",
     "text": [
      "\n",
      " 57%|█████▋    | 219/384 [47:29<23:08,  8.42s/it]\u001b[A"
     ]
    },
    {
     "name": "stdout",
     "output_type": "stream",
     "text": [
      "Licenciada en Oceanografia Done 1           ggcisterna@gmail.com\n",
      "1     sanchogabriela@hotmail.com\n",
      "1         ecalamos@argentina.com\n",
      "4         conghos@hotmail.com.ar\n",
      "5    marianonicola1975@gmail.com\n",
      "                ...             \n",
      "1       tomascolombo@hotmail.com\n",
      "1     andreaandersen73@gmail.com\n",
      "2         julian.dorna@aecom.com\n",
      "3         mv_morales@hotmail.com\n",
      "1        paulababaylac@gmail.com\n",
      "Length: 677, dtype: object\n"
     ]
    },
    {
     "name": "stderr",
     "output_type": "stream",
     "text": [
      "\n",
      " 57%|█████▋    | 220/384 [47:35<21:16,  7.79s/it]\u001b[A"
     ]
    },
    {
     "name": "stdout",
     "output_type": "stream",
     "text": [
      "Licenciada en Oceanografía Orientación Química Mar Done 1           ggcisterna@gmail.com\n",
      "1     sanchogabriela@hotmail.com\n",
      "1         ecalamos@argentina.com\n",
      "4         conghos@hotmail.com.ar\n",
      "5    marianonicola1975@gmail.com\n",
      "                ...             \n",
      "1       tomascolombo@hotmail.com\n",
      "1     andreaandersen73@gmail.com\n",
      "2         julian.dorna@aecom.com\n",
      "3         mv_morales@hotmail.com\n",
      "1        paulababaylac@gmail.com\n",
      "Length: 677, dtype: object\n"
     ]
    },
    {
     "name": "stderr",
     "output_type": "stream",
     "text": [
      "\n",
      " 58%|█████▊    | 221/384 [47:43<21:09,  7.79s/it]\u001b[A"
     ]
    },
    {
     "name": "stdout",
     "output_type": "stream",
     "text": [
      "Licenciada en Quimica Industrial Done 1           ggcisterna@gmail.com\n",
      "1     sanchogabriela@hotmail.com\n",
      "1         ecalamos@argentina.com\n",
      "4         conghos@hotmail.com.ar\n",
      "5    marianonicola1975@gmail.com\n",
      "                ...             \n",
      "2         julian.dorna@aecom.com\n",
      "3         mv_morales@hotmail.com\n",
      "1        paulababaylac@gmail.com\n",
      "1     MCHIAVARINO@INDUSER.COM.AR\n",
      "2          lauria.leti@gmail.com\n",
      "Length: 679, dtype: object\n"
     ]
    },
    {
     "name": "stderr",
     "output_type": "stream",
     "text": [
      "\n",
      " 58%|█████▊    | 222/384 [47:50<20:16,  7.51s/it]\u001b[A"
     ]
    },
    {
     "name": "stdout",
     "output_type": "stream",
     "text": [
      "Licenciada en Química y Tecnologia Ambienta Done 1           ggcisterna@gmail.com\n",
      "1     sanchogabriela@hotmail.com\n",
      "1         ecalamos@argentina.com\n",
      "4         conghos@hotmail.com.ar\n",
      "5    marianonicola1975@gmail.com\n",
      "                ...             \n",
      "2         julian.dorna@aecom.com\n",
      "3         mv_morales@hotmail.com\n",
      "1        paulababaylac@gmail.com\n",
      "1     MCHIAVARINO@INDUSER.COM.AR\n",
      "2          lauria.leti@gmail.com\n",
      "Length: 679, dtype: object\n"
     ]
    },
    {
     "name": "stderr",
     "output_type": "stream",
     "text": [
      "\n",
      " 58%|█████▊    | 223/384 [47:57<19:42,  7.34s/it]\u001b[A"
     ]
    },
    {
     "name": "stdout",
     "output_type": "stream",
     "text": [
      "Licenciada en Relaciones Industriales Done 1           ggcisterna@gmail.com\n",
      "1     sanchogabriela@hotmail.com\n",
      "1         ecalamos@argentina.com\n",
      "4         conghos@hotmail.com.ar\n",
      "5    marianonicola1975@gmail.com\n",
      "                ...             \n",
      "2         julian.dorna@aecom.com\n",
      "3         mv_morales@hotmail.com\n",
      "1        paulababaylac@gmail.com\n",
      "1     MCHIAVARINO@INDUSER.COM.AR\n",
      "2          lauria.leti@gmail.com\n",
      "Length: 679, dtype: object\n"
     ]
    },
    {
     "name": "stderr",
     "output_type": "stream",
     "text": [
      "\n",
      " 58%|█████▊    | 224/384 [48:04<19:07,  7.17s/it]\u001b[A"
     ]
    },
    {
     "name": "stdout",
     "output_type": "stream",
     "text": [
      "Licenciada en Tecnología de los alimentos Done 1           ggcisterna@gmail.com\n",
      "1     sanchogabriela@hotmail.com\n",
      "1         ecalamos@argentina.com\n",
      "4         conghos@hotmail.com.ar\n",
      "5    marianonicola1975@gmail.com\n",
      "                ...             \n",
      "3         mv_morales@hotmail.com\n",
      "1        paulababaylac@gmail.com\n",
      "1     MCHIAVARINO@INDUSER.COM.AR\n",
      "2          lauria.leti@gmail.com\n",
      "1    marianabistoletti@gmail.com\n",
      "Length: 680, dtype: object\n"
     ]
    },
    {
     "name": "stderr",
     "output_type": "stream",
     "text": [
      "\n",
      " 59%|█████▊    | 225/384 [48:11<19:25,  7.33s/it]\u001b[A"
     ]
    },
    {
     "name": "stdout",
     "output_type": "stream",
     "text": [
      "Licenciada en Tecnología Industrial de los Aliment Done 1           ggcisterna@gmail.com\n",
      "1     sanchogabriela@hotmail.com\n",
      "1         ecalamos@argentina.com\n",
      "4         conghos@hotmail.com.ar\n",
      "5    marianonicola1975@gmail.com\n",
      "                ...             \n",
      "3         mv_morales@hotmail.com\n",
      "1        paulababaylac@gmail.com\n",
      "1     MCHIAVARINO@INDUSER.COM.AR\n",
      "2          lauria.leti@gmail.com\n",
      "1    marianabistoletti@gmail.com\n",
      "Length: 680, dtype: object\n"
     ]
    },
    {
     "name": "stderr",
     "output_type": "stream",
     "text": [
      "\n",
      " 59%|█████▉    | 226/384 [48:18<19:01,  7.23s/it]\u001b[A"
     ]
    },
    {
     "name": "stdout",
     "output_type": "stream",
     "text": [
      "licenciada en turismo Done 1           ggcisterna@gmail.com\n",
      "1     sanchogabriela@hotmail.com\n",
      "1         ecalamos@argentina.com\n",
      "4         conghos@hotmail.com.ar\n",
      "5    marianonicola1975@gmail.com\n",
      "                ...             \n",
      "3         mv_morales@hotmail.com\n",
      "1        paulababaylac@gmail.com\n",
      "1     MCHIAVARINO@INDUSER.COM.AR\n",
      "2          lauria.leti@gmail.com\n",
      "1    marianabistoletti@gmail.com\n",
      "Length: 680, dtype: object\n"
     ]
    },
    {
     "name": "stderr",
     "output_type": "stream",
     "text": [
      "\n",
      " 59%|█████▉    | 227/384 [48:25<18:45,  7.17s/it]\u001b[A"
     ]
    },
    {
     "name": "stdout",
     "output_type": "stream",
     "text": [
      "Licenciada Oceanografía Orientación Química Marina Done 1           ggcisterna@gmail.com\n",
      "1     sanchogabriela@hotmail.com\n",
      "1         ecalamos@argentina.com\n",
      "4         conghos@hotmail.com.ar\n",
      "5    marianonicola1975@gmail.com\n",
      "                ...             \n",
      "3         mv_morales@hotmail.com\n",
      "1        paulababaylac@gmail.com\n",
      "1     MCHIAVARINO@INDUSER.COM.AR\n",
      "2          lauria.leti@gmail.com\n",
      "1    marianabistoletti@gmail.com\n",
      "Length: 680, dtype: object\n"
     ]
    },
    {
     "name": "stderr",
     "output_type": "stream",
     "text": [
      "\n",
      " 59%|█████▉    | 228/384 [48:32<18:27,  7.10s/it]\u001b[A"
     ]
    },
    {
     "name": "stdout",
     "output_type": "stream",
     "text": [
      "Licenciado en Administración Agraria Done 1           ggcisterna@gmail.com\n",
      "1     sanchogabriela@hotmail.com\n",
      "1         ecalamos@argentina.com\n",
      "4         conghos@hotmail.com.ar\n",
      "5    marianonicola1975@gmail.com\n",
      "                ...             \n",
      "3         mv_morales@hotmail.com\n",
      "1        paulababaylac@gmail.com\n",
      "1     MCHIAVARINO@INDUSER.COM.AR\n",
      "2          lauria.leti@gmail.com\n",
      "1    marianabistoletti@gmail.com\n",
      "Length: 680, dtype: object\n"
     ]
    },
    {
     "name": "stderr",
     "output_type": "stream",
     "text": [
      "\n",
      " 60%|█████▉    | 229/384 [48:40<18:33,  7.19s/it]\u001b[A"
     ]
    },
    {
     "name": "stdout",
     "output_type": "stream",
     "text": [
      "LICENCIADO EN ADMINISTRACION DE EMPRESAS. Done 1              ggcisterna@gmail.com\n",
      "1        sanchogabriela@hotmail.com\n",
      "1            ecalamos@argentina.com\n",
      "4            conghos@hotmail.com.ar\n",
      "5       marianonicola1975@gmail.com\n",
      "                  ...              \n",
      "1           paulababaylac@gmail.com\n",
      "1        MCHIAVARINO@INDUSER.COM.AR\n",
      "2             lauria.leti@gmail.com\n",
      "1       marianabistoletti@gmail.com\n",
      "1    fernando.santoro@ecotec.com.ar\n",
      "Length: 681, dtype: object\n"
     ]
    },
    {
     "name": "stderr",
     "output_type": "stream",
     "text": [
      "\n",
      " 60%|█████▉    | 230/384 [48:47<18:12,  7.09s/it]\u001b[A"
     ]
    },
    {
     "name": "stdout",
     "output_type": "stream",
     "text": [
      "Licenciado en Analisis de Sistemas Done 1              ggcisterna@gmail.com\n",
      "1        sanchogabriela@hotmail.com\n",
      "1            ecalamos@argentina.com\n",
      "4            conghos@hotmail.com.ar\n",
      "5       marianonicola1975@gmail.com\n",
      "                  ...              \n",
      "1           paulababaylac@gmail.com\n",
      "1        MCHIAVARINO@INDUSER.COM.AR\n",
      "2             lauria.leti@gmail.com\n",
      "1       marianabistoletti@gmail.com\n",
      "1    fernando.santoro@ecotec.com.ar\n",
      "Length: 681, dtype: object\n"
     ]
    },
    {
     "name": "stderr",
     "output_type": "stream",
     "text": [
      "\n",
      " 60%|██████    | 231/384 [48:55<18:46,  7.36s/it]\u001b[A"
     ]
    },
    {
     "name": "stdout",
     "output_type": "stream",
     "text": [
      "Licenciado en Antropologia Done 1              ggcisterna@gmail.com\n",
      "1        sanchogabriela@hotmail.com\n",
      "1            ecalamos@argentina.com\n",
      "4            conghos@hotmail.com.ar\n",
      "5       marianonicola1975@gmail.com\n",
      "                  ...              \n",
      "1           paulababaylac@gmail.com\n",
      "1        MCHIAVARINO@INDUSER.COM.AR\n",
      "2             lauria.leti@gmail.com\n",
      "1       marianabistoletti@gmail.com\n",
      "1    fernando.santoro@ecotec.com.ar\n",
      "Length: 681, dtype: object\n"
     ]
    },
    {
     "name": "stderr",
     "output_type": "stream",
     "text": [
      "\n",
      " 60%|██████    | 232/384 [49:02<18:38,  7.36s/it]\u001b[A"
     ]
    },
    {
     "name": "stdout",
     "output_type": "stream",
     "text": [
      "Licenciado en Aprovechamiento de Recursos Naturale Done 1              ggcisterna@gmail.com\n",
      "1        sanchogabriela@hotmail.com\n",
      "1            ecalamos@argentina.com\n",
      "4            conghos@hotmail.com.ar\n",
      "5       marianonicola1975@gmail.com\n",
      "                  ...              \n",
      "1           paulababaylac@gmail.com\n",
      "1        MCHIAVARINO@INDUSER.COM.AR\n",
      "2             lauria.leti@gmail.com\n",
      "1       marianabistoletti@gmail.com\n",
      "1    fernando.santoro@ecotec.com.ar\n",
      "Length: 681, dtype: object\n"
     ]
    },
    {
     "name": "stderr",
     "output_type": "stream",
     "text": [
      "\n",
      " 61%|██████    | 233/384 [49:14<22:20,  8.88s/it]\u001b[A"
     ]
    },
    {
     "name": "stdout",
     "output_type": "stream",
     "text": [
      "Licenciado en Biologia Done 1              ggcisterna@gmail.com\n",
      "1        sanchogabriela@hotmail.com\n",
      "1            ecalamos@argentina.com\n",
      "4            conghos@hotmail.com.ar\n",
      "5       marianonicola1975@gmail.com\n",
      "                  ...              \n",
      "1        MCHIAVARINO@INDUSER.COM.AR\n",
      "2             lauria.leti@gmail.com\n",
      "1       marianabistoletti@gmail.com\n",
      "1    fernando.santoro@ecotec.com.ar\n",
      "1           cottialegre@hidroar.com\n",
      "Length: 682, dtype: object\n"
     ]
    },
    {
     "name": "stderr",
     "output_type": "stream",
     "text": [
      "\n",
      " 61%|██████    | 234/384 [49:21<20:39,  8.26s/it]\u001b[A"
     ]
    },
    {
     "name": "stdout",
     "output_type": "stream",
     "text": [
      "LICENCIADO EN BIOLOGIA or zoologia Done 1              ggcisterna@gmail.com\n",
      "1        sanchogabriela@hotmail.com\n",
      "1            ecalamos@argentina.com\n",
      "4            conghos@hotmail.com.ar\n",
      "5       marianonicola1975@gmail.com\n",
      "                  ...              \n",
      "1        MCHIAVARINO@INDUSER.COM.AR\n",
      "2             lauria.leti@gmail.com\n",
      "1       marianabistoletti@gmail.com\n",
      "1    fernando.santoro@ecotec.com.ar\n",
      "1           cottialegre@hidroar.com\n",
      "Length: 682, dtype: object\n"
     ]
    },
    {
     "name": "stderr",
     "output_type": "stream",
     "text": [
      "\n",
      " 61%|██████    | 235/384 [49:28<19:42,  7.93s/it]\u001b[A"
     ]
    },
    {
     "name": "stdout",
     "output_type": "stream",
     "text": [
      "LICENCIADO EN BIOLOGIA OR. ECOLOGIA Done 1              ggcisterna@gmail.com\n",
      "1        sanchogabriela@hotmail.com\n",
      "1            ecalamos@argentina.com\n",
      "4            conghos@hotmail.com.ar\n",
      "5       marianonicola1975@gmail.com\n",
      "                  ...              \n",
      "1        MCHIAVARINO@INDUSER.COM.AR\n",
      "2             lauria.leti@gmail.com\n",
      "1       marianabistoletti@gmail.com\n",
      "1    fernando.santoro@ecotec.com.ar\n",
      "1           cottialegre@hidroar.com\n",
      "Length: 682, dtype: object\n"
     ]
    },
    {
     "name": "stderr",
     "output_type": "stream",
     "text": [
      "\n",
      " 61%|██████▏   | 236/384 [49:34<17:38,  7.15s/it]\u001b[A"
     ]
    },
    {
     "name": "stdout",
     "output_type": "stream",
     "text": [
      "LICENCIADO EN BIOLOGIA OR. ECOLOGICA Done 1              ggcisterna@gmail.com\n",
      "1        sanchogabriela@hotmail.com\n",
      "1            ecalamos@argentina.com\n",
      "4            conghos@hotmail.com.ar\n",
      "5       marianonicola1975@gmail.com\n",
      "                  ...              \n",
      "1        MCHIAVARINO@INDUSER.COM.AR\n",
      "2             lauria.leti@gmail.com\n",
      "1       marianabistoletti@gmail.com\n",
      "1    fernando.santoro@ecotec.com.ar\n",
      "1           cottialegre@hidroar.com\n",
      "Length: 682, dtype: object\n"
     ]
    },
    {
     "name": "stderr",
     "output_type": "stream",
     "text": [
      "\n",
      " 62%|██████▏   | 237/384 [49:40<17:00,  6.94s/it]\u001b[A"
     ]
    },
    {
     "name": "stdout",
     "output_type": "stream",
     "text": [
      "Licenciado en Biología or. Zoologia  Done 1              ggcisterna@gmail.com\n",
      "1        sanchogabriela@hotmail.com\n",
      "1            ecalamos@argentina.com\n",
      "4            conghos@hotmail.com.ar\n",
      "5       marianonicola1975@gmail.com\n",
      "                  ...              \n",
      "1        MCHIAVARINO@INDUSER.COM.AR\n",
      "2             lauria.leti@gmail.com\n",
      "1       marianabistoletti@gmail.com\n",
      "1    fernando.santoro@ecotec.com.ar\n",
      "1           cottialegre@hidroar.com\n",
      "Length: 682, dtype: object\n"
     ]
    },
    {
     "name": "stderr",
     "output_type": "stream",
     "text": [
      "\n",
      " 62%|██████▏   | 238/384 [49:51<19:44,  8.12s/it]\u001b[A"
     ]
    },
    {
     "name": "stdout",
     "output_type": "stream",
     "text": [
      "Licenciado en Bioquímica Done 1              ggcisterna@gmail.com\n",
      "1        sanchogabriela@hotmail.com\n",
      "1            ecalamos@argentina.com\n",
      "4            conghos@hotmail.com.ar\n",
      "5       marianonicola1975@gmail.com\n",
      "                  ...              \n",
      "1        MCHIAVARINO@INDUSER.COM.AR\n",
      "2             lauria.leti@gmail.com\n",
      "1       marianabistoletti@gmail.com\n",
      "1    fernando.santoro@ecotec.com.ar\n",
      "1           cottialegre@hidroar.com\n",
      "Length: 682, dtype: object\n"
     ]
    },
    {
     "name": "stderr",
     "output_type": "stream",
     "text": [
      "\n",
      " 62%|██████▏   | 239/384 [50:00<19:58,  8.26s/it]\u001b[A"
     ]
    },
    {
     "name": "stdout",
     "output_type": "stream",
     "text": [
      "LICENCIADO EN BIOTECNOLOGIA Done 1              ggcisterna@gmail.com\n",
      "1        sanchogabriela@hotmail.com\n",
      "1            ecalamos@argentina.com\n",
      "4            conghos@hotmail.com.ar\n",
      "5       marianonicola1975@gmail.com\n",
      "                  ...              \n",
      "2             lauria.leti@gmail.com\n",
      "1       marianabistoletti@gmail.com\n",
      "1    fernando.santoro@ecotec.com.ar\n",
      "1           cottialegre@hidroar.com\n",
      "1            tavaresadn@hotmail.com\n",
      "Length: 683, dtype: object\n"
     ]
    },
    {
     "name": "stderr",
     "output_type": "stream",
     "text": [
      "\n",
      " 62%|██████▎   | 240/384 [50:14<24:16, 10.12s/it]\u001b[A"
     ]
    },
    {
     "name": "stdout",
     "output_type": "stream",
     "text": [
      "Licenciado en Ciencias Agrarias Done 1              ggcisterna@gmail.com\n",
      "1        sanchogabriela@hotmail.com\n",
      "1            ecalamos@argentina.com\n",
      "4            conghos@hotmail.com.ar\n",
      "5       marianonicola1975@gmail.com\n",
      "                  ...              \n",
      "1       marianabistoletti@gmail.com\n",
      "1    fernando.santoro@ecotec.com.ar\n",
      "1           cottialegre@hidroar.com\n",
      "1            tavaresadn@hotmail.com\n",
      "1        lic.marielaotero@gmail.com\n",
      "Length: 684, dtype: object\n"
     ]
    },
    {
     "name": "stderr",
     "output_type": "stream",
     "text": [
      "\n",
      " 63%|██████▎   | 241/384 [50:42<36:47, 15.44s/it]\u001b[A"
     ]
    },
    {
     "name": "stdout",
     "output_type": "stream",
     "text": [
      "Licenciado en Ciencias Ambientales Done 1            ggcisterna@gmail.com\n",
      "1      sanchogabriela@hotmail.com\n",
      "1          ecalamos@argentina.com\n",
      "4          conghos@hotmail.com.ar\n",
      "5     marianonicola1975@gmail.com\n",
      "                 ...             \n",
      "9       lombardioscar49@gmail.com\n",
      "10    claralopezkraus@vert.com.ar\n",
      "11     pinero.florencia@gmail.com\n",
      "12        marielsofandi@gmail.com\n",
      "13      solthomas@fibertel.com.ar\n",
      "Length: 697, dtype: object\n"
     ]
    },
    {
     "name": "stderr",
     "output_type": "stream",
     "text": [
      "\n",
      " 63%|██████▎   | 242/384 [50:51<32:02, 13.54s/it]\u001b[A"
     ]
    },
    {
     "name": "stdout",
     "output_type": "stream",
     "text": [
      "Licenciado en Ciencias Antropológicas Done 1            ggcisterna@gmail.com\n",
      "1      sanchogabriela@hotmail.com\n",
      "1          ecalamos@argentina.com\n",
      "4          conghos@hotmail.com.ar\n",
      "5     marianonicola1975@gmail.com\n",
      "                 ...             \n",
      "9       lombardioscar49@gmail.com\n",
      "10    claralopezkraus@vert.com.ar\n",
      "11     pinero.florencia@gmail.com\n",
      "12        marielsofandi@gmail.com\n",
      "13      solthomas@fibertel.com.ar\n",
      "Length: 697, dtype: object\n"
     ]
    },
    {
     "name": "stderr",
     "output_type": "stream",
     "text": [
      "\n",
      " 63%|██████▎   | 243/384 [51:08<34:35, 14.72s/it]\u001b[A"
     ]
    },
    {
     "name": "stdout",
     "output_type": "stream",
     "text": [
      "Licenciado en Ciencias Biologicas Done 1                                 ggcisterna@gmail.com\n",
      "1                           sanchogabriela@hotmail.com\n",
      "1                               ecalamos@argentina.com\n",
      "4                               conghos@hotmail.com.ar\n",
      "5                          marianonicola1975@gmail.com\n",
      "                           ...                        \n",
      "4    mgiaccardi@terramoena.com.ar -- maricelgia4@gm...\n",
      "5                                fabian@gzimage.com.ar\n",
      "6                                 lahaye@serman.com.ar\n",
      "7                              stellamolteni@gmail.com\n",
      "8                              mlmcadenas@yahoo.com.ar\n",
      "Length: 704, dtype: object\n"
     ]
    },
    {
     "name": "stderr",
     "output_type": "stream",
     "text": [
      "\n",
      " 64%|██████▎   | 244/384 [51:19<31:10, 13.36s/it]\u001b[A"
     ]
    },
    {
     "name": "stdout",
     "output_type": "stream",
     "text": [
      "LICENCIADO EN CIENCIAS DEL AMBIENTE Done 1           ggcisterna@gmail.com\n",
      "1     sanchogabriela@hotmail.com\n",
      "1         ecalamos@argentina.com\n",
      "4         conghos@hotmail.com.ar\n",
      "5    marianonicola1975@gmail.com\n",
      "                ...             \n",
      "7        stellamolteni@gmail.com\n",
      "8        mlmcadenas@yahoo.com.ar\n",
      "1         OAHLEFELDT@ACERBAG.COM\n",
      "2          gu.gabriela@gmail.com\n",
      "3         nicowarrenyahoo.com.ar\n",
      "Length: 707, dtype: object\n"
     ]
    },
    {
     "name": "stderr",
     "output_type": "stream",
     "text": [
      "\n",
      " 64%|██████▍   | 245/384 [51:27<27:17, 11.78s/it]\u001b[A"
     ]
    },
    {
     "name": "stdout",
     "output_type": "stream",
     "text": [
      "Licenciado en Ciencias Fisicas Done 1           ggcisterna@gmail.com\n",
      "1     sanchogabriela@hotmail.com\n",
      "1         ecalamos@argentina.com\n",
      "4         conghos@hotmail.com.ar\n",
      "5    marianonicola1975@gmail.com\n",
      "                ...             \n",
      "7        stellamolteni@gmail.com\n",
      "8        mlmcadenas@yahoo.com.ar\n",
      "1         OAHLEFELDT@ACERBAG.COM\n",
      "2          gu.gabriela@gmail.com\n",
      "3         nicowarrenyahoo.com.ar\n",
      "Length: 707, dtype: object\n"
     ]
    },
    {
     "name": "stderr",
     "output_type": "stream",
     "text": [
      "\n",
      " 64%|██████▍   | 246/384 [51:37<26:02, 11.32s/it]\u001b[A"
     ]
    },
    {
     "name": "stdout",
     "output_type": "stream",
     "text": [
      "LICENCIADO EN CIENCIAS GEOLOGICAS Done 1           ggcisterna@gmail.com\n",
      "1     sanchogabriela@hotmail.com\n",
      "1         ecalamos@argentina.com\n",
      "4         conghos@hotmail.com.ar\n",
      "5    marianonicola1975@gmail.com\n",
      "                ...             \n",
      "8        mlmcadenas@yahoo.com.ar\n",
      "1         OAHLEFELDT@ACERBAG.COM\n",
      "2          gu.gabriela@gmail.com\n",
      "3         nicowarrenyahoo.com.ar\n",
      "1      emilianobeiza@hotmail.com\n",
      "Length: 708, dtype: object\n"
     ]
    },
    {
     "name": "stderr",
     "output_type": "stream",
     "text": [
      "\n",
      " 64%|██████▍   | 247/384 [51:44<22:55, 10.04s/it]\u001b[A"
     ]
    },
    {
     "name": "stdout",
     "output_type": "stream",
     "text": [
      "Licenciado en Ciencias Oceonografia Done 1           ggcisterna@gmail.com\n",
      "1     sanchogabriela@hotmail.com\n",
      "1         ecalamos@argentina.com\n",
      "4         conghos@hotmail.com.ar\n",
      "5    marianonicola1975@gmail.com\n",
      "                ...             \n",
      "8        mlmcadenas@yahoo.com.ar\n",
      "1         OAHLEFELDT@ACERBAG.COM\n",
      "2          gu.gabriela@gmail.com\n",
      "3         nicowarrenyahoo.com.ar\n",
      "1      emilianobeiza@hotmail.com\n",
      "Length: 708, dtype: object\n"
     ]
    },
    {
     "name": "stderr",
     "output_type": "stream",
     "text": [
      "\n",
      " 65%|██████▍   | 248/384 [51:51<20:40,  9.12s/it]\u001b[A"
     ]
    },
    {
     "name": "stdout",
     "output_type": "stream",
     "text": [
      "LICENCIADO EN COMUNICACION SOCIAL  Done 1           ggcisterna@gmail.com\n",
      "1     sanchogabriela@hotmail.com\n",
      "1         ecalamos@argentina.com\n",
      "4         conghos@hotmail.com.ar\n",
      "5    marianonicola1975@gmail.com\n",
      "                ...             \n",
      "8        mlmcadenas@yahoo.com.ar\n",
      "1         OAHLEFELDT@ACERBAG.COM\n",
      "2          gu.gabriela@gmail.com\n",
      "3         nicowarrenyahoo.com.ar\n",
      "1      emilianobeiza@hotmail.com\n",
      "Length: 708, dtype: object\n"
     ]
    },
    {
     "name": "stderr",
     "output_type": "stream",
     "text": [
      "\n",
      " 65%|██████▍   | 249/384 [51:58<18:50,  8.37s/it]\u001b[A"
     ]
    },
    {
     "name": "stdout",
     "output_type": "stream",
     "text": [
      "Licenciado en Comunicación Social Done 1           ggcisterna@gmail.com\n",
      "1     sanchogabriela@hotmail.com\n",
      "1         ecalamos@argentina.com\n",
      "4         conghos@hotmail.com.ar\n",
      "5    marianonicola1975@gmail.com\n",
      "                ...             \n",
      "8        mlmcadenas@yahoo.com.ar\n",
      "1         OAHLEFELDT@ACERBAG.COM\n",
      "2          gu.gabriela@gmail.com\n",
      "3         nicowarrenyahoo.com.ar\n",
      "1      emilianobeiza@hotmail.com\n",
      "Length: 708, dtype: object\n"
     ]
    },
    {
     "name": "stderr",
     "output_type": "stream",
     "text": [
      "\n",
      " 65%|██████▌   | 250/384 [52:05<17:50,  7.99s/it]\u001b[A"
     ]
    },
    {
     "name": "stdout",
     "output_type": "stream",
     "text": [
      "LICENCIADO EN CRIMINALISTA Done 1           ggcisterna@gmail.com\n",
      "1     sanchogabriela@hotmail.com\n",
      "1         ecalamos@argentina.com\n",
      "4         conghos@hotmail.com.ar\n",
      "5    marianonicola1975@gmail.com\n",
      "                ...             \n",
      "8        mlmcadenas@yahoo.com.ar\n",
      "1         OAHLEFELDT@ACERBAG.COM\n",
      "2          gu.gabriela@gmail.com\n",
      "3         nicowarrenyahoo.com.ar\n",
      "1      emilianobeiza@hotmail.com\n",
      "Length: 708, dtype: object\n"
     ]
    },
    {
     "name": "stderr",
     "output_type": "stream",
     "text": [
      "\n",
      " 65%|██████▌   | 251/384 [52:22<23:45, 10.72s/it]\u001b[A"
     ]
    },
    {
     "name": "stdout",
     "output_type": "stream",
     "text": [
      "Licenciado en Cs.Quimicas Done 1             ggcisterna@gmail.com\n",
      "1       sanchogabriela@hotmail.com\n",
      "1           ecalamos@argentina.com\n",
      "4           conghos@hotmail.com.ar\n",
      "5      marianonicola1975@gmail.com\n",
      "                 ...              \n",
      "4          muestreo@induser.com.ar\n",
      "5    leo.fernandez@burkenet.com.ar\n",
      "6        fabianjaruf@speedy.com.ar\n",
      "7                akuriss@gmail.com\n",
      "8            fmontecchia@gmail.com\n",
      "Length: 716, dtype: object\n"
     ]
    },
    {
     "name": "stderr",
     "output_type": "stream",
     "text": [
      "\n",
      " 66%|██████▌   | 252/384 [52:31<22:32, 10.24s/it]\u001b[A"
     ]
    },
    {
     "name": "stdout",
     "output_type": "stream",
     "text": [
      "LICENCIADO EN DIAG. Y GESTION AMBIENTAL Done 1           ggcisterna@gmail.com\n",
      "1     sanchogabriela@hotmail.com\n",
      "1         ecalamos@argentina.com\n",
      "4         conghos@hotmail.com.ar\n",
      "5    marianonicola1975@gmail.com\n",
      "                ...             \n",
      "6      fabianjaruf@speedy.com.ar\n",
      "7              akuriss@gmail.com\n",
      "8          fmontecchia@gmail.com\n",
      "1      matiasdemartino@gmail.com\n",
      "2         rafaelpeucon@gmail.com\n",
      "Length: 718, dtype: object\n"
     ]
    },
    {
     "name": "stderr",
     "output_type": "stream",
     "text": [
      "\n",
      " 66%|██████▌   | 253/384 [52:46<25:38, 11.74s/it]\u001b[A"
     ]
    },
    {
     "name": "stdout",
     "output_type": "stream",
     "text": [
      "Licenciado en Diagnostico y Gestion Ambiental Done 1              ggcisterna@gmail.com\n",
      "1        sanchogabriela@hotmail.com\n",
      "1            ecalamos@argentina.com\n",
      "4            conghos@hotmail.com.ar\n",
      "5       marianonicola1975@gmail.com\n",
      "                  ...              \n",
      "1          mar_tincho10@hotmail.com\n",
      "2         soledadcorrieri@gmail.com\n",
      "3          adriana.aldiaz@gmail.com\n",
      "4           beatrizsosa33@gmail.com\n",
      "5    carolina_verellen@yahoo.com.ar\n",
      "Length: 723, dtype: object\n"
     ]
    },
    {
     "name": "stderr",
     "output_type": "stream",
     "text": [
      "\n",
      " 66%|██████▌   | 254/384 [52:54<22:47, 10.52s/it]\u001b[A"
     ]
    },
    {
     "name": "stdout",
     "output_type": "stream",
     "text": [
      "Licenciado en Diagnóstico y Gestión Ambiental Done 1              ggcisterna@gmail.com\n",
      "1        sanchogabriela@hotmail.com\n",
      "1            ecalamos@argentina.com\n",
      "4            conghos@hotmail.com.ar\n",
      "5       marianonicola1975@gmail.com\n",
      "                  ...              \n",
      "2         soledadcorrieri@gmail.com\n",
      "3          adriana.aldiaz@gmail.com\n",
      "4           beatrizsosa33@gmail.com\n",
      "5    carolina_verellen@yahoo.com.ar\n",
      "1             niconovillo@gmail.com\n",
      "Length: 724, dtype: object\n"
     ]
    },
    {
     "name": "stderr",
     "output_type": "stream",
     "text": [
      "\n",
      " 66%|██████▋   | 255/384 [53:01<20:19,  9.45s/it]\u001b[A"
     ]
    },
    {
     "name": "stdout",
     "output_type": "stream",
     "text": [
      "Licenciado en Ecología Done 1              ggcisterna@gmail.com\n",
      "1        sanchogabriela@hotmail.com\n",
      "1            ecalamos@argentina.com\n",
      "4            conghos@hotmail.com.ar\n",
      "5       marianonicola1975@gmail.com\n",
      "                  ...              \n",
      "2         soledadcorrieri@gmail.com\n",
      "3          adriana.aldiaz@gmail.com\n",
      "4           beatrizsosa33@gmail.com\n",
      "5    carolina_verellen@yahoo.com.ar\n",
      "1             niconovillo@gmail.com\n",
      "Length: 724, dtype: object\n"
     ]
    },
    {
     "name": "stderr",
     "output_type": "stream",
     "text": [
      "\n",
      " 67%|██████▋   | 256/384 [53:08<18:38,  8.74s/it]\u001b[A"
     ]
    },
    {
     "name": "stdout",
     "output_type": "stream",
     "text": [
      "Licenciado en Ecologia Urbana Done 1              ggcisterna@gmail.com\n",
      "1        sanchogabriela@hotmail.com\n",
      "1            ecalamos@argentina.com\n",
      "4            conghos@hotmail.com.ar\n",
      "5       marianonicola1975@gmail.com\n",
      "                  ...              \n",
      "2         soledadcorrieri@gmail.com\n",
      "3          adriana.aldiaz@gmail.com\n",
      "4           beatrizsosa33@gmail.com\n",
      "5    carolina_verellen@yahoo.com.ar\n",
      "1             niconovillo@gmail.com\n",
      "Length: 724, dtype: object\n"
     ]
    },
    {
     "name": "stderr",
     "output_type": "stream",
     "text": [
      "\n",
      " 67%|██████▋   | 257/384 [53:17<18:36,  8.79s/it]\u001b[A"
     ]
    },
    {
     "name": "stdout",
     "output_type": "stream",
     "text": [
      "Licenciado en Economía Done 1              ggcisterna@gmail.com\n",
      "1        sanchogabriela@hotmail.com\n",
      "1            ecalamos@argentina.com\n",
      "4            conghos@hotmail.com.ar\n",
      "5       marianonicola1975@gmail.com\n",
      "                  ...              \n",
      "2         soledadcorrieri@gmail.com\n",
      "3          adriana.aldiaz@gmail.com\n",
      "4           beatrizsosa33@gmail.com\n",
      "5    carolina_verellen@yahoo.com.ar\n",
      "1             niconovillo@gmail.com\n",
      "Length: 724, dtype: object\n"
     ]
    },
    {
     "name": "stderr",
     "output_type": "stream",
     "text": [
      "\n",
      " 67%|██████▋   | 258/384 [53:24<17:26,  8.30s/it]\u001b[A"
     ]
    },
    {
     "name": "stdout",
     "output_type": "stream",
     "text": [
      "Licenciado en Economia Agropecuaria Done 1              ggcisterna@gmail.com\n",
      "1        sanchogabriela@hotmail.com\n",
      "1            ecalamos@argentina.com\n",
      "4            conghos@hotmail.com.ar\n",
      "5       marianonicola1975@gmail.com\n",
      "                  ...              \n",
      "2         soledadcorrieri@gmail.com\n",
      "3          adriana.aldiaz@gmail.com\n",
      "4           beatrizsosa33@gmail.com\n",
      "5    carolina_verellen@yahoo.com.ar\n",
      "1             niconovillo@gmail.com\n",
      "Length: 724, dtype: object\n"
     ]
    },
    {
     "name": "stderr",
     "output_type": "stream",
     "text": [
      "\n",
      " 67%|██████▋   | 259/384 [53:31<16:39,  7.99s/it]\u001b[A"
     ]
    },
    {
     "name": "stdout",
     "output_type": "stream",
     "text": [
      "Licenciado en Edafología Done 1              ggcisterna@gmail.com\n",
      "1        sanchogabriela@hotmail.com\n",
      "1            ecalamos@argentina.com\n",
      "4            conghos@hotmail.com.ar\n",
      "5       marianonicola1975@gmail.com\n",
      "                  ...              \n",
      "2         soledadcorrieri@gmail.com\n",
      "3          adriana.aldiaz@gmail.com\n",
      "4           beatrizsosa33@gmail.com\n",
      "5    carolina_verellen@yahoo.com.ar\n",
      "1             niconovillo@gmail.com\n",
      "Length: 724, dtype: object\n"
     ]
    },
    {
     "name": "stderr",
     "output_type": "stream",
     "text": [
      "\n",
      " 68%|██████▊   | 260/384 [53:38<15:50,  7.67s/it]\u001b[A"
     ]
    },
    {
     "name": "stdout",
     "output_type": "stream",
     "text": [
      "Licenciado en Enseñanza de ciencias del ambiente Done 1              ggcisterna@gmail.com\n",
      "1        sanchogabriela@hotmail.com\n",
      "1            ecalamos@argentina.com\n",
      "4            conghos@hotmail.com.ar\n",
      "5       marianonicola1975@gmail.com\n",
      "                  ...              \n",
      "2         soledadcorrieri@gmail.com\n",
      "3          adriana.aldiaz@gmail.com\n",
      "4           beatrizsosa33@gmail.com\n",
      "5    carolina_verellen@yahoo.com.ar\n",
      "1             niconovillo@gmail.com\n",
      "Length: 724, dtype: object\n"
     ]
    },
    {
     "name": "stderr",
     "output_type": "stream",
     "text": [
      "\n",
      " 68%|██████▊   | 261/384 [53:48<17:23,  8.49s/it]\u001b[A"
     ]
    },
    {
     "name": "stdout",
     "output_type": "stream",
     "text": [
      "Licenciado en Gelogía Done 1              ggcisterna@gmail.com\n",
      "1        sanchogabriela@hotmail.com\n",
      "1            ecalamos@argentina.com\n",
      "4            conghos@hotmail.com.ar\n",
      "5       marianonicola1975@gmail.com\n",
      "                  ...              \n",
      "3          adriana.aldiaz@gmail.com\n",
      "4           beatrizsosa33@gmail.com\n",
      "5    carolina_verellen@yahoo.com.ar\n",
      "1             niconovillo@gmail.com\n",
      "1              josebedmar@gmail.com\n",
      "Length: 725, dtype: object\n"
     ]
    },
    {
     "name": "stderr",
     "output_type": "stream",
     "text": [
      "\n",
      " 68%|██████▊   | 262/384 [53:55<16:12,  7.97s/it]\u001b[A"
     ]
    },
    {
     "name": "stdout",
     "output_type": "stream",
     "text": [
      "LICENCIADO EN GEOGRAFIA Done 1              ggcisterna@gmail.com\n",
      "1        sanchogabriela@hotmail.com\n",
      "1            ecalamos@argentina.com\n",
      "4            conghos@hotmail.com.ar\n",
      "5       marianonicola1975@gmail.com\n",
      "                  ...              \n",
      "3          adriana.aldiaz@gmail.com\n",
      "4           beatrizsosa33@gmail.com\n",
      "5    carolina_verellen@yahoo.com.ar\n",
      "1             niconovillo@gmail.com\n",
      "1              josebedmar@gmail.com\n",
      "Length: 725, dtype: object\n"
     ]
    },
    {
     "name": "stderr",
     "output_type": "stream",
     "text": [
      "\n",
      " 68%|██████▊   | 263/384 [54:08<19:11,  9.52s/it]\u001b[A"
     ]
    },
    {
     "name": "stdout",
     "output_type": "stream",
     "text": [
      "Licenciado en Geografía Done 1              ggcisterna@gmail.com\n",
      "1        sanchogabriela@hotmail.com\n",
      "1            ecalamos@argentina.com\n",
      "4            conghos@hotmail.com.ar\n",
      "5       marianonicola1975@gmail.com\n",
      "                  ...              \n",
      "5    carolina_verellen@yahoo.com.ar\n",
      "1             niconovillo@gmail.com\n",
      "1              josebedmar@gmail.com\n",
      "1                dacosper@gmail.com\n",
      "2     veronicainesmartins@gmail.com\n",
      "Length: 727, dtype: object\n"
     ]
    },
    {
     "name": "stderr",
     "output_type": "stream",
     "text": [
      "\n",
      " 69%|██████▉   | 264/384 [54:16<17:58,  8.99s/it]\u001b[A"
     ]
    },
    {
     "name": "stdout",
     "output_type": "stream",
     "text": [
      "LICENCIADO EN GEOLOGIA Done 1             ggcisterna@gmail.com\n",
      "1       sanchogabriela@hotmail.com\n",
      "1           ecalamos@argentina.com\n",
      "4           conghos@hotmail.com.ar\n",
      "5      marianonicola1975@gmail.com\n",
      "                 ...              \n",
      "1            niconovillo@gmail.com\n",
      "1             josebedmar@gmail.com\n",
      "1               dacosper@gmail.com\n",
      "2    veronicainesmartins@gmail.com\n",
      "1             rmorilla@demison.com\n",
      "Length: 728, dtype: object\n"
     ]
    },
    {
     "name": "stderr",
     "output_type": "stream",
     "text": [
      "\n",
      " 69%|██████▉   | 265/384 [54:30<21:00, 10.59s/it]\u001b[A"
     ]
    },
    {
     "name": "stdout",
     "output_type": "stream",
     "text": [
      "Licenciado en Geología Done 1             ggcisterna@gmail.com\n",
      "1       sanchogabriela@hotmail.com\n",
      "1           ecalamos@argentina.com\n",
      "4           conghos@hotmail.com.ar\n",
      "5      marianonicola1975@gmail.com\n",
      "                 ...              \n",
      "2    veronicainesmartins@gmail.com\n",
      "1             rmorilla@demison.com\n",
      "1           geoerrecalde@gmail.com\n",
      "2       martin_fontelo@hotmail.com\n",
      "3     pablogiudicatte@yahoo.com.ar\n",
      "Length: 731, dtype: object\n"
     ]
    },
    {
     "name": "stderr",
     "output_type": "stream",
     "text": [
      "\n",
      " 69%|██████▉   | 266/384 [54:41<20:44, 10.55s/it]\u001b[A"
     ]
    },
    {
     "name": "stdout",
     "output_type": "stream",
     "text": [
      "Licenciado en Gerenciamiento Ambiental Done 1            ggcisterna@gmail.com\n",
      "1      sanchogabriela@hotmail.com\n",
      "1          ecalamos@argentina.com\n",
      "4          conghos@hotmail.com.ar\n",
      "5     marianonicola1975@gmail.com\n",
      "                 ...             \n",
      "1            rmorilla@demison.com\n",
      "1          geoerrecalde@gmail.com\n",
      "2      martin_fontelo@hotmail.com\n",
      "3    pablogiudicatte@yahoo.com.ar\n",
      "1          marurotolo@hotmail.com\n",
      "Length: 732, dtype: object\n"
     ]
    },
    {
     "name": "stderr",
     "output_type": "stream",
     "text": [
      "\n",
      " 70%|██████▉   | 267/384 [55:01<26:19, 13.50s/it]\u001b[A"
     ]
    },
    {
     "name": "stdout",
     "output_type": "stream",
     "text": [
      "Licenciado en Gestiòn Ambiental Done 1           ggcisterna@gmail.com\n",
      "1     sanchogabriela@hotmail.com\n",
      "1         ecalamos@argentina.com\n",
      "4         conghos@hotmail.com.ar\n",
      "5    marianonicola1975@gmail.com\n",
      "                ...             \n",
      "2        dbertoni@bahitek.com.ar\n",
      "3            marielabu@gmail.com\n",
      "4    guillermo@ghernandez.com.ar\n",
      "5            anahimusa@yahoo.com\n",
      "6     svazquez@cerronegro.com.ar\n",
      "Length: 738, dtype: object\n"
     ]
    },
    {
     "name": "stderr",
     "output_type": "stream",
     "text": [
      "\n",
      " 70%|██████▉   | 268/384 [55:18<28:04, 14.52s/it]\u001b[A"
     ]
    },
    {
     "name": "stdout",
     "output_type": "stream",
     "text": [
      "Licenciado en Gestion Ambiental Urbano Done 1                 ggcisterna@gmail.com\n",
      "1           sanchogabriela@hotmail.com\n",
      "1               ecalamos@argentina.com\n",
      "4               conghos@hotmail.com.ar\n",
      "5          marianonicola1975@gmail.com\n",
      "                   ...                \n",
      "2                  ECO_AN@YAHOO.COM.AR\n",
      "3    info.enfoquesustentable@gmail.com\n",
      "4         marianoragonese@yahoo.com.ar\n",
      "5      griselrodriguez2009@hotmail.com\n",
      "6               faviwiide@yahoo.com.ar\n",
      "Length: 744, dtype: object\n"
     ]
    },
    {
     "name": "stderr",
     "output_type": "stream",
     "text": [
      "\n",
      " 70%|███████   | 269/384 [55:25<23:39, 12.34s/it]\u001b[A"
     ]
    },
    {
     "name": "stdout",
     "output_type": "stream",
     "text": [
      "LICENCIADO EN H. Y SEG. EN EL TRAB. ESP. EN P. AMB Done 1                 ggcisterna@gmail.com\n",
      "1           sanchogabriela@hotmail.com\n",
      "1               ecalamos@argentina.com\n",
      "4               conghos@hotmail.com.ar\n",
      "5          marianonicola1975@gmail.com\n",
      "                   ...                \n",
      "3    info.enfoquesustentable@gmail.com\n",
      "4         marianoragonese@yahoo.com.ar\n",
      "5      griselrodriguez2009@hotmail.com\n",
      "6               faviwiide@yahoo.com.ar\n",
      "1          pablo_defelippi@hotmail.com\n",
      "Length: 745, dtype: object\n"
     ]
    },
    {
     "name": "stderr",
     "output_type": "stream",
     "text": [
      "\n",
      " 70%|███████   | 270/384 [57:20<1:21:38, 42.97s/it]\u001b[A"
     ]
    },
    {
     "name": "stdout",
     "output_type": "stream",
     "text": [
      "Licenciado en Higiene y Seguridad  en el Trabajo Done 1                  ggcisterna@gmail.com\n",
      "1            sanchogabriela@hotmail.com\n",
      "1                ecalamos@argentina.com\n",
      "4                conghos@hotmail.com.ar\n",
      "5           marianonicola1975@gmail.com\n",
      "                    ...                \n",
      "71      martinvinadelcampo@yahoo.com.ar\n",
      "72    alexandra_vitale2000@yahoo.com.ar\n",
      "73           gustavomariov@yahoo.com.ar\n",
      "74                 jowoicik@hotmail.com\n",
      "75         carlosfzamparolo@hotmail.com\n",
      "Length: 816, dtype: object\n"
     ]
    },
    {
     "name": "stderr",
     "output_type": "stream",
     "text": [
      "\n",
      " 71%|███████   | 271/384 [57:29<1:01:32, 32.68s/it]\u001b[A"
     ]
    },
    {
     "name": "stdout",
     "output_type": "stream",
     "text": [
      "LICENCIADO EN HIGIENE Y SEGURIDAD LABORAL Done 1             ggcisterna@gmail.com\n",
      "1       sanchogabriela@hotmail.com\n",
      "1           ecalamos@argentina.com\n",
      "4           conghos@hotmail.com.ar\n",
      "5      marianonicola1975@gmail.com\n",
      "                  ...             \n",
      "73      gustavomariov@yahoo.com.ar\n",
      "74            jowoicik@hotmail.com\n",
      "75    carlosfzamparolo@hotmail.com\n",
      "1            maurodiaz@live.com.ar\n",
      "2             hys.torres@gmail.com\n",
      "Length: 818, dtype: object\n"
     ]
    },
    {
     "name": "stderr",
     "output_type": "stream",
     "text": [
      "\n",
      " 71%|███████   | 272/384 [57:41<49:41, 26.62s/it]  \u001b[A"
     ]
    },
    {
     "name": "stdout",
     "output_type": "stream",
     "text": [
      "LICENCIADO EN INFORMACION AMBIENTAL Done 1             ggcisterna@gmail.com\n",
      "1       sanchogabriela@hotmail.com\n",
      "1           ecalamos@argentina.com\n",
      "4           conghos@hotmail.com.ar\n",
      "5      marianonicola1975@gmail.com\n",
      "                  ...             \n",
      "75    carlosfzamparolo@hotmail.com\n",
      "1            maurodiaz@live.com.ar\n",
      "2             hys.torres@gmail.com\n",
      "1         galimbertijuan@gmail.com\n",
      "2          poyomariela@hotmail.com\n",
      "Length: 820, dtype: object\n"
     ]
    },
    {
     "name": "stderr",
     "output_type": "stream",
     "text": [
      "\n",
      " 71%|███████   | 273/384 [57:52<40:36, 21.95s/it]\u001b[A"
     ]
    },
    {
     "name": "stdout",
     "output_type": "stream",
     "text": [
      "Licenciado en Informatica Ambiental Done 1           ggcisterna@gmail.com\n",
      "1     sanchogabriela@hotmail.com\n",
      "1         ecalamos@argentina.com\n",
      "4         conghos@hotmail.com.ar\n",
      "5    marianonicola1975@gmail.com\n",
      "                ...             \n",
      "1       galimbertijuan@gmail.com\n",
      "2        poyomariela@hotmail.com\n",
      "1          INFO@ACMAMBIENTAL.COM\n",
      "2           vmermoz@yahoo.com.ar\n",
      "3           noranievas@gmail.com\n",
      "Length: 823, dtype: object\n"
     ]
    },
    {
     "name": "stderr",
     "output_type": "stream",
     "text": [
      "\n",
      " 71%|███████▏  | 274/384 [57:59<32:03, 17.49s/it]\u001b[A"
     ]
    },
    {
     "name": "stdout",
     "output_type": "stream",
     "text": [
      "LICENCIADO EN ORGANIZACION INDUSTRIAL Done 1           ggcisterna@gmail.com\n",
      "1     sanchogabriela@hotmail.com\n",
      "1         ecalamos@argentina.com\n",
      "4         conghos@hotmail.com.ar\n",
      "5    marianonicola1975@gmail.com\n",
      "                ...             \n",
      "1       galimbertijuan@gmail.com\n",
      "2        poyomariela@hotmail.com\n",
      "1          INFO@ACMAMBIENTAL.COM\n",
      "2           vmermoz@yahoo.com.ar\n",
      "3           noranievas@gmail.com\n",
      "Length: 823, dtype: object\n"
     ]
    },
    {
     "name": "stderr",
     "output_type": "stream",
     "text": [
      "\n",
      " 72%|███████▏  | 275/384 [58:07<26:15, 14.45s/it]\u001b[A"
     ]
    },
    {
     "name": "stdout",
     "output_type": "stream",
     "text": [
      "Licenciado en Organizaciòn Industrial Done 1           ggcisterna@gmail.com\n",
      "1     sanchogabriela@hotmail.com\n",
      "1         ecalamos@argentina.com\n",
      "4         conghos@hotmail.com.ar\n",
      "5    marianonicola1975@gmail.com\n",
      "                ...             \n",
      "1       galimbertijuan@gmail.com\n",
      "2        poyomariela@hotmail.com\n",
      "1          INFO@ACMAMBIENTAL.COM\n",
      "2           vmermoz@yahoo.com.ar\n",
      "3           noranievas@gmail.com\n",
      "Length: 823, dtype: object\n"
     ]
    },
    {
     "name": "stderr",
     "output_type": "stream",
     "text": [
      "\n",
      " 72%|███████▏  | 276/384 [59:08<51:20, 28.52s/it]\u001b[A"
     ]
    },
    {
     "name": "stdout",
     "output_type": "stream",
     "text": [
      "Licenciado en Química Done 1               ggcisterna@gmail.com\n",
      "1         sanchogabriela@hotmail.com\n",
      "1             ecalamos@argentina.com\n",
      "4             conghos@hotmail.com.ar\n",
      "5        marianonicola1975@gmail.com\n",
      "                   ...              \n",
      "18               marem@speedy.com.ar\n",
      "20    dirtecnica@cromaquimsrl.com.ar\n",
      "21          danielrvidal@hotmail.com\n",
      "22            dapaza@fibertel.com.ar\n",
      "23     sgc@lombardiyasociados.com.ar\n",
      "Length: 843, dtype: object\n"
     ]
    },
    {
     "name": "stderr",
     "output_type": "stream",
     "text": [
      "\n",
      " 72%|███████▏  | 277/384 [59:16<39:56, 22.39s/it]\u001b[A"
     ]
    },
    {
     "name": "stdout",
     "output_type": "stream",
     "text": [
      "LICENCIADO EN QUIMICA INDUSTRIAL Done 1               ggcisterna@gmail.com\n",
      "1         sanchogabriela@hotmail.com\n",
      "1             ecalamos@argentina.com\n",
      "4             conghos@hotmail.com.ar\n",
      "5        marianonicola1975@gmail.com\n",
      "                   ...              \n",
      "20    dirtecnica@cromaquimsrl.com.ar\n",
      "21          danielrvidal@hotmail.com\n",
      "22            dapaza@fibertel.com.ar\n",
      "23     sgc@lombardiyasociados.com.ar\n",
      "1           darioborrell@hotmail.com\n",
      "Length: 844, dtype: object\n"
     ]
    },
    {
     "name": "stderr",
     "output_type": "stream",
     "text": [
      "\n",
      " 72%|███████▏  | 278/384 [59:23<31:25, 17.79s/it]\u001b[A"
     ]
    },
    {
     "name": "stdout",
     "output_type": "stream",
     "text": [
      "LICENCIADO EN RELACIONES DEL TRABAJO Done 1               ggcisterna@gmail.com\n",
      "1         sanchogabriela@hotmail.com\n",
      "1             ecalamos@argentina.com\n",
      "4             conghos@hotmail.com.ar\n",
      "5        marianonicola1975@gmail.com\n",
      "                   ...              \n",
      "20    dirtecnica@cromaquimsrl.com.ar\n",
      "21          danielrvidal@hotmail.com\n",
      "22            dapaza@fibertel.com.ar\n",
      "23     sgc@lombardiyasociados.com.ar\n",
      "1           darioborrell@hotmail.com\n",
      "Length: 844, dtype: object\n"
     ]
    },
    {
     "name": "stderr",
     "output_type": "stream",
     "text": [
      "\n",
      " 73%|███████▎  | 279/384 [59:29<25:10, 14.38s/it]\u001b[A"
     ]
    },
    {
     "name": "stdout",
     "output_type": "stream",
     "text": [
      "LICENCIADO EN SANEAMIENTO AMBIENTAL  Done 1               ggcisterna@gmail.com\n",
      "1         sanchogabriela@hotmail.com\n",
      "1             ecalamos@argentina.com\n",
      "4             conghos@hotmail.com.ar\n",
      "5        marianonicola1975@gmail.com\n",
      "                   ...              \n",
      "20    dirtecnica@cromaquimsrl.com.ar\n",
      "21          danielrvidal@hotmail.com\n",
      "22            dapaza@fibertel.com.ar\n",
      "23     sgc@lombardiyasociados.com.ar\n",
      "1           darioborrell@hotmail.com\n",
      "Length: 844, dtype: object\n"
     ]
    },
    {
     "name": "stderr",
     "output_type": "stream",
     "text": [
      "\n",
      " 73%|███████▎  | 280/384 [59:37<21:36, 12.47s/it]\u001b[A"
     ]
    },
    {
     "name": "stdout",
     "output_type": "stream",
     "text": [
      "LICENCIADO EN SANEAMIENTO Y PROTECCION AMBIENTAL Done 1               ggcisterna@gmail.com\n",
      "1         sanchogabriela@hotmail.com\n",
      "1             ecalamos@argentina.com\n",
      "4             conghos@hotmail.com.ar\n",
      "5        marianonicola1975@gmail.com\n",
      "                   ...              \n",
      "20    dirtecnica@cromaquimsrl.com.ar\n",
      "21          danielrvidal@hotmail.com\n",
      "22            dapaza@fibertel.com.ar\n",
      "23     sgc@lombardiyasociados.com.ar\n",
      "1           darioborrell@hotmail.com\n",
      "Length: 844, dtype: object\n"
     ]
    },
    {
     "name": "stderr",
     "output_type": "stream",
     "text": [
      "\n",
      " 73%|███████▎  | 281/384 [59:55<24:01, 13.99s/it]\u001b[A"
     ]
    },
    {
     "name": "stdout",
     "output_type": "stream",
     "text": [
      "Licenciado en Seguridad e Higiene en el Trabajo Done 1                ggcisterna@gmail.com\n",
      "1          sanchogabriela@hotmail.com\n",
      "1              ecalamos@argentina.com\n",
      "4              conghos@hotmail.com.ar\n",
      "5         marianonicola1975@gmail.com\n",
      "                   ...               \n",
      "6        martinez_roman01@hotmail.com\n",
      "7                mica-ana@hotmail.com\n",
      "8     DARIOHERNANROBLEDO@YAHOO.COM.AR\n",
      "9       alberto_suarez@hotmail.com.ar\n",
      "10         cristianvarela71@gmail.com\n",
      "Length: 854, dtype: object\n"
     ]
    },
    {
     "name": "stderr",
     "output_type": "stream",
     "text": [
      "\n",
      " 73%|███████▎  | 282/384 [1:00:02<20:10, 11.87s/it]\u001b[A"
     ]
    },
    {
     "name": "stdout",
     "output_type": "stream",
     "text": [
      "Licenciado en Seguridad Higiene y Control Ambienta Done 1                ggcisterna@gmail.com\n",
      "1          sanchogabriela@hotmail.com\n",
      "1              ecalamos@argentina.com\n",
      "4              conghos@hotmail.com.ar\n",
      "5         marianonicola1975@gmail.com\n",
      "                   ...               \n",
      "6        martinez_roman01@hotmail.com\n",
      "7                mica-ana@hotmail.com\n",
      "8     DARIOHERNANROBLEDO@YAHOO.COM.AR\n",
      "9       alberto_suarez@hotmail.com.ar\n",
      "10         cristianvarela71@gmail.com\n",
      "Length: 854, dtype: object\n"
     ]
    },
    {
     "name": "stderr",
     "output_type": "stream",
     "text": [
      "\n",
      " 74%|███████▎  | 283/384 [1:00:11<18:44, 11.14s/it]\u001b[A"
     ]
    },
    {
     "name": "stdout",
     "output_type": "stream",
     "text": [
      "LICENCIADO EN SEGURIDAD Y SALUD OCUPACIONAL Done 1                ggcisterna@gmail.com\n",
      "1          sanchogabriela@hotmail.com\n",
      "1              ecalamos@argentina.com\n",
      "4              conghos@hotmail.com.ar\n",
      "5         marianonicola1975@gmail.com\n",
      "                   ...               \n",
      "7                mica-ana@hotmail.com\n",
      "8     DARIOHERNANROBLEDO@YAHOO.COM.AR\n",
      "9       alberto_suarez@hotmail.com.ar\n",
      "10         cristianvarela71@gmail.com\n",
      "1         martingraziani2@hotmail.com\n",
      "Length: 855, dtype: object\n"
     ]
    },
    {
     "name": "stderr",
     "output_type": "stream",
     "text": [
      "\n",
      " 74%|███████▍  | 284/384 [1:00:23<18:56, 11.37s/it]\u001b[A"
     ]
    },
    {
     "name": "stdout",
     "output_type": "stream",
     "text": [
      "Licenciado en Seguridad, Higiene y Control Ambient Done 1                ggcisterna@gmail.com\n",
      "1          sanchogabriela@hotmail.com\n",
      "1              ecalamos@argentina.com\n",
      "4              conghos@hotmail.com.ar\n",
      "5         marianonicola1975@gmail.com\n",
      "                   ...               \n",
      "8     DARIOHERNANROBLEDO@YAHOO.COM.AR\n",
      "9       alberto_suarez@hotmail.com.ar\n",
      "10         cristianvarela71@gmail.com\n",
      "1         martingraziani2@hotmail.com\n",
      "1        portillocarlos83@outlook.com\n",
      "Length: 856, dtype: object\n"
     ]
    },
    {
     "name": "stderr",
     "output_type": "stream",
     "text": [
      "\n",
      " 74%|███████▍  | 285/384 [1:00:32<17:34, 10.65s/it]\u001b[A"
     ]
    },
    {
     "name": "stdout",
     "output_type": "stream",
     "text": [
      "Licenciado en Sistemas de Protección Contra Sinies Done 1              ggcisterna@gmail.com\n",
      "1        sanchogabriela@hotmail.com\n",
      "1            ecalamos@argentina.com\n",
      "4            conghos@hotmail.com.ar\n",
      "5       marianonicola1975@gmail.com\n",
      "                  ...              \n",
      "9     alberto_suarez@hotmail.com.ar\n",
      "10       cristianvarela71@gmail.com\n",
      "1       martingraziani2@hotmail.com\n",
      "1      portillocarlos83@outlook.com\n",
      "1         diegoduhalde@yahoo.com.ar\n",
      "Length: 857, dtype: object\n"
     ]
    },
    {
     "name": "stderr",
     "output_type": "stream",
     "text": [
      "\n",
      " 74%|███████▍  | 286/384 [1:00:43<17:21, 10.63s/it]\u001b[A"
     ]
    },
    {
     "name": "stdout",
     "output_type": "stream",
     "text": [
      "Licenciado en Sociología Done 1            ggcisterna@gmail.com\n",
      "1      sanchogabriela@hotmail.com\n",
      "1          ecalamos@argentina.com\n",
      "4          conghos@hotmail.com.ar\n",
      "5     marianonicola1975@gmail.com\n",
      "                 ...             \n",
      "1     martingraziani2@hotmail.com\n",
      "1    portillocarlos83@outlook.com\n",
      "1       diegoduhalde@yahoo.com.ar\n",
      "1       furlong.liliana@gmail.com\n",
      "2          luchetti@serman.com.ar\n",
      "Length: 859, dtype: object\n"
     ]
    },
    {
     "name": "stderr",
     "output_type": "stream",
     "text": [
      "\n",
      " 75%|███████▍  | 287/384 [1:00:51<15:48,  9.77s/it]\u001b[A"
     ]
    },
    {
     "name": "stdout",
     "output_type": "stream",
     "text": [
      "Licenciado en Tecnologia Ambiental Done 1            ggcisterna@gmail.com\n",
      "1      sanchogabriela@hotmail.com\n",
      "1          ecalamos@argentina.com\n",
      "4          conghos@hotmail.com.ar\n",
      "5     marianonicola1975@gmail.com\n",
      "                 ...             \n",
      "1    portillocarlos83@outlook.com\n",
      "1       diegoduhalde@yahoo.com.ar\n",
      "1       furlong.liliana@gmail.com\n",
      "2          luchetti@serman.com.ar\n",
      "1       imv.@olcavellaneda.com.ar\n",
      "Length: 860, dtype: object\n"
     ]
    },
    {
     "name": "stderr",
     "output_type": "stream",
     "text": [
      "\n",
      " 75%|███████▌  | 288/384 [1:00:57<14:07,  8.83s/it]\u001b[A"
     ]
    },
    {
     "name": "stdout",
     "output_type": "stream",
     "text": [
      "Licenciado en Trabajo Social Done 1            ggcisterna@gmail.com\n",
      "1      sanchogabriela@hotmail.com\n",
      "1          ecalamos@argentina.com\n",
      "4          conghos@hotmail.com.ar\n",
      "5     marianonicola1975@gmail.com\n",
      "                 ...             \n",
      "1    portillocarlos83@outlook.com\n",
      "1       diegoduhalde@yahoo.com.ar\n",
      "1       furlong.liliana@gmail.com\n",
      "2          luchetti@serman.com.ar\n",
      "1       imv.@olcavellaneda.com.ar\n",
      "Length: 860, dtype: object\n"
     ]
    },
    {
     "name": "stderr",
     "output_type": "stream",
     "text": [
      "\n",
      " 75%|███████▌  | 289/384 [1:01:05<13:17,  8.39s/it]\u001b[A"
     ]
    },
    {
     "name": "stdout",
     "output_type": "stream",
     "text": [
      "Licenciado en Transporte y Logística Operativa Done 1            ggcisterna@gmail.com\n",
      "1      sanchogabriela@hotmail.com\n",
      "1          ecalamos@argentina.com\n",
      "4          conghos@hotmail.com.ar\n",
      "5     marianonicola1975@gmail.com\n",
      "                 ...             \n",
      "1    portillocarlos83@outlook.com\n",
      "1       diegoduhalde@yahoo.com.ar\n",
      "1       furlong.liliana@gmail.com\n",
      "2          luchetti@serman.com.ar\n",
      "1       imv.@olcavellaneda.com.ar\n",
      "Length: 860, dtype: object\n"
     ]
    },
    {
     "name": "stderr",
     "output_type": "stream",
     "text": [
      "\n",
      " 76%|███████▌  | 290/384 [1:01:12<12:34,  8.03s/it]\u001b[A"
     ]
    },
    {
     "name": "stdout",
     "output_type": "stream",
     "text": [
      "Licenciado en Zoología Done 1            ggcisterna@gmail.com\n",
      "1      sanchogabriela@hotmail.com\n",
      "1          ecalamos@argentina.com\n",
      "4          conghos@hotmail.com.ar\n",
      "5     marianonicola1975@gmail.com\n",
      "                 ...             \n",
      "1    portillocarlos83@outlook.com\n",
      "1       diegoduhalde@yahoo.com.ar\n",
      "1       furlong.liliana@gmail.com\n",
      "2          luchetti@serman.com.ar\n",
      "1       imv.@olcavellaneda.com.ar\n",
      "Length: 860, dtype: object\n"
     ]
    },
    {
     "name": "stderr",
     "output_type": "stream",
     "text": [
      "\n",
      " 76%|███████▌  | 291/384 [1:01:18<11:39,  7.52s/it]\u001b[A"
     ]
    },
    {
     "name": "stdout",
     "output_type": "stream",
     "text": [
      "Licenciado Eugenista Humanologo Done 1            ggcisterna@gmail.com\n",
      "1      sanchogabriela@hotmail.com\n",
      "1          ecalamos@argentina.com\n",
      "4          conghos@hotmail.com.ar\n",
      "5     marianonicola1975@gmail.com\n",
      "                 ...             \n",
      "1    portillocarlos83@outlook.com\n",
      "1       diegoduhalde@yahoo.com.ar\n",
      "1       furlong.liliana@gmail.com\n",
      "2          luchetti@serman.com.ar\n",
      "1       imv.@olcavellaneda.com.ar\n",
      "Length: 860, dtype: object\n"
     ]
    },
    {
     "name": "stderr",
     "output_type": "stream",
     "text": [
      "\n",
      " 76%|███████▌  | 292/384 [1:01:25<11:03,  7.21s/it]\u001b[A"
     ]
    },
    {
     "name": "stdout",
     "output_type": "stream",
     "text": [
      "Licenciano de Seguridad Done 1            ggcisterna@gmail.com\n",
      "1      sanchogabriela@hotmail.com\n",
      "1          ecalamos@argentina.com\n",
      "4          conghos@hotmail.com.ar\n",
      "5     marianonicola1975@gmail.com\n",
      "                 ...             \n",
      "1    portillocarlos83@outlook.com\n",
      "1       diegoduhalde@yahoo.com.ar\n",
      "1       furlong.liliana@gmail.com\n",
      "2          luchetti@serman.com.ar\n",
      "1       imv.@olcavellaneda.com.ar\n",
      "Length: 860, dtype: object\n"
     ]
    },
    {
     "name": "stderr",
     "output_type": "stream",
     "text": [
      "\n",
      " 76%|███████▋  | 293/384 [1:01:30<10:06,  6.67s/it]\u001b[A"
     ]
    },
    {
     "name": "stdout",
     "output_type": "stream",
     "text": [
      "LICENCIATURA DE SEGURIDAD Done 1            ggcisterna@gmail.com\n",
      "1      sanchogabriela@hotmail.com\n",
      "1          ecalamos@argentina.com\n",
      "4          conghos@hotmail.com.ar\n",
      "5     marianonicola1975@gmail.com\n",
      "                 ...             \n",
      "1    portillocarlos83@outlook.com\n",
      "1       diegoduhalde@yahoo.com.ar\n",
      "1       furlong.liliana@gmail.com\n",
      "2          luchetti@serman.com.ar\n",
      "1       imv.@olcavellaneda.com.ar\n",
      "Length: 860, dtype: object\n"
     ]
    },
    {
     "name": "stderr",
     "output_type": "stream",
     "text": [
      "\n",
      " 77%|███████▋  | 294/384 [1:01:37<09:59,  6.66s/it]\u001b[A"
     ]
    },
    {
     "name": "stdout",
     "output_type": "stream",
     "text": [
      "Licenciatura en AnÃ¡lisis ClÃ­nicos y BioquÃ­mica Done 1            ggcisterna@gmail.com\n",
      "1      sanchogabriela@hotmail.com\n",
      "1          ecalamos@argentina.com\n",
      "4          conghos@hotmail.com.ar\n",
      "5     marianonicola1975@gmail.com\n",
      "                 ...             \n",
      "1    portillocarlos83@outlook.com\n",
      "1       diegoduhalde@yahoo.com.ar\n",
      "1       furlong.liliana@gmail.com\n",
      "2          luchetti@serman.com.ar\n",
      "1       imv.@olcavellaneda.com.ar\n",
      "Length: 860, dtype: object\n"
     ]
    },
    {
     "name": "stderr",
     "output_type": "stream",
     "text": [
      "\n",
      " 77%|███████▋  | 295/384 [1:01:43<09:47,  6.60s/it]\u001b[A"
     ]
    },
    {
     "name": "stdout",
     "output_type": "stream",
     "text": [
      "LICENCIATURA EN GERENCIAMIENTO AMBIENTAL Done 1            ggcisterna@gmail.com\n",
      "1      sanchogabriela@hotmail.com\n",
      "1          ecalamos@argentina.com\n",
      "4          conghos@hotmail.com.ar\n",
      "5     marianonicola1975@gmail.com\n",
      "                 ...             \n",
      "1    portillocarlos83@outlook.com\n",
      "1       diegoduhalde@yahoo.com.ar\n",
      "1       furlong.liliana@gmail.com\n",
      "2          luchetti@serman.com.ar\n",
      "1       imv.@olcavellaneda.com.ar\n",
      "Length: 860, dtype: object\n"
     ]
    },
    {
     "name": "stderr",
     "output_type": "stream",
     "text": [
      "\n",
      " 77%|███████▋  | 296/384 [1:01:50<09:37,  6.56s/it]\u001b[A"
     ]
    },
    {
     "name": "stdout",
     "output_type": "stream",
     "text": [
      "LICENCIATURA EN SEGURIDAD Y SALUD OCUPACIONAL Done 1            ggcisterna@gmail.com\n",
      "1      sanchogabriela@hotmail.com\n",
      "1          ecalamos@argentina.com\n",
      "4          conghos@hotmail.com.ar\n",
      "5     marianonicola1975@gmail.com\n",
      "                 ...             \n",
      "1    portillocarlos83@outlook.com\n",
      "1       diegoduhalde@yahoo.com.ar\n",
      "1       furlong.liliana@gmail.com\n",
      "2          luchetti@serman.com.ar\n",
      "1       imv.@olcavellaneda.com.ar\n",
      "Length: 860, dtype: object\n"
     ]
    },
    {
     "name": "stderr",
     "output_type": "stream",
     "text": [
      "\n",
      " 77%|███████▋  | 297/384 [1:01:57<09:43,  6.71s/it]\u001b[A"
     ]
    },
    {
     "name": "stdout",
     "output_type": "stream",
     "text": [
      "Licencioado en Geoquimica Done 1                                 ggcisterna@gmail.com\n",
      "1                           sanchogabriela@hotmail.com\n",
      "1                               ecalamos@argentina.com\n",
      "4                               conghos@hotmail.com.ar\n",
      "5                          marianonicola1975@gmail.com\n",
      "                           ...                        \n",
      "1                            diegoduhalde@yahoo.com.ar\n",
      "1                            furlong.liliana@gmail.com\n",
      "2                               luchetti@serman.com.ar\n",
      "1                            imv.@olcavellaneda.com.ar\n",
      "1    ADRAIN_DRAGOUN@HOTMAIL.COM - ADRAGOUN@HOTMAIL.COM\n",
      "Length: 861, dtype: object\n"
     ]
    },
    {
     "name": "stderr",
     "output_type": "stream",
     "text": [
      "\n",
      " 78%|███████▊  | 298/384 [1:02:09<12:06,  8.45s/it]\u001b[A"
     ]
    },
    {
     "name": "stdout",
     "output_type": "stream",
     "text": [
      "Liicenciatura en Información Ambiental Done 1                                 ggcisterna@gmail.com\n",
      "1                           sanchogabriela@hotmail.com\n",
      "1                               ecalamos@argentina.com\n",
      "4                               conghos@hotmail.com.ar\n",
      "5                          marianonicola1975@gmail.com\n",
      "                           ...                        \n",
      "1                            imv.@olcavellaneda.com.ar\n",
      "1    ADRAIN_DRAGOUN@HOTMAIL.COM - ADRAGOUN@HOTMAIL.COM\n",
      "1                              caloninicolas@gmail.com\n",
      "2                                    gdovico@gmail.com\n",
      "3                            analia@arambiental.com.ar\n",
      "Length: 864, dtype: object\n"
     ]
    },
    {
     "name": "stderr",
     "output_type": "stream",
     "text": [
      "\n",
      " 78%|███████▊  | 299/384 [1:02:16<11:14,  7.93s/it]\u001b[A"
     ]
    },
    {
     "name": "stdout",
     "output_type": "stream",
     "text": [
      "MAESTRIA EN ADMINISTRACION DE EMPRESAS Done 1                                 ggcisterna@gmail.com\n",
      "1                           sanchogabriela@hotmail.com\n",
      "1                               ecalamos@argentina.com\n",
      "4                               conghos@hotmail.com.ar\n",
      "5                          marianonicola1975@gmail.com\n",
      "                           ...                        \n",
      "1                            imv.@olcavellaneda.com.ar\n",
      "1    ADRAIN_DRAGOUN@HOTMAIL.COM - ADRAGOUN@HOTMAIL.COM\n",
      "1                              caloninicolas@gmail.com\n",
      "2                                    gdovico@gmail.com\n",
      "3                            analia@arambiental.com.ar\n",
      "Length: 864, dtype: object\n"
     ]
    },
    {
     "name": "stderr",
     "output_type": "stream",
     "text": [
      "\n",
      " 78%|███████▊  | 300/384 [1:02:23<10:49,  7.74s/it]\u001b[A"
     ]
    },
    {
     "name": "stdout",
     "output_type": "stream",
     "text": [
      "MAESTRIA EN AMBIENTE Y DESARROLLO SUSTENTABLE Done 1                                 ggcisterna@gmail.com\n",
      "1                           sanchogabriela@hotmail.com\n",
      "1                               ecalamos@argentina.com\n",
      "4                               conghos@hotmail.com.ar\n",
      "5                          marianonicola1975@gmail.com\n",
      "                           ...                        \n",
      "1    ADRAIN_DRAGOUN@HOTMAIL.COM - ADRAGOUN@HOTMAIL.COM\n",
      "1                              caloninicolas@gmail.com\n",
      "2                                    gdovico@gmail.com\n",
      "3                            analia@arambiental.com.ar\n",
      "1                          mgwalterfernandez@gmail.com\n",
      "Length: 865, dtype: object\n"
     ]
    },
    {
     "name": "stderr",
     "output_type": "stream",
     "text": [
      "\n",
      " 78%|███████▊  | 301/384 [1:02:30<10:09,  7.34s/it]\u001b[A"
     ]
    },
    {
     "name": "stdout",
     "output_type": "stream",
     "text": [
      "Maestría en Ciencias Ambientales Done 1                                 ggcisterna@gmail.com\n",
      "1                           sanchogabriela@hotmail.com\n",
      "1                               ecalamos@argentina.com\n",
      "4                               conghos@hotmail.com.ar\n",
      "5                          marianonicola1975@gmail.com\n",
      "                           ...                        \n",
      "1    ADRAIN_DRAGOUN@HOTMAIL.COM - ADRAGOUN@HOTMAIL.COM\n",
      "1                              caloninicolas@gmail.com\n",
      "2                                    gdovico@gmail.com\n",
      "3                            analia@arambiental.com.ar\n",
      "1                          mgwalterfernandez@gmail.com\n",
      "Length: 865, dtype: object\n"
     ]
    },
    {
     "name": "stderr",
     "output_type": "stream",
     "text": [
      "\n",
      " 79%|███████▊  | 302/384 [1:02:37<09:52,  7.22s/it]\u001b[A"
     ]
    },
    {
     "name": "stdout",
     "output_type": "stream",
     "text": [
      "MAESTRIA EN GESTION AMBIENTAL Done 1           ggcisterna@gmail.com\n",
      "1     sanchogabriela@hotmail.com\n",
      "1         ecalamos@argentina.com\n",
      "4         conghos@hotmail.com.ar\n",
      "5    marianonicola1975@gmail.com\n",
      "                ...             \n",
      "1        caloninicolas@gmail.com\n",
      "2              gdovico@gmail.com\n",
      "3      analia@arambiental.com.ar\n",
      "1    mgwalterfernandez@gmail.com\n",
      "1       EMERONO2004@YAHOO.COM.AR\n",
      "Length: 866, dtype: object\n"
     ]
    },
    {
     "name": "stderr",
     "output_type": "stream",
     "text": [
      "\n",
      " 79%|███████▉  | 303/384 [1:02:43<09:32,  7.07s/it]\u001b[A"
     ]
    },
    {
     "name": "stdout",
     "output_type": "stream",
     "text": [
      "MAESTRIA EN HIGIENE Y SEGURIDAD EN EL TRABAJO Done 1           ggcisterna@gmail.com\n",
      "1     sanchogabriela@hotmail.com\n",
      "1         ecalamos@argentina.com\n",
      "4         conghos@hotmail.com.ar\n",
      "5    marianonicola1975@gmail.com\n",
      "                ...             \n",
      "1        caloninicolas@gmail.com\n",
      "2              gdovico@gmail.com\n",
      "3      analia@arambiental.com.ar\n",
      "1    mgwalterfernandez@gmail.com\n",
      "1       EMERONO2004@YAHOO.COM.AR\n",
      "Length: 866, dtype: object\n"
     ]
    },
    {
     "name": "stderr",
     "output_type": "stream",
     "text": [
      "\n",
      " 79%|███████▉  | 304/384 [1:02:50<09:17,  6.97s/it]\u001b[A"
     ]
    },
    {
     "name": "stdout",
     "output_type": "stream",
     "text": [
      "MAESTRIA EN MANEJO AMBIENTAL DE SISTEMAS HIDRICOS Done 1           ggcisterna@gmail.com\n",
      "1     sanchogabriela@hotmail.com\n",
      "1         ecalamos@argentina.com\n",
      "4         conghos@hotmail.com.ar\n",
      "5    marianonicola1975@gmail.com\n",
      "                ...             \n",
      "1        caloninicolas@gmail.com\n",
      "2              gdovico@gmail.com\n",
      "3      analia@arambiental.com.ar\n",
      "1    mgwalterfernandez@gmail.com\n",
      "1       EMERONO2004@YAHOO.COM.AR\n",
      "Length: 866, dtype: object\n"
     ]
    },
    {
     "name": "stderr",
     "output_type": "stream",
     "text": [
      "\n",
      " 79%|███████▉  | 305/384 [1:03:04<11:46,  8.95s/it]\u001b[A"
     ]
    },
    {
     "name": "stdout",
     "output_type": "stream",
     "text": [
      "Maestro  Mayor de Obras Done 1            ggcisterna@gmail.com\n",
      "1      sanchogabriela@hotmail.com\n",
      "1          ecalamos@argentina.com\n",
      "4          conghos@hotmail.com.ar\n",
      "5     marianonicola1975@gmail.com\n",
      "                 ...             \n",
      "1     mgwalterfernandez@gmail.com\n",
      "1        EMERONO2004@YAHOO.COM.AR\n",
      "1    silviodambrosio@arnet.com.ar\n",
      "2           valjauregui@gmail.com\n",
      "3          gabriel.rey1@gmail.com\n",
      "Length: 869, dtype: object\n"
     ]
    },
    {
     "name": "stderr",
     "output_type": "stream",
     "text": [
      "\n",
      " 80%|███████▉  | 306/384 [1:03:09<10:27,  8.04s/it]\u001b[A"
     ]
    },
    {
     "name": "stdout",
     "output_type": "stream",
     "text": [
      "MAGISTER EN ESTUDIOS AMBIENTALES  Done 1            ggcisterna@gmail.com\n",
      "1      sanchogabriela@hotmail.com\n",
      "1          ecalamos@argentina.com\n",
      "4          conghos@hotmail.com.ar\n",
      "5     marianonicola1975@gmail.com\n",
      "                 ...             \n",
      "1     mgwalterfernandez@gmail.com\n",
      "1        EMERONO2004@YAHOO.COM.AR\n",
      "1    silviodambrosio@arnet.com.ar\n",
      "2           valjauregui@gmail.com\n",
      "3          gabriel.rey1@gmail.com\n",
      "Length: 869, dtype: object\n"
     ]
    },
    {
     "name": "stderr",
     "output_type": "stream",
     "text": [
      "\n",
      " 80%|███████▉  | 307/384 [1:03:18<10:24,  8.11s/it]\u001b[A"
     ]
    },
    {
     "name": "stdout",
     "output_type": "stream",
     "text": [
      "MAGISTER EN GESTION AMBIENTAL DEL DESARROLLO URBAN Done 1             ggcisterna@gmail.com\n",
      "1       sanchogabriela@hotmail.com\n",
      "1           ecalamos@argentina.com\n",
      "4           conghos@hotmail.com.ar\n",
      "5      marianonicola1975@gmail.com\n",
      "                 ...              \n",
      "1         EMERONO2004@YAHOO.COM.AR\n",
      "1     silviodambrosio@arnet.com.ar\n",
      "2            valjauregui@gmail.com\n",
      "3           gabriel.rey1@gmail.com\n",
      "1    veronicainesmartins@gmail.com\n",
      "Length: 870, dtype: object\n"
     ]
    },
    {
     "name": "stderr",
     "output_type": "stream",
     "text": [
      "\n",
      " 80%|████████  | 308/384 [1:03:25<10:06,  7.99s/it]\u001b[A"
     ]
    },
    {
     "name": "stdout",
     "output_type": "stream",
     "text": [
      "Magister en Ingenieria Ambiental Done 1             ggcisterna@gmail.com\n",
      "1       sanchogabriela@hotmail.com\n",
      "1           ecalamos@argentina.com\n",
      "4           conghos@hotmail.com.ar\n",
      "5      marianonicola1975@gmail.com\n",
      "                 ...              \n",
      "1         EMERONO2004@YAHOO.COM.AR\n",
      "1     silviodambrosio@arnet.com.ar\n",
      "2            valjauregui@gmail.com\n",
      "3           gabriel.rey1@gmail.com\n",
      "1    veronicainesmartins@gmail.com\n",
      "Length: 870, dtype: object\n"
     ]
    },
    {
     "name": "stderr",
     "output_type": "stream",
     "text": [
      "\n",
      " 80%|████████  | 309/384 [1:03:33<09:56,  7.96s/it]\u001b[A"
     ]
    },
    {
     "name": "stdout",
     "output_type": "stream",
     "text": [
      "Martillero y Corredor Publico Done 1             ggcisterna@gmail.com\n",
      "1       sanchogabriela@hotmail.com\n",
      "1           ecalamos@argentina.com\n",
      "4           conghos@hotmail.com.ar\n",
      "5      marianonicola1975@gmail.com\n",
      "                 ...              \n",
      "1         EMERONO2004@YAHOO.COM.AR\n",
      "1     silviodambrosio@arnet.com.ar\n",
      "2            valjauregui@gmail.com\n",
      "3           gabriel.rey1@gmail.com\n",
      "1    veronicainesmartins@gmail.com\n",
      "Length: 870, dtype: object\n"
     ]
    },
    {
     "name": "stderr",
     "output_type": "stream",
     "text": [
      "\n",
      " 81%|████████  | 310/384 [1:03:40<09:29,  7.69s/it]\u001b[A"
     ]
    },
    {
     "name": "stdout",
     "output_type": "stream",
     "text": [
      "Master en Gestion y Auditorias Ambientales Done 1             ggcisterna@gmail.com\n",
      "1       sanchogabriela@hotmail.com\n",
      "1           ecalamos@argentina.com\n",
      "4           conghos@hotmail.com.ar\n",
      "5      marianonicola1975@gmail.com\n",
      "                 ...              \n",
      "1         EMERONO2004@YAHOO.COM.AR\n",
      "1     silviodambrosio@arnet.com.ar\n",
      "2            valjauregui@gmail.com\n",
      "3           gabriel.rey1@gmail.com\n",
      "1    veronicainesmartins@gmail.com\n",
      "Length: 870, dtype: object\n"
     ]
    },
    {
     "name": "stderr",
     "output_type": "stream",
     "text": [
      "\n",
      " 81%|████████  | 311/384 [1:03:48<09:14,  7.59s/it]\u001b[A"
     ]
    },
    {
     "name": "stdout",
     "output_type": "stream",
     "text": [
      "MASTER EN INGENIERIA AMBIENTAL DE LA EMPRESA Done 1             ggcisterna@gmail.com\n",
      "1       sanchogabriela@hotmail.com\n",
      "1           ecalamos@argentina.com\n",
      "4           conghos@hotmail.com.ar\n",
      "5      marianonicola1975@gmail.com\n",
      "                 ...              \n",
      "1         EMERONO2004@YAHOO.COM.AR\n",
      "1     silviodambrosio@arnet.com.ar\n",
      "2            valjauregui@gmail.com\n",
      "3           gabriel.rey1@gmail.com\n",
      "1    veronicainesmartins@gmail.com\n",
      "Length: 870, dtype: object\n"
     ]
    },
    {
     "name": "stderr",
     "output_type": "stream",
     "text": [
      "\n",
      " 81%|████████▏ | 312/384 [1:03:55<08:54,  7.43s/it]\u001b[A"
     ]
    },
    {
     "name": "stdout",
     "output_type": "stream",
     "text": [
      "Master en Seguridad Industrial Done 1             ggcisterna@gmail.com\n",
      "1       sanchogabriela@hotmail.com\n",
      "1           ecalamos@argentina.com\n",
      "4           conghos@hotmail.com.ar\n",
      "5      marianonicola1975@gmail.com\n",
      "                 ...              \n",
      "1         EMERONO2004@YAHOO.COM.AR\n",
      "1     silviodambrosio@arnet.com.ar\n",
      "2            valjauregui@gmail.com\n",
      "3           gabriel.rey1@gmail.com\n",
      "1    veronicainesmartins@gmail.com\n",
      "Length: 870, dtype: object\n"
     ]
    },
    {
     "name": "stderr",
     "output_type": "stream",
     "text": [
      "\n",
      " 82%|████████▏ | 313/384 [1:04:02<08:39,  7.32s/it]\u001b[A"
     ]
    },
    {
     "name": "stdout",
     "output_type": "stream",
     "text": [
      "Master Lic. en Amb. del Desarrolo Urbano    Done 1             ggcisterna@gmail.com\n",
      "1       sanchogabriela@hotmail.com\n",
      "1           ecalamos@argentina.com\n",
      "4           conghos@hotmail.com.ar\n",
      "5      marianonicola1975@gmail.com\n",
      "                 ...              \n",
      "1         EMERONO2004@YAHOO.COM.AR\n",
      "1     silviodambrosio@arnet.com.ar\n",
      "2            valjauregui@gmail.com\n",
      "3           gabriel.rey1@gmail.com\n",
      "1    veronicainesmartins@gmail.com\n",
      "Length: 870, dtype: object\n"
     ]
    },
    {
     "name": "stderr",
     "output_type": "stream",
     "text": [
      "\n",
      " 82%|████████▏ | 314/384 [1:04:09<08:18,  7.13s/it]\u001b[A"
     ]
    },
    {
     "name": "stdout",
     "output_type": "stream",
     "text": [
      "Master Universitario en Gestion y Auditoria Ambie  Done 1             ggcisterna@gmail.com\n",
      "1       sanchogabriela@hotmail.com\n",
      "1           ecalamos@argentina.com\n",
      "4           conghos@hotmail.com.ar\n",
      "5      marianonicola1975@gmail.com\n",
      "                 ...              \n",
      "1         EMERONO2004@YAHOO.COM.AR\n",
      "1     silviodambrosio@arnet.com.ar\n",
      "2            valjauregui@gmail.com\n",
      "3           gabriel.rey1@gmail.com\n",
      "1    veronicainesmartins@gmail.com\n",
      "Length: 870, dtype: object\n"
     ]
    },
    {
     "name": "stderr",
     "output_type": "stream",
     "text": [
      "\n",
      " 82%|████████▏ | 315/384 [1:04:17<08:29,  7.39s/it]\u001b[A"
     ]
    },
    {
     "name": "stdout",
     "output_type": "stream",
     "text": [
      "Médico Done 1             ggcisterna@gmail.com\n",
      "1       sanchogabriela@hotmail.com\n",
      "1           ecalamos@argentina.com\n",
      "4           conghos@hotmail.com.ar\n",
      "5      marianonicola1975@gmail.com\n",
      "                 ...              \n",
      "1         EMERONO2004@YAHOO.COM.AR\n",
      "1     silviodambrosio@arnet.com.ar\n",
      "2            valjauregui@gmail.com\n",
      "3           gabriel.rey1@gmail.com\n",
      "1    veronicainesmartins@gmail.com\n",
      "Length: 870, dtype: object\n"
     ]
    },
    {
     "name": "stderr",
     "output_type": "stream",
     "text": [
      "\n",
      " 82%|████████▏ | 316/384 [1:04:27<09:32,  8.42s/it]\u001b[A"
     ]
    },
    {
     "name": "stdout",
     "output_type": "stream",
     "text": [
      "Meteorólogo Done 1             ggcisterna@gmail.com\n",
      "1       sanchogabriela@hotmail.com\n",
      "1           ecalamos@argentina.com\n",
      "4           conghos@hotmail.com.ar\n",
      "5      marianonicola1975@gmail.com\n",
      "                 ...              \n",
      "1         EMERONO2004@YAHOO.COM.AR\n",
      "1     silviodambrosio@arnet.com.ar\n",
      "2            valjauregui@gmail.com\n",
      "3           gabriel.rey1@gmail.com\n",
      "1    veronicainesmartins@gmail.com\n",
      "Length: 870, dtype: object\n"
     ]
    },
    {
     "name": "stderr",
     "output_type": "stream",
     "text": [
      "\n",
      " 83%|████████▎ | 317/384 [1:04:33<08:34,  7.67s/it]\u001b[A"
     ]
    },
    {
     "name": "stdout",
     "output_type": "stream",
     "text": [
      "Muestreador (Curso RENATOM) Done 1             ggcisterna@gmail.com\n",
      "1       sanchogabriela@hotmail.com\n",
      "1           ecalamos@argentina.com\n",
      "4           conghos@hotmail.com.ar\n",
      "5      marianonicola1975@gmail.com\n",
      "                 ...              \n",
      "1         EMERONO2004@YAHOO.COM.AR\n",
      "1     silviodambrosio@arnet.com.ar\n",
      "2            valjauregui@gmail.com\n",
      "3           gabriel.rey1@gmail.com\n",
      "1    veronicainesmartins@gmail.com\n",
      "Length: 870, dtype: object\n"
     ]
    },
    {
     "name": "stderr",
     "output_type": "stream",
     "text": [
      "\n",
      " 83%|████████▎ | 318/384 [1:04:39<07:48,  7.10s/it]\u001b[A"
     ]
    },
    {
     "name": "stdout",
     "output_type": "stream",
     "text": [
      "Muestreador (Curso RETOMA) Done 1             ggcisterna@gmail.com\n",
      "1       sanchogabriela@hotmail.com\n",
      "1           ecalamos@argentina.com\n",
      "4           conghos@hotmail.com.ar\n",
      "5      marianonicola1975@gmail.com\n",
      "                 ...              \n",
      "1         EMERONO2004@YAHOO.COM.AR\n",
      "1     silviodambrosio@arnet.com.ar\n",
      "2            valjauregui@gmail.com\n",
      "3           gabriel.rey1@gmail.com\n",
      "1    veronicainesmartins@gmail.com\n",
      "Length: 870, dtype: object\n"
     ]
    },
    {
     "name": "stderr",
     "output_type": "stream",
     "text": [
      "\n",
      " 83%|████████▎ | 319/384 [1:04:45<07:22,  6.81s/it]\u001b[A"
     ]
    },
    {
     "name": "stdout",
     "output_type": "stream",
     "text": [
      "No posee colegio Done 1             ggcisterna@gmail.com\n",
      "1       sanchogabriela@hotmail.com\n",
      "1           ecalamos@argentina.com\n",
      "4           conghos@hotmail.com.ar\n",
      "5      marianonicola1975@gmail.com\n",
      "                 ...              \n",
      "1         EMERONO2004@YAHOO.COM.AR\n",
      "1     silviodambrosio@arnet.com.ar\n",
      "2            valjauregui@gmail.com\n",
      "3           gabriel.rey1@gmail.com\n",
      "1    veronicainesmartins@gmail.com\n",
      "Length: 870, dtype: object\n"
     ]
    },
    {
     "name": "stderr",
     "output_type": "stream",
     "text": [
      "\n",
      " 83%|████████▎ | 320/384 [1:04:56<08:27,  7.94s/it]\u001b[A"
     ]
    },
    {
     "name": "stdout",
     "output_type": "stream",
     "text": [
      "Oceanografo Done 1             ggcisterna@gmail.com\n",
      "1       sanchogabriela@hotmail.com\n",
      "1           ecalamos@argentina.com\n",
      "4           conghos@hotmail.com.ar\n",
      "5      marianonicola1975@gmail.com\n",
      "                 ...              \n",
      "1     silviodambrosio@arnet.com.ar\n",
      "2            valjauregui@gmail.com\n",
      "3           gabriel.rey1@gmail.com\n",
      "1    veronicainesmartins@gmail.com\n",
      "1      lucia.elmankabadi@gmail.com\n",
      "Length: 871, dtype: object\n"
     ]
    },
    {
     "name": "stderr",
     "output_type": "stream",
     "text": [
      "\n",
      " 84%|████████▎ | 321/384 [1:05:03<08:06,  7.73s/it]\u001b[A"
     ]
    },
    {
     "name": "stdout",
     "output_type": "stream",
     "text": [
      "ODONTOLOGA Done 1             ggcisterna@gmail.com\n",
      "1       sanchogabriela@hotmail.com\n",
      "1           ecalamos@argentina.com\n",
      "4           conghos@hotmail.com.ar\n",
      "5      marianonicola1975@gmail.com\n",
      "                 ...              \n",
      "1     silviodambrosio@arnet.com.ar\n",
      "2            valjauregui@gmail.com\n",
      "3           gabriel.rey1@gmail.com\n",
      "1    veronicainesmartins@gmail.com\n",
      "1      lucia.elmankabadi@gmail.com\n",
      "Length: 871, dtype: object\n"
     ]
    },
    {
     "name": "stderr",
     "output_type": "stream",
     "text": [
      "\n",
      " 84%|████████▍ | 322/384 [1:05:10<07:53,  7.63s/it]\u001b[A"
     ]
    },
    {
     "name": "stdout",
     "output_type": "stream",
     "text": [
      "Orientacion Mecanica Done 1              ggcisterna@gmail.com\n",
      "1        sanchogabriela@hotmail.com\n",
      "1            ecalamos@argentina.com\n",
      "4            conghos@hotmail.com.ar\n",
      "5       marianonicola1975@gmail.com\n",
      "                  ...              \n",
      "3            gabriel.rey1@gmail.com\n",
      "1     veronicainesmartins@gmail.com\n",
      "1       lucia.elmankabadi@gmail.com\n",
      "1    osvaldo.simonini@ecotec.com.ar\n",
      "2    osvaldo.simonini@ecotec.com.ar\n",
      "Length: 873, dtype: object\n"
     ]
    },
    {
     "name": "stderr",
     "output_type": "stream",
     "text": [
      "\n",
      " 84%|████████▍ | 323/384 [1:05:17<07:29,  7.37s/it]\u001b[A"
     ]
    },
    {
     "name": "stdout",
     "output_type": "stream",
     "text": [
      "Posgrado - INGENIERIA AMBIENTAL Done 1              ggcisterna@gmail.com\n",
      "1        sanchogabriela@hotmail.com\n",
      "1            ecalamos@argentina.com\n",
      "4            conghos@hotmail.com.ar\n",
      "5       marianonicola1975@gmail.com\n",
      "                  ...              \n",
      "1     veronicainesmartins@gmail.com\n",
      "1       lucia.elmankabadi@gmail.com\n",
      "1    osvaldo.simonini@ecotec.com.ar\n",
      "2    osvaldo.simonini@ecotec.com.ar\n",
      "1          abertona@fibertel.com.ar\n",
      "Length: 874, dtype: object\n"
     ]
    },
    {
     "name": "stderr",
     "output_type": "stream",
     "text": [
      "\n",
      " 84%|████████▍ | 324/384 [1:05:25<07:23,  7.39s/it]\u001b[A"
     ]
    },
    {
     "name": "stdout",
     "output_type": "stream",
     "text": [
      "Posgrado en Hig. y Seg. en el Trab Done 1              ggcisterna@gmail.com\n",
      "1        sanchogabriela@hotmail.com\n",
      "1            ecalamos@argentina.com\n",
      "4            conghos@hotmail.com.ar\n",
      "5       marianonicola1975@gmail.com\n",
      "                  ...              \n",
      "1     veronicainesmartins@gmail.com\n",
      "1       lucia.elmankabadi@gmail.com\n",
      "1    osvaldo.simonini@ecotec.com.ar\n",
      "2    osvaldo.simonini@ecotec.com.ar\n",
      "1          abertona@fibertel.com.ar\n",
      "Length: 874, dtype: object\n"
     ]
    },
    {
     "name": "stderr",
     "output_type": "stream",
     "text": [
      "\n",
      " 85%|████████▍ | 325/384 [1:05:31<07:03,  7.17s/it]\u001b[A"
     ]
    },
    {
     "name": "stdout",
     "output_type": "stream",
     "text": [
      "post grado en gestión ambiental Done 1              ggcisterna@gmail.com\n",
      "1        sanchogabriela@hotmail.com\n",
      "1            ecalamos@argentina.com\n",
      "4            conghos@hotmail.com.ar\n",
      "5       marianonicola1975@gmail.com\n",
      "                  ...              \n",
      "1     veronicainesmartins@gmail.com\n",
      "1       lucia.elmankabadi@gmail.com\n",
      "1    osvaldo.simonini@ecotec.com.ar\n",
      "2    osvaldo.simonini@ecotec.com.ar\n",
      "1          abertona@fibertel.com.ar\n",
      "Length: 874, dtype: object\n"
     ]
    },
    {
     "name": "stderr",
     "output_type": "stream",
     "text": [
      "\n",
      " 85%|████████▍ | 326/384 [1:05:38<06:50,  7.08s/it]\u001b[A"
     ]
    },
    {
     "name": "stdout",
     "output_type": "stream",
     "text": [
      "PROCURADORA Done 1              ggcisterna@gmail.com\n",
      "1        sanchogabriela@hotmail.com\n",
      "1            ecalamos@argentina.com\n",
      "4            conghos@hotmail.com.ar\n",
      "5       marianonicola1975@gmail.com\n",
      "                  ...              \n",
      "1       lucia.elmankabadi@gmail.com\n",
      "1    osvaldo.simonini@ecotec.com.ar\n",
      "2    osvaldo.simonini@ecotec.com.ar\n",
      "1          abertona@fibertel.com.ar\n",
      "1           estudio_dlq@hotmail.com\n",
      "Length: 875, dtype: object\n"
     ]
    },
    {
     "name": "stderr",
     "output_type": "stream",
     "text": [
      "\n",
      " 85%|████████▌ | 327/384 [1:05:45<06:36,  6.96s/it]\u001b[A"
     ]
    },
    {
     "name": "stdout",
     "output_type": "stream",
     "text": [
      "Profesora en Geografía Done 1              ggcisterna@gmail.com\n",
      "1        sanchogabriela@hotmail.com\n",
      "1            ecalamos@argentina.com\n",
      "4            conghos@hotmail.com.ar\n",
      "5       marianonicola1975@gmail.com\n",
      "                  ...              \n",
      "1       lucia.elmankabadi@gmail.com\n",
      "1    osvaldo.simonini@ecotec.com.ar\n",
      "2    osvaldo.simonini@ecotec.com.ar\n",
      "1          abertona@fibertel.com.ar\n",
      "1           estudio_dlq@hotmail.com\n",
      "Length: 875, dtype: object\n"
     ]
    },
    {
     "name": "stderr",
     "output_type": "stream",
     "text": [
      "\n",
      " 85%|████████▌ | 328/384 [1:05:52<06:32,  7.01s/it]\u001b[A"
     ]
    },
    {
     "name": "stdout",
     "output_type": "stream",
     "text": [
      "Programa de Gestión Ambiental Done 1              ggcisterna@gmail.com\n",
      "1        sanchogabriela@hotmail.com\n",
      "1            ecalamos@argentina.com\n",
      "4            conghos@hotmail.com.ar\n",
      "5       marianonicola1975@gmail.com\n",
      "                  ...              \n",
      "1       lucia.elmankabadi@gmail.com\n",
      "1    osvaldo.simonini@ecotec.com.ar\n",
      "2    osvaldo.simonini@ecotec.com.ar\n",
      "1          abertona@fibertel.com.ar\n",
      "1           estudio_dlq@hotmail.com\n",
      "Length: 875, dtype: object\n"
     ]
    },
    {
     "name": "stderr",
     "output_type": "stream",
     "text": [
      "\n",
      " 86%|████████▌ | 329/384 [1:05:59<06:30,  7.09s/it]\u001b[A"
     ]
    },
    {
     "name": "stdout",
     "output_type": "stream",
     "text": [
      "Programa de Gestiòn Ambiental Done 1              ggcisterna@gmail.com\n",
      "1        sanchogabriela@hotmail.com\n",
      "1            ecalamos@argentina.com\n",
      "4            conghos@hotmail.com.ar\n",
      "5       marianonicola1975@gmail.com\n",
      "                  ...              \n",
      "1       lucia.elmankabadi@gmail.com\n",
      "1    osvaldo.simonini@ecotec.com.ar\n",
      "2    osvaldo.simonini@ecotec.com.ar\n",
      "1          abertona@fibertel.com.ar\n",
      "1           estudio_dlq@hotmail.com\n",
      "Length: 875, dtype: object\n"
     ]
    },
    {
     "name": "stderr",
     "output_type": "stream",
     "text": [
      "\n",
      " 86%|████████▌ | 330/384 [1:06:05<06:07,  6.81s/it]\u001b[A"
     ]
    },
    {
     "name": "stdout",
     "output_type": "stream",
     "text": [
      "proyecto de instalaciones hospitalarias Done 1              ggcisterna@gmail.com\n",
      "1        sanchogabriela@hotmail.com\n",
      "1            ecalamos@argentina.com\n",
      "4            conghos@hotmail.com.ar\n",
      "5       marianonicola1975@gmail.com\n",
      "                  ...              \n",
      "1       lucia.elmankabadi@gmail.com\n",
      "1    osvaldo.simonini@ecotec.com.ar\n",
      "2    osvaldo.simonini@ecotec.com.ar\n",
      "1          abertona@fibertel.com.ar\n",
      "1           estudio_dlq@hotmail.com\n",
      "Length: 875, dtype: object\n"
     ]
    },
    {
     "name": "stderr",
     "output_type": "stream",
     "text": [
      "\n",
      " 86%|████████▌ | 331/384 [1:06:12<05:59,  6.79s/it]\u001b[A"
     ]
    },
    {
     "name": "stdout",
     "output_type": "stream",
     "text": [
      "QUIMICA (Carrera Bioquimica) Done 1              ggcisterna@gmail.com\n",
      "1        sanchogabriela@hotmail.com\n",
      "1            ecalamos@argentina.com\n",
      "4            conghos@hotmail.com.ar\n",
      "5       marianonicola1975@gmail.com\n",
      "                  ...              \n",
      "1       lucia.elmankabadi@gmail.com\n",
      "1    osvaldo.simonini@ecotec.com.ar\n",
      "2    osvaldo.simonini@ecotec.com.ar\n",
      "1          abertona@fibertel.com.ar\n",
      "1           estudio_dlq@hotmail.com\n",
      "Length: 875, dtype: object\n"
     ]
    },
    {
     "name": "stderr",
     "output_type": "stream",
     "text": [
      "\n",
      " 86%|████████▋ | 332/384 [1:06:19<05:51,  6.76s/it]\u001b[A"
     ]
    },
    {
     "name": "stdout",
     "output_type": "stream",
     "text": [
      "QUIMICO Done 1              ggcisterna@gmail.com\n",
      "1        sanchogabriela@hotmail.com\n",
      "1            ecalamos@argentina.com\n",
      "4            conghos@hotmail.com.ar\n",
      "5       marianonicola1975@gmail.com\n",
      "                  ...              \n",
      "1       lucia.elmankabadi@gmail.com\n",
      "1    osvaldo.simonini@ecotec.com.ar\n",
      "2    osvaldo.simonini@ecotec.com.ar\n",
      "1          abertona@fibertel.com.ar\n",
      "1           estudio_dlq@hotmail.com\n",
      "Length: 875, dtype: object\n"
     ]
    },
    {
     "name": "stderr",
     "output_type": "stream",
     "text": [
      "\n",
      " 87%|████████▋ | 333/384 [1:06:25<05:41,  6.69s/it]\u001b[A"
     ]
    },
    {
     "name": "stdout",
     "output_type": "stream",
     "text": [
      "saneamiento proteccion ambiental Done 1              ggcisterna@gmail.com\n",
      "1        sanchogabriela@hotmail.com\n",
      "1            ecalamos@argentina.com\n",
      "4            conghos@hotmail.com.ar\n",
      "5       marianonicola1975@gmail.com\n",
      "                  ...              \n",
      "1       lucia.elmankabadi@gmail.com\n",
      "1    osvaldo.simonini@ecotec.com.ar\n",
      "2    osvaldo.simonini@ecotec.com.ar\n",
      "1          abertona@fibertel.com.ar\n",
      "1           estudio_dlq@hotmail.com\n",
      "Length: 875, dtype: object\n"
     ]
    },
    {
     "name": "stderr",
     "output_type": "stream",
     "text": [
      "\n",
      " 87%|████████▋ | 334/384 [1:06:40<07:32,  9.05s/it]\u001b[A"
     ]
    },
    {
     "name": "stdout",
     "output_type": "stream",
     "text": [
      "tec sup en seg e higiene en el trabajo .  Done 1           ggcisterna@gmail.com\n",
      "1     sanchogabriela@hotmail.com\n",
      "1         ecalamos@argentina.com\n",
      "4         conghos@hotmail.com.ar\n",
      "5    marianonicola1975@gmail.com\n",
      "                ...             \n",
      "3         HGABRIEL47@HOTMAIL.COM\n",
      "4    alejandrailion@yahoo.com.ar\n",
      "5              hisotti@gmail.com\n",
      "6        nestorlamas@hotmail.con\n",
      "7           rmluduenia@gmail.com\n",
      "Length: 882, dtype: object\n"
     ]
    },
    {
     "name": "stderr",
     "output_type": "stream",
     "text": [
      "\n",
      " 87%|████████▋ | 335/384 [1:06:46<06:46,  8.30s/it]\u001b[A"
     ]
    },
    {
     "name": "stdout",
     "output_type": "stream",
     "text": [
      "TEC. SUP. EN MED. AMB. MARINO Y COSTERO Done 1           ggcisterna@gmail.com\n",
      "1     sanchogabriela@hotmail.com\n",
      "1         ecalamos@argentina.com\n",
      "4         conghos@hotmail.com.ar\n",
      "5    marianonicola1975@gmail.com\n",
      "                ...             \n",
      "3         HGABRIEL47@HOTMAIL.COM\n",
      "4    alejandrailion@yahoo.com.ar\n",
      "5              hisotti@gmail.com\n",
      "6        nestorlamas@hotmail.con\n",
      "7           rmluduenia@gmail.com\n",
      "Length: 882, dtype: object\n"
     ]
    },
    {
     "name": "stderr",
     "output_type": "stream",
     "text": [
      "\n",
      " 88%|████████▊ | 336/384 [1:06:56<07:02,  8.80s/it]\u001b[A"
     ]
    },
    {
     "name": "stdout",
     "output_type": "stream",
     "text": [
      "Tec. Sup. en Seg., Hig. y Control Amb. Ind. Done 1           ggcisterna@gmail.com\n",
      "1     sanchogabriela@hotmail.com\n",
      "1         ecalamos@argentina.com\n",
      "4         conghos@hotmail.com.ar\n",
      "5    marianonicola1975@gmail.com\n",
      "                ...             \n",
      "6        nestorlamas@hotmail.con\n",
      "7           rmluduenia@gmail.com\n",
      "1      bustosmarcos@yahoo.com.ar\n",
      "2        anibal.davviu@gmail.com\n",
      "3       antovera_shi@hotmail.com\n",
      "Length: 885, dtype: object\n"
     ]
    },
    {
     "name": "stderr",
     "output_type": "stream",
     "text": [
      "\n",
      " 88%|████████▊ | 337/384 [1:07:03<06:24,  8.17s/it]\u001b[A"
     ]
    },
    {
     "name": "stdout",
     "output_type": "stream",
     "text": [
      "Tec. Superior en Hig. y Seg. en el Trabajo Done 1           ggcisterna@gmail.com\n",
      "1     sanchogabriela@hotmail.com\n",
      "1         ecalamos@argentina.com\n",
      "4         conghos@hotmail.com.ar\n",
      "5    marianonicola1975@gmail.com\n",
      "                ...             \n",
      "6        nestorlamas@hotmail.con\n",
      "7           rmluduenia@gmail.com\n",
      "1      bustosmarcos@yahoo.com.ar\n",
      "2        anibal.davviu@gmail.com\n",
      "3       antovera_shi@hotmail.com\n",
      "Length: 885, dtype: object\n"
     ]
    },
    {
     "name": "stderr",
     "output_type": "stream",
     "text": [
      "\n",
      " 88%|████████▊ | 338/384 [1:07:11<06:10,  8.06s/it]\u001b[A"
     ]
    },
    {
     "name": "stdout",
     "output_type": "stream",
     "text": [
      "Tec. Superior en Manejo Ambiental Done 1           ggcisterna@gmail.com\n",
      "1     sanchogabriela@hotmail.com\n",
      "1         ecalamos@argentina.com\n",
      "4         conghos@hotmail.com.ar\n",
      "5    marianonicola1975@gmail.com\n",
      "                ...             \n",
      "7           rmluduenia@gmail.com\n",
      "1      bustosmarcos@yahoo.com.ar\n",
      "2        anibal.davviu@gmail.com\n",
      "3       antovera_shi@hotmail.com\n",
      "1         TORRERODAIANA@LIVE.COM\n",
      "Length: 886, dtype: object\n"
     ]
    },
    {
     "name": "stderr",
     "output_type": "stream",
     "text": [
      "\n",
      " 88%|████████▊ | 339/384 [1:07:18<05:49,  7.76s/it]\u001b[A"
     ]
    },
    {
     "name": "stdout",
     "output_type": "stream",
     "text": [
      "Tec. Universitario en Gestión Ambiental Urbana Done 1           ggcisterna@gmail.com\n",
      "1     sanchogabriela@hotmail.com\n",
      "1         ecalamos@argentina.com\n",
      "4         conghos@hotmail.com.ar\n",
      "5    marianonicola1975@gmail.com\n",
      "                ...             \n",
      "7           rmluduenia@gmail.com\n",
      "1      bustosmarcos@yahoo.com.ar\n",
      "2        anibal.davviu@gmail.com\n",
      "3       antovera_shi@hotmail.com\n",
      "1         TORRERODAIANA@LIVE.COM\n",
      "Length: 886, dtype: object\n"
     ]
    },
    {
     "name": "stderr",
     "output_type": "stream",
     "text": [
      "\n",
      " 89%|████████▊ | 340/384 [1:07:25<05:25,  7.40s/it]\u001b[A"
     ]
    },
    {
     "name": "stdout",
     "output_type": "stream",
     "text": [
      "TECNICA MAESTRO MAYOR DE OBRAS Done 1           ggcisterna@gmail.com\n",
      "1     sanchogabriela@hotmail.com\n",
      "1         ecalamos@argentina.com\n",
      "4         conghos@hotmail.com.ar\n",
      "5    marianonicola1975@gmail.com\n",
      "                ...             \n",
      "7           rmluduenia@gmail.com\n",
      "1      bustosmarcos@yahoo.com.ar\n",
      "2        anibal.davviu@gmail.com\n",
      "3       antovera_shi@hotmail.com\n",
      "1         TORRERODAIANA@LIVE.COM\n",
      "Length: 886, dtype: object\n"
     ]
    },
    {
     "name": "stderr",
     "output_type": "stream",
     "text": [
      "\n",
      " 89%|████████▉ | 341/384 [1:07:31<05:12,  7.27s/it]\u001b[A"
     ]
    },
    {
     "name": "stdout",
     "output_type": "stream",
     "text": [
      "Tecnica Superior en Gestiòn Ambiental Done 1           ggcisterna@gmail.com\n",
      "1     sanchogabriela@hotmail.com\n",
      "1         ecalamos@argentina.com\n",
      "4         conghos@hotmail.com.ar\n",
      "5    marianonicola1975@gmail.com\n",
      "                ...             \n",
      "1      bustosmarcos@yahoo.com.ar\n",
      "2        anibal.davviu@gmail.com\n",
      "3       antovera_shi@hotmail.com\n",
      "1         TORRERODAIANA@LIVE.COM\n",
      "1     carodantiochia@hotmail.com\n",
      "Length: 887, dtype: object\n"
     ]
    },
    {
     "name": "stderr",
     "output_type": "stream",
     "text": [
      "\n",
      " 89%|████████▉ | 342/384 [1:07:42<05:46,  8.25s/it]\u001b[A"
     ]
    },
    {
     "name": "stdout",
     "output_type": "stream",
     "text": [
      "Tecnica Univ. en Informacion Ambiental Done 1                                 ggcisterna@gmail.com\n",
      "1                           sanchogabriela@hotmail.com\n",
      "1                               ecalamos@argentina.com\n",
      "4                               conghos@hotmail.com.ar\n",
      "5                          marianonicola1975@gmail.com\n",
      "                           ...                        \n",
      "1                           carodantiochia@hotmail.com\n",
      "1                  rodrigo.flores@arcelormittal.com.ar\n",
      "2    anitagimenezgrego@hotmail.com sga.serviciosamb...\n",
      "3                              poyomariela@hotmail.com\n",
      "4                         eugenia_spinelli@hotmail.com\n",
      "Length: 891, dtype: object\n"
     ]
    },
    {
     "name": "stderr",
     "output_type": "stream",
     "text": [
      "\n",
      " 89%|████████▉ | 343/384 [1:07:50<05:36,  8.20s/it]\u001b[A"
     ]
    },
    {
     "name": "stdout",
     "output_type": "stream",
     "text": [
      "TECNICATURA SUPERIOR EN GESTION AMBIENTAL Y SALUD Done 1                                 ggcisterna@gmail.com\n",
      "1                           sanchogabriela@hotmail.com\n",
      "1                               ecalamos@argentina.com\n",
      "4                               conghos@hotmail.com.ar\n",
      "5                          marianonicola1975@gmail.com\n",
      "                           ...                        \n",
      "2    anitagimenezgrego@hotmail.com sga.serviciosamb...\n",
      "3                              poyomariela@hotmail.com\n",
      "4                         eugenia_spinelli@hotmail.com\n",
      "1                                  juan86@pm@gmail.com\n",
      "2                                ANTOVIGO9@HOTMAIL.COM\n",
      "Length: 893, dtype: object\n"
     ]
    },
    {
     "name": "stderr",
     "output_type": "stream",
     "text": [
      "\n",
      " 90%|████████▉ | 344/384 [1:08:04<06:38,  9.95s/it]\u001b[A"
     ]
    },
    {
     "name": "stdout",
     "output_type": "stream",
     "text": [
      "Tecnico  Mecanico Done 1           ggcisterna@gmail.com\n",
      "1     sanchogabriela@hotmail.com\n",
      "1         ecalamos@argentina.com\n",
      "4         conghos@hotmail.com.ar\n",
      "5    marianonicola1975@gmail.com\n",
      "                ...             \n",
      "5    OSVALDO.LOPEZ@SPEEDY.COM.AR\n",
      "6            DRACO@HOTMAL.COM.AR\n",
      "7        sdmconsultora@gmail.com\n",
      "8              casvl@hotmail.com\n",
      "9        maxisidella@hotmail.com\n",
      "Length: 901, dtype: object\n"
     ]
    },
    {
     "name": "stderr",
     "output_type": "stream",
     "text": [
      "\n",
      " 90%|████████▉ | 345/384 [1:08:12<05:57,  9.17s/it]\u001b[A"
     ]
    },
    {
     "name": "stdout",
     "output_type": "stream",
     "text": [
      "Tecnico  Saneamiento Ambiental Done 1           ggcisterna@gmail.com\n",
      "1     sanchogabriela@hotmail.com\n",
      "1         ecalamos@argentina.com\n",
      "4         conghos@hotmail.com.ar\n",
      "5    marianonicola1975@gmail.com\n",
      "                ...             \n",
      "5    OSVALDO.LOPEZ@SPEEDY.COM.AR\n",
      "6            DRACO@HOTMAL.COM.AR\n",
      "7        sdmconsultora@gmail.com\n",
      "8              casvl@hotmail.com\n",
      "9        maxisidella@hotmail.com\n",
      "Length: 901, dtype: object\n"
     ]
    },
    {
     "name": "stderr",
     "output_type": "stream",
     "text": [
      "\n",
      " 90%|█████████ | 346/384 [1:08:19<05:26,  8.58s/it]\u001b[A"
     ]
    },
    {
     "name": "stdout",
     "output_type": "stream",
     "text": [
      "Tecnico Analista Ambiental Done 1           ggcisterna@gmail.com\n",
      "1     sanchogabriela@hotmail.com\n",
      "1         ecalamos@argentina.com\n",
      "4         conghos@hotmail.com.ar\n",
      "5    marianonicola1975@gmail.com\n",
      "                ...             \n",
      "6            DRACO@HOTMAL.COM.AR\n",
      "7        sdmconsultora@gmail.com\n",
      "8              casvl@hotmail.com\n",
      "9        maxisidella@hotmail.com\n",
      "1    fchiarbonello@desler-sa.com\n",
      "Length: 902, dtype: object\n"
     ]
    },
    {
     "name": "stderr",
     "output_type": "stream",
     "text": [
      "\n",
      " 90%|█████████ | 347/384 [1:08:27<05:08,  8.34s/it]\u001b[A"
     ]
    },
    {
     "name": "stdout",
     "output_type": "stream",
     "text": [
      "tecnico constructor Done 1           ggcisterna@gmail.com\n",
      "1     sanchogabriela@hotmail.com\n",
      "1         ecalamos@argentina.com\n",
      "4         conghos@hotmail.com.ar\n",
      "5    marianonicola1975@gmail.com\n",
      "                ...             \n",
      "6            DRACO@HOTMAL.COM.AR\n",
      "7        sdmconsultora@gmail.com\n",
      "8              casvl@hotmail.com\n",
      "9        maxisidella@hotmail.com\n",
      "1    fchiarbonello@desler-sa.com\n",
      "Length: 902, dtype: object\n"
     ]
    },
    {
     "name": "stderr",
     "output_type": "stream",
     "text": [
      "\n",
      " 91%|█████████ | 348/384 [1:08:34<04:48,  8.02s/it]\u001b[A"
     ]
    },
    {
     "name": "stdout",
     "output_type": "stream",
     "text": [
      "Técnico Electrónico Done 1           ggcisterna@gmail.com\n",
      "1     sanchogabriela@hotmail.com\n",
      "1         ecalamos@argentina.com\n",
      "4         conghos@hotmail.com.ar\n",
      "5    marianonicola1975@gmail.com\n",
      "                ...             \n",
      "6            DRACO@HOTMAL.COM.AR\n",
      "7        sdmconsultora@gmail.com\n",
      "8              casvl@hotmail.com\n",
      "9        maxisidella@hotmail.com\n",
      "1    fchiarbonello@desler-sa.com\n",
      "Length: 902, dtype: object\n"
     ]
    },
    {
     "name": "stderr",
     "output_type": "stream",
     "text": [
      "\n",
      " 91%|█████████ | 349/384 [1:08:39<04:14,  7.27s/it]\u001b[A"
     ]
    },
    {
     "name": "stdout",
     "output_type": "stream",
     "text": [
      "TECNICO EN E. Y INST. ELECTROMECANICAS Done 1           ggcisterna@gmail.com\n",
      "1     sanchogabriela@hotmail.com\n",
      "1         ecalamos@argentina.com\n",
      "4         conghos@hotmail.com.ar\n",
      "5    marianonicola1975@gmail.com\n",
      "                ...             \n",
      "6            DRACO@HOTMAL.COM.AR\n",
      "7        sdmconsultora@gmail.com\n",
      "8              casvl@hotmail.com\n",
      "9        maxisidella@hotmail.com\n",
      "1    fchiarbonello@desler-sa.com\n",
      "Length: 902, dtype: object\n"
     ]
    },
    {
     "name": "stderr",
     "output_type": "stream",
     "text": [
      "\n",
      " 91%|█████████ | 350/384 [1:08:46<04:04,  7.20s/it]\u001b[A"
     ]
    },
    {
     "name": "stdout",
     "output_type": "stream",
     "text": [
      "Técnico en Electromecanica Done 1           ggcisterna@gmail.com\n",
      "1     sanchogabriela@hotmail.com\n",
      "1         ecalamos@argentina.com\n",
      "4         conghos@hotmail.com.ar\n",
      "5    marianonicola1975@gmail.com\n",
      "                ...             \n",
      "6            DRACO@HOTMAL.COM.AR\n",
      "7        sdmconsultora@gmail.com\n",
      "8              casvl@hotmail.com\n",
      "9        maxisidella@hotmail.com\n",
      "1    fchiarbonello@desler-sa.com\n",
      "Length: 902, dtype: object\n"
     ]
    },
    {
     "name": "stderr",
     "output_type": "stream",
     "text": [
      "\n",
      " 91%|█████████▏| 351/384 [1:08:53<03:56,  7.17s/it]\u001b[A"
     ]
    },
    {
     "name": "stdout",
     "output_type": "stream",
     "text": [
      "TECNICO EN EQUIPOS E INST. ELECTROMECANICAS Done 1           ggcisterna@gmail.com\n",
      "1     sanchogabriela@hotmail.com\n",
      "1         ecalamos@argentina.com\n",
      "4         conghos@hotmail.com.ar\n",
      "5    marianonicola1975@gmail.com\n",
      "                ...             \n",
      "7        sdmconsultora@gmail.com\n",
      "8              casvl@hotmail.com\n",
      "9        maxisidella@hotmail.com\n",
      "1    fchiarbonello@desler-sa.com\n",
      "1     miguelenrique198@gmail.com\n",
      "Length: 903, dtype: object\n"
     ]
    },
    {
     "name": "stderr",
     "output_type": "stream",
     "text": [
      "\n",
      " 92%|█████████▏| 352/384 [1:09:01<03:55,  7.35s/it]\u001b[A"
     ]
    },
    {
     "name": "stdout",
     "output_type": "stream",
     "text": [
      "Tecnico en Gerenciamiento Ambiental Done 1           ggcisterna@gmail.com\n",
      "1     sanchogabriela@hotmail.com\n",
      "1         ecalamos@argentina.com\n",
      "4         conghos@hotmail.com.ar\n",
      "5    marianonicola1975@gmail.com\n",
      "                ...             \n",
      "7        sdmconsultora@gmail.com\n",
      "8              casvl@hotmail.com\n",
      "9        maxisidella@hotmail.com\n",
      "1    fchiarbonello@desler-sa.com\n",
      "1     miguelenrique198@gmail.com\n",
      "Length: 903, dtype: object\n"
     ]
    },
    {
     "name": "stderr",
     "output_type": "stream",
     "text": [
      "\n",
      " 92%|█████████▏| 353/384 [1:09:08<03:45,  7.26s/it]\u001b[A"
     ]
    },
    {
     "name": "stdout",
     "output_type": "stream",
     "text": [
      "TECNICO EN INDUSTRIAS DE LA ALIMENTACION ORI.PESCA Done 1           ggcisterna@gmail.com\n",
      "1     sanchogabriela@hotmail.com\n",
      "1         ecalamos@argentina.com\n",
      "4         conghos@hotmail.com.ar\n",
      "5    marianonicola1975@gmail.com\n",
      "                ...             \n",
      "7        sdmconsultora@gmail.com\n",
      "8              casvl@hotmail.com\n",
      "9        maxisidella@hotmail.com\n",
      "1    fchiarbonello@desler-sa.com\n",
      "1     miguelenrique198@gmail.com\n",
      "Length: 903, dtype: object\n"
     ]
    },
    {
     "name": "stderr",
     "output_type": "stream",
     "text": [
      "\n",
      " 92%|█████████▏| 354/384 [1:09:14<03:25,  6.85s/it]\u001b[A"
     ]
    },
    {
     "name": "stdout",
     "output_type": "stream",
     "text": [
      "TECNICO EN INDUSTRIAS DE PROCESOS Done 1           ggcisterna@gmail.com\n",
      "1     sanchogabriela@hotmail.com\n",
      "1         ecalamos@argentina.com\n",
      "4         conghos@hotmail.com.ar\n",
      "5    marianonicola1975@gmail.com\n",
      "                ...             \n",
      "7        sdmconsultora@gmail.com\n",
      "8              casvl@hotmail.com\n",
      "9        maxisidella@hotmail.com\n",
      "1    fchiarbonello@desler-sa.com\n",
      "1     miguelenrique198@gmail.com\n",
      "Length: 903, dtype: object\n"
     ]
    },
    {
     "name": "stderr",
     "output_type": "stream",
     "text": [
      "\n",
      " 92%|█████████▏| 355/384 [1:09:22<03:27,  7.15s/it]\u001b[A"
     ]
    },
    {
     "name": "stdout",
     "output_type": "stream",
     "text": [
      "Técnico en la Cadena de Carnes Done 1           ggcisterna@gmail.com\n",
      "1     sanchogabriela@hotmail.com\n",
      "1         ecalamos@argentina.com\n",
      "4         conghos@hotmail.com.ar\n",
      "5    marianonicola1975@gmail.com\n",
      "                ...             \n",
      "7        sdmconsultora@gmail.com\n",
      "8              casvl@hotmail.com\n",
      "9        maxisidella@hotmail.com\n",
      "1    fchiarbonello@desler-sa.com\n",
      "1     miguelenrique198@gmail.com\n",
      "Length: 903, dtype: object\n"
     ]
    },
    {
     "name": "stderr",
     "output_type": "stream",
     "text": [
      "\n",
      " 93%|█████████▎| 356/384 [1:09:29<03:22,  7.24s/it]\u001b[A"
     ]
    },
    {
     "name": "stdout",
     "output_type": "stream",
     "text": [
      "Técnico en Meteorología Sinóptica Done 1           ggcisterna@gmail.com\n",
      "1     sanchogabriela@hotmail.com\n",
      "1         ecalamos@argentina.com\n",
      "4         conghos@hotmail.com.ar\n",
      "5    marianonicola1975@gmail.com\n",
      "                ...             \n",
      "7        sdmconsultora@gmail.com\n",
      "8              casvl@hotmail.com\n",
      "9        maxisidella@hotmail.com\n",
      "1    fchiarbonello@desler-sa.com\n",
      "1     miguelenrique198@gmail.com\n",
      "Length: 903, dtype: object\n"
     ]
    },
    {
     "name": "stderr",
     "output_type": "stream",
     "text": [
      "\n",
      " 93%|█████████▎| 357/384 [1:09:48<04:48, 10.69s/it]\u001b[A"
     ]
    },
    {
     "name": "stdout",
     "output_type": "stream",
     "text": [
      "Tecnico en Seguridad e Higiene Done 1           ggcisterna@gmail.com\n",
      "1     sanchogabriela@hotmail.com\n",
      "1         ecalamos@argentina.com\n",
      "4         conghos@hotmail.com.ar\n",
      "5    marianonicola1975@gmail.com\n",
      "                ...             \n",
      "1        MARBATALLA7@HOTMAIL.COM\n",
      "2          ing.bill@yahoo.com.ar\n",
      "3             imatakay@gmail.com\n",
      "4            DRACO@HOTMAL.COM.AR\n",
      "5        PINEDOMANUELE@GMAIL.COM\n",
      "Length: 908, dtype: object\n"
     ]
    },
    {
     "name": "stderr",
     "output_type": "stream",
     "text": [
      "\n",
      " 93%|█████████▎| 358/384 [1:09:56<04:12,  9.69s/it]\u001b[A"
     ]
    },
    {
     "name": "stdout",
     "output_type": "stream",
     "text": [
      "Tecnico en Seguridad Industrial  Done 1           ggcisterna@gmail.com\n",
      "1     sanchogabriela@hotmail.com\n",
      "1         ecalamos@argentina.com\n",
      "4         conghos@hotmail.com.ar\n",
      "5    marianonicola1975@gmail.com\n",
      "                ...             \n",
      "1        MARBATALLA7@HOTMAIL.COM\n",
      "2          ing.bill@yahoo.com.ar\n",
      "3             imatakay@gmail.com\n",
      "4            DRACO@HOTMAL.COM.AR\n",
      "5        PINEDOMANUELE@GMAIL.COM\n",
      "Length: 908, dtype: object\n"
     ]
    },
    {
     "name": "stderr",
     "output_type": "stream",
     "text": [
      "\n",
      " 93%|█████████▎| 359/384 [1:10:02<03:39,  8.78s/it]\u001b[A"
     ]
    },
    {
     "name": "stdout",
     "output_type": "stream",
     "text": [
      "TECNICO EN SONIDO ESP EN DISEÑO DE INST. ACUSTICAS Done 1           ggcisterna@gmail.com\n",
      "1     sanchogabriela@hotmail.com\n",
      "1         ecalamos@argentina.com\n",
      "4         conghos@hotmail.com.ar\n",
      "5    marianonicola1975@gmail.com\n",
      "                ...             \n",
      "1        MARBATALLA7@HOTMAIL.COM\n",
      "2          ing.bill@yahoo.com.ar\n",
      "3             imatakay@gmail.com\n",
      "4            DRACO@HOTMAL.COM.AR\n",
      "5        PINEDOMANUELE@GMAIL.COM\n",
      "Length: 908, dtype: object\n"
     ]
    },
    {
     "name": "stderr",
     "output_type": "stream",
     "text": [
      "\n",
      " 94%|█████████▍| 360/384 [1:10:10<03:23,  8.46s/it]\u001b[A"
     ]
    },
    {
     "name": "stdout",
     "output_type": "stream",
     "text": [
      "TECNICO FORESTAL Done 1           ggcisterna@gmail.com\n",
      "1     sanchogabriela@hotmail.com\n",
      "1         ecalamos@argentina.com\n",
      "4         conghos@hotmail.com.ar\n",
      "5    marianonicola1975@gmail.com\n",
      "                ...             \n",
      "1        MARBATALLA7@HOTMAIL.COM\n",
      "2          ing.bill@yahoo.com.ar\n",
      "3             imatakay@gmail.com\n",
      "4            DRACO@HOTMAL.COM.AR\n",
      "5        PINEDOMANUELE@GMAIL.COM\n",
      "Length: 908, dtype: object\n"
     ]
    },
    {
     "name": "stderr",
     "output_type": "stream",
     "text": [
      "\n",
      " 94%|█████████▍| 361/384 [1:10:19<03:15,  8.50s/it]\u001b[A"
     ]
    },
    {
     "name": "stdout",
     "output_type": "stream",
     "text": [
      "Técnico Mecánico  Done 1           ggcisterna@gmail.com\n",
      "1     sanchogabriela@hotmail.com\n",
      "1         ecalamos@argentina.com\n",
      "4         conghos@hotmail.com.ar\n",
      "5    marianonicola1975@gmail.com\n",
      "                ...             \n",
      "3             imatakay@gmail.com\n",
      "4            DRACO@HOTMAL.COM.AR\n",
      "5        PINEDOMANUELE@GMAIL.COM\n",
      "1      luciano@ctbelgrano.com.ar\n",
      "2           longodaniel@live.com\n",
      "Length: 910, dtype: object\n"
     ]
    },
    {
     "name": "stderr",
     "output_type": "stream",
     "text": [
      "\n",
      " 94%|█████████▍| 362/384 [1:10:27<03:09,  8.63s/it]\u001b[A"
     ]
    },
    {
     "name": "stdout",
     "output_type": "stream",
     "text": [
      "Tecnico Mecanico Electricista Done 1            ggcisterna@gmail.com\n",
      "1      sanchogabriela@hotmail.com\n",
      "1          ecalamos@argentina.com\n",
      "4          conghos@hotmail.com.ar\n",
      "5     marianonicola1975@gmail.com\n",
      "                 ...             \n",
      "2            longodaniel@live.com\n",
      "1    galaingenieria@speedy.com.ar\n",
      "2    galaingenieria@speedy.com.ar\n",
      "3       rodrigo_luque@hotmail.com\n",
      "4        marianototo@yahoo.com.ar\n",
      "Length: 914, dtype: object\n"
     ]
    },
    {
     "name": "stderr",
     "output_type": "stream",
     "text": [
      "\n",
      " 95%|█████████▍| 363/384 [1:10:35<02:55,  8.37s/it]\u001b[A"
     ]
    },
    {
     "name": "stdout",
     "output_type": "stream",
     "text": [
      "Tècnico Mecanico Electricista Done 1            ggcisterna@gmail.com\n",
      "1      sanchogabriela@hotmail.com\n",
      "1          ecalamos@argentina.com\n",
      "4          conghos@hotmail.com.ar\n",
      "5     marianonicola1975@gmail.com\n",
      "                 ...             \n",
      "1    galaingenieria@speedy.com.ar\n",
      "2    galaingenieria@speedy.com.ar\n",
      "3       rodrigo_luque@hotmail.com\n",
      "4        marianototo@yahoo.com.ar\n",
      "1        EMERONO2004@YAHOO.COM.AR\n",
      "Length: 915, dtype: object\n"
     ]
    },
    {
     "name": "stderr",
     "output_type": "stream",
     "text": [
      "\n",
      " 95%|█████████▍| 364/384 [1:10:53<03:41, 11.09s/it]\u001b[A"
     ]
    },
    {
     "name": "stdout",
     "output_type": "stream",
     "text": [
      "Técnico Químico Done 1            ggcisterna@gmail.com\n",
      "1      sanchogabriela@hotmail.com\n",
      "1          ecalamos@argentina.com\n",
      "4          conghos@hotmail.com.ar\n",
      "5     marianonicola1975@gmail.com\n",
      "                 ...             \n",
      "1    ambientesannicolas@gmail.com\n",
      "2           carrillotdf@gmail.com\n",
      "3           PSCORONEL@HOTMAIL.COM\n",
      "4         muestreo@induser.com.ar\n",
      "5           joselspring@gmail.com\n",
      "Length: 920, dtype: object\n"
     ]
    },
    {
     "name": "stderr",
     "output_type": "stream",
     "text": [
      "\n",
      " 95%|█████████▌| 365/384 [1:10:59<03:04,  9.69s/it]\u001b[A"
     ]
    },
    {
     "name": "stdout",
     "output_type": "stream",
     "text": [
      "Técnico sup. en gestion Ambiental Done 1            ggcisterna@gmail.com\n",
      "1      sanchogabriela@hotmail.com\n",
      "1          ecalamos@argentina.com\n",
      "4          conghos@hotmail.com.ar\n",
      "5     marianonicola1975@gmail.com\n",
      "                 ...             \n",
      "1    ambientesannicolas@gmail.com\n",
      "2           carrillotdf@gmail.com\n",
      "3           PSCORONEL@HOTMAIL.COM\n",
      "4         muestreo@induser.com.ar\n",
      "5           joselspring@gmail.com\n",
      "Length: 920, dtype: object\n"
     ]
    },
    {
     "name": "stderr",
     "output_type": "stream",
     "text": [
      "\n",
      " 95%|█████████▌| 366/384 [1:11:05<02:35,  8.66s/it]\u001b[A"
     ]
    },
    {
     "name": "stdout",
     "output_type": "stream",
     "text": [
      "TECNICO SUPERIOR AGRARIO EN SUELOS Y AGUAS Done 1            ggcisterna@gmail.com\n",
      "1      sanchogabriela@hotmail.com\n",
      "1          ecalamos@argentina.com\n",
      "4          conghos@hotmail.com.ar\n",
      "5     marianonicola1975@gmail.com\n",
      "                 ...             \n",
      "1    ambientesannicolas@gmail.com\n",
      "2           carrillotdf@gmail.com\n",
      "3           PSCORONEL@HOTMAIL.COM\n",
      "4         muestreo@induser.com.ar\n",
      "5           joselspring@gmail.com\n",
      "Length: 920, dtype: object\n"
     ]
    },
    {
     "name": "stderr",
     "output_type": "stream",
     "text": [
      "\n",
      " 96%|█████████▌| 367/384 [1:11:12<02:16,  8.05s/it]\u001b[A"
     ]
    },
    {
     "name": "stdout",
     "output_type": "stream",
     "text": [
      "TECNICO SUPERIOR EN BROMATOLOGIA Done 1            ggcisterna@gmail.com\n",
      "1      sanchogabriela@hotmail.com\n",
      "1          ecalamos@argentina.com\n",
      "4          conghos@hotmail.com.ar\n",
      "5     marianonicola1975@gmail.com\n",
      "                 ...             \n",
      "1    ambientesannicolas@gmail.com\n",
      "2           carrillotdf@gmail.com\n",
      "3           PSCORONEL@HOTMAIL.COM\n",
      "4         muestreo@induser.com.ar\n",
      "5           joselspring@gmail.com\n",
      "Length: 920, dtype: object\n"
     ]
    },
    {
     "name": "stderr",
     "output_type": "stream",
     "text": [
      "\n",
      " 96%|█████████▌| 368/384 [1:11:19<02:02,  7.67s/it]\u001b[A"
     ]
    },
    {
     "name": "stdout",
     "output_type": "stream",
     "text": [
      "Tecnico Superior en Ecologia Done 1            ggcisterna@gmail.com\n",
      "1      sanchogabriela@hotmail.com\n",
      "1          ecalamos@argentina.com\n",
      "4          conghos@hotmail.com.ar\n",
      "5     marianonicola1975@gmail.com\n",
      "                 ...             \n",
      "1    ambientesannicolas@gmail.com\n",
      "2           carrillotdf@gmail.com\n",
      "3           PSCORONEL@HOTMAIL.COM\n",
      "4         muestreo@induser.com.ar\n",
      "5           joselspring@gmail.com\n",
      "Length: 920, dtype: object\n"
     ]
    },
    {
     "name": "stderr",
     "output_type": "stream",
     "text": [
      "\n",
      " 96%|█████████▌| 369/384 [1:11:27<01:56,  7.77s/it]\u001b[A"
     ]
    },
    {
     "name": "stdout",
     "output_type": "stream",
     "text": [
      "TECNICO SUPERIOR EN MANEJO AMBIENTAL Done 1            ggcisterna@gmail.com\n",
      "1      sanchogabriela@hotmail.com\n",
      "1          ecalamos@argentina.com\n",
      "4          conghos@hotmail.com.ar\n",
      "5     marianonicola1975@gmail.com\n",
      "                 ...             \n",
      "1    ambientesannicolas@gmail.com\n",
      "2           carrillotdf@gmail.com\n",
      "3           PSCORONEL@HOTMAIL.COM\n",
      "4         muestreo@induser.com.ar\n",
      "5           joselspring@gmail.com\n",
      "Length: 920, dtype: object\n"
     ]
    },
    {
     "name": "stderr",
     "output_type": "stream",
     "text": [
      "\n",
      " 96%|█████████▋| 370/384 [1:11:42<02:22, 10.16s/it]\u001b[A"
     ]
    },
    {
     "name": "stdout",
     "output_type": "stream",
     "text": [
      "Técnico Superior en Seg. Higiene y Control Amb. Done 1                                 ggcisterna@gmail.com\n",
      "1                           sanchogabriela@hotmail.com\n",
      "1                               ecalamos@argentina.com\n",
      "4                               conghos@hotmail.com.ar\n",
      "5                          marianonicola1975@gmail.com\n",
      "                           ...                        \n",
      "1                         estudiotecnicolb@hotmail.com\n",
      "2    gabrielgraff.gg@gmail.com / gabrielolav@hotmai...\n",
      "3                        rdanielmanzanares@hotmail.com\n",
      "4                           MARCELASARTINI@HOTMAIL.COM\n",
      "5                           svazquez@cerronegro.com.ar\n",
      "Length: 925, dtype: object\n"
     ]
    },
    {
     "name": "stderr",
     "output_type": "stream",
     "text": [
      "\n",
      " 97%|█████████▋| 371/384 [1:11:51<02:05,  9.62s/it]\u001b[A"
     ]
    },
    {
     "name": "stdout",
     "output_type": "stream",
     "text": [
      "Tecnico Superior en Seguridad e Higiene en el Trab Done 1                                 ggcisterna@gmail.com\n",
      "1                           sanchogabriela@hotmail.com\n",
      "1                               ecalamos@argentina.com\n",
      "4                               conghos@hotmail.com.ar\n",
      "5                          marianonicola1975@gmail.com\n",
      "                           ...                        \n",
      "2    gabrielgraff.gg@gmail.com / gabrielolav@hotmai...\n",
      "3                        rdanielmanzanares@hotmail.com\n",
      "4                           MARCELASARTINI@HOTMAIL.COM\n",
      "5                           svazquez@cerronegro.com.ar\n",
      "1                       alvarez@terminalneuquen.com.ar\n",
      "Length: 926, dtype: object\n"
     ]
    },
    {
     "name": "stderr",
     "output_type": "stream",
     "text": [
      "\n",
      " 97%|█████████▋| 372/384 [1:11:58<01:46,  8.84s/it]\u001b[A"
     ]
    },
    {
     "name": "stdout",
     "output_type": "stream",
     "text": [
      "Técnico Superior en Seguridad e Higiene Industrial Done 1                                 ggcisterna@gmail.com\n",
      "1                           sanchogabriela@hotmail.com\n",
      "1                               ecalamos@argentina.com\n",
      "4                               conghos@hotmail.com.ar\n",
      "5                          marianonicola1975@gmail.com\n",
      "                           ...                        \n",
      "2    gabrielgraff.gg@gmail.com / gabrielolav@hotmai...\n",
      "3                        rdanielmanzanares@hotmail.com\n",
      "4                           MARCELASARTINI@HOTMAIL.COM\n",
      "5                           svazquez@cerronegro.com.ar\n",
      "1                       alvarez@terminalneuquen.com.ar\n",
      "Length: 926, dtype: object\n"
     ]
    },
    {
     "name": "stderr",
     "output_type": "stream",
     "text": [
      "\n",
      " 97%|█████████▋| 373/384 [1:12:07<01:39,  9.07s/it]\u001b[A"
     ]
    },
    {
     "name": "stdout",
     "output_type": "stream",
     "text": [
      "Técnico Superior en Seguridad, Higiene y Control A Done 1              ggcisterna@gmail.com\n",
      "1        sanchogabriela@hotmail.com\n",
      "1            ecalamos@argentina.com\n",
      "4            conghos@hotmail.com.ar\n",
      "5       marianonicola1975@gmail.com\n",
      "                  ...              \n",
      "3     rdanielmanzanares@hotmail.com\n",
      "4        MARCELASARTINI@HOTMAIL.COM\n",
      "5        svazquez@cerronegro.com.ar\n",
      "1    alvarez@terminalneuquen.com.ar\n",
      "1         mauromerlo82@yahoo.com.ar\n",
      "Length: 927, dtype: object\n"
     ]
    },
    {
     "name": "stderr",
     "output_type": "stream",
     "text": [
      "\n",
      " 97%|█████████▋| 374/384 [1:12:15<01:25,  8.50s/it]\u001b[A"
     ]
    },
    {
     "name": "stdout",
     "output_type": "stream",
     "text": [
      "Tecnico Superior en Seguridad, Higiene y ControlAm Done 1              ggcisterna@gmail.com\n",
      "1        sanchogabriela@hotmail.com\n",
      "1            ecalamos@argentina.com\n",
      "4            conghos@hotmail.com.ar\n",
      "5       marianonicola1975@gmail.com\n",
      "                  ...              \n",
      "4        MARCELASARTINI@HOTMAIL.COM\n",
      "5        svazquez@cerronegro.com.ar\n",
      "1    alvarez@terminalneuquen.com.ar\n",
      "1         mauromerlo82@yahoo.com.ar\n",
      "1             sebavines@hotmail.com\n",
      "Length: 928, dtype: object\n"
     ]
    },
    {
     "name": "stderr",
     "output_type": "stream",
     "text": [
      "\n",
      " 98%|█████████▊| 375/384 [1:12:21<01:12,  8.01s/it]\u001b[A"
     ]
    },
    {
     "name": "stdout",
     "output_type": "stream",
     "text": [
      "tecnico superior en turismo Done 1              ggcisterna@gmail.com\n",
      "1        sanchogabriela@hotmail.com\n",
      "1            ecalamos@argentina.com\n",
      "4            conghos@hotmail.com.ar\n",
      "5       marianonicola1975@gmail.com\n",
      "                  ...              \n",
      "4        MARCELASARTINI@HOTMAIL.COM\n",
      "5        svazquez@cerronegro.com.ar\n",
      "1    alvarez@terminalneuquen.com.ar\n",
      "1         mauromerlo82@yahoo.com.ar\n",
      "1             sebavines@hotmail.com\n",
      "Length: 928, dtype: object\n"
     ]
    },
    {
     "name": "stderr",
     "output_type": "stream",
     "text": [
      "\n",
      " 98%|█████████▊| 376/384 [1:12:29<01:02,  7.80s/it]\u001b[A"
     ]
    },
    {
     "name": "stdout",
     "output_type": "stream",
     "text": [
      "TECNICO UNIVERSITARIO EN GERENCIAMIENTO AMBIENTAL Done 1              ggcisterna@gmail.com\n",
      "1        sanchogabriela@hotmail.com\n",
      "1            ecalamos@argentina.com\n",
      "4            conghos@hotmail.com.ar\n",
      "5       marianonicola1975@gmail.com\n",
      "                  ...              \n",
      "5        svazquez@cerronegro.com.ar\n",
      "1    alvarez@terminalneuquen.com.ar\n",
      "1         mauromerlo82@yahoo.com.ar\n",
      "1             sebavines@hotmail.com\n",
      "1         sergiociglesias@gmail.com\n",
      "Length: 929, dtype: object\n"
     ]
    },
    {
     "name": "stderr",
     "output_type": "stream",
     "text": [
      "\n",
      " 98%|█████████▊| 377/384 [1:12:36<00:53,  7.63s/it]\u001b[A"
     ]
    },
    {
     "name": "stdout",
     "output_type": "stream",
     "text": [
      "TECNICO UNIVERSITARIO EN GESTION AMBIENTAL Done 1              ggcisterna@gmail.com\n",
      "1        sanchogabriela@hotmail.com\n",
      "1            ecalamos@argentina.com\n",
      "4            conghos@hotmail.com.ar\n",
      "5       marianonicola1975@gmail.com\n",
      "                  ...              \n",
      "1    alvarez@terminalneuquen.com.ar\n",
      "1         mauromerlo82@yahoo.com.ar\n",
      "1             sebavines@hotmail.com\n",
      "1         sergiociglesias@gmail.com\n",
      "1            diegofcuesta.gmail.com\n",
      "Length: 930, dtype: object\n"
     ]
    },
    {
     "name": "stderr",
     "output_type": "stream",
     "text": [
      "\n",
      " 98%|█████████▊| 378/384 [1:12:43<00:44,  7.46s/it]\u001b[A"
     ]
    },
    {
     "name": "stdout",
     "output_type": "stream",
     "text": [
      "Técnico Universitario en Gestión Ambiental Done 1           ggcisterna@gmail.com\n",
      "1     sanchogabriela@hotmail.com\n",
      "1         ecalamos@argentina.com\n",
      "4         conghos@hotmail.com.ar\n",
      "5    marianonicola1975@gmail.com\n",
      "                ...             \n",
      "1      mauromerlo82@yahoo.com.ar\n",
      "1          sebavines@hotmail.com\n",
      "1      sergiociglesias@gmail.com\n",
      "1         diegofcuesta.gmail.com\n",
      "1     MOLINOS@MOLINOSTSAS.COM.AR\n",
      "Length: 931, dtype: object\n"
     ]
    },
    {
     "name": "stderr",
     "output_type": "stream",
     "text": [
      "\n",
      " 99%|█████████▊| 379/384 [1:12:50<00:35,  7.19s/it]\u001b[A"
     ]
    },
    {
     "name": "stdout",
     "output_type": "stream",
     "text": [
      "TECNICO UNIVERSITARIO EN HIGIENE Y SEGURIDAD EN EL Done 1           ggcisterna@gmail.com\n",
      "1     sanchogabriela@hotmail.com\n",
      "1         ecalamos@argentina.com\n",
      "4         conghos@hotmail.com.ar\n",
      "5    marianonicola1975@gmail.com\n",
      "                ...             \n",
      "1      mauromerlo82@yahoo.com.ar\n",
      "1          sebavines@hotmail.com\n",
      "1      sergiociglesias@gmail.com\n",
      "1         diegofcuesta.gmail.com\n",
      "1     MOLINOS@MOLINOSTSAS.COM.AR\n",
      "Length: 931, dtype: object\n"
     ]
    },
    {
     "name": "stderr",
     "output_type": "stream",
     "text": [
      "\n",
      " 99%|█████████▉| 380/384 [1:12:57<00:28,  7.15s/it]\u001b[A"
     ]
    },
    {
     "name": "stdout",
     "output_type": "stream",
     "text": [
      "Técnico Universitario en Higiene y Seguridad Labor Done 1           ggcisterna@gmail.com\n",
      "1     sanchogabriela@hotmail.com\n",
      "1         ecalamos@argentina.com\n",
      "4         conghos@hotmail.com.ar\n",
      "5    marianonicola1975@gmail.com\n",
      "                ...             \n",
      "1      mauromerlo82@yahoo.com.ar\n",
      "1          sebavines@hotmail.com\n",
      "1      sergiociglesias@gmail.com\n",
      "1         diegofcuesta.gmail.com\n",
      "1     MOLINOS@MOLINOSTSAS.COM.AR\n",
      "Length: 931, dtype: object\n"
     ]
    },
    {
     "name": "stderr",
     "output_type": "stream",
     "text": [
      "\n",
      " 99%|█████████▉| 381/384 [1:13:04<00:21,  7.15s/it]\u001b[A"
     ]
    },
    {
     "name": "stdout",
     "output_type": "stream",
     "text": [
      "TECNICO UNIVERSITARIO EN INFORMACION AMBIENTAL Done 1           ggcisterna@gmail.com\n",
      "1     sanchogabriela@hotmail.com\n",
      "1         ecalamos@argentina.com\n",
      "4         conghos@hotmail.com.ar\n",
      "5    marianonicola1975@gmail.com\n",
      "                ...             \n",
      "1      mauromerlo82@yahoo.com.ar\n",
      "1          sebavines@hotmail.com\n",
      "1      sergiociglesias@gmail.com\n",
      "1         diegofcuesta.gmail.com\n",
      "1     MOLINOS@MOLINOSTSAS.COM.AR\n",
      "Length: 931, dtype: object\n"
     ]
    },
    {
     "name": "stderr",
     "output_type": "stream",
     "text": [
      "\n",
      " 99%|█████████▉| 382/384 [1:13:11<00:14,  7.13s/it]\u001b[A"
     ]
    },
    {
     "name": "stdout",
     "output_type": "stream",
     "text": [
      "TECNICO UNIVERSITARIO EN MEDIO AMBIENTE Done 1           ggcisterna@gmail.com\n",
      "1     sanchogabriela@hotmail.com\n",
      "1         ecalamos@argentina.com\n",
      "4         conghos@hotmail.com.ar\n",
      "5    marianonicola1975@gmail.com\n",
      "                ...             \n",
      "1      mauromerlo82@yahoo.com.ar\n",
      "1          sebavines@hotmail.com\n",
      "1      sergiociglesias@gmail.com\n",
      "1         diegofcuesta.gmail.com\n",
      "1     MOLINOS@MOLINOSTSAS.COM.AR\n",
      "Length: 931, dtype: object\n"
     ]
    },
    {
     "name": "stderr",
     "output_type": "stream",
     "text": [
      "\n",
      "100%|█████████▉| 383/384 [1:13:23<00:08,  8.46s/it]\u001b[A"
     ]
    },
    {
     "name": "stdout",
     "output_type": "stream",
     "text": [
      "Veterinario Done 1                ggcisterna@gmail.com\n",
      "1          sanchogabriela@hotmail.com\n",
      "1              ecalamos@argentina.com\n",
      "4              conghos@hotmail.com.ar\n",
      "5         marianonicola1975@gmail.com\n",
      "                   ...               \n",
      "1               sebavines@hotmail.com\n",
      "1           sergiociglesias@gmail.com\n",
      "1              diegofcuesta.gmail.com\n",
      "1          MOLINOS@MOLINOSTSAS.COM.AR\n",
      "1    jrlamas@laboratoriollamas.com.ar\n",
      "Length: 932, dtype: object\n"
     ]
    },
    {
     "name": "stderr",
     "output_type": "stream",
     "text": [
      "\n",
      "100%|██████████| 384/384 [1:13:32<00:00,  8.66s/it]\u001b[A"
     ]
    },
    {
     "name": "stdout",
     "output_type": "stream",
     "text": [
      "Zoólogo Done 1                ggcisterna@gmail.com\n",
      "1          sanchogabriela@hotmail.com\n",
      "1              ecalamos@argentina.com\n",
      "4              conghos@hotmail.com.ar\n",
      "5         marianonicola1975@gmail.com\n",
      "                   ...               \n",
      "1               sebavines@hotmail.com\n",
      "1           sergiociglesias@gmail.com\n",
      "1              diegofcuesta.gmail.com\n",
      "1          MOLINOS@MOLINOSTSAS.COM.AR\n",
      "1    jrlamas@laboratoriollamas.com.ar\n",
      "Length: 932, dtype: object\n"
     ]
    }
   ],
   "source": [
    "finals = pd.Series()\n",
    "falied=0\n",
    "for i in tqdm(tits):\n",
    "    br = Browser()\n",
    "\n",
    "    br.set_handle_robots( False )\n",
    "    br.addheaders = [(\"User-agent\", \"Firefox\")]\n",
    "    br.open(\"http://sistemas.opds.gba.gov.ar/intra/Profesionales/ConsultaWeb.php\")\n",
    "\n",
    "    br.select_form(\"frmBuscaProf\")\n",
    "    br.form[\"sltTitulo\"] = [str(i),]\n",
    "    br.submit()\n",
    "    resp = br.response()\n",
    "    soup = BeautifulSoup(resp.read(), \"html.parser\")\n",
    "    data = soup.find(\"table\", border=1)\n",
    "    html_string = str(data)\n",
    "    try:\n",
    "\n",
    "        dat = pd.read_html(html_string)\n",
    "        mails = dat[0][6][1:]\n",
    "        mails = mails.dropna()\n",
    "        finals = finals.append(mails)\n",
    "    except Exception:\n",
    "        failed+=1\n",
    "        pass\n",
    "    print(i, \"Done\", finals)\n",
    "    finals.to_csv(\"mails_pais.csv\",index=False)"
   ]
  },
  {
   "cell_type": "code",
   "execution_count": 18,
   "metadata": {},
   "outputs": [
    {
     "data": {
      "text/plain": [
       "1            ggcisterna@gmail.com\n",
       "1      sanchogabriela@hotmail.com\n",
       "1          ecalamos@argentina.com\n",
       "4          conghos@hotmail.com.ar\n",
       "5     marianonicola1975@gmail.com\n",
       "                 ...             \n",
       "10      ingenierosendin@gmail.com\n",
       "11      adrianaspagnolo@gmail.com\n",
       "1           lauccordoba@gmail.com\n",
       "2          alejandro@falco.net.ar\n",
       "1       jmgconstrucciones.2@gmail\n",
       "Length: 100, dtype: object"
      ]
     },
     "execution_count": 18,
     "metadata": {},
     "output_type": "execute_result"
    }
   ],
   "source": [
    "finals.head(100)"
   ]
  },
  {
   "cell_type": "code",
   "execution_count": 16,
   "metadata": {},
   "outputs": [
    {
     "data": {
      "text/plain": [
       "(932,)"
      ]
     },
     "execution_count": 16,
     "metadata": {},
     "output_type": "execute_result"
    }
   ],
   "source": [
    "finals.shape"
   ]
  },
  {
   "cell_type": "code",
   "execution_count": null,
   "metadata": {},
   "outputs": [],
   "source": []
  }
 ],
 "metadata": {
  "kernelspec": {
   "display_name": "Python 3",
   "language": "python",
   "name": "python3"
  },
  "language_info": {
   "codemirror_mode": {
    "name": "ipython",
    "version": 3
   },
   "file_extension": ".py",
   "mimetype": "text/x-python",
   "name": "python",
   "nbconvert_exporter": "python",
   "pygments_lexer": "ipython3",
   "version": "3.6.8"
  }
 },
 "nbformat": 4,
 "nbformat_minor": 2
}
