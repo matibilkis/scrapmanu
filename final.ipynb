{
 "cells": [
  {
   "cell_type": "code",
   "execution_count": 12,
   "metadata": {},
   "outputs": [
    {
     "name": "stdout",
     "output_type": "stream",
     "text": [
      "['sltRegistro', 'txtNroProf', 'txtDNIBusca', 'txtApellidoBusca', 'txtNombre', 'sltTitulo', 'sltProvincia', 'sltPartidoR', 'sltLocalidadR', 'btnBuscaDNI']\n"
     ]
    }
   ],
   "source": [
    "import re\n",
    "from bs4 import BeautifulSoup\n",
    "from mechanize import Browser\n",
    "import pandas as pd\n",
    "import requests\n",
    "from IPython.display import display_html\n",
    "from tqdm import tqdm\n",
    "\n",
    "br = Browser()\n",
    "\n",
    "br.set_handle_robots( False )\n",
    "br.addheaders = [(\"User-agent\", \"Firefox\")]\n",
    "br.open(\"http://sistemas.opds.gba.gov.ar/intra/Profesionales/ConsultaWeb.php\")\n",
    "\n",
    "br.select_form(\"frmBuscaProf\")\n",
    "controls = br.form.controls\n",
    "print([control.name for control in controls])"
   ]
  },
  {
   "cell_type": "code",
   "execution_count": 7,
   "metadata": {},
   "outputs": [
    {
     "name": "stdout",
     "output_type": "stream",
     "text": [
      "0 0\n",
      "1 3\n",
      "2 1\n",
      "3 2\n",
      "4 13\n",
      "5 nada\n",
      "6 \tLIC. SEGURIDAD E HIGIENE Y CONTROL AMBIENTAL \n",
      "7 ABOGADA\n",
      "8 Abogado\n",
      "9 Agrimensor\n",
      "10 Agrónomo\n",
      "11 Analista de Sistemas\n",
      "12 ANALISTA ECOLOGICO\n",
      "13 Analista Ecológico\n",
      "14 Analista Ecológico y en  Contaminación\n",
      "15 Analista en Ciencias Ambientales\n",
      "16 Analista en Contaminación y Analista Ecológico\n",
      "17 ANALISTA UNIVERSITARIO EN MONITOREO DEL AMBIENTE\n",
      "18 Antropologa\n",
      "19 Arquitecta\n",
      "20 Arquitecto\n",
      "21 Artillero y corredor Publico\n",
      "22 BIOLOGA\n",
      "23 Biologo\n",
      "24 Bioquímico\n",
      "25 con orientacion en botanica\n",
      "26 Contador\n",
      "27 Curso de Evaluacion de Impacto Ambiental y Proyect\n",
      "28 curso de psgrado en EIA\n",
      "29 CURSO DE PUESTA A TIERRA DE PLANTAS INDUSTRIALES\n",
      "30 Curso EIA y Proyecto Urbano\n",
      "31 Diseñador Industrial\n",
      "32 diseño en areas esteriles \n",
      "33 Doctor de la Univ. Bs.As. área Ingeniería\n",
      "34 Doctor en Ciencias del Mar\n",
      "35 Doctor en Ciencias Naturales\n",
      "36 Doctor en Ciencias Veterinarias \n",
      "37 Doctorado en Ciencias Quimica\n",
      "38 DR EN QUIMICA\n",
      "39 E. en Seguridad, Higiene y Protección Ambiental\n",
      "40 Ecólogo\n",
      "41 Esp en Hig Ambiental\n",
      "42 Esp. en Eval. de Contaminación Amb.               \n",
      "43 Esp. en Gestion Ambiental\n",
      "44 Esp. en Higiene y Seguridad en el Trabajo Agrario\n",
      "45 ESP. HIGIENE Y SEG.LAB.INDUST. DE LA CONST.\n",
      "46 Esp. Seg. e Higiene\n",
      "47 Esp. Seg.e Higiene\n",
      "48 ESPCIALISTA EN PLANEAMIENTO P. Y AMB.\n",
      "49 Espec. en Hig y Seg en el Trab Agra\n",
      "50 espec.en Gestion del Patrimonio y Turismo Sostenib\n",
      "51 Especialidad Hidraulica\n",
      "52 ESPECIALISTA  AMBIENTAL\n",
      "53 especialista  en ambiente y patologia ambiental\n",
      "54 Especialista en Ciencias Químicas y Ambiente\n",
      "55 Especialista en Derecho Ambiental\n",
      "56 Especialista en Diagnostico y EvaluaciÃ³n Ambienta\n",
      "57 Especialista en Explotación de Yacimientos\n",
      "58 Especialista en gestion ambiental - higiene y seg.\n",
      "59 Especialista en Higiene y Proteccion Ambiental\n",
      "60 Especialista en Higiene y Seg. \n",
      "61 especialista en higiene y seguridad en el trabajo\n",
      "62 ESPECIALISTA EN ING. INDUSTRIAL\n",
      "63 Especialista en Ingenieria Ambiental\n",
      "64 Especialista en Ingeniería Ambiental\n",
      "65 Especialista en Ingeniería en Calidad\n",
      "66 Especialista en Planificacion Urbana  \n",
      "67 ESPECIALISTA EN PROTECCIÓN AMBIENTAL\n",
      "68 ESPECIALISTA EN SEGURIDAD E HIGIENE\n",
      "69 ESPECIALISTA EN SEGURIDAD E HIGIENE DEL TRABAJO\n",
      "70 Especialista en Seguridad e Higiene en el Trabajo\n",
      "71 Especialista en seguridad en el trabajo agrario\n",
      "72 Especialista en Seguridad, Higiene y ProtecciÃ³n A\n",
      "73 Especialista en Seguridad, Higiene y Protección Am\n",
      "74 Especialista en Seguridad,Higiene y Proteccion Amb\n",
      "75 ESPECIALISTA HIGIENE Y SEGURIDAD EN EL TRABAJO\n",
      "76 Especialista medio ambiente y contaminación de eco\n",
      "77 Especialización en Ciencias Químicas y Ambiente\n",
      "78 Especializacion en Desarrollo Sustentable\n",
      "79 ESPECIALIZACION EN EVALUACION DEL IMPACTO AMBIENTA\n",
      "80 Especializacion en Higiene  y Seg. en el Trabajo\n",
      "81 ESPECIALIZACION EN HIGIENE Y SEGURIDAD EN EL TRABA\n",
      "82 Farmaceutica Especialista en Esterilización\n",
      "83 Farmaceutico\n",
      "84 Geofísico\n",
      "85 Geólogo\n",
      "86 Geoquímico\n",
      "87 Hidrologia Ambiental\n",
      "88 HIGIENE Y SEGURIDAD DEN EL TRABAJO\n",
      "89 Higiene y Seguridad en el Trabajo y Medio Ambiente\n",
      "90 Iing. laboral  y especialista en hig y seg\n",
      "91 Ing industrial y espec en ing amb\n",
      "92 ING. Electricista con Orientación Electronica\n",
      "93 ING. EN ELECTRONICA\n",
      "94 ING. INDUSTRIAL\n",
      "95 Ing. metalurgico\n",
      "96 ING. TELEC., ELECT. Y COMPUTACION\n",
      "97 ING.QUIMICA Y ESPECIALISTA EN INGENIERÍA AMBIENTAL\n",
      "98 INGENIERA  CIVIL\n",
      "99 INGENIERA AGROINDUSTRIAL\n",
      "100 INGENIERA AGRONOMA\n",
      "101 INGENIERA AMB. Y SANITARIA\n",
      "102 INGENIERA AMBIENTAL\n",
      "103 INGENIERA CIVIL\n",
      "104 INGENIERA EN ALIMENTOS\n",
      "105 Ingeniera en Ecologia\n",
      "106 Ingeniera en Recursos Naturales y Medio Ambiente\n",
      "107 INGENIERA HIDRAULICA\n",
      "108 INGENIERA INDUSTRIAL\n",
      "109 INGENIERA LABORAL\n",
      "110 INGENIERA QUIMICA\n",
      "111 INGENIERA ZOOTECNISTA \n",
      "112 Ingeniería en Seguridad Ambiental\n",
      "113 Ingenieria Sanitaria\n",
      "114 Ingeniero  en Alimentos\n",
      "115 INGENIERO AERONAUTICO\n",
      "116 Ingeniero Aeronáutico\n",
      "117 INGENIERO AGRIMENSOR\n",
      "118 INGENIERO AGRONOMO\n",
      "119 Ingeniero Agrónomo\n",
      "120 Ingeniero Ambiental\n",
      "121 Ingeniero Civil\n",
      "122 INGENIERO DE PETROLEOS\n",
      "123 INGENIERO DE SONIDO\n",
      "124 Ingeniero Electricista\n",
      "125 Ingeniero Electromecánico\n",
      "126 INGENIERO ELECTROMECANICO CON OR. MECANICA\n",
      "127 Ingeniero Electromecánico or Electricista\n",
      "128 INGENIERO ELECTRONICO\n",
      "129 Ingeniero Electrónico\n",
      "130 Ingeniero en Arsenales\n",
      "131 Ingeniero en Construcciones\n",
      "132 Ingeniero en Ecologia\n",
      "133 Ingeniero en Electrònica\n",
      "134 Ingeniero en Geodesia\n",
      "135 INGENIERO EN GESTION DE SINIESTROS Y SEGURIDAD AMB\n",
      "136 Ingeniero en Higiene y Seguridad  en el Trabajo\n",
      "137 Ingeniero en Higiene y Seguridad en el Trabajo\n",
      "138 Ingeniero en Industrias de la Alimentacion\n",
      "139 Ingeniero en Materiales\n",
      "140 Ingeniero en Organizaci{on de Empresas\n",
      "141 Ingeniero en Organizacion de Empresas\n",
      "142 INGENIERO EN PRODUCCION AGROPECUARIA\n",
      "143 Ingeniero en Recursos Hidricos\n",
      "144 Ingeniero en Recursos Naturales y Medio  Ambiente\n",
      "145 Ingeniero en Seguridad Ambiental\n",
      "146 Ingeniero en Seguridad e Higiene\n",
      "147 Ingeniero en Seguridad e Higiene en el Trabajo \n",
      "148 ingeniero en sistemas de informacion\n",
      "149 Ingeniero en Telecomunicaciones\n",
      "150 Ingeniero en vias de comunicacion\n",
      "151 Ingeniero Especialista en Higiene y Seguridad en e\n",
      "152 INGENIERO ESPECIALISTA EN PROTECCIÓN AMBIENTAL\n",
      "153 Ingeniero Forestal\n",
      "154 Ingeniero Geógrafo\n",
      "155 Ingeniero Hidráulico\n",
      "156 Ingeniero Industrail\n",
      "157 Ingeniero Industrial\n",
      "158 Ingeniero Laboral\n",
      "159 Ingeniero Laboral \n",
      "160 Ingeniero Mecanico\n",
      "161 Ingeniero Mecánico\n",
      "162 Ingeniero Mecánico \n",
      "163 Ingeniero Metalúrgico\n",
      "164 INGENIERO MILITAR\n",
      "165 Ingeniero Químico\n",
      "166 Ingeniero Sanitario\n",
      "167 Ingeniero Textil\n",
      "168 Ingeniero Zootecnista\n",
      "169 INGENIRO NAVAL Y MECANICO\n",
      "170 LIC EN BIOLOGIA OR. ECOLOGIA\n",
      "171 Lic en Hig y Seg en el Trab, Esp en Protecc Ambtal\n",
      "172 Lic. Ciencias de la Educacion\n",
      "173 Lic. en Aprovechamiento de Recur. Nat. Renovables\n",
      "174 LIC. en BIOLOGIA con orientacion en  ZOOLOGIA\n",
      "175 LIC. EN BIOQUIMICA\n",
      "176 LIC. EN C. ANTROPOLOGICAS C. OR. ARQUEOLOGICA\n",
      "177 LIC. EN CIENCIAS AMBIENTALES\n",
      "178 LIC. EN CIENCIAS BIOLOGICAS\n",
      "179 LIC. EN CIENCIAS DEL AMBIENTE\n",
      "180 LIC. EN CIENCIAS GEOLOGICAS\n",
      "181 LIC. EN CIENCIAS QUÍMICAS\n",
      "182 LIC. EN CIENCIAS QUIMICAS O. ANALISIS BIOLOGICOS\n",
      "183 Lic. en Ecolgia y Cons.de Rec. Nat. Renovables\n",
      "184 LIC. EN ENSEÑANZA DE LAS CIENCIAS DEL AMBIENTE\n",
      "185 LIC. EN GEOLOGIA\n",
      "186 LIC. EN GERENCIAMIENTO AMBIENTAL\n",
      "187 Lic. en Gestion Ambiental\n",
      "188 LIC. EN GESTION AMBIENTAL URBANA\n",
      "189 LIC. EN HIGIENE Y  SEG EN EL TRABAJO\n",
      "190 LIC. EN HIGIENE Y SEGURIDAD INDUSTRIAL\n",
      "191 LIC. EN PROTECCIÓN Y SANEAMIENTO AMBIENTAL\n",
      "192 Lic. en Química y Tecnología Ambiental\n",
      "193 LIC. EN RELACIONES COM. INTERNACIONALES\n",
      "194 LIC. EN RELACIONES INDUSTRIALES CON ESPEC. EN UCA,\n",
      "195 Lic. en Saneamiento y proteccion ambiental\n",
      "196 Lic. en Seg. e Higiene en el Trabajo y Medio Amb.\n",
      "197 LIC. EN SEG. HIGIENE IND. Y CONTROL AMBIENTAL\n",
      "198 Lic. en Seguridad Ambiental\n",
      "199 LIC. EN SEGURIDAD E HIGIENE \n",
      "200 LIC. EN SEGURIDAD Y SALUD OCUPACIONAL\n",
      "201 Lic. en Seguridad, Higiene y Control Ambiental Lab\n",
      "202 LIC. EN SISTEMAS \n",
      "203 LIC. EN TECNOLOGÍA AMBIENTAL\n",
      "204 LIC. INFORMACIÓN AMBIENTAL\n",
      "205 LIC. SEGURIDAD E HIGIENE Y CONTROL AMBIENTAL\n",
      "206 Lic.en Biologia OR Zoologia\n",
      "207 Lic.en Seg e Hig y Control Amb Laboral\n",
      "208 Licenciad en Seguridad y salud ocupacional\n",
      "209 LICENCIADA  EN CIENCIAS DEL AMBIENTE\n",
      "210 Licenciada en Análisis Ambiental\n",
      "211 LICENCIADA EN BIOTECNOLOGIA\n",
      "212 LICENCIADA EN BROMATOLOGIA\n",
      "213 Licenciada en Ciencia y Tecnología de Alimentos\n",
      "214 LICENCIADA EN CIENCIAS AMBIENTALES\n",
      "215 Licenciada en Ciencias Geologicas\n",
      "216 Licenciada en Ciencias Politicas\n",
      "217 LICENCIADA EN CIENCIAS QUIMICAS O. ANALISIS QUIM.\n",
      "218 Licenciada en Diagnóstico y Gestión Ambiental\n",
      "219 Licenciada en Ecología Urbana\n",
      "220 LICENCIADA EN GEOLOGIA\n",
      "221 LICENCIADA EN GERENCIAMIENTO  AMB.\n",
      "222 LICENCIADA EN GESTION AMBIENTAL\n",
      "223 LICENCIADA EN INFORMACION AMBIENTAL\n",
      "224 Licenciada en Oceanografia\n",
      "225 Licenciada en Oceanografía Orientación Química Mar\n",
      "226 Licenciada en Quimica Industrial\n",
      "227 Licenciada en Química y Tecnologia Ambienta\n",
      "228 Licenciada en Relaciones Industriales\n",
      "229 Licenciada en Tecnología de los alimentos\n",
      "230 Licenciada en Tecnología Industrial de los Aliment\n",
      "231 licenciada en turismo\n",
      "232 Licenciada Oceanografía Orientación Química Marina\n",
      "233 Licenciado en Administración Agraria\n",
      "234 LICENCIADO EN ADMINISTRACION DE EMPRESAS.\n",
      "235 Licenciado en Analisis de Sistemas\n",
      "236 Licenciado en Antropologia\n",
      "237 Licenciado en Aprovechamiento de Recursos Naturale\n",
      "238 Licenciado en Biologia\n",
      "239 LICENCIADO EN BIOLOGIA or zoologia\n",
      "240 LICENCIADO EN BIOLOGIA OR. ECOLOGIA\n",
      "241 LICENCIADO EN BIOLOGIA OR. ECOLOGICA\n",
      "242 Licenciado en Biología or. Zoologia \n",
      "243 Licenciado en Bioquímica\n",
      "244 LICENCIADO EN BIOTECNOLOGIA\n",
      "245 Licenciado en Ciencias Agrarias\n",
      "246 Licenciado en Ciencias Ambientales\n",
      "247 Licenciado en Ciencias Antropológicas\n",
      "248 Licenciado en Ciencias Biologicas\n",
      "249 LICENCIADO EN CIENCIAS DEL AMBIENTE\n",
      "250 Licenciado en Ciencias Fisicas\n",
      "251 LICENCIADO EN CIENCIAS GEOLOGICAS\n",
      "252 Licenciado en Ciencias Oceonografia\n",
      "253 LICENCIADO EN COMUNICACION SOCIAL \n",
      "254 Licenciado en Comunicación Social\n",
      "255 LICENCIADO EN CRIMINALISTA\n",
      "256 Licenciado en Cs.Quimicas\n",
      "257 LICENCIADO EN DIAG. Y GESTION AMBIENTAL\n",
      "258 Licenciado en Diagnostico y Gestion Ambiental\n",
      "259 Licenciado en Diagnóstico y Gestión Ambiental\n",
      "260 Licenciado en Ecología\n",
      "261 Licenciado en Ecologia Urbana\n",
      "262 Licenciado en Economía\n",
      "263 Licenciado en Economia Agropecuaria\n",
      "264 Licenciado en Edafología\n",
      "265 Licenciado en Enseñanza de ciencias del ambiente\n",
      "266 Licenciado en Gelogía\n",
      "267 LICENCIADO EN GEOGRAFIA\n",
      "268 Licenciado en Geografía\n",
      "269 LICENCIADO EN GEOLOGIA\n",
      "270 Licenciado en Geología\n",
      "271 Licenciado en Gerenciamiento Ambiental\n",
      "272 Licenciado en Gestiòn Ambiental\n",
      "273 Licenciado en Gestion Ambiental Urbano\n",
      "274 LICENCIADO EN H. Y SEG. EN EL TRAB. ESP. EN P. AMB\n",
      "275 Licenciado en Higiene y Seguridad  en el Trabajo\n",
      "276 LICENCIADO EN HIGIENE Y SEGURIDAD LABORAL\n",
      "277 LICENCIADO EN INFORMACION AMBIENTAL\n",
      "278 Licenciado en Informatica Ambiental\n",
      "279 LICENCIADO EN ORGANIZACION INDUSTRIAL\n",
      "280 Licenciado en Organizaciòn Industrial\n",
      "281 Licenciado en Química\n",
      "282 LICENCIADO EN QUIMICA INDUSTRIAL\n",
      "283 LICENCIADO EN RELACIONES DEL TRABAJO\n",
      "284 LICENCIADO EN SANEAMIENTO AMBIENTAL \n",
      "285 LICENCIADO EN SANEAMIENTO Y PROTECCION AMBIENTAL\n",
      "286 Licenciado en Seguridad e Higiene en el Trabajo\n",
      "287 Licenciado en Seguridad Higiene y Control Ambienta\n",
      "288 LICENCIADO EN SEGURIDAD Y SALUD OCUPACIONAL\n",
      "289 Licenciado en Seguridad, Higiene y Control Ambient\n",
      "290 Licenciado en Sistemas de Protección Contra Sinies\n",
      "291 Licenciado en Sociología\n",
      "292 Licenciado en Tecnologia Ambiental\n",
      "293 Licenciado en Trabajo Social\n",
      "294 Licenciado en Transporte y Logística Operativa\n",
      "295 Licenciado en Zoología\n",
      "296 Licenciado Eugenista Humanologo\n",
      "297 Licenciano de Seguridad\n",
      "298 LICENCIATURA DE SEGURIDAD\n",
      "299 Licenciatura en AnÃ¡lisis ClÃ­nicos y BioquÃ­mica\n",
      "300 LICENCIATURA EN GERENCIAMIENTO AMBIENTAL\n",
      "301 LICENCIATURA EN SEGURIDAD Y SALUD OCUPACIONAL\n",
      "302 Licencioado en Geoquimica\n",
      "303 Liicenciatura en Información Ambiental\n",
      "304 MAESTRIA EN ADMINISTRACION DE EMPRESAS\n",
      "305 MAESTRIA EN AMBIENTE Y DESARROLLO SUSTENTABLE\n",
      "306 Maestría en Ciencias Ambientales\n",
      "307 MAESTRIA EN GESTION AMBIENTAL\n",
      "308 MAESTRIA EN HIGIENE Y SEGURIDAD EN EL TRABAJO\n",
      "309 MAESTRIA EN MANEJO AMBIENTAL DE SISTEMAS HIDRICOS\n",
      "310 Maestro  Mayor de Obras\n",
      "311 MAGISTER EN ESTUDIOS AMBIENTALES \n",
      "312 MAGISTER EN GESTION AMBIENTAL DEL DESARROLLO URBAN\n",
      "313 Magister en Ingenieria Ambiental\n",
      "314 Martillero y Corredor Publico\n",
      "315 Master en Gestion y Auditorias Ambientales\n",
      "316 MASTER EN INGENIERIA AMBIENTAL DE LA EMPRESA\n",
      "317 Master en Seguridad Industrial\n",
      "318 Master Lic. en Amb. del Desarrolo Urbano   \n",
      "319 Master Universitario en Gestion y Auditoria Ambie \n",
      "320 Médico\n",
      "321 Meteorólogo\n",
      "322 Muestreador (Curso RENATOM)\n",
      "323 Muestreador (Curso RETOMA)\n",
      "324 No posee colegio\n",
      "325 Oceanografo\n",
      "326 ODONTOLOGA\n",
      "327 Orientacion Mecanica\n",
      "328 Posgrado - INGENIERIA AMBIENTAL\n",
      "329 Posgrado en Hig. y Seg. en el Trab\n",
      "330 post grado en gestión ambiental\n",
      "331 PROCURADORA\n",
      "332 Profesora en Geografía\n",
      "333 Programa de Gestión Ambiental\n",
      "334 Programa de Gestiòn Ambiental\n",
      "335 proyecto de instalaciones hospitalarias\n",
      "336 QUIMICA (Carrera Bioquimica)\n",
      "337 QUIMICO\n",
      "338 saneamiento proteccion ambiental\n",
      "339 tec sup en seg e higiene en el trabajo . \n",
      "340 TEC. SUP. EN MED. AMB. MARINO Y COSTERO\n",
      "341 Tec. Sup. en Seg., Hig. y Control Amb. Ind.\n",
      "342 Tec. Superior en Hig. y Seg. en el Trabajo\n",
      "343 Tec. Superior en Manejo Ambiental\n",
      "344 Tec. Universitario en Gestión Ambiental Urbana\n",
      "345 TECNICA MAESTRO MAYOR DE OBRAS\n",
      "346 Tecnica Superior en Gestiòn Ambiental\n",
      "347 Tecnica Univ. en Informacion Ambiental\n",
      "348 TECNICATURA SUPERIOR EN GESTION AMBIENTAL Y SALUD\n",
      "349 Tecnico  Mecanico\n",
      "350 Tecnico  Saneamiento Ambiental\n",
      "351 Tecnico Analista Ambiental\n",
      "352 tecnico constructor\n",
      "353 Técnico Electrónico\n",
      "354 TECNICO EN E. Y INST. ELECTROMECANICAS\n",
      "355 Técnico en Electromecanica\n",
      "356 TECNICO EN EQUIPOS E INST. ELECTROMECANICAS\n",
      "357 Tecnico en Gerenciamiento Ambiental\n",
      "358 TECNICO EN INDUSTRIAS DE LA ALIMENTACION ORI.PESCA\n",
      "359 TECNICO EN INDUSTRIAS DE PROCESOS\n",
      "360 Técnico en la Cadena de Carnes\n",
      "361 Técnico en Meteorología Sinóptica\n",
      "362 Tecnico en Seguridad e Higiene\n",
      "363 Tecnico en Seguridad Industrial \n",
      "364 TECNICO EN SONIDO ESP EN DISEÑO DE INST. ACUSTICAS\n",
      "365 TECNICO FORESTAL\n",
      "366 Técnico Mecánico \n",
      "367 Tecnico Mecanico Electricista\n",
      "368 Tècnico Mecanico Electricista\n",
      "369 Técnico Químico\n",
      "370 Técnico sup. en gestion Ambiental\n",
      "371 TECNICO SUPERIOR AGRARIO EN SUELOS Y AGUAS\n",
      "372 TECNICO SUPERIOR EN BROMATOLOGIA\n",
      "373 Tecnico Superior en Ecologia\n",
      "374 TECNICO SUPERIOR EN MANEJO AMBIENTAL\n",
      "375 Técnico Superior en Seg. Higiene y Control Amb.\n",
      "376 Tecnico Superior en Seguridad e Higiene en el Trab\n",
      "377 Técnico Superior en Seguridad e Higiene Industrial\n",
      "378 Técnico Superior en Seguridad, Higiene y Control A\n",
      "379 Tecnico Superior en Seguridad, Higiene y ControlAm\n",
      "380 tecnico superior en turismo\n",
      "381 TECNICO UNIVERSITARIO EN GERENCIAMIENTO AMBIENTAL\n",
      "382 TECNICO UNIVERSITARIO EN GESTION AMBIENTAL\n",
      "383 Técnico Universitario en Gestión Ambiental\n",
      "384 TECNICO UNIVERSITARIO EN HIGIENE Y SEGURIDAD EN EL\n",
      "385 Técnico Universitario en Higiene y Seguridad Labor\n",
      "386 TECNICO UNIVERSITARIO EN INFORMACION AMBIENTAL\n",
      "387 TECNICO UNIVERSITARIO EN MEDIO AMBIENTE\n",
      "388 Veterinario\n",
      "389 Zoólogo\n",
      "390 0\n",
      "391 1\n",
      "392 22\n",
      "393 5\n",
      "394 17\n",
      "395 14\n",
      "396 4\n",
      "397 2\n",
      "398 6\n",
      "399 8\n",
      "400 13\n",
      "401 23\n",
      "402 11\n",
      "403 7\n",
      "404 15\n",
      "405 16\n",
      "406 9\n",
      "407 10\n",
      "408 12\n",
      "409 18\n",
      "410 3\n",
      "411 21\n",
      "412 19\n",
      "413 20\n",
      "414 0\n",
      "415 0\n"
     ]
    }
   ],
   "source": [
    "\n",
    "url=\"http://sistemas.opds.gba.gov.ar/intra/Profesionales/ConsultaWeb.php\"\n",
    "html_content = requests.get(url).text\n",
    "soup = BeautifulSoup(html_content, \"lxml\")\n",
    "options = soup.find_all(\"option\")\n",
    "for k, i in enumerate(options):\n",
    "    print(k, i.get(\"value\"))"
   ]
  },
  {
   "cell_type": "code",
   "execution_count": 9,
   "metadata": {},
   "outputs": [],
   "source": [
    "tits = []\n",
    "for k, i in enumerate(options):\n",
    "    if (k>5)&(k<390):\n",
    "        tits.append(i.get(\"value\"))"
   ]
  },
  {
   "cell_type": "code",
   "execution_count": null,
   "metadata": {},
   "outputs": [
    {
     "name": "stderr",
     "output_type": "stream",
     "text": [
      "\n",
      "  0%|          | 0/384 [00:00<?, ?it/s]\u001b[A/usr/lib/python3/dist-packages/ipykernel_launcher.py:26: FutureWarning: The signature of `Series.to_csv` was aligned to that of `DataFrame.to_csv`, and argument 'header' will change its default value from False to True: please pass an explicit value to suppress this warning.\n",
      "\n",
      "  0%|          | 1/384 [00:06<43:20,  6.79s/it]\u001b[A"
     ]
    },
    {
     "name": "stdout",
     "output_type": "stream",
     "text": [
      "\tLIC. SEGURIDAD E HIGIENE Y CONTROL AMBIENTAL  Done 1    ggcisterna@gmail.com\n",
      "dtype: object\n"
     ]
    },
    {
     "name": "stderr",
     "output_type": "stream",
     "text": [
      "\n",
      "  1%|          | 2/384 [00:15<46:15,  7.27s/it]\u001b[A"
     ]
    },
    {
     "name": "stdout",
     "output_type": "stream",
     "text": [
      "ABOGADA Done 1          ggcisterna@gmail.com\n",
      "1    sanchogabriela@hotmail.com\n",
      "dtype: object\n"
     ]
    },
    {
     "name": "stderr",
     "output_type": "stream",
     "text": [
      "\n",
      "  1%|          | 3/384 [00:39<1:17:53, 12.27s/it]\u001b[A"
     ]
    },
    {
     "name": "stdout",
     "output_type": "stream",
     "text": [
      "Abogado Done 1           ggcisterna@gmail.com\n",
      "1     sanchogabriela@hotmail.com\n",
      "1         ecalamos@argentina.com\n",
      "4         conghos@hotmail.com.ar\n",
      "5    marianonicola1975@gmail.com\n",
      "6        estudio_dlq@hotmail.com\n",
      "7      mmroncoli@eiascoop.com.ar\n",
      "8     jp@ambienteyterritorio.com\n",
      "dtype: object\n"
     ]
    },
    {
     "name": "stderr",
     "output_type": "stream",
     "text": [
      "\n",
      "  1%|          | 4/384 [00:47<1:10:58, 11.21s/it]\u001b[A"
     ]
    },
    {
     "name": "stdout",
     "output_type": "stream",
     "text": [
      "Agrimensor Done 1           ggcisterna@gmail.com\n",
      "1     sanchogabriela@hotmail.com\n",
      "1         ecalamos@argentina.com\n",
      "4         conghos@hotmail.com.ar\n",
      "5    marianonicola1975@gmail.com\n",
      "6        estudio_dlq@hotmail.com\n",
      "7      mmroncoli@eiascoop.com.ar\n",
      "8     jp@ambienteyterritorio.com\n",
      "dtype: object\n"
     ]
    },
    {
     "name": "stderr",
     "output_type": "stream",
     "text": [
      "\n",
      "  1%|▏         | 5/384 [01:23<1:57:23, 18.58s/it]\u001b[A"
     ]
    },
    {
     "name": "stdout",
     "output_type": "stream",
     "text": [
      "Agrónomo Done 1            ggcisterna@gmail.com\n",
      "1      sanchogabriela@hotmail.com\n",
      "1          ecalamos@argentina.com\n",
      "4          conghos@hotmail.com.ar\n",
      "5     marianonicola1975@gmail.com\n",
      "6         estudio_dlq@hotmail.com\n",
      "7       mmroncoli@eiascoop.com.ar\n",
      "8      jp@ambienteyterritorio.com\n",
      "1    aradoconsultora@jsnet.com.ar\n",
      "2        fedegarcia83@hotmail.com\n",
      "4       maroteclaudio@hotmail.com\n",
      "5        EMERONO2004@YAHOO.COM.AR\n",
      "7              neldo@ar.inter.net\n",
      "dtype: object\n"
     ]
    },
    {
     "name": "stderr",
     "output_type": "stream",
     "text": [
      "\n",
      "  2%|▏         | 6/384 [01:29<1:33:29, 14.84s/it]\u001b[A"
     ]
    },
    {
     "name": "stdout",
     "output_type": "stream",
     "text": [
      "Analista de Sistemas Done 1            ggcisterna@gmail.com\n",
      "1      sanchogabriela@hotmail.com\n",
      "1          ecalamos@argentina.com\n",
      "4          conghos@hotmail.com.ar\n",
      "5     marianonicola1975@gmail.com\n",
      "6         estudio_dlq@hotmail.com\n",
      "7       mmroncoli@eiascoop.com.ar\n",
      "8      jp@ambienteyterritorio.com\n",
      "1    aradoconsultora@jsnet.com.ar\n",
      "2        fedegarcia83@hotmail.com\n",
      "4       maroteclaudio@hotmail.com\n",
      "5        EMERONO2004@YAHOO.COM.AR\n",
      "7              neldo@ar.inter.net\n",
      "1           valjauregui@gmail.com\n",
      "dtype: object\n"
     ]
    },
    {
     "name": "stderr",
     "output_type": "stream",
     "text": [
      "\n",
      "  2%|▏         | 7/384 [01:38<1:21:18, 12.94s/it]\u001b[A"
     ]
    },
    {
     "name": "stdout",
     "output_type": "stream",
     "text": [
      "ANALISTA ECOLOGICO Done 1            ggcisterna@gmail.com\n",
      "1      sanchogabriela@hotmail.com\n",
      "1          ecalamos@argentina.com\n",
      "4          conghos@hotmail.com.ar\n",
      "5     marianonicola1975@gmail.com\n",
      "6         estudio_dlq@hotmail.com\n",
      "7       mmroncoli@eiascoop.com.ar\n",
      "8      jp@ambienteyterritorio.com\n",
      "1    aradoconsultora@jsnet.com.ar\n",
      "2        fedegarcia83@hotmail.com\n",
      "4       maroteclaudio@hotmail.com\n",
      "5        EMERONO2004@YAHOO.COM.AR\n",
      "7              neldo@ar.inter.net\n",
      "1           valjauregui@gmail.com\n",
      "dtype: object\n"
     ]
    },
    {
     "name": "stderr",
     "output_type": "stream",
     "text": [
      "\n",
      "  2%|▏         | 8/384 [01:47<1:14:37, 11.91s/it]\u001b[A"
     ]
    },
    {
     "name": "stdout",
     "output_type": "stream",
     "text": [
      "Analista Ecológico Done 1            ggcisterna@gmail.com\n",
      "1      sanchogabriela@hotmail.com\n",
      "1          ecalamos@argentina.com\n",
      "4          conghos@hotmail.com.ar\n",
      "5     marianonicola1975@gmail.com\n",
      "6         estudio_dlq@hotmail.com\n",
      "7       mmroncoli@eiascoop.com.ar\n",
      "8      jp@ambienteyterritorio.com\n",
      "1    aradoconsultora@jsnet.com.ar\n",
      "2        fedegarcia83@hotmail.com\n",
      "4       maroteclaudio@hotmail.com\n",
      "5        EMERONO2004@YAHOO.COM.AR\n",
      "7              neldo@ar.inter.net\n",
      "1           valjauregui@gmail.com\n",
      "1     guillermo@ghernandez.com.ar\n",
      "dtype: object\n"
     ]
    },
    {
     "name": "stderr",
     "output_type": "stream",
     "text": [
      "\n",
      "  2%|▏         | 9/384 [01:56<1:09:22, 11.10s/it]\u001b[A"
     ]
    },
    {
     "name": "stdout",
     "output_type": "stream",
     "text": [
      "Analista Ecológico y en  Contaminación Done 1            ggcisterna@gmail.com\n",
      "1      sanchogabriela@hotmail.com\n",
      "1          ecalamos@argentina.com\n",
      "4          conghos@hotmail.com.ar\n",
      "5     marianonicola1975@gmail.com\n",
      "6         estudio_dlq@hotmail.com\n",
      "7       mmroncoli@eiascoop.com.ar\n",
      "8      jp@ambienteyterritorio.com\n",
      "1    aradoconsultora@jsnet.com.ar\n",
      "2        fedegarcia83@hotmail.com\n",
      "4       maroteclaudio@hotmail.com\n",
      "5        EMERONO2004@YAHOO.COM.AR\n",
      "7              neldo@ar.inter.net\n",
      "1           valjauregui@gmail.com\n",
      "1     guillermo@ghernandez.com.ar\n",
      "1     guillermo@ghernandez.com.ar\n",
      "dtype: object\n"
     ]
    },
    {
     "name": "stderr",
     "output_type": "stream",
     "text": [
      "\n",
      "  3%|▎         | 10/384 [02:03<1:01:24,  9.85s/it]\u001b[A"
     ]
    },
    {
     "name": "stdout",
     "output_type": "stream",
     "text": [
      "Analista en Ciencias Ambientales Done 1            ggcisterna@gmail.com\n",
      "1      sanchogabriela@hotmail.com\n",
      "1          ecalamos@argentina.com\n",
      "4          conghos@hotmail.com.ar\n",
      "5     marianonicola1975@gmail.com\n",
      "6         estudio_dlq@hotmail.com\n",
      "7       mmroncoli@eiascoop.com.ar\n",
      "8      jp@ambienteyterritorio.com\n",
      "1    aradoconsultora@jsnet.com.ar\n",
      "2        fedegarcia83@hotmail.com\n",
      "4       maroteclaudio@hotmail.com\n",
      "5        EMERONO2004@YAHOO.COM.AR\n",
      "7              neldo@ar.inter.net\n",
      "1           valjauregui@gmail.com\n",
      "1     guillermo@ghernandez.com.ar\n",
      "1     guillermo@ghernandez.com.ar\n",
      "1          pablojcucchi@gmail.com\n",
      "2         nachostoray@hotmail.com\n",
      "dtype: object\n"
     ]
    },
    {
     "name": "stderr",
     "output_type": "stream",
     "text": [
      "\n",
      "  3%|▎         | 11/384 [02:10<55:19,  8.90s/it]  \u001b[A"
     ]
    },
    {
     "name": "stdout",
     "output_type": "stream",
     "text": [
      "Analista en Contaminación y Analista Ecológico Done 1            ggcisterna@gmail.com\n",
      "1      sanchogabriela@hotmail.com\n",
      "1          ecalamos@argentina.com\n",
      "4          conghos@hotmail.com.ar\n",
      "5     marianonicola1975@gmail.com\n",
      "6         estudio_dlq@hotmail.com\n",
      "7       mmroncoli@eiascoop.com.ar\n",
      "8      jp@ambienteyterritorio.com\n",
      "1    aradoconsultora@jsnet.com.ar\n",
      "2        fedegarcia83@hotmail.com\n",
      "4       maroteclaudio@hotmail.com\n",
      "5        EMERONO2004@YAHOO.COM.AR\n",
      "7              neldo@ar.inter.net\n",
      "1           valjauregui@gmail.com\n",
      "1     guillermo@ghernandez.com.ar\n",
      "1     guillermo@ghernandez.com.ar\n",
      "1          pablojcucchi@gmail.com\n",
      "2         nachostoray@hotmail.com\n",
      "dtype: object\n"
     ]
    },
    {
     "name": "stderr",
     "output_type": "stream",
     "text": [
      "\n",
      "  3%|▎         | 12/384 [02:17<51:31,  8.31s/it]\u001b[A"
     ]
    },
    {
     "name": "stdout",
     "output_type": "stream",
     "text": [
      "ANALISTA UNIVERSITARIO EN MONITOREO DEL AMBIENTE Done 1              ggcisterna@gmail.com\n",
      "1        sanchogabriela@hotmail.com\n",
      "1            ecalamos@argentina.com\n",
      "4            conghos@hotmail.com.ar\n",
      "5       marianonicola1975@gmail.com\n",
      "6           estudio_dlq@hotmail.com\n",
      "7         mmroncoli@eiascoop.com.ar\n",
      "8        jp@ambienteyterritorio.com\n",
      "1      aradoconsultora@jsnet.com.ar\n",
      "2          fedegarcia83@hotmail.com\n",
      "4         maroteclaudio@hotmail.com\n",
      "5          EMERONO2004@YAHOO.COM.AR\n",
      "7                neldo@ar.inter.net\n",
      "1             valjauregui@gmail.com\n",
      "1       guillermo@ghernandez.com.ar\n",
      "1       guillermo@ghernandez.com.ar\n",
      "1            pablojcucchi@gmail.com\n",
      "2           nachostoray@hotmail.com\n",
      "1    mariano.javier.veron@gmail.com\n",
      "dtype: object\n"
     ]
    },
    {
     "name": "stderr",
     "output_type": "stream",
     "text": [
      "\n",
      "  3%|▎         | 13/384 [02:23<46:13,  7.48s/it]\u001b[A"
     ]
    },
    {
     "name": "stdout",
     "output_type": "stream",
     "text": [
      "Antropologa Done 1              ggcisterna@gmail.com\n",
      "1        sanchogabriela@hotmail.com\n",
      "1            ecalamos@argentina.com\n",
      "4            conghos@hotmail.com.ar\n",
      "5       marianonicola1975@gmail.com\n",
      "6           estudio_dlq@hotmail.com\n",
      "7         mmroncoli@eiascoop.com.ar\n",
      "8        jp@ambienteyterritorio.com\n",
      "1      aradoconsultora@jsnet.com.ar\n",
      "2          fedegarcia83@hotmail.com\n",
      "4         maroteclaudio@hotmail.com\n",
      "5          EMERONO2004@YAHOO.COM.AR\n",
      "7                neldo@ar.inter.net\n",
      "1             valjauregui@gmail.com\n",
      "1       guillermo@ghernandez.com.ar\n",
      "1       guillermo@ghernandez.com.ar\n",
      "1            pablojcucchi@gmail.com\n",
      "2           nachostoray@hotmail.com\n",
      "1    mariano.javier.veron@gmail.com\n",
      "dtype: object\n"
     ]
    },
    {
     "name": "stderr",
     "output_type": "stream",
     "text": [
      "\n",
      "  4%|▎         | 14/384 [02:38<59:59,  9.73s/it]\u001b[A"
     ]
    },
    {
     "name": "stdout",
     "output_type": "stream",
     "text": [
      "Arquitecta Done 1              ggcisterna@gmail.com\n",
      "1        sanchogabriela@hotmail.com\n",
      "1            ecalamos@argentina.com\n",
      "4            conghos@hotmail.com.ar\n",
      "5       marianonicola1975@gmail.com\n",
      "6           estudio_dlq@hotmail.com\n",
      "7         mmroncoli@eiascoop.com.ar\n",
      "8        jp@ambienteyterritorio.com\n",
      "1      aradoconsultora@jsnet.com.ar\n",
      "2          fedegarcia83@hotmail.com\n",
      "4         maroteclaudio@hotmail.com\n",
      "5          EMERONO2004@YAHOO.COM.AR\n",
      "7                neldo@ar.inter.net\n",
      "1             valjauregui@gmail.com\n",
      "1       guillermo@ghernandez.com.ar\n",
      "1       guillermo@ghernandez.com.ar\n",
      "1            pablojcucchi@gmail.com\n",
      "2           nachostoray@hotmail.com\n",
      "1    mariano.javier.veron@gmail.com\n",
      "1           paulalagana@hotmail.com\n",
      "2      constanzamantovani@gmail.com\n",
      "3              sofisimizu@gmail.com\n",
      "dtype: object\n"
     ]
    },
    {
     "name": "stderr",
     "output_type": "stream",
     "text": [
      "\n",
      "  4%|▍         | 15/384 [04:21<3:52:39, 37.83s/it]\u001b[A"
     ]
    },
    {
     "name": "stdout",
     "output_type": "stream",
     "text": [
      "Arquitecto Done 1                    ggcisterna@gmail.com\n",
      "1              sanchogabriela@hotmail.com\n",
      "1                  ecalamos@argentina.com\n",
      "4                  conghos@hotmail.com.ar\n",
      "5             marianonicola1975@gmail.com\n",
      "6                 estudio_dlq@hotmail.com\n",
      "7               mmroncoli@eiascoop.com.ar\n",
      "8              jp@ambienteyterritorio.com\n",
      "1            aradoconsultora@jsnet.com.ar\n",
      "2                fedegarcia83@hotmail.com\n",
      "4               maroteclaudio@hotmail.com\n",
      "5                EMERONO2004@YAHOO.COM.AR\n",
      "7                      neldo@ar.inter.net\n",
      "1                   valjauregui@gmail.com\n",
      "1             guillermo@ghernandez.com.ar\n",
      "1             guillermo@ghernandez.com.ar\n",
      "1                  pablojcucchi@gmail.com\n",
      "2                 nachostoray@hotmail.com\n",
      "1          mariano.javier.veron@gmail.com\n",
      "1                 paulalagana@hotmail.com\n",
      "2            constanzamantovani@gmail.com\n",
      "3                    sofisimizu@gmail.com\n",
      "1                        balderiote@arnet\n",
      "2                  ceciliadambo@gmail.com\n",
      "3              de-carolis@sinectis.com.ar\n",
      "4             patryciogarcia@yahoo.com.ar\n",
      "5               luisakurata@speedy.com.ar\n",
      "7                 e.mariamuller@gmail.com\n",
      "8                    ecotimesrl@gmail.com\n",
      "9                   otegui.ruth@gmail.com\n",
      "11                     PASGROMO@GMAIL.COM\n",
      "12    bernardostocker@catambiental.com.ar\n",
      "13               guillermo.taft@gmail.com\n",
      "dtype: object\n"
     ]
    },
    {
     "name": "stderr",
     "output_type": "stream",
     "text": [
      "\n",
      "  4%|▍         | 16/384 [04:28<2:55:38, 28.64s/it]\u001b[A"
     ]
    },
    {
     "name": "stdout",
     "output_type": "stream",
     "text": [
      "Artillero y corredor Publico Done 1                    ggcisterna@gmail.com\n",
      "1              sanchogabriela@hotmail.com\n",
      "1                  ecalamos@argentina.com\n",
      "4                  conghos@hotmail.com.ar\n",
      "5             marianonicola1975@gmail.com\n",
      "6                 estudio_dlq@hotmail.com\n",
      "7               mmroncoli@eiascoop.com.ar\n",
      "8              jp@ambienteyterritorio.com\n",
      "1            aradoconsultora@jsnet.com.ar\n",
      "2                fedegarcia83@hotmail.com\n",
      "4               maroteclaudio@hotmail.com\n",
      "5                EMERONO2004@YAHOO.COM.AR\n",
      "7                      neldo@ar.inter.net\n",
      "1                   valjauregui@gmail.com\n",
      "1             guillermo@ghernandez.com.ar\n",
      "1             guillermo@ghernandez.com.ar\n",
      "1                  pablojcucchi@gmail.com\n",
      "2                 nachostoray@hotmail.com\n",
      "1          mariano.javier.veron@gmail.com\n",
      "1                 paulalagana@hotmail.com\n",
      "2            constanzamantovani@gmail.com\n",
      "3                    sofisimizu@gmail.com\n",
      "1                        balderiote@arnet\n",
      "2                  ceciliadambo@gmail.com\n",
      "3              de-carolis@sinectis.com.ar\n",
      "4             patryciogarcia@yahoo.com.ar\n",
      "5               luisakurata@speedy.com.ar\n",
      "7                 e.mariamuller@gmail.com\n",
      "8                    ecotimesrl@gmail.com\n",
      "9                   otegui.ruth@gmail.com\n",
      "11                     PASGROMO@GMAIL.COM\n",
      "12    bernardostocker@catambiental.com.ar\n",
      "13               guillermo.taft@gmail.com\n",
      "dtype: object\n"
     ]
    },
    {
     "name": "stderr",
     "output_type": "stream",
     "text": [
      "\n",
      "  4%|▍         | 17/384 [04:36<2:17:50, 22.54s/it]\u001b[A"
     ]
    },
    {
     "name": "stdout",
     "output_type": "stream",
     "text": [
      "BIOLOGA Done 1                    ggcisterna@gmail.com\n",
      "1              sanchogabriela@hotmail.com\n",
      "1                  ecalamos@argentina.com\n",
      "4                  conghos@hotmail.com.ar\n",
      "5             marianonicola1975@gmail.com\n",
      "6                 estudio_dlq@hotmail.com\n",
      "7               mmroncoli@eiascoop.com.ar\n",
      "8              jp@ambienteyterritorio.com\n",
      "1            aradoconsultora@jsnet.com.ar\n",
      "2                fedegarcia83@hotmail.com\n",
      "4               maroteclaudio@hotmail.com\n",
      "5                EMERONO2004@YAHOO.COM.AR\n",
      "7                      neldo@ar.inter.net\n",
      "1                   valjauregui@gmail.com\n",
      "1             guillermo@ghernandez.com.ar\n",
      "1             guillermo@ghernandez.com.ar\n",
      "1                  pablojcucchi@gmail.com\n",
      "2                 nachostoray@hotmail.com\n",
      "1          mariano.javier.veron@gmail.com\n",
      "1                 paulalagana@hotmail.com\n",
      "2            constanzamantovani@gmail.com\n",
      "3                    sofisimizu@gmail.com\n",
      "1                        balderiote@arnet\n",
      "2                  ceciliadambo@gmail.com\n",
      "3              de-carolis@sinectis.com.ar\n",
      "4             patryciogarcia@yahoo.com.ar\n",
      "5               luisakurata@speedy.com.ar\n",
      "7                 e.mariamuller@gmail.com\n",
      "8                    ecotimesrl@gmail.com\n",
      "9                   otegui.ruth@gmail.com\n",
      "11                     PASGROMO@GMAIL.COM\n",
      "12    bernardostocker@catambiental.com.ar\n",
      "13               guillermo.taft@gmail.com\n",
      "1                mborland_amb@hotmail.com\n",
      "2                       lucigoy@gmail.com\n",
      "3               msalvioli@ing.unlp.edu.ar\n",
      "dtype: object\n"
     ]
    },
    {
     "name": "stderr",
     "output_type": "stream",
     "text": [
      "\n",
      "  5%|▍         | 18/384 [05:20<2:56:15, 28.89s/it]\u001b[A"
     ]
    },
    {
     "name": "stdout",
     "output_type": "stream",
     "text": [
      "Biologo Done 1                    ggcisterna@gmail.com\n",
      "1              sanchogabriela@hotmail.com\n",
      "1                  ecalamos@argentina.com\n",
      "4                  conghos@hotmail.com.ar\n",
      "5             marianonicola1975@gmail.com\n",
      "6                 estudio_dlq@hotmail.com\n",
      "7               mmroncoli@eiascoop.com.ar\n",
      "8              jp@ambienteyterritorio.com\n",
      "1            aradoconsultora@jsnet.com.ar\n",
      "2                fedegarcia83@hotmail.com\n",
      "4               maroteclaudio@hotmail.com\n",
      "5                EMERONO2004@YAHOO.COM.AR\n",
      "7                      neldo@ar.inter.net\n",
      "1                   valjauregui@gmail.com\n",
      "1             guillermo@ghernandez.com.ar\n",
      "1             guillermo@ghernandez.com.ar\n",
      "1                  pablojcucchi@gmail.com\n",
      "2                 nachostoray@hotmail.com\n",
      "1          mariano.javier.veron@gmail.com\n",
      "1                 paulalagana@hotmail.com\n",
      "2            constanzamantovani@gmail.com\n",
      "3                    sofisimizu@gmail.com\n",
      "1                        balderiote@arnet\n",
      "2                  ceciliadambo@gmail.com\n",
      "3              de-carolis@sinectis.com.ar\n",
      "4             patryciogarcia@yahoo.com.ar\n",
      "5               luisakurata@speedy.com.ar\n",
      "7                 e.mariamuller@gmail.com\n",
      "8                    ecotimesrl@gmail.com\n",
      "9                   otegui.ruth@gmail.com\n",
      "11                     PASGROMO@GMAIL.COM\n",
      "12    bernardostocker@catambiental.com.ar\n",
      "13               guillermo.taft@gmail.com\n",
      "1                mborland_amb@hotmail.com\n",
      "2                       lucigoy@gmail.com\n",
      "3               msalvioli@ing.unlp.edu.ar\n",
      "1                abertona@fibertel.com.ar\n",
      "2                    gdbulus@yahoo.com.ar\n",
      "3                  info@ecotecnica.com.ar\n",
      "4               PROTO@ECOGESTIONAR.COM.AR\n",
      "6                   jilescano88@gmail.com\n",
      "7           javiermartinezheres@gmail.com\n",
      "8                lilianarithner@gmail.com\n",
      "9               axonambiental@hotmail.com\n",
      "11          rafael.emilio.silva@gmail.com\n",
      "12                        ZULETA.GUSTAVO@\n",
      "dtype: object\n"
     ]
    },
    {
     "name": "stderr",
     "output_type": "stream",
     "text": [
      "\n",
      "  5%|▍         | 19/384 [05:34<2:27:51, 24.31s/it]\u001b[A"
     ]
    },
    {
     "name": "stdout",
     "output_type": "stream",
     "text": [
      "Bioquímico Done 1                    ggcisterna@gmail.com\n",
      "1              sanchogabriela@hotmail.com\n",
      "1                  ecalamos@argentina.com\n",
      "4                  conghos@hotmail.com.ar\n",
      "5             marianonicola1975@gmail.com\n",
      "6                 estudio_dlq@hotmail.com\n",
      "7               mmroncoli@eiascoop.com.ar\n",
      "8              jp@ambienteyterritorio.com\n",
      "1            aradoconsultora@jsnet.com.ar\n",
      "2                fedegarcia83@hotmail.com\n",
      "4               maroteclaudio@hotmail.com\n",
      "5                EMERONO2004@YAHOO.COM.AR\n",
      "7                      neldo@ar.inter.net\n",
      "1                   valjauregui@gmail.com\n",
      "1             guillermo@ghernandez.com.ar\n",
      "1             guillermo@ghernandez.com.ar\n",
      "1                  pablojcucchi@gmail.com\n",
      "2                 nachostoray@hotmail.com\n",
      "1          mariano.javier.veron@gmail.com\n",
      "1                 paulalagana@hotmail.com\n",
      "2            constanzamantovani@gmail.com\n",
      "3                    sofisimizu@gmail.com\n",
      "1                        balderiote@arnet\n",
      "2                  ceciliadambo@gmail.com\n",
      "3              de-carolis@sinectis.com.ar\n",
      "4             patryciogarcia@yahoo.com.ar\n",
      "5               luisakurata@speedy.com.ar\n",
      "7                 e.mariamuller@gmail.com\n",
      "8                    ecotimesrl@gmail.com\n",
      "9                   otegui.ruth@gmail.com\n",
      "11                     PASGROMO@GMAIL.COM\n",
      "12    bernardostocker@catambiental.com.ar\n",
      "13               guillermo.taft@gmail.com\n",
      "1                mborland_amb@hotmail.com\n",
      "2                       lucigoy@gmail.com\n",
      "3               msalvioli@ing.unlp.edu.ar\n",
      "1                abertona@fibertel.com.ar\n",
      "2                    gdbulus@yahoo.com.ar\n",
      "3                  info@ecotecnica.com.ar\n",
      "4               PROTO@ECOGESTIONAR.COM.AR\n",
      "6                   jilescano88@gmail.com\n",
      "7           javiermartinezheres@gmail.com\n",
      "8                lilianarithner@gmail.com\n",
      "9               axonambiental@hotmail.com\n",
      "11          rafael.emilio.silva@gmail.com\n",
      "12                        ZULETA.GUSTAVO@\n",
      "2               ricardodeina@yahoo.com.ar\n",
      "3                   CINIRGON@YAHOO.COM.AR\n",
      "4          vgraf@laboratoriowasser.com.ar\n",
      "5                    MJSALELLAS@GMAIL.COM\n",
      "6                 gvalentinuzzi@gmail.com\n",
      "dtype: object\n"
     ]
    },
    {
     "name": "stderr",
     "output_type": "stream",
     "text": [
      "\n",
      "  5%|▌         | 20/384 [05:39<1:53:05, 18.64s/it]\u001b[A"
     ]
    },
    {
     "name": "stdout",
     "output_type": "stream",
     "text": [
      "con orientacion en botanica Done 1                    ggcisterna@gmail.com\n",
      "1              sanchogabriela@hotmail.com\n",
      "1                  ecalamos@argentina.com\n",
      "4                  conghos@hotmail.com.ar\n",
      "5             marianonicola1975@gmail.com\n",
      "6                 estudio_dlq@hotmail.com\n",
      "7               mmroncoli@eiascoop.com.ar\n",
      "8              jp@ambienteyterritorio.com\n",
      "1            aradoconsultora@jsnet.com.ar\n",
      "2                fedegarcia83@hotmail.com\n",
      "4               maroteclaudio@hotmail.com\n",
      "5                EMERONO2004@YAHOO.COM.AR\n",
      "7                      neldo@ar.inter.net\n",
      "1                   valjauregui@gmail.com\n",
      "1             guillermo@ghernandez.com.ar\n",
      "1             guillermo@ghernandez.com.ar\n",
      "1                  pablojcucchi@gmail.com\n",
      "2                 nachostoray@hotmail.com\n",
      "1          mariano.javier.veron@gmail.com\n",
      "1                 paulalagana@hotmail.com\n",
      "2            constanzamantovani@gmail.com\n",
      "3                    sofisimizu@gmail.com\n",
      "1                        balderiote@arnet\n",
      "2                  ceciliadambo@gmail.com\n",
      "3              de-carolis@sinectis.com.ar\n",
      "4             patryciogarcia@yahoo.com.ar\n",
      "5               luisakurata@speedy.com.ar\n",
      "7                 e.mariamuller@gmail.com\n",
      "8                    ecotimesrl@gmail.com\n",
      "9                   otegui.ruth@gmail.com\n",
      "11                     PASGROMO@GMAIL.COM\n",
      "12    bernardostocker@catambiental.com.ar\n",
      "13               guillermo.taft@gmail.com\n",
      "1                mborland_amb@hotmail.com\n",
      "2                       lucigoy@gmail.com\n",
      "3               msalvioli@ing.unlp.edu.ar\n",
      "1                abertona@fibertel.com.ar\n",
      "2                    gdbulus@yahoo.com.ar\n",
      "3                  info@ecotecnica.com.ar\n",
      "4               PROTO@ECOGESTIONAR.COM.AR\n",
      "6                   jilescano88@gmail.com\n",
      "7           javiermartinezheres@gmail.com\n",
      "8                lilianarithner@gmail.com\n",
      "9               axonambiental@hotmail.com\n",
      "11          rafael.emilio.silva@gmail.com\n",
      "12                        ZULETA.GUSTAVO@\n",
      "2               ricardodeina@yahoo.com.ar\n",
      "3                   CINIRGON@YAHOO.COM.AR\n",
      "4          vgraf@laboratoriowasser.com.ar\n",
      "5                    MJSALELLAS@GMAIL.COM\n",
      "6                 gvalentinuzzi@gmail.com\n",
      "dtype: object\n"
     ]
    },
    {
     "name": "stderr",
     "output_type": "stream",
     "text": [
      "\n",
      "  5%|▌         | 21/384 [05:45<1:29:10, 14.74s/it]\u001b[A"
     ]
    },
    {
     "name": "stdout",
     "output_type": "stream",
     "text": [
      "Contador Done 1                    ggcisterna@gmail.com\n",
      "1              sanchogabriela@hotmail.com\n",
      "1                  ecalamos@argentina.com\n",
      "4                  conghos@hotmail.com.ar\n",
      "5             marianonicola1975@gmail.com\n",
      "6                 estudio_dlq@hotmail.com\n",
      "7               mmroncoli@eiascoop.com.ar\n",
      "8              jp@ambienteyterritorio.com\n",
      "1            aradoconsultora@jsnet.com.ar\n",
      "2                fedegarcia83@hotmail.com\n",
      "4               maroteclaudio@hotmail.com\n",
      "5                EMERONO2004@YAHOO.COM.AR\n",
      "7                      neldo@ar.inter.net\n",
      "1                   valjauregui@gmail.com\n",
      "1             guillermo@ghernandez.com.ar\n",
      "1             guillermo@ghernandez.com.ar\n",
      "1                  pablojcucchi@gmail.com\n",
      "2                 nachostoray@hotmail.com\n",
      "1          mariano.javier.veron@gmail.com\n",
      "1                 paulalagana@hotmail.com\n",
      "2            constanzamantovani@gmail.com\n",
      "3                    sofisimizu@gmail.com\n",
      "1                        balderiote@arnet\n",
      "2                  ceciliadambo@gmail.com\n",
      "3              de-carolis@sinectis.com.ar\n",
      "4             patryciogarcia@yahoo.com.ar\n",
      "5               luisakurata@speedy.com.ar\n",
      "7                 e.mariamuller@gmail.com\n",
      "8                    ecotimesrl@gmail.com\n",
      "9                   otegui.ruth@gmail.com\n",
      "11                     PASGROMO@GMAIL.COM\n",
      "12    bernardostocker@catambiental.com.ar\n",
      "13               guillermo.taft@gmail.com\n",
      "1                mborland_amb@hotmail.com\n",
      "2                       lucigoy@gmail.com\n",
      "3               msalvioli@ing.unlp.edu.ar\n",
      "1                abertona@fibertel.com.ar\n",
      "2                    gdbulus@yahoo.com.ar\n",
      "3                  info@ecotecnica.com.ar\n",
      "4               PROTO@ECOGESTIONAR.COM.AR\n",
      "6                   jilescano88@gmail.com\n",
      "7           javiermartinezheres@gmail.com\n",
      "8                lilianarithner@gmail.com\n",
      "9               axonambiental@hotmail.com\n",
      "11          rafael.emilio.silva@gmail.com\n",
      "12                        ZULETA.GUSTAVO@\n",
      "2               ricardodeina@yahoo.com.ar\n",
      "3                   CINIRGON@YAHOO.COM.AR\n",
      "4          vgraf@laboratoriowasser.com.ar\n",
      "5                    MJSALELLAS@GMAIL.COM\n",
      "6                 gvalentinuzzi@gmail.com\n",
      "dtype: object\n"
     ]
    },
    {
     "name": "stderr",
     "output_type": "stream",
     "text": [
      "\n",
      "  6%|▌         | 22/384 [05:51<1:13:45, 12.22s/it]\u001b[A"
     ]
    },
    {
     "name": "stdout",
     "output_type": "stream",
     "text": [
      "Curso de Evaluacion de Impacto Ambiental y Proyect Done 1                    ggcisterna@gmail.com\n",
      "1              sanchogabriela@hotmail.com\n",
      "1                  ecalamos@argentina.com\n",
      "4                  conghos@hotmail.com.ar\n",
      "5             marianonicola1975@gmail.com\n",
      "6                 estudio_dlq@hotmail.com\n",
      "7               mmroncoli@eiascoop.com.ar\n",
      "8              jp@ambienteyterritorio.com\n",
      "1            aradoconsultora@jsnet.com.ar\n",
      "2                fedegarcia83@hotmail.com\n",
      "4               maroteclaudio@hotmail.com\n",
      "5                EMERONO2004@YAHOO.COM.AR\n",
      "7                      neldo@ar.inter.net\n",
      "1                   valjauregui@gmail.com\n",
      "1             guillermo@ghernandez.com.ar\n",
      "1             guillermo@ghernandez.com.ar\n",
      "1                  pablojcucchi@gmail.com\n",
      "2                 nachostoray@hotmail.com\n",
      "1          mariano.javier.veron@gmail.com\n",
      "1                 paulalagana@hotmail.com\n",
      "2            constanzamantovani@gmail.com\n",
      "3                    sofisimizu@gmail.com\n",
      "1                        balderiote@arnet\n",
      "2                  ceciliadambo@gmail.com\n",
      "3              de-carolis@sinectis.com.ar\n",
      "4             patryciogarcia@yahoo.com.ar\n",
      "5               luisakurata@speedy.com.ar\n",
      "7                 e.mariamuller@gmail.com\n",
      "8                    ecotimesrl@gmail.com\n",
      "9                   otegui.ruth@gmail.com\n",
      "11                     PASGROMO@GMAIL.COM\n",
      "12    bernardostocker@catambiental.com.ar\n",
      "13               guillermo.taft@gmail.com\n",
      "1                mborland_amb@hotmail.com\n",
      "2                       lucigoy@gmail.com\n",
      "3               msalvioli@ing.unlp.edu.ar\n",
      "1                abertona@fibertel.com.ar\n",
      "2                    gdbulus@yahoo.com.ar\n",
      "3                  info@ecotecnica.com.ar\n",
      "4               PROTO@ECOGESTIONAR.COM.AR\n",
      "6                   jilescano88@gmail.com\n",
      "7           javiermartinezheres@gmail.com\n",
      "8                lilianarithner@gmail.com\n",
      "9               axonambiental@hotmail.com\n",
      "11          rafael.emilio.silva@gmail.com\n",
      "12                        ZULETA.GUSTAVO@\n",
      "2               ricardodeina@yahoo.com.ar\n",
      "3                   CINIRGON@YAHOO.COM.AR\n",
      "4          vgraf@laboratoriowasser.com.ar\n",
      "5                    MJSALELLAS@GMAIL.COM\n",
      "6                 gvalentinuzzi@gmail.com\n",
      "dtype: object\n"
     ]
    },
    {
     "name": "stderr",
     "output_type": "stream",
     "text": [
      "\n",
      "  6%|▌         | 23/384 [05:57<1:02:34, 10.40s/it]\u001b[A"
     ]
    },
    {
     "name": "stdout",
     "output_type": "stream",
     "text": [
      "curso de psgrado en EIA Done 1                    ggcisterna@gmail.com\n",
      "1              sanchogabriela@hotmail.com\n",
      "1                  ecalamos@argentina.com\n",
      "4                  conghos@hotmail.com.ar\n",
      "5             marianonicola1975@gmail.com\n",
      "6                 estudio_dlq@hotmail.com\n",
      "7               mmroncoli@eiascoop.com.ar\n",
      "8              jp@ambienteyterritorio.com\n",
      "1            aradoconsultora@jsnet.com.ar\n",
      "2                fedegarcia83@hotmail.com\n",
      "4               maroteclaudio@hotmail.com\n",
      "5                EMERONO2004@YAHOO.COM.AR\n",
      "7                      neldo@ar.inter.net\n",
      "1                   valjauregui@gmail.com\n",
      "1             guillermo@ghernandez.com.ar\n",
      "1             guillermo@ghernandez.com.ar\n",
      "1                  pablojcucchi@gmail.com\n",
      "2                 nachostoray@hotmail.com\n",
      "1          mariano.javier.veron@gmail.com\n",
      "1                 paulalagana@hotmail.com\n",
      "2            constanzamantovani@gmail.com\n",
      "3                    sofisimizu@gmail.com\n",
      "1                        balderiote@arnet\n",
      "2                  ceciliadambo@gmail.com\n",
      "3              de-carolis@sinectis.com.ar\n",
      "4             patryciogarcia@yahoo.com.ar\n",
      "5               luisakurata@speedy.com.ar\n",
      "7                 e.mariamuller@gmail.com\n",
      "8                    ecotimesrl@gmail.com\n",
      "9                   otegui.ruth@gmail.com\n",
      "11                     PASGROMO@GMAIL.COM\n",
      "12    bernardostocker@catambiental.com.ar\n",
      "13               guillermo.taft@gmail.com\n",
      "1                mborland_amb@hotmail.com\n",
      "2                       lucigoy@gmail.com\n",
      "3               msalvioli@ing.unlp.edu.ar\n",
      "1                abertona@fibertel.com.ar\n",
      "2                    gdbulus@yahoo.com.ar\n",
      "3                  info@ecotecnica.com.ar\n",
      "4               PROTO@ECOGESTIONAR.COM.AR\n",
      "6                   jilescano88@gmail.com\n",
      "7           javiermartinezheres@gmail.com\n",
      "8                lilianarithner@gmail.com\n",
      "9               axonambiental@hotmail.com\n",
      "11          rafael.emilio.silva@gmail.com\n",
      "12                        ZULETA.GUSTAVO@\n",
      "2               ricardodeina@yahoo.com.ar\n",
      "3                   CINIRGON@YAHOO.COM.AR\n",
      "4          vgraf@laboratoriowasser.com.ar\n",
      "5                    MJSALELLAS@GMAIL.COM\n",
      "6                 gvalentinuzzi@gmail.com\n",
      "dtype: object\n"
     ]
    },
    {
     "name": "stderr",
     "output_type": "stream",
     "text": [
      "\n",
      "  6%|▋         | 24/384 [06:04<56:05,  9.35s/it]  \u001b[A"
     ]
    },
    {
     "name": "stdout",
     "output_type": "stream",
     "text": [
      "CURSO DE PUESTA A TIERRA DE PLANTAS INDUSTRIALES Done 1                    ggcisterna@gmail.com\n",
      "1              sanchogabriela@hotmail.com\n",
      "1                  ecalamos@argentina.com\n",
      "4                  conghos@hotmail.com.ar\n",
      "5             marianonicola1975@gmail.com\n",
      "6                 estudio_dlq@hotmail.com\n",
      "7               mmroncoli@eiascoop.com.ar\n",
      "8              jp@ambienteyterritorio.com\n",
      "1            aradoconsultora@jsnet.com.ar\n",
      "2                fedegarcia83@hotmail.com\n",
      "4               maroteclaudio@hotmail.com\n",
      "5                EMERONO2004@YAHOO.COM.AR\n",
      "7                      neldo@ar.inter.net\n",
      "1                   valjauregui@gmail.com\n",
      "1             guillermo@ghernandez.com.ar\n",
      "1             guillermo@ghernandez.com.ar\n",
      "1                  pablojcucchi@gmail.com\n",
      "2                 nachostoray@hotmail.com\n",
      "1          mariano.javier.veron@gmail.com\n",
      "1                 paulalagana@hotmail.com\n",
      "2            constanzamantovani@gmail.com\n",
      "3                    sofisimizu@gmail.com\n",
      "1                        balderiote@arnet\n",
      "2                  ceciliadambo@gmail.com\n",
      "3              de-carolis@sinectis.com.ar\n",
      "4             patryciogarcia@yahoo.com.ar\n",
      "5               luisakurata@speedy.com.ar\n",
      "7                 e.mariamuller@gmail.com\n",
      "8                    ecotimesrl@gmail.com\n",
      "9                   otegui.ruth@gmail.com\n",
      "11                     PASGROMO@GMAIL.COM\n",
      "12    bernardostocker@catambiental.com.ar\n",
      "13               guillermo.taft@gmail.com\n",
      "1                mborland_amb@hotmail.com\n",
      "2                       lucigoy@gmail.com\n",
      "3               msalvioli@ing.unlp.edu.ar\n",
      "1                abertona@fibertel.com.ar\n",
      "2                    gdbulus@yahoo.com.ar\n",
      "3                  info@ecotecnica.com.ar\n",
      "4               PROTO@ECOGESTIONAR.COM.AR\n",
      "6                   jilescano88@gmail.com\n",
      "7           javiermartinezheres@gmail.com\n",
      "8                lilianarithner@gmail.com\n",
      "9               axonambiental@hotmail.com\n",
      "11          rafael.emilio.silva@gmail.com\n",
      "12                        ZULETA.GUSTAVO@\n",
      "2               ricardodeina@yahoo.com.ar\n",
      "3                   CINIRGON@YAHOO.COM.AR\n",
      "4          vgraf@laboratoriowasser.com.ar\n",
      "5                    MJSALELLAS@GMAIL.COM\n",
      "6                 gvalentinuzzi@gmail.com\n",
      "1                raulmonsalvo57@gmail.com\n",
      "dtype: object\n"
     ]
    },
    {
     "name": "stderr",
     "output_type": "stream",
     "text": [
      "\n",
      "  7%|▋         | 25/384 [06:11<50:51,  8.50s/it]\u001b[A"
     ]
    },
    {
     "name": "stdout",
     "output_type": "stream",
     "text": [
      "Curso EIA y Proyecto Urbano Done 1                    ggcisterna@gmail.com\n",
      "1              sanchogabriela@hotmail.com\n",
      "1                  ecalamos@argentina.com\n",
      "4                  conghos@hotmail.com.ar\n",
      "5             marianonicola1975@gmail.com\n",
      "6                 estudio_dlq@hotmail.com\n",
      "7               mmroncoli@eiascoop.com.ar\n",
      "8              jp@ambienteyterritorio.com\n",
      "1            aradoconsultora@jsnet.com.ar\n",
      "2                fedegarcia83@hotmail.com\n",
      "4               maroteclaudio@hotmail.com\n",
      "5                EMERONO2004@YAHOO.COM.AR\n",
      "7                      neldo@ar.inter.net\n",
      "1                   valjauregui@gmail.com\n",
      "1             guillermo@ghernandez.com.ar\n",
      "1             guillermo@ghernandez.com.ar\n",
      "1                  pablojcucchi@gmail.com\n",
      "2                 nachostoray@hotmail.com\n",
      "1          mariano.javier.veron@gmail.com\n",
      "1                 paulalagana@hotmail.com\n",
      "2            constanzamantovani@gmail.com\n",
      "3                    sofisimizu@gmail.com\n",
      "1                        balderiote@arnet\n",
      "2                  ceciliadambo@gmail.com\n",
      "3              de-carolis@sinectis.com.ar\n",
      "4             patryciogarcia@yahoo.com.ar\n",
      "5               luisakurata@speedy.com.ar\n",
      "7                 e.mariamuller@gmail.com\n",
      "8                    ecotimesrl@gmail.com\n",
      "9                   otegui.ruth@gmail.com\n",
      "11                     PASGROMO@GMAIL.COM\n",
      "12    bernardostocker@catambiental.com.ar\n",
      "13               guillermo.taft@gmail.com\n",
      "1                mborland_amb@hotmail.com\n",
      "2                       lucigoy@gmail.com\n",
      "3               msalvioli@ing.unlp.edu.ar\n",
      "1                abertona@fibertel.com.ar\n",
      "2                    gdbulus@yahoo.com.ar\n",
      "3                  info@ecotecnica.com.ar\n",
      "4               PROTO@ECOGESTIONAR.COM.AR\n",
      "6                   jilescano88@gmail.com\n",
      "7           javiermartinezheres@gmail.com\n",
      "8                lilianarithner@gmail.com\n",
      "9               axonambiental@hotmail.com\n",
      "11          rafael.emilio.silva@gmail.com\n",
      "12                        ZULETA.GUSTAVO@\n",
      "2               ricardodeina@yahoo.com.ar\n",
      "3                   CINIRGON@YAHOO.COM.AR\n",
      "4          vgraf@laboratoriowasser.com.ar\n",
      "5                    MJSALELLAS@GMAIL.COM\n",
      "6                 gvalentinuzzi@gmail.com\n",
      "1                raulmonsalvo57@gmail.com\n",
      "dtype: object\n"
     ]
    },
    {
     "name": "stderr",
     "output_type": "stream",
     "text": [
      "\n",
      "  7%|▋         | 26/384 [06:17<47:24,  7.95s/it]\u001b[A"
     ]
    },
    {
     "name": "stdout",
     "output_type": "stream",
     "text": [
      "Diseñador Industrial Done 1                    ggcisterna@gmail.com\n",
      "1              sanchogabriela@hotmail.com\n",
      "1                  ecalamos@argentina.com\n",
      "4                  conghos@hotmail.com.ar\n",
      "5             marianonicola1975@gmail.com\n",
      "6                 estudio_dlq@hotmail.com\n",
      "7               mmroncoli@eiascoop.com.ar\n",
      "8              jp@ambienteyterritorio.com\n",
      "1            aradoconsultora@jsnet.com.ar\n",
      "2                fedegarcia83@hotmail.com\n",
      "4               maroteclaudio@hotmail.com\n",
      "5                EMERONO2004@YAHOO.COM.AR\n",
      "7                      neldo@ar.inter.net\n",
      "1                   valjauregui@gmail.com\n",
      "1             guillermo@ghernandez.com.ar\n",
      "1             guillermo@ghernandez.com.ar\n",
      "1                  pablojcucchi@gmail.com\n",
      "2                 nachostoray@hotmail.com\n",
      "1          mariano.javier.veron@gmail.com\n",
      "1                 paulalagana@hotmail.com\n",
      "2            constanzamantovani@gmail.com\n",
      "3                    sofisimizu@gmail.com\n",
      "1                        balderiote@arnet\n",
      "2                  ceciliadambo@gmail.com\n",
      "3              de-carolis@sinectis.com.ar\n",
      "4             patryciogarcia@yahoo.com.ar\n",
      "5               luisakurata@speedy.com.ar\n",
      "7                 e.mariamuller@gmail.com\n",
      "8                    ecotimesrl@gmail.com\n",
      "9                   otegui.ruth@gmail.com\n",
      "11                     PASGROMO@GMAIL.COM\n",
      "12    bernardostocker@catambiental.com.ar\n",
      "13               guillermo.taft@gmail.com\n",
      "1                mborland_amb@hotmail.com\n",
      "2                       lucigoy@gmail.com\n",
      "3               msalvioli@ing.unlp.edu.ar\n",
      "1                abertona@fibertel.com.ar\n",
      "2                    gdbulus@yahoo.com.ar\n",
      "3                  info@ecotecnica.com.ar\n",
      "4               PROTO@ECOGESTIONAR.COM.AR\n",
      "6                   jilescano88@gmail.com\n",
      "7           javiermartinezheres@gmail.com\n",
      "8                lilianarithner@gmail.com\n",
      "9               axonambiental@hotmail.com\n",
      "11          rafael.emilio.silva@gmail.com\n",
      "12                        ZULETA.GUSTAVO@\n",
      "2               ricardodeina@yahoo.com.ar\n",
      "3                   CINIRGON@YAHOO.COM.AR\n",
      "4          vgraf@laboratoriowasser.com.ar\n",
      "5                    MJSALELLAS@GMAIL.COM\n",
      "6                 gvalentinuzzi@gmail.com\n",
      "1                raulmonsalvo57@gmail.com\n",
      "dtype: object\n"
     ]
    },
    {
     "name": "stderr",
     "output_type": "stream",
     "text": [
      "\n",
      "  7%|▋         | 27/384 [06:24<44:58,  7.56s/it]\u001b[A"
     ]
    },
    {
     "name": "stdout",
     "output_type": "stream",
     "text": [
      "diseño en areas esteriles  Done 1                    ggcisterna@gmail.com\n",
      "1              sanchogabriela@hotmail.com\n",
      "1                  ecalamos@argentina.com\n",
      "4                  conghos@hotmail.com.ar\n",
      "5             marianonicola1975@gmail.com\n",
      "6                 estudio_dlq@hotmail.com\n",
      "7               mmroncoli@eiascoop.com.ar\n",
      "8              jp@ambienteyterritorio.com\n",
      "1            aradoconsultora@jsnet.com.ar\n",
      "2                fedegarcia83@hotmail.com\n",
      "4               maroteclaudio@hotmail.com\n",
      "5                EMERONO2004@YAHOO.COM.AR\n",
      "7                      neldo@ar.inter.net\n",
      "1                   valjauregui@gmail.com\n",
      "1             guillermo@ghernandez.com.ar\n",
      "1             guillermo@ghernandez.com.ar\n",
      "1                  pablojcucchi@gmail.com\n",
      "2                 nachostoray@hotmail.com\n",
      "1          mariano.javier.veron@gmail.com\n",
      "1                 paulalagana@hotmail.com\n",
      "2            constanzamantovani@gmail.com\n",
      "3                    sofisimizu@gmail.com\n",
      "1                        balderiote@arnet\n",
      "2                  ceciliadambo@gmail.com\n",
      "3              de-carolis@sinectis.com.ar\n",
      "4             patryciogarcia@yahoo.com.ar\n",
      "5               luisakurata@speedy.com.ar\n",
      "7                 e.mariamuller@gmail.com\n",
      "8                    ecotimesrl@gmail.com\n",
      "9                   otegui.ruth@gmail.com\n",
      "11                     PASGROMO@GMAIL.COM\n",
      "12    bernardostocker@catambiental.com.ar\n",
      "13               guillermo.taft@gmail.com\n",
      "1                mborland_amb@hotmail.com\n",
      "2                       lucigoy@gmail.com\n",
      "3               msalvioli@ing.unlp.edu.ar\n",
      "1                abertona@fibertel.com.ar\n",
      "2                    gdbulus@yahoo.com.ar\n",
      "3                  info@ecotecnica.com.ar\n",
      "4               PROTO@ECOGESTIONAR.COM.AR\n",
      "6                   jilescano88@gmail.com\n",
      "7           javiermartinezheres@gmail.com\n",
      "8                lilianarithner@gmail.com\n",
      "9               axonambiental@hotmail.com\n",
      "11          rafael.emilio.silva@gmail.com\n",
      "12                        ZULETA.GUSTAVO@\n",
      "2               ricardodeina@yahoo.com.ar\n",
      "3                   CINIRGON@YAHOO.COM.AR\n",
      "4          vgraf@laboratoriowasser.com.ar\n",
      "5                    MJSALELLAS@GMAIL.COM\n",
      "6                 gvalentinuzzi@gmail.com\n",
      "1                raulmonsalvo57@gmail.com\n",
      "dtype: object\n"
     ]
    },
    {
     "name": "stderr",
     "output_type": "stream",
     "text": [
      "\n",
      "  7%|▋         | 28/384 [06:30<42:09,  7.10s/it]\u001b[A"
     ]
    },
    {
     "name": "stdout",
     "output_type": "stream",
     "text": [
      "Doctor de la Univ. Bs.As. área Ingeniería Done 1                    ggcisterna@gmail.com\n",
      "1              sanchogabriela@hotmail.com\n",
      "1                  ecalamos@argentina.com\n",
      "4                  conghos@hotmail.com.ar\n",
      "5             marianonicola1975@gmail.com\n",
      "6                 estudio_dlq@hotmail.com\n",
      "7               mmroncoli@eiascoop.com.ar\n",
      "8              jp@ambienteyterritorio.com\n",
      "1            aradoconsultora@jsnet.com.ar\n",
      "2                fedegarcia83@hotmail.com\n",
      "4               maroteclaudio@hotmail.com\n",
      "5                EMERONO2004@YAHOO.COM.AR\n",
      "7                      neldo@ar.inter.net\n",
      "1                   valjauregui@gmail.com\n",
      "1             guillermo@ghernandez.com.ar\n",
      "1             guillermo@ghernandez.com.ar\n",
      "1                  pablojcucchi@gmail.com\n",
      "2                 nachostoray@hotmail.com\n",
      "1          mariano.javier.veron@gmail.com\n",
      "1                 paulalagana@hotmail.com\n",
      "2            constanzamantovani@gmail.com\n",
      "3                    sofisimizu@gmail.com\n",
      "1                        balderiote@arnet\n",
      "2                  ceciliadambo@gmail.com\n",
      "3              de-carolis@sinectis.com.ar\n",
      "4             patryciogarcia@yahoo.com.ar\n",
      "5               luisakurata@speedy.com.ar\n",
      "7                 e.mariamuller@gmail.com\n",
      "8                    ecotimesrl@gmail.com\n",
      "9                   otegui.ruth@gmail.com\n",
      "11                     PASGROMO@GMAIL.COM\n",
      "12    bernardostocker@catambiental.com.ar\n",
      "13               guillermo.taft@gmail.com\n",
      "1                mborland_amb@hotmail.com\n",
      "2                       lucigoy@gmail.com\n",
      "3               msalvioli@ing.unlp.edu.ar\n",
      "1                abertona@fibertel.com.ar\n",
      "2                    gdbulus@yahoo.com.ar\n",
      "3                  info@ecotecnica.com.ar\n",
      "4               PROTO@ECOGESTIONAR.COM.AR\n",
      "6                   jilescano88@gmail.com\n",
      "7           javiermartinezheres@gmail.com\n",
      "8                lilianarithner@gmail.com\n",
      "9               axonambiental@hotmail.com\n",
      "11          rafael.emilio.silva@gmail.com\n",
      "12                        ZULETA.GUSTAVO@\n",
      "2               ricardodeina@yahoo.com.ar\n",
      "3                   CINIRGON@YAHOO.COM.AR\n",
      "4          vgraf@laboratoriowasser.com.ar\n",
      "5                    MJSALELLAS@GMAIL.COM\n",
      "6                 gvalentinuzzi@gmail.com\n",
      "1                raulmonsalvo57@gmail.com\n",
      "dtype: object\n"
     ]
    },
    {
     "name": "stderr",
     "output_type": "stream",
     "text": [
      "\n",
      "  8%|▊         | 29/384 [06:37<41:55,  7.09s/it]\u001b[A"
     ]
    },
    {
     "name": "stdout",
     "output_type": "stream",
     "text": [
      "Doctor en Ciencias del Mar Done 1                    ggcisterna@gmail.com\n",
      "1              sanchogabriela@hotmail.com\n",
      "1                  ecalamos@argentina.com\n",
      "4                  conghos@hotmail.com.ar\n",
      "5             marianonicola1975@gmail.com\n",
      "6                 estudio_dlq@hotmail.com\n",
      "7               mmroncoli@eiascoop.com.ar\n",
      "8              jp@ambienteyterritorio.com\n",
      "1            aradoconsultora@jsnet.com.ar\n",
      "2                fedegarcia83@hotmail.com\n",
      "4               maroteclaudio@hotmail.com\n",
      "5                EMERONO2004@YAHOO.COM.AR\n",
      "7                      neldo@ar.inter.net\n",
      "1                   valjauregui@gmail.com\n",
      "1             guillermo@ghernandez.com.ar\n",
      "1             guillermo@ghernandez.com.ar\n",
      "1                  pablojcucchi@gmail.com\n",
      "2                 nachostoray@hotmail.com\n",
      "1          mariano.javier.veron@gmail.com\n",
      "1                 paulalagana@hotmail.com\n",
      "2            constanzamantovani@gmail.com\n",
      "3                    sofisimizu@gmail.com\n",
      "1                        balderiote@arnet\n",
      "2                  ceciliadambo@gmail.com\n",
      "3              de-carolis@sinectis.com.ar\n",
      "4             patryciogarcia@yahoo.com.ar\n",
      "5               luisakurata@speedy.com.ar\n",
      "7                 e.mariamuller@gmail.com\n",
      "8                    ecotimesrl@gmail.com\n",
      "9                   otegui.ruth@gmail.com\n",
      "11                     PASGROMO@GMAIL.COM\n",
      "12    bernardostocker@catambiental.com.ar\n",
      "13               guillermo.taft@gmail.com\n",
      "1                mborland_amb@hotmail.com\n",
      "2                       lucigoy@gmail.com\n",
      "3               msalvioli@ing.unlp.edu.ar\n",
      "1                abertona@fibertel.com.ar\n",
      "2                    gdbulus@yahoo.com.ar\n",
      "3                  info@ecotecnica.com.ar\n",
      "4               PROTO@ECOGESTIONAR.COM.AR\n",
      "6                   jilescano88@gmail.com\n",
      "7           javiermartinezheres@gmail.com\n",
      "8                lilianarithner@gmail.com\n",
      "9               axonambiental@hotmail.com\n",
      "11          rafael.emilio.silva@gmail.com\n",
      "12                        ZULETA.GUSTAVO@\n",
      "2               ricardodeina@yahoo.com.ar\n",
      "3                   CINIRGON@YAHOO.COM.AR\n",
      "4          vgraf@laboratoriowasser.com.ar\n",
      "5                    MJSALELLAS@GMAIL.COM\n",
      "6                 gvalentinuzzi@gmail.com\n",
      "1                raulmonsalvo57@gmail.com\n",
      "dtype: object\n"
     ]
    },
    {
     "name": "stderr",
     "output_type": "stream",
     "text": [
      "\n",
      "  8%|▊         | 30/384 [06:45<42:23,  7.18s/it]\u001b[A"
     ]
    },
    {
     "name": "stdout",
     "output_type": "stream",
     "text": [
      "Doctor en Ciencias Naturales Done 1                    ggcisterna@gmail.com\n",
      "1              sanchogabriela@hotmail.com\n",
      "1                  ecalamos@argentina.com\n",
      "4                  conghos@hotmail.com.ar\n",
      "5             marianonicola1975@gmail.com\n",
      "6                 estudio_dlq@hotmail.com\n",
      "7               mmroncoli@eiascoop.com.ar\n",
      "8              jp@ambienteyterritorio.com\n",
      "1            aradoconsultora@jsnet.com.ar\n",
      "2                fedegarcia83@hotmail.com\n",
      "4               maroteclaudio@hotmail.com\n",
      "5                EMERONO2004@YAHOO.COM.AR\n",
      "7                      neldo@ar.inter.net\n",
      "1                   valjauregui@gmail.com\n",
      "1             guillermo@ghernandez.com.ar\n",
      "1             guillermo@ghernandez.com.ar\n",
      "1                  pablojcucchi@gmail.com\n",
      "2                 nachostoray@hotmail.com\n",
      "1          mariano.javier.veron@gmail.com\n",
      "1                 paulalagana@hotmail.com\n",
      "2            constanzamantovani@gmail.com\n",
      "3                    sofisimizu@gmail.com\n",
      "1                        balderiote@arnet\n",
      "2                  ceciliadambo@gmail.com\n",
      "3              de-carolis@sinectis.com.ar\n",
      "4             patryciogarcia@yahoo.com.ar\n",
      "5               luisakurata@speedy.com.ar\n",
      "7                 e.mariamuller@gmail.com\n",
      "8                    ecotimesrl@gmail.com\n",
      "9                   otegui.ruth@gmail.com\n",
      "11                     PASGROMO@GMAIL.COM\n",
      "12    bernardostocker@catambiental.com.ar\n",
      "13               guillermo.taft@gmail.com\n",
      "1                mborland_amb@hotmail.com\n",
      "2                       lucigoy@gmail.com\n",
      "3               msalvioli@ing.unlp.edu.ar\n",
      "1                abertona@fibertel.com.ar\n",
      "2                    gdbulus@yahoo.com.ar\n",
      "3                  info@ecotecnica.com.ar\n",
      "4               PROTO@ECOGESTIONAR.COM.AR\n",
      "6                   jilescano88@gmail.com\n",
      "7           javiermartinezheres@gmail.com\n",
      "8                lilianarithner@gmail.com\n",
      "9               axonambiental@hotmail.com\n",
      "11          rafael.emilio.silva@gmail.com\n",
      "12                        ZULETA.GUSTAVO@\n",
      "2               ricardodeina@yahoo.com.ar\n",
      "3                   CINIRGON@YAHOO.COM.AR\n",
      "4          vgraf@laboratoriowasser.com.ar\n",
      "5                    MJSALELLAS@GMAIL.COM\n",
      "6                 gvalentinuzzi@gmail.com\n",
      "1                raulmonsalvo57@gmail.com\n",
      "1              jeremiasppuentes@gmail.com\n",
      "dtype: object\n"
     ]
    },
    {
     "name": "stderr",
     "output_type": "stream",
     "text": [
      "\n",
      "  8%|▊         | 31/384 [06:51<41:00,  6.97s/it]\u001b[A"
     ]
    },
    {
     "name": "stdout",
     "output_type": "stream",
     "text": [
      "Doctor en Ciencias Veterinarias  Done 1                    ggcisterna@gmail.com\n",
      "1              sanchogabriela@hotmail.com\n",
      "1                  ecalamos@argentina.com\n",
      "4                  conghos@hotmail.com.ar\n",
      "5             marianonicola1975@gmail.com\n",
      "6                 estudio_dlq@hotmail.com\n",
      "7               mmroncoli@eiascoop.com.ar\n",
      "8              jp@ambienteyterritorio.com\n",
      "1            aradoconsultora@jsnet.com.ar\n",
      "2                fedegarcia83@hotmail.com\n",
      "4               maroteclaudio@hotmail.com\n",
      "5                EMERONO2004@YAHOO.COM.AR\n",
      "7                      neldo@ar.inter.net\n",
      "1                   valjauregui@gmail.com\n",
      "1             guillermo@ghernandez.com.ar\n",
      "1             guillermo@ghernandez.com.ar\n",
      "1                  pablojcucchi@gmail.com\n",
      "2                 nachostoray@hotmail.com\n",
      "1          mariano.javier.veron@gmail.com\n",
      "1                 paulalagana@hotmail.com\n",
      "2            constanzamantovani@gmail.com\n",
      "3                    sofisimizu@gmail.com\n",
      "1                        balderiote@arnet\n",
      "2                  ceciliadambo@gmail.com\n",
      "3              de-carolis@sinectis.com.ar\n",
      "4             patryciogarcia@yahoo.com.ar\n",
      "5               luisakurata@speedy.com.ar\n",
      "7                 e.mariamuller@gmail.com\n",
      "8                    ecotimesrl@gmail.com\n",
      "9                   otegui.ruth@gmail.com\n",
      "11                     PASGROMO@GMAIL.COM\n",
      "12    bernardostocker@catambiental.com.ar\n",
      "13               guillermo.taft@gmail.com\n",
      "1                mborland_amb@hotmail.com\n",
      "2                       lucigoy@gmail.com\n",
      "3               msalvioli@ing.unlp.edu.ar\n",
      "1                abertona@fibertel.com.ar\n",
      "2                    gdbulus@yahoo.com.ar\n",
      "3                  info@ecotecnica.com.ar\n",
      "4               PROTO@ECOGESTIONAR.COM.AR\n",
      "6                   jilescano88@gmail.com\n",
      "7           javiermartinezheres@gmail.com\n",
      "8                lilianarithner@gmail.com\n",
      "9               axonambiental@hotmail.com\n",
      "11          rafael.emilio.silva@gmail.com\n",
      "12                        ZULETA.GUSTAVO@\n",
      "2               ricardodeina@yahoo.com.ar\n",
      "3                   CINIRGON@YAHOO.COM.AR\n",
      "4          vgraf@laboratoriowasser.com.ar\n",
      "5                    MJSALELLAS@GMAIL.COM\n",
      "6                 gvalentinuzzi@gmail.com\n",
      "1                raulmonsalvo57@gmail.com\n",
      "1              jeremiasppuentes@gmail.com\n",
      "dtype: object\n"
     ]
    },
    {
     "name": "stderr",
     "output_type": "stream",
     "text": [
      "\n",
      "  8%|▊         | 32/384 [06:58<40:48,  6.96s/it]\u001b[A"
     ]
    },
    {
     "name": "stdout",
     "output_type": "stream",
     "text": [
      "Doctorado en Ciencias Quimica Done 1                    ggcisterna@gmail.com\n",
      "1              sanchogabriela@hotmail.com\n",
      "1                  ecalamos@argentina.com\n",
      "4                  conghos@hotmail.com.ar\n",
      "5             marianonicola1975@gmail.com\n",
      "6                 estudio_dlq@hotmail.com\n",
      "7               mmroncoli@eiascoop.com.ar\n",
      "8              jp@ambienteyterritorio.com\n",
      "1            aradoconsultora@jsnet.com.ar\n",
      "2                fedegarcia83@hotmail.com\n",
      "4               maroteclaudio@hotmail.com\n",
      "5                EMERONO2004@YAHOO.COM.AR\n",
      "7                      neldo@ar.inter.net\n",
      "1                   valjauregui@gmail.com\n",
      "1             guillermo@ghernandez.com.ar\n",
      "1             guillermo@ghernandez.com.ar\n",
      "1                  pablojcucchi@gmail.com\n",
      "2                 nachostoray@hotmail.com\n",
      "1          mariano.javier.veron@gmail.com\n",
      "1                 paulalagana@hotmail.com\n",
      "2            constanzamantovani@gmail.com\n",
      "3                    sofisimizu@gmail.com\n",
      "1                        balderiote@arnet\n",
      "2                  ceciliadambo@gmail.com\n",
      "3              de-carolis@sinectis.com.ar\n",
      "4             patryciogarcia@yahoo.com.ar\n",
      "5               luisakurata@speedy.com.ar\n",
      "7                 e.mariamuller@gmail.com\n",
      "8                    ecotimesrl@gmail.com\n",
      "9                   otegui.ruth@gmail.com\n",
      "11                     PASGROMO@GMAIL.COM\n",
      "12    bernardostocker@catambiental.com.ar\n",
      "13               guillermo.taft@gmail.com\n",
      "1                mborland_amb@hotmail.com\n",
      "2                       lucigoy@gmail.com\n",
      "3               msalvioli@ing.unlp.edu.ar\n",
      "1                abertona@fibertel.com.ar\n",
      "2                    gdbulus@yahoo.com.ar\n",
      "3                  info@ecotecnica.com.ar\n",
      "4               PROTO@ECOGESTIONAR.COM.AR\n",
      "6                   jilescano88@gmail.com\n",
      "7           javiermartinezheres@gmail.com\n",
      "8                lilianarithner@gmail.com\n",
      "9               axonambiental@hotmail.com\n",
      "11          rafael.emilio.silva@gmail.com\n",
      "12                        ZULETA.GUSTAVO@\n",
      "2               ricardodeina@yahoo.com.ar\n",
      "3                   CINIRGON@YAHOO.COM.AR\n",
      "4          vgraf@laboratoriowasser.com.ar\n",
      "5                    MJSALELLAS@GMAIL.COM\n",
      "6                 gvalentinuzzi@gmail.com\n",
      "1                raulmonsalvo57@gmail.com\n",
      "1              jeremiasppuentes@gmail.com\n",
      "dtype: object\n"
     ]
    },
    {
     "name": "stderr",
     "output_type": "stream",
     "text": [
      "\n",
      "  9%|▊         | 33/384 [07:05<40:09,  6.86s/it]\u001b[A"
     ]
    },
    {
     "name": "stdout",
     "output_type": "stream",
     "text": [
      "DR EN QUIMICA Done 1                    ggcisterna@gmail.com\n",
      "1              sanchogabriela@hotmail.com\n",
      "1                  ecalamos@argentina.com\n",
      "4                  conghos@hotmail.com.ar\n",
      "5             marianonicola1975@gmail.com\n",
      "6                 estudio_dlq@hotmail.com\n",
      "7               mmroncoli@eiascoop.com.ar\n",
      "8              jp@ambienteyterritorio.com\n",
      "1            aradoconsultora@jsnet.com.ar\n",
      "2                fedegarcia83@hotmail.com\n",
      "4               maroteclaudio@hotmail.com\n",
      "5                EMERONO2004@YAHOO.COM.AR\n",
      "7                      neldo@ar.inter.net\n",
      "1                   valjauregui@gmail.com\n",
      "1             guillermo@ghernandez.com.ar\n",
      "1             guillermo@ghernandez.com.ar\n",
      "1                  pablojcucchi@gmail.com\n",
      "2                 nachostoray@hotmail.com\n",
      "1          mariano.javier.veron@gmail.com\n",
      "1                 paulalagana@hotmail.com\n",
      "2            constanzamantovani@gmail.com\n",
      "3                    sofisimizu@gmail.com\n",
      "1                        balderiote@arnet\n",
      "2                  ceciliadambo@gmail.com\n",
      "3              de-carolis@sinectis.com.ar\n",
      "4             patryciogarcia@yahoo.com.ar\n",
      "5               luisakurata@speedy.com.ar\n",
      "7                 e.mariamuller@gmail.com\n",
      "8                    ecotimesrl@gmail.com\n",
      "9                   otegui.ruth@gmail.com\n",
      "11                     PASGROMO@GMAIL.COM\n",
      "12    bernardostocker@catambiental.com.ar\n",
      "13               guillermo.taft@gmail.com\n",
      "1                mborland_amb@hotmail.com\n",
      "2                       lucigoy@gmail.com\n",
      "3               msalvioli@ing.unlp.edu.ar\n",
      "1                abertona@fibertel.com.ar\n",
      "2                    gdbulus@yahoo.com.ar\n",
      "3                  info@ecotecnica.com.ar\n",
      "4               PROTO@ECOGESTIONAR.COM.AR\n",
      "6                   jilescano88@gmail.com\n",
      "7           javiermartinezheres@gmail.com\n",
      "8                lilianarithner@gmail.com\n",
      "9               axonambiental@hotmail.com\n",
      "11          rafael.emilio.silva@gmail.com\n",
      "12                        ZULETA.GUSTAVO@\n",
      "2               ricardodeina@yahoo.com.ar\n",
      "3                   CINIRGON@YAHOO.COM.AR\n",
      "4          vgraf@laboratoriowasser.com.ar\n",
      "5                    MJSALELLAS@GMAIL.COM\n",
      "6                 gvalentinuzzi@gmail.com\n",
      "1                raulmonsalvo57@gmail.com\n",
      "1              jeremiasppuentes@gmail.com\n",
      "dtype: object\n"
     ]
    },
    {
     "name": "stderr",
     "output_type": "stream",
     "text": [
      "\n",
      "  9%|▉         | 34/384 [07:11<40:02,  6.87s/it]\u001b[A"
     ]
    },
    {
     "name": "stdout",
     "output_type": "stream",
     "text": [
      "E. en Seguridad, Higiene y Protección Ambiental Done 1                    ggcisterna@gmail.com\n",
      "1              sanchogabriela@hotmail.com\n",
      "1                  ecalamos@argentina.com\n",
      "4                  conghos@hotmail.com.ar\n",
      "5             marianonicola1975@gmail.com\n",
      "6                 estudio_dlq@hotmail.com\n",
      "7               mmroncoli@eiascoop.com.ar\n",
      "8              jp@ambienteyterritorio.com\n",
      "1            aradoconsultora@jsnet.com.ar\n",
      "2                fedegarcia83@hotmail.com\n",
      "4               maroteclaudio@hotmail.com\n",
      "5                EMERONO2004@YAHOO.COM.AR\n",
      "7                      neldo@ar.inter.net\n",
      "1                   valjauregui@gmail.com\n",
      "1             guillermo@ghernandez.com.ar\n",
      "1             guillermo@ghernandez.com.ar\n",
      "1                  pablojcucchi@gmail.com\n",
      "2                 nachostoray@hotmail.com\n",
      "1          mariano.javier.veron@gmail.com\n",
      "1                 paulalagana@hotmail.com\n",
      "2            constanzamantovani@gmail.com\n",
      "3                    sofisimizu@gmail.com\n",
      "1                        balderiote@arnet\n",
      "2                  ceciliadambo@gmail.com\n",
      "3              de-carolis@sinectis.com.ar\n",
      "4             patryciogarcia@yahoo.com.ar\n",
      "5               luisakurata@speedy.com.ar\n",
      "7                 e.mariamuller@gmail.com\n",
      "8                    ecotimesrl@gmail.com\n",
      "9                   otegui.ruth@gmail.com\n",
      "11                     PASGROMO@GMAIL.COM\n",
      "12    bernardostocker@catambiental.com.ar\n",
      "13               guillermo.taft@gmail.com\n",
      "1                mborland_amb@hotmail.com\n",
      "2                       lucigoy@gmail.com\n",
      "3               msalvioli@ing.unlp.edu.ar\n",
      "1                abertona@fibertel.com.ar\n",
      "2                    gdbulus@yahoo.com.ar\n",
      "3                  info@ecotecnica.com.ar\n",
      "4               PROTO@ECOGESTIONAR.COM.AR\n",
      "6                   jilescano88@gmail.com\n",
      "7           javiermartinezheres@gmail.com\n",
      "8                lilianarithner@gmail.com\n",
      "9               axonambiental@hotmail.com\n",
      "11          rafael.emilio.silva@gmail.com\n",
      "12                        ZULETA.GUSTAVO@\n",
      "2               ricardodeina@yahoo.com.ar\n",
      "3                   CINIRGON@YAHOO.COM.AR\n",
      "4          vgraf@laboratoriowasser.com.ar\n",
      "5                    MJSALELLAS@GMAIL.COM\n",
      "6                 gvalentinuzzi@gmail.com\n",
      "1                raulmonsalvo57@gmail.com\n",
      "1              jeremiasppuentes@gmail.com\n",
      "1                      jorge@amari.com.ar\n",
      "dtype: object\n"
     ]
    },
    {
     "name": "stderr",
     "output_type": "stream",
     "text": [
      "\n",
      "  9%|▉         | 35/384 [07:32<1:03:10, 10.86s/it]\u001b[A"
     ]
    },
    {
     "name": "stdout",
     "output_type": "stream",
     "text": [
      "Ecólogo Done 1                    ggcisterna@gmail.com\n",
      "1              sanchogabriela@hotmail.com\n",
      "1                  ecalamos@argentina.com\n",
      "4                  conghos@hotmail.com.ar\n",
      "5             marianonicola1975@gmail.com\n",
      "6                 estudio_dlq@hotmail.com\n",
      "7               mmroncoli@eiascoop.com.ar\n",
      "8              jp@ambienteyterritorio.com\n",
      "1            aradoconsultora@jsnet.com.ar\n",
      "2                fedegarcia83@hotmail.com\n",
      "4               maroteclaudio@hotmail.com\n",
      "5                EMERONO2004@YAHOO.COM.AR\n",
      "7                      neldo@ar.inter.net\n",
      "1                   valjauregui@gmail.com\n",
      "1             guillermo@ghernandez.com.ar\n",
      "1             guillermo@ghernandez.com.ar\n",
      "1                  pablojcucchi@gmail.com\n",
      "2                 nachostoray@hotmail.com\n",
      "1          mariano.javier.veron@gmail.com\n",
      "1                 paulalagana@hotmail.com\n",
      "2            constanzamantovani@gmail.com\n",
      "3                    sofisimizu@gmail.com\n",
      "1                        balderiote@arnet\n",
      "2                  ceciliadambo@gmail.com\n",
      "3              de-carolis@sinectis.com.ar\n",
      "4             patryciogarcia@yahoo.com.ar\n",
      "5               luisakurata@speedy.com.ar\n",
      "7                 e.mariamuller@gmail.com\n",
      "8                    ecotimesrl@gmail.com\n",
      "9                   otegui.ruth@gmail.com\n",
      "11                     PASGROMO@GMAIL.COM\n",
      "12    bernardostocker@catambiental.com.ar\n",
      "13               guillermo.taft@gmail.com\n",
      "1                mborland_amb@hotmail.com\n",
      "2                       lucigoy@gmail.com\n",
      "3               msalvioli@ing.unlp.edu.ar\n",
      "1                abertona@fibertel.com.ar\n",
      "2                    gdbulus@yahoo.com.ar\n",
      "3                  info@ecotecnica.com.ar\n",
      "4               PROTO@ECOGESTIONAR.COM.AR\n",
      "6                   jilescano88@gmail.com\n",
      "7           javiermartinezheres@gmail.com\n",
      "8                lilianarithner@gmail.com\n",
      "9               axonambiental@hotmail.com\n",
      "11          rafael.emilio.silva@gmail.com\n",
      "12                        ZULETA.GUSTAVO@\n",
      "2               ricardodeina@yahoo.com.ar\n",
      "3                   CINIRGON@YAHOO.COM.AR\n",
      "4          vgraf@laboratoriowasser.com.ar\n",
      "5                    MJSALELLAS@GMAIL.COM\n",
      "6                 gvalentinuzzi@gmail.com\n",
      "1                raulmonsalvo57@gmail.com\n",
      "1              jeremiasppuentes@gmail.com\n",
      "1                      jorge@amari.com.ar\n",
      "1                c.bacigalupo@hotmail.com\n",
      "2                    gdbulus@yahoo.com.ar\n",
      "3             rosanaferraro_2@hotmail.com\n",
      "5               axonambiental@hotmail.com\n",
      "dtype: object\n"
     ]
    },
    {
     "name": "stderr",
     "output_type": "stream",
     "text": [
      "\n",
      "  9%|▉         | 36/384 [07:39<57:05,  9.84s/it]  \u001b[A"
     ]
    },
    {
     "name": "stdout",
     "output_type": "stream",
     "text": [
      "Esp en Hig Ambiental Done 1                    ggcisterna@gmail.com\n",
      "1              sanchogabriela@hotmail.com\n",
      "1                  ecalamos@argentina.com\n",
      "4                  conghos@hotmail.com.ar\n",
      "5             marianonicola1975@gmail.com\n",
      "6                 estudio_dlq@hotmail.com\n",
      "7               mmroncoli@eiascoop.com.ar\n",
      "8              jp@ambienteyterritorio.com\n",
      "1            aradoconsultora@jsnet.com.ar\n",
      "2                fedegarcia83@hotmail.com\n",
      "4               maroteclaudio@hotmail.com\n",
      "5                EMERONO2004@YAHOO.COM.AR\n",
      "7                      neldo@ar.inter.net\n",
      "1                   valjauregui@gmail.com\n",
      "1             guillermo@ghernandez.com.ar\n",
      "1             guillermo@ghernandez.com.ar\n",
      "1                  pablojcucchi@gmail.com\n",
      "2                 nachostoray@hotmail.com\n",
      "1          mariano.javier.veron@gmail.com\n",
      "1                 paulalagana@hotmail.com\n",
      "2            constanzamantovani@gmail.com\n",
      "3                    sofisimizu@gmail.com\n",
      "1                        balderiote@arnet\n",
      "2                  ceciliadambo@gmail.com\n",
      "3              de-carolis@sinectis.com.ar\n",
      "4             patryciogarcia@yahoo.com.ar\n",
      "5               luisakurata@speedy.com.ar\n",
      "7                 e.mariamuller@gmail.com\n",
      "8                    ecotimesrl@gmail.com\n",
      "9                   otegui.ruth@gmail.com\n",
      "11                     PASGROMO@GMAIL.COM\n",
      "12    bernardostocker@catambiental.com.ar\n",
      "13               guillermo.taft@gmail.com\n",
      "1                mborland_amb@hotmail.com\n",
      "2                       lucigoy@gmail.com\n",
      "3               msalvioli@ing.unlp.edu.ar\n",
      "1                abertona@fibertel.com.ar\n",
      "2                    gdbulus@yahoo.com.ar\n",
      "3                  info@ecotecnica.com.ar\n",
      "4               PROTO@ECOGESTIONAR.COM.AR\n",
      "6                   jilescano88@gmail.com\n",
      "7           javiermartinezheres@gmail.com\n",
      "8                lilianarithner@gmail.com\n",
      "9               axonambiental@hotmail.com\n",
      "11          rafael.emilio.silva@gmail.com\n",
      "12                        ZULETA.GUSTAVO@\n",
      "2               ricardodeina@yahoo.com.ar\n",
      "3                   CINIRGON@YAHOO.COM.AR\n",
      "4          vgraf@laboratoriowasser.com.ar\n",
      "5                    MJSALELLAS@GMAIL.COM\n",
      "6                 gvalentinuzzi@gmail.com\n",
      "1                raulmonsalvo57@gmail.com\n",
      "1              jeremiasppuentes@gmail.com\n",
      "1                      jorge@amari.com.ar\n",
      "1                c.bacigalupo@hotmail.com\n",
      "2                    gdbulus@yahoo.com.ar\n",
      "3             rosanaferraro_2@hotmail.com\n",
      "5               axonambiental@hotmail.com\n",
      "1                esgomez55@hotmail.com.ar\n",
      "dtype: object\n"
     ]
    },
    {
     "name": "stderr",
     "output_type": "stream",
     "text": [
      "\n",
      " 10%|▉         | 37/384 [07:45<50:48,  8.79s/it]\u001b[A"
     ]
    },
    {
     "name": "stdout",
     "output_type": "stream",
     "text": [
      "Esp. en Eval. de Contaminación Amb.                Done 1                    ggcisterna@gmail.com\n",
      "1              sanchogabriela@hotmail.com\n",
      "1                  ecalamos@argentina.com\n",
      "4                  conghos@hotmail.com.ar\n",
      "5             marianonicola1975@gmail.com\n",
      "6                 estudio_dlq@hotmail.com\n",
      "7               mmroncoli@eiascoop.com.ar\n",
      "8              jp@ambienteyterritorio.com\n",
      "1            aradoconsultora@jsnet.com.ar\n",
      "2                fedegarcia83@hotmail.com\n",
      "4               maroteclaudio@hotmail.com\n",
      "5                EMERONO2004@YAHOO.COM.AR\n",
      "7                      neldo@ar.inter.net\n",
      "1                   valjauregui@gmail.com\n",
      "1             guillermo@ghernandez.com.ar\n",
      "1             guillermo@ghernandez.com.ar\n",
      "1                  pablojcucchi@gmail.com\n",
      "2                 nachostoray@hotmail.com\n",
      "1          mariano.javier.veron@gmail.com\n",
      "1                 paulalagana@hotmail.com\n",
      "2            constanzamantovani@gmail.com\n",
      "3                    sofisimizu@gmail.com\n",
      "1                        balderiote@arnet\n",
      "2                  ceciliadambo@gmail.com\n",
      "3              de-carolis@sinectis.com.ar\n",
      "4             patryciogarcia@yahoo.com.ar\n",
      "5               luisakurata@speedy.com.ar\n",
      "7                 e.mariamuller@gmail.com\n",
      "8                    ecotimesrl@gmail.com\n",
      "9                   otegui.ruth@gmail.com\n",
      "11                     PASGROMO@GMAIL.COM\n",
      "12    bernardostocker@catambiental.com.ar\n",
      "13               guillermo.taft@gmail.com\n",
      "1                mborland_amb@hotmail.com\n",
      "2                       lucigoy@gmail.com\n",
      "3               msalvioli@ing.unlp.edu.ar\n",
      "1                abertona@fibertel.com.ar\n",
      "2                    gdbulus@yahoo.com.ar\n",
      "3                  info@ecotecnica.com.ar\n",
      "4               PROTO@ECOGESTIONAR.COM.AR\n",
      "6                   jilescano88@gmail.com\n",
      "7           javiermartinezheres@gmail.com\n",
      "8                lilianarithner@gmail.com\n",
      "9               axonambiental@hotmail.com\n",
      "11          rafael.emilio.silva@gmail.com\n",
      "12                        ZULETA.GUSTAVO@\n",
      "2               ricardodeina@yahoo.com.ar\n",
      "3                   CINIRGON@YAHOO.COM.AR\n",
      "4          vgraf@laboratoriowasser.com.ar\n",
      "5                    MJSALELLAS@GMAIL.COM\n",
      "6                 gvalentinuzzi@gmail.com\n",
      "1                raulmonsalvo57@gmail.com\n",
      "1              jeremiasppuentes@gmail.com\n",
      "1                      jorge@amari.com.ar\n",
      "1                c.bacigalupo@hotmail.com\n",
      "2                    gdbulus@yahoo.com.ar\n",
      "3             rosanaferraro_2@hotmail.com\n",
      "5               axonambiental@hotmail.com\n",
      "1                esgomez55@hotmail.com.ar\n",
      "dtype: object\n"
     ]
    },
    {
     "name": "stderr",
     "output_type": "stream",
     "text": [
      "\n",
      " 10%|▉         | 38/384 [07:52<46:27,  8.06s/it]\u001b[A"
     ]
    },
    {
     "name": "stdout",
     "output_type": "stream",
     "text": [
      "Esp. en Gestion Ambiental Done 1                    ggcisterna@gmail.com\n",
      "1              sanchogabriela@hotmail.com\n",
      "1                  ecalamos@argentina.com\n",
      "4                  conghos@hotmail.com.ar\n",
      "5             marianonicola1975@gmail.com\n",
      "6                 estudio_dlq@hotmail.com\n",
      "7               mmroncoli@eiascoop.com.ar\n",
      "8              jp@ambienteyterritorio.com\n",
      "1            aradoconsultora@jsnet.com.ar\n",
      "2                fedegarcia83@hotmail.com\n",
      "4               maroteclaudio@hotmail.com\n",
      "5                EMERONO2004@YAHOO.COM.AR\n",
      "7                      neldo@ar.inter.net\n",
      "1                   valjauregui@gmail.com\n",
      "1             guillermo@ghernandez.com.ar\n",
      "1             guillermo@ghernandez.com.ar\n",
      "1                  pablojcucchi@gmail.com\n",
      "2                 nachostoray@hotmail.com\n",
      "1          mariano.javier.veron@gmail.com\n",
      "1                 paulalagana@hotmail.com\n",
      "2            constanzamantovani@gmail.com\n",
      "3                    sofisimizu@gmail.com\n",
      "1                        balderiote@arnet\n",
      "2                  ceciliadambo@gmail.com\n",
      "3              de-carolis@sinectis.com.ar\n",
      "4             patryciogarcia@yahoo.com.ar\n",
      "5               luisakurata@speedy.com.ar\n",
      "7                 e.mariamuller@gmail.com\n",
      "8                    ecotimesrl@gmail.com\n",
      "9                   otegui.ruth@gmail.com\n",
      "11                     PASGROMO@GMAIL.COM\n",
      "12    bernardostocker@catambiental.com.ar\n",
      "13               guillermo.taft@gmail.com\n",
      "1                mborland_amb@hotmail.com\n",
      "2                       lucigoy@gmail.com\n",
      "3               msalvioli@ing.unlp.edu.ar\n",
      "1                abertona@fibertel.com.ar\n",
      "2                    gdbulus@yahoo.com.ar\n",
      "3                  info@ecotecnica.com.ar\n",
      "4               PROTO@ECOGESTIONAR.COM.AR\n",
      "6                   jilescano88@gmail.com\n",
      "7           javiermartinezheres@gmail.com\n",
      "8                lilianarithner@gmail.com\n",
      "9               axonambiental@hotmail.com\n",
      "11          rafael.emilio.silva@gmail.com\n",
      "12                        ZULETA.GUSTAVO@\n",
      "2               ricardodeina@yahoo.com.ar\n",
      "3                   CINIRGON@YAHOO.COM.AR\n",
      "4          vgraf@laboratoriowasser.com.ar\n",
      "5                    MJSALELLAS@GMAIL.COM\n",
      "6                 gvalentinuzzi@gmail.com\n",
      "1                raulmonsalvo57@gmail.com\n",
      "1              jeremiasppuentes@gmail.com\n",
      "1                      jorge@amari.com.ar\n",
      "1                c.bacigalupo@hotmail.com\n",
      "2                    gdbulus@yahoo.com.ar\n",
      "3             rosanaferraro_2@hotmail.com\n",
      "5               axonambiental@hotmail.com\n",
      "1                esgomez55@hotmail.com.ar\n",
      "1                 paulababaylac@gmail.com\n",
      "dtype: object\n"
     ]
    },
    {
     "name": "stderr",
     "output_type": "stream",
     "text": [
      "\n",
      " 10%|█         | 39/384 [07:58<43:35,  7.58s/it]\u001b[A"
     ]
    },
    {
     "name": "stdout",
     "output_type": "stream",
     "text": [
      "Esp. en Higiene y Seguridad en el Trabajo Agrario Done 1                    ggcisterna@gmail.com\n",
      "1              sanchogabriela@hotmail.com\n",
      "1                  ecalamos@argentina.com\n",
      "4                  conghos@hotmail.com.ar\n",
      "5             marianonicola1975@gmail.com\n",
      "6                 estudio_dlq@hotmail.com\n",
      "7               mmroncoli@eiascoop.com.ar\n",
      "8              jp@ambienteyterritorio.com\n",
      "1            aradoconsultora@jsnet.com.ar\n",
      "2                fedegarcia83@hotmail.com\n",
      "4               maroteclaudio@hotmail.com\n",
      "5                EMERONO2004@YAHOO.COM.AR\n",
      "7                      neldo@ar.inter.net\n",
      "1                   valjauregui@gmail.com\n",
      "1             guillermo@ghernandez.com.ar\n",
      "1             guillermo@ghernandez.com.ar\n",
      "1                  pablojcucchi@gmail.com\n",
      "2                 nachostoray@hotmail.com\n",
      "1          mariano.javier.veron@gmail.com\n",
      "1                 paulalagana@hotmail.com\n",
      "2            constanzamantovani@gmail.com\n",
      "3                    sofisimizu@gmail.com\n",
      "1                        balderiote@arnet\n",
      "2                  ceciliadambo@gmail.com\n",
      "3              de-carolis@sinectis.com.ar\n",
      "4             patryciogarcia@yahoo.com.ar\n",
      "5               luisakurata@speedy.com.ar\n",
      "7                 e.mariamuller@gmail.com\n",
      "8                    ecotimesrl@gmail.com\n",
      "9                   otegui.ruth@gmail.com\n",
      "11                     PASGROMO@GMAIL.COM\n",
      "12    bernardostocker@catambiental.com.ar\n",
      "13               guillermo.taft@gmail.com\n",
      "1                mborland_amb@hotmail.com\n",
      "2                       lucigoy@gmail.com\n",
      "3               msalvioli@ing.unlp.edu.ar\n",
      "1                abertona@fibertel.com.ar\n",
      "2                    gdbulus@yahoo.com.ar\n",
      "3                  info@ecotecnica.com.ar\n",
      "4               PROTO@ECOGESTIONAR.COM.AR\n",
      "6                   jilescano88@gmail.com\n",
      "7           javiermartinezheres@gmail.com\n",
      "8                lilianarithner@gmail.com\n",
      "9               axonambiental@hotmail.com\n",
      "11          rafael.emilio.silva@gmail.com\n",
      "12                        ZULETA.GUSTAVO@\n",
      "2               ricardodeina@yahoo.com.ar\n",
      "3                   CINIRGON@YAHOO.COM.AR\n",
      "4          vgraf@laboratoriowasser.com.ar\n",
      "5                    MJSALELLAS@GMAIL.COM\n",
      "6                 gvalentinuzzi@gmail.com\n",
      "1                raulmonsalvo57@gmail.com\n",
      "1              jeremiasppuentes@gmail.com\n",
      "1                      jorge@amari.com.ar\n",
      "1                c.bacigalupo@hotmail.com\n",
      "2                    gdbulus@yahoo.com.ar\n",
      "3             rosanaferraro_2@hotmail.com\n",
      "5               axonambiental@hotmail.com\n",
      "1                esgomez55@hotmail.com.ar\n",
      "1                 paulababaylac@gmail.com\n",
      "dtype: object\n"
     ]
    },
    {
     "name": "stderr",
     "output_type": "stream",
     "text": [
      "\n",
      " 10%|█         | 40/384 [08:05<41:41,  7.27s/it]\u001b[A"
     ]
    },
    {
     "name": "stdout",
     "output_type": "stream",
     "text": [
      "ESP. HIGIENE Y SEG.LAB.INDUST. DE LA CONST. Done 1                    ggcisterna@gmail.com\n",
      "1              sanchogabriela@hotmail.com\n",
      "1                  ecalamos@argentina.com\n",
      "4                  conghos@hotmail.com.ar\n",
      "5             marianonicola1975@gmail.com\n",
      "6                 estudio_dlq@hotmail.com\n",
      "7               mmroncoli@eiascoop.com.ar\n",
      "8              jp@ambienteyterritorio.com\n",
      "1            aradoconsultora@jsnet.com.ar\n",
      "2                fedegarcia83@hotmail.com\n",
      "4               maroteclaudio@hotmail.com\n",
      "5                EMERONO2004@YAHOO.COM.AR\n",
      "7                      neldo@ar.inter.net\n",
      "1                   valjauregui@gmail.com\n",
      "1             guillermo@ghernandez.com.ar\n",
      "1             guillermo@ghernandez.com.ar\n",
      "1                  pablojcucchi@gmail.com\n",
      "2                 nachostoray@hotmail.com\n",
      "1          mariano.javier.veron@gmail.com\n",
      "1                 paulalagana@hotmail.com\n",
      "2            constanzamantovani@gmail.com\n",
      "3                    sofisimizu@gmail.com\n",
      "1                        balderiote@arnet\n",
      "2                  ceciliadambo@gmail.com\n",
      "3              de-carolis@sinectis.com.ar\n",
      "4             patryciogarcia@yahoo.com.ar\n",
      "5               luisakurata@speedy.com.ar\n",
      "7                 e.mariamuller@gmail.com\n",
      "8                    ecotimesrl@gmail.com\n",
      "9                   otegui.ruth@gmail.com\n",
      "11                     PASGROMO@GMAIL.COM\n",
      "12    bernardostocker@catambiental.com.ar\n",
      "13               guillermo.taft@gmail.com\n",
      "1                mborland_amb@hotmail.com\n",
      "2                       lucigoy@gmail.com\n",
      "3               msalvioli@ing.unlp.edu.ar\n",
      "1                abertona@fibertel.com.ar\n",
      "2                    gdbulus@yahoo.com.ar\n",
      "3                  info@ecotecnica.com.ar\n",
      "4               PROTO@ECOGESTIONAR.COM.AR\n",
      "6                   jilescano88@gmail.com\n",
      "7           javiermartinezheres@gmail.com\n",
      "8                lilianarithner@gmail.com\n",
      "9               axonambiental@hotmail.com\n",
      "11          rafael.emilio.silva@gmail.com\n",
      "12                        ZULETA.GUSTAVO@\n",
      "2               ricardodeina@yahoo.com.ar\n",
      "3                   CINIRGON@YAHOO.COM.AR\n",
      "4          vgraf@laboratoriowasser.com.ar\n",
      "5                    MJSALELLAS@GMAIL.COM\n",
      "6                 gvalentinuzzi@gmail.com\n",
      "1                raulmonsalvo57@gmail.com\n",
      "1              jeremiasppuentes@gmail.com\n",
      "1                      jorge@amari.com.ar\n",
      "1                c.bacigalupo@hotmail.com\n",
      "2                    gdbulus@yahoo.com.ar\n",
      "3             rosanaferraro_2@hotmail.com\n",
      "5               axonambiental@hotmail.com\n",
      "1                esgomez55@hotmail.com.ar\n",
      "1                 paulababaylac@gmail.com\n",
      "dtype: object\n"
     ]
    },
    {
     "name": "stderr",
     "output_type": "stream",
     "text": [
      "\n",
      " 11%|█         | 41/384 [08:12<41:03,  7.18s/it]\u001b[A"
     ]
    },
    {
     "name": "stdout",
     "output_type": "stream",
     "text": [
      "Esp. Seg. e Higiene Done 1           ggcisterna@gmail.com\n",
      "1     sanchogabriela@hotmail.com\n",
      "1         ecalamos@argentina.com\n",
      "4         conghos@hotmail.com.ar\n",
      "5    marianonicola1975@gmail.com\n",
      "                ...             \n",
      "3    rosanaferraro_2@hotmail.com\n",
      "5      axonambiental@hotmail.com\n",
      "1       esgomez55@hotmail.com.ar\n",
      "1        paulababaylac@gmail.com\n",
      "1    silvia.parrotta@hotmail.com\n",
      "Length: 61, dtype: object\n"
     ]
    },
    {
     "name": "stderr",
     "output_type": "stream",
     "text": [
      "\n",
      " 11%|█         | 42/384 [08:18<39:51,  6.99s/it]\u001b[A"
     ]
    },
    {
     "name": "stdout",
     "output_type": "stream",
     "text": [
      "Esp. Seg.e Higiene Done 1           ggcisterna@gmail.com\n",
      "1     sanchogabriela@hotmail.com\n",
      "1         ecalamos@argentina.com\n",
      "4         conghos@hotmail.com.ar\n",
      "5    marianonicola1975@gmail.com\n",
      "                ...             \n",
      "3    rosanaferraro_2@hotmail.com\n",
      "5      axonambiental@hotmail.com\n",
      "1       esgomez55@hotmail.com.ar\n",
      "1        paulababaylac@gmail.com\n",
      "1    silvia.parrotta@hotmail.com\n",
      "Length: 61, dtype: object\n"
     ]
    },
    {
     "name": "stderr",
     "output_type": "stream",
     "text": [
      "\n",
      " 11%|█         | 43/384 [08:25<39:17,  6.91s/it]\u001b[A"
     ]
    },
    {
     "name": "stdout",
     "output_type": "stream",
     "text": [
      "ESPCIALISTA EN PLANEAMIENTO P. Y AMB. Done 1           ggcisterna@gmail.com\n",
      "1     sanchogabriela@hotmail.com\n",
      "1         ecalamos@argentina.com\n",
      "4         conghos@hotmail.com.ar\n",
      "5    marianonicola1975@gmail.com\n",
      "                ...             \n",
      "3    rosanaferraro_2@hotmail.com\n",
      "5      axonambiental@hotmail.com\n",
      "1       esgomez55@hotmail.com.ar\n",
      "1        paulababaylac@gmail.com\n",
      "1    silvia.parrotta@hotmail.com\n",
      "Length: 61, dtype: object\n"
     ]
    },
    {
     "name": "stderr",
     "output_type": "stream",
     "text": [
      "\n",
      " 11%|█▏        | 44/384 [08:32<39:28,  6.97s/it]\u001b[A"
     ]
    },
    {
     "name": "stdout",
     "output_type": "stream",
     "text": [
      "Espec. en Hig y Seg en el Trab Agra Done 1           ggcisterna@gmail.com\n",
      "1     sanchogabriela@hotmail.com\n",
      "1         ecalamos@argentina.com\n",
      "4         conghos@hotmail.com.ar\n",
      "5    marianonicola1975@gmail.com\n",
      "                ...             \n",
      "3    rosanaferraro_2@hotmail.com\n",
      "5      axonambiental@hotmail.com\n",
      "1       esgomez55@hotmail.com.ar\n",
      "1        paulababaylac@gmail.com\n",
      "1    silvia.parrotta@hotmail.com\n",
      "Length: 61, dtype: object\n"
     ]
    },
    {
     "name": "stderr",
     "output_type": "stream",
     "text": [
      "\n",
      " 12%|█▏        | 45/384 [08:38<38:08,  6.75s/it]\u001b[A"
     ]
    },
    {
     "name": "stdout",
     "output_type": "stream",
     "text": [
      "espec.en Gestion del Patrimonio y Turismo Sostenib Done 1           ggcisterna@gmail.com\n",
      "1     sanchogabriela@hotmail.com\n",
      "1         ecalamos@argentina.com\n",
      "4         conghos@hotmail.com.ar\n",
      "5    marianonicola1975@gmail.com\n",
      "                ...             \n",
      "3    rosanaferraro_2@hotmail.com\n",
      "5      axonambiental@hotmail.com\n",
      "1       esgomez55@hotmail.com.ar\n",
      "1        paulababaylac@gmail.com\n",
      "1    silvia.parrotta@hotmail.com\n",
      "Length: 61, dtype: object\n"
     ]
    },
    {
     "name": "stderr",
     "output_type": "stream",
     "text": [
      "\n",
      " 12%|█▏        | 46/384 [08:45<37:51,  6.72s/it]\u001b[A"
     ]
    },
    {
     "name": "stdout",
     "output_type": "stream",
     "text": [
      "Especialidad Hidraulica Done 1           ggcisterna@gmail.com\n",
      "1     sanchogabriela@hotmail.com\n",
      "1         ecalamos@argentina.com\n",
      "4         conghos@hotmail.com.ar\n",
      "5    marianonicola1975@gmail.com\n",
      "                ...             \n",
      "3    rosanaferraro_2@hotmail.com\n",
      "5      axonambiental@hotmail.com\n",
      "1       esgomez55@hotmail.com.ar\n",
      "1        paulababaylac@gmail.com\n",
      "1    silvia.parrotta@hotmail.com\n",
      "Length: 61, dtype: object\n"
     ]
    },
    {
     "name": "stderr",
     "output_type": "stream",
     "text": [
      "\n",
      " 12%|█▏        | 47/384 [08:51<37:17,  6.64s/it]\u001b[A"
     ]
    },
    {
     "name": "stdout",
     "output_type": "stream",
     "text": [
      "ESPECIALISTA  AMBIENTAL Done 1           ggcisterna@gmail.com\n",
      "1     sanchogabriela@hotmail.com\n",
      "1         ecalamos@argentina.com\n",
      "4         conghos@hotmail.com.ar\n",
      "5    marianonicola1975@gmail.com\n",
      "                ...             \n",
      "3    rosanaferraro_2@hotmail.com\n",
      "5      axonambiental@hotmail.com\n",
      "1       esgomez55@hotmail.com.ar\n",
      "1        paulababaylac@gmail.com\n",
      "1    silvia.parrotta@hotmail.com\n",
      "Length: 61, dtype: object\n"
     ]
    },
    {
     "name": "stderr",
     "output_type": "stream",
     "text": [
      "\n",
      " 12%|█▎        | 48/384 [08:58<37:33,  6.71s/it]\u001b[A"
     ]
    },
    {
     "name": "stdout",
     "output_type": "stream",
     "text": [
      "especialista  en ambiente y patologia ambiental Done 1           ggcisterna@gmail.com\n",
      "1     sanchogabriela@hotmail.com\n",
      "1         ecalamos@argentina.com\n",
      "4         conghos@hotmail.com.ar\n",
      "5    marianonicola1975@gmail.com\n",
      "                ...             \n",
      "3    rosanaferraro_2@hotmail.com\n",
      "5      axonambiental@hotmail.com\n",
      "1       esgomez55@hotmail.com.ar\n",
      "1        paulababaylac@gmail.com\n",
      "1    silvia.parrotta@hotmail.com\n",
      "Length: 61, dtype: object\n"
     ]
    },
    {
     "name": "stderr",
     "output_type": "stream",
     "text": [
      "\n",
      " 13%|█▎        | 49/384 [09:06<39:15,  7.03s/it]\u001b[A"
     ]
    },
    {
     "name": "stdout",
     "output_type": "stream",
     "text": [
      "Especialista en Ciencias Químicas y Ambiente Done 1           ggcisterna@gmail.com\n",
      "1     sanchogabriela@hotmail.com\n",
      "1         ecalamos@argentina.com\n",
      "4         conghos@hotmail.com.ar\n",
      "5    marianonicola1975@gmail.com\n",
      "                ...             \n",
      "5      axonambiental@hotmail.com\n",
      "1       esgomez55@hotmail.com.ar\n",
      "1        paulababaylac@gmail.com\n",
      "1    silvia.parrotta@hotmail.com\n",
      "1       lilianarithner@gmail.com\n",
      "Length: 62, dtype: object\n"
     ]
    },
    {
     "name": "stderr",
     "output_type": "stream",
     "text": [
      "\n",
      " 13%|█▎        | 50/384 [09:13<38:30,  6.92s/it]\u001b[A"
     ]
    },
    {
     "name": "stdout",
     "output_type": "stream",
     "text": [
      "Especialista en Derecho Ambiental Done 1           ggcisterna@gmail.com\n",
      "1     sanchogabriela@hotmail.com\n",
      "1         ecalamos@argentina.com\n",
      "4         conghos@hotmail.com.ar\n",
      "5    marianonicola1975@gmail.com\n",
      "                ...             \n",
      "5      axonambiental@hotmail.com\n",
      "1       esgomez55@hotmail.com.ar\n",
      "1        paulababaylac@gmail.com\n",
      "1    silvia.parrotta@hotmail.com\n",
      "1       lilianarithner@gmail.com\n",
      "Length: 62, dtype: object\n"
     ]
    },
    {
     "name": "stderr",
     "output_type": "stream",
     "text": [
      "\n",
      " 13%|█▎        | 51/384 [09:20<38:28,  6.93s/it]\u001b[A"
     ]
    },
    {
     "name": "stdout",
     "output_type": "stream",
     "text": [
      "Especialista en Diagnostico y EvaluaciÃ³n Ambienta Done 1           ggcisterna@gmail.com\n",
      "1     sanchogabriela@hotmail.com\n",
      "1         ecalamos@argentina.com\n",
      "4         conghos@hotmail.com.ar\n",
      "5    marianonicola1975@gmail.com\n",
      "                ...             \n",
      "5      axonambiental@hotmail.com\n",
      "1       esgomez55@hotmail.com.ar\n",
      "1        paulababaylac@gmail.com\n",
      "1    silvia.parrotta@hotmail.com\n",
      "1       lilianarithner@gmail.com\n",
      "Length: 62, dtype: object\n"
     ]
    },
    {
     "name": "stderr",
     "output_type": "stream",
     "text": [
      "\n",
      " 14%|█▎        | 52/384 [09:27<38:14,  6.91s/it]\u001b[A"
     ]
    },
    {
     "name": "stdout",
     "output_type": "stream",
     "text": [
      "Especialista en Explotación de Yacimientos Done 1           ggcisterna@gmail.com\n",
      "1     sanchogabriela@hotmail.com\n",
      "1         ecalamos@argentina.com\n",
      "4         conghos@hotmail.com.ar\n",
      "5    marianonicola1975@gmail.com\n",
      "                ...             \n",
      "5      axonambiental@hotmail.com\n",
      "1       esgomez55@hotmail.com.ar\n",
      "1        paulababaylac@gmail.com\n",
      "1    silvia.parrotta@hotmail.com\n",
      "1       lilianarithner@gmail.com\n",
      "Length: 62, dtype: object\n"
     ]
    },
    {
     "name": "stderr",
     "output_type": "stream",
     "text": [
      "\n",
      " 14%|█▍        | 53/384 [09:34<38:12,  6.93s/it]\u001b[A"
     ]
    },
    {
     "name": "stdout",
     "output_type": "stream",
     "text": [
      "Especialista en gestion ambiental - higiene y seg. Done 1           ggcisterna@gmail.com\n",
      "1     sanchogabriela@hotmail.com\n",
      "1         ecalamos@argentina.com\n",
      "4         conghos@hotmail.com.ar\n",
      "5    marianonicola1975@gmail.com\n",
      "                ...             \n",
      "5      axonambiental@hotmail.com\n",
      "1       esgomez55@hotmail.com.ar\n",
      "1        paulababaylac@gmail.com\n",
      "1    silvia.parrotta@hotmail.com\n",
      "1       lilianarithner@gmail.com\n",
      "Length: 62, dtype: object\n"
     ]
    },
    {
     "name": "stderr",
     "output_type": "stream",
     "text": [
      "\n",
      " 14%|█▍        | 54/384 [09:40<37:39,  6.85s/it]\u001b[A"
     ]
    },
    {
     "name": "stdout",
     "output_type": "stream",
     "text": [
      "Especialista en Higiene y Proteccion Ambiental Done 1             ggcisterna@gmail.com\n",
      "1       sanchogabriela@hotmail.com\n",
      "1           ecalamos@argentina.com\n",
      "4           conghos@hotmail.com.ar\n",
      "5      marianonicola1975@gmail.com\n",
      "                 ...              \n",
      "1         esgomez55@hotmail.com.ar\n",
      "1          paulababaylac@gmail.com\n",
      "1      silvia.parrotta@hotmail.com\n",
      "1         lilianarithner@gmail.com\n",
      "1    nataliamontanari@yahoo.com.ar\n",
      "Length: 63, dtype: object\n"
     ]
    },
    {
     "name": "stderr",
     "output_type": "stream",
     "text": [
      "\n",
      " 14%|█▍        | 55/384 [09:52<45:29,  8.30s/it]\u001b[A"
     ]
    },
    {
     "name": "stdout",
     "output_type": "stream",
     "text": [
      "Especialista en Higiene y Seg.  Done 1             ggcisterna@gmail.com\n",
      "1       sanchogabriela@hotmail.com\n",
      "1           ecalamos@argentina.com\n",
      "4           conghos@hotmail.com.ar\n",
      "5      marianonicola1975@gmail.com\n",
      "                 ...              \n",
      "1          paulababaylac@gmail.com\n",
      "1      silvia.parrotta@hotmail.com\n",
      "1         lilianarithner@gmail.com\n",
      "1    nataliamontanari@yahoo.com.ar\n",
      "1         luis.pereira@novocap.com\n",
      "Length: 64, dtype: object\n"
     ]
    },
    {
     "name": "stderr",
     "output_type": "stream",
     "text": [
      "\n",
      " 15%|█▍        | 56/384 [10:18<1:14:16, 13.59s/it]\u001b[A"
     ]
    },
    {
     "name": "stdout",
     "output_type": "stream",
     "text": [
      "especialista en higiene y seguridad en el trabajo Done 1            ggcisterna@gmail.com\n",
      "1      sanchogabriela@hotmail.com\n",
      "1          ecalamos@argentina.com\n",
      "4          conghos@hotmail.com.ar\n",
      "5     marianonicola1975@gmail.com\n",
      "                 ...             \n",
      "19          mschamber78@gmail.com\n",
      "22             neldo@ar.inter.net\n",
      "23       danielrvidal@hotmail.com\n",
      "24        gustavowilder@gmail.com\n",
      "25      raulhzanconi@yahoo.com.ar\n",
      "Length: 86, dtype: object\n"
     ]
    },
    {
     "name": "stderr",
     "output_type": "stream",
     "text": [
      "\n",
      " 15%|█▍        | 57/384 [10:25<1:03:27, 11.64s/it]\u001b[A"
     ]
    },
    {
     "name": "stdout",
     "output_type": "stream",
     "text": [
      "ESPECIALISTA EN ING. INDUSTRIAL Done 1            ggcisterna@gmail.com\n",
      "1      sanchogabriela@hotmail.com\n",
      "1          ecalamos@argentina.com\n",
      "4          conghos@hotmail.com.ar\n",
      "5     marianonicola1975@gmail.com\n",
      "                 ...             \n",
      "19          mschamber78@gmail.com\n",
      "22             neldo@ar.inter.net\n",
      "23       danielrvidal@hotmail.com\n",
      "24        gustavowilder@gmail.com\n",
      "25      raulhzanconi@yahoo.com.ar\n",
      "Length: 86, dtype: object\n"
     ]
    },
    {
     "name": "stderr",
     "output_type": "stream",
     "text": [
      "\n",
      " 15%|█▌        | 58/384 [10:43<1:13:14, 13.48s/it]\u001b[A"
     ]
    },
    {
     "name": "stdout",
     "output_type": "stream",
     "text": [
      "Especialista en Ingenieria Ambiental Done 1            ggcisterna@gmail.com\n",
      "1      sanchogabriela@hotmail.com\n",
      "1          ecalamos@argentina.com\n",
      "4          conghos@hotmail.com.ar\n",
      "5     marianonicola1975@gmail.com\n",
      "                 ...             \n",
      "7        manoiosi@deriplom.com.ar\n",
      "8       axonambiental@hotmail.com\n",
      "9       ingenierosendin@gmail.com\n",
      "10      ingenierosendin@gmail.com\n",
      "11      adrianaspagnolo@gmail.com\n",
      "Length: 97, dtype: object\n"
     ]
    },
    {
     "name": "stderr",
     "output_type": "stream",
     "text": [
      "\n",
      " 15%|█▌        | 59/384 [10:51<1:04:13, 11.86s/it]\u001b[A"
     ]
    },
    {
     "name": "stdout",
     "output_type": "stream",
     "text": [
      "Especialista en Ingeniería Ambiental Done 1            ggcisterna@gmail.com\n",
      "1      sanchogabriela@hotmail.com\n",
      "1          ecalamos@argentina.com\n",
      "4          conghos@hotmail.com.ar\n",
      "5     marianonicola1975@gmail.com\n",
      "                 ...             \n",
      "9       ingenierosendin@gmail.com\n",
      "10      ingenierosendin@gmail.com\n",
      "11      adrianaspagnolo@gmail.com\n",
      "1           lauccordoba@gmail.com\n",
      "2          alejandro@falco.net.ar\n",
      "Length: 99, dtype: object\n"
     ]
    },
    {
     "name": "stderr",
     "output_type": "stream",
     "text": [
      "\n",
      " 16%|█▌        | 60/384 [10:58<55:43, 10.32s/it]  \u001b[A"
     ]
    },
    {
     "name": "stdout",
     "output_type": "stream",
     "text": [
      "Especialista en Ingeniería en Calidad Done 1            ggcisterna@gmail.com\n",
      "1      sanchogabriela@hotmail.com\n",
      "1          ecalamos@argentina.com\n",
      "4          conghos@hotmail.com.ar\n",
      "5     marianonicola1975@gmail.com\n",
      "                 ...             \n",
      "9       ingenierosendin@gmail.com\n",
      "10      ingenierosendin@gmail.com\n",
      "11      adrianaspagnolo@gmail.com\n",
      "1           lauccordoba@gmail.com\n",
      "2          alejandro@falco.net.ar\n",
      "Length: 99, dtype: object\n"
     ]
    },
    {
     "name": "stderr",
     "output_type": "stream",
     "text": [
      "\n",
      " 16%|█▌        | 61/384 [11:04<50:00,  9.29s/it]\u001b[A"
     ]
    },
    {
     "name": "stdout",
     "output_type": "stream",
     "text": [
      "Especialista en Planificacion Urbana   Done 1            ggcisterna@gmail.com\n",
      "1      sanchogabriela@hotmail.com\n",
      "1          ecalamos@argentina.com\n",
      "4          conghos@hotmail.com.ar\n",
      "5     marianonicola1975@gmail.com\n",
      "                 ...             \n",
      "9       ingenierosendin@gmail.com\n",
      "10      ingenierosendin@gmail.com\n",
      "11      adrianaspagnolo@gmail.com\n",
      "1           lauccordoba@gmail.com\n",
      "2          alejandro@falco.net.ar\n",
      "Length: 99, dtype: object\n"
     ]
    },
    {
     "name": "stderr",
     "output_type": "stream",
     "text": [
      "\n",
      " 16%|█▌        | 62/384 [11:11<44:48,  8.35s/it]\u001b[A"
     ]
    },
    {
     "name": "stdout",
     "output_type": "stream",
     "text": [
      "ESPECIALISTA EN PROTECCIÓN AMBIENTAL Done 1            ggcisterna@gmail.com\n",
      "1      sanchogabriela@hotmail.com\n",
      "1          ecalamos@argentina.com\n",
      "4          conghos@hotmail.com.ar\n",
      "5     marianonicola1975@gmail.com\n",
      "                 ...             \n",
      "9       ingenierosendin@gmail.com\n",
      "10      ingenierosendin@gmail.com\n",
      "11      adrianaspagnolo@gmail.com\n",
      "1           lauccordoba@gmail.com\n",
      "2          alejandro@falco.net.ar\n",
      "Length: 99, dtype: object\n"
     ]
    },
    {
     "name": "stderr",
     "output_type": "stream",
     "text": [
      "\n",
      " 16%|█▋        | 63/384 [11:18<43:06,  8.06s/it]\u001b[A"
     ]
    },
    {
     "name": "stdout",
     "output_type": "stream",
     "text": [
      "ESPECIALISTA EN SEGURIDAD E HIGIENE Done 1            ggcisterna@gmail.com\n",
      "1      sanchogabriela@hotmail.com\n",
      "1          ecalamos@argentina.com\n",
      "4          conghos@hotmail.com.ar\n",
      "5     marianonicola1975@gmail.com\n",
      "                 ...             \n",
      "11      adrianaspagnolo@gmail.com\n",
      "1           lauccordoba@gmail.com\n",
      "2          alejandro@falco.net.ar\n",
      "1       jmgconstrucciones.2@gmail\n",
      "2            mssollazzo@gmail.com\n",
      "Length: 101, dtype: object\n"
     ]
    },
    {
     "name": "stderr",
     "output_type": "stream",
     "text": [
      "\n",
      " 17%|█▋        | 64/384 [11:26<42:30,  7.97s/it]\u001b[A"
     ]
    },
    {
     "name": "stdout",
     "output_type": "stream",
     "text": [
      "ESPECIALISTA EN SEGURIDAD E HIGIENE DEL TRABAJO Done 1           ggcisterna@gmail.com\n",
      "1     sanchogabriela@hotmail.com\n",
      "1         ecalamos@argentina.com\n",
      "4         conghos@hotmail.com.ar\n",
      "5    marianonicola1975@gmail.com\n",
      "                ...             \n",
      "1          lauccordoba@gmail.com\n",
      "2         alejandro@falco.net.ar\n",
      "1      jmgconstrucciones.2@gmail\n",
      "2           mssollazzo@gmail.com\n",
      "1      jmgconstrucciones.2@gmail\n",
      "Length: 102, dtype: object\n"
     ]
    },
    {
     "name": "stderr",
     "output_type": "stream",
     "text": [
      "\n",
      " 17%|█▋        | 65/384 [11:32<40:17,  7.58s/it]\u001b[A"
     ]
    },
    {
     "name": "stdout",
     "output_type": "stream",
     "text": [
      "Especialista en Seguridad e Higiene en el Trabajo Done 1           ggcisterna@gmail.com\n",
      "1     sanchogabriela@hotmail.com\n",
      "1         ecalamos@argentina.com\n",
      "4         conghos@hotmail.com.ar\n",
      "5    marianonicola1975@gmail.com\n",
      "                ...             \n",
      "2         alejandro@falco.net.ar\n",
      "1      jmgconstrucciones.2@gmail\n",
      "2           mssollazzo@gmail.com\n",
      "1      jmgconstrucciones.2@gmail\n",
      "1           mssollazzo@gmail.com\n",
      "Length: 103, dtype: object\n"
     ]
    },
    {
     "name": "stderr",
     "output_type": "stream",
     "text": [
      "\n",
      " 17%|█▋        | 66/384 [11:39<38:48,  7.32s/it]\u001b[A"
     ]
    },
    {
     "name": "stdout",
     "output_type": "stream",
     "text": [
      "Especialista en seguridad en el trabajo agrario Done 1           ggcisterna@gmail.com\n",
      "1     sanchogabriela@hotmail.com\n",
      "1         ecalamos@argentina.com\n",
      "4         conghos@hotmail.com.ar\n",
      "5    marianonicola1975@gmail.com\n",
      "                ...             \n",
      "2         alejandro@falco.net.ar\n",
      "1      jmgconstrucciones.2@gmail\n",
      "2           mssollazzo@gmail.com\n",
      "1      jmgconstrucciones.2@gmail\n",
      "1           mssollazzo@gmail.com\n",
      "Length: 103, dtype: object\n"
     ]
    },
    {
     "name": "stderr",
     "output_type": "stream",
     "text": [
      "\n",
      " 17%|█▋        | 67/384 [11:46<38:09,  7.22s/it]\u001b[A"
     ]
    },
    {
     "name": "stdout",
     "output_type": "stream",
     "text": [
      "Especialista en Seguridad, Higiene y ProtecciÃ³n A Done 1                ggcisterna@gmail.com\n",
      "1          sanchogabriela@hotmail.com\n",
      "1              ecalamos@argentina.com\n",
      "4              conghos@hotmail.com.ar\n",
      "5         marianonicola1975@gmail.com\n",
      "                   ...               \n",
      "1           jmgconstrucciones.2@gmail\n",
      "2                mssollazzo@gmail.com\n",
      "1           jmgconstrucciones.2@gmail\n",
      "1                mssollazzo@gmail.com\n",
      "1    MARIAEUGENIA_MARTIN@YAHOO.COM.AR\n",
      "Length: 104, dtype: object\n"
     ]
    },
    {
     "name": "stderr",
     "output_type": "stream",
     "text": [
      "\n",
      " 18%|█▊        | 68/384 [11:55<40:20,  7.66s/it]\u001b[A"
     ]
    },
    {
     "name": "stdout",
     "output_type": "stream",
     "text": [
      "Especialista en Seguridad, Higiene y Protección Am Done 1                ggcisterna@gmail.com\n",
      "1          sanchogabriela@hotmail.com\n",
      "1              ecalamos@argentina.com\n",
      "4              conghos@hotmail.com.ar\n",
      "5         marianonicola1975@gmail.com\n",
      "                   ...               \n",
      "1           jmgconstrucciones.2@gmail\n",
      "1                mssollazzo@gmail.com\n",
      "1    MARIAEUGENIA_MARTIN@YAHOO.COM.AR\n",
      "1             ars.servicios@gmail.com\n",
      "2                noranievas@gmail.com\n",
      "Length: 106, dtype: object\n"
     ]
    },
    {
     "name": "stderr",
     "output_type": "stream",
     "text": [
      "\n",
      " 18%|█▊        | 69/384 [12:01<37:42,  7.18s/it]\u001b[A"
     ]
    },
    {
     "name": "stdout",
     "output_type": "stream",
     "text": [
      "Especialista en Seguridad,Higiene y Proteccion Amb Done 1                ggcisterna@gmail.com\n",
      "1          sanchogabriela@hotmail.com\n",
      "1              ecalamos@argentina.com\n",
      "4              conghos@hotmail.com.ar\n",
      "5         marianonicola1975@gmail.com\n",
      "                   ...               \n",
      "1           jmgconstrucciones.2@gmail\n",
      "1                mssollazzo@gmail.com\n",
      "1    MARIAEUGENIA_MARTIN@YAHOO.COM.AR\n",
      "1             ars.servicios@gmail.com\n",
      "2                noranievas@gmail.com\n",
      "Length: 106, dtype: object\n"
     ]
    },
    {
     "name": "stderr",
     "output_type": "stream",
     "text": [
      "\n",
      " 18%|█▊        | 70/384 [12:09<39:24,  7.53s/it]\u001b[A"
     ]
    },
    {
     "name": "stdout",
     "output_type": "stream",
     "text": [
      "ESPECIALISTA HIGIENE Y SEGURIDAD EN EL TRABAJO Done 1                ggcisterna@gmail.com\n",
      "1          sanchogabriela@hotmail.com\n",
      "1              ecalamos@argentina.com\n",
      "4              conghos@hotmail.com.ar\n",
      "5         marianonicola1975@gmail.com\n",
      "                   ...               \n",
      "1                mssollazzo@gmail.com\n",
      "1    MARIAEUGENIA_MARTIN@YAHOO.COM.AR\n",
      "1             ars.servicios@gmail.com\n",
      "2                noranievas@gmail.com\n",
      "1                edelaplaza@gmail.com\n",
      "Length: 107, dtype: object\n"
     ]
    },
    {
     "name": "stderr",
     "output_type": "stream",
     "text": [
      "\n",
      " 18%|█▊        | 71/384 [12:15<37:12,  7.13s/it]\u001b[A"
     ]
    },
    {
     "name": "stdout",
     "output_type": "stream",
     "text": [
      "Especialista medio ambiente y contaminación de eco Done 1                ggcisterna@gmail.com\n",
      "1          sanchogabriela@hotmail.com\n",
      "1              ecalamos@argentina.com\n",
      "4              conghos@hotmail.com.ar\n",
      "5         marianonicola1975@gmail.com\n",
      "                   ...               \n",
      "1                mssollazzo@gmail.com\n",
      "1    MARIAEUGENIA_MARTIN@YAHOO.COM.AR\n",
      "1             ars.servicios@gmail.com\n",
      "2                noranievas@gmail.com\n",
      "1                edelaplaza@gmail.com\n",
      "Length: 107, dtype: object\n"
     ]
    },
    {
     "name": "stderr",
     "output_type": "stream",
     "text": [
      "\n",
      " 19%|█▉        | 72/384 [12:22<36:20,  6.99s/it]\u001b[A"
     ]
    },
    {
     "name": "stdout",
     "output_type": "stream",
     "text": [
      "Especialización en Ciencias Químicas y Ambiente Done 1                ggcisterna@gmail.com\n",
      "1          sanchogabriela@hotmail.com\n",
      "1              ecalamos@argentina.com\n",
      "4              conghos@hotmail.com.ar\n",
      "5         marianonicola1975@gmail.com\n",
      "                   ...               \n",
      "1    MARIAEUGENIA_MARTIN@YAHOO.COM.AR\n",
      "1             ars.servicios@gmail.com\n",
      "2                noranievas@gmail.com\n",
      "1                edelaplaza@gmail.com\n",
      "1                alejandrolucini@mijo\n",
      "Length: 108, dtype: object\n"
     ]
    },
    {
     "name": "stderr",
     "output_type": "stream",
     "text": [
      "\n",
      " 19%|█▉        | 73/384 [12:28<35:14,  6.80s/it]\u001b[A"
     ]
    },
    {
     "name": "stdout",
     "output_type": "stream",
     "text": [
      "Especializacion en Desarrollo Sustentable Done 1                ggcisterna@gmail.com\n",
      "1          sanchogabriela@hotmail.com\n",
      "1              ecalamos@argentina.com\n",
      "4              conghos@hotmail.com.ar\n",
      "5         marianonicola1975@gmail.com\n",
      "                   ...               \n",
      "1    MARIAEUGENIA_MARTIN@YAHOO.COM.AR\n",
      "1             ars.servicios@gmail.com\n",
      "2                noranievas@gmail.com\n",
      "1                edelaplaza@gmail.com\n",
      "1                alejandrolucini@mijo\n",
      "Length: 108, dtype: object\n"
     ]
    },
    {
     "name": "stderr",
     "output_type": "stream",
     "text": [
      "\n",
      " 19%|█▉        | 74/384 [12:36<36:03,  6.98s/it]\u001b[A"
     ]
    },
    {
     "name": "stdout",
     "output_type": "stream",
     "text": [
      "ESPECIALIZACION EN EVALUACION DEL IMPACTO AMBIENTA Done 1                ggcisterna@gmail.com\n",
      "1          sanchogabriela@hotmail.com\n",
      "1              ecalamos@argentina.com\n",
      "4              conghos@hotmail.com.ar\n",
      "5         marianonicola1975@gmail.com\n",
      "                   ...               \n",
      "1    MARIAEUGENIA_MARTIN@YAHOO.COM.AR\n",
      "1             ars.servicios@gmail.com\n",
      "2                noranievas@gmail.com\n",
      "1                edelaplaza@gmail.com\n",
      "1                alejandrolucini@mijo\n",
      "Length: 108, dtype: object\n"
     ]
    },
    {
     "name": "stderr",
     "output_type": "stream",
     "text": [
      "\n",
      " 20%|█▉        | 75/384 [12:44<37:17,  7.24s/it]\u001b[A"
     ]
    },
    {
     "name": "stdout",
     "output_type": "stream",
     "text": [
      "Especializacion en Higiene  y Seg. en el Trabajo Done 1                ggcisterna@gmail.com\n",
      "1          sanchogabriela@hotmail.com\n",
      "1              ecalamos@argentina.com\n",
      "4              conghos@hotmail.com.ar\n",
      "5         marianonicola1975@gmail.com\n",
      "                   ...               \n",
      "1    MARIAEUGENIA_MARTIN@YAHOO.COM.AR\n",
      "1             ars.servicios@gmail.com\n",
      "2                noranievas@gmail.com\n",
      "1                edelaplaza@gmail.com\n",
      "1                alejandrolucini@mijo\n",
      "Length: 108, dtype: object\n"
     ]
    },
    {
     "name": "stderr",
     "output_type": "stream",
     "text": [
      "\n",
      " 20%|█▉        | 76/384 [12:51<36:50,  7.18s/it]\u001b[A"
     ]
    },
    {
     "name": "stdout",
     "output_type": "stream",
     "text": [
      "ESPECIALIZACION EN HIGIENE Y SEGURIDAD EN EL TRABA Done 1                ggcisterna@gmail.com\n",
      "1          sanchogabriela@hotmail.com\n",
      "1              ecalamos@argentina.com\n",
      "4              conghos@hotmail.com.ar\n",
      "5         marianonicola1975@gmail.com\n",
      "                   ...               \n",
      "1    MARIAEUGENIA_MARTIN@YAHOO.COM.AR\n",
      "1             ars.servicios@gmail.com\n",
      "2                noranievas@gmail.com\n",
      "1                edelaplaza@gmail.com\n",
      "1                alejandrolucini@mijo\n",
      "Length: 108, dtype: object\n"
     ]
    },
    {
     "name": "stderr",
     "output_type": "stream",
     "text": [
      "\n",
      " 20%|██        | 77/384 [12:58<36:26,  7.12s/it]\u001b[A"
     ]
    },
    {
     "name": "stdout",
     "output_type": "stream",
     "text": [
      "Farmaceutica Especialista en Esterilización Done 1                ggcisterna@gmail.com\n",
      "1          sanchogabriela@hotmail.com\n",
      "1              ecalamos@argentina.com\n",
      "4              conghos@hotmail.com.ar\n",
      "5         marianonicola1975@gmail.com\n",
      "                   ...               \n",
      "1    MARIAEUGENIA_MARTIN@YAHOO.COM.AR\n",
      "1             ars.servicios@gmail.com\n",
      "2                noranievas@gmail.com\n",
      "1                edelaplaza@gmail.com\n",
      "1                alejandrolucini@mijo\n",
      "Length: 108, dtype: object\n"
     ]
    },
    {
     "name": "stderr",
     "output_type": "stream",
     "text": [
      "\n",
      " 20%|██        | 78/384 [13:07<39:38,  7.77s/it]\u001b[A"
     ]
    },
    {
     "name": "stdout",
     "output_type": "stream",
     "text": [
      "Farmaceutico Done 1                ggcisterna@gmail.com\n",
      "1          sanchogabriela@hotmail.com\n",
      "1              ecalamos@argentina.com\n",
      "4              conghos@hotmail.com.ar\n",
      "5         marianonicola1975@gmail.com\n",
      "                   ...               \n",
      "1    MARIAEUGENIA_MARTIN@YAHOO.COM.AR\n",
      "1             ars.servicios@gmail.com\n",
      "2                noranievas@gmail.com\n",
      "1                edelaplaza@gmail.com\n",
      "1                alejandrolucini@mijo\n",
      "Length: 108, dtype: object\n"
     ]
    },
    {
     "name": "stderr",
     "output_type": "stream",
     "text": [
      "\n",
      " 21%|██        | 79/384 [13:14<39:06,  7.69s/it]\u001b[A"
     ]
    },
    {
     "name": "stdout",
     "output_type": "stream",
     "text": [
      "Geofísico Done 1                ggcisterna@gmail.com\n",
      "1          sanchogabriela@hotmail.com\n",
      "1              ecalamos@argentina.com\n",
      "4              conghos@hotmail.com.ar\n",
      "5         marianonicola1975@gmail.com\n",
      "                   ...               \n",
      "1    MARIAEUGENIA_MARTIN@YAHOO.COM.AR\n",
      "1             ars.servicios@gmail.com\n",
      "2                noranievas@gmail.com\n",
      "1                edelaplaza@gmail.com\n",
      "1                alejandrolucini@mijo\n",
      "Length: 108, dtype: object\n"
     ]
    },
    {
     "name": "stderr",
     "output_type": "stream",
     "text": [
      "\n",
      " 21%|██        | 80/384 [14:39<2:35:50, 30.76s/it]\u001b[A"
     ]
    },
    {
     "name": "stdout",
     "output_type": "stream",
     "text": [
      "Geólogo Done 1            ggcisterna@gmail.com\n",
      "1      sanchogabriela@hotmail.com\n",
      "1          ecalamos@argentina.com\n",
      "4          conghos@hotmail.com.ar\n",
      "5     marianonicola1975@gmail.com\n",
      "                 ...             \n",
      "17             perera@hidroar.com\n",
      "20       geologotimon@hotmail.com\n",
      "22     hugovidili@fibertel.com.ar\n",
      "23      villalbaha@infovia.com.ar\n",
      "25              jwgeo@hotmail.com\n",
      "Length: 125, dtype: object\n"
     ]
    },
    {
     "name": "stderr",
     "output_type": "stream",
     "text": [
      "\n",
      " 21%|██        | 81/384 [14:48<2:02:51, 24.33s/it]\u001b[A"
     ]
    },
    {
     "name": "stdout",
     "output_type": "stream",
     "text": [
      "Geoquímico Done 1            ggcisterna@gmail.com\n",
      "1      sanchogabriela@hotmail.com\n",
      "1          ecalamos@argentina.com\n",
      "4          conghos@hotmail.com.ar\n",
      "5     marianonicola1975@gmail.com\n",
      "                 ...             \n",
      "17             perera@hidroar.com\n",
      "20       geologotimon@hotmail.com\n",
      "22     hugovidili@fibertel.com.ar\n",
      "23      villalbaha@infovia.com.ar\n",
      "25              jwgeo@hotmail.com\n",
      "Length: 125, dtype: object\n"
     ]
    },
    {
     "name": "stderr",
     "output_type": "stream",
     "text": [
      "\n",
      " 21%|██▏       | 82/384 [14:55<1:35:46, 19.03s/it]\u001b[A"
     ]
    },
    {
     "name": "stdout",
     "output_type": "stream",
     "text": [
      "Hidrologia Ambiental Done 1            ggcisterna@gmail.com\n",
      "1      sanchogabriela@hotmail.com\n",
      "1          ecalamos@argentina.com\n",
      "4          conghos@hotmail.com.ar\n",
      "5     marianonicola1975@gmail.com\n",
      "                 ...             \n",
      "20       geologotimon@hotmail.com\n",
      "22     hugovidili@fibertel.com.ar\n",
      "23      villalbaha@infovia.com.ar\n",
      "25              jwgeo@hotmail.com\n",
      "1         enriquehopman@gmail.com\n",
      "Length: 126, dtype: object\n"
     ]
    },
    {
     "name": "stderr",
     "output_type": "stream",
     "text": [
      "\n",
      " 22%|██▏       | 83/384 [15:00<1:14:37, 14.88s/it]\u001b[A"
     ]
    },
    {
     "name": "stdout",
     "output_type": "stream",
     "text": [
      "HIGIENE Y SEGURIDAD DEN EL TRABAJO Done 1            ggcisterna@gmail.com\n",
      "1      sanchogabriela@hotmail.com\n",
      "1          ecalamos@argentina.com\n",
      "4          conghos@hotmail.com.ar\n",
      "5     marianonicola1975@gmail.com\n",
      "                 ...             \n",
      "20       geologotimon@hotmail.com\n",
      "22     hugovidili@fibertel.com.ar\n",
      "23      villalbaha@infovia.com.ar\n",
      "25              jwgeo@hotmail.com\n",
      "1         enriquehopman@gmail.com\n",
      "Length: 126, dtype: object\n"
     ]
    },
    {
     "name": "stderr",
     "output_type": "stream",
     "text": [
      "\n",
      " 22%|██▏       | 84/384 [15:07<1:02:10, 12.43s/it]\u001b[A"
     ]
    },
    {
     "name": "stdout",
     "output_type": "stream",
     "text": [
      "Higiene y Seguridad en el Trabajo y Medio Ambiente Done 1            ggcisterna@gmail.com\n",
      "1      sanchogabriela@hotmail.com\n",
      "1          ecalamos@argentina.com\n",
      "4          conghos@hotmail.com.ar\n",
      "5     marianonicola1975@gmail.com\n",
      "                 ...             \n",
      "23      villalbaha@infovia.com.ar\n",
      "25              jwgeo@hotmail.com\n",
      "1         enriquehopman@gmail.com\n",
      "1           earmanini@hotmail.com\n",
      "2           earmanini@hotmail.com\n",
      "Length: 128, dtype: object\n"
     ]
    },
    {
     "name": "stderr",
     "output_type": "stream",
     "text": [
      "\n",
      " 22%|██▏       | 85/384 [15:13<52:24, 10.52s/it]  \u001b[A"
     ]
    },
    {
     "name": "stdout",
     "output_type": "stream",
     "text": [
      "Iing. laboral  y especialista en hig y seg Done 1            ggcisterna@gmail.com\n",
      "1      sanchogabriela@hotmail.com\n",
      "1          ecalamos@argentina.com\n",
      "4          conghos@hotmail.com.ar\n",
      "5     marianonicola1975@gmail.com\n",
      "                 ...             \n",
      "23      villalbaha@infovia.com.ar\n",
      "25              jwgeo@hotmail.com\n",
      "1         enriquehopman@gmail.com\n",
      "1           earmanini@hotmail.com\n",
      "2           earmanini@hotmail.com\n",
      "Length: 128, dtype: object\n"
     ]
    },
    {
     "name": "stderr",
     "output_type": "stream",
     "text": [
      "\n",
      " 22%|██▏       | 86/384 [15:19<46:05,  9.28s/it]\u001b[A"
     ]
    },
    {
     "name": "stdout",
     "output_type": "stream",
     "text": [
      "Ing industrial y espec en ing amb Done 1            ggcisterna@gmail.com\n",
      "1      sanchogabriela@hotmail.com\n",
      "1          ecalamos@argentina.com\n",
      "4          conghos@hotmail.com.ar\n",
      "5     marianonicola1975@gmail.com\n",
      "                 ...             \n",
      "23      villalbaha@infovia.com.ar\n",
      "25              jwgeo@hotmail.com\n",
      "1         enriquehopman@gmail.com\n",
      "1           earmanini@hotmail.com\n",
      "2           earmanini@hotmail.com\n",
      "Length: 128, dtype: object\n"
     ]
    },
    {
     "name": "stderr",
     "output_type": "stream",
     "text": [
      "\n",
      " 23%|██▎       | 87/384 [15:26<42:01,  8.49s/it]\u001b[A"
     ]
    },
    {
     "name": "stdout",
     "output_type": "stream",
     "text": [
      "ING. Electricista con Orientación Electronica Done 1            ggcisterna@gmail.com\n",
      "1      sanchogabriela@hotmail.com\n",
      "1          ecalamos@argentina.com\n",
      "4          conghos@hotmail.com.ar\n",
      "5     marianonicola1975@gmail.com\n",
      "                 ...             \n",
      "23      villalbaha@infovia.com.ar\n",
      "25              jwgeo@hotmail.com\n",
      "1         enriquehopman@gmail.com\n",
      "1           earmanini@hotmail.com\n",
      "2           earmanini@hotmail.com\n",
      "Length: 128, dtype: object\n"
     ]
    },
    {
     "name": "stderr",
     "output_type": "stream",
     "text": [
      "\n",
      " 23%|██▎       | 88/384 [15:32<37:28,  7.60s/it]\u001b[A"
     ]
    },
    {
     "name": "stdout",
     "output_type": "stream",
     "text": [
      "ING. EN ELECTRONICA Done 1            ggcisterna@gmail.com\n",
      "1      sanchogabriela@hotmail.com\n",
      "1          ecalamos@argentina.com\n",
      "4          conghos@hotmail.com.ar\n",
      "5     marianonicola1975@gmail.com\n",
      "                 ...             \n",
      "23      villalbaha@infovia.com.ar\n",
      "25              jwgeo@hotmail.com\n",
      "1         enriquehopman@gmail.com\n",
      "1           earmanini@hotmail.com\n",
      "2           earmanini@hotmail.com\n",
      "Length: 128, dtype: object\n"
     ]
    },
    {
     "name": "stderr",
     "output_type": "stream",
     "text": [
      "\n",
      " 23%|██▎       | 89/384 [15:52<55:50, 11.36s/it]\u001b[A"
     ]
    },
    {
     "name": "stdout",
     "output_type": "stream",
     "text": [
      "ING. INDUSTRIAL Done 1            ggcisterna@gmail.com\n",
      "1      sanchogabriela@hotmail.com\n",
      "1          ecalamos@argentina.com\n",
      "4          conghos@hotmail.com.ar\n",
      "5     marianonicola1975@gmail.com\n",
      "                 ...             \n",
      "9            mrosso@ceamse.gov.ar\n",
      "10           dariosalvo@gmail.com\n",
      "11     ingjaviertaboada@gmail.com\n",
      "12         teyssan269@hotmail.com\n",
      "13        gustavowilder@gmail.com\n",
      "Length: 140, dtype: object\n"
     ]
    },
    {
     "name": "stderr",
     "output_type": "stream",
     "text": [
      "\n",
      " 23%|██▎       | 90/384 [15:59<49:16, 10.06s/it]\u001b[A"
     ]
    },
    {
     "name": "stdout",
     "output_type": "stream",
     "text": [
      "Ing. metalurgico Done 1            ggcisterna@gmail.com\n",
      "1      sanchogabriela@hotmail.com\n",
      "1          ecalamos@argentina.com\n",
      "4          conghos@hotmail.com.ar\n",
      "5     marianonicola1975@gmail.com\n",
      "                 ...             \n",
      "9            mrosso@ceamse.gov.ar\n",
      "10           dariosalvo@gmail.com\n",
      "11     ingjaviertaboada@gmail.com\n",
      "12         teyssan269@hotmail.com\n",
      "13        gustavowilder@gmail.com\n",
      "Length: 140, dtype: object\n"
     ]
    },
    {
     "name": "stderr",
     "output_type": "stream",
     "text": [
      "\n",
      " 24%|██▎       | 91/384 [16:04<42:13,  8.65s/it]\u001b[A"
     ]
    },
    {
     "name": "stdout",
     "output_type": "stream",
     "text": [
      "ING. TELEC., ELECT. Y COMPUTACION Done 1            ggcisterna@gmail.com\n",
      "1      sanchogabriela@hotmail.com\n",
      "1          ecalamos@argentina.com\n",
      "4          conghos@hotmail.com.ar\n",
      "5     marianonicola1975@gmail.com\n",
      "                 ...             \n",
      "9            mrosso@ceamse.gov.ar\n",
      "10           dariosalvo@gmail.com\n",
      "11     ingjaviertaboada@gmail.com\n",
      "12         teyssan269@hotmail.com\n",
      "13        gustavowilder@gmail.com\n",
      "Length: 140, dtype: object\n"
     ]
    },
    {
     "name": "stderr",
     "output_type": "stream",
     "text": [
      "\n",
      " 24%|██▍       | 92/384 [16:10<38:37,  7.94s/it]\u001b[A"
     ]
    },
    {
     "name": "stdout",
     "output_type": "stream",
     "text": [
      "ING.QUIMICA Y ESPECIALISTA EN INGENIERÍA AMBIENTAL Done 1            ggcisterna@gmail.com\n",
      "1      sanchogabriela@hotmail.com\n",
      "1          ecalamos@argentina.com\n",
      "4          conghos@hotmail.com.ar\n",
      "5     marianonicola1975@gmail.com\n",
      "                 ...             \n",
      "9            mrosso@ceamse.gov.ar\n",
      "10           dariosalvo@gmail.com\n",
      "11     ingjaviertaboada@gmail.com\n",
      "12         teyssan269@hotmail.com\n",
      "13        gustavowilder@gmail.com\n",
      "Length: 140, dtype: object\n"
     ]
    },
    {
     "name": "stderr",
     "output_type": "stream",
     "text": [
      "\n",
      " 24%|██▍       | 93/384 [16:22<44:36,  9.20s/it]\u001b[A"
     ]
    },
    {
     "name": "stdout",
     "output_type": "stream",
     "text": [
      "INGENIERA  CIVIL Done 1            ggcisterna@gmail.com\n",
      "1      sanchogabriela@hotmail.com\n",
      "1          ecalamos@argentina.com\n",
      "4          conghos@hotmail.com.ar\n",
      "5     marianonicola1975@gmail.com\n",
      "                 ...             \n",
      "12         teyssan269@hotmail.com\n",
      "13        gustavowilder@gmail.com\n",
      "1               sfiotto@gmail.com\n",
      "2       jmgconstrucciones.2@gmail\n",
      "3         mgonzal@frbb.utn.edu.ar\n",
      "Length: 143, dtype: object\n"
     ]
    },
    {
     "name": "stderr",
     "output_type": "stream",
     "text": [
      "\n",
      " 24%|██▍       | 94/384 [16:30<41:28,  8.58s/it]\u001b[A"
     ]
    },
    {
     "name": "stdout",
     "output_type": "stream",
     "text": [
      "INGENIERA AGROINDUSTRIAL Done 1            ggcisterna@gmail.com\n",
      "1      sanchogabriela@hotmail.com\n",
      "1          ecalamos@argentina.com\n",
      "4          conghos@hotmail.com.ar\n",
      "5     marianonicola1975@gmail.com\n",
      "                 ...             \n",
      "12         teyssan269@hotmail.com\n",
      "13        gustavowilder@gmail.com\n",
      "1               sfiotto@gmail.com\n",
      "2       jmgconstrucciones.2@gmail\n",
      "3         mgonzal@frbb.utn.edu.ar\n",
      "Length: 143, dtype: object\n"
     ]
    },
    {
     "name": "stderr",
     "output_type": "stream",
     "text": [
      "\n",
      " 25%|██▍       | 95/384 [16:37<39:00,  8.10s/it]\u001b[A"
     ]
    },
    {
     "name": "stdout",
     "output_type": "stream",
     "text": [
      "INGENIERA AGRONOMA Done 1            ggcisterna@gmail.com\n",
      "1      sanchogabriela@hotmail.com\n",
      "1          ecalamos@argentina.com\n",
      "4          conghos@hotmail.com.ar\n",
      "5     marianonicola1975@gmail.com\n",
      "                 ...             \n",
      "12         teyssan269@hotmail.com\n",
      "13        gustavowilder@gmail.com\n",
      "1               sfiotto@gmail.com\n",
      "2       jmgconstrucciones.2@gmail\n",
      "3         mgonzal@frbb.utn.edu.ar\n",
      "Length: 143, dtype: object\n"
     ]
    },
    {
     "name": "stderr",
     "output_type": "stream",
     "text": [
      "\n",
      " 25%|██▌       | 96/384 [16:43<36:43,  7.65s/it]\u001b[A"
     ]
    },
    {
     "name": "stdout",
     "output_type": "stream",
     "text": [
      "INGENIERA AMB. Y SANITARIA Done 1            ggcisterna@gmail.com\n",
      "1      sanchogabriela@hotmail.com\n",
      "1          ecalamos@argentina.com\n",
      "4          conghos@hotmail.com.ar\n",
      "5     marianonicola1975@gmail.com\n",
      "                 ...             \n",
      "12         teyssan269@hotmail.com\n",
      "13        gustavowilder@gmail.com\n",
      "1               sfiotto@gmail.com\n",
      "2       jmgconstrucciones.2@gmail\n",
      "3         mgonzal@frbb.utn.edu.ar\n",
      "Length: 143, dtype: object\n"
     ]
    },
    {
     "name": "stderr",
     "output_type": "stream",
     "text": [
      "\n",
      " 25%|██▌       | 97/384 [16:57<44:58,  9.40s/it]\u001b[A"
     ]
    },
    {
     "name": "stdout",
     "output_type": "stream",
     "text": [
      "INGENIERA AMBIENTAL Done 1             ggcisterna@gmail.com\n",
      "1       sanchogabriela@hotmail.com\n",
      "1           ecalamos@argentina.com\n",
      "4           conghos@hotmail.com.ar\n",
      "5      marianonicola1975@gmail.com\n",
      "                 ...              \n",
      "2        jmgconstrucciones.2@gmail\n",
      "3          mgonzal@frbb.utn.edu.ar\n",
      "1       josefinaaristain@gmail.com\n",
      "2    mauro_constantino@hotmail.com\n",
      "4      micaelalambertini@gmail.com\n",
      "Length: 146, dtype: object\n"
     ]
    },
    {
     "name": "stderr",
     "output_type": "stream",
     "text": [
      "\n",
      " 26%|██▌       | 98/384 [17:04<41:16,  8.66s/it]\u001b[A"
     ]
    },
    {
     "name": "stdout",
     "output_type": "stream",
     "text": [
      "INGENIERA CIVIL Done 1             ggcisterna@gmail.com\n",
      "1       sanchogabriela@hotmail.com\n",
      "1           ecalamos@argentina.com\n",
      "4           conghos@hotmail.com.ar\n",
      "5      marianonicola1975@gmail.com\n",
      "                 ...              \n",
      "2        jmgconstrucciones.2@gmail\n",
      "3          mgonzal@frbb.utn.edu.ar\n",
      "1       josefinaaristain@gmail.com\n",
      "2    mauro_constantino@hotmail.com\n",
      "4      micaelalambertini@gmail.com\n",
      "Length: 146, dtype: object\n"
     ]
    },
    {
     "name": "stderr",
     "output_type": "stream",
     "text": [
      "\n",
      " 26%|██▌       | 99/384 [17:10<37:56,  7.99s/it]\u001b[A"
     ]
    },
    {
     "name": "stdout",
     "output_type": "stream",
     "text": [
      "INGENIERA EN ALIMENTOS Done 1             ggcisterna@gmail.com\n",
      "1       sanchogabriela@hotmail.com\n",
      "1           ecalamos@argentina.com\n",
      "4           conghos@hotmail.com.ar\n",
      "5      marianonicola1975@gmail.com\n",
      "                 ...              \n",
      "2        jmgconstrucciones.2@gmail\n",
      "3          mgonzal@frbb.utn.edu.ar\n",
      "1       josefinaaristain@gmail.com\n",
      "2    mauro_constantino@hotmail.com\n",
      "4      micaelalambertini@gmail.com\n",
      "Length: 146, dtype: object\n"
     ]
    },
    {
     "name": "stderr",
     "output_type": "stream",
     "text": [
      "\n",
      " 26%|██▌       | 100/384 [17:19<39:20,  8.31s/it]\u001b[A"
     ]
    },
    {
     "name": "stdout",
     "output_type": "stream",
     "text": [
      "Ingeniera en Ecologia Done 1             ggcisterna@gmail.com\n",
      "1       sanchogabriela@hotmail.com\n",
      "1           ecalamos@argentina.com\n",
      "4           conghos@hotmail.com.ar\n",
      "5      marianonicola1975@gmail.com\n",
      "                 ...              \n",
      "1       josefinaaristain@gmail.com\n",
      "2    mauro_constantino@hotmail.com\n",
      "4      micaelalambertini@gmail.com\n",
      "1         paolapaterno75@gmail.com\n",
      "2       florencia.poggio@gmail.com\n",
      "Length: 148, dtype: object\n"
     ]
    },
    {
     "name": "stderr",
     "output_type": "stream",
     "text": [
      "\n",
      " 26%|██▋       | 101/384 [17:26<36:45,  7.80s/it]\u001b[A"
     ]
    },
    {
     "name": "stdout",
     "output_type": "stream",
     "text": [
      "Ingeniera en Recursos Naturales y Medio Ambiente Done 1             ggcisterna@gmail.com\n",
      "1       sanchogabriela@hotmail.com\n",
      "1           ecalamos@argentina.com\n",
      "4           conghos@hotmail.com.ar\n",
      "5      marianonicola1975@gmail.com\n",
      "                 ...              \n",
      "1       josefinaaristain@gmail.com\n",
      "2    mauro_constantino@hotmail.com\n",
      "4      micaelalambertini@gmail.com\n",
      "1         paolapaterno75@gmail.com\n",
      "2       florencia.poggio@gmail.com\n",
      "Length: 148, dtype: object\n"
     ]
    },
    {
     "name": "stderr",
     "output_type": "stream",
     "text": [
      "\n",
      " 27%|██▋       | 102/384 [17:32<35:13,  7.50s/it]\u001b[A"
     ]
    },
    {
     "name": "stdout",
     "output_type": "stream",
     "text": [
      "INGENIERA HIDRAULICA Done 1             ggcisterna@gmail.com\n",
      "1       sanchogabriela@hotmail.com\n",
      "1           ecalamos@argentina.com\n",
      "4           conghos@hotmail.com.ar\n",
      "5      marianonicola1975@gmail.com\n",
      "                 ...              \n",
      "1       josefinaaristain@gmail.com\n",
      "2    mauro_constantino@hotmail.com\n",
      "4      micaelalambertini@gmail.com\n",
      "1         paolapaterno75@gmail.com\n",
      "2       florencia.poggio@gmail.com\n",
      "Length: 148, dtype: object\n"
     ]
    },
    {
     "name": "stderr",
     "output_type": "stream",
     "text": [
      "\n",
      " 27%|██▋       | 103/384 [17:41<36:30,  7.80s/it]\u001b[A"
     ]
    },
    {
     "name": "stdout",
     "output_type": "stream",
     "text": [
      "INGENIERA INDUSTRIAL Done 1             ggcisterna@gmail.com\n",
      "1       sanchogabriela@hotmail.com\n",
      "1           ecalamos@argentina.com\n",
      "4           conghos@hotmail.com.ar\n",
      "5      marianonicola1975@gmail.com\n",
      "                 ...              \n",
      "1       josefinaaristain@gmail.com\n",
      "2    mauro_constantino@hotmail.com\n",
      "4      micaelalambertini@gmail.com\n",
      "1         paolapaterno75@gmail.com\n",
      "2       florencia.poggio@gmail.com\n",
      "Length: 148, dtype: object\n"
     ]
    },
    {
     "name": "stderr",
     "output_type": "stream",
     "text": [
      "\n",
      " 27%|██▋       | 104/384 [17:48<35:46,  7.67s/it]\u001b[A"
     ]
    },
    {
     "name": "stdout",
     "output_type": "stream",
     "text": [
      "INGENIERA LABORAL Done 1             ggcisterna@gmail.com\n",
      "1       sanchogabriela@hotmail.com\n",
      "1           ecalamos@argentina.com\n",
      "4           conghos@hotmail.com.ar\n",
      "5      marianonicola1975@gmail.com\n",
      "                 ...              \n",
      "2    mauro_constantino@hotmail.com\n",
      "4      micaelalambertini@gmail.com\n",
      "1         paolapaterno75@gmail.com\n",
      "2       florencia.poggio@gmail.com\n",
      "2        osvaldoscian@yahoo.com.ar\n",
      "Length: 149, dtype: object\n"
     ]
    },
    {
     "name": "stderr",
     "output_type": "stream",
     "text": [
      "\n",
      " 27%|██▋       | 105/384 [18:01<42:16,  9.09s/it]\u001b[A"
     ]
    },
    {
     "name": "stdout",
     "output_type": "stream",
     "text": [
      "INGENIERA QUIMICA Done 1                  ggcisterna@gmail.com\n",
      "1            sanchogabriela@hotmail.com\n",
      "1                ecalamos@argentina.com\n",
      "4                conghos@hotmail.com.ar\n",
      "5           marianonicola1975@gmail.com\n",
      "                    ...                \n",
      "4    danilo.lozada@ar.bureauveritas.com\n",
      "5                camazzini@yahoo.com.ar\n",
      "6       mariagianninapastor@hotmail.com\n",
      "7                  ppingitore@gmail.com\n",
      "9                MPRAUSCHE@YAHOO.COM.AR\n",
      "Length: 157, dtype: object\n"
     ]
    },
    {
     "name": "stderr",
     "output_type": "stream",
     "text": [
      "\n",
      " 28%|██▊       | 106/384 [18:07<38:28,  8.30s/it]\u001b[A"
     ]
    },
    {
     "name": "stdout",
     "output_type": "stream",
     "text": [
      "INGENIERA ZOOTECNISTA  Done 1                  ggcisterna@gmail.com\n",
      "1            sanchogabriela@hotmail.com\n",
      "1                ecalamos@argentina.com\n",
      "4                conghos@hotmail.com.ar\n",
      "5           marianonicola1975@gmail.com\n",
      "                    ...                \n",
      "4    danilo.lozada@ar.bureauveritas.com\n",
      "5                camazzini@yahoo.com.ar\n",
      "6       mariagianninapastor@hotmail.com\n",
      "7                  ppingitore@gmail.com\n",
      "9                MPRAUSCHE@YAHOO.COM.AR\n",
      "Length: 157, dtype: object\n"
     ]
    },
    {
     "name": "stderr",
     "output_type": "stream",
     "text": [
      "\n",
      " 28%|██▊       | 107/384 [18:17<40:00,  8.67s/it]\u001b[A"
     ]
    },
    {
     "name": "stdout",
     "output_type": "stream",
     "text": [
      "Ingeniería en Seguridad Ambiental Done 1               ggcisterna@gmail.com\n",
      "1         sanchogabriela@hotmail.com\n",
      "1             ecalamos@argentina.com\n",
      "4             conghos@hotmail.com.ar\n",
      "5        marianonicola1975@gmail.com\n",
      "                  ...               \n",
      "7               ppingitore@gmail.com\n",
      "9             MPRAUSCHE@YAHOO.COM.AR\n",
      "1               amihoc@edesur.com.ar\n",
      "2    MARCELO.ANINO@AUSTRALTUB.COM.AR\n",
      "3               jpporterie@gmail.com\n",
      "Length: 160, dtype: object\n"
     ]
    },
    {
     "name": "stderr",
     "output_type": "stream",
     "text": [
      "\n",
      " 28%|██▊       | 108/384 [18:24<38:23,  8.35s/it]\u001b[A"
     ]
    },
    {
     "name": "stdout",
     "output_type": "stream",
     "text": [
      "Ingenieria Sanitaria Done 1               ggcisterna@gmail.com\n",
      "1         sanchogabriela@hotmail.com\n",
      "1             ecalamos@argentina.com\n",
      "4             conghos@hotmail.com.ar\n",
      "5        marianonicola1975@gmail.com\n",
      "                  ...               \n",
      "7               ppingitore@gmail.com\n",
      "9             MPRAUSCHE@YAHOO.COM.AR\n",
      "1               amihoc@edesur.com.ar\n",
      "2    MARCELO.ANINO@AUSTRALTUB.COM.AR\n",
      "3               jpporterie@gmail.com\n",
      "Length: 160, dtype: object\n"
     ]
    },
    {
     "name": "stderr",
     "output_type": "stream",
     "text": [
      "\n",
      " 28%|██▊       | 109/384 [18:35<40:51,  8.91s/it]\u001b[A"
     ]
    },
    {
     "name": "stdout",
     "output_type": "stream",
     "text": [
      "Ingeniero  en Alimentos Done 1               ggcisterna@gmail.com\n",
      "1         sanchogabriela@hotmail.com\n",
      "1             ecalamos@argentina.com\n",
      "4             conghos@hotmail.com.ar\n",
      "5        marianonicola1975@gmail.com\n",
      "                  ...               \n",
      "2    MARCELO.ANINO@AUSTRALTUB.COM.AR\n",
      "3               jpporterie@gmail.com\n",
      "1      alonsojuanignacio@hotmail.com\n",
      "2       MANUELENRIQUEZ84@HOTMAIL.COM\n",
      "4                 mourea@hotmail.com\n",
      "Length: 163, dtype: object\n"
     ]
    },
    {
     "name": "stderr",
     "output_type": "stream",
     "text": [
      "\n",
      " 29%|██▊       | 110/384 [18:44<40:50,  8.94s/it]\u001b[A"
     ]
    },
    {
     "name": "stdout",
     "output_type": "stream",
     "text": [
      "INGENIERO AERONAUTICO Done 1            ggcisterna@gmail.com\n",
      "1      sanchogabriela@hotmail.com\n",
      "1          ecalamos@argentina.com\n",
      "4          conghos@hotmail.com.ar\n",
      "5     marianonicola1975@gmail.com\n",
      "                 ...             \n",
      "2    MANUELENRIQUEZ84@HOTMAIL.COM\n",
      "4              mourea@hotmail.com\n",
      "1            myjpuen@yahoo.com.ar\n",
      "2            myjpuen@yahoo.com.ar\n",
      "3             JRAPOSO@HOTMAIL.COM\n",
      "Length: 166, dtype: object\n"
     ]
    },
    {
     "name": "stderr",
     "output_type": "stream",
     "text": [
      "\n",
      " 29%|██▉       | 111/384 [18:56<45:10,  9.93s/it]\u001b[A"
     ]
    },
    {
     "name": "stdout",
     "output_type": "stream",
     "text": [
      "Ingeniero Aeronáutico Done 1            ggcisterna@gmail.com\n",
      "1      sanchogabriela@hotmail.com\n",
      "1          ecalamos@argentina.com\n",
      "4          conghos@hotmail.com.ar\n",
      "5     marianonicola1975@gmail.com\n",
      "                 ...             \n",
      "1            myjpuen@yahoo.com.ar\n",
      "2            myjpuen@yahoo.com.ar\n",
      "3             JRAPOSO@HOTMAIL.COM\n",
      "1     ingenieria_enn@yahoo.com.ar\n",
      "2    ingenieria@estudioifp.com.ar\n",
      "Length: 168, dtype: object\n"
     ]
    },
    {
     "name": "stderr",
     "output_type": "stream",
     "text": [
      "\n",
      " 29%|██▉       | 112/384 [19:03<41:06,  9.07s/it]\u001b[A"
     ]
    },
    {
     "name": "stdout",
     "output_type": "stream",
     "text": [
      "INGENIERO AGRIMENSOR Done 1            ggcisterna@gmail.com\n",
      "1      sanchogabriela@hotmail.com\n",
      "1          ecalamos@argentina.com\n",
      "4          conghos@hotmail.com.ar\n",
      "5     marianonicola1975@gmail.com\n",
      "                 ...             \n",
      "1            myjpuen@yahoo.com.ar\n",
      "2            myjpuen@yahoo.com.ar\n",
      "3             JRAPOSO@HOTMAIL.COM\n",
      "1     ingenieria_enn@yahoo.com.ar\n",
      "2    ingenieria@estudioifp.com.ar\n",
      "Length: 168, dtype: object\n"
     ]
    },
    {
     "name": "stderr",
     "output_type": "stream",
     "text": [
      "\n",
      " 29%|██▉       | 113/384 [19:11<40:07,  8.88s/it]\u001b[A"
     ]
    },
    {
     "name": "stdout",
     "output_type": "stream",
     "text": [
      "INGENIERO AGRONOMO Done 1            ggcisterna@gmail.com\n",
      "1      sanchogabriela@hotmail.com\n",
      "1          ecalamos@argentina.com\n",
      "4          conghos@hotmail.com.ar\n",
      "5     marianonicola1975@gmail.com\n",
      "                 ...             \n",
      "1            myjpuen@yahoo.com.ar\n",
      "2            myjpuen@yahoo.com.ar\n",
      "3             JRAPOSO@HOTMAIL.COM\n",
      "1     ingenieria_enn@yahoo.com.ar\n",
      "2    ingenieria@estudioifp.com.ar\n",
      "Length: 168, dtype: object\n"
     ]
    }
   ],
   "source": [
    "finals = pd.Series()\n",
    "\n",
    "for i in tqdm(tits):\n",
    "    br = Browser()\n",
    "\n",
    "    br.set_handle_robots( False )\n",
    "    br.addheaders = [(\"User-agent\", \"Firefox\")]\n",
    "    br.open(\"http://sistemas.opds.gba.gov.ar/intra/Profesionales/ConsultaWeb.php\")\n",
    "\n",
    "    br.select_form(\"frmBuscaProf\")\n",
    "    br.form[\"sltTitulo\"] = [str(i),]\n",
    "    br.submit()\n",
    "    resp = br.response()\n",
    "    soup = BeautifulSoup(resp.read(), \"html.parser\")\n",
    "    data = soup.find(\"table\", border=1)\n",
    "    html_string = str(data)\n",
    "    try:\n",
    "\n",
    "        dat = pd.read_html(html_string)\n",
    "        mails = dat[0][6][1:]\n",
    "        mails = mails.dropna()\n",
    "        finals = finals.append(mails)\n",
    "    except Exception:\n",
    "        pass\n",
    "    print(i, \"Done\", finals)\n",
    "    finals.to_csv(\"mails_pais.csv\",index=False)"
   ]
  },
  {
   "cell_type": "code",
   "execution_count": null,
   "metadata": {},
   "outputs": [],
   "source": []
  }
 ],
 "metadata": {
  "kernelspec": {
   "display_name": "Python 3",
   "language": "python",
   "name": "python3"
  },
  "language_info": {
   "codemirror_mode": {
    "name": "ipython",
    "version": 3
   },
   "file_extension": ".py",
   "mimetype": "text/x-python",
   "name": "python",
   "nbconvert_exporter": "python",
   "pygments_lexer": "ipython3",
   "version": "3.6.8"
  }
 },
 "nbformat": 4,
 "nbformat_minor": 2
}
