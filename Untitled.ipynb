{
 "cells": [
  {
   "cell_type": "code",
   "execution_count": 1,
   "metadata": {},
   "outputs": [],
   "source": [
    "import mechanize"
   ]
  },
  {
   "cell_type": "code",
   "execution_count": 5,
   "metadata": {},
   "outputs": [
    {
     "data": {
      "text/plain": [
       "<response_seek_wrapper at 0x7f4b35c62e80 whose wrapped object = <closeable_response at 0x7f4b35c62d68 whose fp = <_io.BufferedReader name=56>>>"
      ]
     },
     "execution_count": 5,
     "metadata": {},
     "output_type": "execute_result"
    }
   ],
   "source": [
    "br = mechanize.Browser()\n",
    "url=\"http://sistemas.opds.gba.gov.ar/intra/Profesionales/ConsultaWeb.php\"\n",
    "br.open(url)\n"
   ]
  },
  {
   "cell_type": "code",
   "execution_count": 11,
   "metadata": {},
   "outputs": [],
   "source": [
    "f = br.forms()"
   ]
  },
  {
   "cell_type": "code",
   "execution_count": 14,
   "metadata": {},
   "outputs": [
    {
     "data": {
      "text/plain": [
       "['__class__',\n",
       " '__contains__',\n",
       " '__delattr__',\n",
       " '__dict__',\n",
       " '__dir__',\n",
       " '__doc__',\n",
       " '__eq__',\n",
       " '__format__',\n",
       " '__ge__',\n",
       " '__getattribute__',\n",
       " '__getitem__',\n",
       " '__gt__',\n",
       " '__hash__',\n",
       " '__init__',\n",
       " '__init_subclass__',\n",
       " '__le__',\n",
       " '__lt__',\n",
       " '__module__',\n",
       " '__ne__',\n",
       " '__new__',\n",
       " '__reduce__',\n",
       " '__reduce_ex__',\n",
       " '__repr__',\n",
       " '__setattr__',\n",
       " '__setitem__',\n",
       " '__sizeof__',\n",
       " '__str__',\n",
       " '__subclasshook__',\n",
       " '__weakref__',\n",
       " '_click',\n",
       " '_find_control',\n",
       " '_find_list_control',\n",
       " '_forms',\n",
       " '_id_to_labels',\n",
       " '_labels',\n",
       " '_pairs',\n",
       " '_pairs_and_controls',\n",
       " '_request_class',\n",
       " '_request_data',\n",
       " '_switch_click',\n",
       " '_urlparse',\n",
       " '_urlunparse',\n",
       " 'action',\n",
       " 'add_file',\n",
       " 'attrs',\n",
       " 'clear',\n",
       " 'clear_all',\n",
       " 'click',\n",
       " 'click_pairs',\n",
       " 'click_request_data',\n",
       " 'controls',\n",
       " 'enctype',\n",
       " 'find_control',\n",
       " 'fixup',\n",
       " 'form_encoding',\n",
       " 'get_value',\n",
       " 'get_value_by_label',\n",
       " 'method',\n",
       " 'name',\n",
       " 'new_control',\n",
       " 'possible_items',\n",
       " 'set',\n",
       " 'set_all_readonly',\n",
       " 'set_single',\n",
       " 'set_value',\n",
       " 'set_value_by_label',\n",
       " 'toggle',\n",
       " 'toggle_single',\n",
       " 'type2class']"
      ]
     },
     "execution_count": 14,
     "metadata": {},
     "output_type": "execute_result"
    }
   ],
   "source": [
    "dir(f[0])"
   ]
  },
  {
   "cell_type": "code",
   "execution_count": 15,
   "metadata": {},
   "outputs": [],
   "source": [
    "br.select_form(f[0].name)"
   ]
  },
  {
   "cell_type": "code",
   "execution_count": 18,
   "metadata": {},
   "outputs": [],
   "source": [
    "response = br.submit()"
   ]
  },
  {
   "cell_type": "code",
   "execution_count": 28,
   "metadata": {},
   "outputs": [
    {
     "ename": "AttributeError",
     "evalue": "<class 'mechanize._mechanize.Browser'> instance has no attribute f (perhaps you forgot to .select_form()?)",
     "output_type": "error",
     "traceback": [
      "\u001b[0;31m---------------------------------------------------------------------------\u001b[0m",
      "\u001b[0;31mAttributeError\u001b[0m                            Traceback (most recent call last)",
      "\u001b[0;32m<ipython-input-28-59b6f1e6803c>\u001b[0m in \u001b[0;36m<module>\u001b[0;34m()\u001b[0m\n\u001b[0;32m----> 1\u001b[0;31m \u001b[0mbr\u001b[0m\u001b[0;34m.\u001b[0m\u001b[0mf\u001b[0m\u001b[0;34m[\u001b[0m\u001b[0;36m0\u001b[0m\u001b[0;34m]\u001b[0m\u001b[0;34m\u001b[0m\u001b[0;34m\u001b[0m\u001b[0m\n\u001b[0m",
      "\u001b[0;32m/home/cooper-cooper/.local/lib/python3.6/site-packages/mechanize/_mechanize.py\u001b[0m in \u001b[0;36m__getattr__\u001b[0;34m(self, name)\u001b[0m\n\u001b[1;32m    783\u001b[0m             raise AttributeError(\n\u001b[1;32m    784\u001b[0m                 \u001b[0;34m\"%s instance has no attribute %s (perhaps you forgot to \"\u001b[0m\u001b[0;34m\u001b[0m\u001b[0;34m\u001b[0m\u001b[0m\n\u001b[0;32m--> 785\u001b[0;31m                 \".select_form()?)\" % (self.__class__, name))\n\u001b[0m\u001b[1;32m    786\u001b[0m         \u001b[0;32mreturn\u001b[0m \u001b[0mgetattr\u001b[0m\u001b[0;34m(\u001b[0m\u001b[0mform\u001b[0m\u001b[0;34m,\u001b[0m \u001b[0mname\u001b[0m\u001b[0;34m)\u001b[0m\u001b[0;34m\u001b[0m\u001b[0;34m\u001b[0m\u001b[0m\n\u001b[1;32m    787\u001b[0m \u001b[0;34m\u001b[0m\u001b[0m\n",
      "\u001b[0;31mAttributeError\u001b[0m: <class 'mechanize._mechanize.Browser'> instance has no attribute f (perhaps you forgot to .select_form()?)"
     ]
    }
   ],
   "source": [
    "br.f[0]"
   ]
  },
  {
   "cell_type": "code",
   "execution_count": null,
   "metadata": {},
   "outputs": [],
   "source": []
  }
 ],
 "metadata": {
  "kernelspec": {
   "display_name": "Python 3",
   "language": "python",
   "name": "python3"
  },
  "language_info": {
   "codemirror_mode": {
    "name": "ipython",
    "version": 3
   },
   "file_extension": ".py",
   "mimetype": "text/x-python",
   "name": "python",
   "nbconvert_exporter": "python",
   "pygments_lexer": "ipython3",
   "version": "3.6.8"
  }
 },
 "nbformat": 4,
 "nbformat_minor": 2
}
