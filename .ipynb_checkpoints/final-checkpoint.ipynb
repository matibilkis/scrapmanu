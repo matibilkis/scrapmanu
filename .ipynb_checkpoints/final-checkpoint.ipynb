{
 "cells": [
  {
   "cell_type": "code",
   "execution_count": 1,
   "metadata": {},
   "outputs": [
    {
     "name": "stdout",
     "output_type": "stream",
     "text": [
      "['sltRegistro', 'txtNroProf', 'txtDNIBusca', 'txtApellidoBusca', 'txtNombre', 'sltTitulo', 'sltProvincia', 'sltPartidoR', 'sltLocalidadR', 'btnBuscaDNI']\n"
     ]
    }
   ],
   "source": [
    "import re\n",
    "from bs4 import BeautifulSoup\n",
    "from mechanize import Browser\n",
    "import pandas as pd\n",
    "import requests\n",
    "from IPython.display import display_html\n",
    "from tqdm import tqdm\n",
    "\n",
    "br = Browser()\n",
    "\n",
    "br.set_handle_robots( False )\n",
    "br.addheaders = [(\"User-agent\", \"Firefox\")]\n",
    "br.open(\"http://sistemas.opds.gba.gov.ar/intra/Profesionales/ConsultaWeb.php\")\n",
    "\n",
    "br.select_form(\"frmBuscaProf\")\n",
    "controls = br.form.controls\n",
    "print([control.name for control in controls])"
   ]
  },
  {
   "cell_type": "code",
   "execution_count": 7,
   "metadata": {},
   "outputs": [
    {
     "name": "stdout",
     "output_type": "stream",
     "text": [
      "0 0\n",
      "1 3\n",
      "2 1\n",
      "3 2\n",
      "4 13\n",
      "5 nada\n",
      "6 \tLIC. SEGURIDAD E HIGIENE Y CONTROL AMBIENTAL \n",
      "7 ABOGADA\n",
      "8 Abogado\n",
      "9 Agrimensor\n",
      "10 Agrónomo\n",
      "11 Analista de Sistemas\n",
      "12 ANALISTA ECOLOGICO\n",
      "13 Analista Ecológico\n",
      "14 Analista Ecológico y en  Contaminación\n",
      "15 Analista en Ciencias Ambientales\n",
      "16 Analista en Contaminación y Analista Ecológico\n",
      "17 ANALISTA UNIVERSITARIO EN MONITOREO DEL AMBIENTE\n",
      "18 Antropologa\n",
      "19 Arquitecta\n",
      "20 Arquitecto\n",
      "21 Artillero y corredor Publico\n",
      "22 BIOLOGA\n",
      "23 Biologo\n",
      "24 Bioquímico\n",
      "25 con orientacion en botanica\n",
      "26 Contador\n",
      "27 Curso de Evaluacion de Impacto Ambiental y Proyect\n",
      "28 curso de psgrado en EIA\n",
      "29 CURSO DE PUESTA A TIERRA DE PLANTAS INDUSTRIALES\n",
      "30 Curso EIA y Proyecto Urbano\n",
      "31 Diseñador Industrial\n",
      "32 diseño en areas esteriles \n",
      "33 Doctor de la Univ. Bs.As. área Ingeniería\n",
      "34 Doctor en Ciencias del Mar\n",
      "35 Doctor en Ciencias Naturales\n",
      "36 Doctor en Ciencias Veterinarias \n",
      "37 Doctorado en Ciencias Quimica\n",
      "38 DR EN QUIMICA\n",
      "39 E. en Seguridad, Higiene y Protección Ambiental\n",
      "40 Ecólogo\n",
      "41 Esp en Hig Ambiental\n",
      "42 Esp. en Eval. de Contaminación Amb.               \n",
      "43 Esp. en Gestion Ambiental\n",
      "44 Esp. en Higiene y Seguridad en el Trabajo Agrario\n",
      "45 ESP. HIGIENE Y SEG.LAB.INDUST. DE LA CONST.\n",
      "46 Esp. Seg. e Higiene\n",
      "47 Esp. Seg.e Higiene\n",
      "48 ESPCIALISTA EN PLANEAMIENTO P. Y AMB.\n",
      "49 Espec. en Hig y Seg en el Trab Agra\n",
      "50 espec.en Gestion del Patrimonio y Turismo Sostenib\n",
      "51 Especialidad Hidraulica\n",
      "52 ESPECIALISTA  AMBIENTAL\n",
      "53 especialista  en ambiente y patologia ambiental\n",
      "54 Especialista en Ciencias Químicas y Ambiente\n",
      "55 Especialista en Derecho Ambiental\n",
      "56 Especialista en Diagnostico y EvaluaciÃ³n Ambienta\n",
      "57 Especialista en Explotación de Yacimientos\n",
      "58 Especialista en gestion ambiental - higiene y seg.\n",
      "59 Especialista en Higiene y Proteccion Ambiental\n",
      "60 Especialista en Higiene y Seg. \n",
      "61 especialista en higiene y seguridad en el trabajo\n",
      "62 ESPECIALISTA EN ING. INDUSTRIAL\n",
      "63 Especialista en Ingenieria Ambiental\n",
      "64 Especialista en Ingeniería Ambiental\n",
      "65 Especialista en Ingeniería en Calidad\n",
      "66 Especialista en Planificacion Urbana  \n",
      "67 ESPECIALISTA EN PROTECCIÓN AMBIENTAL\n",
      "68 ESPECIALISTA EN SEGURIDAD E HIGIENE\n",
      "69 ESPECIALISTA EN SEGURIDAD E HIGIENE DEL TRABAJO\n",
      "70 Especialista en Seguridad e Higiene en el Trabajo\n",
      "71 Especialista en seguridad en el trabajo agrario\n",
      "72 Especialista en Seguridad, Higiene y ProtecciÃ³n A\n",
      "73 Especialista en Seguridad, Higiene y Protección Am\n",
      "74 Especialista en Seguridad,Higiene y Proteccion Amb\n",
      "75 ESPECIALISTA HIGIENE Y SEGURIDAD EN EL TRABAJO\n",
      "76 Especialista medio ambiente y contaminación de eco\n",
      "77 Especialización en Ciencias Químicas y Ambiente\n",
      "78 Especializacion en Desarrollo Sustentable\n",
      "79 ESPECIALIZACION EN EVALUACION DEL IMPACTO AMBIENTA\n",
      "80 Especializacion en Higiene  y Seg. en el Trabajo\n",
      "81 ESPECIALIZACION EN HIGIENE Y SEGURIDAD EN EL TRABA\n",
      "82 Farmaceutica Especialista en Esterilización\n",
      "83 Farmaceutico\n",
      "84 Geofísico\n",
      "85 Geólogo\n",
      "86 Geoquímico\n",
      "87 Hidrologia Ambiental\n",
      "88 HIGIENE Y SEGURIDAD DEN EL TRABAJO\n",
      "89 Higiene y Seguridad en el Trabajo y Medio Ambiente\n",
      "90 Iing. laboral  y especialista en hig y seg\n",
      "91 Ing industrial y espec en ing amb\n",
      "92 ING. Electricista con Orientación Electronica\n",
      "93 ING. EN ELECTRONICA\n",
      "94 ING. INDUSTRIAL\n",
      "95 Ing. metalurgico\n",
      "96 ING. TELEC., ELECT. Y COMPUTACION\n",
      "97 ING.QUIMICA Y ESPECIALISTA EN INGENIERÍA AMBIENTAL\n",
      "98 INGENIERA  CIVIL\n",
      "99 INGENIERA AGROINDUSTRIAL\n",
      "100 INGENIERA AGRONOMA\n",
      "101 INGENIERA AMB. Y SANITARIA\n",
      "102 INGENIERA AMBIENTAL\n",
      "103 INGENIERA CIVIL\n",
      "104 INGENIERA EN ALIMENTOS\n",
      "105 Ingeniera en Ecologia\n",
      "106 Ingeniera en Recursos Naturales y Medio Ambiente\n",
      "107 INGENIERA HIDRAULICA\n",
      "108 INGENIERA INDUSTRIAL\n",
      "109 INGENIERA LABORAL\n",
      "110 INGENIERA QUIMICA\n",
      "111 INGENIERA ZOOTECNISTA \n",
      "112 Ingeniería en Seguridad Ambiental\n",
      "113 Ingenieria Sanitaria\n",
      "114 Ingeniero  en Alimentos\n",
      "115 INGENIERO AERONAUTICO\n",
      "116 Ingeniero Aeronáutico\n",
      "117 INGENIERO AGRIMENSOR\n",
      "118 INGENIERO AGRONOMO\n",
      "119 Ingeniero Agrónomo\n",
      "120 Ingeniero Ambiental\n",
      "121 Ingeniero Civil\n",
      "122 INGENIERO DE PETROLEOS\n",
      "123 INGENIERO DE SONIDO\n",
      "124 Ingeniero Electricista\n",
      "125 Ingeniero Electromecánico\n",
      "126 INGENIERO ELECTROMECANICO CON OR. MECANICA\n",
      "127 Ingeniero Electromecánico or Electricista\n",
      "128 INGENIERO ELECTRONICO\n",
      "129 Ingeniero Electrónico\n",
      "130 Ingeniero en Arsenales\n",
      "131 Ingeniero en Construcciones\n",
      "132 Ingeniero en Ecologia\n",
      "133 Ingeniero en Electrònica\n",
      "134 Ingeniero en Geodesia\n",
      "135 INGENIERO EN GESTION DE SINIESTROS Y SEGURIDAD AMB\n",
      "136 Ingeniero en Higiene y Seguridad  en el Trabajo\n",
      "137 Ingeniero en Higiene y Seguridad en el Trabajo\n",
      "138 Ingeniero en Industrias de la Alimentacion\n",
      "139 Ingeniero en Materiales\n",
      "140 Ingeniero en Organizaci{on de Empresas\n",
      "141 Ingeniero en Organizacion de Empresas\n",
      "142 INGENIERO EN PRODUCCION AGROPECUARIA\n",
      "143 Ingeniero en Recursos Hidricos\n",
      "144 Ingeniero en Recursos Naturales y Medio  Ambiente\n",
      "145 Ingeniero en Seguridad Ambiental\n",
      "146 Ingeniero en Seguridad e Higiene\n",
      "147 Ingeniero en Seguridad e Higiene en el Trabajo \n",
      "148 ingeniero en sistemas de informacion\n",
      "149 Ingeniero en Telecomunicaciones\n",
      "150 Ingeniero en vias de comunicacion\n",
      "151 Ingeniero Especialista en Higiene y Seguridad en e\n",
      "152 INGENIERO ESPECIALISTA EN PROTECCIÓN AMBIENTAL\n",
      "153 Ingeniero Forestal\n",
      "154 Ingeniero Geógrafo\n",
      "155 Ingeniero Hidráulico\n",
      "156 Ingeniero Industrail\n",
      "157 Ingeniero Industrial\n",
      "158 Ingeniero Laboral\n",
      "159 Ingeniero Laboral \n",
      "160 Ingeniero Mecanico\n",
      "161 Ingeniero Mecánico\n",
      "162 Ingeniero Mecánico \n",
      "163 Ingeniero Metalúrgico\n",
      "164 INGENIERO MILITAR\n",
      "165 Ingeniero Químico\n",
      "166 Ingeniero Sanitario\n",
      "167 Ingeniero Textil\n",
      "168 Ingeniero Zootecnista\n",
      "169 INGENIRO NAVAL Y MECANICO\n",
      "170 LIC EN BIOLOGIA OR. ECOLOGIA\n",
      "171 Lic en Hig y Seg en el Trab, Esp en Protecc Ambtal\n",
      "172 Lic. Ciencias de la Educacion\n",
      "173 Lic. en Aprovechamiento de Recur. Nat. Renovables\n",
      "174 LIC. en BIOLOGIA con orientacion en  ZOOLOGIA\n",
      "175 LIC. EN BIOQUIMICA\n",
      "176 LIC. EN C. ANTROPOLOGICAS C. OR. ARQUEOLOGICA\n",
      "177 LIC. EN CIENCIAS AMBIENTALES\n",
      "178 LIC. EN CIENCIAS BIOLOGICAS\n",
      "179 LIC. EN CIENCIAS DEL AMBIENTE\n",
      "180 LIC. EN CIENCIAS GEOLOGICAS\n",
      "181 LIC. EN CIENCIAS QUÍMICAS\n",
      "182 LIC. EN CIENCIAS QUIMICAS O. ANALISIS BIOLOGICOS\n",
      "183 Lic. en Ecolgia y Cons.de Rec. Nat. Renovables\n",
      "184 LIC. EN ENSEÑANZA DE LAS CIENCIAS DEL AMBIENTE\n",
      "185 LIC. EN GEOLOGIA\n",
      "186 LIC. EN GERENCIAMIENTO AMBIENTAL\n",
      "187 Lic. en Gestion Ambiental\n",
      "188 LIC. EN GESTION AMBIENTAL URBANA\n",
      "189 LIC. EN HIGIENE Y  SEG EN EL TRABAJO\n",
      "190 LIC. EN HIGIENE Y SEGURIDAD INDUSTRIAL\n",
      "191 LIC. EN PROTECCIÓN Y SANEAMIENTO AMBIENTAL\n",
      "192 Lic. en Química y Tecnología Ambiental\n",
      "193 LIC. EN RELACIONES COM. INTERNACIONALES\n",
      "194 LIC. EN RELACIONES INDUSTRIALES CON ESPEC. EN UCA,\n",
      "195 Lic. en Saneamiento y proteccion ambiental\n",
      "196 Lic. en Seg. e Higiene en el Trabajo y Medio Amb.\n",
      "197 LIC. EN SEG. HIGIENE IND. Y CONTROL AMBIENTAL\n",
      "198 Lic. en Seguridad Ambiental\n",
      "199 LIC. EN SEGURIDAD E HIGIENE \n",
      "200 LIC. EN SEGURIDAD Y SALUD OCUPACIONAL\n",
      "201 Lic. en Seguridad, Higiene y Control Ambiental Lab\n",
      "202 LIC. EN SISTEMAS \n",
      "203 LIC. EN TECNOLOGÍA AMBIENTAL\n",
      "204 LIC. INFORMACIÓN AMBIENTAL\n",
      "205 LIC. SEGURIDAD E HIGIENE Y CONTROL AMBIENTAL\n",
      "206 Lic.en Biologia OR Zoologia\n",
      "207 Lic.en Seg e Hig y Control Amb Laboral\n",
      "208 Licenciad en Seguridad y salud ocupacional\n",
      "209 LICENCIADA  EN CIENCIAS DEL AMBIENTE\n",
      "210 Licenciada en Análisis Ambiental\n",
      "211 LICENCIADA EN BIOTECNOLOGIA\n",
      "212 LICENCIADA EN BROMATOLOGIA\n",
      "213 Licenciada en Ciencia y Tecnología de Alimentos\n",
      "214 LICENCIADA EN CIENCIAS AMBIENTALES\n",
      "215 Licenciada en Ciencias Geologicas\n",
      "216 Licenciada en Ciencias Politicas\n",
      "217 LICENCIADA EN CIENCIAS QUIMICAS O. ANALISIS QUIM.\n",
      "218 Licenciada en Diagnóstico y Gestión Ambiental\n",
      "219 Licenciada en Ecología Urbana\n",
      "220 LICENCIADA EN GEOLOGIA\n",
      "221 LICENCIADA EN GERENCIAMIENTO  AMB.\n",
      "222 LICENCIADA EN GESTION AMBIENTAL\n",
      "223 LICENCIADA EN INFORMACION AMBIENTAL\n",
      "224 Licenciada en Oceanografia\n",
      "225 Licenciada en Oceanografía Orientación Química Mar\n",
      "226 Licenciada en Quimica Industrial\n",
      "227 Licenciada en Química y Tecnologia Ambienta\n",
      "228 Licenciada en Relaciones Industriales\n",
      "229 Licenciada en Tecnología de los alimentos\n",
      "230 Licenciada en Tecnología Industrial de los Aliment\n",
      "231 licenciada en turismo\n",
      "232 Licenciada Oceanografía Orientación Química Marina\n",
      "233 Licenciado en Administración Agraria\n",
      "234 LICENCIADO EN ADMINISTRACION DE EMPRESAS.\n",
      "235 Licenciado en Analisis de Sistemas\n",
      "236 Licenciado en Antropologia\n",
      "237 Licenciado en Aprovechamiento de Recursos Naturale\n",
      "238 Licenciado en Biologia\n",
      "239 LICENCIADO EN BIOLOGIA or zoologia\n",
      "240 LICENCIADO EN BIOLOGIA OR. ECOLOGIA\n",
      "241 LICENCIADO EN BIOLOGIA OR. ECOLOGICA\n",
      "242 Licenciado en Biología or. Zoologia \n",
      "243 Licenciado en Bioquímica\n",
      "244 LICENCIADO EN BIOTECNOLOGIA\n",
      "245 Licenciado en Ciencias Agrarias\n",
      "246 Licenciado en Ciencias Ambientales\n",
      "247 Licenciado en Ciencias Antropológicas\n",
      "248 Licenciado en Ciencias Biologicas\n",
      "249 LICENCIADO EN CIENCIAS DEL AMBIENTE\n",
      "250 Licenciado en Ciencias Fisicas\n",
      "251 LICENCIADO EN CIENCIAS GEOLOGICAS\n",
      "252 Licenciado en Ciencias Oceonografia\n",
      "253 LICENCIADO EN COMUNICACION SOCIAL \n",
      "254 Licenciado en Comunicación Social\n",
      "255 LICENCIADO EN CRIMINALISTA\n",
      "256 Licenciado en Cs.Quimicas\n",
      "257 LICENCIADO EN DIAG. Y GESTION AMBIENTAL\n",
      "258 Licenciado en Diagnostico y Gestion Ambiental\n",
      "259 Licenciado en Diagnóstico y Gestión Ambiental\n",
      "260 Licenciado en Ecología\n",
      "261 Licenciado en Ecologia Urbana\n",
      "262 Licenciado en Economía\n",
      "263 Licenciado en Economia Agropecuaria\n",
      "264 Licenciado en Edafología\n",
      "265 Licenciado en Enseñanza de ciencias del ambiente\n",
      "266 Licenciado en Gelogía\n",
      "267 LICENCIADO EN GEOGRAFIA\n",
      "268 Licenciado en Geografía\n",
      "269 LICENCIADO EN GEOLOGIA\n",
      "270 Licenciado en Geología\n",
      "271 Licenciado en Gerenciamiento Ambiental\n",
      "272 Licenciado en Gestiòn Ambiental\n",
      "273 Licenciado en Gestion Ambiental Urbano\n",
      "274 LICENCIADO EN H. Y SEG. EN EL TRAB. ESP. EN P. AMB\n",
      "275 Licenciado en Higiene y Seguridad  en el Trabajo\n",
      "276 LICENCIADO EN HIGIENE Y SEGURIDAD LABORAL\n",
      "277 LICENCIADO EN INFORMACION AMBIENTAL\n",
      "278 Licenciado en Informatica Ambiental\n",
      "279 LICENCIADO EN ORGANIZACION INDUSTRIAL\n",
      "280 Licenciado en Organizaciòn Industrial\n",
      "281 Licenciado en Química\n",
      "282 LICENCIADO EN QUIMICA INDUSTRIAL\n",
      "283 LICENCIADO EN RELACIONES DEL TRABAJO\n",
      "284 LICENCIADO EN SANEAMIENTO AMBIENTAL \n",
      "285 LICENCIADO EN SANEAMIENTO Y PROTECCION AMBIENTAL\n",
      "286 Licenciado en Seguridad e Higiene en el Trabajo\n",
      "287 Licenciado en Seguridad Higiene y Control Ambienta\n",
      "288 LICENCIADO EN SEGURIDAD Y SALUD OCUPACIONAL\n",
      "289 Licenciado en Seguridad, Higiene y Control Ambient\n",
      "290 Licenciado en Sistemas de Protección Contra Sinies\n",
      "291 Licenciado en Sociología\n",
      "292 Licenciado en Tecnologia Ambiental\n",
      "293 Licenciado en Trabajo Social\n",
      "294 Licenciado en Transporte y Logística Operativa\n",
      "295 Licenciado en Zoología\n",
      "296 Licenciado Eugenista Humanologo\n",
      "297 Licenciano de Seguridad\n",
      "298 LICENCIATURA DE SEGURIDAD\n",
      "299 Licenciatura en AnÃ¡lisis ClÃ­nicos y BioquÃ­mica\n",
      "300 LICENCIATURA EN GERENCIAMIENTO AMBIENTAL\n",
      "301 LICENCIATURA EN SEGURIDAD Y SALUD OCUPACIONAL\n",
      "302 Licencioado en Geoquimica\n",
      "303 Liicenciatura en Información Ambiental\n",
      "304 MAESTRIA EN ADMINISTRACION DE EMPRESAS\n",
      "305 MAESTRIA EN AMBIENTE Y DESARROLLO SUSTENTABLE\n",
      "306 Maestría en Ciencias Ambientales\n",
      "307 MAESTRIA EN GESTION AMBIENTAL\n",
      "308 MAESTRIA EN HIGIENE Y SEGURIDAD EN EL TRABAJO\n",
      "309 MAESTRIA EN MANEJO AMBIENTAL DE SISTEMAS HIDRICOS\n",
      "310 Maestro  Mayor de Obras\n",
      "311 MAGISTER EN ESTUDIOS AMBIENTALES \n",
      "312 MAGISTER EN GESTION AMBIENTAL DEL DESARROLLO URBAN\n",
      "313 Magister en Ingenieria Ambiental\n",
      "314 Martillero y Corredor Publico\n",
      "315 Master en Gestion y Auditorias Ambientales\n",
      "316 MASTER EN INGENIERIA AMBIENTAL DE LA EMPRESA\n",
      "317 Master en Seguridad Industrial\n",
      "318 Master Lic. en Amb. del Desarrolo Urbano   \n",
      "319 Master Universitario en Gestion y Auditoria Ambie \n",
      "320 Médico\n",
      "321 Meteorólogo\n",
      "322 Muestreador (Curso RENATOM)\n",
      "323 Muestreador (Curso RETOMA)\n",
      "324 No posee colegio\n",
      "325 Oceanografo\n",
      "326 ODONTOLOGA\n",
      "327 Orientacion Mecanica\n",
      "328 Posgrado - INGENIERIA AMBIENTAL\n",
      "329 Posgrado en Hig. y Seg. en el Trab\n",
      "330 post grado en gestión ambiental\n",
      "331 PROCURADORA\n",
      "332 Profesora en Geografía\n",
      "333 Programa de Gestión Ambiental\n",
      "334 Programa de Gestiòn Ambiental\n",
      "335 proyecto de instalaciones hospitalarias\n",
      "336 QUIMICA (Carrera Bioquimica)\n",
      "337 QUIMICO\n",
      "338 saneamiento proteccion ambiental\n",
      "339 tec sup en seg e higiene en el trabajo . \n",
      "340 TEC. SUP. EN MED. AMB. MARINO Y COSTERO\n",
      "341 Tec. Sup. en Seg., Hig. y Control Amb. Ind.\n",
      "342 Tec. Superior en Hig. y Seg. en el Trabajo\n",
      "343 Tec. Superior en Manejo Ambiental\n",
      "344 Tec. Universitario en Gestión Ambiental Urbana\n",
      "345 TECNICA MAESTRO MAYOR DE OBRAS\n",
      "346 Tecnica Superior en Gestiòn Ambiental\n",
      "347 Tecnica Univ. en Informacion Ambiental\n",
      "348 TECNICATURA SUPERIOR EN GESTION AMBIENTAL Y SALUD\n",
      "349 Tecnico  Mecanico\n",
      "350 Tecnico  Saneamiento Ambiental\n",
      "351 Tecnico Analista Ambiental\n",
      "352 tecnico constructor\n",
      "353 Técnico Electrónico\n",
      "354 TECNICO EN E. Y INST. ELECTROMECANICAS\n",
      "355 Técnico en Electromecanica\n",
      "356 TECNICO EN EQUIPOS E INST. ELECTROMECANICAS\n",
      "357 Tecnico en Gerenciamiento Ambiental\n",
      "358 TECNICO EN INDUSTRIAS DE LA ALIMENTACION ORI.PESCA\n",
      "359 TECNICO EN INDUSTRIAS DE PROCESOS\n",
      "360 Técnico en la Cadena de Carnes\n",
      "361 Técnico en Meteorología Sinóptica\n",
      "362 Tecnico en Seguridad e Higiene\n",
      "363 Tecnico en Seguridad Industrial \n",
      "364 TECNICO EN SONIDO ESP EN DISEÑO DE INST. ACUSTICAS\n",
      "365 TECNICO FORESTAL\n",
      "366 Técnico Mecánico \n",
      "367 Tecnico Mecanico Electricista\n",
      "368 Tècnico Mecanico Electricista\n",
      "369 Técnico Químico\n",
      "370 Técnico sup. en gestion Ambiental\n",
      "371 TECNICO SUPERIOR AGRARIO EN SUELOS Y AGUAS\n",
      "372 TECNICO SUPERIOR EN BROMATOLOGIA\n",
      "373 Tecnico Superior en Ecologia\n",
      "374 TECNICO SUPERIOR EN MANEJO AMBIENTAL\n",
      "375 Técnico Superior en Seg. Higiene y Control Amb.\n",
      "376 Tecnico Superior en Seguridad e Higiene en el Trab\n",
      "377 Técnico Superior en Seguridad e Higiene Industrial\n",
      "378 Técnico Superior en Seguridad, Higiene y Control A\n",
      "379 Tecnico Superior en Seguridad, Higiene y ControlAm\n",
      "380 tecnico superior en turismo\n",
      "381 TECNICO UNIVERSITARIO EN GERENCIAMIENTO AMBIENTAL\n",
      "382 TECNICO UNIVERSITARIO EN GESTION AMBIENTAL\n",
      "383 Técnico Universitario en Gestión Ambiental\n",
      "384 TECNICO UNIVERSITARIO EN HIGIENE Y SEGURIDAD EN EL\n",
      "385 Técnico Universitario en Higiene y Seguridad Labor\n",
      "386 TECNICO UNIVERSITARIO EN INFORMACION AMBIENTAL\n",
      "387 TECNICO UNIVERSITARIO EN MEDIO AMBIENTE\n",
      "388 Veterinario\n",
      "389 Zoólogo\n",
      "390 0\n",
      "391 1\n",
      "392 22\n",
      "393 5\n",
      "394 17\n",
      "395 14\n",
      "396 4\n",
      "397 2\n",
      "398 6\n",
      "399 8\n",
      "400 13\n",
      "401 23\n",
      "402 11\n",
      "403 7\n",
      "404 15\n",
      "405 16\n",
      "406 9\n",
      "407 10\n",
      "408 12\n",
      "409 18\n",
      "410 3\n",
      "411 21\n",
      "412 19\n",
      "413 20\n",
      "414 0\n",
      "415 0\n"
     ]
    }
   ],
   "source": [
    "\n",
    "url=\"http://sistemas.opds.gba.gov.ar/intra/Profesionales/ConsultaWeb.php\"\n",
    "html_content = requests.get(url).text\n",
    "soup = BeautifulSoup(html_content, \"lxml\")\n",
    "options = soup.find_all(\"option\")\n",
    "for k, i in enumerate(options):\n",
    "    print(k,i, i.get(\"value\"))"
   ]
  },
  {
   "cell_type": "code",
   "execution_count": 9,
   "metadata": {},
   "outputs": [],
   "source": [
    "tits = []\n",
    "for k, i in enumerate(options):\n",
    "    if (k>5)&(k<390):\n",
    "        tits.append(i.get(\"value\"))"
   ]
  },
  {
   "cell_type": "code",
   "execution_count": 14,
   "metadata": {},
   "outputs": [
    {
     "name": "stderr",
     "output_type": "stream",
     "text": [
      "\n",
      "  0%|          | 0/384 [00:00<?, ?it/s]\u001b[A/usr/lib/python3/dist-packages/ipykernel_launcher.py:26: FutureWarning: The signature of `Series.to_csv` was aligned to that of `DataFrame.to_csv`, and argument 'header' will change its default value from False to True: please pass an explicit value to suppress this warning.\n",
      "\n",
      "  0%|          | 1/384 [00:06<43:20,  6.79s/it]\u001b[A"
     ]
    },
    {
     "name": "stdout",
     "output_type": "stream",
     "text": [
      "\tLIC. SEGURIDAD E HIGIENE Y CONTROL AMBIENTAL  Done 1    ggcisterna@gmail.com\n",
      "dtype: object\n"
     ]
    },
    {
     "name": "stderr",
     "output_type": "stream",
     "text": [
      "\n",
      "  1%|          | 2/384 [00:15<46:15,  7.27s/it]\u001b[A"
     ]
    },
    {
     "name": "stdout",
     "output_type": "stream",
     "text": [
      "ABOGADA Done 1          ggcisterna@gmail.com\n",
      "1    sanchogabriela@hotmail.com\n",
      "dtype: object\n"
     ]
    },
    {
     "name": "stderr",
     "output_type": "stream",
     "text": [
      "\n",
      "  1%|          | 3/384 [00:39<1:17:53, 12.27s/it]\u001b[A"
     ]
    },
    {
     "name": "stdout",
     "output_type": "stream",
     "text": [
      "Abogado Done 1           ggcisterna@gmail.com\n",
      "1     sanchogabriela@hotmail.com\n",
      "1         ecalamos@argentina.com\n",
      "4         conghos@hotmail.com.ar\n",
      "5    marianonicola1975@gmail.com\n",
      "6        estudio_dlq@hotmail.com\n",
      "7      mmroncoli@eiascoop.com.ar\n",
      "8     jp@ambienteyterritorio.com\n",
      "dtype: object\n"
     ]
    },
    {
     "name": "stderr",
     "output_type": "stream",
     "text": [
      "\n",
      "  1%|          | 4/384 [00:47<1:10:58, 11.21s/it]\u001b[A"
     ]
    },
    {
     "name": "stdout",
     "output_type": "stream",
     "text": [
      "Agrimensor Done 1           ggcisterna@gmail.com\n",
      "1     sanchogabriela@hotmail.com\n",
      "1         ecalamos@argentina.com\n",
      "4         conghos@hotmail.com.ar\n",
      "5    marianonicola1975@gmail.com\n",
      "6        estudio_dlq@hotmail.com\n",
      "7      mmroncoli@eiascoop.com.ar\n",
      "8     jp@ambienteyterritorio.com\n",
      "dtype: object\n"
     ]
    },
    {
     "name": "stderr",
     "output_type": "stream",
     "text": [
      "\n",
      "  1%|▏         | 5/384 [01:23<1:57:23, 18.58s/it]\u001b[A"
     ]
    },
    {
     "name": "stdout",
     "output_type": "stream",
     "text": [
      "Agrónomo Done 1            ggcisterna@gmail.com\n",
      "1      sanchogabriela@hotmail.com\n",
      "1          ecalamos@argentina.com\n",
      "4          conghos@hotmail.com.ar\n",
      "5     marianonicola1975@gmail.com\n",
      "6         estudio_dlq@hotmail.com\n",
      "7       mmroncoli@eiascoop.com.ar\n",
      "8      jp@ambienteyterritorio.com\n",
      "1    aradoconsultora@jsnet.com.ar\n",
      "2        fedegarcia83@hotmail.com\n",
      "4       maroteclaudio@hotmail.com\n",
      "5        EMERONO2004@YAHOO.COM.AR\n",
      "7              neldo@ar.inter.net\n",
      "dtype: object\n"
     ]
    },
    {
     "name": "stderr",
     "output_type": "stream",
     "text": [
      "\n",
      "  2%|▏         | 6/384 [01:29<1:33:29, 14.84s/it]\u001b[A"
     ]
    },
    {
     "name": "stdout",
     "output_type": "stream",
     "text": [
      "Analista de Sistemas Done 1            ggcisterna@gmail.com\n",
      "1      sanchogabriela@hotmail.com\n",
      "1          ecalamos@argentina.com\n",
      "4          conghos@hotmail.com.ar\n",
      "5     marianonicola1975@gmail.com\n",
      "6         estudio_dlq@hotmail.com\n",
      "7       mmroncoli@eiascoop.com.ar\n",
      "8      jp@ambienteyterritorio.com\n",
      "1    aradoconsultora@jsnet.com.ar\n",
      "2        fedegarcia83@hotmail.com\n",
      "4       maroteclaudio@hotmail.com\n",
      "5        EMERONO2004@YAHOO.COM.AR\n",
      "7              neldo@ar.inter.net\n",
      "1           valjauregui@gmail.com\n",
      "dtype: object\n"
     ]
    },
    {
     "name": "stderr",
     "output_type": "stream",
     "text": [
      "\n",
      "  2%|▏         | 7/384 [01:38<1:21:18, 12.94s/it]\u001b[A"
     ]
    },
    {
     "name": "stdout",
     "output_type": "stream",
     "text": [
      "ANALISTA ECOLOGICO Done 1            ggcisterna@gmail.com\n",
      "1      sanchogabriela@hotmail.com\n",
      "1          ecalamos@argentina.com\n",
      "4          conghos@hotmail.com.ar\n",
      "5     marianonicola1975@gmail.com\n",
      "6         estudio_dlq@hotmail.com\n",
      "7       mmroncoli@eiascoop.com.ar\n",
      "8      jp@ambienteyterritorio.com\n",
      "1    aradoconsultora@jsnet.com.ar\n",
      "2        fedegarcia83@hotmail.com\n",
      "4       maroteclaudio@hotmail.com\n",
      "5        EMERONO2004@YAHOO.COM.AR\n",
      "7              neldo@ar.inter.net\n",
      "1           valjauregui@gmail.com\n",
      "dtype: object\n"
     ]
    },
    {
     "name": "stderr",
     "output_type": "stream",
     "text": [
      "\n",
      "  2%|▏         | 8/384 [01:47<1:14:37, 11.91s/it]\u001b[A"
     ]
    },
    {
     "name": "stdout",
     "output_type": "stream",
     "text": [
      "Analista Ecológico Done 1            ggcisterna@gmail.com\n",
      "1      sanchogabriela@hotmail.com\n",
      "1          ecalamos@argentina.com\n",
      "4          conghos@hotmail.com.ar\n",
      "5     marianonicola1975@gmail.com\n",
      "6         estudio_dlq@hotmail.com\n",
      "7       mmroncoli@eiascoop.com.ar\n",
      "8      jp@ambienteyterritorio.com\n",
      "1    aradoconsultora@jsnet.com.ar\n",
      "2        fedegarcia83@hotmail.com\n",
      "4       maroteclaudio@hotmail.com\n",
      "5        EMERONO2004@YAHOO.COM.AR\n",
      "7              neldo@ar.inter.net\n",
      "1           valjauregui@gmail.com\n",
      "1     guillermo@ghernandez.com.ar\n",
      "dtype: object\n"
     ]
    },
    {
     "name": "stderr",
     "output_type": "stream",
     "text": [
      "\n",
      "  2%|▏         | 9/384 [01:56<1:09:22, 11.10s/it]\u001b[A"
     ]
    },
    {
     "name": "stdout",
     "output_type": "stream",
     "text": [
      "Analista Ecológico y en  Contaminación Done 1            ggcisterna@gmail.com\n",
      "1      sanchogabriela@hotmail.com\n",
      "1          ecalamos@argentina.com\n",
      "4          conghos@hotmail.com.ar\n",
      "5     marianonicola1975@gmail.com\n",
      "6         estudio_dlq@hotmail.com\n",
      "7       mmroncoli@eiascoop.com.ar\n",
      "8      jp@ambienteyterritorio.com\n",
      "1    aradoconsultora@jsnet.com.ar\n",
      "2        fedegarcia83@hotmail.com\n",
      "4       maroteclaudio@hotmail.com\n",
      "5        EMERONO2004@YAHOO.COM.AR\n",
      "7              neldo@ar.inter.net\n",
      "1           valjauregui@gmail.com\n",
      "1     guillermo@ghernandez.com.ar\n",
      "1     guillermo@ghernandez.com.ar\n",
      "dtype: object\n"
     ]
    },
    {
     "name": "stderr",
     "output_type": "stream",
     "text": [
      "\n",
      "  3%|▎         | 10/384 [02:03<1:01:24,  9.85s/it]\u001b[A"
     ]
    },
    {
     "name": "stdout",
     "output_type": "stream",
     "text": [
      "Analista en Ciencias Ambientales Done 1            ggcisterna@gmail.com\n",
      "1      sanchogabriela@hotmail.com\n",
      "1          ecalamos@argentina.com\n",
      "4          conghos@hotmail.com.ar\n",
      "5     marianonicola1975@gmail.com\n",
      "6         estudio_dlq@hotmail.com\n",
      "7       mmroncoli@eiascoop.com.ar\n",
      "8      jp@ambienteyterritorio.com\n",
      "1    aradoconsultora@jsnet.com.ar\n",
      "2        fedegarcia83@hotmail.com\n",
      "4       maroteclaudio@hotmail.com\n",
      "5        EMERONO2004@YAHOO.COM.AR\n",
      "7              neldo@ar.inter.net\n",
      "1           valjauregui@gmail.com\n",
      "1     guillermo@ghernandez.com.ar\n",
      "1     guillermo@ghernandez.com.ar\n",
      "1          pablojcucchi@gmail.com\n",
      "2         nachostoray@hotmail.com\n",
      "dtype: object\n"
     ]
    },
    {
     "name": "stderr",
     "output_type": "stream",
     "text": [
      "\n",
      "  3%|▎         | 11/384 [02:10<55:19,  8.90s/it]  \u001b[A"
     ]
    },
    {
     "name": "stdout",
     "output_type": "stream",
     "text": [
      "Analista en Contaminación y Analista Ecológico Done 1            ggcisterna@gmail.com\n",
      "1      sanchogabriela@hotmail.com\n",
      "1          ecalamos@argentina.com\n",
      "4          conghos@hotmail.com.ar\n",
      "5     marianonicola1975@gmail.com\n",
      "6         estudio_dlq@hotmail.com\n",
      "7       mmroncoli@eiascoop.com.ar\n",
      "8      jp@ambienteyterritorio.com\n",
      "1    aradoconsultora@jsnet.com.ar\n",
      "2        fedegarcia83@hotmail.com\n",
      "4       maroteclaudio@hotmail.com\n",
      "5        EMERONO2004@YAHOO.COM.AR\n",
      "7              neldo@ar.inter.net\n",
      "1           valjauregui@gmail.com\n",
      "1     guillermo@ghernandez.com.ar\n",
      "1     guillermo@ghernandez.com.ar\n",
      "1          pablojcucchi@gmail.com\n",
      "2         nachostoray@hotmail.com\n",
      "dtype: object\n"
     ]
    },
    {
     "name": "stderr",
     "output_type": "stream",
     "text": [
      "\n",
      "  3%|▎         | 12/384 [02:17<51:31,  8.31s/it]\u001b[A"
     ]
    },
    {
     "name": "stdout",
     "output_type": "stream",
     "text": [
      "ANALISTA UNIVERSITARIO EN MONITOREO DEL AMBIENTE Done 1              ggcisterna@gmail.com\n",
      "1        sanchogabriela@hotmail.com\n",
      "1            ecalamos@argentina.com\n",
      "4            conghos@hotmail.com.ar\n",
      "5       marianonicola1975@gmail.com\n",
      "6           estudio_dlq@hotmail.com\n",
      "7         mmroncoli@eiascoop.com.ar\n",
      "8        jp@ambienteyterritorio.com\n",
      "1      aradoconsultora@jsnet.com.ar\n",
      "2          fedegarcia83@hotmail.com\n",
      "4         maroteclaudio@hotmail.com\n",
      "5          EMERONO2004@YAHOO.COM.AR\n",
      "7                neldo@ar.inter.net\n",
      "1             valjauregui@gmail.com\n",
      "1       guillermo@ghernandez.com.ar\n",
      "1       guillermo@ghernandez.com.ar\n",
      "1            pablojcucchi@gmail.com\n",
      "2           nachostoray@hotmail.com\n",
      "1    mariano.javier.veron@gmail.com\n",
      "dtype: object\n"
     ]
    },
    {
     "name": "stderr",
     "output_type": "stream",
     "text": [
      "\n",
      "  3%|▎         | 13/384 [02:23<46:13,  7.48s/it]\u001b[A"
     ]
    },
    {
     "name": "stdout",
     "output_type": "stream",
     "text": [
      "Antropologa Done 1              ggcisterna@gmail.com\n",
      "1        sanchogabriela@hotmail.com\n",
      "1            ecalamos@argentina.com\n",
      "4            conghos@hotmail.com.ar\n",
      "5       marianonicola1975@gmail.com\n",
      "6           estudio_dlq@hotmail.com\n",
      "7         mmroncoli@eiascoop.com.ar\n",
      "8        jp@ambienteyterritorio.com\n",
      "1      aradoconsultora@jsnet.com.ar\n",
      "2          fedegarcia83@hotmail.com\n",
      "4         maroteclaudio@hotmail.com\n",
      "5          EMERONO2004@YAHOO.COM.AR\n",
      "7                neldo@ar.inter.net\n",
      "1             valjauregui@gmail.com\n",
      "1       guillermo@ghernandez.com.ar\n",
      "1       guillermo@ghernandez.com.ar\n",
      "1            pablojcucchi@gmail.com\n",
      "2           nachostoray@hotmail.com\n",
      "1    mariano.javier.veron@gmail.com\n",
      "dtype: object\n"
     ]
    },
    {
     "name": "stderr",
     "output_type": "stream",
     "text": [
      "\n",
      "  4%|▎         | 14/384 [02:38<59:59,  9.73s/it]\u001b[A"
     ]
    },
    {
     "name": "stdout",
     "output_type": "stream",
     "text": [
      "Arquitecta Done 1              ggcisterna@gmail.com\n",
      "1        sanchogabriela@hotmail.com\n",
      "1            ecalamos@argentina.com\n",
      "4            conghos@hotmail.com.ar\n",
      "5       marianonicola1975@gmail.com\n",
      "6           estudio_dlq@hotmail.com\n",
      "7         mmroncoli@eiascoop.com.ar\n",
      "8        jp@ambienteyterritorio.com\n",
      "1      aradoconsultora@jsnet.com.ar\n",
      "2          fedegarcia83@hotmail.com\n",
      "4         maroteclaudio@hotmail.com\n",
      "5          EMERONO2004@YAHOO.COM.AR\n",
      "7                neldo@ar.inter.net\n",
      "1             valjauregui@gmail.com\n",
      "1       guillermo@ghernandez.com.ar\n",
      "1       guillermo@ghernandez.com.ar\n",
      "1            pablojcucchi@gmail.com\n",
      "2           nachostoray@hotmail.com\n",
      "1    mariano.javier.veron@gmail.com\n",
      "1           paulalagana@hotmail.com\n",
      "2      constanzamantovani@gmail.com\n",
      "3              sofisimizu@gmail.com\n",
      "dtype: object\n"
     ]
    },
    {
     "name": "stderr",
     "output_type": "stream",
     "text": [
      "\n",
      "  4%|▍         | 15/384 [04:21<3:52:39, 37.83s/it]\u001b[A"
     ]
    },
    {
     "name": "stdout",
     "output_type": "stream",
     "text": [
      "Arquitecto Done 1                    ggcisterna@gmail.com\n",
      "1              sanchogabriela@hotmail.com\n",
      "1                  ecalamos@argentina.com\n",
      "4                  conghos@hotmail.com.ar\n",
      "5             marianonicola1975@gmail.com\n",
      "6                 estudio_dlq@hotmail.com\n",
      "7               mmroncoli@eiascoop.com.ar\n",
      "8              jp@ambienteyterritorio.com\n",
      "1            aradoconsultora@jsnet.com.ar\n",
      "2                fedegarcia83@hotmail.com\n",
      "4               maroteclaudio@hotmail.com\n",
      "5                EMERONO2004@YAHOO.COM.AR\n",
      "7                      neldo@ar.inter.net\n",
      "1                   valjauregui@gmail.com\n",
      "1             guillermo@ghernandez.com.ar\n",
      "1             guillermo@ghernandez.com.ar\n",
      "1                  pablojcucchi@gmail.com\n",
      "2                 nachostoray@hotmail.com\n",
      "1          mariano.javier.veron@gmail.com\n",
      "1                 paulalagana@hotmail.com\n",
      "2            constanzamantovani@gmail.com\n",
      "3                    sofisimizu@gmail.com\n",
      "1                        balderiote@arnet\n",
      "2                  ceciliadambo@gmail.com\n",
      "3              de-carolis@sinectis.com.ar\n",
      "4             patryciogarcia@yahoo.com.ar\n",
      "5               luisakurata@speedy.com.ar\n",
      "7                 e.mariamuller@gmail.com\n",
      "8                    ecotimesrl@gmail.com\n",
      "9                   otegui.ruth@gmail.com\n",
      "11                     PASGROMO@GMAIL.COM\n",
      "12    bernardostocker@catambiental.com.ar\n",
      "13               guillermo.taft@gmail.com\n",
      "dtype: object\n"
     ]
    },
    {
     "name": "stderr",
     "output_type": "stream",
     "text": [
      "\n",
      "  4%|▍         | 16/384 [04:28<2:55:38, 28.64s/it]\u001b[A"
     ]
    },
    {
     "name": "stdout",
     "output_type": "stream",
     "text": [
      "Artillero y corredor Publico Done 1                    ggcisterna@gmail.com\n",
      "1              sanchogabriela@hotmail.com\n",
      "1                  ecalamos@argentina.com\n",
      "4                  conghos@hotmail.com.ar\n",
      "5             marianonicola1975@gmail.com\n",
      "6                 estudio_dlq@hotmail.com\n",
      "7               mmroncoli@eiascoop.com.ar\n",
      "8              jp@ambienteyterritorio.com\n",
      "1            aradoconsultora@jsnet.com.ar\n",
      "2                fedegarcia83@hotmail.com\n",
      "4               maroteclaudio@hotmail.com\n",
      "5                EMERONO2004@YAHOO.COM.AR\n",
      "7                      neldo@ar.inter.net\n",
      "1                   valjauregui@gmail.com\n",
      "1             guillermo@ghernandez.com.ar\n",
      "1             guillermo@ghernandez.com.ar\n",
      "1                  pablojcucchi@gmail.com\n",
      "2                 nachostoray@hotmail.com\n",
      "1          mariano.javier.veron@gmail.com\n",
      "1                 paulalagana@hotmail.com\n",
      "2            constanzamantovani@gmail.com\n",
      "3                    sofisimizu@gmail.com\n",
      "1                        balderiote@arnet\n",
      "2                  ceciliadambo@gmail.com\n",
      "3              de-carolis@sinectis.com.ar\n",
      "4             patryciogarcia@yahoo.com.ar\n",
      "5               luisakurata@speedy.com.ar\n",
      "7                 e.mariamuller@gmail.com\n",
      "8                    ecotimesrl@gmail.com\n",
      "9                   otegui.ruth@gmail.com\n",
      "11                     PASGROMO@GMAIL.COM\n",
      "12    bernardostocker@catambiental.com.ar\n",
      "13               guillermo.taft@gmail.com\n",
      "dtype: object\n"
     ]
    },
    {
     "name": "stderr",
     "output_type": "stream",
     "text": [
      "\n",
      "  4%|▍         | 17/384 [04:36<2:17:50, 22.54s/it]\u001b[A"
     ]
    },
    {
     "name": "stdout",
     "output_type": "stream",
     "text": [
      "BIOLOGA Done 1                    ggcisterna@gmail.com\n",
      "1              sanchogabriela@hotmail.com\n",
      "1                  ecalamos@argentina.com\n",
      "4                  conghos@hotmail.com.ar\n",
      "5             marianonicola1975@gmail.com\n",
      "6                 estudio_dlq@hotmail.com\n",
      "7               mmroncoli@eiascoop.com.ar\n",
      "8              jp@ambienteyterritorio.com\n",
      "1            aradoconsultora@jsnet.com.ar\n",
      "2                fedegarcia83@hotmail.com\n",
      "4               maroteclaudio@hotmail.com\n",
      "5                EMERONO2004@YAHOO.COM.AR\n",
      "7                      neldo@ar.inter.net\n",
      "1                   valjauregui@gmail.com\n",
      "1             guillermo@ghernandez.com.ar\n",
      "1             guillermo@ghernandez.com.ar\n",
      "1                  pablojcucchi@gmail.com\n",
      "2                 nachostoray@hotmail.com\n",
      "1          mariano.javier.veron@gmail.com\n",
      "1                 paulalagana@hotmail.com\n",
      "2            constanzamantovani@gmail.com\n",
      "3                    sofisimizu@gmail.com\n",
      "1                        balderiote@arnet\n",
      "2                  ceciliadambo@gmail.com\n",
      "3              de-carolis@sinectis.com.ar\n",
      "4             patryciogarcia@yahoo.com.ar\n",
      "5               luisakurata@speedy.com.ar\n",
      "7                 e.mariamuller@gmail.com\n",
      "8                    ecotimesrl@gmail.com\n",
      "9                   otegui.ruth@gmail.com\n",
      "11                     PASGROMO@GMAIL.COM\n",
      "12    bernardostocker@catambiental.com.ar\n",
      "13               guillermo.taft@gmail.com\n",
      "1                mborland_amb@hotmail.com\n",
      "2                       lucigoy@gmail.com\n",
      "3               msalvioli@ing.unlp.edu.ar\n",
      "dtype: object\n"
     ]
    },
    {
     "name": "stderr",
     "output_type": "stream",
     "text": [
      "\n",
      "  5%|▍         | 18/384 [05:20<2:56:15, 28.89s/it]\u001b[A"
     ]
    },
    {
     "name": "stdout",
     "output_type": "stream",
     "text": [
      "Biologo Done 1                    ggcisterna@gmail.com\n",
      "1              sanchogabriela@hotmail.com\n",
      "1                  ecalamos@argentina.com\n",
      "4                  conghos@hotmail.com.ar\n",
      "5             marianonicola1975@gmail.com\n",
      "6                 estudio_dlq@hotmail.com\n",
      "7               mmroncoli@eiascoop.com.ar\n",
      "8              jp@ambienteyterritorio.com\n",
      "1            aradoconsultora@jsnet.com.ar\n",
      "2                fedegarcia83@hotmail.com\n",
      "4               maroteclaudio@hotmail.com\n",
      "5                EMERONO2004@YAHOO.COM.AR\n",
      "7                      neldo@ar.inter.net\n",
      "1                   valjauregui@gmail.com\n",
      "1             guillermo@ghernandez.com.ar\n",
      "1             guillermo@ghernandez.com.ar\n",
      "1                  pablojcucchi@gmail.com\n",
      "2                 nachostoray@hotmail.com\n",
      "1          mariano.javier.veron@gmail.com\n",
      "1                 paulalagana@hotmail.com\n",
      "2            constanzamantovani@gmail.com\n",
      "3                    sofisimizu@gmail.com\n",
      "1                        balderiote@arnet\n",
      "2                  ceciliadambo@gmail.com\n",
      "3              de-carolis@sinectis.com.ar\n",
      "4             patryciogarcia@yahoo.com.ar\n",
      "5               luisakurata@speedy.com.ar\n",
      "7                 e.mariamuller@gmail.com\n",
      "8                    ecotimesrl@gmail.com\n",
      "9                   otegui.ruth@gmail.com\n",
      "11                     PASGROMO@GMAIL.COM\n",
      "12    bernardostocker@catambiental.com.ar\n",
      "13               guillermo.taft@gmail.com\n",
      "1                mborland_amb@hotmail.com\n",
      "2                       lucigoy@gmail.com\n",
      "3               msalvioli@ing.unlp.edu.ar\n",
      "1                abertona@fibertel.com.ar\n",
      "2                    gdbulus@yahoo.com.ar\n",
      "3                  info@ecotecnica.com.ar\n",
      "4               PROTO@ECOGESTIONAR.COM.AR\n",
      "6                   jilescano88@gmail.com\n",
      "7           javiermartinezheres@gmail.com\n",
      "8                lilianarithner@gmail.com\n",
      "9               axonambiental@hotmail.com\n",
      "11          rafael.emilio.silva@gmail.com\n",
      "12                        ZULETA.GUSTAVO@\n",
      "dtype: object\n"
     ]
    },
    {
     "name": "stderr",
     "output_type": "stream",
     "text": [
      "\n",
      "  5%|▍         | 19/384 [05:34<2:27:51, 24.31s/it]\u001b[A"
     ]
    },
    {
     "name": "stdout",
     "output_type": "stream",
     "text": [
      "Bioquímico Done 1                    ggcisterna@gmail.com\n",
      "1              sanchogabriela@hotmail.com\n",
      "1                  ecalamos@argentina.com\n",
      "4                  conghos@hotmail.com.ar\n",
      "5             marianonicola1975@gmail.com\n",
      "6                 estudio_dlq@hotmail.com\n",
      "7               mmroncoli@eiascoop.com.ar\n",
      "8              jp@ambienteyterritorio.com\n",
      "1            aradoconsultora@jsnet.com.ar\n",
      "2                fedegarcia83@hotmail.com\n",
      "4               maroteclaudio@hotmail.com\n",
      "5                EMERONO2004@YAHOO.COM.AR\n",
      "7                      neldo@ar.inter.net\n",
      "1                   valjauregui@gmail.com\n",
      "1             guillermo@ghernandez.com.ar\n",
      "1             guillermo@ghernandez.com.ar\n",
      "1                  pablojcucchi@gmail.com\n",
      "2                 nachostoray@hotmail.com\n",
      "1          mariano.javier.veron@gmail.com\n",
      "1                 paulalagana@hotmail.com\n",
      "2            constanzamantovani@gmail.com\n",
      "3                    sofisimizu@gmail.com\n",
      "1                        balderiote@arnet\n",
      "2                  ceciliadambo@gmail.com\n",
      "3              de-carolis@sinectis.com.ar\n",
      "4             patryciogarcia@yahoo.com.ar\n",
      "5               luisakurata@speedy.com.ar\n",
      "7                 e.mariamuller@gmail.com\n",
      "8                    ecotimesrl@gmail.com\n",
      "9                   otegui.ruth@gmail.com\n",
      "11                     PASGROMO@GMAIL.COM\n",
      "12    bernardostocker@catambiental.com.ar\n",
      "13               guillermo.taft@gmail.com\n",
      "1                mborland_amb@hotmail.com\n",
      "2                       lucigoy@gmail.com\n",
      "3               msalvioli@ing.unlp.edu.ar\n",
      "1                abertona@fibertel.com.ar\n",
      "2                    gdbulus@yahoo.com.ar\n",
      "3                  info@ecotecnica.com.ar\n",
      "4               PROTO@ECOGESTIONAR.COM.AR\n",
      "6                   jilescano88@gmail.com\n",
      "7           javiermartinezheres@gmail.com\n",
      "8                lilianarithner@gmail.com\n",
      "9               axonambiental@hotmail.com\n",
      "11          rafael.emilio.silva@gmail.com\n",
      "12                        ZULETA.GUSTAVO@\n",
      "2               ricardodeina@yahoo.com.ar\n",
      "3                   CINIRGON@YAHOO.COM.AR\n",
      "4          vgraf@laboratoriowasser.com.ar\n",
      "5                    MJSALELLAS@GMAIL.COM\n",
      "6                 gvalentinuzzi@gmail.com\n",
      "dtype: object\n"
     ]
    },
    {
     "name": "stderr",
     "output_type": "stream",
     "text": [
      "\n",
      "  5%|▌         | 20/384 [05:39<1:53:05, 18.64s/it]\u001b[A"
     ]
    },
    {
     "name": "stdout",
     "output_type": "stream",
     "text": [
      "con orientacion en botanica Done 1                    ggcisterna@gmail.com\n",
      "1              sanchogabriela@hotmail.com\n",
      "1                  ecalamos@argentina.com\n",
      "4                  conghos@hotmail.com.ar\n",
      "5             marianonicola1975@gmail.com\n",
      "6                 estudio_dlq@hotmail.com\n",
      "7               mmroncoli@eiascoop.com.ar\n",
      "8              jp@ambienteyterritorio.com\n",
      "1            aradoconsultora@jsnet.com.ar\n",
      "2                fedegarcia83@hotmail.com\n",
      "4               maroteclaudio@hotmail.com\n",
      "5                EMERONO2004@YAHOO.COM.AR\n",
      "7                      neldo@ar.inter.net\n",
      "1                   valjauregui@gmail.com\n",
      "1             guillermo@ghernandez.com.ar\n",
      "1             guillermo@ghernandez.com.ar\n",
      "1                  pablojcucchi@gmail.com\n",
      "2                 nachostoray@hotmail.com\n",
      "1          mariano.javier.veron@gmail.com\n",
      "1                 paulalagana@hotmail.com\n",
      "2            constanzamantovani@gmail.com\n",
      "3                    sofisimizu@gmail.com\n",
      "1                        balderiote@arnet\n",
      "2                  ceciliadambo@gmail.com\n",
      "3              de-carolis@sinectis.com.ar\n",
      "4             patryciogarcia@yahoo.com.ar\n",
      "5               luisakurata@speedy.com.ar\n",
      "7                 e.mariamuller@gmail.com\n",
      "8                    ecotimesrl@gmail.com\n",
      "9                   otegui.ruth@gmail.com\n",
      "11                     PASGROMO@GMAIL.COM\n",
      "12    bernardostocker@catambiental.com.ar\n",
      "13               guillermo.taft@gmail.com\n",
      "1                mborland_amb@hotmail.com\n",
      "2                       lucigoy@gmail.com\n",
      "3               msalvioli@ing.unlp.edu.ar\n",
      "1                abertona@fibertel.com.ar\n",
      "2                    gdbulus@yahoo.com.ar\n",
      "3                  info@ecotecnica.com.ar\n",
      "4               PROTO@ECOGESTIONAR.COM.AR\n",
      "6                   jilescano88@gmail.com\n",
      "7           javiermartinezheres@gmail.com\n",
      "8                lilianarithner@gmail.com\n",
      "9               axonambiental@hotmail.com\n",
      "11          rafael.emilio.silva@gmail.com\n",
      "12                        ZULETA.GUSTAVO@\n",
      "2               ricardodeina@yahoo.com.ar\n",
      "3                   CINIRGON@YAHOO.COM.AR\n",
      "4          vgraf@laboratoriowasser.com.ar\n",
      "5                    MJSALELLAS@GMAIL.COM\n",
      "6                 gvalentinuzzi@gmail.com\n",
      "dtype: object\n"
     ]
    },
    {
     "name": "stderr",
     "output_type": "stream",
     "text": [
      "\n",
      "  5%|▌         | 21/384 [05:45<1:29:10, 14.74s/it]\u001b[A"
     ]
    },
    {
     "name": "stdout",
     "output_type": "stream",
     "text": [
      "Contador Done 1                    ggcisterna@gmail.com\n",
      "1              sanchogabriela@hotmail.com\n",
      "1                  ecalamos@argentina.com\n",
      "4                  conghos@hotmail.com.ar\n",
      "5             marianonicola1975@gmail.com\n",
      "6                 estudio_dlq@hotmail.com\n",
      "7               mmroncoli@eiascoop.com.ar\n",
      "8              jp@ambienteyterritorio.com\n",
      "1            aradoconsultora@jsnet.com.ar\n",
      "2                fedegarcia83@hotmail.com\n",
      "4               maroteclaudio@hotmail.com\n",
      "5                EMERONO2004@YAHOO.COM.AR\n",
      "7                      neldo@ar.inter.net\n",
      "1                   valjauregui@gmail.com\n",
      "1             guillermo@ghernandez.com.ar\n",
      "1             guillermo@ghernandez.com.ar\n",
      "1                  pablojcucchi@gmail.com\n",
      "2                 nachostoray@hotmail.com\n",
      "1          mariano.javier.veron@gmail.com\n",
      "1                 paulalagana@hotmail.com\n",
      "2            constanzamantovani@gmail.com\n",
      "3                    sofisimizu@gmail.com\n",
      "1                        balderiote@arnet\n",
      "2                  ceciliadambo@gmail.com\n",
      "3              de-carolis@sinectis.com.ar\n",
      "4             patryciogarcia@yahoo.com.ar\n",
      "5               luisakurata@speedy.com.ar\n",
      "7                 e.mariamuller@gmail.com\n",
      "8                    ecotimesrl@gmail.com\n",
      "9                   otegui.ruth@gmail.com\n",
      "11                     PASGROMO@GMAIL.COM\n",
      "12    bernardostocker@catambiental.com.ar\n",
      "13               guillermo.taft@gmail.com\n",
      "1                mborland_amb@hotmail.com\n",
      "2                       lucigoy@gmail.com\n",
      "3               msalvioli@ing.unlp.edu.ar\n",
      "1                abertona@fibertel.com.ar\n",
      "2                    gdbulus@yahoo.com.ar\n",
      "3                  info@ecotecnica.com.ar\n",
      "4               PROTO@ECOGESTIONAR.COM.AR\n",
      "6                   jilescano88@gmail.com\n",
      "7           javiermartinezheres@gmail.com\n",
      "8                lilianarithner@gmail.com\n",
      "9               axonambiental@hotmail.com\n",
      "11          rafael.emilio.silva@gmail.com\n",
      "12                        ZULETA.GUSTAVO@\n",
      "2               ricardodeina@yahoo.com.ar\n",
      "3                   CINIRGON@YAHOO.COM.AR\n",
      "4          vgraf@laboratoriowasser.com.ar\n",
      "5                    MJSALELLAS@GMAIL.COM\n",
      "6                 gvalentinuzzi@gmail.com\n",
      "dtype: object\n"
     ]
    },
    {
     "name": "stderr",
     "output_type": "stream",
     "text": [
      "\n",
      "  6%|▌         | 22/384 [05:51<1:13:45, 12.22s/it]\u001b[A"
     ]
    },
    {
     "name": "stdout",
     "output_type": "stream",
     "text": [
      "Curso de Evaluacion de Impacto Ambiental y Proyect Done 1                    ggcisterna@gmail.com\n",
      "1              sanchogabriela@hotmail.com\n",
      "1                  ecalamos@argentina.com\n",
      "4                  conghos@hotmail.com.ar\n",
      "5             marianonicola1975@gmail.com\n",
      "6                 estudio_dlq@hotmail.com\n",
      "7               mmroncoli@eiascoop.com.ar\n",
      "8              jp@ambienteyterritorio.com\n",
      "1            aradoconsultora@jsnet.com.ar\n",
      "2                fedegarcia83@hotmail.com\n",
      "4               maroteclaudio@hotmail.com\n",
      "5                EMERONO2004@YAHOO.COM.AR\n",
      "7                      neldo@ar.inter.net\n",
      "1                   valjauregui@gmail.com\n",
      "1             guillermo@ghernandez.com.ar\n",
      "1             guillermo@ghernandez.com.ar\n",
      "1                  pablojcucchi@gmail.com\n",
      "2                 nachostoray@hotmail.com\n",
      "1          mariano.javier.veron@gmail.com\n",
      "1                 paulalagana@hotmail.com\n",
      "2            constanzamantovani@gmail.com\n",
      "3                    sofisimizu@gmail.com\n",
      "1                        balderiote@arnet\n",
      "2                  ceciliadambo@gmail.com\n",
      "3              de-carolis@sinectis.com.ar\n",
      "4             patryciogarcia@yahoo.com.ar\n",
      "5               luisakurata@speedy.com.ar\n",
      "7                 e.mariamuller@gmail.com\n",
      "8                    ecotimesrl@gmail.com\n",
      "9                   otegui.ruth@gmail.com\n",
      "11                     PASGROMO@GMAIL.COM\n",
      "12    bernardostocker@catambiental.com.ar\n",
      "13               guillermo.taft@gmail.com\n",
      "1                mborland_amb@hotmail.com\n",
      "2                       lucigoy@gmail.com\n",
      "3               msalvioli@ing.unlp.edu.ar\n",
      "1                abertona@fibertel.com.ar\n",
      "2                    gdbulus@yahoo.com.ar\n",
      "3                  info@ecotecnica.com.ar\n",
      "4               PROTO@ECOGESTIONAR.COM.AR\n",
      "6                   jilescano88@gmail.com\n",
      "7           javiermartinezheres@gmail.com\n",
      "8                lilianarithner@gmail.com\n",
      "9               axonambiental@hotmail.com\n",
      "11          rafael.emilio.silva@gmail.com\n",
      "12                        ZULETA.GUSTAVO@\n",
      "2               ricardodeina@yahoo.com.ar\n",
      "3                   CINIRGON@YAHOO.COM.AR\n",
      "4          vgraf@laboratoriowasser.com.ar\n",
      "5                    MJSALELLAS@GMAIL.COM\n",
      "6                 gvalentinuzzi@gmail.com\n",
      "dtype: object\n"
     ]
    },
    {
     "name": "stderr",
     "output_type": "stream",
     "text": [
      "\n",
      "  6%|▌         | 23/384 [05:57<1:02:34, 10.40s/it]\u001b[A"
     ]
    },
    {
     "name": "stdout",
     "output_type": "stream",
     "text": [
      "curso de psgrado en EIA Done 1                    ggcisterna@gmail.com\n",
      "1              sanchogabriela@hotmail.com\n",
      "1                  ecalamos@argentina.com\n",
      "4                  conghos@hotmail.com.ar\n",
      "5             marianonicola1975@gmail.com\n",
      "6                 estudio_dlq@hotmail.com\n",
      "7               mmroncoli@eiascoop.com.ar\n",
      "8              jp@ambienteyterritorio.com\n",
      "1            aradoconsultora@jsnet.com.ar\n",
      "2                fedegarcia83@hotmail.com\n",
      "4               maroteclaudio@hotmail.com\n",
      "5                EMERONO2004@YAHOO.COM.AR\n",
      "7                      neldo@ar.inter.net\n",
      "1                   valjauregui@gmail.com\n",
      "1             guillermo@ghernandez.com.ar\n",
      "1             guillermo@ghernandez.com.ar\n",
      "1                  pablojcucchi@gmail.com\n",
      "2                 nachostoray@hotmail.com\n",
      "1          mariano.javier.veron@gmail.com\n",
      "1                 paulalagana@hotmail.com\n",
      "2            constanzamantovani@gmail.com\n",
      "3                    sofisimizu@gmail.com\n",
      "1                        balderiote@arnet\n",
      "2                  ceciliadambo@gmail.com\n",
      "3              de-carolis@sinectis.com.ar\n",
      "4             patryciogarcia@yahoo.com.ar\n",
      "5               luisakurata@speedy.com.ar\n",
      "7                 e.mariamuller@gmail.com\n",
      "8                    ecotimesrl@gmail.com\n",
      "9                   otegui.ruth@gmail.com\n",
      "11                     PASGROMO@GMAIL.COM\n",
      "12    bernardostocker@catambiental.com.ar\n",
      "13               guillermo.taft@gmail.com\n",
      "1                mborland_amb@hotmail.com\n",
      "2                       lucigoy@gmail.com\n",
      "3               msalvioli@ing.unlp.edu.ar\n",
      "1                abertona@fibertel.com.ar\n",
      "2                    gdbulus@yahoo.com.ar\n",
      "3                  info@ecotecnica.com.ar\n",
      "4               PROTO@ECOGESTIONAR.COM.AR\n",
      "6                   jilescano88@gmail.com\n",
      "7           javiermartinezheres@gmail.com\n",
      "8                lilianarithner@gmail.com\n",
      "9               axonambiental@hotmail.com\n",
      "11          rafael.emilio.silva@gmail.com\n",
      "12                        ZULETA.GUSTAVO@\n",
      "2               ricardodeina@yahoo.com.ar\n",
      "3                   CINIRGON@YAHOO.COM.AR\n",
      "4          vgraf@laboratoriowasser.com.ar\n",
      "5                    MJSALELLAS@GMAIL.COM\n",
      "6                 gvalentinuzzi@gmail.com\n",
      "dtype: object\n"
     ]
    },
    {
     "name": "stderr",
     "output_type": "stream",
     "text": [
      "\n",
      "  6%|▋         | 24/384 [06:04<56:05,  9.35s/it]  \u001b[A"
     ]
    },
    {
     "name": "stdout",
     "output_type": "stream",
     "text": [
      "CURSO DE PUESTA A TIERRA DE PLANTAS INDUSTRIALES Done 1                    ggcisterna@gmail.com\n",
      "1              sanchogabriela@hotmail.com\n",
      "1                  ecalamos@argentina.com\n",
      "4                  conghos@hotmail.com.ar\n",
      "5             marianonicola1975@gmail.com\n",
      "6                 estudio_dlq@hotmail.com\n",
      "7               mmroncoli@eiascoop.com.ar\n",
      "8              jp@ambienteyterritorio.com\n",
      "1            aradoconsultora@jsnet.com.ar\n",
      "2                fedegarcia83@hotmail.com\n",
      "4               maroteclaudio@hotmail.com\n",
      "5                EMERONO2004@YAHOO.COM.AR\n",
      "7                      neldo@ar.inter.net\n",
      "1                   valjauregui@gmail.com\n",
      "1             guillermo@ghernandez.com.ar\n",
      "1             guillermo@ghernandez.com.ar\n",
      "1                  pablojcucchi@gmail.com\n",
      "2                 nachostoray@hotmail.com\n",
      "1          mariano.javier.veron@gmail.com\n",
      "1                 paulalagana@hotmail.com\n",
      "2            constanzamantovani@gmail.com\n",
      "3                    sofisimizu@gmail.com\n",
      "1                        balderiote@arnet\n",
      "2                  ceciliadambo@gmail.com\n",
      "3              de-carolis@sinectis.com.ar\n",
      "4             patryciogarcia@yahoo.com.ar\n",
      "5               luisakurata@speedy.com.ar\n",
      "7                 e.mariamuller@gmail.com\n",
      "8                    ecotimesrl@gmail.com\n",
      "9                   otegui.ruth@gmail.com\n",
      "11                     PASGROMO@GMAIL.COM\n",
      "12    bernardostocker@catambiental.com.ar\n",
      "13               guillermo.taft@gmail.com\n",
      "1                mborland_amb@hotmail.com\n",
      "2                       lucigoy@gmail.com\n",
      "3               msalvioli@ing.unlp.edu.ar\n",
      "1                abertona@fibertel.com.ar\n",
      "2                    gdbulus@yahoo.com.ar\n",
      "3                  info@ecotecnica.com.ar\n",
      "4               PROTO@ECOGESTIONAR.COM.AR\n",
      "6                   jilescano88@gmail.com\n",
      "7           javiermartinezheres@gmail.com\n",
      "8                lilianarithner@gmail.com\n",
      "9               axonambiental@hotmail.com\n",
      "11          rafael.emilio.silva@gmail.com\n",
      "12                        ZULETA.GUSTAVO@\n",
      "2               ricardodeina@yahoo.com.ar\n",
      "3                   CINIRGON@YAHOO.COM.AR\n",
      "4          vgraf@laboratoriowasser.com.ar\n",
      "5                    MJSALELLAS@GMAIL.COM\n",
      "6                 gvalentinuzzi@gmail.com\n",
      "1                raulmonsalvo57@gmail.com\n",
      "dtype: object\n"
     ]
    },
    {
     "name": "stderr",
     "output_type": "stream",
     "text": [
      "\n",
      "  7%|▋         | 25/384 [06:11<50:51,  8.50s/it]\u001b[A"
     ]
    },
    {
     "name": "stdout",
     "output_type": "stream",
     "text": [
      "Curso EIA y Proyecto Urbano Done 1                    ggcisterna@gmail.com\n",
      "1              sanchogabriela@hotmail.com\n",
      "1                  ecalamos@argentina.com\n",
      "4                  conghos@hotmail.com.ar\n",
      "5             marianonicola1975@gmail.com\n",
      "6                 estudio_dlq@hotmail.com\n",
      "7               mmroncoli@eiascoop.com.ar\n",
      "8              jp@ambienteyterritorio.com\n",
      "1            aradoconsultora@jsnet.com.ar\n",
      "2                fedegarcia83@hotmail.com\n",
      "4               maroteclaudio@hotmail.com\n",
      "5                EMERONO2004@YAHOO.COM.AR\n",
      "7                      neldo@ar.inter.net\n",
      "1                   valjauregui@gmail.com\n",
      "1             guillermo@ghernandez.com.ar\n",
      "1             guillermo@ghernandez.com.ar\n",
      "1                  pablojcucchi@gmail.com\n",
      "2                 nachostoray@hotmail.com\n",
      "1          mariano.javier.veron@gmail.com\n",
      "1                 paulalagana@hotmail.com\n",
      "2            constanzamantovani@gmail.com\n",
      "3                    sofisimizu@gmail.com\n",
      "1                        balderiote@arnet\n",
      "2                  ceciliadambo@gmail.com\n",
      "3              de-carolis@sinectis.com.ar\n",
      "4             patryciogarcia@yahoo.com.ar\n",
      "5               luisakurata@speedy.com.ar\n",
      "7                 e.mariamuller@gmail.com\n",
      "8                    ecotimesrl@gmail.com\n",
      "9                   otegui.ruth@gmail.com\n",
      "11                     PASGROMO@GMAIL.COM\n",
      "12    bernardostocker@catambiental.com.ar\n",
      "13               guillermo.taft@gmail.com\n",
      "1                mborland_amb@hotmail.com\n",
      "2                       lucigoy@gmail.com\n",
      "3               msalvioli@ing.unlp.edu.ar\n",
      "1                abertona@fibertel.com.ar\n",
      "2                    gdbulus@yahoo.com.ar\n",
      "3                  info@ecotecnica.com.ar\n",
      "4               PROTO@ECOGESTIONAR.COM.AR\n",
      "6                   jilescano88@gmail.com\n",
      "7           javiermartinezheres@gmail.com\n",
      "8                lilianarithner@gmail.com\n",
      "9               axonambiental@hotmail.com\n",
      "11          rafael.emilio.silva@gmail.com\n",
      "12                        ZULETA.GUSTAVO@\n",
      "2               ricardodeina@yahoo.com.ar\n",
      "3                   CINIRGON@YAHOO.COM.AR\n",
      "4          vgraf@laboratoriowasser.com.ar\n",
      "5                    MJSALELLAS@GMAIL.COM\n",
      "6                 gvalentinuzzi@gmail.com\n",
      "1                raulmonsalvo57@gmail.com\n",
      "dtype: object\n"
     ]
    },
    {
     "name": "stderr",
     "output_type": "stream",
     "text": [
      "\n",
      "  7%|▋         | 26/384 [06:17<47:24,  7.95s/it]\u001b[A"
     ]
    },
    {
     "name": "stdout",
     "output_type": "stream",
     "text": [
      "Diseñador Industrial Done 1                    ggcisterna@gmail.com\n",
      "1              sanchogabriela@hotmail.com\n",
      "1                  ecalamos@argentina.com\n",
      "4                  conghos@hotmail.com.ar\n",
      "5             marianonicola1975@gmail.com\n",
      "6                 estudio_dlq@hotmail.com\n",
      "7               mmroncoli@eiascoop.com.ar\n",
      "8              jp@ambienteyterritorio.com\n",
      "1            aradoconsultora@jsnet.com.ar\n",
      "2                fedegarcia83@hotmail.com\n",
      "4               maroteclaudio@hotmail.com\n",
      "5                EMERONO2004@YAHOO.COM.AR\n",
      "7                      neldo@ar.inter.net\n",
      "1                   valjauregui@gmail.com\n",
      "1             guillermo@ghernandez.com.ar\n",
      "1             guillermo@ghernandez.com.ar\n",
      "1                  pablojcucchi@gmail.com\n",
      "2                 nachostoray@hotmail.com\n",
      "1          mariano.javier.veron@gmail.com\n",
      "1                 paulalagana@hotmail.com\n",
      "2            constanzamantovani@gmail.com\n",
      "3                    sofisimizu@gmail.com\n",
      "1                        balderiote@arnet\n",
      "2                  ceciliadambo@gmail.com\n",
      "3              de-carolis@sinectis.com.ar\n",
      "4             patryciogarcia@yahoo.com.ar\n",
      "5               luisakurata@speedy.com.ar\n",
      "7                 e.mariamuller@gmail.com\n",
      "8                    ecotimesrl@gmail.com\n",
      "9                   otegui.ruth@gmail.com\n",
      "11                     PASGROMO@GMAIL.COM\n",
      "12    bernardostocker@catambiental.com.ar\n",
      "13               guillermo.taft@gmail.com\n",
      "1                mborland_amb@hotmail.com\n",
      "2                       lucigoy@gmail.com\n",
      "3               msalvioli@ing.unlp.edu.ar\n",
      "1                abertona@fibertel.com.ar\n",
      "2                    gdbulus@yahoo.com.ar\n",
      "3                  info@ecotecnica.com.ar\n",
      "4               PROTO@ECOGESTIONAR.COM.AR\n",
      "6                   jilescano88@gmail.com\n",
      "7           javiermartinezheres@gmail.com\n",
      "8                lilianarithner@gmail.com\n",
      "9               axonambiental@hotmail.com\n",
      "11          rafael.emilio.silva@gmail.com\n",
      "12                        ZULETA.GUSTAVO@\n",
      "2               ricardodeina@yahoo.com.ar\n",
      "3                   CINIRGON@YAHOO.COM.AR\n",
      "4          vgraf@laboratoriowasser.com.ar\n",
      "5                    MJSALELLAS@GMAIL.COM\n",
      "6                 gvalentinuzzi@gmail.com\n",
      "1                raulmonsalvo57@gmail.com\n",
      "dtype: object\n"
     ]
    },
    {
     "name": "stderr",
     "output_type": "stream",
     "text": [
      "\n",
      "  7%|▋         | 27/384 [06:24<44:58,  7.56s/it]\u001b[A"
     ]
    },
    {
     "name": "stdout",
     "output_type": "stream",
     "text": [
      "diseño en areas esteriles  Done 1                    ggcisterna@gmail.com\n",
      "1              sanchogabriela@hotmail.com\n",
      "1                  ecalamos@argentina.com\n",
      "4                  conghos@hotmail.com.ar\n",
      "5             marianonicola1975@gmail.com\n",
      "6                 estudio_dlq@hotmail.com\n",
      "7               mmroncoli@eiascoop.com.ar\n",
      "8              jp@ambienteyterritorio.com\n",
      "1            aradoconsultora@jsnet.com.ar\n",
      "2                fedegarcia83@hotmail.com\n",
      "4               maroteclaudio@hotmail.com\n",
      "5                EMERONO2004@YAHOO.COM.AR\n",
      "7                      neldo@ar.inter.net\n",
      "1                   valjauregui@gmail.com\n",
      "1             guillermo@ghernandez.com.ar\n",
      "1             guillermo@ghernandez.com.ar\n",
      "1                  pablojcucchi@gmail.com\n",
      "2                 nachostoray@hotmail.com\n",
      "1          mariano.javier.veron@gmail.com\n",
      "1                 paulalagana@hotmail.com\n",
      "2            constanzamantovani@gmail.com\n",
      "3                    sofisimizu@gmail.com\n",
      "1                        balderiote@arnet\n",
      "2                  ceciliadambo@gmail.com\n",
      "3              de-carolis@sinectis.com.ar\n",
      "4             patryciogarcia@yahoo.com.ar\n",
      "5               luisakurata@speedy.com.ar\n",
      "7                 e.mariamuller@gmail.com\n",
      "8                    ecotimesrl@gmail.com\n",
      "9                   otegui.ruth@gmail.com\n",
      "11                     PASGROMO@GMAIL.COM\n",
      "12    bernardostocker@catambiental.com.ar\n",
      "13               guillermo.taft@gmail.com\n",
      "1                mborland_amb@hotmail.com\n",
      "2                       lucigoy@gmail.com\n",
      "3               msalvioli@ing.unlp.edu.ar\n",
      "1                abertona@fibertel.com.ar\n",
      "2                    gdbulus@yahoo.com.ar\n",
      "3                  info@ecotecnica.com.ar\n",
      "4               PROTO@ECOGESTIONAR.COM.AR\n",
      "6                   jilescano88@gmail.com\n",
      "7           javiermartinezheres@gmail.com\n",
      "8                lilianarithner@gmail.com\n",
      "9               axonambiental@hotmail.com\n",
      "11          rafael.emilio.silva@gmail.com\n",
      "12                        ZULETA.GUSTAVO@\n",
      "2               ricardodeina@yahoo.com.ar\n",
      "3                   CINIRGON@YAHOO.COM.AR\n",
      "4          vgraf@laboratoriowasser.com.ar\n",
      "5                    MJSALELLAS@GMAIL.COM\n",
      "6                 gvalentinuzzi@gmail.com\n",
      "1                raulmonsalvo57@gmail.com\n",
      "dtype: object\n"
     ]
    },
    {
     "name": "stderr",
     "output_type": "stream",
     "text": [
      "\n",
      "  7%|▋         | 28/384 [06:30<42:09,  7.10s/it]\u001b[A"
     ]
    },
    {
     "name": "stdout",
     "output_type": "stream",
     "text": [
      "Doctor de la Univ. Bs.As. área Ingeniería Done 1                    ggcisterna@gmail.com\n",
      "1              sanchogabriela@hotmail.com\n",
      "1                  ecalamos@argentina.com\n",
      "4                  conghos@hotmail.com.ar\n",
      "5             marianonicola1975@gmail.com\n",
      "6                 estudio_dlq@hotmail.com\n",
      "7               mmroncoli@eiascoop.com.ar\n",
      "8              jp@ambienteyterritorio.com\n",
      "1            aradoconsultora@jsnet.com.ar\n",
      "2                fedegarcia83@hotmail.com\n",
      "4               maroteclaudio@hotmail.com\n",
      "5                EMERONO2004@YAHOO.COM.AR\n",
      "7                      neldo@ar.inter.net\n",
      "1                   valjauregui@gmail.com\n",
      "1             guillermo@ghernandez.com.ar\n",
      "1             guillermo@ghernandez.com.ar\n",
      "1                  pablojcucchi@gmail.com\n",
      "2                 nachostoray@hotmail.com\n",
      "1          mariano.javier.veron@gmail.com\n",
      "1                 paulalagana@hotmail.com\n",
      "2            constanzamantovani@gmail.com\n",
      "3                    sofisimizu@gmail.com\n",
      "1                        balderiote@arnet\n",
      "2                  ceciliadambo@gmail.com\n",
      "3              de-carolis@sinectis.com.ar\n",
      "4             patryciogarcia@yahoo.com.ar\n",
      "5               luisakurata@speedy.com.ar\n",
      "7                 e.mariamuller@gmail.com\n",
      "8                    ecotimesrl@gmail.com\n",
      "9                   otegui.ruth@gmail.com\n",
      "11                     PASGROMO@GMAIL.COM\n",
      "12    bernardostocker@catambiental.com.ar\n",
      "13               guillermo.taft@gmail.com\n",
      "1                mborland_amb@hotmail.com\n",
      "2                       lucigoy@gmail.com\n",
      "3               msalvioli@ing.unlp.edu.ar\n",
      "1                abertona@fibertel.com.ar\n",
      "2                    gdbulus@yahoo.com.ar\n",
      "3                  info@ecotecnica.com.ar\n",
      "4               PROTO@ECOGESTIONAR.COM.AR\n",
      "6                   jilescano88@gmail.com\n",
      "7           javiermartinezheres@gmail.com\n",
      "8                lilianarithner@gmail.com\n",
      "9               axonambiental@hotmail.com\n",
      "11          rafael.emilio.silva@gmail.com\n",
      "12                        ZULETA.GUSTAVO@\n",
      "2               ricardodeina@yahoo.com.ar\n",
      "3                   CINIRGON@YAHOO.COM.AR\n",
      "4          vgraf@laboratoriowasser.com.ar\n",
      "5                    MJSALELLAS@GMAIL.COM\n",
      "6                 gvalentinuzzi@gmail.com\n",
      "1                raulmonsalvo57@gmail.com\n",
      "dtype: object\n"
     ]
    },
    {
     "name": "stderr",
     "output_type": "stream",
     "text": [
      "\n",
      "  8%|▊         | 29/384 [06:37<41:55,  7.09s/it]\u001b[A"
     ]
    },
    {
     "name": "stdout",
     "output_type": "stream",
     "text": [
      "Doctor en Ciencias del Mar Done 1                    ggcisterna@gmail.com\n",
      "1              sanchogabriela@hotmail.com\n",
      "1                  ecalamos@argentina.com\n",
      "4                  conghos@hotmail.com.ar\n",
      "5             marianonicola1975@gmail.com\n",
      "6                 estudio_dlq@hotmail.com\n",
      "7               mmroncoli@eiascoop.com.ar\n",
      "8              jp@ambienteyterritorio.com\n",
      "1            aradoconsultora@jsnet.com.ar\n",
      "2                fedegarcia83@hotmail.com\n",
      "4               maroteclaudio@hotmail.com\n",
      "5                EMERONO2004@YAHOO.COM.AR\n",
      "7                      neldo@ar.inter.net\n",
      "1                   valjauregui@gmail.com\n",
      "1             guillermo@ghernandez.com.ar\n",
      "1             guillermo@ghernandez.com.ar\n",
      "1                  pablojcucchi@gmail.com\n",
      "2                 nachostoray@hotmail.com\n",
      "1          mariano.javier.veron@gmail.com\n",
      "1                 paulalagana@hotmail.com\n",
      "2            constanzamantovani@gmail.com\n",
      "3                    sofisimizu@gmail.com\n",
      "1                        balderiote@arnet\n",
      "2                  ceciliadambo@gmail.com\n",
      "3              de-carolis@sinectis.com.ar\n",
      "4             patryciogarcia@yahoo.com.ar\n",
      "5               luisakurata@speedy.com.ar\n",
      "7                 e.mariamuller@gmail.com\n",
      "8                    ecotimesrl@gmail.com\n",
      "9                   otegui.ruth@gmail.com\n",
      "11                     PASGROMO@GMAIL.COM\n",
      "12    bernardostocker@catambiental.com.ar\n",
      "13               guillermo.taft@gmail.com\n",
      "1                mborland_amb@hotmail.com\n",
      "2                       lucigoy@gmail.com\n",
      "3               msalvioli@ing.unlp.edu.ar\n",
      "1                abertona@fibertel.com.ar\n",
      "2                    gdbulus@yahoo.com.ar\n",
      "3                  info@ecotecnica.com.ar\n",
      "4               PROTO@ECOGESTIONAR.COM.AR\n",
      "6                   jilescano88@gmail.com\n",
      "7           javiermartinezheres@gmail.com\n",
      "8                lilianarithner@gmail.com\n",
      "9               axonambiental@hotmail.com\n",
      "11          rafael.emilio.silva@gmail.com\n",
      "12                        ZULETA.GUSTAVO@\n",
      "2               ricardodeina@yahoo.com.ar\n",
      "3                   CINIRGON@YAHOO.COM.AR\n",
      "4          vgraf@laboratoriowasser.com.ar\n",
      "5                    MJSALELLAS@GMAIL.COM\n",
      "6                 gvalentinuzzi@gmail.com\n",
      "1                raulmonsalvo57@gmail.com\n",
      "dtype: object\n"
     ]
    },
    {
     "name": "stderr",
     "output_type": "stream",
     "text": [
      "\n",
      "  8%|▊         | 30/384 [06:45<42:23,  7.18s/it]\u001b[A"
     ]
    },
    {
     "name": "stdout",
     "output_type": "stream",
     "text": [
      "Doctor en Ciencias Naturales Done 1                    ggcisterna@gmail.com\n",
      "1              sanchogabriela@hotmail.com\n",
      "1                  ecalamos@argentina.com\n",
      "4                  conghos@hotmail.com.ar\n",
      "5             marianonicola1975@gmail.com\n",
      "6                 estudio_dlq@hotmail.com\n",
      "7               mmroncoli@eiascoop.com.ar\n",
      "8              jp@ambienteyterritorio.com\n",
      "1            aradoconsultora@jsnet.com.ar\n",
      "2                fedegarcia83@hotmail.com\n",
      "4               maroteclaudio@hotmail.com\n",
      "5                EMERONO2004@YAHOO.COM.AR\n",
      "7                      neldo@ar.inter.net\n",
      "1                   valjauregui@gmail.com\n",
      "1             guillermo@ghernandez.com.ar\n",
      "1             guillermo@ghernandez.com.ar\n",
      "1                  pablojcucchi@gmail.com\n",
      "2                 nachostoray@hotmail.com\n",
      "1          mariano.javier.veron@gmail.com\n",
      "1                 paulalagana@hotmail.com\n",
      "2            constanzamantovani@gmail.com\n",
      "3                    sofisimizu@gmail.com\n",
      "1                        balderiote@arnet\n",
      "2                  ceciliadambo@gmail.com\n",
      "3              de-carolis@sinectis.com.ar\n",
      "4             patryciogarcia@yahoo.com.ar\n",
      "5               luisakurata@speedy.com.ar\n",
      "7                 e.mariamuller@gmail.com\n",
      "8                    ecotimesrl@gmail.com\n",
      "9                   otegui.ruth@gmail.com\n",
      "11                     PASGROMO@GMAIL.COM\n",
      "12    bernardostocker@catambiental.com.ar\n",
      "13               guillermo.taft@gmail.com\n",
      "1                mborland_amb@hotmail.com\n",
      "2                       lucigoy@gmail.com\n",
      "3               msalvioli@ing.unlp.edu.ar\n",
      "1                abertona@fibertel.com.ar\n",
      "2                    gdbulus@yahoo.com.ar\n",
      "3                  info@ecotecnica.com.ar\n",
      "4               PROTO@ECOGESTIONAR.COM.AR\n",
      "6                   jilescano88@gmail.com\n",
      "7           javiermartinezheres@gmail.com\n",
      "8                lilianarithner@gmail.com\n",
      "9               axonambiental@hotmail.com\n",
      "11          rafael.emilio.silva@gmail.com\n",
      "12                        ZULETA.GUSTAVO@\n",
      "2               ricardodeina@yahoo.com.ar\n",
      "3                   CINIRGON@YAHOO.COM.AR\n",
      "4          vgraf@laboratoriowasser.com.ar\n",
      "5                    MJSALELLAS@GMAIL.COM\n",
      "6                 gvalentinuzzi@gmail.com\n",
      "1                raulmonsalvo57@gmail.com\n",
      "1              jeremiasppuentes@gmail.com\n",
      "dtype: object\n"
     ]
    },
    {
     "name": "stderr",
     "output_type": "stream",
     "text": [
      "\n",
      "  8%|▊         | 31/384 [06:51<41:00,  6.97s/it]\u001b[A"
     ]
    },
    {
     "name": "stdout",
     "output_type": "stream",
     "text": [
      "Doctor en Ciencias Veterinarias  Done 1                    ggcisterna@gmail.com\n",
      "1              sanchogabriela@hotmail.com\n",
      "1                  ecalamos@argentina.com\n",
      "4                  conghos@hotmail.com.ar\n",
      "5             marianonicola1975@gmail.com\n",
      "6                 estudio_dlq@hotmail.com\n",
      "7               mmroncoli@eiascoop.com.ar\n",
      "8              jp@ambienteyterritorio.com\n",
      "1            aradoconsultora@jsnet.com.ar\n",
      "2                fedegarcia83@hotmail.com\n",
      "4               maroteclaudio@hotmail.com\n",
      "5                EMERONO2004@YAHOO.COM.AR\n",
      "7                      neldo@ar.inter.net\n",
      "1                   valjauregui@gmail.com\n",
      "1             guillermo@ghernandez.com.ar\n",
      "1             guillermo@ghernandez.com.ar\n",
      "1                  pablojcucchi@gmail.com\n",
      "2                 nachostoray@hotmail.com\n",
      "1          mariano.javier.veron@gmail.com\n",
      "1                 paulalagana@hotmail.com\n",
      "2            constanzamantovani@gmail.com\n",
      "3                    sofisimizu@gmail.com\n",
      "1                        balderiote@arnet\n",
      "2                  ceciliadambo@gmail.com\n",
      "3              de-carolis@sinectis.com.ar\n",
      "4             patryciogarcia@yahoo.com.ar\n",
      "5               luisakurata@speedy.com.ar\n",
      "7                 e.mariamuller@gmail.com\n",
      "8                    ecotimesrl@gmail.com\n",
      "9                   otegui.ruth@gmail.com\n",
      "11                     PASGROMO@GMAIL.COM\n",
      "12    bernardostocker@catambiental.com.ar\n",
      "13               guillermo.taft@gmail.com\n",
      "1                mborland_amb@hotmail.com\n",
      "2                       lucigoy@gmail.com\n",
      "3               msalvioli@ing.unlp.edu.ar\n",
      "1                abertona@fibertel.com.ar\n",
      "2                    gdbulus@yahoo.com.ar\n",
      "3                  info@ecotecnica.com.ar\n",
      "4               PROTO@ECOGESTIONAR.COM.AR\n",
      "6                   jilescano88@gmail.com\n",
      "7           javiermartinezheres@gmail.com\n",
      "8                lilianarithner@gmail.com\n",
      "9               axonambiental@hotmail.com\n",
      "11          rafael.emilio.silva@gmail.com\n",
      "12                        ZULETA.GUSTAVO@\n",
      "2               ricardodeina@yahoo.com.ar\n",
      "3                   CINIRGON@YAHOO.COM.AR\n",
      "4          vgraf@laboratoriowasser.com.ar\n",
      "5                    MJSALELLAS@GMAIL.COM\n",
      "6                 gvalentinuzzi@gmail.com\n",
      "1                raulmonsalvo57@gmail.com\n",
      "1              jeremiasppuentes@gmail.com\n",
      "dtype: object\n"
     ]
    },
    {
     "name": "stderr",
     "output_type": "stream",
     "text": [
      "\n",
      "  8%|▊         | 32/384 [06:58<40:48,  6.96s/it]\u001b[A"
     ]
    },
    {
     "name": "stdout",
     "output_type": "stream",
     "text": [
      "Doctorado en Ciencias Quimica Done 1                    ggcisterna@gmail.com\n",
      "1              sanchogabriela@hotmail.com\n",
      "1                  ecalamos@argentina.com\n",
      "4                  conghos@hotmail.com.ar\n",
      "5             marianonicola1975@gmail.com\n",
      "6                 estudio_dlq@hotmail.com\n",
      "7               mmroncoli@eiascoop.com.ar\n",
      "8              jp@ambienteyterritorio.com\n",
      "1            aradoconsultora@jsnet.com.ar\n",
      "2                fedegarcia83@hotmail.com\n",
      "4               maroteclaudio@hotmail.com\n",
      "5                EMERONO2004@YAHOO.COM.AR\n",
      "7                      neldo@ar.inter.net\n",
      "1                   valjauregui@gmail.com\n",
      "1             guillermo@ghernandez.com.ar\n",
      "1             guillermo@ghernandez.com.ar\n",
      "1                  pablojcucchi@gmail.com\n",
      "2                 nachostoray@hotmail.com\n",
      "1          mariano.javier.veron@gmail.com\n",
      "1                 paulalagana@hotmail.com\n",
      "2            constanzamantovani@gmail.com\n",
      "3                    sofisimizu@gmail.com\n",
      "1                        balderiote@arnet\n",
      "2                  ceciliadambo@gmail.com\n",
      "3              de-carolis@sinectis.com.ar\n",
      "4             patryciogarcia@yahoo.com.ar\n",
      "5               luisakurata@speedy.com.ar\n",
      "7                 e.mariamuller@gmail.com\n",
      "8                    ecotimesrl@gmail.com\n",
      "9                   otegui.ruth@gmail.com\n",
      "11                     PASGROMO@GMAIL.COM\n",
      "12    bernardostocker@catambiental.com.ar\n",
      "13               guillermo.taft@gmail.com\n",
      "1                mborland_amb@hotmail.com\n",
      "2                       lucigoy@gmail.com\n",
      "3               msalvioli@ing.unlp.edu.ar\n",
      "1                abertona@fibertel.com.ar\n",
      "2                    gdbulus@yahoo.com.ar\n",
      "3                  info@ecotecnica.com.ar\n",
      "4               PROTO@ECOGESTIONAR.COM.AR\n",
      "6                   jilescano88@gmail.com\n",
      "7           javiermartinezheres@gmail.com\n",
      "8                lilianarithner@gmail.com\n",
      "9               axonambiental@hotmail.com\n",
      "11          rafael.emilio.silva@gmail.com\n",
      "12                        ZULETA.GUSTAVO@\n",
      "2               ricardodeina@yahoo.com.ar\n",
      "3                   CINIRGON@YAHOO.COM.AR\n",
      "4          vgraf@laboratoriowasser.com.ar\n",
      "5                    MJSALELLAS@GMAIL.COM\n",
      "6                 gvalentinuzzi@gmail.com\n",
      "1                raulmonsalvo57@gmail.com\n",
      "1              jeremiasppuentes@gmail.com\n",
      "dtype: object\n"
     ]
    },
    {
     "name": "stderr",
     "output_type": "stream",
     "text": [
      "\n",
      "  9%|▊         | 33/384 [07:05<40:09,  6.86s/it]\u001b[A"
     ]
    },
    {
     "name": "stdout",
     "output_type": "stream",
     "text": [
      "DR EN QUIMICA Done 1                    ggcisterna@gmail.com\n",
      "1              sanchogabriela@hotmail.com\n",
      "1                  ecalamos@argentina.com\n",
      "4                  conghos@hotmail.com.ar\n",
      "5             marianonicola1975@gmail.com\n",
      "6                 estudio_dlq@hotmail.com\n",
      "7               mmroncoli@eiascoop.com.ar\n",
      "8              jp@ambienteyterritorio.com\n",
      "1            aradoconsultora@jsnet.com.ar\n",
      "2                fedegarcia83@hotmail.com\n",
      "4               maroteclaudio@hotmail.com\n",
      "5                EMERONO2004@YAHOO.COM.AR\n",
      "7                      neldo@ar.inter.net\n",
      "1                   valjauregui@gmail.com\n",
      "1             guillermo@ghernandez.com.ar\n",
      "1             guillermo@ghernandez.com.ar\n",
      "1                  pablojcucchi@gmail.com\n",
      "2                 nachostoray@hotmail.com\n",
      "1          mariano.javier.veron@gmail.com\n",
      "1                 paulalagana@hotmail.com\n",
      "2            constanzamantovani@gmail.com\n",
      "3                    sofisimizu@gmail.com\n",
      "1                        balderiote@arnet\n",
      "2                  ceciliadambo@gmail.com\n",
      "3              de-carolis@sinectis.com.ar\n",
      "4             patryciogarcia@yahoo.com.ar\n",
      "5               luisakurata@speedy.com.ar\n",
      "7                 e.mariamuller@gmail.com\n",
      "8                    ecotimesrl@gmail.com\n",
      "9                   otegui.ruth@gmail.com\n",
      "11                     PASGROMO@GMAIL.COM\n",
      "12    bernardostocker@catambiental.com.ar\n",
      "13               guillermo.taft@gmail.com\n",
      "1                mborland_amb@hotmail.com\n",
      "2                       lucigoy@gmail.com\n",
      "3               msalvioli@ing.unlp.edu.ar\n",
      "1                abertona@fibertel.com.ar\n",
      "2                    gdbulus@yahoo.com.ar\n",
      "3                  info@ecotecnica.com.ar\n",
      "4               PROTO@ECOGESTIONAR.COM.AR\n",
      "6                   jilescano88@gmail.com\n",
      "7           javiermartinezheres@gmail.com\n",
      "8                lilianarithner@gmail.com\n",
      "9               axonambiental@hotmail.com\n",
      "11          rafael.emilio.silva@gmail.com\n",
      "12                        ZULETA.GUSTAVO@\n",
      "2               ricardodeina@yahoo.com.ar\n",
      "3                   CINIRGON@YAHOO.COM.AR\n",
      "4          vgraf@laboratoriowasser.com.ar\n",
      "5                    MJSALELLAS@GMAIL.COM\n",
      "6                 gvalentinuzzi@gmail.com\n",
      "1                raulmonsalvo57@gmail.com\n",
      "1              jeremiasppuentes@gmail.com\n",
      "dtype: object\n"
     ]
    },
    {
     "name": "stderr",
     "output_type": "stream",
     "text": [
      "\n",
      "  9%|▉         | 34/384 [07:11<40:02,  6.87s/it]\u001b[A"
     ]
    },
    {
     "name": "stdout",
     "output_type": "stream",
     "text": [
      "E. en Seguridad, Higiene y Protección Ambiental Done 1                    ggcisterna@gmail.com\n",
      "1              sanchogabriela@hotmail.com\n",
      "1                  ecalamos@argentina.com\n",
      "4                  conghos@hotmail.com.ar\n",
      "5             marianonicola1975@gmail.com\n",
      "6                 estudio_dlq@hotmail.com\n",
      "7               mmroncoli@eiascoop.com.ar\n",
      "8              jp@ambienteyterritorio.com\n",
      "1            aradoconsultora@jsnet.com.ar\n",
      "2                fedegarcia83@hotmail.com\n",
      "4               maroteclaudio@hotmail.com\n",
      "5                EMERONO2004@YAHOO.COM.AR\n",
      "7                      neldo@ar.inter.net\n",
      "1                   valjauregui@gmail.com\n",
      "1             guillermo@ghernandez.com.ar\n",
      "1             guillermo@ghernandez.com.ar\n",
      "1                  pablojcucchi@gmail.com\n",
      "2                 nachostoray@hotmail.com\n",
      "1          mariano.javier.veron@gmail.com\n",
      "1                 paulalagana@hotmail.com\n",
      "2            constanzamantovani@gmail.com\n",
      "3                    sofisimizu@gmail.com\n",
      "1                        balderiote@arnet\n",
      "2                  ceciliadambo@gmail.com\n",
      "3              de-carolis@sinectis.com.ar\n",
      "4             patryciogarcia@yahoo.com.ar\n",
      "5               luisakurata@speedy.com.ar\n",
      "7                 e.mariamuller@gmail.com\n",
      "8                    ecotimesrl@gmail.com\n",
      "9                   otegui.ruth@gmail.com\n",
      "11                     PASGROMO@GMAIL.COM\n",
      "12    bernardostocker@catambiental.com.ar\n",
      "13               guillermo.taft@gmail.com\n",
      "1                mborland_amb@hotmail.com\n",
      "2                       lucigoy@gmail.com\n",
      "3               msalvioli@ing.unlp.edu.ar\n",
      "1                abertona@fibertel.com.ar\n",
      "2                    gdbulus@yahoo.com.ar\n",
      "3                  info@ecotecnica.com.ar\n",
      "4               PROTO@ECOGESTIONAR.COM.AR\n",
      "6                   jilescano88@gmail.com\n",
      "7           javiermartinezheres@gmail.com\n",
      "8                lilianarithner@gmail.com\n",
      "9               axonambiental@hotmail.com\n",
      "11          rafael.emilio.silva@gmail.com\n",
      "12                        ZULETA.GUSTAVO@\n",
      "2               ricardodeina@yahoo.com.ar\n",
      "3                   CINIRGON@YAHOO.COM.AR\n",
      "4          vgraf@laboratoriowasser.com.ar\n",
      "5                    MJSALELLAS@GMAIL.COM\n",
      "6                 gvalentinuzzi@gmail.com\n",
      "1                raulmonsalvo57@gmail.com\n",
      "1              jeremiasppuentes@gmail.com\n",
      "1                      jorge@amari.com.ar\n",
      "dtype: object\n"
     ]
    },
    {
     "name": "stderr",
     "output_type": "stream",
     "text": [
      "\n",
      "  9%|▉         | 35/384 [07:32<1:03:10, 10.86s/it]\u001b[A"
     ]
    },
    {
     "name": "stdout",
     "output_type": "stream",
     "text": [
      "Ecólogo Done 1                    ggcisterna@gmail.com\n",
      "1              sanchogabriela@hotmail.com\n",
      "1                  ecalamos@argentina.com\n",
      "4                  conghos@hotmail.com.ar\n",
      "5             marianonicola1975@gmail.com\n",
      "6                 estudio_dlq@hotmail.com\n",
      "7               mmroncoli@eiascoop.com.ar\n",
      "8              jp@ambienteyterritorio.com\n",
      "1            aradoconsultora@jsnet.com.ar\n",
      "2                fedegarcia83@hotmail.com\n",
      "4               maroteclaudio@hotmail.com\n",
      "5                EMERONO2004@YAHOO.COM.AR\n",
      "7                      neldo@ar.inter.net\n",
      "1                   valjauregui@gmail.com\n",
      "1             guillermo@ghernandez.com.ar\n",
      "1             guillermo@ghernandez.com.ar\n",
      "1                  pablojcucchi@gmail.com\n",
      "2                 nachostoray@hotmail.com\n",
      "1          mariano.javier.veron@gmail.com\n",
      "1                 paulalagana@hotmail.com\n",
      "2            constanzamantovani@gmail.com\n",
      "3                    sofisimizu@gmail.com\n",
      "1                        balderiote@arnet\n",
      "2                  ceciliadambo@gmail.com\n",
      "3              de-carolis@sinectis.com.ar\n",
      "4             patryciogarcia@yahoo.com.ar\n",
      "5               luisakurata@speedy.com.ar\n",
      "7                 e.mariamuller@gmail.com\n",
      "8                    ecotimesrl@gmail.com\n",
      "9                   otegui.ruth@gmail.com\n",
      "11                     PASGROMO@GMAIL.COM\n",
      "12    bernardostocker@catambiental.com.ar\n",
      "13               guillermo.taft@gmail.com\n",
      "1                mborland_amb@hotmail.com\n",
      "2                       lucigoy@gmail.com\n",
      "3               msalvioli@ing.unlp.edu.ar\n",
      "1                abertona@fibertel.com.ar\n",
      "2                    gdbulus@yahoo.com.ar\n",
      "3                  info@ecotecnica.com.ar\n",
      "4               PROTO@ECOGESTIONAR.COM.AR\n",
      "6                   jilescano88@gmail.com\n",
      "7           javiermartinezheres@gmail.com\n",
      "8                lilianarithner@gmail.com\n",
      "9               axonambiental@hotmail.com\n",
      "11          rafael.emilio.silva@gmail.com\n",
      "12                        ZULETA.GUSTAVO@\n",
      "2               ricardodeina@yahoo.com.ar\n",
      "3                   CINIRGON@YAHOO.COM.AR\n",
      "4          vgraf@laboratoriowasser.com.ar\n",
      "5                    MJSALELLAS@GMAIL.COM\n",
      "6                 gvalentinuzzi@gmail.com\n",
      "1                raulmonsalvo57@gmail.com\n",
      "1              jeremiasppuentes@gmail.com\n",
      "1                      jorge@amari.com.ar\n",
      "1                c.bacigalupo@hotmail.com\n",
      "2                    gdbulus@yahoo.com.ar\n",
      "3             rosanaferraro_2@hotmail.com\n",
      "5               axonambiental@hotmail.com\n",
      "dtype: object\n"
     ]
    },
    {
     "name": "stderr",
     "output_type": "stream",
     "text": [
      "\n",
      "  9%|▉         | 36/384 [07:39<57:05,  9.84s/it]  \u001b[A"
     ]
    },
    {
     "name": "stdout",
     "output_type": "stream",
     "text": [
      "Esp en Hig Ambiental Done 1                    ggcisterna@gmail.com\n",
      "1              sanchogabriela@hotmail.com\n",
      "1                  ecalamos@argentina.com\n",
      "4                  conghos@hotmail.com.ar\n",
      "5             marianonicola1975@gmail.com\n",
      "6                 estudio_dlq@hotmail.com\n",
      "7               mmroncoli@eiascoop.com.ar\n",
      "8              jp@ambienteyterritorio.com\n",
      "1            aradoconsultora@jsnet.com.ar\n",
      "2                fedegarcia83@hotmail.com\n",
      "4               maroteclaudio@hotmail.com\n",
      "5                EMERONO2004@YAHOO.COM.AR\n",
      "7                      neldo@ar.inter.net\n",
      "1                   valjauregui@gmail.com\n",
      "1             guillermo@ghernandez.com.ar\n",
      "1             guillermo@ghernandez.com.ar\n",
      "1                  pablojcucchi@gmail.com\n",
      "2                 nachostoray@hotmail.com\n",
      "1          mariano.javier.veron@gmail.com\n",
      "1                 paulalagana@hotmail.com\n",
      "2            constanzamantovani@gmail.com\n",
      "3                    sofisimizu@gmail.com\n",
      "1                        balderiote@arnet\n",
      "2                  ceciliadambo@gmail.com\n",
      "3              de-carolis@sinectis.com.ar\n",
      "4             patryciogarcia@yahoo.com.ar\n",
      "5               luisakurata@speedy.com.ar\n",
      "7                 e.mariamuller@gmail.com\n",
      "8                    ecotimesrl@gmail.com\n",
      "9                   otegui.ruth@gmail.com\n",
      "11                     PASGROMO@GMAIL.COM\n",
      "12    bernardostocker@catambiental.com.ar\n",
      "13               guillermo.taft@gmail.com\n",
      "1                mborland_amb@hotmail.com\n",
      "2                       lucigoy@gmail.com\n",
      "3               msalvioli@ing.unlp.edu.ar\n",
      "1                abertona@fibertel.com.ar\n",
      "2                    gdbulus@yahoo.com.ar\n",
      "3                  info@ecotecnica.com.ar\n",
      "4               PROTO@ECOGESTIONAR.COM.AR\n",
      "6                   jilescano88@gmail.com\n",
      "7           javiermartinezheres@gmail.com\n",
      "8                lilianarithner@gmail.com\n",
      "9               axonambiental@hotmail.com\n",
      "11          rafael.emilio.silva@gmail.com\n",
      "12                        ZULETA.GUSTAVO@\n",
      "2               ricardodeina@yahoo.com.ar\n",
      "3                   CINIRGON@YAHOO.COM.AR\n",
      "4          vgraf@laboratoriowasser.com.ar\n",
      "5                    MJSALELLAS@GMAIL.COM\n",
      "6                 gvalentinuzzi@gmail.com\n",
      "1                raulmonsalvo57@gmail.com\n",
      "1              jeremiasppuentes@gmail.com\n",
      "1                      jorge@amari.com.ar\n",
      "1                c.bacigalupo@hotmail.com\n",
      "2                    gdbulus@yahoo.com.ar\n",
      "3             rosanaferraro_2@hotmail.com\n",
      "5               axonambiental@hotmail.com\n",
      "1                esgomez55@hotmail.com.ar\n",
      "dtype: object\n"
     ]
    },
    {
     "name": "stderr",
     "output_type": "stream",
     "text": [
      "\n",
      " 10%|▉         | 37/384 [07:45<50:48,  8.79s/it]\u001b[A"
     ]
    },
    {
     "name": "stdout",
     "output_type": "stream",
     "text": [
      "Esp. en Eval. de Contaminación Amb.                Done 1                    ggcisterna@gmail.com\n",
      "1              sanchogabriela@hotmail.com\n",
      "1                  ecalamos@argentina.com\n",
      "4                  conghos@hotmail.com.ar\n",
      "5             marianonicola1975@gmail.com\n",
      "6                 estudio_dlq@hotmail.com\n",
      "7               mmroncoli@eiascoop.com.ar\n",
      "8              jp@ambienteyterritorio.com\n",
      "1            aradoconsultora@jsnet.com.ar\n",
      "2                fedegarcia83@hotmail.com\n",
      "4               maroteclaudio@hotmail.com\n",
      "5                EMERONO2004@YAHOO.COM.AR\n",
      "7                      neldo@ar.inter.net\n",
      "1                   valjauregui@gmail.com\n",
      "1             guillermo@ghernandez.com.ar\n",
      "1             guillermo@ghernandez.com.ar\n",
      "1                  pablojcucchi@gmail.com\n",
      "2                 nachostoray@hotmail.com\n",
      "1          mariano.javier.veron@gmail.com\n",
      "1                 paulalagana@hotmail.com\n",
      "2            constanzamantovani@gmail.com\n",
      "3                    sofisimizu@gmail.com\n",
      "1                        balderiote@arnet\n",
      "2                  ceciliadambo@gmail.com\n",
      "3              de-carolis@sinectis.com.ar\n",
      "4             patryciogarcia@yahoo.com.ar\n",
      "5               luisakurata@speedy.com.ar\n",
      "7                 e.mariamuller@gmail.com\n",
      "8                    ecotimesrl@gmail.com\n",
      "9                   otegui.ruth@gmail.com\n",
      "11                     PASGROMO@GMAIL.COM\n",
      "12    bernardostocker@catambiental.com.ar\n",
      "13               guillermo.taft@gmail.com\n",
      "1                mborland_amb@hotmail.com\n",
      "2                       lucigoy@gmail.com\n",
      "3               msalvioli@ing.unlp.edu.ar\n",
      "1                abertona@fibertel.com.ar\n",
      "2                    gdbulus@yahoo.com.ar\n",
      "3                  info@ecotecnica.com.ar\n",
      "4               PROTO@ECOGESTIONAR.COM.AR\n",
      "6                   jilescano88@gmail.com\n",
      "7           javiermartinezheres@gmail.com\n",
      "8                lilianarithner@gmail.com\n",
      "9               axonambiental@hotmail.com\n",
      "11          rafael.emilio.silva@gmail.com\n",
      "12                        ZULETA.GUSTAVO@\n",
      "2               ricardodeina@yahoo.com.ar\n",
      "3                   CINIRGON@YAHOO.COM.AR\n",
      "4          vgraf@laboratoriowasser.com.ar\n",
      "5                    MJSALELLAS@GMAIL.COM\n",
      "6                 gvalentinuzzi@gmail.com\n",
      "1                raulmonsalvo57@gmail.com\n",
      "1              jeremiasppuentes@gmail.com\n",
      "1                      jorge@amari.com.ar\n",
      "1                c.bacigalupo@hotmail.com\n",
      "2                    gdbulus@yahoo.com.ar\n",
      "3             rosanaferraro_2@hotmail.com\n",
      "5               axonambiental@hotmail.com\n",
      "1                esgomez55@hotmail.com.ar\n",
      "dtype: object\n"
     ]
    },
    {
     "name": "stderr",
     "output_type": "stream",
     "text": [
      "\n",
      " 10%|▉         | 38/384 [07:52<46:27,  8.06s/it]\u001b[A"
     ]
    },
    {
     "name": "stdout",
     "output_type": "stream",
     "text": [
      "Esp. en Gestion Ambiental Done 1                    ggcisterna@gmail.com\n",
      "1              sanchogabriela@hotmail.com\n",
      "1                  ecalamos@argentina.com\n",
      "4                  conghos@hotmail.com.ar\n",
      "5             marianonicola1975@gmail.com\n",
      "6                 estudio_dlq@hotmail.com\n",
      "7               mmroncoli@eiascoop.com.ar\n",
      "8              jp@ambienteyterritorio.com\n",
      "1            aradoconsultora@jsnet.com.ar\n",
      "2                fedegarcia83@hotmail.com\n",
      "4               maroteclaudio@hotmail.com\n",
      "5                EMERONO2004@YAHOO.COM.AR\n",
      "7                      neldo@ar.inter.net\n",
      "1                   valjauregui@gmail.com\n",
      "1             guillermo@ghernandez.com.ar\n",
      "1             guillermo@ghernandez.com.ar\n",
      "1                  pablojcucchi@gmail.com\n",
      "2                 nachostoray@hotmail.com\n",
      "1          mariano.javier.veron@gmail.com\n",
      "1                 paulalagana@hotmail.com\n",
      "2            constanzamantovani@gmail.com\n",
      "3                    sofisimizu@gmail.com\n",
      "1                        balderiote@arnet\n",
      "2                  ceciliadambo@gmail.com\n",
      "3              de-carolis@sinectis.com.ar\n",
      "4             patryciogarcia@yahoo.com.ar\n",
      "5               luisakurata@speedy.com.ar\n",
      "7                 e.mariamuller@gmail.com\n",
      "8                    ecotimesrl@gmail.com\n",
      "9                   otegui.ruth@gmail.com\n",
      "11                     PASGROMO@GMAIL.COM\n",
      "12    bernardostocker@catambiental.com.ar\n",
      "13               guillermo.taft@gmail.com\n",
      "1                mborland_amb@hotmail.com\n",
      "2                       lucigoy@gmail.com\n",
      "3               msalvioli@ing.unlp.edu.ar\n",
      "1                abertona@fibertel.com.ar\n",
      "2                    gdbulus@yahoo.com.ar\n",
      "3                  info@ecotecnica.com.ar\n",
      "4               PROTO@ECOGESTIONAR.COM.AR\n",
      "6                   jilescano88@gmail.com\n",
      "7           javiermartinezheres@gmail.com\n",
      "8                lilianarithner@gmail.com\n",
      "9               axonambiental@hotmail.com\n",
      "11          rafael.emilio.silva@gmail.com\n",
      "12                        ZULETA.GUSTAVO@\n",
      "2               ricardodeina@yahoo.com.ar\n",
      "3                   CINIRGON@YAHOO.COM.AR\n",
      "4          vgraf@laboratoriowasser.com.ar\n",
      "5                    MJSALELLAS@GMAIL.COM\n",
      "6                 gvalentinuzzi@gmail.com\n",
      "1                raulmonsalvo57@gmail.com\n",
      "1              jeremiasppuentes@gmail.com\n",
      "1                      jorge@amari.com.ar\n",
      "1                c.bacigalupo@hotmail.com\n",
      "2                    gdbulus@yahoo.com.ar\n",
      "3             rosanaferraro_2@hotmail.com\n",
      "5               axonambiental@hotmail.com\n",
      "1                esgomez55@hotmail.com.ar\n",
      "1                 paulababaylac@gmail.com\n",
      "dtype: object\n"
     ]
    },
    {
     "name": "stderr",
     "output_type": "stream",
     "text": [
      "\n",
      " 10%|█         | 39/384 [07:58<43:35,  7.58s/it]\u001b[A"
     ]
    },
    {
     "name": "stdout",
     "output_type": "stream",
     "text": [
      "Esp. en Higiene y Seguridad en el Trabajo Agrario Done 1                    ggcisterna@gmail.com\n",
      "1              sanchogabriela@hotmail.com\n",
      "1                  ecalamos@argentina.com\n",
      "4                  conghos@hotmail.com.ar\n",
      "5             marianonicola1975@gmail.com\n",
      "6                 estudio_dlq@hotmail.com\n",
      "7               mmroncoli@eiascoop.com.ar\n",
      "8              jp@ambienteyterritorio.com\n",
      "1            aradoconsultora@jsnet.com.ar\n",
      "2                fedegarcia83@hotmail.com\n",
      "4               maroteclaudio@hotmail.com\n",
      "5                EMERONO2004@YAHOO.COM.AR\n",
      "7                      neldo@ar.inter.net\n",
      "1                   valjauregui@gmail.com\n",
      "1             guillermo@ghernandez.com.ar\n",
      "1             guillermo@ghernandez.com.ar\n",
      "1                  pablojcucchi@gmail.com\n",
      "2                 nachostoray@hotmail.com\n",
      "1          mariano.javier.veron@gmail.com\n",
      "1                 paulalagana@hotmail.com\n",
      "2            constanzamantovani@gmail.com\n",
      "3                    sofisimizu@gmail.com\n",
      "1                        balderiote@arnet\n",
      "2                  ceciliadambo@gmail.com\n",
      "3              de-carolis@sinectis.com.ar\n",
      "4             patryciogarcia@yahoo.com.ar\n",
      "5               luisakurata@speedy.com.ar\n",
      "7                 e.mariamuller@gmail.com\n",
      "8                    ecotimesrl@gmail.com\n",
      "9                   otegui.ruth@gmail.com\n",
      "11                     PASGROMO@GMAIL.COM\n",
      "12    bernardostocker@catambiental.com.ar\n",
      "13               guillermo.taft@gmail.com\n",
      "1                mborland_amb@hotmail.com\n",
      "2                       lucigoy@gmail.com\n",
      "3               msalvioli@ing.unlp.edu.ar\n",
      "1                abertona@fibertel.com.ar\n",
      "2                    gdbulus@yahoo.com.ar\n",
      "3                  info@ecotecnica.com.ar\n",
      "4               PROTO@ECOGESTIONAR.COM.AR\n",
      "6                   jilescano88@gmail.com\n",
      "7           javiermartinezheres@gmail.com\n",
      "8                lilianarithner@gmail.com\n",
      "9               axonambiental@hotmail.com\n",
      "11          rafael.emilio.silva@gmail.com\n",
      "12                        ZULETA.GUSTAVO@\n",
      "2               ricardodeina@yahoo.com.ar\n",
      "3                   CINIRGON@YAHOO.COM.AR\n",
      "4          vgraf@laboratoriowasser.com.ar\n",
      "5                    MJSALELLAS@GMAIL.COM\n",
      "6                 gvalentinuzzi@gmail.com\n",
      "1                raulmonsalvo57@gmail.com\n",
      "1              jeremiasppuentes@gmail.com\n",
      "1                      jorge@amari.com.ar\n",
      "1                c.bacigalupo@hotmail.com\n",
      "2                    gdbulus@yahoo.com.ar\n",
      "3             rosanaferraro_2@hotmail.com\n",
      "5               axonambiental@hotmail.com\n",
      "1                esgomez55@hotmail.com.ar\n",
      "1                 paulababaylac@gmail.com\n",
      "dtype: object\n"
     ]
    },
    {
     "name": "stderr",
     "output_type": "stream",
     "text": [
      "\n",
      " 10%|█         | 40/384 [08:05<41:41,  7.27s/it]\u001b[A"
     ]
    },
    {
     "name": "stdout",
     "output_type": "stream",
     "text": [
      "ESP. HIGIENE Y SEG.LAB.INDUST. DE LA CONST. Done 1                    ggcisterna@gmail.com\n",
      "1              sanchogabriela@hotmail.com\n",
      "1                  ecalamos@argentina.com\n",
      "4                  conghos@hotmail.com.ar\n",
      "5             marianonicola1975@gmail.com\n",
      "6                 estudio_dlq@hotmail.com\n",
      "7               mmroncoli@eiascoop.com.ar\n",
      "8              jp@ambienteyterritorio.com\n",
      "1            aradoconsultora@jsnet.com.ar\n",
      "2                fedegarcia83@hotmail.com\n",
      "4               maroteclaudio@hotmail.com\n",
      "5                EMERONO2004@YAHOO.COM.AR\n",
      "7                      neldo@ar.inter.net\n",
      "1                   valjauregui@gmail.com\n",
      "1             guillermo@ghernandez.com.ar\n",
      "1             guillermo@ghernandez.com.ar\n",
      "1                  pablojcucchi@gmail.com\n",
      "2                 nachostoray@hotmail.com\n",
      "1          mariano.javier.veron@gmail.com\n",
      "1                 paulalagana@hotmail.com\n",
      "2            constanzamantovani@gmail.com\n",
      "3                    sofisimizu@gmail.com\n",
      "1                        balderiote@arnet\n",
      "2                  ceciliadambo@gmail.com\n",
      "3              de-carolis@sinectis.com.ar\n",
      "4             patryciogarcia@yahoo.com.ar\n",
      "5               luisakurata@speedy.com.ar\n",
      "7                 e.mariamuller@gmail.com\n",
      "8                    ecotimesrl@gmail.com\n",
      "9                   otegui.ruth@gmail.com\n",
      "11                     PASGROMO@GMAIL.COM\n",
      "12    bernardostocker@catambiental.com.ar\n",
      "13               guillermo.taft@gmail.com\n",
      "1                mborland_amb@hotmail.com\n",
      "2                       lucigoy@gmail.com\n",
      "3               msalvioli@ing.unlp.edu.ar\n",
      "1                abertona@fibertel.com.ar\n",
      "2                    gdbulus@yahoo.com.ar\n",
      "3                  info@ecotecnica.com.ar\n",
      "4               PROTO@ECOGESTIONAR.COM.AR\n",
      "6                   jilescano88@gmail.com\n",
      "7           javiermartinezheres@gmail.com\n",
      "8                lilianarithner@gmail.com\n",
      "9               axonambiental@hotmail.com\n",
      "11          rafael.emilio.silva@gmail.com\n",
      "12                        ZULETA.GUSTAVO@\n",
      "2               ricardodeina@yahoo.com.ar\n",
      "3                   CINIRGON@YAHOO.COM.AR\n",
      "4          vgraf@laboratoriowasser.com.ar\n",
      "5                    MJSALELLAS@GMAIL.COM\n",
      "6                 gvalentinuzzi@gmail.com\n",
      "1                raulmonsalvo57@gmail.com\n",
      "1              jeremiasppuentes@gmail.com\n",
      "1                      jorge@amari.com.ar\n",
      "1                c.bacigalupo@hotmail.com\n",
      "2                    gdbulus@yahoo.com.ar\n",
      "3             rosanaferraro_2@hotmail.com\n",
      "5               axonambiental@hotmail.com\n",
      "1                esgomez55@hotmail.com.ar\n",
      "1                 paulababaylac@gmail.com\n",
      "dtype: object\n"
     ]
    },
    {
     "name": "stderr",
     "output_type": "stream",
     "text": [
      "\n",
      " 11%|█         | 41/384 [08:12<41:03,  7.18s/it]\u001b[A"
     ]
    },
    {
     "name": "stdout",
     "output_type": "stream",
     "text": [
      "Esp. Seg. e Higiene Done 1           ggcisterna@gmail.com\n",
      "1     sanchogabriela@hotmail.com\n",
      "1         ecalamos@argentina.com\n",
      "4         conghos@hotmail.com.ar\n",
      "5    marianonicola1975@gmail.com\n",
      "                ...             \n",
      "3    rosanaferraro_2@hotmail.com\n",
      "5      axonambiental@hotmail.com\n",
      "1       esgomez55@hotmail.com.ar\n",
      "1        paulababaylac@gmail.com\n",
      "1    silvia.parrotta@hotmail.com\n",
      "Length: 61, dtype: object\n"
     ]
    },
    {
     "name": "stderr",
     "output_type": "stream",
     "text": [
      "\n",
      " 11%|█         | 42/384 [08:18<39:51,  6.99s/it]\u001b[A"
     ]
    },
    {
     "name": "stdout",
     "output_type": "stream",
     "text": [
      "Esp. Seg.e Higiene Done 1           ggcisterna@gmail.com\n",
      "1     sanchogabriela@hotmail.com\n",
      "1         ecalamos@argentina.com\n",
      "4         conghos@hotmail.com.ar\n",
      "5    marianonicola1975@gmail.com\n",
      "                ...             \n",
      "3    rosanaferraro_2@hotmail.com\n",
      "5      axonambiental@hotmail.com\n",
      "1       esgomez55@hotmail.com.ar\n",
      "1        paulababaylac@gmail.com\n",
      "1    silvia.parrotta@hotmail.com\n",
      "Length: 61, dtype: object\n"
     ]
    },
    {
     "name": "stderr",
     "output_type": "stream",
     "text": [
      "\n",
      " 11%|█         | 43/384 [08:25<39:17,  6.91s/it]\u001b[A"
     ]
    },
    {
     "name": "stdout",
     "output_type": "stream",
     "text": [
      "ESPCIALISTA EN PLANEAMIENTO P. Y AMB. Done 1           ggcisterna@gmail.com\n",
      "1     sanchogabriela@hotmail.com\n",
      "1         ecalamos@argentina.com\n",
      "4         conghos@hotmail.com.ar\n",
      "5    marianonicola1975@gmail.com\n",
      "                ...             \n",
      "3    rosanaferraro_2@hotmail.com\n",
      "5      axonambiental@hotmail.com\n",
      "1       esgomez55@hotmail.com.ar\n",
      "1        paulababaylac@gmail.com\n",
      "1    silvia.parrotta@hotmail.com\n",
      "Length: 61, dtype: object\n"
     ]
    },
    {
     "name": "stderr",
     "output_type": "stream",
     "text": [
      "\n",
      " 11%|█▏        | 44/384 [08:32<39:28,  6.97s/it]\u001b[A"
     ]
    },
    {
     "name": "stdout",
     "output_type": "stream",
     "text": [
      "Espec. en Hig y Seg en el Trab Agra Done 1           ggcisterna@gmail.com\n",
      "1     sanchogabriela@hotmail.com\n",
      "1         ecalamos@argentina.com\n",
      "4         conghos@hotmail.com.ar\n",
      "5    marianonicola1975@gmail.com\n",
      "                ...             \n",
      "3    rosanaferraro_2@hotmail.com\n",
      "5      axonambiental@hotmail.com\n",
      "1       esgomez55@hotmail.com.ar\n",
      "1        paulababaylac@gmail.com\n",
      "1    silvia.parrotta@hotmail.com\n",
      "Length: 61, dtype: object\n"
     ]
    },
    {
     "name": "stderr",
     "output_type": "stream",
     "text": [
      "\n",
      " 12%|█▏        | 45/384 [08:38<38:08,  6.75s/it]\u001b[A"
     ]
    },
    {
     "name": "stdout",
     "output_type": "stream",
     "text": [
      "espec.en Gestion del Patrimonio y Turismo Sostenib Done 1           ggcisterna@gmail.com\n",
      "1     sanchogabriela@hotmail.com\n",
      "1         ecalamos@argentina.com\n",
      "4         conghos@hotmail.com.ar\n",
      "5    marianonicola1975@gmail.com\n",
      "                ...             \n",
      "3    rosanaferraro_2@hotmail.com\n",
      "5      axonambiental@hotmail.com\n",
      "1       esgomez55@hotmail.com.ar\n",
      "1        paulababaylac@gmail.com\n",
      "1    silvia.parrotta@hotmail.com\n",
      "Length: 61, dtype: object\n"
     ]
    },
    {
     "name": "stderr",
     "output_type": "stream",
     "text": [
      "\n",
      " 12%|█▏        | 46/384 [08:45<37:51,  6.72s/it]\u001b[A"
     ]
    },
    {
     "name": "stdout",
     "output_type": "stream",
     "text": [
      "Especialidad Hidraulica Done 1           ggcisterna@gmail.com\n",
      "1     sanchogabriela@hotmail.com\n",
      "1         ecalamos@argentina.com\n",
      "4         conghos@hotmail.com.ar\n",
      "5    marianonicola1975@gmail.com\n",
      "                ...             \n",
      "3    rosanaferraro_2@hotmail.com\n",
      "5      axonambiental@hotmail.com\n",
      "1       esgomez55@hotmail.com.ar\n",
      "1        paulababaylac@gmail.com\n",
      "1    silvia.parrotta@hotmail.com\n",
      "Length: 61, dtype: object\n"
     ]
    },
    {
     "name": "stderr",
     "output_type": "stream",
     "text": [
      "\n",
      " 12%|█▏        | 47/384 [08:51<37:17,  6.64s/it]\u001b[A"
     ]
    },
    {
     "name": "stdout",
     "output_type": "stream",
     "text": [
      "ESPECIALISTA  AMBIENTAL Done 1           ggcisterna@gmail.com\n",
      "1     sanchogabriela@hotmail.com\n",
      "1         ecalamos@argentina.com\n",
      "4         conghos@hotmail.com.ar\n",
      "5    marianonicola1975@gmail.com\n",
      "                ...             \n",
      "3    rosanaferraro_2@hotmail.com\n",
      "5      axonambiental@hotmail.com\n",
      "1       esgomez55@hotmail.com.ar\n",
      "1        paulababaylac@gmail.com\n",
      "1    silvia.parrotta@hotmail.com\n",
      "Length: 61, dtype: object\n"
     ]
    },
    {
     "name": "stderr",
     "output_type": "stream",
     "text": [
      "\n",
      " 12%|█▎        | 48/384 [08:58<37:33,  6.71s/it]\u001b[A"
     ]
    },
    {
     "name": "stdout",
     "output_type": "stream",
     "text": [
      "especialista  en ambiente y patologia ambiental Done 1           ggcisterna@gmail.com\n",
      "1     sanchogabriela@hotmail.com\n",
      "1         ecalamos@argentina.com\n",
      "4         conghos@hotmail.com.ar\n",
      "5    marianonicola1975@gmail.com\n",
      "                ...             \n",
      "3    rosanaferraro_2@hotmail.com\n",
      "5      axonambiental@hotmail.com\n",
      "1       esgomez55@hotmail.com.ar\n",
      "1        paulababaylac@gmail.com\n",
      "1    silvia.parrotta@hotmail.com\n",
      "Length: 61, dtype: object\n"
     ]
    },
    {
     "name": "stderr",
     "output_type": "stream",
     "text": [
      "\n",
      " 13%|█▎        | 49/384 [09:06<39:15,  7.03s/it]\u001b[A"
     ]
    },
    {
     "name": "stdout",
     "output_type": "stream",
     "text": [
      "Especialista en Ciencias Químicas y Ambiente Done 1           ggcisterna@gmail.com\n",
      "1     sanchogabriela@hotmail.com\n",
      "1         ecalamos@argentina.com\n",
      "4         conghos@hotmail.com.ar\n",
      "5    marianonicola1975@gmail.com\n",
      "                ...             \n",
      "5      axonambiental@hotmail.com\n",
      "1       esgomez55@hotmail.com.ar\n",
      "1        paulababaylac@gmail.com\n",
      "1    silvia.parrotta@hotmail.com\n",
      "1       lilianarithner@gmail.com\n",
      "Length: 62, dtype: object\n"
     ]
    },
    {
     "name": "stderr",
     "output_type": "stream",
     "text": [
      "\n",
      " 13%|█▎        | 50/384 [09:13<38:30,  6.92s/it]\u001b[A"
     ]
    },
    {
     "name": "stdout",
     "output_type": "stream",
     "text": [
      "Especialista en Derecho Ambiental Done 1           ggcisterna@gmail.com\n",
      "1     sanchogabriela@hotmail.com\n",
      "1         ecalamos@argentina.com\n",
      "4         conghos@hotmail.com.ar\n",
      "5    marianonicola1975@gmail.com\n",
      "                ...             \n",
      "5      axonambiental@hotmail.com\n",
      "1       esgomez55@hotmail.com.ar\n",
      "1        paulababaylac@gmail.com\n",
      "1    silvia.parrotta@hotmail.com\n",
      "1       lilianarithner@gmail.com\n",
      "Length: 62, dtype: object\n"
     ]
    },
    {
     "name": "stderr",
     "output_type": "stream",
     "text": [
      "\n",
      " 13%|█▎        | 51/384 [09:20<38:28,  6.93s/it]\u001b[A"
     ]
    },
    {
     "name": "stdout",
     "output_type": "stream",
     "text": [
      "Especialista en Diagnostico y EvaluaciÃ³n Ambienta Done 1           ggcisterna@gmail.com\n",
      "1     sanchogabriela@hotmail.com\n",
      "1         ecalamos@argentina.com\n",
      "4         conghos@hotmail.com.ar\n",
      "5    marianonicola1975@gmail.com\n",
      "                ...             \n",
      "5      axonambiental@hotmail.com\n",
      "1       esgomez55@hotmail.com.ar\n",
      "1        paulababaylac@gmail.com\n",
      "1    silvia.parrotta@hotmail.com\n",
      "1       lilianarithner@gmail.com\n",
      "Length: 62, dtype: object\n"
     ]
    },
    {
     "name": "stderr",
     "output_type": "stream",
     "text": [
      "\n",
      " 14%|█▎        | 52/384 [09:27<38:14,  6.91s/it]\u001b[A"
     ]
    },
    {
     "name": "stdout",
     "output_type": "stream",
     "text": [
      "Especialista en Explotación de Yacimientos Done 1           ggcisterna@gmail.com\n",
      "1     sanchogabriela@hotmail.com\n",
      "1         ecalamos@argentina.com\n",
      "4         conghos@hotmail.com.ar\n",
      "5    marianonicola1975@gmail.com\n",
      "                ...             \n",
      "5      axonambiental@hotmail.com\n",
      "1       esgomez55@hotmail.com.ar\n",
      "1        paulababaylac@gmail.com\n",
      "1    silvia.parrotta@hotmail.com\n",
      "1       lilianarithner@gmail.com\n",
      "Length: 62, dtype: object\n"
     ]
    },
    {
     "name": "stderr",
     "output_type": "stream",
     "text": [
      "\n",
      " 14%|█▍        | 53/384 [09:34<38:12,  6.93s/it]\u001b[A"
     ]
    },
    {
     "name": "stdout",
     "output_type": "stream",
     "text": [
      "Especialista en gestion ambiental - higiene y seg. Done 1           ggcisterna@gmail.com\n",
      "1     sanchogabriela@hotmail.com\n",
      "1         ecalamos@argentina.com\n",
      "4         conghos@hotmail.com.ar\n",
      "5    marianonicola1975@gmail.com\n",
      "                ...             \n",
      "5      axonambiental@hotmail.com\n",
      "1       esgomez55@hotmail.com.ar\n",
      "1        paulababaylac@gmail.com\n",
      "1    silvia.parrotta@hotmail.com\n",
      "1       lilianarithner@gmail.com\n",
      "Length: 62, dtype: object\n"
     ]
    },
    {
     "name": "stderr",
     "output_type": "stream",
     "text": [
      "\n",
      " 14%|█▍        | 54/384 [09:40<37:39,  6.85s/it]\u001b[A"
     ]
    },
    {
     "name": "stdout",
     "output_type": "stream",
     "text": [
      "Especialista en Higiene y Proteccion Ambiental Done 1             ggcisterna@gmail.com\n",
      "1       sanchogabriela@hotmail.com\n",
      "1           ecalamos@argentina.com\n",
      "4           conghos@hotmail.com.ar\n",
      "5      marianonicola1975@gmail.com\n",
      "                 ...              \n",
      "1         esgomez55@hotmail.com.ar\n",
      "1          paulababaylac@gmail.com\n",
      "1      silvia.parrotta@hotmail.com\n",
      "1         lilianarithner@gmail.com\n",
      "1    nataliamontanari@yahoo.com.ar\n",
      "Length: 63, dtype: object\n"
     ]
    },
    {
     "name": "stderr",
     "output_type": "stream",
     "text": [
      "\n",
      " 14%|█▍        | 55/384 [09:52<45:29,  8.30s/it]\u001b[A"
     ]
    },
    {
     "name": "stdout",
     "output_type": "stream",
     "text": [
      "Especialista en Higiene y Seg.  Done 1             ggcisterna@gmail.com\n",
      "1       sanchogabriela@hotmail.com\n",
      "1           ecalamos@argentina.com\n",
      "4           conghos@hotmail.com.ar\n",
      "5      marianonicola1975@gmail.com\n",
      "                 ...              \n",
      "1          paulababaylac@gmail.com\n",
      "1      silvia.parrotta@hotmail.com\n",
      "1         lilianarithner@gmail.com\n",
      "1    nataliamontanari@yahoo.com.ar\n",
      "1         luis.pereira@novocap.com\n",
      "Length: 64, dtype: object\n"
     ]
    },
    {
     "name": "stderr",
     "output_type": "stream",
     "text": [
      "\n",
      " 15%|█▍        | 56/384 [10:18<1:14:16, 13.59s/it]\u001b[A"
     ]
    },
    {
     "name": "stdout",
     "output_type": "stream",
     "text": [
      "especialista en higiene y seguridad en el trabajo Done 1            ggcisterna@gmail.com\n",
      "1      sanchogabriela@hotmail.com\n",
      "1          ecalamos@argentina.com\n",
      "4          conghos@hotmail.com.ar\n",
      "5     marianonicola1975@gmail.com\n",
      "                 ...             \n",
      "19          mschamber78@gmail.com\n",
      "22             neldo@ar.inter.net\n",
      "23       danielrvidal@hotmail.com\n",
      "24        gustavowilder@gmail.com\n",
      "25      raulhzanconi@yahoo.com.ar\n",
      "Length: 86, dtype: object\n"
     ]
    },
    {
     "name": "stderr",
     "output_type": "stream",
     "text": [
      "\n",
      " 15%|█▍        | 57/384 [10:25<1:03:27, 11.64s/it]\u001b[A"
     ]
    },
    {
     "name": "stdout",
     "output_type": "stream",
     "text": [
      "ESPECIALISTA EN ING. INDUSTRIAL Done 1            ggcisterna@gmail.com\n",
      "1      sanchogabriela@hotmail.com\n",
      "1          ecalamos@argentina.com\n",
      "4          conghos@hotmail.com.ar\n",
      "5     marianonicola1975@gmail.com\n",
      "                 ...             \n",
      "19          mschamber78@gmail.com\n",
      "22             neldo@ar.inter.net\n",
      "23       danielrvidal@hotmail.com\n",
      "24        gustavowilder@gmail.com\n",
      "25      raulhzanconi@yahoo.com.ar\n",
      "Length: 86, dtype: object\n"
     ]
    },
    {
     "name": "stderr",
     "output_type": "stream",
     "text": [
      "\n",
      " 15%|█▌        | 58/384 [10:43<1:13:14, 13.48s/it]\u001b[A"
     ]
    },
    {
     "name": "stdout",
     "output_type": "stream",
     "text": [
      "Especialista en Ingenieria Ambiental Done 1            ggcisterna@gmail.com\n",
      "1      sanchogabriela@hotmail.com\n",
      "1          ecalamos@argentina.com\n",
      "4          conghos@hotmail.com.ar\n",
      "5     marianonicola1975@gmail.com\n",
      "                 ...             \n",
      "7        manoiosi@deriplom.com.ar\n",
      "8       axonambiental@hotmail.com\n",
      "9       ingenierosendin@gmail.com\n",
      "10      ingenierosendin@gmail.com\n",
      "11      adrianaspagnolo@gmail.com\n",
      "Length: 97, dtype: object\n"
     ]
    },
    {
     "name": "stderr",
     "output_type": "stream",
     "text": [
      "\n",
      " 15%|█▌        | 59/384 [10:51<1:04:13, 11.86s/it]\u001b[A"
     ]
    },
    {
     "name": "stdout",
     "output_type": "stream",
     "text": [
      "Especialista en Ingeniería Ambiental Done 1            ggcisterna@gmail.com\n",
      "1      sanchogabriela@hotmail.com\n",
      "1          ecalamos@argentina.com\n",
      "4          conghos@hotmail.com.ar\n",
      "5     marianonicola1975@gmail.com\n",
      "                 ...             \n",
      "9       ingenierosendin@gmail.com\n",
      "10      ingenierosendin@gmail.com\n",
      "11      adrianaspagnolo@gmail.com\n",
      "1           lauccordoba@gmail.com\n",
      "2          alejandro@falco.net.ar\n",
      "Length: 99, dtype: object\n"
     ]
    },
    {
     "name": "stderr",
     "output_type": "stream",
     "text": [
      "\n",
      " 16%|█▌        | 60/384 [10:58<55:43, 10.32s/it]  \u001b[A"
     ]
    },
    {
     "name": "stdout",
     "output_type": "stream",
     "text": [
      "Especialista en Ingeniería en Calidad Done 1            ggcisterna@gmail.com\n",
      "1      sanchogabriela@hotmail.com\n",
      "1          ecalamos@argentina.com\n",
      "4          conghos@hotmail.com.ar\n",
      "5     marianonicola1975@gmail.com\n",
      "                 ...             \n",
      "9       ingenierosendin@gmail.com\n",
      "10      ingenierosendin@gmail.com\n",
      "11      adrianaspagnolo@gmail.com\n",
      "1           lauccordoba@gmail.com\n",
      "2          alejandro@falco.net.ar\n",
      "Length: 99, dtype: object\n"
     ]
    },
    {
     "name": "stderr",
     "output_type": "stream",
     "text": [
      "\n",
      " 16%|█▌        | 61/384 [11:04<50:00,  9.29s/it]\u001b[A"
     ]
    },
    {
     "name": "stdout",
     "output_type": "stream",
     "text": [
      "Especialista en Planificacion Urbana   Done 1            ggcisterna@gmail.com\n",
      "1      sanchogabriela@hotmail.com\n",
      "1          ecalamos@argentina.com\n",
      "4          conghos@hotmail.com.ar\n",
      "5     marianonicola1975@gmail.com\n",
      "                 ...             \n",
      "9       ingenierosendin@gmail.com\n",
      "10      ingenierosendin@gmail.com\n",
      "11      adrianaspagnolo@gmail.com\n",
      "1           lauccordoba@gmail.com\n",
      "2          alejandro@falco.net.ar\n",
      "Length: 99, dtype: object\n"
     ]
    },
    {
     "name": "stderr",
     "output_type": "stream",
     "text": [
      "\n",
      " 16%|█▌        | 62/384 [11:11<44:48,  8.35s/it]\u001b[A"
     ]
    },
    {
     "name": "stdout",
     "output_type": "stream",
     "text": [
      "ESPECIALISTA EN PROTECCIÓN AMBIENTAL Done 1            ggcisterna@gmail.com\n",
      "1      sanchogabriela@hotmail.com\n",
      "1          ecalamos@argentina.com\n",
      "4          conghos@hotmail.com.ar\n",
      "5     marianonicola1975@gmail.com\n",
      "                 ...             \n",
      "9       ingenierosendin@gmail.com\n",
      "10      ingenierosendin@gmail.com\n",
      "11      adrianaspagnolo@gmail.com\n",
      "1           lauccordoba@gmail.com\n",
      "2          alejandro@falco.net.ar\n",
      "Length: 99, dtype: object\n"
     ]
    },
    {
     "name": "stderr",
     "output_type": "stream",
     "text": [
      "\n",
      " 16%|█▋        | 63/384 [11:18<43:06,  8.06s/it]\u001b[A"
     ]
    },
    {
     "name": "stdout",
     "output_type": "stream",
     "text": [
      "ESPECIALISTA EN SEGURIDAD E HIGIENE Done 1            ggcisterna@gmail.com\n",
      "1      sanchogabriela@hotmail.com\n",
      "1          ecalamos@argentina.com\n",
      "4          conghos@hotmail.com.ar\n",
      "5     marianonicola1975@gmail.com\n",
      "                 ...             \n",
      "11      adrianaspagnolo@gmail.com\n",
      "1           lauccordoba@gmail.com\n",
      "2          alejandro@falco.net.ar\n",
      "1       jmgconstrucciones.2@gmail\n",
      "2            mssollazzo@gmail.com\n",
      "Length: 101, dtype: object\n"
     ]
    },
    {
     "name": "stderr",
     "output_type": "stream",
     "text": [
      "\n",
      " 17%|█▋        | 64/384 [11:26<42:30,  7.97s/it]\u001b[A"
     ]
    },
    {
     "name": "stdout",
     "output_type": "stream",
     "text": [
      "ESPECIALISTA EN SEGURIDAD E HIGIENE DEL TRABAJO Done 1           ggcisterna@gmail.com\n",
      "1     sanchogabriela@hotmail.com\n",
      "1         ecalamos@argentina.com\n",
      "4         conghos@hotmail.com.ar\n",
      "5    marianonicola1975@gmail.com\n",
      "                ...             \n",
      "1          lauccordoba@gmail.com\n",
      "2         alejandro@falco.net.ar\n",
      "1      jmgconstrucciones.2@gmail\n",
      "2           mssollazzo@gmail.com\n",
      "1      jmgconstrucciones.2@gmail\n",
      "Length: 102, dtype: object\n"
     ]
    },
    {
     "name": "stderr",
     "output_type": "stream",
     "text": [
      "\n",
      " 17%|█▋        | 65/384 [11:32<40:17,  7.58s/it]\u001b[A"
     ]
    },
    {
     "name": "stdout",
     "output_type": "stream",
     "text": [
      "Especialista en Seguridad e Higiene en el Trabajo Done 1           ggcisterna@gmail.com\n",
      "1     sanchogabriela@hotmail.com\n",
      "1         ecalamos@argentina.com\n",
      "4         conghos@hotmail.com.ar\n",
      "5    marianonicola1975@gmail.com\n",
      "                ...             \n",
      "2         alejandro@falco.net.ar\n",
      "1      jmgconstrucciones.2@gmail\n",
      "2           mssollazzo@gmail.com\n",
      "1      jmgconstrucciones.2@gmail\n",
      "1           mssollazzo@gmail.com\n",
      "Length: 103, dtype: object\n"
     ]
    },
    {
     "name": "stderr",
     "output_type": "stream",
     "text": [
      "\n",
      " 17%|█▋        | 66/384 [11:39<38:48,  7.32s/it]\u001b[A"
     ]
    },
    {
     "name": "stdout",
     "output_type": "stream",
     "text": [
      "Especialista en seguridad en el trabajo agrario Done 1           ggcisterna@gmail.com\n",
      "1     sanchogabriela@hotmail.com\n",
      "1         ecalamos@argentina.com\n",
      "4         conghos@hotmail.com.ar\n",
      "5    marianonicola1975@gmail.com\n",
      "                ...             \n",
      "2         alejandro@falco.net.ar\n",
      "1      jmgconstrucciones.2@gmail\n",
      "2           mssollazzo@gmail.com\n",
      "1      jmgconstrucciones.2@gmail\n",
      "1           mssollazzo@gmail.com\n",
      "Length: 103, dtype: object\n"
     ]
    },
    {
     "name": "stderr",
     "output_type": "stream",
     "text": [
      "\n",
      " 17%|█▋        | 67/384 [11:46<38:09,  7.22s/it]\u001b[A"
     ]
    },
    {
     "name": "stdout",
     "output_type": "stream",
     "text": [
      "Especialista en Seguridad, Higiene y ProtecciÃ³n A Done 1                ggcisterna@gmail.com\n",
      "1          sanchogabriela@hotmail.com\n",
      "1              ecalamos@argentina.com\n",
      "4              conghos@hotmail.com.ar\n",
      "5         marianonicola1975@gmail.com\n",
      "                   ...               \n",
      "1           jmgconstrucciones.2@gmail\n",
      "2                mssollazzo@gmail.com\n",
      "1           jmgconstrucciones.2@gmail\n",
      "1                mssollazzo@gmail.com\n",
      "1    MARIAEUGENIA_MARTIN@YAHOO.COM.AR\n",
      "Length: 104, dtype: object\n"
     ]
    },
    {
     "name": "stderr",
     "output_type": "stream",
     "text": [
      "\n",
      " 18%|█▊        | 68/384 [11:55<40:20,  7.66s/it]\u001b[A"
     ]
    },
    {
     "name": "stdout",
     "output_type": "stream",
     "text": [
      "Especialista en Seguridad, Higiene y Protección Am Done 1                ggcisterna@gmail.com\n",
      "1          sanchogabriela@hotmail.com\n",
      "1              ecalamos@argentina.com\n",
      "4              conghos@hotmail.com.ar\n",
      "5         marianonicola1975@gmail.com\n",
      "                   ...               \n",
      "1           jmgconstrucciones.2@gmail\n",
      "1                mssollazzo@gmail.com\n",
      "1    MARIAEUGENIA_MARTIN@YAHOO.COM.AR\n",
      "1             ars.servicios@gmail.com\n",
      "2                noranievas@gmail.com\n",
      "Length: 106, dtype: object\n"
     ]
    },
    {
     "name": "stderr",
     "output_type": "stream",
     "text": [
      "\n",
      " 18%|█▊        | 69/384 [12:01<37:42,  7.18s/it]\u001b[A"
     ]
    },
    {
     "name": "stdout",
     "output_type": "stream",
     "text": [
      "Especialista en Seguridad,Higiene y Proteccion Amb Done 1                ggcisterna@gmail.com\n",
      "1          sanchogabriela@hotmail.com\n",
      "1              ecalamos@argentina.com\n",
      "4              conghos@hotmail.com.ar\n",
      "5         marianonicola1975@gmail.com\n",
      "                   ...               \n",
      "1           jmgconstrucciones.2@gmail\n",
      "1                mssollazzo@gmail.com\n",
      "1    MARIAEUGENIA_MARTIN@YAHOO.COM.AR\n",
      "1             ars.servicios@gmail.com\n",
      "2                noranievas@gmail.com\n",
      "Length: 106, dtype: object\n"
     ]
    },
    {
     "name": "stderr",
     "output_type": "stream",
     "text": [
      "\n",
      " 18%|█▊        | 70/384 [12:09<39:24,  7.53s/it]\u001b[A"
     ]
    },
    {
     "name": "stdout",
     "output_type": "stream",
     "text": [
      "ESPECIALISTA HIGIENE Y SEGURIDAD EN EL TRABAJO Done 1                ggcisterna@gmail.com\n",
      "1          sanchogabriela@hotmail.com\n",
      "1              ecalamos@argentina.com\n",
      "4              conghos@hotmail.com.ar\n",
      "5         marianonicola1975@gmail.com\n",
      "                   ...               \n",
      "1                mssollazzo@gmail.com\n",
      "1    MARIAEUGENIA_MARTIN@YAHOO.COM.AR\n",
      "1             ars.servicios@gmail.com\n",
      "2                noranievas@gmail.com\n",
      "1                edelaplaza@gmail.com\n",
      "Length: 107, dtype: object\n"
     ]
    },
    {
     "name": "stderr",
     "output_type": "stream",
     "text": [
      "\n",
      " 18%|█▊        | 71/384 [12:15<37:12,  7.13s/it]\u001b[A"
     ]
    },
    {
     "name": "stdout",
     "output_type": "stream",
     "text": [
      "Especialista medio ambiente y contaminación de eco Done 1                ggcisterna@gmail.com\n",
      "1          sanchogabriela@hotmail.com\n",
      "1              ecalamos@argentina.com\n",
      "4              conghos@hotmail.com.ar\n",
      "5         marianonicola1975@gmail.com\n",
      "                   ...               \n",
      "1                mssollazzo@gmail.com\n",
      "1    MARIAEUGENIA_MARTIN@YAHOO.COM.AR\n",
      "1             ars.servicios@gmail.com\n",
      "2                noranievas@gmail.com\n",
      "1                edelaplaza@gmail.com\n",
      "Length: 107, dtype: object\n"
     ]
    },
    {
     "name": "stderr",
     "output_type": "stream",
     "text": [
      "\n",
      " 19%|█▉        | 72/384 [12:22<36:20,  6.99s/it]\u001b[A"
     ]
    },
    {
     "name": "stdout",
     "output_type": "stream",
     "text": [
      "Especialización en Ciencias Químicas y Ambiente Done 1                ggcisterna@gmail.com\n",
      "1          sanchogabriela@hotmail.com\n",
      "1              ecalamos@argentina.com\n",
      "4              conghos@hotmail.com.ar\n",
      "5         marianonicola1975@gmail.com\n",
      "                   ...               \n",
      "1    MARIAEUGENIA_MARTIN@YAHOO.COM.AR\n",
      "1             ars.servicios@gmail.com\n",
      "2                noranievas@gmail.com\n",
      "1                edelaplaza@gmail.com\n",
      "1                alejandrolucini@mijo\n",
      "Length: 108, dtype: object\n"
     ]
    },
    {
     "name": "stderr",
     "output_type": "stream",
     "text": [
      "\n",
      " 19%|█▉        | 73/384 [12:28<35:14,  6.80s/it]\u001b[A"
     ]
    },
    {
     "name": "stdout",
     "output_type": "stream",
     "text": [
      "Especializacion en Desarrollo Sustentable Done 1                ggcisterna@gmail.com\n",
      "1          sanchogabriela@hotmail.com\n",
      "1              ecalamos@argentina.com\n",
      "4              conghos@hotmail.com.ar\n",
      "5         marianonicola1975@gmail.com\n",
      "                   ...               \n",
      "1    MARIAEUGENIA_MARTIN@YAHOO.COM.AR\n",
      "1             ars.servicios@gmail.com\n",
      "2                noranievas@gmail.com\n",
      "1                edelaplaza@gmail.com\n",
      "1                alejandrolucini@mijo\n",
      "Length: 108, dtype: object\n"
     ]
    },
    {
     "name": "stderr",
     "output_type": "stream",
     "text": [
      "\n",
      " 19%|█▉        | 74/384 [12:36<36:03,  6.98s/it]\u001b[A"
     ]
    },
    {
     "name": "stdout",
     "output_type": "stream",
     "text": [
      "ESPECIALIZACION EN EVALUACION DEL IMPACTO AMBIENTA Done 1                ggcisterna@gmail.com\n",
      "1          sanchogabriela@hotmail.com\n",
      "1              ecalamos@argentina.com\n",
      "4              conghos@hotmail.com.ar\n",
      "5         marianonicola1975@gmail.com\n",
      "                   ...               \n",
      "1    MARIAEUGENIA_MARTIN@YAHOO.COM.AR\n",
      "1             ars.servicios@gmail.com\n",
      "2                noranievas@gmail.com\n",
      "1                edelaplaza@gmail.com\n",
      "1                alejandrolucini@mijo\n",
      "Length: 108, dtype: object\n"
     ]
    },
    {
     "name": "stderr",
     "output_type": "stream",
     "text": [
      "\n",
      " 20%|█▉        | 75/384 [12:44<37:17,  7.24s/it]\u001b[A"
     ]
    },
    {
     "name": "stdout",
     "output_type": "stream",
     "text": [
      "Especializacion en Higiene  y Seg. en el Trabajo Done 1                ggcisterna@gmail.com\n",
      "1          sanchogabriela@hotmail.com\n",
      "1              ecalamos@argentina.com\n",
      "4              conghos@hotmail.com.ar\n",
      "5         marianonicola1975@gmail.com\n",
      "                   ...               \n",
      "1    MARIAEUGENIA_MARTIN@YAHOO.COM.AR\n",
      "1             ars.servicios@gmail.com\n",
      "2                noranievas@gmail.com\n",
      "1                edelaplaza@gmail.com\n",
      "1                alejandrolucini@mijo\n",
      "Length: 108, dtype: object\n"
     ]
    },
    {
     "name": "stderr",
     "output_type": "stream",
     "text": [
      "\n",
      " 20%|█▉        | 76/384 [12:51<36:50,  7.18s/it]\u001b[A"
     ]
    },
    {
     "name": "stdout",
     "output_type": "stream",
     "text": [
      "ESPECIALIZACION EN HIGIENE Y SEGURIDAD EN EL TRABA Done 1                ggcisterna@gmail.com\n",
      "1          sanchogabriela@hotmail.com\n",
      "1              ecalamos@argentina.com\n",
      "4              conghos@hotmail.com.ar\n",
      "5         marianonicola1975@gmail.com\n",
      "                   ...               \n",
      "1    MARIAEUGENIA_MARTIN@YAHOO.COM.AR\n",
      "1             ars.servicios@gmail.com\n",
      "2                noranievas@gmail.com\n",
      "1                edelaplaza@gmail.com\n",
      "1                alejandrolucini@mijo\n",
      "Length: 108, dtype: object\n"
     ]
    },
    {
     "name": "stderr",
     "output_type": "stream",
     "text": [
      "\n",
      " 20%|██        | 77/384 [12:58<36:26,  7.12s/it]\u001b[A"
     ]
    },
    {
     "name": "stdout",
     "output_type": "stream",
     "text": [
      "Farmaceutica Especialista en Esterilización Done 1                ggcisterna@gmail.com\n",
      "1          sanchogabriela@hotmail.com\n",
      "1              ecalamos@argentina.com\n",
      "4              conghos@hotmail.com.ar\n",
      "5         marianonicola1975@gmail.com\n",
      "                   ...               \n",
      "1    MARIAEUGENIA_MARTIN@YAHOO.COM.AR\n",
      "1             ars.servicios@gmail.com\n",
      "2                noranievas@gmail.com\n",
      "1                edelaplaza@gmail.com\n",
      "1                alejandrolucini@mijo\n",
      "Length: 108, dtype: object\n"
     ]
    },
    {
     "name": "stderr",
     "output_type": "stream",
     "text": [
      "\n",
      " 20%|██        | 78/384 [13:07<39:38,  7.77s/it]\u001b[A"
     ]
    },
    {
     "name": "stdout",
     "output_type": "stream",
     "text": [
      "Farmaceutico Done 1                ggcisterna@gmail.com\n",
      "1          sanchogabriela@hotmail.com\n",
      "1              ecalamos@argentina.com\n",
      "4              conghos@hotmail.com.ar\n",
      "5         marianonicola1975@gmail.com\n",
      "                   ...               \n",
      "1    MARIAEUGENIA_MARTIN@YAHOO.COM.AR\n",
      "1             ars.servicios@gmail.com\n",
      "2                noranievas@gmail.com\n",
      "1                edelaplaza@gmail.com\n",
      "1                alejandrolucini@mijo\n",
      "Length: 108, dtype: object\n"
     ]
    },
    {
     "name": "stderr",
     "output_type": "stream",
     "text": [
      "\n",
      " 21%|██        | 79/384 [13:14<39:06,  7.69s/it]\u001b[A"
     ]
    },
    {
     "name": "stdout",
     "output_type": "stream",
     "text": [
      "Geofísico Done 1                ggcisterna@gmail.com\n",
      "1          sanchogabriela@hotmail.com\n",
      "1              ecalamos@argentina.com\n",
      "4              conghos@hotmail.com.ar\n",
      "5         marianonicola1975@gmail.com\n",
      "                   ...               \n",
      "1    MARIAEUGENIA_MARTIN@YAHOO.COM.AR\n",
      "1             ars.servicios@gmail.com\n",
      "2                noranievas@gmail.com\n",
      "1                edelaplaza@gmail.com\n",
      "1                alejandrolucini@mijo\n",
      "Length: 108, dtype: object\n"
     ]
    },
    {
     "name": "stderr",
     "output_type": "stream",
     "text": [
      "\n",
      " 21%|██        | 80/384 [14:39<2:35:50, 30.76s/it]\u001b[A"
     ]
    },
    {
     "name": "stdout",
     "output_type": "stream",
     "text": [
      "Geólogo Done 1            ggcisterna@gmail.com\n",
      "1      sanchogabriela@hotmail.com\n",
      "1          ecalamos@argentina.com\n",
      "4          conghos@hotmail.com.ar\n",
      "5     marianonicola1975@gmail.com\n",
      "                 ...             \n",
      "17             perera@hidroar.com\n",
      "20       geologotimon@hotmail.com\n",
      "22     hugovidili@fibertel.com.ar\n",
      "23      villalbaha@infovia.com.ar\n",
      "25              jwgeo@hotmail.com\n",
      "Length: 125, dtype: object\n"
     ]
    },
    {
     "name": "stderr",
     "output_type": "stream",
     "text": [
      "\n",
      " 21%|██        | 81/384 [14:48<2:02:51, 24.33s/it]\u001b[A"
     ]
    },
    {
     "name": "stdout",
     "output_type": "stream",
     "text": [
      "Geoquímico Done 1            ggcisterna@gmail.com\n",
      "1      sanchogabriela@hotmail.com\n",
      "1          ecalamos@argentina.com\n",
      "4          conghos@hotmail.com.ar\n",
      "5     marianonicola1975@gmail.com\n",
      "                 ...             \n",
      "17             perera@hidroar.com\n",
      "20       geologotimon@hotmail.com\n",
      "22     hugovidili@fibertel.com.ar\n",
      "23      villalbaha@infovia.com.ar\n",
      "25              jwgeo@hotmail.com\n",
      "Length: 125, dtype: object\n"
     ]
    },
    {
     "name": "stderr",
     "output_type": "stream",
     "text": [
      "\n",
      " 21%|██▏       | 82/384 [14:55<1:35:46, 19.03s/it]\u001b[A"
     ]
    },
    {
     "name": "stdout",
     "output_type": "stream",
     "text": [
      "Hidrologia Ambiental Done 1            ggcisterna@gmail.com\n",
      "1      sanchogabriela@hotmail.com\n",
      "1          ecalamos@argentina.com\n",
      "4          conghos@hotmail.com.ar\n",
      "5     marianonicola1975@gmail.com\n",
      "                 ...             \n",
      "20       geologotimon@hotmail.com\n",
      "22     hugovidili@fibertel.com.ar\n",
      "23      villalbaha@infovia.com.ar\n",
      "25              jwgeo@hotmail.com\n",
      "1         enriquehopman@gmail.com\n",
      "Length: 126, dtype: object\n"
     ]
    },
    {
     "name": "stderr",
     "output_type": "stream",
     "text": [
      "\n",
      " 22%|██▏       | 83/384 [15:00<1:14:37, 14.88s/it]\u001b[A"
     ]
    },
    {
     "name": "stdout",
     "output_type": "stream",
     "text": [
      "HIGIENE Y SEGURIDAD DEN EL TRABAJO Done 1            ggcisterna@gmail.com\n",
      "1      sanchogabriela@hotmail.com\n",
      "1          ecalamos@argentina.com\n",
      "4          conghos@hotmail.com.ar\n",
      "5     marianonicola1975@gmail.com\n",
      "                 ...             \n",
      "20       geologotimon@hotmail.com\n",
      "22     hugovidili@fibertel.com.ar\n",
      "23      villalbaha@infovia.com.ar\n",
      "25              jwgeo@hotmail.com\n",
      "1         enriquehopman@gmail.com\n",
      "Length: 126, dtype: object\n"
     ]
    },
    {
     "name": "stderr",
     "output_type": "stream",
     "text": [
      "\n",
      " 22%|██▏       | 84/384 [15:07<1:02:10, 12.43s/it]\u001b[A"
     ]
    },
    {
     "name": "stdout",
     "output_type": "stream",
     "text": [
      "Higiene y Seguridad en el Trabajo y Medio Ambiente Done 1            ggcisterna@gmail.com\n",
      "1      sanchogabriela@hotmail.com\n",
      "1          ecalamos@argentina.com\n",
      "4          conghos@hotmail.com.ar\n",
      "5     marianonicola1975@gmail.com\n",
      "                 ...             \n",
      "23      villalbaha@infovia.com.ar\n",
      "25              jwgeo@hotmail.com\n",
      "1         enriquehopman@gmail.com\n",
      "1           earmanini@hotmail.com\n",
      "2           earmanini@hotmail.com\n",
      "Length: 128, dtype: object\n"
     ]
    },
    {
     "name": "stderr",
     "output_type": "stream",
     "text": [
      "\n",
      " 22%|██▏       | 85/384 [15:13<52:24, 10.52s/it]  \u001b[A"
     ]
    },
    {
     "name": "stdout",
     "output_type": "stream",
     "text": [
      "Iing. laboral  y especialista en hig y seg Done 1            ggcisterna@gmail.com\n",
      "1      sanchogabriela@hotmail.com\n",
      "1          ecalamos@argentina.com\n",
      "4          conghos@hotmail.com.ar\n",
      "5     marianonicola1975@gmail.com\n",
      "                 ...             \n",
      "23      villalbaha@infovia.com.ar\n",
      "25              jwgeo@hotmail.com\n",
      "1         enriquehopman@gmail.com\n",
      "1           earmanini@hotmail.com\n",
      "2           earmanini@hotmail.com\n",
      "Length: 128, dtype: object\n"
     ]
    },
    {
     "name": "stderr",
     "output_type": "stream",
     "text": [
      "\n",
      " 22%|██▏       | 86/384 [15:19<46:05,  9.28s/it]\u001b[A"
     ]
    },
    {
     "name": "stdout",
     "output_type": "stream",
     "text": [
      "Ing industrial y espec en ing amb Done 1            ggcisterna@gmail.com\n",
      "1      sanchogabriela@hotmail.com\n",
      "1          ecalamos@argentina.com\n",
      "4          conghos@hotmail.com.ar\n",
      "5     marianonicola1975@gmail.com\n",
      "                 ...             \n",
      "23      villalbaha@infovia.com.ar\n",
      "25              jwgeo@hotmail.com\n",
      "1         enriquehopman@gmail.com\n",
      "1           earmanini@hotmail.com\n",
      "2           earmanini@hotmail.com\n",
      "Length: 128, dtype: object\n"
     ]
    },
    {
     "name": "stderr",
     "output_type": "stream",
     "text": [
      "\n",
      " 23%|██▎       | 87/384 [15:26<42:01,  8.49s/it]\u001b[A"
     ]
    },
    {
     "name": "stdout",
     "output_type": "stream",
     "text": [
      "ING. Electricista con Orientación Electronica Done 1            ggcisterna@gmail.com\n",
      "1      sanchogabriela@hotmail.com\n",
      "1          ecalamos@argentina.com\n",
      "4          conghos@hotmail.com.ar\n",
      "5     marianonicola1975@gmail.com\n",
      "                 ...             \n",
      "23      villalbaha@infovia.com.ar\n",
      "25              jwgeo@hotmail.com\n",
      "1         enriquehopman@gmail.com\n",
      "1           earmanini@hotmail.com\n",
      "2           earmanini@hotmail.com\n",
      "Length: 128, dtype: object\n"
     ]
    },
    {
     "name": "stderr",
     "output_type": "stream",
     "text": [
      "\n",
      " 23%|██▎       | 88/384 [15:32<37:28,  7.60s/it]\u001b[A"
     ]
    },
    {
     "name": "stdout",
     "output_type": "stream",
     "text": [
      "ING. EN ELECTRONICA Done 1            ggcisterna@gmail.com\n",
      "1      sanchogabriela@hotmail.com\n",
      "1          ecalamos@argentina.com\n",
      "4          conghos@hotmail.com.ar\n",
      "5     marianonicola1975@gmail.com\n",
      "                 ...             \n",
      "23      villalbaha@infovia.com.ar\n",
      "25              jwgeo@hotmail.com\n",
      "1         enriquehopman@gmail.com\n",
      "1           earmanini@hotmail.com\n",
      "2           earmanini@hotmail.com\n",
      "Length: 128, dtype: object\n"
     ]
    },
    {
     "name": "stderr",
     "output_type": "stream",
     "text": [
      "\n",
      " 23%|██▎       | 89/384 [15:52<55:50, 11.36s/it]\u001b[A"
     ]
    },
    {
     "name": "stdout",
     "output_type": "stream",
     "text": [
      "ING. INDUSTRIAL Done 1            ggcisterna@gmail.com\n",
      "1      sanchogabriela@hotmail.com\n",
      "1          ecalamos@argentina.com\n",
      "4          conghos@hotmail.com.ar\n",
      "5     marianonicola1975@gmail.com\n",
      "                 ...             \n",
      "9            mrosso@ceamse.gov.ar\n",
      "10           dariosalvo@gmail.com\n",
      "11     ingjaviertaboada@gmail.com\n",
      "12         teyssan269@hotmail.com\n",
      "13        gustavowilder@gmail.com\n",
      "Length: 140, dtype: object\n"
     ]
    },
    {
     "name": "stderr",
     "output_type": "stream",
     "text": [
      "\n",
      " 23%|██▎       | 90/384 [15:59<49:16, 10.06s/it]\u001b[A"
     ]
    },
    {
     "name": "stdout",
     "output_type": "stream",
     "text": [
      "Ing. metalurgico Done 1            ggcisterna@gmail.com\n",
      "1      sanchogabriela@hotmail.com\n",
      "1          ecalamos@argentina.com\n",
      "4          conghos@hotmail.com.ar\n",
      "5     marianonicola1975@gmail.com\n",
      "                 ...             \n",
      "9            mrosso@ceamse.gov.ar\n",
      "10           dariosalvo@gmail.com\n",
      "11     ingjaviertaboada@gmail.com\n",
      "12         teyssan269@hotmail.com\n",
      "13        gustavowilder@gmail.com\n",
      "Length: 140, dtype: object\n"
     ]
    },
    {
     "name": "stderr",
     "output_type": "stream",
     "text": [
      "\n",
      " 24%|██▎       | 91/384 [16:04<42:13,  8.65s/it]\u001b[A"
     ]
    },
    {
     "name": "stdout",
     "output_type": "stream",
     "text": [
      "ING. TELEC., ELECT. Y COMPUTACION Done 1            ggcisterna@gmail.com\n",
      "1      sanchogabriela@hotmail.com\n",
      "1          ecalamos@argentina.com\n",
      "4          conghos@hotmail.com.ar\n",
      "5     marianonicola1975@gmail.com\n",
      "                 ...             \n",
      "9            mrosso@ceamse.gov.ar\n",
      "10           dariosalvo@gmail.com\n",
      "11     ingjaviertaboada@gmail.com\n",
      "12         teyssan269@hotmail.com\n",
      "13        gustavowilder@gmail.com\n",
      "Length: 140, dtype: object\n"
     ]
    },
    {
     "name": "stderr",
     "output_type": "stream",
     "text": [
      "\n",
      " 24%|██▍       | 92/384 [16:10<38:37,  7.94s/it]\u001b[A"
     ]
    },
    {
     "name": "stdout",
     "output_type": "stream",
     "text": [
      "ING.QUIMICA Y ESPECIALISTA EN INGENIERÍA AMBIENTAL Done 1            ggcisterna@gmail.com\n",
      "1      sanchogabriela@hotmail.com\n",
      "1          ecalamos@argentina.com\n",
      "4          conghos@hotmail.com.ar\n",
      "5     marianonicola1975@gmail.com\n",
      "                 ...             \n",
      "9            mrosso@ceamse.gov.ar\n",
      "10           dariosalvo@gmail.com\n",
      "11     ingjaviertaboada@gmail.com\n",
      "12         teyssan269@hotmail.com\n",
      "13        gustavowilder@gmail.com\n",
      "Length: 140, dtype: object\n"
     ]
    },
    {
     "name": "stderr",
     "output_type": "stream",
     "text": [
      "\n",
      " 24%|██▍       | 93/384 [16:22<44:36,  9.20s/it]\u001b[A"
     ]
    },
    {
     "name": "stdout",
     "output_type": "stream",
     "text": [
      "INGENIERA  CIVIL Done 1            ggcisterna@gmail.com\n",
      "1      sanchogabriela@hotmail.com\n",
      "1          ecalamos@argentina.com\n",
      "4          conghos@hotmail.com.ar\n",
      "5     marianonicola1975@gmail.com\n",
      "                 ...             \n",
      "12         teyssan269@hotmail.com\n",
      "13        gustavowilder@gmail.com\n",
      "1               sfiotto@gmail.com\n",
      "2       jmgconstrucciones.2@gmail\n",
      "3         mgonzal@frbb.utn.edu.ar\n",
      "Length: 143, dtype: object\n"
     ]
    },
    {
     "name": "stderr",
     "output_type": "stream",
     "text": [
      "\n",
      " 24%|██▍       | 94/384 [16:30<41:28,  8.58s/it]\u001b[A"
     ]
    },
    {
     "name": "stdout",
     "output_type": "stream",
     "text": [
      "INGENIERA AGROINDUSTRIAL Done 1            ggcisterna@gmail.com\n",
      "1      sanchogabriela@hotmail.com\n",
      "1          ecalamos@argentina.com\n",
      "4          conghos@hotmail.com.ar\n",
      "5     marianonicola1975@gmail.com\n",
      "                 ...             \n",
      "12         teyssan269@hotmail.com\n",
      "13        gustavowilder@gmail.com\n",
      "1               sfiotto@gmail.com\n",
      "2       jmgconstrucciones.2@gmail\n",
      "3         mgonzal@frbb.utn.edu.ar\n",
      "Length: 143, dtype: object\n"
     ]
    },
    {
     "name": "stderr",
     "output_type": "stream",
     "text": [
      "\n",
      " 25%|██▍       | 95/384 [16:37<39:00,  8.10s/it]\u001b[A"
     ]
    },
    {
     "name": "stdout",
     "output_type": "stream",
     "text": [
      "INGENIERA AGRONOMA Done 1            ggcisterna@gmail.com\n",
      "1      sanchogabriela@hotmail.com\n",
      "1          ecalamos@argentina.com\n",
      "4          conghos@hotmail.com.ar\n",
      "5     marianonicola1975@gmail.com\n",
      "                 ...             \n",
      "12         teyssan269@hotmail.com\n",
      "13        gustavowilder@gmail.com\n",
      "1               sfiotto@gmail.com\n",
      "2       jmgconstrucciones.2@gmail\n",
      "3         mgonzal@frbb.utn.edu.ar\n",
      "Length: 143, dtype: object\n"
     ]
    },
    {
     "name": "stderr",
     "output_type": "stream",
     "text": [
      "\n",
      " 25%|██▌       | 96/384 [16:43<36:43,  7.65s/it]\u001b[A"
     ]
    },
    {
     "name": "stdout",
     "output_type": "stream",
     "text": [
      "INGENIERA AMB. Y SANITARIA Done 1            ggcisterna@gmail.com\n",
      "1      sanchogabriela@hotmail.com\n",
      "1          ecalamos@argentina.com\n",
      "4          conghos@hotmail.com.ar\n",
      "5     marianonicola1975@gmail.com\n",
      "                 ...             \n",
      "12         teyssan269@hotmail.com\n",
      "13        gustavowilder@gmail.com\n",
      "1               sfiotto@gmail.com\n",
      "2       jmgconstrucciones.2@gmail\n",
      "3         mgonzal@frbb.utn.edu.ar\n",
      "Length: 143, dtype: object\n"
     ]
    },
    {
     "name": "stderr",
     "output_type": "stream",
     "text": [
      "\n",
      " 25%|██▌       | 97/384 [16:57<44:58,  9.40s/it]\u001b[A"
     ]
    },
    {
     "name": "stdout",
     "output_type": "stream",
     "text": [
      "INGENIERA AMBIENTAL Done 1             ggcisterna@gmail.com\n",
      "1       sanchogabriela@hotmail.com\n",
      "1           ecalamos@argentina.com\n",
      "4           conghos@hotmail.com.ar\n",
      "5      marianonicola1975@gmail.com\n",
      "                 ...              \n",
      "2        jmgconstrucciones.2@gmail\n",
      "3          mgonzal@frbb.utn.edu.ar\n",
      "1       josefinaaristain@gmail.com\n",
      "2    mauro_constantino@hotmail.com\n",
      "4      micaelalambertini@gmail.com\n",
      "Length: 146, dtype: object\n"
     ]
    },
    {
     "name": "stderr",
     "output_type": "stream",
     "text": [
      "\n",
      " 26%|██▌       | 98/384 [17:04<41:16,  8.66s/it]\u001b[A"
     ]
    },
    {
     "name": "stdout",
     "output_type": "stream",
     "text": [
      "INGENIERA CIVIL Done 1             ggcisterna@gmail.com\n",
      "1       sanchogabriela@hotmail.com\n",
      "1           ecalamos@argentina.com\n",
      "4           conghos@hotmail.com.ar\n",
      "5      marianonicola1975@gmail.com\n",
      "                 ...              \n",
      "2        jmgconstrucciones.2@gmail\n",
      "3          mgonzal@frbb.utn.edu.ar\n",
      "1       josefinaaristain@gmail.com\n",
      "2    mauro_constantino@hotmail.com\n",
      "4      micaelalambertini@gmail.com\n",
      "Length: 146, dtype: object\n"
     ]
    },
    {
     "name": "stderr",
     "output_type": "stream",
     "text": [
      "\n",
      " 26%|██▌       | 99/384 [17:10<37:56,  7.99s/it]\u001b[A"
     ]
    },
    {
     "name": "stdout",
     "output_type": "stream",
     "text": [
      "INGENIERA EN ALIMENTOS Done 1             ggcisterna@gmail.com\n",
      "1       sanchogabriela@hotmail.com\n",
      "1           ecalamos@argentina.com\n",
      "4           conghos@hotmail.com.ar\n",
      "5      marianonicola1975@gmail.com\n",
      "                 ...              \n",
      "2        jmgconstrucciones.2@gmail\n",
      "3          mgonzal@frbb.utn.edu.ar\n",
      "1       josefinaaristain@gmail.com\n",
      "2    mauro_constantino@hotmail.com\n",
      "4      micaelalambertini@gmail.com\n",
      "Length: 146, dtype: object\n"
     ]
    },
    {
     "name": "stderr",
     "output_type": "stream",
     "text": [
      "\n",
      " 26%|██▌       | 100/384 [17:19<39:20,  8.31s/it]\u001b[A"
     ]
    },
    {
     "name": "stdout",
     "output_type": "stream",
     "text": [
      "Ingeniera en Ecologia Done 1             ggcisterna@gmail.com\n",
      "1       sanchogabriela@hotmail.com\n",
      "1           ecalamos@argentina.com\n",
      "4           conghos@hotmail.com.ar\n",
      "5      marianonicola1975@gmail.com\n",
      "                 ...              \n",
      "1       josefinaaristain@gmail.com\n",
      "2    mauro_constantino@hotmail.com\n",
      "4      micaelalambertini@gmail.com\n",
      "1         paolapaterno75@gmail.com\n",
      "2       florencia.poggio@gmail.com\n",
      "Length: 148, dtype: object\n"
     ]
    },
    {
     "name": "stderr",
     "output_type": "stream",
     "text": [
      "\n",
      " 26%|██▋       | 101/384 [17:26<36:45,  7.80s/it]\u001b[A"
     ]
    },
    {
     "name": "stdout",
     "output_type": "stream",
     "text": [
      "Ingeniera en Recursos Naturales y Medio Ambiente Done 1             ggcisterna@gmail.com\n",
      "1       sanchogabriela@hotmail.com\n",
      "1           ecalamos@argentina.com\n",
      "4           conghos@hotmail.com.ar\n",
      "5      marianonicola1975@gmail.com\n",
      "                 ...              \n",
      "1       josefinaaristain@gmail.com\n",
      "2    mauro_constantino@hotmail.com\n",
      "4      micaelalambertini@gmail.com\n",
      "1         paolapaterno75@gmail.com\n",
      "2       florencia.poggio@gmail.com\n",
      "Length: 148, dtype: object\n"
     ]
    },
    {
     "name": "stderr",
     "output_type": "stream",
     "text": [
      "\n",
      " 27%|██▋       | 102/384 [17:32<35:13,  7.50s/it]\u001b[A"
     ]
    },
    {
     "name": "stdout",
     "output_type": "stream",
     "text": [
      "INGENIERA HIDRAULICA Done 1             ggcisterna@gmail.com\n",
      "1       sanchogabriela@hotmail.com\n",
      "1           ecalamos@argentina.com\n",
      "4           conghos@hotmail.com.ar\n",
      "5      marianonicola1975@gmail.com\n",
      "                 ...              \n",
      "1       josefinaaristain@gmail.com\n",
      "2    mauro_constantino@hotmail.com\n",
      "4      micaelalambertini@gmail.com\n",
      "1         paolapaterno75@gmail.com\n",
      "2       florencia.poggio@gmail.com\n",
      "Length: 148, dtype: object\n"
     ]
    },
    {
     "name": "stderr",
     "output_type": "stream",
     "text": [
      "\n",
      " 27%|██▋       | 103/384 [17:41<36:30,  7.80s/it]\u001b[A"
     ]
    },
    {
     "name": "stdout",
     "output_type": "stream",
     "text": [
      "INGENIERA INDUSTRIAL Done 1             ggcisterna@gmail.com\n",
      "1       sanchogabriela@hotmail.com\n",
      "1           ecalamos@argentina.com\n",
      "4           conghos@hotmail.com.ar\n",
      "5      marianonicola1975@gmail.com\n",
      "                 ...              \n",
      "1       josefinaaristain@gmail.com\n",
      "2    mauro_constantino@hotmail.com\n",
      "4      micaelalambertini@gmail.com\n",
      "1         paolapaterno75@gmail.com\n",
      "2       florencia.poggio@gmail.com\n",
      "Length: 148, dtype: object\n"
     ]
    },
    {
     "name": "stderr",
     "output_type": "stream",
     "text": [
      "\n",
      " 27%|██▋       | 104/384 [17:48<35:46,  7.67s/it]\u001b[A"
     ]
    },
    {
     "name": "stdout",
     "output_type": "stream",
     "text": [
      "INGENIERA LABORAL Done 1             ggcisterna@gmail.com\n",
      "1       sanchogabriela@hotmail.com\n",
      "1           ecalamos@argentina.com\n",
      "4           conghos@hotmail.com.ar\n",
      "5      marianonicola1975@gmail.com\n",
      "                 ...              \n",
      "2    mauro_constantino@hotmail.com\n",
      "4      micaelalambertini@gmail.com\n",
      "1         paolapaterno75@gmail.com\n",
      "2       florencia.poggio@gmail.com\n",
      "2        osvaldoscian@yahoo.com.ar\n",
      "Length: 149, dtype: object\n"
     ]
    },
    {
     "name": "stderr",
     "output_type": "stream",
     "text": [
      "\n",
      " 27%|██▋       | 105/384 [18:01<42:16,  9.09s/it]\u001b[A"
     ]
    },
    {
     "name": "stdout",
     "output_type": "stream",
     "text": [
      "INGENIERA QUIMICA Done 1                  ggcisterna@gmail.com\n",
      "1            sanchogabriela@hotmail.com\n",
      "1                ecalamos@argentina.com\n",
      "4                conghos@hotmail.com.ar\n",
      "5           marianonicola1975@gmail.com\n",
      "                    ...                \n",
      "4    danilo.lozada@ar.bureauveritas.com\n",
      "5                camazzini@yahoo.com.ar\n",
      "6       mariagianninapastor@hotmail.com\n",
      "7                  ppingitore@gmail.com\n",
      "9                MPRAUSCHE@YAHOO.COM.AR\n",
      "Length: 157, dtype: object\n"
     ]
    },
    {
     "name": "stderr",
     "output_type": "stream",
     "text": [
      "\n",
      " 28%|██▊       | 106/384 [18:07<38:28,  8.30s/it]\u001b[A"
     ]
    },
    {
     "name": "stdout",
     "output_type": "stream",
     "text": [
      "INGENIERA ZOOTECNISTA  Done 1                  ggcisterna@gmail.com\n",
      "1            sanchogabriela@hotmail.com\n",
      "1                ecalamos@argentina.com\n",
      "4                conghos@hotmail.com.ar\n",
      "5           marianonicola1975@gmail.com\n",
      "                    ...                \n",
      "4    danilo.lozada@ar.bureauveritas.com\n",
      "5                camazzini@yahoo.com.ar\n",
      "6       mariagianninapastor@hotmail.com\n",
      "7                  ppingitore@gmail.com\n",
      "9                MPRAUSCHE@YAHOO.COM.AR\n",
      "Length: 157, dtype: object\n"
     ]
    },
    {
     "name": "stderr",
     "output_type": "stream",
     "text": [
      "\n",
      " 28%|██▊       | 107/384 [18:17<40:00,  8.67s/it]\u001b[A"
     ]
    },
    {
     "name": "stdout",
     "output_type": "stream",
     "text": [
      "Ingeniería en Seguridad Ambiental Done 1               ggcisterna@gmail.com\n",
      "1         sanchogabriela@hotmail.com\n",
      "1             ecalamos@argentina.com\n",
      "4             conghos@hotmail.com.ar\n",
      "5        marianonicola1975@gmail.com\n",
      "                  ...               \n",
      "7               ppingitore@gmail.com\n",
      "9             MPRAUSCHE@YAHOO.COM.AR\n",
      "1               amihoc@edesur.com.ar\n",
      "2    MARCELO.ANINO@AUSTRALTUB.COM.AR\n",
      "3               jpporterie@gmail.com\n",
      "Length: 160, dtype: object\n"
     ]
    },
    {
     "name": "stderr",
     "output_type": "stream",
     "text": [
      "\n",
      " 28%|██▊       | 108/384 [18:24<38:23,  8.35s/it]\u001b[A"
     ]
    },
    {
     "name": "stdout",
     "output_type": "stream",
     "text": [
      "Ingenieria Sanitaria Done 1               ggcisterna@gmail.com\n",
      "1         sanchogabriela@hotmail.com\n",
      "1             ecalamos@argentina.com\n",
      "4             conghos@hotmail.com.ar\n",
      "5        marianonicola1975@gmail.com\n",
      "                  ...               \n",
      "7               ppingitore@gmail.com\n",
      "9             MPRAUSCHE@YAHOO.COM.AR\n",
      "1               amihoc@edesur.com.ar\n",
      "2    MARCELO.ANINO@AUSTRALTUB.COM.AR\n",
      "3               jpporterie@gmail.com\n",
      "Length: 160, dtype: object\n"
     ]
    },
    {
     "name": "stderr",
     "output_type": "stream",
     "text": [
      "\n",
      " 28%|██▊       | 109/384 [18:35<40:51,  8.91s/it]\u001b[A"
     ]
    },
    {
     "name": "stdout",
     "output_type": "stream",
     "text": [
      "Ingeniero  en Alimentos Done 1               ggcisterna@gmail.com\n",
      "1         sanchogabriela@hotmail.com\n",
      "1             ecalamos@argentina.com\n",
      "4             conghos@hotmail.com.ar\n",
      "5        marianonicola1975@gmail.com\n",
      "                  ...               \n",
      "2    MARCELO.ANINO@AUSTRALTUB.COM.AR\n",
      "3               jpporterie@gmail.com\n",
      "1      alonsojuanignacio@hotmail.com\n",
      "2       MANUELENRIQUEZ84@HOTMAIL.COM\n",
      "4                 mourea@hotmail.com\n",
      "Length: 163, dtype: object\n"
     ]
    },
    {
     "name": "stderr",
     "output_type": "stream",
     "text": [
      "\n",
      " 29%|██▊       | 110/384 [18:44<40:50,  8.94s/it]\u001b[A"
     ]
    },
    {
     "name": "stdout",
     "output_type": "stream",
     "text": [
      "INGENIERO AERONAUTICO Done 1            ggcisterna@gmail.com\n",
      "1      sanchogabriela@hotmail.com\n",
      "1          ecalamos@argentina.com\n",
      "4          conghos@hotmail.com.ar\n",
      "5     marianonicola1975@gmail.com\n",
      "                 ...             \n",
      "2    MANUELENRIQUEZ84@HOTMAIL.COM\n",
      "4              mourea@hotmail.com\n",
      "1            myjpuen@yahoo.com.ar\n",
      "2            myjpuen@yahoo.com.ar\n",
      "3             JRAPOSO@HOTMAIL.COM\n",
      "Length: 166, dtype: object\n"
     ]
    },
    {
     "name": "stderr",
     "output_type": "stream",
     "text": [
      "\n",
      " 29%|██▉       | 111/384 [18:56<45:10,  9.93s/it]\u001b[A"
     ]
    },
    {
     "name": "stdout",
     "output_type": "stream",
     "text": [
      "Ingeniero Aeronáutico Done 1            ggcisterna@gmail.com\n",
      "1      sanchogabriela@hotmail.com\n",
      "1          ecalamos@argentina.com\n",
      "4          conghos@hotmail.com.ar\n",
      "5     marianonicola1975@gmail.com\n",
      "                 ...             \n",
      "1            myjpuen@yahoo.com.ar\n",
      "2            myjpuen@yahoo.com.ar\n",
      "3             JRAPOSO@HOTMAIL.COM\n",
      "1     ingenieria_enn@yahoo.com.ar\n",
      "2    ingenieria@estudioifp.com.ar\n",
      "Length: 168, dtype: object\n"
     ]
    },
    {
     "name": "stderr",
     "output_type": "stream",
     "text": [
      "\n",
      " 29%|██▉       | 112/384 [19:03<41:06,  9.07s/it]\u001b[A"
     ]
    },
    {
     "name": "stdout",
     "output_type": "stream",
     "text": [
      "INGENIERO AGRIMENSOR Done 1            ggcisterna@gmail.com\n",
      "1      sanchogabriela@hotmail.com\n",
      "1          ecalamos@argentina.com\n",
      "4          conghos@hotmail.com.ar\n",
      "5     marianonicola1975@gmail.com\n",
      "                 ...             \n",
      "1            myjpuen@yahoo.com.ar\n",
      "2            myjpuen@yahoo.com.ar\n",
      "3             JRAPOSO@HOTMAIL.COM\n",
      "1     ingenieria_enn@yahoo.com.ar\n",
      "2    ingenieria@estudioifp.com.ar\n",
      "Length: 168, dtype: object\n"
     ]
    },
    {
     "name": "stderr",
     "output_type": "stream",
     "text": [
      "\n",
      " 29%|██▉       | 113/384 [19:11<40:07,  8.88s/it]\u001b[A"
     ]
    },
    {
     "name": "stdout",
     "output_type": "stream",
     "text": [
      "INGENIERO AGRONOMO Done 1            ggcisterna@gmail.com\n",
      "1      sanchogabriela@hotmail.com\n",
      "1          ecalamos@argentina.com\n",
      "4          conghos@hotmail.com.ar\n",
      "5     marianonicola1975@gmail.com\n",
      "                 ...             \n",
      "1            myjpuen@yahoo.com.ar\n",
      "2            myjpuen@yahoo.com.ar\n",
      "3             JRAPOSO@HOTMAIL.COM\n",
      "1     ingenieria_enn@yahoo.com.ar\n",
      "2    ingenieria@estudioifp.com.ar\n",
      "Length: 168, dtype: object\n"
     ]
    },
    {
     "name": "stderr",
     "output_type": "stream",
     "text": [
      "\n",
      " 30%|██▉       | 114/384 [19:48<1:17:20, 17.19s/it]\u001b[A"
     ]
    },
    {
     "name": "stdout",
     "output_type": "stream",
     "text": [
      "Ingeniero Agrónomo Done 1            ggcisterna@gmail.com\n",
      "1      sanchogabriela@hotmail.com\n",
      "1          ecalamos@argentina.com\n",
      "4          conghos@hotmail.com.ar\n",
      "5     marianonicola1975@gmail.com\n",
      "                 ...             \n",
      "1    aradoconsultora@jsnet.com.ar\n",
      "2        fedegarcia83@hotmail.com\n",
      "4       maroteclaudio@hotmail.com\n",
      "5        EMERONO2004@YAHOO.COM.AR\n",
      "7              neldo@ar.inter.net\n",
      "Length: 173, dtype: object\n"
     ]
    },
    {
     "name": "stderr",
     "output_type": "stream",
     "text": [
      "\n",
      " 30%|██▉       | 115/384 [20:40<2:04:37, 27.80s/it]\u001b[A"
     ]
    },
    {
     "name": "stdout",
     "output_type": "stream",
     "text": [
      "Ingeniero Ambiental Done 1                     ggcisterna@gmail.com\n",
      "1               sanchogabriela@hotmail.com\n",
      "1                   ecalamos@argentina.com\n",
      "4                   conghos@hotmail.com.ar\n",
      "5              marianonicola1975@gmail.com\n",
      "                      ...                 \n",
      "28    coordinadoraambiental@hotmail.com.ar\n",
      "29    coordinadoraambiental@hotmail.com.ar\n",
      "30                     vitravettoa@ypf.com\n",
      "31               villalbaha@infovia.com.ar\n",
      "32                      jpweihs@bra.com.ar\n",
      "Length: 204, dtype: object\n"
     ]
    },
    {
     "name": "stderr",
     "output_type": "stream",
     "text": [
      "\n",
      " 30%|███       | 116/384 [22:15<3:33:08, 47.72s/it]\u001b[A"
     ]
    },
    {
     "name": "stdout",
     "output_type": "stream",
     "text": [
      "Ingeniero Civil Done 1              ggcisterna@gmail.com\n",
      "1        sanchogabriela@hotmail.com\n",
      "1            ecalamos@argentina.com\n",
      "4            conghos@hotmail.com.ar\n",
      "5       marianonicola1975@gmail.com\n",
      "                  ...              \n",
      "29       rrtempestilli@yahoo.com.ar\n",
      "30    mariainestombesi@yahoo.com.ar\n",
      "31          marina_vaca@hotmail.com\n",
      "32     alberto.williams@mecalux.com\n",
      "33        raulhzanconi@yahoo.com.ar\n",
      "Length: 233, dtype: object\n"
     ]
    },
    {
     "name": "stderr",
     "output_type": "stream",
     "text": [
      "\n",
      " 30%|███       | 117/384 [22:22<2:37:56, 35.49s/it]\u001b[A"
     ]
    },
    {
     "name": "stdout",
     "output_type": "stream",
     "text": [
      "INGENIERO DE PETROLEOS Done 1              ggcisterna@gmail.com\n",
      "1        sanchogabriela@hotmail.com\n",
      "1            ecalamos@argentina.com\n",
      "4            conghos@hotmail.com.ar\n",
      "5       marianonicola1975@gmail.com\n",
      "                  ...              \n",
      "29       rrtempestilli@yahoo.com.ar\n",
      "30    mariainestombesi@yahoo.com.ar\n",
      "31          marina_vaca@hotmail.com\n",
      "32     alberto.williams@mecalux.com\n",
      "33        raulhzanconi@yahoo.com.ar\n",
      "Length: 233, dtype: object\n"
     ]
    },
    {
     "name": "stderr",
     "output_type": "stream",
     "text": [
      "\n",
      " 31%|███       | 118/384 [22:28<1:58:57, 26.83s/it]\u001b[A"
     ]
    },
    {
     "name": "stdout",
     "output_type": "stream",
     "text": [
      "INGENIERO DE SONIDO Done 1              ggcisterna@gmail.com\n",
      "1        sanchogabriela@hotmail.com\n",
      "1            ecalamos@argentina.com\n",
      "4            conghos@hotmail.com.ar\n",
      "5       marianonicola1975@gmail.com\n",
      "                  ...              \n",
      "29       rrtempestilli@yahoo.com.ar\n",
      "30    mariainestombesi@yahoo.com.ar\n",
      "31          marina_vaca@hotmail.com\n",
      "32     alberto.williams@mecalux.com\n",
      "33        raulhzanconi@yahoo.com.ar\n",
      "Length: 233, dtype: object\n"
     ]
    },
    {
     "name": "stderr",
     "output_type": "stream",
     "text": [
      "\n",
      " 31%|███       | 119/384 [23:18<2:28:22, 33.59s/it]\u001b[A"
     ]
    },
    {
     "name": "stdout",
     "output_type": "stream",
     "text": [
      "Ingeniero Electricista Done 1            ggcisterna@gmail.com\n",
      "1      sanchogabriela@hotmail.com\n",
      "1          ecalamos@argentina.com\n",
      "4          conghos@hotmail.com.ar\n",
      "5     marianonicola1975@gmail.com\n",
      "                 ...             \n",
      "24          LSANTOS@ESURSA.COM.AR\n",
      "25     INFO@SILVEIRAEHIJOS.COM.AR\n",
      "26          ingecologia@gmail.com\n",
      "27    GABRIEL.TOMASELLI@GMAIL.COM\n",
      "28       josetome@sinectis.com.ar\n",
      "Length: 261, dtype: object\n"
     ]
    },
    {
     "name": "stderr",
     "output_type": "stream",
     "text": [
      "\n",
      " 31%|███▏      | 120/384 [23:41<2:14:51, 30.65s/it]\u001b[A"
     ]
    },
    {
     "name": "stdout",
     "output_type": "stream",
     "text": [
      "Ingeniero Electromecánico Done 1               ggcisterna@gmail.com\n",
      "1         sanchogabriela@hotmail.com\n",
      "1             ecalamos@argentina.com\n",
      "4             conghos@hotmail.com.ar\n",
      "5        marianonicola1975@gmail.com\n",
      "                   ...              \n",
      "15    osvaldo.simonini@ecotec.com.ar\n",
      "16           spadaforah@yahoo.com.ar\n",
      "17           spadaforah@yahoo.com.ar\n",
      "18               gvezin@arnet.com.ar\n",
      "19       ingevill@uolsinectis.com.ar\n",
      "Length: 279, dtype: object\n"
     ]
    },
    {
     "name": "stderr",
     "output_type": "stream",
     "text": [
      "\n",
      " 32%|███▏      | 121/384 [23:50<1:44:45, 23.90s/it]\u001b[A"
     ]
    },
    {
     "name": "stdout",
     "output_type": "stream",
     "text": [
      "INGENIERO ELECTROMECANICO CON OR. MECANICA Done 1               ggcisterna@gmail.com\n",
      "1         sanchogabriela@hotmail.com\n",
      "1             ecalamos@argentina.com\n",
      "4             conghos@hotmail.com.ar\n",
      "5        marianonicola1975@gmail.com\n",
      "                   ...              \n",
      "15    osvaldo.simonini@ecotec.com.ar\n",
      "16           spadaforah@yahoo.com.ar\n",
      "17           spadaforah@yahoo.com.ar\n",
      "18               gvezin@arnet.com.ar\n",
      "19       ingevill@uolsinectis.com.ar\n",
      "Length: 279, dtype: object\n"
     ]
    },
    {
     "name": "stderr",
     "output_type": "stream",
     "text": [
      "\n",
      " 32%|███▏      | 122/384 [23:57<1:22:26, 18.88s/it]\u001b[A"
     ]
    },
    {
     "name": "stdout",
     "output_type": "stream",
     "text": [
      "Ingeniero Electromecánico or Electricista Done 1            ggcisterna@gmail.com\n",
      "1      sanchogabriela@hotmail.com\n",
      "1          ecalamos@argentina.com\n",
      "4          conghos@hotmail.com.ar\n",
      "5     marianonicola1975@gmail.com\n",
      "                 ...             \n",
      "18            gvezin@arnet.com.ar\n",
      "19    ingevill@uolsinectis.com.ar\n",
      "1     antoniolara@fibertel.com.ar\n",
      "2         spadaforah@yahoo.com.ar\n",
      "3         spadaforah@yahoo.com.ar\n",
      "Length: 282, dtype: object\n"
     ]
    },
    {
     "name": "stderr",
     "output_type": "stream",
     "text": [
      "\n",
      " 32%|███▏      | 123/384 [24:04<1:07:14, 15.46s/it]\u001b[A"
     ]
    },
    {
     "name": "stdout",
     "output_type": "stream",
     "text": [
      "INGENIERO ELECTRONICO Done 1           ggcisterna@gmail.com\n",
      "1     sanchogabriela@hotmail.com\n",
      "1         ecalamos@argentina.com\n",
      "4         conghos@hotmail.com.ar\n",
      "5    marianonicola1975@gmail.com\n",
      "                ...             \n",
      "1    antoniolara@fibertel.com.ar\n",
      "2        spadaforah@yahoo.com.ar\n",
      "3        spadaforah@yahoo.com.ar\n",
      "1    estudiomalizia@yahoo.com.ar\n",
      "2                  @yahoo.com.ar\n",
      "Length: 284, dtype: object\n"
     ]
    },
    {
     "name": "stderr",
     "output_type": "stream",
     "text": [
      "\n",
      " 32%|███▏      | 124/384 [24:21<1:08:11, 15.74s/it]\u001b[A"
     ]
    },
    {
     "name": "stdout",
     "output_type": "stream",
     "text": [
      "Ingeniero Electrónico Done 1                         ggcisterna@gmail.com\n",
      "1                   sanchogabriela@hotmail.com\n",
      "1                       ecalamos@argentina.com\n",
      "4                       conghos@hotmail.com.ar\n",
      "5                  marianonicola1975@gmail.com\n",
      "                       ...                    \n",
      "2                                @yahoo.com.ar\n",
      "1                       ing_bentos@hotmail.com\n",
      "2    morcelo.jauregui@telefonicamoviles.com.ar\n",
      "3                lrkardos@groupintegral.com.ar\n",
      "4                     antoniomanolio@gmail.com\n",
      "Length: 288, dtype: object\n"
     ]
    },
    {
     "name": "stderr",
     "output_type": "stream",
     "text": [
      "\n",
      " 33%|███▎      | 125/384 [24:28<56:41, 13.13s/it]  \u001b[A"
     ]
    },
    {
     "name": "stdout",
     "output_type": "stream",
     "text": [
      "Ingeniero en Arsenales Done 1                         ggcisterna@gmail.com\n",
      "1                   sanchogabriela@hotmail.com\n",
      "1                       ecalamos@argentina.com\n",
      "4                       conghos@hotmail.com.ar\n",
      "5                  marianonicola1975@gmail.com\n",
      "                       ...                    \n",
      "2                                @yahoo.com.ar\n",
      "1                       ing_bentos@hotmail.com\n",
      "2    morcelo.jauregui@telefonicamoviles.com.ar\n",
      "3                lrkardos@groupintegral.com.ar\n",
      "4                     antoniomanolio@gmail.com\n",
      "Length: 288, dtype: object\n"
     ]
    },
    {
     "name": "stderr",
     "output_type": "stream",
     "text": [
      "\n",
      " 33%|███▎      | 126/384 [25:06<1:29:05, 20.72s/it]\u001b[A"
     ]
    },
    {
     "name": "stdout",
     "output_type": "stream",
     "text": [
      "Ingeniero en Construcciones Done 1             ggcisterna@gmail.com\n",
      "1       sanchogabriela@hotmail.com\n",
      "1           ecalamos@argentina.com\n",
      "4           conghos@hotmail.com.ar\n",
      "5      marianonicola1975@gmail.com\n",
      "                  ...             \n",
      "13    silviasenn63@coopenet.com.ar\n",
      "14        spiedoadrian@hotmail.com\n",
      "15          MARTINHTANCO@GMAIL.COM\n",
      "16        ECOLOGIA@CONTEMAN.COM.AR\n",
      "17          JUANZABALA@HOTMAIL.COM\n",
      "Length: 305, dtype: object\n"
     ]
    },
    {
     "name": "stderr",
     "output_type": "stream",
     "text": [
      "\n",
      " 33%|███▎      | 127/384 [25:19<1:18:17, 18.28s/it]\u001b[A"
     ]
    },
    {
     "name": "stdout",
     "output_type": "stream",
     "text": [
      "Ingeniero en Ecologia Done 1             ggcisterna@gmail.com\n",
      "1       sanchogabriela@hotmail.com\n",
      "1           ecalamos@argentina.com\n",
      "4           conghos@hotmail.com.ar\n",
      "5      marianonicola1975@gmail.com\n",
      "                 ...              \n",
      "4            ANAHIMLOPEZ@GMAIL.COM\n",
      "5      ingnataliamartnez@gmail.com\n",
      "6    FRANCOOSTILLITANO@HOTMAIL.COM\n",
      "7        estebanvojaccek@gmail.com\n",
      "8        daniela.zanello@gmail.com\n",
      "Length: 313, dtype: object\n"
     ]
    },
    {
     "name": "stderr",
     "output_type": "stream",
     "text": [
      "\n",
      " 33%|███▎      | 128/384 [25:27<1:04:48, 15.19s/it]\u001b[A"
     ]
    },
    {
     "name": "stdout",
     "output_type": "stream",
     "text": [
      "Ingeniero en Electrònica Done 1             ggcisterna@gmail.com\n",
      "1       sanchogabriela@hotmail.com\n",
      "1           ecalamos@argentina.com\n",
      "4           conghos@hotmail.com.ar\n",
      "5      marianonicola1975@gmail.com\n",
      "                 ...              \n",
      "4            ANAHIMLOPEZ@GMAIL.COM\n",
      "5      ingnataliamartnez@gmail.com\n",
      "6    FRANCOOSTILLITANO@HOTMAIL.COM\n",
      "7        estebanvojaccek@gmail.com\n",
      "8        daniela.zanello@gmail.com\n",
      "Length: 313, dtype: object\n"
     ]
    },
    {
     "name": "stderr",
     "output_type": "stream",
     "text": [
      "\n",
      " 34%|███▎      | 129/384 [25:34<54:36, 12.85s/it]  \u001b[A"
     ]
    },
    {
     "name": "stdout",
     "output_type": "stream",
     "text": [
      "Ingeniero en Geodesia Done 1             ggcisterna@gmail.com\n",
      "1       sanchogabriela@hotmail.com\n",
      "1           ecalamos@argentina.com\n",
      "4           conghos@hotmail.com.ar\n",
      "5      marianonicola1975@gmail.com\n",
      "                 ...              \n",
      "4            ANAHIMLOPEZ@GMAIL.COM\n",
      "5      ingnataliamartnez@gmail.com\n",
      "6    FRANCOOSTILLITANO@HOTMAIL.COM\n",
      "7        estebanvojaccek@gmail.com\n",
      "8        daniela.zanello@gmail.com\n",
      "Length: 313, dtype: object\n"
     ]
    },
    {
     "name": "stderr",
     "output_type": "stream",
     "text": [
      "\n",
      " 34%|███▍      | 130/384 [25:41<46:56, 11.09s/it]\u001b[A"
     ]
    },
    {
     "name": "stdout",
     "output_type": "stream",
     "text": [
      "INGENIERO EN GESTION DE SINIESTROS Y SEGURIDAD AMB Done 1             ggcisterna@gmail.com\n",
      "1       sanchogabriela@hotmail.com\n",
      "1           ecalamos@argentina.com\n",
      "4           conghos@hotmail.com.ar\n",
      "5      marianonicola1975@gmail.com\n",
      "                 ...              \n",
      "4            ANAHIMLOPEZ@GMAIL.COM\n",
      "5      ingnataliamartnez@gmail.com\n",
      "6    FRANCOOSTILLITANO@HOTMAIL.COM\n",
      "7        estebanvojaccek@gmail.com\n",
      "8        daniela.zanello@gmail.com\n",
      "Length: 313, dtype: object\n"
     ]
    },
    {
     "name": "stderr",
     "output_type": "stream",
     "text": [
      "\n",
      " 34%|███▍      | 131/384 [25:51<45:27, 10.78s/it]\u001b[A"
     ]
    },
    {
     "name": "stdout",
     "output_type": "stream",
     "text": [
      "Ingeniero en Higiene y Seguridad  en el Trabajo Done 1               ggcisterna@gmail.com\n",
      "1         sanchogabriela@hotmail.com\n",
      "1             ecalamos@argentina.com\n",
      "4             conghos@hotmail.com.ar\n",
      "5        marianonicola1975@gmail.com\n",
      "                  ...               \n",
      "3    mariagianninapastor@hotmail.com\n",
      "4               myjpuen@yahoo.com.ar\n",
      "5               myjpuen@yahoo.com.ar\n",
      "6                   quilpo@gmail.com\n",
      "7                   quilpo@gmail.com\n",
      "Length: 320, dtype: object\n"
     ]
    },
    {
     "name": "stderr",
     "output_type": "stream",
     "text": [
      "\n",
      " 34%|███▍      | 132/384 [25:58<40:25,  9.62s/it]\u001b[A"
     ]
    },
    {
     "name": "stdout",
     "output_type": "stream",
     "text": [
      "Ingeniero en Higiene y Seguridad en el Trabajo Done 1               ggcisterna@gmail.com\n",
      "1         sanchogabriela@hotmail.com\n",
      "1             ecalamos@argentina.com\n",
      "4             conghos@hotmail.com.ar\n",
      "5        marianonicola1975@gmail.com\n",
      "                  ...               \n",
      "3    mariagianninapastor@hotmail.com\n",
      "4               myjpuen@yahoo.com.ar\n",
      "5               myjpuen@yahoo.com.ar\n",
      "6                   quilpo@gmail.com\n",
      "7                   quilpo@gmail.com\n",
      "Length: 320, dtype: object\n"
     ]
    },
    {
     "name": "stderr",
     "output_type": "stream",
     "text": [
      "\n",
      " 35%|███▍      | 133/384 [26:05<36:40,  8.77s/it]\u001b[A"
     ]
    },
    {
     "name": "stdout",
     "output_type": "stream",
     "text": [
      "Ingeniero en Industrias de la Alimentacion Done 1               ggcisterna@gmail.com\n",
      "1         sanchogabriela@hotmail.com\n",
      "1             ecalamos@argentina.com\n",
      "4             conghos@hotmail.com.ar\n",
      "5        marianonicola1975@gmail.com\n",
      "                  ...               \n",
      "3    mariagianninapastor@hotmail.com\n",
      "4               myjpuen@yahoo.com.ar\n",
      "5               myjpuen@yahoo.com.ar\n",
      "6                   quilpo@gmail.com\n",
      "7                   quilpo@gmail.com\n",
      "Length: 320, dtype: object\n"
     ]
    },
    {
     "name": "stderr",
     "output_type": "stream",
     "text": [
      "\n",
      " 35%|███▍      | 134/384 [26:12<34:06,  8.19s/it]\u001b[A"
     ]
    },
    {
     "name": "stdout",
     "output_type": "stream",
     "text": [
      "Ingeniero en Materiales Done 1           ggcisterna@gmail.com\n",
      "1     sanchogabriela@hotmail.com\n",
      "1         ecalamos@argentina.com\n",
      "4         conghos@hotmail.com.ar\n",
      "5    marianonicola1975@gmail.com\n",
      "                ...             \n",
      "4           myjpuen@yahoo.com.ar\n",
      "5           myjpuen@yahoo.com.ar\n",
      "6               quilpo@gmail.com\n",
      "7               quilpo@gmail.com\n",
      "1         josefinacura@gmail.com\n",
      "Length: 321, dtype: object\n"
     ]
    },
    {
     "name": "stderr",
     "output_type": "stream",
     "text": [
      "\n",
      " 35%|███▌      | 135/384 [26:18<32:13,  7.77s/it]\u001b[A"
     ]
    },
    {
     "name": "stdout",
     "output_type": "stream",
     "text": [
      "Ingeniero en Organizaci{on de Empresas Done 1           ggcisterna@gmail.com\n",
      "1     sanchogabriela@hotmail.com\n",
      "1         ecalamos@argentina.com\n",
      "4         conghos@hotmail.com.ar\n",
      "5    marianonicola1975@gmail.com\n",
      "                ...             \n",
      "4           myjpuen@yahoo.com.ar\n",
      "5           myjpuen@yahoo.com.ar\n",
      "6               quilpo@gmail.com\n",
      "7               quilpo@gmail.com\n",
      "1         josefinacura@gmail.com\n",
      "Length: 321, dtype: object\n"
     ]
    },
    {
     "name": "stderr",
     "output_type": "stream",
     "text": [
      "\n",
      " 35%|███▌      | 136/384 [26:27<32:37,  7.89s/it]\u001b[A"
     ]
    },
    {
     "name": "stdout",
     "output_type": "stream",
     "text": [
      "Ingeniero en Organizacion de Empresas Done 1           ggcisterna@gmail.com\n",
      "1     sanchogabriela@hotmail.com\n",
      "1         ecalamos@argentina.com\n",
      "4         conghos@hotmail.com.ar\n",
      "5    marianonicola1975@gmail.com\n",
      "                ...             \n",
      "4           myjpuen@yahoo.com.ar\n",
      "5           myjpuen@yahoo.com.ar\n",
      "6               quilpo@gmail.com\n",
      "7               quilpo@gmail.com\n",
      "1         josefinacura@gmail.com\n",
      "Length: 321, dtype: object\n"
     ]
    },
    {
     "name": "stderr",
     "output_type": "stream",
     "text": [
      "\n",
      " 36%|███▌      | 137/384 [26:33<30:50,  7.49s/it]\u001b[A"
     ]
    },
    {
     "name": "stdout",
     "output_type": "stream",
     "text": [
      "INGENIERO EN PRODUCCION AGROPECUARIA Done 1           ggcisterna@gmail.com\n",
      "1     sanchogabriela@hotmail.com\n",
      "1         ecalamos@argentina.com\n",
      "4         conghos@hotmail.com.ar\n",
      "5    marianonicola1975@gmail.com\n",
      "                ...             \n",
      "4           myjpuen@yahoo.com.ar\n",
      "5           myjpuen@yahoo.com.ar\n",
      "6               quilpo@gmail.com\n",
      "7               quilpo@gmail.com\n",
      "1         josefinacura@gmail.com\n",
      "Length: 321, dtype: object\n"
     ]
    },
    {
     "name": "stderr",
     "output_type": "stream",
     "text": [
      "\n",
      " 36%|███▌      | 138/384 [26:41<30:56,  7.55s/it]\u001b[A"
     ]
    },
    {
     "name": "stdout",
     "output_type": "stream",
     "text": [
      "Ingeniero en Recursos Hidricos Done 1           ggcisterna@gmail.com\n",
      "1     sanchogabriela@hotmail.com\n",
      "1         ecalamos@argentina.com\n",
      "4         conghos@hotmail.com.ar\n",
      "5    marianonicola1975@gmail.com\n",
      "                ...             \n",
      "5           myjpuen@yahoo.com.ar\n",
      "6               quilpo@gmail.com\n",
      "7               quilpo@gmail.com\n",
      "1         josefinacura@gmail.com\n",
      "1     ingenieros@fibertel.com.ar\n",
      "Length: 322, dtype: object\n"
     ]
    },
    {
     "name": "stderr",
     "output_type": "stream",
     "text": [
      "\n",
      " 36%|███▌      | 139/384 [26:50<32:44,  8.02s/it]\u001b[A"
     ]
    },
    {
     "name": "stdout",
     "output_type": "stream",
     "text": [
      "Ingeniero en Recursos Naturales y Medio  Ambiente Done 1           ggcisterna@gmail.com\n",
      "1     sanchogabriela@hotmail.com\n",
      "1         ecalamos@argentina.com\n",
      "4         conghos@hotmail.com.ar\n",
      "5    marianonicola1975@gmail.com\n",
      "                ...             \n",
      "5           myjpuen@yahoo.com.ar\n",
      "6               quilpo@gmail.com\n",
      "7               quilpo@gmail.com\n",
      "1         josefinacura@gmail.com\n",
      "1     ingenieros@fibertel.com.ar\n",
      "Length: 322, dtype: object\n"
     ]
    },
    {
     "name": "stderr",
     "output_type": "stream",
     "text": [
      "\n",
      " 36%|███▋      | 140/384 [27:29<1:10:58, 17.45s/it]\u001b[A"
     ]
    },
    {
     "name": "stdout",
     "output_type": "stream",
     "text": [
      "Ingeniero en Seguridad Ambiental Done 1            ggcisterna@gmail.com\n",
      "1      sanchogabriela@hotmail.com\n",
      "1          ecalamos@argentina.com\n",
      "4          conghos@hotmail.com.ar\n",
      "5     marianonicola1975@gmail.com\n",
      "                 ...             \n",
      "39          ingasuar@yahoo.com.ar\n",
      "40    TABOADA.GUILLERMO@GMAIL.COM\n",
      "41         jorge-vera@hotmail.com\n",
      "42         ingevilar@yahoo.com.ar\n",
      "43            OZARLENGA@GMAIL.COM\n",
      "Length: 362, dtype: object\n"
     ]
    },
    {
     "name": "stderr",
     "output_type": "stream",
     "text": [
      "\n",
      " 37%|███▋      | 141/384 [29:26<3:10:45, 47.10s/it]\u001b[A"
     ]
    },
    {
     "name": "stdout",
     "output_type": "stream",
     "text": [
      "Ingeniero en Seguridad e Higiene Done 1            ggcisterna@gmail.com\n",
      "1      sanchogabriela@hotmail.com\n",
      "1          ecalamos@argentina.com\n",
      "4          conghos@hotmail.com.ar\n",
      "5     marianonicola1975@gmail.com\n",
      "                 ...             \n",
      "39          ingasuar@yahoo.com.ar\n",
      "40    TABOADA.GUILLERMO@GMAIL.COM\n",
      "41         jorge-vera@hotmail.com\n",
      "42         ingevilar@yahoo.com.ar\n",
      "43            OZARLENGA@GMAIL.COM\n",
      "Length: 362, dtype: object\n"
     ]
    },
    {
     "name": "stderr",
     "output_type": "stream",
     "text": [
      "\n",
      " 37%|███▋      | 142/384 [29:36<2:26:01, 36.20s/it]\u001b[A"
     ]
    },
    {
     "name": "stdout",
     "output_type": "stream",
     "text": [
      "Ingeniero en Seguridad e Higiene en el Trabajo  Done 1                ggcisterna@gmail.com\n",
      "1          sanchogabriela@hotmail.com\n",
      "1              ecalamos@argentina.com\n",
      "4              conghos@hotmail.com.ar\n",
      "5         marianonicola1975@gmail.com\n",
      "                   ...               \n",
      "42             ingevilar@yahoo.com.ar\n",
      "43                OZARLENGA@GMAIL.COM\n",
      "1     hernandelavegarojas@hotmail.com\n",
      "2           mariahesayne@yahoo.com.ar\n",
      "3            antoniomanolio@gmail.com\n",
      "Length: 365, dtype: object\n"
     ]
    },
    {
     "name": "stderr",
     "output_type": "stream",
     "text": [
      "\n",
      " 37%|███▋      | 143/384 [29:43<1:49:54, 27.36s/it]\u001b[A"
     ]
    },
    {
     "name": "stdout",
     "output_type": "stream",
     "text": [
      "ingeniero en sistemas de informacion Done 1                ggcisterna@gmail.com\n",
      "1          sanchogabriela@hotmail.com\n",
      "1              ecalamos@argentina.com\n",
      "4              conghos@hotmail.com.ar\n",
      "5         marianonicola1975@gmail.com\n",
      "                   ...               \n",
      "42             ingevilar@yahoo.com.ar\n",
      "43                OZARLENGA@GMAIL.COM\n",
      "1     hernandelavegarojas@hotmail.com\n",
      "2           mariahesayne@yahoo.com.ar\n",
      "3            antoniomanolio@gmail.com\n",
      "Length: 365, dtype: object\n"
     ]
    },
    {
     "name": "stderr",
     "output_type": "stream",
     "text": [
      "\n",
      " 38%|███▊      | 144/384 [29:52<1:27:27, 21.86s/it]\u001b[A"
     ]
    },
    {
     "name": "stdout",
     "output_type": "stream",
     "text": [
      "Ingeniero en Telecomunicaciones Done 1                ggcisterna@gmail.com\n",
      "1          sanchogabriela@hotmail.com\n",
      "1              ecalamos@argentina.com\n",
      "4              conghos@hotmail.com.ar\n",
      "5         marianonicola1975@gmail.com\n",
      "                   ...               \n",
      "43                OZARLENGA@GMAIL.COM\n",
      "1     hernandelavegarojas@hotmail.com\n",
      "2           mariahesayne@yahoo.com.ar\n",
      "3            antoniomanolio@gmail.com\n",
      "1              mstaiano@speedy.com.ar\n",
      "Length: 366, dtype: object\n"
     ]
    },
    {
     "name": "stderr",
     "output_type": "stream",
     "text": [
      "\n",
      " 38%|███▊      | 145/384 [30:00<1:10:28, 17.69s/it]\u001b[A"
     ]
    },
    {
     "name": "stdout",
     "output_type": "stream",
     "text": [
      "Ingeniero en vias de comunicacion Done 1                ggcisterna@gmail.com\n",
      "1          sanchogabriela@hotmail.com\n",
      "1              ecalamos@argentina.com\n",
      "4              conghos@hotmail.com.ar\n",
      "5         marianonicola1975@gmail.com\n",
      "                   ...               \n",
      "43                OZARLENGA@GMAIL.COM\n",
      "1     hernandelavegarojas@hotmail.com\n",
      "2           mariahesayne@yahoo.com.ar\n",
      "3            antoniomanolio@gmail.com\n",
      "1              mstaiano@speedy.com.ar\n",
      "Length: 366, dtype: object\n"
     ]
    },
    {
     "name": "stderr",
     "output_type": "stream",
     "text": [
      "\n",
      " 38%|███▊      | 146/384 [30:07<57:20, 14.45s/it]  \u001b[A"
     ]
    },
    {
     "name": "stdout",
     "output_type": "stream",
     "text": [
      "Ingeniero Especialista en Higiene y Seguridad en e Done 1                ggcisterna@gmail.com\n",
      "1          sanchogabriela@hotmail.com\n",
      "1              ecalamos@argentina.com\n",
      "4              conghos@hotmail.com.ar\n",
      "5         marianonicola1975@gmail.com\n",
      "                   ...               \n",
      "43                OZARLENGA@GMAIL.COM\n",
      "1     hernandelavegarojas@hotmail.com\n",
      "2           mariahesayne@yahoo.com.ar\n",
      "3            antoniomanolio@gmail.com\n",
      "1              mstaiano@speedy.com.ar\n",
      "Length: 366, dtype: object\n"
     ]
    },
    {
     "name": "stderr",
     "output_type": "stream",
     "text": [
      "\n",
      " 38%|███▊      | 147/384 [30:13<47:27, 12.01s/it]\u001b[A"
     ]
    },
    {
     "name": "stdout",
     "output_type": "stream",
     "text": [
      "INGENIERO ESPECIALISTA EN PROTECCIÓN AMBIENTAL Done 1                ggcisterna@gmail.com\n",
      "1          sanchogabriela@hotmail.com\n",
      "1              ecalamos@argentina.com\n",
      "4              conghos@hotmail.com.ar\n",
      "5         marianonicola1975@gmail.com\n",
      "                   ...               \n",
      "43                OZARLENGA@GMAIL.COM\n",
      "1     hernandelavegarojas@hotmail.com\n",
      "2           mariahesayne@yahoo.com.ar\n",
      "3            antoniomanolio@gmail.com\n",
      "1              mstaiano@speedy.com.ar\n",
      "Length: 366, dtype: object\n"
     ]
    },
    {
     "name": "stderr",
     "output_type": "stream",
     "text": [
      "\n",
      " 39%|███▊      | 148/384 [30:23<44:41, 11.36s/it]\u001b[A"
     ]
    },
    {
     "name": "stdout",
     "output_type": "stream",
     "text": [
      "Ingeniero Forestal Done 1           ggcisterna@gmail.com\n",
      "1     sanchogabriela@hotmail.com\n",
      "1         ecalamos@argentina.com\n",
      "4         conghos@hotmail.com.ar\n",
      "5    marianonicola1975@gmail.com\n",
      "                ...             \n",
      "2      mariahesayne@yahoo.com.ar\n",
      "3       antoniomanolio@gmail.com\n",
      "1         mstaiano@speedy.com.ar\n",
      "1             anayan@live.com.ar\n",
      "2    infosco@araucoargentina.com\n",
      "Length: 368, dtype: object\n"
     ]
    },
    {
     "name": "stderr",
     "output_type": "stream",
     "text": [
      "\n",
      " 39%|███▉      | 149/384 [30:30<39:18, 10.04s/it]\u001b[A"
     ]
    },
    {
     "name": "stdout",
     "output_type": "stream",
     "text": [
      "Ingeniero Geógrafo Done 1           ggcisterna@gmail.com\n",
      "1     sanchogabriela@hotmail.com\n",
      "1         ecalamos@argentina.com\n",
      "4         conghos@hotmail.com.ar\n",
      "5    marianonicola1975@gmail.com\n",
      "                ...             \n",
      "2      mariahesayne@yahoo.com.ar\n",
      "3       antoniomanolio@gmail.com\n",
      "1         mstaiano@speedy.com.ar\n",
      "1             anayan@live.com.ar\n",
      "2    infosco@araucoargentina.com\n",
      "Length: 368, dtype: object\n"
     ]
    },
    {
     "name": "stderr",
     "output_type": "stream",
     "text": [
      "\n",
      " 39%|███▉      | 150/384 [30:51<52:14, 13.40s/it]\u001b[A"
     ]
    },
    {
     "name": "stdout",
     "output_type": "stream",
     "text": [
      "Ingeniero Hidráulico Done 1           ggcisterna@gmail.com\n",
      "1     sanchogabriela@hotmail.com\n",
      "1         ecalamos@argentina.com\n",
      "4         conghos@hotmail.com.ar\n",
      "5    marianonicola1975@gmail.com\n",
      "                ...             \n",
      "2      mariahesayne@yahoo.com.ar\n",
      "3       antoniomanolio@gmail.com\n",
      "1         mstaiano@speedy.com.ar\n",
      "1             anayan@live.com.ar\n",
      "2    infosco@araucoargentina.com\n",
      "Length: 368, dtype: object\n"
     ]
    },
    {
     "name": "stderr",
     "output_type": "stream",
     "text": [
      "\n",
      " 39%|███▉      | 151/384 [31:07<54:18, 13.98s/it]\u001b[A"
     ]
    },
    {
     "name": "stdout",
     "output_type": "stream",
     "text": [
      "Ingeniero Industrail Done 1           ggcisterna@gmail.com\n",
      "1     sanchogabriela@hotmail.com\n",
      "1         ecalamos@argentina.com\n",
      "4         conghos@hotmail.com.ar\n",
      "5    marianonicola1975@gmail.com\n",
      "                ...             \n",
      "1             anayan@live.com.ar\n",
      "2    infosco@araucoargentina.com\n",
      "1           edelaplaza@gmail.com\n",
      "2       esgomez55@hotmail.com.ar\n",
      "3            mszejer@hotmail.com\n",
      "Length: 371, dtype: object\n"
     ]
    },
    {
     "name": "stderr",
     "output_type": "stream",
     "text": [
      "\n",
      " 40%|███▉      | 152/384 [32:39<2:25:00, 37.50s/it]\u001b[A"
     ]
    },
    {
     "name": "stdout",
     "output_type": "stream",
     "text": [
      "Ingeniero Industrial Done 1            ggcisterna@gmail.com\n",
      "1      sanchogabriela@hotmail.com\n",
      "1          ecalamos@argentina.com\n",
      "4          conghos@hotmail.com.ar\n",
      "5     marianonicola1975@gmail.com\n",
      "                 ...             \n",
      "47         mariovalmala@yahoo.com\n",
      "48         mariovalmala@yahoo.com\n",
      "49          velcicms@yahoo.com.ar\n",
      "50           jjzaga@speedy.com.ar\n",
      "51      info@mzconsultores.com.ar\n",
      "Length: 420, dtype: object\n"
     ]
    },
    {
     "name": "stderr",
     "output_type": "stream",
     "text": [
      "\n",
      " 40%|███▉      | 153/384 [33:43<2:55:17, 45.53s/it]\u001b[A"
     ]
    },
    {
     "name": "stdout",
     "output_type": "stream",
     "text": [
      "Ingeniero Laboral Done 1            ggcisterna@gmail.com\n",
      "1      sanchogabriela@hotmail.com\n",
      "1          ecalamos@argentina.com\n",
      "4          conghos@hotmail.com.ar\n",
      "5     marianonicola1975@gmail.com\n",
      "                 ...             \n",
      "47         mariovalmala@yahoo.com\n",
      "48         mariovalmala@yahoo.com\n",
      "49          velcicms@yahoo.com.ar\n",
      "50           jjzaga@speedy.com.ar\n",
      "51      info@mzconsultores.com.ar\n",
      "Length: 420, dtype: object\n"
     ]
    },
    {
     "name": "stderr",
     "output_type": "stream",
     "text": [
      "\n",
      " 40%|████      | 154/384 [33:52<2:11:48, 34.39s/it]\u001b[A"
     ]
    },
    {
     "name": "stdout",
     "output_type": "stream",
     "text": [
      "Ingeniero Laboral  Done 1                ggcisterna@gmail.com\n",
      "1          sanchogabriela@hotmail.com\n",
      "1              ecalamos@argentina.com\n",
      "4              conghos@hotmail.com.ar\n",
      "5         marianonicola1975@gmail.com\n",
      "                   ...               \n",
      "51          info@mzconsultores.com.ar\n",
      "1             alellanos1@yahoo.com.ar\n",
      "2       ingsebastianlopez@hotmail.com\n",
      "3     alfaconsultores_sa@yahoo.com.ar\n",
      "4     alfaconsultores_sa@yahoo.com.ar\n",
      "Length: 424, dtype: object\n"
     ]
    },
    {
     "name": "stderr",
     "output_type": "stream",
     "text": [
      "\n",
      " 40%|████      | 155/384 [34:05<1:47:15, 28.10s/it]\u001b[A"
     ]
    },
    {
     "name": "stdout",
     "output_type": "stream",
     "text": [
      "Ingeniero Mecanico Done 1            ggcisterna@gmail.com\n",
      "1      sanchogabriela@hotmail.com\n",
      "1          ecalamos@argentina.com\n",
      "4          conghos@hotmail.com.ar\n",
      "5     marianonicola1975@gmail.com\n",
      "                 ...             \n",
      "5           betoluisr@hotmail.com\n",
      "6          diego_m327@hotmail.com\n",
      "7    horaciopereira1@yahoo.com.ar\n",
      "8         agustinpua@yahoo.com.ar\n",
      "9            cjevera@yahoo.com.ar\n",
      "Length: 433, dtype: object\n"
     ]
    },
    {
     "name": "stderr",
     "output_type": "stream",
     "text": [
      "\n",
      " 41%|████      | 156/384 [35:09<2:28:03, 38.96s/it]\u001b[A"
     ]
    },
    {
     "name": "stdout",
     "output_type": "stream",
     "text": [
      "Ingeniero Mecánico Done 1            ggcisterna@gmail.com\n",
      "1      sanchogabriela@hotmail.com\n",
      "1          ecalamos@argentina.com\n",
      "4          conghos@hotmail.com.ar\n",
      "5     marianonicola1975@gmail.com\n",
      "                 ...             \n",
      "5           betoluisr@hotmail.com\n",
      "6          diego_m327@hotmail.com\n",
      "7    horaciopereira1@yahoo.com.ar\n",
      "8         agustinpua@yahoo.com.ar\n",
      "9            cjevera@yahoo.com.ar\n",
      "Length: 433, dtype: object\n"
     ]
    },
    {
     "name": "stderr",
     "output_type": "stream",
     "text": [
      "\n",
      " 41%|████      | 157/384 [35:21<1:56:45, 30.86s/it]\u001b[A"
     ]
    },
    {
     "name": "stdout",
     "output_type": "stream",
     "text": [
      "Ingeniero Mecánico  Done 1             ggcisterna@gmail.com\n",
      "1       sanchogabriela@hotmail.com\n",
      "1           ecalamos@argentina.com\n",
      "4           conghos@hotmail.com.ar\n",
      "5      marianonicola1975@gmail.com\n",
      "                 ...              \n",
      "2    jorgeadamburruchaga@gmail.com\n",
      "3     bceccarelli@igestudio.com.ar\n",
      "4      jemantovani@fibertel.com.ar\n",
      "5      jemantovani@fibertel.com.ar\n",
      "6        sergiomrollanQhotmail.com\n",
      "Length: 439, dtype: object\n"
     ]
    },
    {
     "name": "stderr",
     "output_type": "stream",
     "text": [
      "\n",
      " 41%|████      | 158/384 [35:36<1:38:03, 26.03s/it]\u001b[A"
     ]
    },
    {
     "name": "stdout",
     "output_type": "stream",
     "text": [
      "Ingeniero Metalúrgico Done 1            ggcisterna@gmail.com\n",
      "1      sanchogabriela@hotmail.com\n",
      "1          ecalamos@argentina.com\n",
      "4          conghos@hotmail.com.ar\n",
      "5     marianonicola1975@gmail.com\n",
      "                 ...             \n",
      "3                pdgaya@gmail.com\n",
      "4            KILTEC@SPEEDY.COM.AR\n",
      "5         closi@consultas1.com.ar\n",
      "6         closi@consultas1.com.ar\n",
      "8    parrella_marcos@yahoo.com.ar\n",
      "Length: 446, dtype: object\n"
     ]
    },
    {
     "name": "stderr",
     "output_type": "stream",
     "text": [
      "\n",
      " 41%|████▏     | 159/384 [35:43<1:16:29, 20.40s/it]\u001b[A"
     ]
    },
    {
     "name": "stdout",
     "output_type": "stream",
     "text": [
      "INGENIERO MILITAR Done 1            ggcisterna@gmail.com\n",
      "1      sanchogabriela@hotmail.com\n",
      "1          ecalamos@argentina.com\n",
      "4          conghos@hotmail.com.ar\n",
      "5     marianonicola1975@gmail.com\n",
      "                 ...             \n",
      "5         closi@consultas1.com.ar\n",
      "6         closi@consultas1.com.ar\n",
      "8    parrella_marcos@yahoo.com.ar\n",
      "1             jhbustamante.com.ar\n",
      "2             jhbustamante.com.ar\n",
      "Length: 448, dtype: object\n"
     ]
    },
    {
     "name": "stderr",
     "output_type": "stream",
     "text": [
      "\n",
      " 42%|████▏     | 160/384 [36:48<2:05:20, 33.58s/it]\u001b[A"
     ]
    },
    {
     "name": "stdout",
     "output_type": "stream",
     "text": [
      "Ingeniero Químico Done 1            ggcisterna@gmail.com\n",
      "1      sanchogabriela@hotmail.com\n",
      "1          ecalamos@argentina.com\n",
      "4          conghos@hotmail.com.ar\n",
      "5     marianonicola1975@gmail.com\n",
      "                 ...             \n",
      "5         closi@consultas1.com.ar\n",
      "6         closi@consultas1.com.ar\n",
      "8    parrella_marcos@yahoo.com.ar\n",
      "1             jhbustamante.com.ar\n",
      "2             jhbustamante.com.ar\n",
      "Length: 448, dtype: object\n"
     ]
    },
    {
     "name": "stderr",
     "output_type": "stream",
     "text": [
      "\n",
      " 42%|████▏     | 161/384 [37:09<1:51:19, 29.95s/it]\u001b[A"
     ]
    },
    {
     "name": "stdout",
     "output_type": "stream",
     "text": [
      "Ingeniero Sanitario Done 1                    ggcisterna@gmail.com\n",
      "1              sanchogabriela@hotmail.com\n",
      "1                  ecalamos@argentina.com\n",
      "4                  conghos@hotmail.com.ar\n",
      "5             marianonicola1975@gmail.com\n",
      "                     ...                 \n",
      "3               cmatrone@iplanmail.com.ar\n",
      "4          guillermo_mendola@yahoo.com.ar\n",
      "5                  correo@ecoverde.com.ar\n",
      "6    consulta.tecnica.ofi@fibertel.com.ar\n",
      "7                ricardo.roizen@gmail.com\n",
      "Length: 455, dtype: object\n"
     ]
    },
    {
     "name": "stderr",
     "output_type": "stream",
     "text": [
      "\n",
      " 42%|████▏     | 162/384 [37:17<1:25:44, 23.17s/it]\u001b[A"
     ]
    },
    {
     "name": "stdout",
     "output_type": "stream",
     "text": [
      "Ingeniero Textil Done 1                    ggcisterna@gmail.com\n",
      "1              sanchogabriela@hotmail.com\n",
      "1                  ecalamos@argentina.com\n",
      "4                  conghos@hotmail.com.ar\n",
      "5             marianonicola1975@gmail.com\n",
      "                     ...                 \n",
      "3               cmatrone@iplanmail.com.ar\n",
      "4          guillermo_mendola@yahoo.com.ar\n",
      "5                  correo@ecoverde.com.ar\n",
      "6    consulta.tecnica.ofi@fibertel.com.ar\n",
      "7                ricardo.roizen@gmail.com\n",
      "Length: 455, dtype: object\n"
     ]
    },
    {
     "name": "stderr",
     "output_type": "stream",
     "text": [
      "\n",
      " 42%|████▏     | 163/384 [37:24<1:07:47, 18.40s/it]\u001b[A"
     ]
    },
    {
     "name": "stdout",
     "output_type": "stream",
     "text": [
      "Ingeniero Zootecnista Done 1                    ggcisterna@gmail.com\n",
      "1              sanchogabriela@hotmail.com\n",
      "1                  ecalamos@argentina.com\n",
      "4                  conghos@hotmail.com.ar\n",
      "5             marianonicola1975@gmail.com\n",
      "                     ...                 \n",
      "4          guillermo_mendola@yahoo.com.ar\n",
      "5                  correo@ecoverde.com.ar\n",
      "6    consulta.tecnica.ofi@fibertel.com.ar\n",
      "7                ricardo.roizen@gmail.com\n",
      "1                  kvazquez@desler-sa.com\n",
      "Length: 456, dtype: object\n"
     ]
    },
    {
     "name": "stderr",
     "output_type": "stream",
     "text": [
      "\n",
      " 43%|████▎     | 164/384 [37:31<54:41, 14.92s/it]  \u001b[A"
     ]
    },
    {
     "name": "stdout",
     "output_type": "stream",
     "text": [
      "INGENIRO NAVAL Y MECANICO Done 1                    ggcisterna@gmail.com\n",
      "1              sanchogabriela@hotmail.com\n",
      "1                  ecalamos@argentina.com\n",
      "4                  conghos@hotmail.com.ar\n",
      "5             marianonicola1975@gmail.com\n",
      "                     ...                 \n",
      "4          guillermo_mendola@yahoo.com.ar\n",
      "5                  correo@ecoverde.com.ar\n",
      "6    consulta.tecnica.ofi@fibertel.com.ar\n",
      "7                ricardo.roizen@gmail.com\n",
      "1                  kvazquez@desler-sa.com\n",
      "Length: 456, dtype: object\n"
     ]
    },
    {
     "name": "stderr",
     "output_type": "stream",
     "text": [
      "\n",
      " 43%|████▎     | 165/384 [37:39<47:37, 13.05s/it]\u001b[A"
     ]
    },
    {
     "name": "stdout",
     "output_type": "stream",
     "text": [
      "LIC EN BIOLOGIA OR. ECOLOGIA Done 1                    ggcisterna@gmail.com\n",
      "1              sanchogabriela@hotmail.com\n",
      "1                  ecalamos@argentina.com\n",
      "4                  conghos@hotmail.com.ar\n",
      "5             marianonicola1975@gmail.com\n",
      "                     ...                 \n",
      "6    consulta.tecnica.ofi@fibertel.com.ar\n",
      "7                ricardo.roizen@gmail.com\n",
      "1                  kvazquez@desler-sa.com\n",
      "1              jeremiasppuentes@gmail.com\n",
      "2               nestestoni@cadiasa.com.ar\n",
      "Length: 458, dtype: object\n"
     ]
    },
    {
     "name": "stderr",
     "output_type": "stream",
     "text": [
      "\n",
      " 43%|████▎     | 166/384 [37:46<40:25, 11.13s/it]\u001b[A"
     ]
    },
    {
     "name": "stdout",
     "output_type": "stream",
     "text": [
      "Lic en Hig y Seg en el Trab, Esp en Protecc Ambtal Done 1                    ggcisterna@gmail.com\n",
      "1              sanchogabriela@hotmail.com\n",
      "1                  ecalamos@argentina.com\n",
      "4                  conghos@hotmail.com.ar\n",
      "5             marianonicola1975@gmail.com\n",
      "                     ...                 \n",
      "6    consulta.tecnica.ofi@fibertel.com.ar\n",
      "7                ricardo.roizen@gmail.com\n",
      "1                  kvazquez@desler-sa.com\n",
      "1              jeremiasppuentes@gmail.com\n",
      "2               nestestoni@cadiasa.com.ar\n",
      "Length: 458, dtype: object\n"
     ]
    },
    {
     "name": "stderr",
     "output_type": "stream",
     "text": [
      "\n",
      " 43%|████▎     | 167/384 [37:52<35:10,  9.73s/it]\u001b[A"
     ]
    },
    {
     "name": "stdout",
     "output_type": "stream",
     "text": [
      "Lic. Ciencias de la Educacion Done 1                    ggcisterna@gmail.com\n",
      "1              sanchogabriela@hotmail.com\n",
      "1                  ecalamos@argentina.com\n",
      "4                  conghos@hotmail.com.ar\n",
      "5             marianonicola1975@gmail.com\n",
      "                     ...                 \n",
      "6    consulta.tecnica.ofi@fibertel.com.ar\n",
      "7                ricardo.roizen@gmail.com\n",
      "1                  kvazquez@desler-sa.com\n",
      "1              jeremiasppuentes@gmail.com\n",
      "2               nestestoni@cadiasa.com.ar\n",
      "Length: 458, dtype: object\n"
     ]
    },
    {
     "name": "stderr",
     "output_type": "stream",
     "text": [
      "\n",
      " 44%|████▍     | 168/384 [38:00<32:47,  9.11s/it]\u001b[A"
     ]
    },
    {
     "name": "stdout",
     "output_type": "stream",
     "text": [
      "Lic. en Aprovechamiento de Recur. Nat. Renovables Done 1                    ggcisterna@gmail.com\n",
      "1              sanchogabriela@hotmail.com\n",
      "1                  ecalamos@argentina.com\n",
      "4                  conghos@hotmail.com.ar\n",
      "5             marianonicola1975@gmail.com\n",
      "                     ...                 \n",
      "6    consulta.tecnica.ofi@fibertel.com.ar\n",
      "7                ricardo.roizen@gmail.com\n",
      "1                  kvazquez@desler-sa.com\n",
      "1              jeremiasppuentes@gmail.com\n",
      "2               nestestoni@cadiasa.com.ar\n",
      "Length: 458, dtype: object\n"
     ]
    },
    {
     "name": "stderr",
     "output_type": "stream",
     "text": [
      "\n",
      " 44%|████▍     | 169/384 [38:11<34:31,  9.64s/it]\u001b[A"
     ]
    },
    {
     "name": "stdout",
     "output_type": "stream",
     "text": [
      "LIC. en BIOLOGIA con orientacion en  ZOOLOGIA Done 1           ggcisterna@gmail.com\n",
      "1     sanchogabriela@hotmail.com\n",
      "1         ecalamos@argentina.com\n",
      "4         conghos@hotmail.com.ar\n",
      "5    marianonicola1975@gmail.com\n",
      "                ...             \n",
      "1     jeremiasppuentes@gmail.com\n",
      "2      nestestoni@cadiasa.com.ar\n",
      "1     de-carolis@sinectis.com.ar\n",
      "2        YAMILARAHAL@HOTMAIL.COM\n",
      "3       rominavalente2@gmail.com\n",
      "Length: 461, dtype: object\n"
     ]
    },
    {
     "name": "stderr",
     "output_type": "stream",
     "text": [
      "\n",
      " 44%|████▍     | 170/384 [38:18<31:10,  8.74s/it]\u001b[A"
     ]
    },
    {
     "name": "stdout",
     "output_type": "stream",
     "text": [
      "LIC. EN BIOQUIMICA Done 1           ggcisterna@gmail.com\n",
      "1     sanchogabriela@hotmail.com\n",
      "1         ecalamos@argentina.com\n",
      "4         conghos@hotmail.com.ar\n",
      "5    marianonicola1975@gmail.com\n",
      "                ...             \n",
      "1     jeremiasppuentes@gmail.com\n",
      "2      nestestoni@cadiasa.com.ar\n",
      "1     de-carolis@sinectis.com.ar\n",
      "2        YAMILARAHAL@HOTMAIL.COM\n",
      "3       rominavalente2@gmail.com\n",
      "Length: 461, dtype: object\n"
     ]
    },
    {
     "name": "stderr",
     "output_type": "stream",
     "text": [
      "\n",
      " 45%|████▍     | 171/384 [38:24<28:36,  8.06s/it]\u001b[A"
     ]
    },
    {
     "name": "stdout",
     "output_type": "stream",
     "text": [
      "LIC. EN C. ANTROPOLOGICAS C. OR. ARQUEOLOGICA Done 1           ggcisterna@gmail.com\n",
      "1     sanchogabriela@hotmail.com\n",
      "1         ecalamos@argentina.com\n",
      "4         conghos@hotmail.com.ar\n",
      "5    marianonicola1975@gmail.com\n",
      "                ...             \n",
      "1     jeremiasppuentes@gmail.com\n",
      "2      nestestoni@cadiasa.com.ar\n",
      "1     de-carolis@sinectis.com.ar\n",
      "2        YAMILARAHAL@HOTMAIL.COM\n",
      "3       rominavalente2@gmail.com\n",
      "Length: 461, dtype: object\n"
     ]
    },
    {
     "name": "stderr",
     "output_type": "stream",
     "text": [
      "\n",
      " 45%|████▍     | 172/384 [38:38<34:09,  9.67s/it]\u001b[A"
     ]
    },
    {
     "name": "stdout",
     "output_type": "stream",
     "text": [
      "LIC. EN CIENCIAS AMBIENTALES Done 1           ggcisterna@gmail.com\n",
      "1     sanchogabriela@hotmail.com\n",
      "1         ecalamos@argentina.com\n",
      "4         conghos@hotmail.com.ar\n",
      "5    marianonicola1975@gmail.com\n",
      "                ...             \n",
      "2       marianelagiffi@gmail.com\n",
      "3          amartinez@agro.uba.ar\n",
      "4        ignacionmurga@gmail.com\n",
      "5    ORTELLADOMACARENA@GMAIL.COM\n",
      "6     picassojuanpablo@gmail.com\n",
      "Length: 467, dtype: object\n"
     ]
    },
    {
     "name": "stderr",
     "output_type": "stream",
     "text": [
      "\n",
      " 45%|████▌     | 173/384 [38:45<31:33,  8.97s/it]\u001b[A"
     ]
    },
    {
     "name": "stdout",
     "output_type": "stream",
     "text": [
      "LIC. EN CIENCIAS BIOLOGICAS Done 1           ggcisterna@gmail.com\n",
      "1     sanchogabriela@hotmail.com\n",
      "1         ecalamos@argentina.com\n",
      "4         conghos@hotmail.com.ar\n",
      "5    marianonicola1975@gmail.com\n",
      "                ...             \n",
      "3          amartinez@agro.uba.ar\n",
      "4        ignacionmurga@gmail.com\n",
      "5    ORTELLADOMACARENA@GMAIL.COM\n",
      "6     picassojuanpablo@gmail.com\n",
      "1          izzosilvina@gmail.com\n",
      "Length: 468, dtype: object\n"
     ]
    },
    {
     "name": "stderr",
     "output_type": "stream",
     "text": [
      "\n",
      " 45%|████▌     | 174/384 [38:54<31:01,  8.86s/it]\u001b[A"
     ]
    },
    {
     "name": "stdout",
     "output_type": "stream",
     "text": [
      "LIC. EN CIENCIAS DEL AMBIENTE Done 1           ggcisterna@gmail.com\n",
      "1     sanchogabriela@hotmail.com\n",
      "1         ecalamos@argentina.com\n",
      "4         conghos@hotmail.com.ar\n",
      "5    marianonicola1975@gmail.com\n",
      "                ...             \n",
      "1     cadan@mtconsultores.com.ar\n",
      "2     gaciacecilia.lic@gmail.com\n",
      "3         matias.postay@live.com\n",
      "4         ana.saura@yahoo.com.ar\n",
      "5            dmurquiza@gmail.com\n",
      "Length: 473, dtype: object\n"
     ]
    },
    {
     "name": "stderr",
     "output_type": "stream",
     "text": [
      "\n",
      " 46%|████▌     | 175/384 [39:06<34:59, 10.04s/it]\u001b[A"
     ]
    },
    {
     "name": "stdout",
     "output_type": "stream",
     "text": [
      "LIC. EN CIENCIAS GEOLOGICAS Done 1                               ggcisterna@gmail.com\n",
      "1                         sanchogabriela@hotmail.com\n",
      "1                             ecalamos@argentina.com\n",
      "4                             conghos@hotmail.com.ar\n",
      "5                        marianonicola1975@gmail.com\n",
      "                           ...                      \n",
      "6                          diegonheffner@hotmail.com\n",
      "7                                mi.sirsrl@gmail.com\n",
      "8                                rlopez@yahoo.com.ar\n",
      "9                        smarcomini2006@yahoo.com.ar\n",
      "10    MJ.ARGEO@HOTMAIL.COM / geologia@cristamine.com\n",
      "Length: 480, dtype: object\n"
     ]
    },
    {
     "name": "stderr",
     "output_type": "stream",
     "text": [
      "\n",
      " 46%|████▌     | 176/384 [39:16<34:13,  9.87s/it]\u001b[A"
     ]
    },
    {
     "name": "stdout",
     "output_type": "stream",
     "text": [
      "LIC. EN CIENCIAS QUÍMICAS Done 1                               ggcisterna@gmail.com\n",
      "1                         sanchogabriela@hotmail.com\n",
      "1                             ecalamos@argentina.com\n",
      "4                             conghos@hotmail.com.ar\n",
      "5                        marianonicola1975@gmail.com\n",
      "                           ...                      \n",
      "10    MJ.ARGEO@HOTMAIL.COM / geologia@cristamine.com\n",
      "1                            gesa.integral@gmail.com\n",
      "2                               mfbauleo@hotmail.com\n",
      "4                          fabianjaruf@speedy.com.ar\n",
      "5                                elieschke@gmail.com\n",
      "Length: 484, dtype: object\n"
     ]
    },
    {
     "name": "stderr",
     "output_type": "stream",
     "text": [
      "\n",
      " 46%|████▌     | 177/384 [39:23<30:50,  8.94s/it]\u001b[A"
     ]
    },
    {
     "name": "stdout",
     "output_type": "stream",
     "text": [
      "LIC. EN CIENCIAS QUIMICAS O. ANALISIS BIOLOGICOS Done 1                               ggcisterna@gmail.com\n",
      "1                         sanchogabriela@hotmail.com\n",
      "1                             ecalamos@argentina.com\n",
      "4                             conghos@hotmail.com.ar\n",
      "5                        marianonicola1975@gmail.com\n",
      "                           ...                      \n",
      "10    MJ.ARGEO@HOTMAIL.COM / geologia@cristamine.com\n",
      "1                            gesa.integral@gmail.com\n",
      "2                               mfbauleo@hotmail.com\n",
      "4                          fabianjaruf@speedy.com.ar\n",
      "5                                elieschke@gmail.com\n",
      "Length: 484, dtype: object\n"
     ]
    },
    {
     "name": "stderr",
     "output_type": "stream",
     "text": [
      "\n",
      " 46%|████▋     | 178/384 [39:29<28:09,  8.20s/it]\u001b[A"
     ]
    },
    {
     "name": "stdout",
     "output_type": "stream",
     "text": [
      "Lic. en Ecolgia y Cons.de Rec. Nat. Renovables Done 1                               ggcisterna@gmail.com\n",
      "1                         sanchogabriela@hotmail.com\n",
      "1                             ecalamos@argentina.com\n",
      "4                             conghos@hotmail.com.ar\n",
      "5                        marianonicola1975@gmail.com\n",
      "                           ...                      \n",
      "10    MJ.ARGEO@HOTMAIL.COM / geologia@cristamine.com\n",
      "1                            gesa.integral@gmail.com\n",
      "2                               mfbauleo@hotmail.com\n",
      "4                          fabianjaruf@speedy.com.ar\n",
      "5                                elieschke@gmail.com\n",
      "Length: 484, dtype: object\n"
     ]
    },
    {
     "name": "stderr",
     "output_type": "stream",
     "text": [
      "\n",
      " 47%|████▋     | 179/384 [39:36<26:53,  7.87s/it]\u001b[A"
     ]
    },
    {
     "name": "stdout",
     "output_type": "stream",
     "text": [
      "LIC. EN ENSEÑANZA DE LAS CIENCIAS DEL AMBIENTE Done 1           ggcisterna@gmail.com\n",
      "1     sanchogabriela@hotmail.com\n",
      "1         ecalamos@argentina.com\n",
      "4         conghos@hotmail.com.ar\n",
      "5    marianonicola1975@gmail.com\n",
      "                ...             \n",
      "1        gesa.integral@gmail.com\n",
      "2           mfbauleo@hotmail.com\n",
      "4      fabianjaruf@speedy.com.ar\n",
      "5            elieschke@gmail.com\n",
      "1        porcellilucio@gmail.com\n",
      "Length: 485, dtype: object\n"
     ]
    },
    {
     "name": "stderr",
     "output_type": "stream",
     "text": [
      "\n",
      " 47%|████▋     | 180/384 [39:56<38:52, 11.43s/it]\u001b[A"
     ]
    },
    {
     "name": "stdout",
     "output_type": "stream",
     "text": [
      "LIC. EN GEOLOGIA Done 1            ggcisterna@gmail.com\n",
      "1      sanchogabriela@hotmail.com\n",
      "1          ecalamos@argentina.com\n",
      "4          conghos@hotmail.com.ar\n",
      "5     marianonicola1975@gmail.com\n",
      "                 ...             \n",
      "8               juan7@hotmail.com\n",
      "9             qlondono@mdp.edu.ar\n",
      "10            ruizapgeo@gmail.com\n",
      "11           frspeziale@gmail.com\n",
      "12              vucar@hotmail.com\n",
      "Length: 497, dtype: object\n"
     ]
    },
    {
     "name": "stderr",
     "output_type": "stream",
     "text": [
      "\n",
      " 47%|████▋     | 181/384 [40:04<35:10, 10.40s/it]\u001b[A"
     ]
    },
    {
     "name": "stdout",
     "output_type": "stream",
     "text": [
      "LIC. EN GERENCIAMIENTO AMBIENTAL Done 1              ggcisterna@gmail.com\n",
      "1        sanchogabriela@hotmail.com\n",
      "1            ecalamos@argentina.com\n",
      "4            conghos@hotmail.com.ar\n",
      "5       marianonicola1975@gmail.com\n",
      "                  ...              \n",
      "10              ruizapgeo@gmail.com\n",
      "11             frspeziale@gmail.com\n",
      "12                vucar@hotmail.com\n",
      "1         sergiociglesias@gmail.com\n",
      "2     julietaveronica2@yahoo.com.ar\n",
      "Length: 499, dtype: object\n"
     ]
    },
    {
     "name": "stderr",
     "output_type": "stream",
     "text": [
      "\n",
      " 47%|████▋     | 182/384 [40:16<36:56, 10.97s/it]\u001b[A"
     ]
    },
    {
     "name": "stdout",
     "output_type": "stream",
     "text": [
      "Lic. en Gestion Ambiental Done 1             ggcisterna@gmail.com\n",
      "1       sanchogabriela@hotmail.com\n",
      "1           ecalamos@argentina.com\n",
      "4           conghos@hotmail.com.ar\n",
      "5      marianonicola1975@gmail.com\n",
      "                 ...              \n",
      "4        pablocesarduran@gmail.com\n",
      "5       valeria_flamin@hotmail.com\n",
      "6                 DALOI@HOTMAIL.ES\n",
      "7    nataliamontanari@yahoo.com.ar\n",
      "8          nogueiras@serman.com.ar\n",
      "Length: 507, dtype: object\n"
     ]
    },
    {
     "name": "stderr",
     "output_type": "stream",
     "text": [
      "\n",
      " 48%|████▊     | 183/384 [40:24<33:56, 10.13s/it]\u001b[A"
     ]
    },
    {
     "name": "stdout",
     "output_type": "stream",
     "text": [
      "LIC. EN GESTION AMBIENTAL URBANA Done 1             ggcisterna@gmail.com\n",
      "1       sanchogabriela@hotmail.com\n",
      "1           ecalamos@argentina.com\n",
      "4           conghos@hotmail.com.ar\n",
      "5      marianonicola1975@gmail.com\n",
      "                 ...              \n",
      "6                 DALOI@HOTMAIL.ES\n",
      "7    nataliamontanari@yahoo.com.ar\n",
      "8          nogueiras@serman.com.ar\n",
      "1      nicolasbasso_91@hotmail.com\n",
      "2        pablocesarduran@gmail.com\n",
      "Length: 509, dtype: object\n"
     ]
    },
    {
     "name": "stderr",
     "output_type": "stream",
     "text": [
      "\n",
      " 48%|████▊     | 184/384 [41:59<1:58:30, 35.55s/it]\u001b[A"
     ]
    },
    {
     "name": "stdout",
     "output_type": "stream",
     "text": [
      "LIC. EN HIGIENE Y  SEG EN EL TRABAJO Done 1              ggcisterna@gmail.com\n",
      "1        sanchogabriela@hotmail.com\n",
      "1            ecalamos@argentina.com\n",
      "4            conghos@hotmail.com.ar\n",
      "5       marianonicola1975@gmail.com\n",
      "                  ...              \n",
      "82                ntrinak@gmail.com\n",
      "83    carolina.vallejos@hotmail.com\n",
      "86            eliydioni@hotmail.com\n",
      "87                cvolpi@way.com.ar\n",
      "88    micaela.zegarra@edelap.com.ar\n",
      "Length: 594, dtype: object\n"
     ]
    },
    {
     "name": "stderr",
     "output_type": "stream",
     "text": [
      "\n",
      " 48%|████▊     | 185/384 [42:06<1:29:26, 26.97s/it]\u001b[A"
     ]
    },
    {
     "name": "stdout",
     "output_type": "stream",
     "text": [
      "LIC. EN HIGIENE Y SEGURIDAD INDUSTRIAL Done 1              ggcisterna@gmail.com\n",
      "1        sanchogabriela@hotmail.com\n",
      "1            ecalamos@argentina.com\n",
      "4            conghos@hotmail.com.ar\n",
      "5       marianonicola1975@gmail.com\n",
      "                  ...              \n",
      "83    carolina.vallejos@hotmail.com\n",
      "86            eliydioni@hotmail.com\n",
      "87                cvolpi@way.com.ar\n",
      "88    micaela.zegarra@edelap.com.ar\n",
      "1            msdiaz_shi@hotmail.com\n",
      "Length: 595, dtype: object\n"
     ]
    },
    {
     "name": "stderr",
     "output_type": "stream",
     "text": [
      "\n",
      " 48%|████▊     | 186/384 [42:13<1:08:47, 20.84s/it]\u001b[A"
     ]
    },
    {
     "name": "stdout",
     "output_type": "stream",
     "text": [
      "LIC. EN PROTECCIÓN Y SANEAMIENTO AMBIENTAL Done 1              ggcisterna@gmail.com\n",
      "1        sanchogabriela@hotmail.com\n",
      "1            ecalamos@argentina.com\n",
      "4            conghos@hotmail.com.ar\n",
      "5       marianonicola1975@gmail.com\n",
      "                  ...              \n",
      "86            eliydioni@hotmail.com\n",
      "87                cvolpi@way.com.ar\n",
      "88    micaela.zegarra@edelap.com.ar\n",
      "1            msdiaz_shi@hotmail.com\n",
      "1          melissafarroni@gmail.com\n",
      "Length: 596, dtype: object\n"
     ]
    },
    {
     "name": "stderr",
     "output_type": "stream",
     "text": [
      "\n",
      " 49%|████▊     | 187/384 [42:21<56:28, 17.20s/it]  \u001b[A"
     ]
    },
    {
     "name": "stdout",
     "output_type": "stream",
     "text": [
      "Lic. en Química y Tecnología Ambiental Done 1              ggcisterna@gmail.com\n",
      "1        sanchogabriela@hotmail.com\n",
      "1            ecalamos@argentina.com\n",
      "4            conghos@hotmail.com.ar\n",
      "5       marianonicola1975@gmail.com\n",
      "                  ...              \n",
      "87                cvolpi@way.com.ar\n",
      "88    micaela.zegarra@edelap.com.ar\n",
      "1            msdiaz_shi@hotmail.com\n",
      "1          melissafarroni@gmail.com\n",
      "1            mieresnoelia@gmail.com\n",
      "Length: 597, dtype: object\n"
     ]
    },
    {
     "name": "stderr",
     "output_type": "stream",
     "text": [
      "\n",
      " 49%|████▉     | 188/384 [42:29<46:25, 14.21s/it]\u001b[A"
     ]
    },
    {
     "name": "stdout",
     "output_type": "stream",
     "text": [
      "LIC. EN RELACIONES COM. INTERNACIONALES Done 1              ggcisterna@gmail.com\n",
      "1        sanchogabriela@hotmail.com\n",
      "1            ecalamos@argentina.com\n",
      "4            conghos@hotmail.com.ar\n",
      "5       marianonicola1975@gmail.com\n",
      "                  ...              \n",
      "87                cvolpi@way.com.ar\n",
      "88    micaela.zegarra@edelap.com.ar\n",
      "1            msdiaz_shi@hotmail.com\n",
      "1          melissafarroni@gmail.com\n",
      "1            mieresnoelia@gmail.com\n",
      "Length: 597, dtype: object\n"
     ]
    },
    {
     "name": "stderr",
     "output_type": "stream",
     "text": [
      "\n",
      " 49%|████▉     | 189/384 [42:36<39:37, 12.19s/it]\u001b[A"
     ]
    },
    {
     "name": "stdout",
     "output_type": "stream",
     "text": [
      "LIC. EN RELACIONES INDUSTRIALES CON ESPEC. EN UCA, Done 1              ggcisterna@gmail.com\n",
      "1        sanchogabriela@hotmail.com\n",
      "1            ecalamos@argentina.com\n",
      "4            conghos@hotmail.com.ar\n",
      "5       marianonicola1975@gmail.com\n",
      "                  ...              \n",
      "87                cvolpi@way.com.ar\n",
      "88    micaela.zegarra@edelap.com.ar\n",
      "1            msdiaz_shi@hotmail.com\n",
      "1          melissafarroni@gmail.com\n",
      "1            mieresnoelia@gmail.com\n",
      "Length: 597, dtype: object\n"
     ]
    },
    {
     "name": "stderr",
     "output_type": "stream",
     "text": [
      "\n",
      " 49%|████▉     | 190/384 [42:44<35:20, 10.93s/it]\u001b[A"
     ]
    },
    {
     "name": "stdout",
     "output_type": "stream",
     "text": [
      "Lic. en Saneamiento y proteccion ambiental Done 1              ggcisterna@gmail.com\n",
      "1        sanchogabriela@hotmail.com\n",
      "1            ecalamos@argentina.com\n",
      "4            conghos@hotmail.com.ar\n",
      "5       marianonicola1975@gmail.com\n",
      "                  ...              \n",
      "87                cvolpi@way.com.ar\n",
      "88    micaela.zegarra@edelap.com.ar\n",
      "1            msdiaz_shi@hotmail.com\n",
      "1          melissafarroni@gmail.com\n",
      "1            mieresnoelia@gmail.com\n",
      "Length: 597, dtype: object\n"
     ]
    },
    {
     "name": "stderr",
     "output_type": "stream",
     "text": [
      "\n",
      " 50%|████▉     | 191/384 [42:52<32:19, 10.05s/it]\u001b[A"
     ]
    },
    {
     "name": "stdout",
     "output_type": "stream",
     "text": [
      "Lic. en Seg. e Higiene en el Trabajo y Medio Amb. Done 1                     ggcisterna@gmail.com\n",
      "1               sanchogabriela@hotmail.com\n",
      "1                   ecalamos@argentina.com\n",
      "4                   conghos@hotmail.com.ar\n",
      "5              marianonicola1975@gmail.com\n",
      "                     ...                  \n",
      "1                   msdiaz_shi@hotmail.com\n",
      "1                 melissafarroni@gmail.com\n",
      "1                   mieresnoelia@gmail.com\n",
      "1    nicolasbocca@prevenirseguridad.com.ar\n",
      "2           nrodriguez@consultorars.com.ar\n",
      "Length: 599, dtype: object\n"
     ]
    },
    {
     "name": "stderr",
     "output_type": "stream",
     "text": [
      "\n",
      " 50%|█████     | 192/384 [42:59<29:10,  9.12s/it]\u001b[A"
     ]
    },
    {
     "name": "stdout",
     "output_type": "stream",
     "text": [
      "LIC. EN SEG. HIGIENE IND. Y CONTROL AMBIENTAL Done 1                     ggcisterna@gmail.com\n",
      "1               sanchogabriela@hotmail.com\n",
      "1                   ecalamos@argentina.com\n",
      "4                   conghos@hotmail.com.ar\n",
      "5              marianonicola1975@gmail.com\n",
      "                     ...                  \n",
      "1                 melissafarroni@gmail.com\n",
      "1                   mieresnoelia@gmail.com\n",
      "1    nicolasbocca@prevenirseguridad.com.ar\n",
      "2           nrodriguez@consultorars.com.ar\n",
      "1                 AMBIENTAL@LABTESA.COM.AR\n",
      "Length: 600, dtype: object\n"
     ]
    },
    {
     "name": "stderr",
     "output_type": "stream",
     "text": [
      "\n",
      " 50%|█████     | 193/384 [43:07<27:28,  8.63s/it]\u001b[A"
     ]
    },
    {
     "name": "stdout",
     "output_type": "stream",
     "text": [
      "Lic. en Seguridad Ambiental Done 1                     ggcisterna@gmail.com\n",
      "1               sanchogabriela@hotmail.com\n",
      "1                   ecalamos@argentina.com\n",
      "4                   conghos@hotmail.com.ar\n",
      "5              marianonicola1975@gmail.com\n",
      "                     ...                  \n",
      "1                   mieresnoelia@gmail.com\n",
      "1    nicolasbocca@prevenirseguridad.com.ar\n",
      "2           nrodriguez@consultorars.com.ar\n",
      "1                 AMBIENTAL@LABTESA.COM.AR\n",
      "1              CONSULTORAALFAR@HOTMAIL.COM\n",
      "Length: 601, dtype: object\n"
     ]
    },
    {
     "name": "stderr",
     "output_type": "stream",
     "text": [
      "\n",
      " 51%|█████     | 194/384 [43:15<27:31,  8.69s/it]\u001b[A"
     ]
    },
    {
     "name": "stdout",
     "output_type": "stream",
     "text": [
      "LIC. EN SEGURIDAD E HIGIENE  Done 1              ggcisterna@gmail.com\n",
      "1        sanchogabriela@hotmail.com\n",
      "1            ecalamos@argentina.com\n",
      "4            conghos@hotmail.com.ar\n",
      "5       marianonicola1975@gmail.com\n",
      "                  ...              \n",
      "2    nrodriguez@consultorars.com.ar\n",
      "1          AMBIENTAL@LABTESA.COM.AR\n",
      "1       CONSULTORAALFAR@HOTMAIL.COM\n",
      "1           hysdemateo@yahoo.com.ar\n",
      "2             ayelenff@yahoo.com.ar\n",
      "Length: 603, dtype: object\n"
     ]
    },
    {
     "name": "stderr",
     "output_type": "stream",
     "text": [
      "\n",
      " 51%|█████     | 195/384 [43:22<25:25,  8.07s/it]\u001b[A"
     ]
    },
    {
     "name": "stdout",
     "output_type": "stream",
     "text": [
      "LIC. EN SEGURIDAD Y SALUD OCUPACIONAL Done 1              ggcisterna@gmail.com\n",
      "1        sanchogabriela@hotmail.com\n",
      "1            ecalamos@argentina.com\n",
      "4            conghos@hotmail.com.ar\n",
      "5       marianonicola1975@gmail.com\n",
      "                  ...              \n",
      "2    nrodriguez@consultorars.com.ar\n",
      "1          AMBIENTAL@LABTESA.COM.AR\n",
      "1       CONSULTORAALFAR@HOTMAIL.COM\n",
      "1           hysdemateo@yahoo.com.ar\n",
      "2             ayelenff@yahoo.com.ar\n",
      "Length: 603, dtype: object\n"
     ]
    },
    {
     "name": "stderr",
     "output_type": "stream",
     "text": [
      "\n",
      " 51%|█████     | 196/384 [43:57<50:17, 16.05s/it]\u001b[A"
     ]
    },
    {
     "name": "stdout",
     "output_type": "stream",
     "text": [
      "Lic. en Seguridad, Higiene y Control Ambiental Lab Done 1                   ggcisterna@gmail.com\n",
      "1             sanchogabriela@hotmail.com\n",
      "1                 ecalamos@argentina.com\n",
      "4                 conghos@hotmail.com.ar\n",
      "5            marianonicola1975@gmail.com\n",
      "                     ...                \n",
      "23     emiliano.rodriguez@hotmail.com.ar\n",
      "24                    nesayago@gmail.com\n",
      "25                bruno_sosa@hotmail.com\n",
      "26    lsperoni@comunicarseguridad.com.ar\n",
      "27                tello.diegom@gmail.com\n",
      "Length: 629, dtype: object\n"
     ]
    },
    {
     "name": "stderr",
     "output_type": "stream",
     "text": [
      "\n",
      " 51%|█████▏    | 197/384 [44:04<41:34, 13.34s/it]\u001b[A"
     ]
    },
    {
     "name": "stdout",
     "output_type": "stream",
     "text": [
      "LIC. EN SISTEMAS  Done 1                   ggcisterna@gmail.com\n",
      "1             sanchogabriela@hotmail.com\n",
      "1                 ecalamos@argentina.com\n",
      "4                 conghos@hotmail.com.ar\n",
      "5            marianonicola1975@gmail.com\n",
      "                     ...                \n",
      "24                    nesayago@gmail.com\n",
      "25                bruno_sosa@hotmail.com\n",
      "26    lsperoni@comunicarseguridad.com.ar\n",
      "27                tello.diegom@gmail.com\n",
      "1                    jmarquez@edenor.com\n",
      "Length: 630, dtype: object\n"
     ]
    },
    {
     "name": "stderr",
     "output_type": "stream",
     "text": [
      "\n",
      " 52%|█████▏    | 198/384 [44:11<35:31, 11.46s/it]\u001b[A"
     ]
    },
    {
     "name": "stdout",
     "output_type": "stream",
     "text": [
      "LIC. EN TECNOLOGÍA AMBIENTAL Done 1                   ggcisterna@gmail.com\n",
      "1             sanchogabriela@hotmail.com\n",
      "1                 ecalamos@argentina.com\n",
      "4                 conghos@hotmail.com.ar\n",
      "5            marianonicola1975@gmail.com\n",
      "                     ...                \n",
      "26    lsperoni@comunicarseguridad.com.ar\n",
      "27                tello.diegom@gmail.com\n",
      "1                    jmarquez@edenor.com\n",
      "1                pfacundo.orte@gmail.com\n",
      "2         mariano.javier.veron@gmail.com\n",
      "Length: 632, dtype: object\n"
     ]
    },
    {
     "name": "stderr",
     "output_type": "stream",
     "text": [
      "\n",
      " 52%|█████▏    | 199/384 [44:18<31:32, 10.23s/it]\u001b[A"
     ]
    },
    {
     "name": "stdout",
     "output_type": "stream",
     "text": [
      "LIC. INFORMACIÓN AMBIENTAL Done 1               ggcisterna@gmail.com\n",
      "1         sanchogabriela@hotmail.com\n",
      "1             ecalamos@argentina.com\n",
      "4             conghos@hotmail.com.ar\n",
      "5        marianonicola1975@gmail.com\n",
      "                   ...              \n",
      "27            tello.diegom@gmail.com\n",
      "1                jmarquez@edenor.com\n",
      "1            pfacundo.orte@gmail.com\n",
      "2     mariano.javier.veron@gmail.com\n",
      "1          JULIANADUENAS.A@GMAIL.COM\n",
      "Length: 633, dtype: object\n"
     ]
    },
    {
     "name": "stderr",
     "output_type": "stream",
     "text": [
      "\n",
      " 52%|█████▏    | 200/384 [44:28<30:49, 10.05s/it]\u001b[A"
     ]
    },
    {
     "name": "stdout",
     "output_type": "stream",
     "text": [
      "LIC. SEGURIDAD E HIGIENE Y CONTROL AMBIENTAL Done 1              ggcisterna@gmail.com\n",
      "1        sanchogabriela@hotmail.com\n",
      "1            ecalamos@argentina.com\n",
      "4            conghos@hotmail.com.ar\n",
      "5       marianonicola1975@gmail.com\n",
      "                  ...              \n",
      "1               jmarquez@edenor.com\n",
      "1           pfacundo.orte@gmail.com\n",
      "2    mariano.javier.veron@gmail.com\n",
      "1         JULIANADUENAS.A@GMAIL.COM\n",
      "1              ggcisterna@gmail.com\n",
      "Length: 634, dtype: object\n"
     ]
    },
    {
     "name": "stderr",
     "output_type": "stream",
     "text": [
      "\n",
      " 52%|█████▏    | 201/384 [44:34<27:32,  9.03s/it]\u001b[A"
     ]
    },
    {
     "name": "stdout",
     "output_type": "stream",
     "text": [
      "Lic.en Biologia OR Zoologia Done 1              ggcisterna@gmail.com\n",
      "1        sanchogabriela@hotmail.com\n",
      "1            ecalamos@argentina.com\n",
      "4            conghos@hotmail.com.ar\n",
      "5       marianonicola1975@gmail.com\n",
      "                  ...              \n",
      "1               jmarquez@edenor.com\n",
      "1           pfacundo.orte@gmail.com\n",
      "2    mariano.javier.veron@gmail.com\n",
      "1         JULIANADUENAS.A@GMAIL.COM\n",
      "1              ggcisterna@gmail.com\n",
      "Length: 634, dtype: object\n"
     ]
    },
    {
     "name": "stderr",
     "output_type": "stream",
     "text": [
      "\n",
      " 53%|█████▎    | 202/384 [44:43<27:11,  8.97s/it]\u001b[A"
     ]
    },
    {
     "name": "stdout",
     "output_type": "stream",
     "text": [
      "Lic.en Seg e Hig y Control Amb Laboral Done 1              ggcisterna@gmail.com\n",
      "1        sanchogabriela@hotmail.com\n",
      "1            ecalamos@argentina.com\n",
      "4            conghos@hotmail.com.ar\n",
      "5       marianonicola1975@gmail.com\n",
      "                  ...              \n",
      "2    mariano.javier.veron@gmail.com\n",
      "1         JULIANADUENAS.A@GMAIL.COM\n",
      "1              ggcisterna@gmail.com\n",
      "1                 mcano@live.com.ar\n",
      "3        juan.wieckiewick@gmail.com\n",
      "Length: 636, dtype: object\n"
     ]
    },
    {
     "name": "stderr",
     "output_type": "stream",
     "text": [
      "\n",
      " 53%|█████▎    | 203/384 [45:00<34:13, 11.35s/it]\u001b[A"
     ]
    },
    {
     "name": "stdout",
     "output_type": "stream",
     "text": [
      "Licenciad en Seguridad y salud ocupacional Done 1            ggcisterna@gmail.com\n",
      "1      sanchogabriela@hotmail.com\n",
      "1          ecalamos@argentina.com\n",
      "4          conghos@hotmail.com.ar\n",
      "5     marianonicola1975@gmail.com\n",
      "                 ...             \n",
      "3     sabrinaastrada@yahoo.com.ar\n",
      "4           martincua@hotmail.com\n",
      "5                hugesp@gmail.com\n",
      "6    georgina.b.gomez@hotmail.com\n",
      "7         lorena_groh@hotmail.com\n",
      "Length: 643, dtype: object\n"
     ]
    },
    {
     "name": "stderr",
     "output_type": "stream",
     "text": [
      "\n",
      " 53%|█████▎    | 204/384 [45:11<33:18, 11.11s/it]\u001b[A"
     ]
    },
    {
     "name": "stdout",
     "output_type": "stream",
     "text": [
      "LICENCIADA  EN CIENCIAS DEL AMBIENTE Done 1                              ggcisterna@gmail.com\n",
      "1                        sanchogabriela@hotmail.com\n",
      "1                            ecalamos@argentina.com\n",
      "4                            conghos@hotmail.com.ar\n",
      "5                       marianonicola1975@gmail.com\n",
      "                          ...                      \n",
      "6                      georgina.b.gomez@hotmail.com\n",
      "7                           lorena_groh@hotmail.com\n",
      "1                                jorge@amari.com.ar\n",
      "2    yaninacasaca@gmail.com / yanina@exonova.com.ar\n",
      "3                        miriamparcero@yahoo.com.ar\n",
      "Length: 646, dtype: object\n"
     ]
    },
    {
     "name": "stderr",
     "output_type": "stream",
     "text": [
      "\n",
      " 53%|█████▎    | 205/384 [45:18<29:35,  9.92s/it]\u001b[A"
     ]
    },
    {
     "name": "stdout",
     "output_type": "stream",
     "text": [
      "Licenciada en Análisis Ambiental Done 1                              ggcisterna@gmail.com\n",
      "1                        sanchogabriela@hotmail.com\n",
      "1                            ecalamos@argentina.com\n",
      "4                            conghos@hotmail.com.ar\n",
      "5                       marianonicola1975@gmail.com\n",
      "                          ...                      \n",
      "7                           lorena_groh@hotmail.com\n",
      "1                                jorge@amari.com.ar\n",
      "2    yaninacasaca@gmail.com / yanina@exonova.com.ar\n",
      "3                        miriamparcero@yahoo.com.ar\n",
      "1                          rominabaldi@yahoo.com.ar\n",
      "Length: 647, dtype: object\n"
     ]
    },
    {
     "name": "stderr",
     "output_type": "stream",
     "text": [
      "\n",
      " 54%|█████▎    | 206/384 [45:24<26:15,  8.85s/it]\u001b[A"
     ]
    },
    {
     "name": "stdout",
     "output_type": "stream",
     "text": [
      "LICENCIADA EN BIOTECNOLOGIA Done 1                              ggcisterna@gmail.com\n",
      "1                        sanchogabriela@hotmail.com\n",
      "1                            ecalamos@argentina.com\n",
      "4                            conghos@hotmail.com.ar\n",
      "5                       marianonicola1975@gmail.com\n",
      "                          ...                      \n",
      "7                           lorena_groh@hotmail.com\n",
      "1                                jorge@amari.com.ar\n",
      "2    yaninacasaca@gmail.com / yanina@exonova.com.ar\n",
      "3                        miriamparcero@yahoo.com.ar\n",
      "1                          rominabaldi@yahoo.com.ar\n",
      "Length: 647, dtype: object\n"
     ]
    },
    {
     "name": "stderr",
     "output_type": "stream",
     "text": [
      "\n",
      " 54%|█████▍    | 207/384 [45:31<24:11,  8.20s/it]\u001b[A"
     ]
    },
    {
     "name": "stdout",
     "output_type": "stream",
     "text": [
      "LICENCIADA EN BROMATOLOGIA Done 1                              ggcisterna@gmail.com\n",
      "1                        sanchogabriela@hotmail.com\n",
      "1                            ecalamos@argentina.com\n",
      "4                            conghos@hotmail.com.ar\n",
      "5                       marianonicola1975@gmail.com\n",
      "                          ...                      \n",
      "7                           lorena_groh@hotmail.com\n",
      "1                                jorge@amari.com.ar\n",
      "2    yaninacasaca@gmail.com / yanina@exonova.com.ar\n",
      "3                        miriamparcero@yahoo.com.ar\n",
      "1                          rominabaldi@yahoo.com.ar\n",
      "Length: 647, dtype: object\n"
     ]
    },
    {
     "name": "stderr",
     "output_type": "stream",
     "text": [
      "\n",
      " 54%|█████▍    | 208/384 [45:38<22:52,  7.80s/it]\u001b[A"
     ]
    },
    {
     "name": "stdout",
     "output_type": "stream",
     "text": [
      "Licenciada en Ciencia y Tecnología de Alimentos Done 1                              ggcisterna@gmail.com\n",
      "1                        sanchogabriela@hotmail.com\n",
      "1                            ecalamos@argentina.com\n",
      "4                            conghos@hotmail.com.ar\n",
      "5                       marianonicola1975@gmail.com\n",
      "                          ...                      \n",
      "7                           lorena_groh@hotmail.com\n",
      "1                                jorge@amari.com.ar\n",
      "2    yaninacasaca@gmail.com / yanina@exonova.com.ar\n",
      "3                        miriamparcero@yahoo.com.ar\n",
      "1                          rominabaldi@yahoo.com.ar\n",
      "Length: 647, dtype: object\n"
     ]
    },
    {
     "name": "stderr",
     "output_type": "stream",
     "text": [
      "\n",
      " 54%|█████▍    | 209/384 [45:55<30:55, 10.60s/it]\u001b[A"
     ]
    },
    {
     "name": "stdout",
     "output_type": "stream",
     "text": [
      "LICENCIADA EN CIENCIAS AMBIENTALES Done 1                 ggcisterna@gmail.com\n",
      "1           sanchogabriela@hotmail.com\n",
      "1               ecalamos@argentina.com\n",
      "4               conghos@hotmail.com.ar\n",
      "5          marianonicola1975@gmail.com\n",
      "                    ...               \n",
      "7             nicole.dorbesi@gmail.com\n",
      "8        mercedesgallo@fibertel.com.ar\n",
      "9          astrid_gardiner@hotmail.com\n",
      "11    MARIAEUGENIA_MARTIN@YAHOO.COM.AR\n",
      "12             marcomateu@yahoo.com.ar\n",
      "Length: 658, dtype: object\n"
     ]
    },
    {
     "name": "stderr",
     "output_type": "stream",
     "text": [
      "\n",
      " 55%|█████▍    | 210/384 [46:08<33:15, 11.47s/it]\u001b[A"
     ]
    },
    {
     "name": "stdout",
     "output_type": "stream",
     "text": [
      "Licenciada en Ciencias Geologicas Done 1              ggcisterna@gmail.com\n",
      "1        sanchogabriela@hotmail.com\n",
      "1            ecalamos@argentina.com\n",
      "4            conghos@hotmail.com.ar\n",
      "5       marianonicola1975@gmail.com\n",
      "                  ...              \n",
      "12          marcomateu@yahoo.com.ar\n",
      "1     angelettirodolfo@yahoo.com.ar\n",
      "2           sbojarski1@yahoo.com.ar\n",
      "3             enronzoni@hotmail.com\n",
      "4            gturazzini@demison.com\n",
      "Length: 662, dtype: object\n"
     ]
    },
    {
     "name": "stderr",
     "output_type": "stream",
     "text": [
      "\n",
      " 55%|█████▍    | 211/384 [46:15<29:04, 10.08s/it]\u001b[A"
     ]
    },
    {
     "name": "stdout",
     "output_type": "stream",
     "text": [
      "Licenciada en Ciencias Politicas Done 1              ggcisterna@gmail.com\n",
      "1        sanchogabriela@hotmail.com\n",
      "1            ecalamos@argentina.com\n",
      "4            conghos@hotmail.com.ar\n",
      "5       marianonicola1975@gmail.com\n",
      "                  ...              \n",
      "12          marcomateu@yahoo.com.ar\n",
      "1     angelettirodolfo@yahoo.com.ar\n",
      "2           sbojarski1@yahoo.com.ar\n",
      "3             enronzoni@hotmail.com\n",
      "4            gturazzini@demison.com\n",
      "Length: 662, dtype: object\n"
     ]
    },
    {
     "name": "stderr",
     "output_type": "stream",
     "text": [
      "\n",
      " 55%|█████▌    | 212/384 [46:22<26:12,  9.14s/it]\u001b[A"
     ]
    },
    {
     "name": "stdout",
     "output_type": "stream",
     "text": [
      "LICENCIADA EN CIENCIAS QUIMICAS O. ANALISIS QUIM. Done 1             ggcisterna@gmail.com\n",
      "1       sanchogabriela@hotmail.com\n",
      "1           ecalamos@argentina.com\n",
      "4           conghos@hotmail.com.ar\n",
      "5      marianonicola1975@gmail.com\n",
      "                 ...              \n",
      "1    angelettirodolfo@yahoo.com.ar\n",
      "2          sbojarski1@yahoo.com.ar\n",
      "3            enronzoni@hotmail.com\n",
      "4           gturazzini@demison.com\n",
      "1        tecnologia@induser.com.ar\n",
      "Length: 663, dtype: object\n"
     ]
    },
    {
     "name": "stderr",
     "output_type": "stream",
     "text": [
      "\n",
      " 55%|█████▌    | 213/384 [46:42<35:03, 12.30s/it]\u001b[A"
     ]
    },
    {
     "name": "stdout",
     "output_type": "stream",
     "text": [
      "Licenciada en Diagnóstico y Gestión Ambiental Done 1                ggcisterna@gmail.com\n",
      "1          sanchogabriela@hotmail.com\n",
      "1              ecalamos@argentina.com\n",
      "4              conghos@hotmail.com.ar\n",
      "5         marianonicola1975@gmail.com\n",
      "                   ...               \n",
      "4       fgonzalezcolombi@yahoo.com.ar\n",
      "5             manuelmorrone@gmail.com\n",
      "6         natalia_agnelli@hotmail.com\n",
      "7          lorenasilvaarias@gmail.com\n",
      "8    adelinawebb@acgconsultora.com.ar\n",
      "Length: 671, dtype: object\n"
     ]
    },
    {
     "name": "stderr",
     "output_type": "stream",
     "text": [
      "\n",
      " 56%|█████▌    | 214/384 [46:49<30:28, 10.76s/it]\u001b[A"
     ]
    },
    {
     "name": "stdout",
     "output_type": "stream",
     "text": [
      "Licenciada en Ecología Urbana Done 1                ggcisterna@gmail.com\n",
      "1          sanchogabriela@hotmail.com\n",
      "1              ecalamos@argentina.com\n",
      "4              conghos@hotmail.com.ar\n",
      "5         marianonicola1975@gmail.com\n",
      "                   ...               \n",
      "4       fgonzalezcolombi@yahoo.com.ar\n",
      "5             manuelmorrone@gmail.com\n",
      "6         natalia_agnelli@hotmail.com\n",
      "7          lorenasilvaarias@gmail.com\n",
      "8    adelinawebb@acgconsultora.com.ar\n",
      "Length: 671, dtype: object\n"
     ]
    },
    {
     "name": "stderr",
     "output_type": "stream",
     "text": [
      "\n",
      " 56%|█████▌    | 215/384 [46:56<27:10,  9.65s/it]\u001b[A"
     ]
    },
    {
     "name": "stdout",
     "output_type": "stream",
     "text": [
      "LICENCIADA EN GEOLOGIA Done 1                ggcisterna@gmail.com\n",
      "1          sanchogabriela@hotmail.com\n",
      "1              ecalamos@argentina.com\n",
      "4              conghos@hotmail.com.ar\n",
      "5         marianonicola1975@gmail.com\n",
      "                   ...               \n",
      "5             manuelmorrone@gmail.com\n",
      "6         natalia_agnelli@hotmail.com\n",
      "7          lorenasilvaarias@gmail.com\n",
      "8    adelinawebb@acgconsultora.com.ar\n",
      "1                mdlangeles@gmail.com\n",
      "Length: 672, dtype: object\n"
     ]
    },
    {
     "name": "stderr",
     "output_type": "stream",
     "text": [
      "\n",
      " 56%|█████▋    | 216/384 [47:04<25:11,  9.00s/it]\u001b[A"
     ]
    },
    {
     "name": "stdout",
     "output_type": "stream",
     "text": [
      "LICENCIADA EN GERENCIAMIENTO  AMB. Done 1                ggcisterna@gmail.com\n",
      "1          sanchogabriela@hotmail.com\n",
      "1              ecalamos@argentina.com\n",
      "4              conghos@hotmail.com.ar\n",
      "5         marianonicola1975@gmail.com\n",
      "                   ...               \n",
      "6         natalia_agnelli@hotmail.com\n",
      "7          lorenasilvaarias@gmail.com\n",
      "8    adelinawebb@acgconsultora.com.ar\n",
      "1                mdlangeles@gmail.com\n",
      "1            tomascolombo@hotmail.com\n",
      "Length: 673, dtype: object\n"
     ]
    },
    {
     "name": "stderr",
     "output_type": "stream",
     "text": [
      "\n",
      " 57%|█████▋    | 217/384 [47:14<26:21,  9.47s/it]\u001b[A"
     ]
    },
    {
     "name": "stdout",
     "output_type": "stream",
     "text": [
      "LICENCIADA EN GESTION AMBIENTAL Done 1           ggcisterna@gmail.com\n",
      "1     sanchogabriela@hotmail.com\n",
      "1         ecalamos@argentina.com\n",
      "4         conghos@hotmail.com.ar\n",
      "5    marianonicola1975@gmail.com\n",
      "                ...             \n",
      "1           mdlangeles@gmail.com\n",
      "1       tomascolombo@hotmail.com\n",
      "1     andreaandersen73@gmail.com\n",
      "2         julian.dorna@aecom.com\n",
      "3         mv_morales@hotmail.com\n",
      "Length: 676, dtype: object\n"
     ]
    },
    {
     "name": "stderr",
     "output_type": "stream",
     "text": [
      "\n",
      " 57%|█████▋    | 218/384 [47:22<24:36,  8.89s/it]\u001b[A"
     ]
    },
    {
     "name": "stdout",
     "output_type": "stream",
     "text": [
      "LICENCIADA EN INFORMACION AMBIENTAL Done 1           ggcisterna@gmail.com\n",
      "1     sanchogabriela@hotmail.com\n",
      "1         ecalamos@argentina.com\n",
      "4         conghos@hotmail.com.ar\n",
      "5    marianonicola1975@gmail.com\n",
      "                ...             \n",
      "1           mdlangeles@gmail.com\n",
      "1       tomascolombo@hotmail.com\n",
      "1     andreaandersen73@gmail.com\n",
      "2         julian.dorna@aecom.com\n",
      "3         mv_morales@hotmail.com\n",
      "Length: 676, dtype: object\n"
     ]
    },
    {
     "name": "stderr",
     "output_type": "stream",
     "text": [
      "\n",
      " 57%|█████▋    | 219/384 [47:29<23:08,  8.42s/it]\u001b[A"
     ]
    },
    {
     "name": "stdout",
     "output_type": "stream",
     "text": [
      "Licenciada en Oceanografia Done 1           ggcisterna@gmail.com\n",
      "1     sanchogabriela@hotmail.com\n",
      "1         ecalamos@argentina.com\n",
      "4         conghos@hotmail.com.ar\n",
      "5    marianonicola1975@gmail.com\n",
      "                ...             \n",
      "1       tomascolombo@hotmail.com\n",
      "1     andreaandersen73@gmail.com\n",
      "2         julian.dorna@aecom.com\n",
      "3         mv_morales@hotmail.com\n",
      "1        paulababaylac@gmail.com\n",
      "Length: 677, dtype: object\n"
     ]
    },
    {
     "name": "stderr",
     "output_type": "stream",
     "text": [
      "\n",
      " 57%|█████▋    | 220/384 [47:35<21:16,  7.79s/it]\u001b[A"
     ]
    },
    {
     "name": "stdout",
     "output_type": "stream",
     "text": [
      "Licenciada en Oceanografía Orientación Química Mar Done 1           ggcisterna@gmail.com\n",
      "1     sanchogabriela@hotmail.com\n",
      "1         ecalamos@argentina.com\n",
      "4         conghos@hotmail.com.ar\n",
      "5    marianonicola1975@gmail.com\n",
      "                ...             \n",
      "1       tomascolombo@hotmail.com\n",
      "1     andreaandersen73@gmail.com\n",
      "2         julian.dorna@aecom.com\n",
      "3         mv_morales@hotmail.com\n",
      "1        paulababaylac@gmail.com\n",
      "Length: 677, dtype: object\n"
     ]
    },
    {
     "name": "stderr",
     "output_type": "stream",
     "text": [
      "\n",
      " 58%|█████▊    | 221/384 [47:43<21:09,  7.79s/it]\u001b[A"
     ]
    },
    {
     "name": "stdout",
     "output_type": "stream",
     "text": [
      "Licenciada en Quimica Industrial Done 1           ggcisterna@gmail.com\n",
      "1     sanchogabriela@hotmail.com\n",
      "1         ecalamos@argentina.com\n",
      "4         conghos@hotmail.com.ar\n",
      "5    marianonicola1975@gmail.com\n",
      "                ...             \n",
      "2         julian.dorna@aecom.com\n",
      "3         mv_morales@hotmail.com\n",
      "1        paulababaylac@gmail.com\n",
      "1     MCHIAVARINO@INDUSER.COM.AR\n",
      "2          lauria.leti@gmail.com\n",
      "Length: 679, dtype: object\n"
     ]
    },
    {
     "name": "stderr",
     "output_type": "stream",
     "text": [
      "\n",
      " 58%|█████▊    | 222/384 [47:50<20:16,  7.51s/it]\u001b[A"
     ]
    },
    {
     "name": "stdout",
     "output_type": "stream",
     "text": [
      "Licenciada en Química y Tecnologia Ambienta Done 1           ggcisterna@gmail.com\n",
      "1     sanchogabriela@hotmail.com\n",
      "1         ecalamos@argentina.com\n",
      "4         conghos@hotmail.com.ar\n",
      "5    marianonicola1975@gmail.com\n",
      "                ...             \n",
      "2         julian.dorna@aecom.com\n",
      "3         mv_morales@hotmail.com\n",
      "1        paulababaylac@gmail.com\n",
      "1     MCHIAVARINO@INDUSER.COM.AR\n",
      "2          lauria.leti@gmail.com\n",
      "Length: 679, dtype: object\n"
     ]
    },
    {
     "name": "stderr",
     "output_type": "stream",
     "text": [
      "\n",
      " 58%|█████▊    | 223/384 [47:57<19:42,  7.34s/it]\u001b[A"
     ]
    },
    {
     "name": "stdout",
     "output_type": "stream",
     "text": [
      "Licenciada en Relaciones Industriales Done 1           ggcisterna@gmail.com\n",
      "1     sanchogabriela@hotmail.com\n",
      "1         ecalamos@argentina.com\n",
      "4         conghos@hotmail.com.ar\n",
      "5    marianonicola1975@gmail.com\n",
      "                ...             \n",
      "2         julian.dorna@aecom.com\n",
      "3         mv_morales@hotmail.com\n",
      "1        paulababaylac@gmail.com\n",
      "1     MCHIAVARINO@INDUSER.COM.AR\n",
      "2          lauria.leti@gmail.com\n",
      "Length: 679, dtype: object\n"
     ]
    },
    {
     "name": "stderr",
     "output_type": "stream",
     "text": [
      "\n",
      " 58%|█████▊    | 224/384 [48:04<19:07,  7.17s/it]\u001b[A"
     ]
    },
    {
     "name": "stdout",
     "output_type": "stream",
     "text": [
      "Licenciada en Tecnología de los alimentos Done 1           ggcisterna@gmail.com\n",
      "1     sanchogabriela@hotmail.com\n",
      "1         ecalamos@argentina.com\n",
      "4         conghos@hotmail.com.ar\n",
      "5    marianonicola1975@gmail.com\n",
      "                ...             \n",
      "3         mv_morales@hotmail.com\n",
      "1        paulababaylac@gmail.com\n",
      "1     MCHIAVARINO@INDUSER.COM.AR\n",
      "2          lauria.leti@gmail.com\n",
      "1    marianabistoletti@gmail.com\n",
      "Length: 680, dtype: object\n"
     ]
    },
    {
     "name": "stderr",
     "output_type": "stream",
     "text": [
      "\n",
      " 59%|█████▊    | 225/384 [48:11<19:25,  7.33s/it]\u001b[A"
     ]
    },
    {
     "name": "stdout",
     "output_type": "stream",
     "text": [
      "Licenciada en Tecnología Industrial de los Aliment Done 1           ggcisterna@gmail.com\n",
      "1     sanchogabriela@hotmail.com\n",
      "1         ecalamos@argentina.com\n",
      "4         conghos@hotmail.com.ar\n",
      "5    marianonicola1975@gmail.com\n",
      "                ...             \n",
      "3         mv_morales@hotmail.com\n",
      "1        paulababaylac@gmail.com\n",
      "1     MCHIAVARINO@INDUSER.COM.AR\n",
      "2          lauria.leti@gmail.com\n",
      "1    marianabistoletti@gmail.com\n",
      "Length: 680, dtype: object\n"
     ]
    },
    {
     "name": "stderr",
     "output_type": "stream",
     "text": [
      "\n",
      " 59%|█████▉    | 226/384 [48:18<19:01,  7.23s/it]\u001b[A"
     ]
    },
    {
     "name": "stdout",
     "output_type": "stream",
     "text": [
      "licenciada en turismo Done 1           ggcisterna@gmail.com\n",
      "1     sanchogabriela@hotmail.com\n",
      "1         ecalamos@argentina.com\n",
      "4         conghos@hotmail.com.ar\n",
      "5    marianonicola1975@gmail.com\n",
      "                ...             \n",
      "3         mv_morales@hotmail.com\n",
      "1        paulababaylac@gmail.com\n",
      "1     MCHIAVARINO@INDUSER.COM.AR\n",
      "2          lauria.leti@gmail.com\n",
      "1    marianabistoletti@gmail.com\n",
      "Length: 680, dtype: object\n"
     ]
    },
    {
     "name": "stderr",
     "output_type": "stream",
     "text": [
      "\n",
      " 59%|█████▉    | 227/384 [48:25<18:45,  7.17s/it]\u001b[A"
     ]
    },
    {
     "name": "stdout",
     "output_type": "stream",
     "text": [
      "Licenciada Oceanografía Orientación Química Marina Done 1           ggcisterna@gmail.com\n",
      "1     sanchogabriela@hotmail.com\n",
      "1         ecalamos@argentina.com\n",
      "4         conghos@hotmail.com.ar\n",
      "5    marianonicola1975@gmail.com\n",
      "                ...             \n",
      "3         mv_morales@hotmail.com\n",
      "1        paulababaylac@gmail.com\n",
      "1     MCHIAVARINO@INDUSER.COM.AR\n",
      "2          lauria.leti@gmail.com\n",
      "1    marianabistoletti@gmail.com\n",
      "Length: 680, dtype: object\n"
     ]
    },
    {
     "name": "stderr",
     "output_type": "stream",
     "text": [
      "\n",
      " 59%|█████▉    | 228/384 [48:32<18:27,  7.10s/it]\u001b[A"
     ]
    },
    {
     "name": "stdout",
     "output_type": "stream",
     "text": [
      "Licenciado en Administración Agraria Done 1           ggcisterna@gmail.com\n",
      "1     sanchogabriela@hotmail.com\n",
      "1         ecalamos@argentina.com\n",
      "4         conghos@hotmail.com.ar\n",
      "5    marianonicola1975@gmail.com\n",
      "                ...             \n",
      "3         mv_morales@hotmail.com\n",
      "1        paulababaylac@gmail.com\n",
      "1     MCHIAVARINO@INDUSER.COM.AR\n",
      "2          lauria.leti@gmail.com\n",
      "1    marianabistoletti@gmail.com\n",
      "Length: 680, dtype: object\n"
     ]
    },
    {
     "name": "stderr",
     "output_type": "stream",
     "text": [
      "\n",
      " 60%|█████▉    | 229/384 [48:40<18:33,  7.19s/it]\u001b[A"
     ]
    },
    {
     "name": "stdout",
     "output_type": "stream",
     "text": [
      "LICENCIADO EN ADMINISTRACION DE EMPRESAS. Done 1              ggcisterna@gmail.com\n",
      "1        sanchogabriela@hotmail.com\n",
      "1            ecalamos@argentina.com\n",
      "4            conghos@hotmail.com.ar\n",
      "5       marianonicola1975@gmail.com\n",
      "                  ...              \n",
      "1           paulababaylac@gmail.com\n",
      "1        MCHIAVARINO@INDUSER.COM.AR\n",
      "2             lauria.leti@gmail.com\n",
      "1       marianabistoletti@gmail.com\n",
      "1    fernando.santoro@ecotec.com.ar\n",
      "Length: 681, dtype: object\n"
     ]
    },
    {
     "name": "stderr",
     "output_type": "stream",
     "text": [
      "\n",
      " 60%|█████▉    | 230/384 [48:47<18:12,  7.09s/it]\u001b[A"
     ]
    },
    {
     "name": "stdout",
     "output_type": "stream",
     "text": [
      "Licenciado en Analisis de Sistemas Done 1              ggcisterna@gmail.com\n",
      "1        sanchogabriela@hotmail.com\n",
      "1            ecalamos@argentina.com\n",
      "4            conghos@hotmail.com.ar\n",
      "5       marianonicola1975@gmail.com\n",
      "                  ...              \n",
      "1           paulababaylac@gmail.com\n",
      "1        MCHIAVARINO@INDUSER.COM.AR\n",
      "2             lauria.leti@gmail.com\n",
      "1       marianabistoletti@gmail.com\n",
      "1    fernando.santoro@ecotec.com.ar\n",
      "Length: 681, dtype: object\n"
     ]
    },
    {
     "name": "stderr",
     "output_type": "stream",
     "text": [
      "\n",
      " 60%|██████    | 231/384 [48:55<18:46,  7.36s/it]\u001b[A"
     ]
    },
    {
     "name": "stdout",
     "output_type": "stream",
     "text": [
      "Licenciado en Antropologia Done 1              ggcisterna@gmail.com\n",
      "1        sanchogabriela@hotmail.com\n",
      "1            ecalamos@argentina.com\n",
      "4            conghos@hotmail.com.ar\n",
      "5       marianonicola1975@gmail.com\n",
      "                  ...              \n",
      "1           paulababaylac@gmail.com\n",
      "1        MCHIAVARINO@INDUSER.COM.AR\n",
      "2             lauria.leti@gmail.com\n",
      "1       marianabistoletti@gmail.com\n",
      "1    fernando.santoro@ecotec.com.ar\n",
      "Length: 681, dtype: object\n"
     ]
    },
    {
     "name": "stderr",
     "output_type": "stream",
     "text": [
      "\n",
      " 60%|██████    | 232/384 [49:02<18:38,  7.36s/it]\u001b[A"
     ]
    },
    {
     "name": "stdout",
     "output_type": "stream",
     "text": [
      "Licenciado en Aprovechamiento de Recursos Naturale Done 1              ggcisterna@gmail.com\n",
      "1        sanchogabriela@hotmail.com\n",
      "1            ecalamos@argentina.com\n",
      "4            conghos@hotmail.com.ar\n",
      "5       marianonicola1975@gmail.com\n",
      "                  ...              \n",
      "1           paulababaylac@gmail.com\n",
      "1        MCHIAVARINO@INDUSER.COM.AR\n",
      "2             lauria.leti@gmail.com\n",
      "1       marianabistoletti@gmail.com\n",
      "1    fernando.santoro@ecotec.com.ar\n",
      "Length: 681, dtype: object\n"
     ]
    },
    {
     "name": "stderr",
     "output_type": "stream",
     "text": [
      "\n",
      " 61%|██████    | 233/384 [49:14<22:20,  8.88s/it]\u001b[A"
     ]
    },
    {
     "name": "stdout",
     "output_type": "stream",
     "text": [
      "Licenciado en Biologia Done 1              ggcisterna@gmail.com\n",
      "1        sanchogabriela@hotmail.com\n",
      "1            ecalamos@argentina.com\n",
      "4            conghos@hotmail.com.ar\n",
      "5       marianonicola1975@gmail.com\n",
      "                  ...              \n",
      "1        MCHIAVARINO@INDUSER.COM.AR\n",
      "2             lauria.leti@gmail.com\n",
      "1       marianabistoletti@gmail.com\n",
      "1    fernando.santoro@ecotec.com.ar\n",
      "1           cottialegre@hidroar.com\n",
      "Length: 682, dtype: object\n"
     ]
    },
    {
     "name": "stderr",
     "output_type": "stream",
     "text": [
      "\n",
      " 61%|██████    | 234/384 [49:21<20:39,  8.26s/it]\u001b[A"
     ]
    },
    {
     "name": "stdout",
     "output_type": "stream",
     "text": [
      "LICENCIADO EN BIOLOGIA or zoologia Done 1              ggcisterna@gmail.com\n",
      "1        sanchogabriela@hotmail.com\n",
      "1            ecalamos@argentina.com\n",
      "4            conghos@hotmail.com.ar\n",
      "5       marianonicola1975@gmail.com\n",
      "                  ...              \n",
      "1        MCHIAVARINO@INDUSER.COM.AR\n",
      "2             lauria.leti@gmail.com\n",
      "1       marianabistoletti@gmail.com\n",
      "1    fernando.santoro@ecotec.com.ar\n",
      "1           cottialegre@hidroar.com\n",
      "Length: 682, dtype: object\n"
     ]
    },
    {
     "name": "stderr",
     "output_type": "stream",
     "text": [
      "\n",
      " 61%|██████    | 235/384 [49:28<19:42,  7.93s/it]\u001b[A"
     ]
    },
    {
     "name": "stdout",
     "output_type": "stream",
     "text": [
      "LICENCIADO EN BIOLOGIA OR. ECOLOGIA Done 1              ggcisterna@gmail.com\n",
      "1        sanchogabriela@hotmail.com\n",
      "1            ecalamos@argentina.com\n",
      "4            conghos@hotmail.com.ar\n",
      "5       marianonicola1975@gmail.com\n",
      "                  ...              \n",
      "1        MCHIAVARINO@INDUSER.COM.AR\n",
      "2             lauria.leti@gmail.com\n",
      "1       marianabistoletti@gmail.com\n",
      "1    fernando.santoro@ecotec.com.ar\n",
      "1           cottialegre@hidroar.com\n",
      "Length: 682, dtype: object\n"
     ]
    },
    {
     "name": "stderr",
     "output_type": "stream",
     "text": [
      "\n",
      " 61%|██████▏   | 236/384 [49:34<17:38,  7.15s/it]\u001b[A"
     ]
    },
    {
     "name": "stdout",
     "output_type": "stream",
     "text": [
      "LICENCIADO EN BIOLOGIA OR. ECOLOGICA Done 1              ggcisterna@gmail.com\n",
      "1        sanchogabriela@hotmail.com\n",
      "1            ecalamos@argentina.com\n",
      "4            conghos@hotmail.com.ar\n",
      "5       marianonicola1975@gmail.com\n",
      "                  ...              \n",
      "1        MCHIAVARINO@INDUSER.COM.AR\n",
      "2             lauria.leti@gmail.com\n",
      "1       marianabistoletti@gmail.com\n",
      "1    fernando.santoro@ecotec.com.ar\n",
      "1           cottialegre@hidroar.com\n",
      "Length: 682, dtype: object\n"
     ]
    },
    {
     "name": "stderr",
     "output_type": "stream",
     "text": [
      "\n",
      " 62%|██████▏   | 237/384 [49:40<17:00,  6.94s/it]\u001b[A"
     ]
    },
    {
     "name": "stdout",
     "output_type": "stream",
     "text": [
      "Licenciado en Biología or. Zoologia  Done 1              ggcisterna@gmail.com\n",
      "1        sanchogabriela@hotmail.com\n",
      "1            ecalamos@argentina.com\n",
      "4            conghos@hotmail.com.ar\n",
      "5       marianonicola1975@gmail.com\n",
      "                  ...              \n",
      "1        MCHIAVARINO@INDUSER.COM.AR\n",
      "2             lauria.leti@gmail.com\n",
      "1       marianabistoletti@gmail.com\n",
      "1    fernando.santoro@ecotec.com.ar\n",
      "1           cottialegre@hidroar.com\n",
      "Length: 682, dtype: object\n"
     ]
    },
    {
     "name": "stderr",
     "output_type": "stream",
     "text": [
      "\n",
      " 62%|██████▏   | 238/384 [49:51<19:44,  8.12s/it]\u001b[A"
     ]
    },
    {
     "name": "stdout",
     "output_type": "stream",
     "text": [
      "Licenciado en Bioquímica Done 1              ggcisterna@gmail.com\n",
      "1        sanchogabriela@hotmail.com\n",
      "1            ecalamos@argentina.com\n",
      "4            conghos@hotmail.com.ar\n",
      "5       marianonicola1975@gmail.com\n",
      "                  ...              \n",
      "1        MCHIAVARINO@INDUSER.COM.AR\n",
      "2             lauria.leti@gmail.com\n",
      "1       marianabistoletti@gmail.com\n",
      "1    fernando.santoro@ecotec.com.ar\n",
      "1           cottialegre@hidroar.com\n",
      "Length: 682, dtype: object\n"
     ]
    },
    {
     "name": "stderr",
     "output_type": "stream",
     "text": [
      "\n",
      " 62%|██████▏   | 239/384 [50:00<19:58,  8.26s/it]\u001b[A"
     ]
    },
    {
     "name": "stdout",
     "output_type": "stream",
     "text": [
      "LICENCIADO EN BIOTECNOLOGIA Done 1              ggcisterna@gmail.com\n",
      "1        sanchogabriela@hotmail.com\n",
      "1            ecalamos@argentina.com\n",
      "4            conghos@hotmail.com.ar\n",
      "5       marianonicola1975@gmail.com\n",
      "                  ...              \n",
      "2             lauria.leti@gmail.com\n",
      "1       marianabistoletti@gmail.com\n",
      "1    fernando.santoro@ecotec.com.ar\n",
      "1           cottialegre@hidroar.com\n",
      "1            tavaresadn@hotmail.com\n",
      "Length: 683, dtype: object\n"
     ]
    },
    {
     "name": "stderr",
     "output_type": "stream",
     "text": [
      "\n",
      " 62%|██████▎   | 240/384 [50:14<24:16, 10.12s/it]\u001b[A"
     ]
    },
    {
     "name": "stdout",
     "output_type": "stream",
     "text": [
      "Licenciado en Ciencias Agrarias Done 1              ggcisterna@gmail.com\n",
      "1        sanchogabriela@hotmail.com\n",
      "1            ecalamos@argentina.com\n",
      "4            conghos@hotmail.com.ar\n",
      "5       marianonicola1975@gmail.com\n",
      "                  ...              \n",
      "1       marianabistoletti@gmail.com\n",
      "1    fernando.santoro@ecotec.com.ar\n",
      "1           cottialegre@hidroar.com\n",
      "1            tavaresadn@hotmail.com\n",
      "1        lic.marielaotero@gmail.com\n",
      "Length: 684, dtype: object\n"
     ]
    },
    {
     "name": "stderr",
     "output_type": "stream",
     "text": [
      "\n",
      " 63%|██████▎   | 241/384 [50:42<36:47, 15.44s/it]\u001b[A"
     ]
    },
    {
     "name": "stdout",
     "output_type": "stream",
     "text": [
      "Licenciado en Ciencias Ambientales Done 1            ggcisterna@gmail.com\n",
      "1      sanchogabriela@hotmail.com\n",
      "1          ecalamos@argentina.com\n",
      "4          conghos@hotmail.com.ar\n",
      "5     marianonicola1975@gmail.com\n",
      "                 ...             \n",
      "9       lombardioscar49@gmail.com\n",
      "10    claralopezkraus@vert.com.ar\n",
      "11     pinero.florencia@gmail.com\n",
      "12        marielsofandi@gmail.com\n",
      "13      solthomas@fibertel.com.ar\n",
      "Length: 697, dtype: object\n"
     ]
    },
    {
     "name": "stderr",
     "output_type": "stream",
     "text": [
      "\n",
      " 63%|██████▎   | 242/384 [50:51<32:02, 13.54s/it]\u001b[A"
     ]
    },
    {
     "name": "stdout",
     "output_type": "stream",
     "text": [
      "Licenciado en Ciencias Antropológicas Done 1            ggcisterna@gmail.com\n",
      "1      sanchogabriela@hotmail.com\n",
      "1          ecalamos@argentina.com\n",
      "4          conghos@hotmail.com.ar\n",
      "5     marianonicola1975@gmail.com\n",
      "                 ...             \n",
      "9       lombardioscar49@gmail.com\n",
      "10    claralopezkraus@vert.com.ar\n",
      "11     pinero.florencia@gmail.com\n",
      "12        marielsofandi@gmail.com\n",
      "13      solthomas@fibertel.com.ar\n",
      "Length: 697, dtype: object\n"
     ]
    },
    {
     "name": "stderr",
     "output_type": "stream",
     "text": [
      "\n",
      " 63%|██████▎   | 243/384 [51:08<34:35, 14.72s/it]\u001b[A"
     ]
    },
    {
     "name": "stdout",
     "output_type": "stream",
     "text": [
      "Licenciado en Ciencias Biologicas Done 1                                 ggcisterna@gmail.com\n",
      "1                           sanchogabriela@hotmail.com\n",
      "1                               ecalamos@argentina.com\n",
      "4                               conghos@hotmail.com.ar\n",
      "5                          marianonicola1975@gmail.com\n",
      "                           ...                        \n",
      "4    mgiaccardi@terramoena.com.ar -- maricelgia4@gm...\n",
      "5                                fabian@gzimage.com.ar\n",
      "6                                 lahaye@serman.com.ar\n",
      "7                              stellamolteni@gmail.com\n",
      "8                              mlmcadenas@yahoo.com.ar\n",
      "Length: 704, dtype: object\n"
     ]
    },
    {
     "name": "stderr",
     "output_type": "stream",
     "text": [
      "\n",
      " 64%|██████▎   | 244/384 [51:19<31:10, 13.36s/it]\u001b[A"
     ]
    },
    {
     "name": "stdout",
     "output_type": "stream",
     "text": [
      "LICENCIADO EN CIENCIAS DEL AMBIENTE Done 1           ggcisterna@gmail.com\n",
      "1     sanchogabriela@hotmail.com\n",
      "1         ecalamos@argentina.com\n",
      "4         conghos@hotmail.com.ar\n",
      "5    marianonicola1975@gmail.com\n",
      "                ...             \n",
      "7        stellamolteni@gmail.com\n",
      "8        mlmcadenas@yahoo.com.ar\n",
      "1         OAHLEFELDT@ACERBAG.COM\n",
      "2          gu.gabriela@gmail.com\n",
      "3         nicowarrenyahoo.com.ar\n",
      "Length: 707, dtype: object\n"
     ]
    },
    {
     "name": "stderr",
     "output_type": "stream",
     "text": [
      "\n",
      " 64%|██████▍   | 245/384 [51:27<27:17, 11.78s/it]\u001b[A"
     ]
    },
    {
     "name": "stdout",
     "output_type": "stream",
     "text": [
      "Licenciado en Ciencias Fisicas Done 1           ggcisterna@gmail.com\n",
      "1     sanchogabriela@hotmail.com\n",
      "1         ecalamos@argentina.com\n",
      "4         conghos@hotmail.com.ar\n",
      "5    marianonicola1975@gmail.com\n",
      "                ...             \n",
      "7        stellamolteni@gmail.com\n",
      "8        mlmcadenas@yahoo.com.ar\n",
      "1         OAHLEFELDT@ACERBAG.COM\n",
      "2          gu.gabriela@gmail.com\n",
      "3         nicowarrenyahoo.com.ar\n",
      "Length: 707, dtype: object\n"
     ]
    },
    {
     "name": "stderr",
     "output_type": "stream",
     "text": [
      "\n",
      " 64%|██████▍   | 246/384 [51:37<26:02, 11.32s/it]\u001b[A"
     ]
    },
    {
     "name": "stdout",
     "output_type": "stream",
     "text": [
      "LICENCIADO EN CIENCIAS GEOLOGICAS Done 1           ggcisterna@gmail.com\n",
      "1     sanchogabriela@hotmail.com\n",
      "1         ecalamos@argentina.com\n",
      "4         conghos@hotmail.com.ar\n",
      "5    marianonicola1975@gmail.com\n",
      "                ...             \n",
      "8        mlmcadenas@yahoo.com.ar\n",
      "1         OAHLEFELDT@ACERBAG.COM\n",
      "2          gu.gabriela@gmail.com\n",
      "3         nicowarrenyahoo.com.ar\n",
      "1      emilianobeiza@hotmail.com\n",
      "Length: 708, dtype: object\n"
     ]
    },
    {
     "name": "stderr",
     "output_type": "stream",
     "text": [
      "\n",
      " 64%|██████▍   | 247/384 [51:44<22:55, 10.04s/it]\u001b[A"
     ]
    },
    {
     "name": "stdout",
     "output_type": "stream",
     "text": [
      "Licenciado en Ciencias Oceonografia Done 1           ggcisterna@gmail.com\n",
      "1     sanchogabriela@hotmail.com\n",
      "1         ecalamos@argentina.com\n",
      "4         conghos@hotmail.com.ar\n",
      "5    marianonicola1975@gmail.com\n",
      "                ...             \n",
      "8        mlmcadenas@yahoo.com.ar\n",
      "1         OAHLEFELDT@ACERBAG.COM\n",
      "2          gu.gabriela@gmail.com\n",
      "3         nicowarrenyahoo.com.ar\n",
      "1      emilianobeiza@hotmail.com\n",
      "Length: 708, dtype: object\n"
     ]
    },
    {
     "name": "stderr",
     "output_type": "stream",
     "text": [
      "\n",
      " 65%|██████▍   | 248/384 [51:51<20:40,  9.12s/it]\u001b[A"
     ]
    },
    {
     "name": "stdout",
     "output_type": "stream",
     "text": [
      "LICENCIADO EN COMUNICACION SOCIAL  Done 1           ggcisterna@gmail.com\n",
      "1     sanchogabriela@hotmail.com\n",
      "1         ecalamos@argentina.com\n",
      "4         conghos@hotmail.com.ar\n",
      "5    marianonicola1975@gmail.com\n",
      "                ...             \n",
      "8        mlmcadenas@yahoo.com.ar\n",
      "1         OAHLEFELDT@ACERBAG.COM\n",
      "2          gu.gabriela@gmail.com\n",
      "3         nicowarrenyahoo.com.ar\n",
      "1      emilianobeiza@hotmail.com\n",
      "Length: 708, dtype: object\n"
     ]
    },
    {
     "name": "stderr",
     "output_type": "stream",
     "text": [
      "\n",
      " 65%|██████▍   | 249/384 [51:58<18:50,  8.37s/it]\u001b[A"
     ]
    },
    {
     "name": "stdout",
     "output_type": "stream",
     "text": [
      "Licenciado en Comunicación Social Done 1           ggcisterna@gmail.com\n",
      "1     sanchogabriela@hotmail.com\n",
      "1         ecalamos@argentina.com\n",
      "4         conghos@hotmail.com.ar\n",
      "5    marianonicola1975@gmail.com\n",
      "                ...             \n",
      "8        mlmcadenas@yahoo.com.ar\n",
      "1         OAHLEFELDT@ACERBAG.COM\n",
      "2          gu.gabriela@gmail.com\n",
      "3         nicowarrenyahoo.com.ar\n",
      "1      emilianobeiza@hotmail.com\n",
      "Length: 708, dtype: object\n"
     ]
    },
    {
     "name": "stderr",
     "output_type": "stream",
     "text": [
      "\n",
      " 65%|██████▌   | 250/384 [52:05<17:50,  7.99s/it]\u001b[A"
     ]
    },
    {
     "name": "stdout",
     "output_type": "stream",
     "text": [
      "LICENCIADO EN CRIMINALISTA Done 1           ggcisterna@gmail.com\n",
      "1     sanchogabriela@hotmail.com\n",
      "1         ecalamos@argentina.com\n",
      "4         conghos@hotmail.com.ar\n",
      "5    marianonicola1975@gmail.com\n",
      "                ...             \n",
      "8        mlmcadenas@yahoo.com.ar\n",
      "1         OAHLEFELDT@ACERBAG.COM\n",
      "2          gu.gabriela@gmail.com\n",
      "3         nicowarrenyahoo.com.ar\n",
      "1      emilianobeiza@hotmail.com\n",
      "Length: 708, dtype: object\n"
     ]
    },
    {
     "name": "stderr",
     "output_type": "stream",
     "text": [
      "\n",
      " 65%|██████▌   | 251/384 [52:22<23:45, 10.72s/it]\u001b[A"
     ]
    },
    {
     "name": "stdout",
     "output_type": "stream",
     "text": [
      "Licenciado en Cs.Quimicas Done 1             ggcisterna@gmail.com\n",
      "1       sanchogabriela@hotmail.com\n",
      "1           ecalamos@argentina.com\n",
      "4           conghos@hotmail.com.ar\n",
      "5      marianonicola1975@gmail.com\n",
      "                 ...              \n",
      "4          muestreo@induser.com.ar\n",
      "5    leo.fernandez@burkenet.com.ar\n",
      "6        fabianjaruf@speedy.com.ar\n",
      "7                akuriss@gmail.com\n",
      "8            fmontecchia@gmail.com\n",
      "Length: 716, dtype: object\n"
     ]
    },
    {
     "name": "stderr",
     "output_type": "stream",
     "text": [
      "\n",
      " 66%|██████▌   | 252/384 [52:31<22:32, 10.24s/it]\u001b[A"
     ]
    },
    {
     "name": "stdout",
     "output_type": "stream",
     "text": [
      "LICENCIADO EN DIAG. Y GESTION AMBIENTAL Done 1           ggcisterna@gmail.com\n",
      "1     sanchogabriela@hotmail.com\n",
      "1         ecalamos@argentina.com\n",
      "4         conghos@hotmail.com.ar\n",
      "5    marianonicola1975@gmail.com\n",
      "                ...             \n",
      "6      fabianjaruf@speedy.com.ar\n",
      "7              akuriss@gmail.com\n",
      "8          fmontecchia@gmail.com\n",
      "1      matiasdemartino@gmail.com\n",
      "2         rafaelpeucon@gmail.com\n",
      "Length: 718, dtype: object\n"
     ]
    },
    {
     "name": "stderr",
     "output_type": "stream",
     "text": [
      "\n",
      " 66%|██████▌   | 253/384 [52:46<25:38, 11.74s/it]\u001b[A"
     ]
    },
    {
     "name": "stdout",
     "output_type": "stream",
     "text": [
      "Licenciado en Diagnostico y Gestion Ambiental Done 1              ggcisterna@gmail.com\n",
      "1        sanchogabriela@hotmail.com\n",
      "1            ecalamos@argentina.com\n",
      "4            conghos@hotmail.com.ar\n",
      "5       marianonicola1975@gmail.com\n",
      "                  ...              \n",
      "1          mar_tincho10@hotmail.com\n",
      "2         soledadcorrieri@gmail.com\n",
      "3          adriana.aldiaz@gmail.com\n",
      "4           beatrizsosa33@gmail.com\n",
      "5    carolina_verellen@yahoo.com.ar\n",
      "Length: 723, dtype: object\n"
     ]
    },
    {
     "name": "stderr",
     "output_type": "stream",
     "text": [
      "\n",
      " 66%|██████▌   | 254/384 [52:54<22:47, 10.52s/it]\u001b[A"
     ]
    },
    {
     "name": "stdout",
     "output_type": "stream",
     "text": [
      "Licenciado en Diagnóstico y Gestión Ambiental Done 1              ggcisterna@gmail.com\n",
      "1        sanchogabriela@hotmail.com\n",
      "1            ecalamos@argentina.com\n",
      "4            conghos@hotmail.com.ar\n",
      "5       marianonicola1975@gmail.com\n",
      "                  ...              \n",
      "2         soledadcorrieri@gmail.com\n",
      "3          adriana.aldiaz@gmail.com\n",
      "4           beatrizsosa33@gmail.com\n",
      "5    carolina_verellen@yahoo.com.ar\n",
      "1             niconovillo@gmail.com\n",
      "Length: 724, dtype: object\n"
     ]
    },
    {
     "name": "stderr",
     "output_type": "stream",
     "text": [
      "\n",
      " 66%|██████▋   | 255/384 [53:01<20:19,  9.45s/it]\u001b[A"
     ]
    },
    {
     "name": "stdout",
     "output_type": "stream",
     "text": [
      "Licenciado en Ecología Done 1              ggcisterna@gmail.com\n",
      "1        sanchogabriela@hotmail.com\n",
      "1            ecalamos@argentina.com\n",
      "4            conghos@hotmail.com.ar\n",
      "5       marianonicola1975@gmail.com\n",
      "                  ...              \n",
      "2         soledadcorrieri@gmail.com\n",
      "3          adriana.aldiaz@gmail.com\n",
      "4           beatrizsosa33@gmail.com\n",
      "5    carolina_verellen@yahoo.com.ar\n",
      "1             niconovillo@gmail.com\n",
      "Length: 724, dtype: object\n"
     ]
    },
    {
     "name": "stderr",
     "output_type": "stream",
     "text": [
      "\n",
      " 67%|██████▋   | 256/384 [53:08<18:38,  8.74s/it]\u001b[A"
     ]
    },
    {
     "name": "stdout",
     "output_type": "stream",
     "text": [
      "Licenciado en Ecologia Urbana Done 1              ggcisterna@gmail.com\n",
      "1        sanchogabriela@hotmail.com\n",
      "1            ecalamos@argentina.com\n",
      "4            conghos@hotmail.com.ar\n",
      "5       marianonicola1975@gmail.com\n",
      "                  ...              \n",
      "2         soledadcorrieri@gmail.com\n",
      "3          adriana.aldiaz@gmail.com\n",
      "4           beatrizsosa33@gmail.com\n",
      "5    carolina_verellen@yahoo.com.ar\n",
      "1             niconovillo@gmail.com\n",
      "Length: 724, dtype: object\n"
     ]
    },
    {
     "name": "stderr",
     "output_type": "stream",
     "text": [
      "\n",
      " 67%|██████▋   | 257/384 [53:17<18:36,  8.79s/it]\u001b[A"
     ]
    },
    {
     "name": "stdout",
     "output_type": "stream",
     "text": [
      "Licenciado en Economía Done 1              ggcisterna@gmail.com\n",
      "1        sanchogabriela@hotmail.com\n",
      "1            ecalamos@argentina.com\n",
      "4            conghos@hotmail.com.ar\n",
      "5       marianonicola1975@gmail.com\n",
      "                  ...              \n",
      "2         soledadcorrieri@gmail.com\n",
      "3          adriana.aldiaz@gmail.com\n",
      "4           beatrizsosa33@gmail.com\n",
      "5    carolina_verellen@yahoo.com.ar\n",
      "1             niconovillo@gmail.com\n",
      "Length: 724, dtype: object\n"
     ]
    },
    {
     "name": "stderr",
     "output_type": "stream",
     "text": [
      "\n",
      " 67%|██████▋   | 258/384 [53:24<17:26,  8.30s/it]\u001b[A"
     ]
    },
    {
     "name": "stdout",
     "output_type": "stream",
     "text": [
      "Licenciado en Economia Agropecuaria Done 1              ggcisterna@gmail.com\n",
      "1        sanchogabriela@hotmail.com\n",
      "1            ecalamos@argentina.com\n",
      "4            conghos@hotmail.com.ar\n",
      "5       marianonicola1975@gmail.com\n",
      "                  ...              \n",
      "2         soledadcorrieri@gmail.com\n",
      "3          adriana.aldiaz@gmail.com\n",
      "4           beatrizsosa33@gmail.com\n",
      "5    carolina_verellen@yahoo.com.ar\n",
      "1             niconovillo@gmail.com\n",
      "Length: 724, dtype: object\n"
     ]
    },
    {
     "name": "stderr",
     "output_type": "stream",
     "text": [
      "\n",
      " 67%|██████▋   | 259/384 [53:31<16:39,  7.99s/it]\u001b[A"
     ]
    },
    {
     "name": "stdout",
     "output_type": "stream",
     "text": [
      "Licenciado en Edafología Done 1              ggcisterna@gmail.com\n",
      "1        sanchogabriela@hotmail.com\n",
      "1            ecalamos@argentina.com\n",
      "4            conghos@hotmail.com.ar\n",
      "5       marianonicola1975@gmail.com\n",
      "                  ...              \n",
      "2         soledadcorrieri@gmail.com\n",
      "3          adriana.aldiaz@gmail.com\n",
      "4           beatrizsosa33@gmail.com\n",
      "5    carolina_verellen@yahoo.com.ar\n",
      "1             niconovillo@gmail.com\n",
      "Length: 724, dtype: object\n"
     ]
    },
    {
     "name": "stderr",
     "output_type": "stream",
     "text": [
      "\n",
      " 68%|██████▊   | 260/384 [53:38<15:50,  7.67s/it]\u001b[A"
     ]
    },
    {
     "name": "stdout",
     "output_type": "stream",
     "text": [
      "Licenciado en Enseñanza de ciencias del ambiente Done 1              ggcisterna@gmail.com\n",
      "1        sanchogabriela@hotmail.com\n",
      "1            ecalamos@argentina.com\n",
      "4            conghos@hotmail.com.ar\n",
      "5       marianonicola1975@gmail.com\n",
      "                  ...              \n",
      "2         soledadcorrieri@gmail.com\n",
      "3          adriana.aldiaz@gmail.com\n",
      "4           beatrizsosa33@gmail.com\n",
      "5    carolina_verellen@yahoo.com.ar\n",
      "1             niconovillo@gmail.com\n",
      "Length: 724, dtype: object\n"
     ]
    },
    {
     "name": "stderr",
     "output_type": "stream",
     "text": [
      "\n",
      " 68%|██████▊   | 261/384 [53:48<17:23,  8.49s/it]\u001b[A"
     ]
    },
    {
     "name": "stdout",
     "output_type": "stream",
     "text": [
      "Licenciado en Gelogía Done 1              ggcisterna@gmail.com\n",
      "1        sanchogabriela@hotmail.com\n",
      "1            ecalamos@argentina.com\n",
      "4            conghos@hotmail.com.ar\n",
      "5       marianonicola1975@gmail.com\n",
      "                  ...              \n",
      "3          adriana.aldiaz@gmail.com\n",
      "4           beatrizsosa33@gmail.com\n",
      "5    carolina_verellen@yahoo.com.ar\n",
      "1             niconovillo@gmail.com\n",
      "1              josebedmar@gmail.com\n",
      "Length: 725, dtype: object\n"
     ]
    },
    {
     "name": "stderr",
     "output_type": "stream",
     "text": [
      "\n",
      " 68%|██████▊   | 262/384 [53:55<16:12,  7.97s/it]\u001b[A"
     ]
    },
    {
     "name": "stdout",
     "output_type": "stream",
     "text": [
      "LICENCIADO EN GEOGRAFIA Done 1              ggcisterna@gmail.com\n",
      "1        sanchogabriela@hotmail.com\n",
      "1            ecalamos@argentina.com\n",
      "4            conghos@hotmail.com.ar\n",
      "5       marianonicola1975@gmail.com\n",
      "                  ...              \n",
      "3          adriana.aldiaz@gmail.com\n",
      "4           beatrizsosa33@gmail.com\n",
      "5    carolina_verellen@yahoo.com.ar\n",
      "1             niconovillo@gmail.com\n",
      "1              josebedmar@gmail.com\n",
      "Length: 725, dtype: object\n"
     ]
    },
    {
     "name": "stderr",
     "output_type": "stream",
     "text": [
      "\n",
      " 68%|██████▊   | 263/384 [54:08<19:11,  9.52s/it]\u001b[A"
     ]
    },
    {
     "name": "stdout",
     "output_type": "stream",
     "text": [
      "Licenciado en Geografía Done 1              ggcisterna@gmail.com\n",
      "1        sanchogabriela@hotmail.com\n",
      "1            ecalamos@argentina.com\n",
      "4            conghos@hotmail.com.ar\n",
      "5       marianonicola1975@gmail.com\n",
      "                  ...              \n",
      "5    carolina_verellen@yahoo.com.ar\n",
      "1             niconovillo@gmail.com\n",
      "1              josebedmar@gmail.com\n",
      "1                dacosper@gmail.com\n",
      "2     veronicainesmartins@gmail.com\n",
      "Length: 727, dtype: object\n"
     ]
    },
    {
     "name": "stderr",
     "output_type": "stream",
     "text": [
      "\n",
      " 69%|██████▉   | 264/384 [54:16<17:58,  8.99s/it]\u001b[A"
     ]
    },
    {
     "name": "stdout",
     "output_type": "stream",
     "text": [
      "LICENCIADO EN GEOLOGIA Done 1             ggcisterna@gmail.com\n",
      "1       sanchogabriela@hotmail.com\n",
      "1           ecalamos@argentina.com\n",
      "4           conghos@hotmail.com.ar\n",
      "5      marianonicola1975@gmail.com\n",
      "                 ...              \n",
      "1            niconovillo@gmail.com\n",
      "1             josebedmar@gmail.com\n",
      "1               dacosper@gmail.com\n",
      "2    veronicainesmartins@gmail.com\n",
      "1             rmorilla@demison.com\n",
      "Length: 728, dtype: object\n"
     ]
    },
    {
     "name": "stderr",
     "output_type": "stream",
     "text": [
      "\n",
      " 69%|██████▉   | 265/384 [54:30<21:00, 10.59s/it]\u001b[A"
     ]
    },
    {
     "name": "stdout",
     "output_type": "stream",
     "text": [
      "Licenciado en Geología Done 1             ggcisterna@gmail.com\n",
      "1       sanchogabriela@hotmail.com\n",
      "1           ecalamos@argentina.com\n",
      "4           conghos@hotmail.com.ar\n",
      "5      marianonicola1975@gmail.com\n",
      "                 ...              \n",
      "2    veronicainesmartins@gmail.com\n",
      "1             rmorilla@demison.com\n",
      "1           geoerrecalde@gmail.com\n",
      "2       martin_fontelo@hotmail.com\n",
      "3     pablogiudicatte@yahoo.com.ar\n",
      "Length: 731, dtype: object\n"
     ]
    },
    {
     "name": "stderr",
     "output_type": "stream",
     "text": [
      "\n",
      " 69%|██████▉   | 266/384 [54:41<20:44, 10.55s/it]\u001b[A"
     ]
    },
    {
     "name": "stdout",
     "output_type": "stream",
     "text": [
      "Licenciado en Gerenciamiento Ambiental Done 1            ggcisterna@gmail.com\n",
      "1      sanchogabriela@hotmail.com\n",
      "1          ecalamos@argentina.com\n",
      "4          conghos@hotmail.com.ar\n",
      "5     marianonicola1975@gmail.com\n",
      "                 ...             \n",
      "1            rmorilla@demison.com\n",
      "1          geoerrecalde@gmail.com\n",
      "2      martin_fontelo@hotmail.com\n",
      "3    pablogiudicatte@yahoo.com.ar\n",
      "1          marurotolo@hotmail.com\n",
      "Length: 732, dtype: object\n"
     ]
    },
    {
     "name": "stderr",
     "output_type": "stream",
     "text": [
      "\n",
      " 70%|██████▉   | 267/384 [55:01<26:19, 13.50s/it]\u001b[A"
     ]
    },
    {
     "name": "stdout",
     "output_type": "stream",
     "text": [
      "Licenciado en Gestiòn Ambiental Done 1           ggcisterna@gmail.com\n",
      "1     sanchogabriela@hotmail.com\n",
      "1         ecalamos@argentina.com\n",
      "4         conghos@hotmail.com.ar\n",
      "5    marianonicola1975@gmail.com\n",
      "                ...             \n",
      "2        dbertoni@bahitek.com.ar\n",
      "3            marielabu@gmail.com\n",
      "4    guillermo@ghernandez.com.ar\n",
      "5            anahimusa@yahoo.com\n",
      "6     svazquez@cerronegro.com.ar\n",
      "Length: 738, dtype: object\n"
     ]
    },
    {
     "name": "stderr",
     "output_type": "stream",
     "text": [
      "\n",
      " 70%|██████▉   | 268/384 [55:18<28:04, 14.52s/it]\u001b[A"
     ]
    },
    {
     "name": "stdout",
     "output_type": "stream",
     "text": [
      "Licenciado en Gestion Ambiental Urbano Done 1                 ggcisterna@gmail.com\n",
      "1           sanchogabriela@hotmail.com\n",
      "1               ecalamos@argentina.com\n",
      "4               conghos@hotmail.com.ar\n",
      "5          marianonicola1975@gmail.com\n",
      "                   ...                \n",
      "2                  ECO_AN@YAHOO.COM.AR\n",
      "3    info.enfoquesustentable@gmail.com\n",
      "4         marianoragonese@yahoo.com.ar\n",
      "5      griselrodriguez2009@hotmail.com\n",
      "6               faviwiide@yahoo.com.ar\n",
      "Length: 744, dtype: object\n"
     ]
    },
    {
     "name": "stderr",
     "output_type": "stream",
     "text": [
      "\n",
      " 70%|███████   | 269/384 [55:25<23:39, 12.34s/it]\u001b[A"
     ]
    },
    {
     "name": "stdout",
     "output_type": "stream",
     "text": [
      "LICENCIADO EN H. Y SEG. EN EL TRAB. ESP. EN P. AMB Done 1                 ggcisterna@gmail.com\n",
      "1           sanchogabriela@hotmail.com\n",
      "1               ecalamos@argentina.com\n",
      "4               conghos@hotmail.com.ar\n",
      "5          marianonicola1975@gmail.com\n",
      "                   ...                \n",
      "3    info.enfoquesustentable@gmail.com\n",
      "4         marianoragonese@yahoo.com.ar\n",
      "5      griselrodriguez2009@hotmail.com\n",
      "6               faviwiide@yahoo.com.ar\n",
      "1          pablo_defelippi@hotmail.com\n",
      "Length: 745, dtype: object\n"
     ]
    },
    {
     "name": "stderr",
     "output_type": "stream",
     "text": [
      "\n",
      " 70%|███████   | 270/384 [57:20<1:21:38, 42.97s/it]\u001b[A"
     ]
    },
    {
     "name": "stdout",
     "output_type": "stream",
     "text": [
      "Licenciado en Higiene y Seguridad  en el Trabajo Done 1                  ggcisterna@gmail.com\n",
      "1            sanchogabriela@hotmail.com\n",
      "1                ecalamos@argentina.com\n",
      "4                conghos@hotmail.com.ar\n",
      "5           marianonicola1975@gmail.com\n",
      "                    ...                \n",
      "71      martinvinadelcampo@yahoo.com.ar\n",
      "72    alexandra_vitale2000@yahoo.com.ar\n",
      "73           gustavomariov@yahoo.com.ar\n",
      "74                 jowoicik@hotmail.com\n",
      "75         carlosfzamparolo@hotmail.com\n",
      "Length: 816, dtype: object\n"
     ]
    },
    {
     "name": "stderr",
     "output_type": "stream",
     "text": [
      "\n",
      " 71%|███████   | 271/384 [57:29<1:01:32, 32.68s/it]\u001b[A"
     ]
    },
    {
     "name": "stdout",
     "output_type": "stream",
     "text": [
      "LICENCIADO EN HIGIENE Y SEGURIDAD LABORAL Done 1             ggcisterna@gmail.com\n",
      "1       sanchogabriela@hotmail.com\n",
      "1           ecalamos@argentina.com\n",
      "4           conghos@hotmail.com.ar\n",
      "5      marianonicola1975@gmail.com\n",
      "                  ...             \n",
      "73      gustavomariov@yahoo.com.ar\n",
      "74            jowoicik@hotmail.com\n",
      "75    carlosfzamparolo@hotmail.com\n",
      "1            maurodiaz@live.com.ar\n",
      "2             hys.torres@gmail.com\n",
      "Length: 818, dtype: object\n"
     ]
    },
    {
     "name": "stderr",
     "output_type": "stream",
     "text": [
      "\n",
      " 71%|███████   | 272/384 [57:41<49:41, 26.62s/it]  \u001b[A"
     ]
    },
    {
     "name": "stdout",
     "output_type": "stream",
     "text": [
      "LICENCIADO EN INFORMACION AMBIENTAL Done 1             ggcisterna@gmail.com\n",
      "1       sanchogabriela@hotmail.com\n",
      "1           ecalamos@argentina.com\n",
      "4           conghos@hotmail.com.ar\n",
      "5      marianonicola1975@gmail.com\n",
      "                  ...             \n",
      "75    carlosfzamparolo@hotmail.com\n",
      "1            maurodiaz@live.com.ar\n",
      "2             hys.torres@gmail.com\n",
      "1         galimbertijuan@gmail.com\n",
      "2          poyomariela@hotmail.com\n",
      "Length: 820, dtype: object\n"
     ]
    },
    {
     "name": "stderr",
     "output_type": "stream",
     "text": [
      "\n",
      " 71%|███████   | 273/384 [57:52<40:36, 21.95s/it]\u001b[A"
     ]
    },
    {
     "name": "stdout",
     "output_type": "stream",
     "text": [
      "Licenciado en Informatica Ambiental Done 1           ggcisterna@gmail.com\n",
      "1     sanchogabriela@hotmail.com\n",
      "1         ecalamos@argentina.com\n",
      "4         conghos@hotmail.com.ar\n",
      "5    marianonicola1975@gmail.com\n",
      "                ...             \n",
      "1       galimbertijuan@gmail.com\n",
      "2        poyomariela@hotmail.com\n",
      "1          INFO@ACMAMBIENTAL.COM\n",
      "2           vmermoz@yahoo.com.ar\n",
      "3           noranievas@gmail.com\n",
      "Length: 823, dtype: object\n"
     ]
    },
    {
     "name": "stderr",
     "output_type": "stream",
     "text": [
      "\n",
      " 71%|███████▏  | 274/384 [57:59<32:03, 17.49s/it]\u001b[A"
     ]
    },
    {
     "name": "stdout",
     "output_type": "stream",
     "text": [
      "LICENCIADO EN ORGANIZACION INDUSTRIAL Done 1           ggcisterna@gmail.com\n",
      "1     sanchogabriela@hotmail.com\n",
      "1         ecalamos@argentina.com\n",
      "4         conghos@hotmail.com.ar\n",
      "5    marianonicola1975@gmail.com\n",
      "                ...             \n",
      "1       galimbertijuan@gmail.com\n",
      "2        poyomariela@hotmail.com\n",
      "1          INFO@ACMAMBIENTAL.COM\n",
      "2           vmermoz@yahoo.com.ar\n",
      "3           noranievas@gmail.com\n",
      "Length: 823, dtype: object\n"
     ]
    },
    {
     "name": "stderr",
     "output_type": "stream",
     "text": [
      "\n",
      " 72%|███████▏  | 275/384 [58:07<26:15, 14.45s/it]\u001b[A"
     ]
    },
    {
     "name": "stdout",
     "output_type": "stream",
     "text": [
      "Licenciado en Organizaciòn Industrial Done 1           ggcisterna@gmail.com\n",
      "1     sanchogabriela@hotmail.com\n",
      "1         ecalamos@argentina.com\n",
      "4         conghos@hotmail.com.ar\n",
      "5    marianonicola1975@gmail.com\n",
      "                ...             \n",
      "1       galimbertijuan@gmail.com\n",
      "2        poyomariela@hotmail.com\n",
      "1          INFO@ACMAMBIENTAL.COM\n",
      "2           vmermoz@yahoo.com.ar\n",
      "3           noranievas@gmail.com\n",
      "Length: 823, dtype: object\n"
     ]
    },
    {
     "name": "stderr",
     "output_type": "stream",
     "text": [
      "\n",
      " 72%|███████▏  | 276/384 [59:08<51:20, 28.52s/it]\u001b[A"
     ]
    },
    {
     "name": "stdout",
     "output_type": "stream",
     "text": [
      "Licenciado en Química Done 1               ggcisterna@gmail.com\n",
      "1         sanchogabriela@hotmail.com\n",
      "1             ecalamos@argentina.com\n",
      "4             conghos@hotmail.com.ar\n",
      "5        marianonicola1975@gmail.com\n",
      "                   ...              \n",
      "18               marem@speedy.com.ar\n",
      "20    dirtecnica@cromaquimsrl.com.ar\n",
      "21          danielrvidal@hotmail.com\n",
      "22            dapaza@fibertel.com.ar\n",
      "23     sgc@lombardiyasociados.com.ar\n",
      "Length: 843, dtype: object\n"
     ]
    },
    {
     "name": "stderr",
     "output_type": "stream",
     "text": [
      "\n",
      " 72%|███████▏  | 277/384 [59:16<39:56, 22.39s/it]\u001b[A"
     ]
    },
    {
     "name": "stdout",
     "output_type": "stream",
     "text": [
      "LICENCIADO EN QUIMICA INDUSTRIAL Done 1               ggcisterna@gmail.com\n",
      "1         sanchogabriela@hotmail.com\n",
      "1             ecalamos@argentina.com\n",
      "4             conghos@hotmail.com.ar\n",
      "5        marianonicola1975@gmail.com\n",
      "                   ...              \n",
      "20    dirtecnica@cromaquimsrl.com.ar\n",
      "21          danielrvidal@hotmail.com\n",
      "22            dapaza@fibertel.com.ar\n",
      "23     sgc@lombardiyasociados.com.ar\n",
      "1           darioborrell@hotmail.com\n",
      "Length: 844, dtype: object\n"
     ]
    },
    {
     "name": "stderr",
     "output_type": "stream",
     "text": [
      "\n",
      " 72%|███████▏  | 278/384 [59:23<31:25, 17.79s/it]\u001b[A"
     ]
    },
    {
     "name": "stdout",
     "output_type": "stream",
     "text": [
      "LICENCIADO EN RELACIONES DEL TRABAJO Done 1               ggcisterna@gmail.com\n",
      "1         sanchogabriela@hotmail.com\n",
      "1             ecalamos@argentina.com\n",
      "4             conghos@hotmail.com.ar\n",
      "5        marianonicola1975@gmail.com\n",
      "                   ...              \n",
      "20    dirtecnica@cromaquimsrl.com.ar\n",
      "21          danielrvidal@hotmail.com\n",
      "22            dapaza@fibertel.com.ar\n",
      "23     sgc@lombardiyasociados.com.ar\n",
      "1           darioborrell@hotmail.com\n",
      "Length: 844, dtype: object\n"
     ]
    },
    {
     "name": "stderr",
     "output_type": "stream",
     "text": [
      "\n",
      " 73%|███████▎  | 279/384 [59:29<25:10, 14.38s/it]\u001b[A"
     ]
    },
    {
     "name": "stdout",
     "output_type": "stream",
     "text": [
      "LICENCIADO EN SANEAMIENTO AMBIENTAL  Done 1               ggcisterna@gmail.com\n",
      "1         sanchogabriela@hotmail.com\n",
      "1             ecalamos@argentina.com\n",
      "4             conghos@hotmail.com.ar\n",
      "5        marianonicola1975@gmail.com\n",
      "                   ...              \n",
      "20    dirtecnica@cromaquimsrl.com.ar\n",
      "21          danielrvidal@hotmail.com\n",
      "22            dapaza@fibertel.com.ar\n",
      "23     sgc@lombardiyasociados.com.ar\n",
      "1           darioborrell@hotmail.com\n",
      "Length: 844, dtype: object\n"
     ]
    },
    {
     "name": "stderr",
     "output_type": "stream",
     "text": [
      "\n",
      " 73%|███████▎  | 280/384 [59:37<21:36, 12.47s/it]\u001b[A"
     ]
    },
    {
     "name": "stdout",
     "output_type": "stream",
     "text": [
      "LICENCIADO EN SANEAMIENTO Y PROTECCION AMBIENTAL Done 1               ggcisterna@gmail.com\n",
      "1         sanchogabriela@hotmail.com\n",
      "1             ecalamos@argentina.com\n",
      "4             conghos@hotmail.com.ar\n",
      "5        marianonicola1975@gmail.com\n",
      "                   ...              \n",
      "20    dirtecnica@cromaquimsrl.com.ar\n",
      "21          danielrvidal@hotmail.com\n",
      "22            dapaza@fibertel.com.ar\n",
      "23     sgc@lombardiyasociados.com.ar\n",
      "1           darioborrell@hotmail.com\n",
      "Length: 844, dtype: object\n"
     ]
    },
    {
     "name": "stderr",
     "output_type": "stream",
     "text": [
      "\n",
      " 73%|███████▎  | 281/384 [59:55<24:01, 13.99s/it]\u001b[A"
     ]
    },
    {
     "name": "stdout",
     "output_type": "stream",
     "text": [
      "Licenciado en Seguridad e Higiene en el Trabajo Done 1                ggcisterna@gmail.com\n",
      "1          sanchogabriela@hotmail.com\n",
      "1              ecalamos@argentina.com\n",
      "4              conghos@hotmail.com.ar\n",
      "5         marianonicola1975@gmail.com\n",
      "                   ...               \n",
      "6        martinez_roman01@hotmail.com\n",
      "7                mica-ana@hotmail.com\n",
      "8     DARIOHERNANROBLEDO@YAHOO.COM.AR\n",
      "9       alberto_suarez@hotmail.com.ar\n",
      "10         cristianvarela71@gmail.com\n",
      "Length: 854, dtype: object\n"
     ]
    },
    {
     "name": "stderr",
     "output_type": "stream",
     "text": [
      "\n",
      " 73%|███████▎  | 282/384 [1:00:02<20:10, 11.87s/it]\u001b[A"
     ]
    },
    {
     "name": "stdout",
     "output_type": "stream",
     "text": [
      "Licenciado en Seguridad Higiene y Control Ambienta Done 1                ggcisterna@gmail.com\n",
      "1          sanchogabriela@hotmail.com\n",
      "1              ecalamos@argentina.com\n",
      "4              conghos@hotmail.com.ar\n",
      "5         marianonicola1975@gmail.com\n",
      "                   ...               \n",
      "6        martinez_roman01@hotmail.com\n",
      "7                mica-ana@hotmail.com\n",
      "8     DARIOHERNANROBLEDO@YAHOO.COM.AR\n",
      "9       alberto_suarez@hotmail.com.ar\n",
      "10         cristianvarela71@gmail.com\n",
      "Length: 854, dtype: object\n"
     ]
    },
    {
     "name": "stderr",
     "output_type": "stream",
     "text": [
      "\n",
      " 74%|███████▎  | 283/384 [1:00:11<18:44, 11.14s/it]\u001b[A"
     ]
    },
    {
     "name": "stdout",
     "output_type": "stream",
     "text": [
      "LICENCIADO EN SEGURIDAD Y SALUD OCUPACIONAL Done 1                ggcisterna@gmail.com\n",
      "1          sanchogabriela@hotmail.com\n",
      "1              ecalamos@argentina.com\n",
      "4              conghos@hotmail.com.ar\n",
      "5         marianonicola1975@gmail.com\n",
      "                   ...               \n",
      "7                mica-ana@hotmail.com\n",
      "8     DARIOHERNANROBLEDO@YAHOO.COM.AR\n",
      "9       alberto_suarez@hotmail.com.ar\n",
      "10         cristianvarela71@gmail.com\n",
      "1         martingraziani2@hotmail.com\n",
      "Length: 855, dtype: object\n"
     ]
    },
    {
     "name": "stderr",
     "output_type": "stream",
     "text": [
      "\n",
      " 74%|███████▍  | 284/384 [1:00:23<18:56, 11.37s/it]\u001b[A"
     ]
    },
    {
     "name": "stdout",
     "output_type": "stream",
     "text": [
      "Licenciado en Seguridad, Higiene y Control Ambient Done 1                ggcisterna@gmail.com\n",
      "1          sanchogabriela@hotmail.com\n",
      "1              ecalamos@argentina.com\n",
      "4              conghos@hotmail.com.ar\n",
      "5         marianonicola1975@gmail.com\n",
      "                   ...               \n",
      "8     DARIOHERNANROBLEDO@YAHOO.COM.AR\n",
      "9       alberto_suarez@hotmail.com.ar\n",
      "10         cristianvarela71@gmail.com\n",
      "1         martingraziani2@hotmail.com\n",
      "1        portillocarlos83@outlook.com\n",
      "Length: 856, dtype: object\n"
     ]
    },
    {
     "name": "stderr",
     "output_type": "stream",
     "text": [
      "\n",
      " 74%|███████▍  | 285/384 [1:00:32<17:34, 10.65s/it]\u001b[A"
     ]
    },
    {
     "name": "stdout",
     "output_type": "stream",
     "text": [
      "Licenciado en Sistemas de Protección Contra Sinies Done 1              ggcisterna@gmail.com\n",
      "1        sanchogabriela@hotmail.com\n",
      "1            ecalamos@argentina.com\n",
      "4            conghos@hotmail.com.ar\n",
      "5       marianonicola1975@gmail.com\n",
      "                  ...              \n",
      "9     alberto_suarez@hotmail.com.ar\n",
      "10       cristianvarela71@gmail.com\n",
      "1       martingraziani2@hotmail.com\n",
      "1      portillocarlos83@outlook.com\n",
      "1         diegoduhalde@yahoo.com.ar\n",
      "Length: 857, dtype: object\n"
     ]
    },
    {
     "name": "stderr",
     "output_type": "stream",
     "text": [
      "\n",
      " 74%|███████▍  | 286/384 [1:00:43<17:21, 10.63s/it]\u001b[A"
     ]
    },
    {
     "name": "stdout",
     "output_type": "stream",
     "text": [
      "Licenciado en Sociología Done 1            ggcisterna@gmail.com\n",
      "1      sanchogabriela@hotmail.com\n",
      "1          ecalamos@argentina.com\n",
      "4          conghos@hotmail.com.ar\n",
      "5     marianonicola1975@gmail.com\n",
      "                 ...             \n",
      "1     martingraziani2@hotmail.com\n",
      "1    portillocarlos83@outlook.com\n",
      "1       diegoduhalde@yahoo.com.ar\n",
      "1       furlong.liliana@gmail.com\n",
      "2          luchetti@serman.com.ar\n",
      "Length: 859, dtype: object\n"
     ]
    },
    {
     "name": "stderr",
     "output_type": "stream",
     "text": [
      "\n",
      " 75%|███████▍  | 287/384 [1:00:51<15:48,  9.77s/it]\u001b[A"
     ]
    },
    {
     "name": "stdout",
     "output_type": "stream",
     "text": [
      "Licenciado en Tecnologia Ambiental Done 1            ggcisterna@gmail.com\n",
      "1      sanchogabriela@hotmail.com\n",
      "1          ecalamos@argentina.com\n",
      "4          conghos@hotmail.com.ar\n",
      "5     marianonicola1975@gmail.com\n",
      "                 ...             \n",
      "1    portillocarlos83@outlook.com\n",
      "1       diegoduhalde@yahoo.com.ar\n",
      "1       furlong.liliana@gmail.com\n",
      "2          luchetti@serman.com.ar\n",
      "1       imv.@olcavellaneda.com.ar\n",
      "Length: 860, dtype: object\n"
     ]
    },
    {
     "name": "stderr",
     "output_type": "stream",
     "text": [
      "\n",
      " 75%|███████▌  | 288/384 [1:00:57<14:07,  8.83s/it]\u001b[A"
     ]
    },
    {
     "name": "stdout",
     "output_type": "stream",
     "text": [
      "Licenciado en Trabajo Social Done 1            ggcisterna@gmail.com\n",
      "1      sanchogabriela@hotmail.com\n",
      "1          ecalamos@argentina.com\n",
      "4          conghos@hotmail.com.ar\n",
      "5     marianonicola1975@gmail.com\n",
      "                 ...             \n",
      "1    portillocarlos83@outlook.com\n",
      "1       diegoduhalde@yahoo.com.ar\n",
      "1       furlong.liliana@gmail.com\n",
      "2          luchetti@serman.com.ar\n",
      "1       imv.@olcavellaneda.com.ar\n",
      "Length: 860, dtype: object\n"
     ]
    },
    {
     "name": "stderr",
     "output_type": "stream",
     "text": [
      "\n",
      " 75%|███████▌  | 289/384 [1:01:05<13:17,  8.39s/it]\u001b[A"
     ]
    },
    {
     "name": "stdout",
     "output_type": "stream",
     "text": [
      "Licenciado en Transporte y Logística Operativa Done 1            ggcisterna@gmail.com\n",
      "1      sanchogabriela@hotmail.com\n",
      "1          ecalamos@argentina.com\n",
      "4          conghos@hotmail.com.ar\n",
      "5     marianonicola1975@gmail.com\n",
      "                 ...             \n",
      "1    portillocarlos83@outlook.com\n",
      "1       diegoduhalde@yahoo.com.ar\n",
      "1       furlong.liliana@gmail.com\n",
      "2          luchetti@serman.com.ar\n",
      "1       imv.@olcavellaneda.com.ar\n",
      "Length: 860, dtype: object\n"
     ]
    },
    {
     "name": "stderr",
     "output_type": "stream",
     "text": [
      "\n",
      " 76%|███████▌  | 290/384 [1:01:12<12:34,  8.03s/it]\u001b[A"
     ]
    },
    {
     "name": "stdout",
     "output_type": "stream",
     "text": [
      "Licenciado en Zoología Done 1            ggcisterna@gmail.com\n",
      "1      sanchogabriela@hotmail.com\n",
      "1          ecalamos@argentina.com\n",
      "4          conghos@hotmail.com.ar\n",
      "5     marianonicola1975@gmail.com\n",
      "                 ...             \n",
      "1    portillocarlos83@outlook.com\n",
      "1       diegoduhalde@yahoo.com.ar\n",
      "1       furlong.liliana@gmail.com\n",
      "2          luchetti@serman.com.ar\n",
      "1       imv.@olcavellaneda.com.ar\n",
      "Length: 860, dtype: object\n"
     ]
    },
    {
     "name": "stderr",
     "output_type": "stream",
     "text": [
      "\n",
      " 76%|███████▌  | 291/384 [1:01:18<11:39,  7.52s/it]\u001b[A"
     ]
    },
    {
     "name": "stdout",
     "output_type": "stream",
     "text": [
      "Licenciado Eugenista Humanologo Done 1            ggcisterna@gmail.com\n",
      "1      sanchogabriela@hotmail.com\n",
      "1          ecalamos@argentina.com\n",
      "4          conghos@hotmail.com.ar\n",
      "5     marianonicola1975@gmail.com\n",
      "                 ...             \n",
      "1    portillocarlos83@outlook.com\n",
      "1       diegoduhalde@yahoo.com.ar\n",
      "1       furlong.liliana@gmail.com\n",
      "2          luchetti@serman.com.ar\n",
      "1       imv.@olcavellaneda.com.ar\n",
      "Length: 860, dtype: object\n"
     ]
    },
    {
     "name": "stderr",
     "output_type": "stream",
     "text": [
      "\n",
      " 76%|███████▌  | 292/384 [1:01:25<11:03,  7.21s/it]\u001b[A"
     ]
    },
    {
     "name": "stdout",
     "output_type": "stream",
     "text": [
      "Licenciano de Seguridad Done 1            ggcisterna@gmail.com\n",
      "1      sanchogabriela@hotmail.com\n",
      "1          ecalamos@argentina.com\n",
      "4          conghos@hotmail.com.ar\n",
      "5     marianonicola1975@gmail.com\n",
      "                 ...             \n",
      "1    portillocarlos83@outlook.com\n",
      "1       diegoduhalde@yahoo.com.ar\n",
      "1       furlong.liliana@gmail.com\n",
      "2          luchetti@serman.com.ar\n",
      "1       imv.@olcavellaneda.com.ar\n",
      "Length: 860, dtype: object\n"
     ]
    },
    {
     "name": "stderr",
     "output_type": "stream",
     "text": [
      "\n",
      " 76%|███████▋  | 293/384 [1:01:30<10:06,  6.67s/it]\u001b[A"
     ]
    },
    {
     "name": "stdout",
     "output_type": "stream",
     "text": [
      "LICENCIATURA DE SEGURIDAD Done 1            ggcisterna@gmail.com\n",
      "1      sanchogabriela@hotmail.com\n",
      "1          ecalamos@argentina.com\n",
      "4          conghos@hotmail.com.ar\n",
      "5     marianonicola1975@gmail.com\n",
      "                 ...             \n",
      "1    portillocarlos83@outlook.com\n",
      "1       diegoduhalde@yahoo.com.ar\n",
      "1       furlong.liliana@gmail.com\n",
      "2          luchetti@serman.com.ar\n",
      "1       imv.@olcavellaneda.com.ar\n",
      "Length: 860, dtype: object\n"
     ]
    },
    {
     "name": "stderr",
     "output_type": "stream",
     "text": [
      "\n",
      " 77%|███████▋  | 294/384 [1:01:37<09:59,  6.66s/it]\u001b[A"
     ]
    },
    {
     "name": "stdout",
     "output_type": "stream",
     "text": [
      "Licenciatura en AnÃ¡lisis ClÃ­nicos y BioquÃ­mica Done 1            ggcisterna@gmail.com\n",
      "1      sanchogabriela@hotmail.com\n",
      "1          ecalamos@argentina.com\n",
      "4          conghos@hotmail.com.ar\n",
      "5     marianonicola1975@gmail.com\n",
      "                 ...             \n",
      "1    portillocarlos83@outlook.com\n",
      "1       diegoduhalde@yahoo.com.ar\n",
      "1       furlong.liliana@gmail.com\n",
      "2          luchetti@serman.com.ar\n",
      "1       imv.@olcavellaneda.com.ar\n",
      "Length: 860, dtype: object\n"
     ]
    },
    {
     "name": "stderr",
     "output_type": "stream",
     "text": [
      "\n",
      " 77%|███████▋  | 295/384 [1:01:43<09:47,  6.60s/it]\u001b[A"
     ]
    },
    {
     "name": "stdout",
     "output_type": "stream",
     "text": [
      "LICENCIATURA EN GERENCIAMIENTO AMBIENTAL Done 1            ggcisterna@gmail.com\n",
      "1      sanchogabriela@hotmail.com\n",
      "1          ecalamos@argentina.com\n",
      "4          conghos@hotmail.com.ar\n",
      "5     marianonicola1975@gmail.com\n",
      "                 ...             \n",
      "1    portillocarlos83@outlook.com\n",
      "1       diegoduhalde@yahoo.com.ar\n",
      "1       furlong.liliana@gmail.com\n",
      "2          luchetti@serman.com.ar\n",
      "1       imv.@olcavellaneda.com.ar\n",
      "Length: 860, dtype: object\n"
     ]
    },
    {
     "name": "stderr",
     "output_type": "stream",
     "text": [
      "\n",
      " 77%|███████▋  | 296/384 [1:01:50<09:37,  6.56s/it]\u001b[A"
     ]
    },
    {
     "name": "stdout",
     "output_type": "stream",
     "text": [
      "LICENCIATURA EN SEGURIDAD Y SALUD OCUPACIONAL Done 1            ggcisterna@gmail.com\n",
      "1      sanchogabriela@hotmail.com\n",
      "1          ecalamos@argentina.com\n",
      "4          conghos@hotmail.com.ar\n",
      "5     marianonicola1975@gmail.com\n",
      "                 ...             \n",
      "1    portillocarlos83@outlook.com\n",
      "1       diegoduhalde@yahoo.com.ar\n",
      "1       furlong.liliana@gmail.com\n",
      "2          luchetti@serman.com.ar\n",
      "1       imv.@olcavellaneda.com.ar\n",
      "Length: 860, dtype: object\n"
     ]
    },
    {
     "name": "stderr",
     "output_type": "stream",
     "text": [
      "\n",
      " 77%|███████▋  | 297/384 [1:01:57<09:43,  6.71s/it]\u001b[A"
     ]
    },
    {
     "name": "stdout",
     "output_type": "stream",
     "text": [
      "Licencioado en Geoquimica Done 1                                 ggcisterna@gmail.com\n",
      "1                           sanchogabriela@hotmail.com\n",
      "1                               ecalamos@argentina.com\n",
      "4                               conghos@hotmail.com.ar\n",
      "5                          marianonicola1975@gmail.com\n",
      "                           ...                        \n",
      "1                            diegoduhalde@yahoo.com.ar\n",
      "1                            furlong.liliana@gmail.com\n",
      "2                               luchetti@serman.com.ar\n",
      "1                            imv.@olcavellaneda.com.ar\n",
      "1    ADRAIN_DRAGOUN@HOTMAIL.COM - ADRAGOUN@HOTMAIL.COM\n",
      "Length: 861, dtype: object\n"
     ]
    },
    {
     "name": "stderr",
     "output_type": "stream",
     "text": [
      "\n",
      " 78%|███████▊  | 298/384 [1:02:09<12:06,  8.45s/it]\u001b[A"
     ]
    },
    {
     "name": "stdout",
     "output_type": "stream",
     "text": [
      "Liicenciatura en Información Ambiental Done 1                                 ggcisterna@gmail.com\n",
      "1                           sanchogabriela@hotmail.com\n",
      "1                               ecalamos@argentina.com\n",
      "4                               conghos@hotmail.com.ar\n",
      "5                          marianonicola1975@gmail.com\n",
      "                           ...                        \n",
      "1                            imv.@olcavellaneda.com.ar\n",
      "1    ADRAIN_DRAGOUN@HOTMAIL.COM - ADRAGOUN@HOTMAIL.COM\n",
      "1                              caloninicolas@gmail.com\n",
      "2                                    gdovico@gmail.com\n",
      "3                            analia@arambiental.com.ar\n",
      "Length: 864, dtype: object\n"
     ]
    },
    {
     "name": "stderr",
     "output_type": "stream",
     "text": [
      "\n",
      " 78%|███████▊  | 299/384 [1:02:16<11:14,  7.93s/it]\u001b[A"
     ]
    },
    {
     "name": "stdout",
     "output_type": "stream",
     "text": [
      "MAESTRIA EN ADMINISTRACION DE EMPRESAS Done 1                                 ggcisterna@gmail.com\n",
      "1                           sanchogabriela@hotmail.com\n",
      "1                               ecalamos@argentina.com\n",
      "4                               conghos@hotmail.com.ar\n",
      "5                          marianonicola1975@gmail.com\n",
      "                           ...                        \n",
      "1                            imv.@olcavellaneda.com.ar\n",
      "1    ADRAIN_DRAGOUN@HOTMAIL.COM - ADRAGOUN@HOTMAIL.COM\n",
      "1                              caloninicolas@gmail.com\n",
      "2                                    gdovico@gmail.com\n",
      "3                            analia@arambiental.com.ar\n",
      "Length: 864, dtype: object\n"
     ]
    },
    {
     "name": "stderr",
     "output_type": "stream",
     "text": [
      "\n",
      " 78%|███████▊  | 300/384 [1:02:23<10:49,  7.74s/it]\u001b[A"
     ]
    },
    {
     "name": "stdout",
     "output_type": "stream",
     "text": [
      "MAESTRIA EN AMBIENTE Y DESARROLLO SUSTENTABLE Done 1                                 ggcisterna@gmail.com\n",
      "1                           sanchogabriela@hotmail.com\n",
      "1                               ecalamos@argentina.com\n",
      "4                               conghos@hotmail.com.ar\n",
      "5                          marianonicola1975@gmail.com\n",
      "                           ...                        \n",
      "1    ADRAIN_DRAGOUN@HOTMAIL.COM - ADRAGOUN@HOTMAIL.COM\n",
      "1                              caloninicolas@gmail.com\n",
      "2                                    gdovico@gmail.com\n",
      "3                            analia@arambiental.com.ar\n",
      "1                          mgwalterfernandez@gmail.com\n",
      "Length: 865, dtype: object\n"
     ]
    },
    {
     "name": "stderr",
     "output_type": "stream",
     "text": [
      "\n",
      " 78%|███████▊  | 301/384 [1:02:30<10:09,  7.34s/it]\u001b[A"
     ]
    },
    {
     "name": "stdout",
     "output_type": "stream",
     "text": [
      "Maestría en Ciencias Ambientales Done 1                                 ggcisterna@gmail.com\n",
      "1                           sanchogabriela@hotmail.com\n",
      "1                               ecalamos@argentina.com\n",
      "4                               conghos@hotmail.com.ar\n",
      "5                          marianonicola1975@gmail.com\n",
      "                           ...                        \n",
      "1    ADRAIN_DRAGOUN@HOTMAIL.COM - ADRAGOUN@HOTMAIL.COM\n",
      "1                              caloninicolas@gmail.com\n",
      "2                                    gdovico@gmail.com\n",
      "3                            analia@arambiental.com.ar\n",
      "1                          mgwalterfernandez@gmail.com\n",
      "Length: 865, dtype: object\n"
     ]
    },
    {
     "name": "stderr",
     "output_type": "stream",
     "text": [
      "\n",
      " 79%|███████▊  | 302/384 [1:02:37<09:52,  7.22s/it]\u001b[A"
     ]
    },
    {
     "name": "stdout",
     "output_type": "stream",
     "text": [
      "MAESTRIA EN GESTION AMBIENTAL Done 1           ggcisterna@gmail.com\n",
      "1     sanchogabriela@hotmail.com\n",
      "1         ecalamos@argentina.com\n",
      "4         conghos@hotmail.com.ar\n",
      "5    marianonicola1975@gmail.com\n",
      "                ...             \n",
      "1        caloninicolas@gmail.com\n",
      "2              gdovico@gmail.com\n",
      "3      analia@arambiental.com.ar\n",
      "1    mgwalterfernandez@gmail.com\n",
      "1       EMERONO2004@YAHOO.COM.AR\n",
      "Length: 866, dtype: object\n"
     ]
    },
    {
     "name": "stderr",
     "output_type": "stream",
     "text": [
      "\n",
      " 79%|███████▉  | 303/384 [1:02:43<09:32,  7.07s/it]\u001b[A"
     ]
    },
    {
     "name": "stdout",
     "output_type": "stream",
     "text": [
      "MAESTRIA EN HIGIENE Y SEGURIDAD EN EL TRABAJO Done 1           ggcisterna@gmail.com\n",
      "1     sanchogabriela@hotmail.com\n",
      "1         ecalamos@argentina.com\n",
      "4         conghos@hotmail.com.ar\n",
      "5    marianonicola1975@gmail.com\n",
      "                ...             \n",
      "1        caloninicolas@gmail.com\n",
      "2              gdovico@gmail.com\n",
      "3      analia@arambiental.com.ar\n",
      "1    mgwalterfernandez@gmail.com\n",
      "1       EMERONO2004@YAHOO.COM.AR\n",
      "Length: 866, dtype: object\n"
     ]
    },
    {
     "name": "stderr",
     "output_type": "stream",
     "text": [
      "\n",
      " 79%|███████▉  | 304/384 [1:02:50<09:17,  6.97s/it]\u001b[A"
     ]
    },
    {
     "name": "stdout",
     "output_type": "stream",
     "text": [
      "MAESTRIA EN MANEJO AMBIENTAL DE SISTEMAS HIDRICOS Done 1           ggcisterna@gmail.com\n",
      "1     sanchogabriela@hotmail.com\n",
      "1         ecalamos@argentina.com\n",
      "4         conghos@hotmail.com.ar\n",
      "5    marianonicola1975@gmail.com\n",
      "                ...             \n",
      "1        caloninicolas@gmail.com\n",
      "2              gdovico@gmail.com\n",
      "3      analia@arambiental.com.ar\n",
      "1    mgwalterfernandez@gmail.com\n",
      "1       EMERONO2004@YAHOO.COM.AR\n",
      "Length: 866, dtype: object\n"
     ]
    },
    {
     "name": "stderr",
     "output_type": "stream",
     "text": [
      "\n",
      " 79%|███████▉  | 305/384 [1:03:04<11:46,  8.95s/it]\u001b[A"
     ]
    },
    {
     "name": "stdout",
     "output_type": "stream",
     "text": [
      "Maestro  Mayor de Obras Done 1            ggcisterna@gmail.com\n",
      "1      sanchogabriela@hotmail.com\n",
      "1          ecalamos@argentina.com\n",
      "4          conghos@hotmail.com.ar\n",
      "5     marianonicola1975@gmail.com\n",
      "                 ...             \n",
      "1     mgwalterfernandez@gmail.com\n",
      "1        EMERONO2004@YAHOO.COM.AR\n",
      "1    silviodambrosio@arnet.com.ar\n",
      "2           valjauregui@gmail.com\n",
      "3          gabriel.rey1@gmail.com\n",
      "Length: 869, dtype: object\n"
     ]
    },
    {
     "name": "stderr",
     "output_type": "stream",
     "text": [
      "\n",
      " 80%|███████▉  | 306/384 [1:03:09<10:27,  8.04s/it]\u001b[A"
     ]
    },
    {
     "name": "stdout",
     "output_type": "stream",
     "text": [
      "MAGISTER EN ESTUDIOS AMBIENTALES  Done 1            ggcisterna@gmail.com\n",
      "1      sanchogabriela@hotmail.com\n",
      "1          ecalamos@argentina.com\n",
      "4          conghos@hotmail.com.ar\n",
      "5     marianonicola1975@gmail.com\n",
      "                 ...             \n",
      "1     mgwalterfernandez@gmail.com\n",
      "1        EMERONO2004@YAHOO.COM.AR\n",
      "1    silviodambrosio@arnet.com.ar\n",
      "2           valjauregui@gmail.com\n",
      "3          gabriel.rey1@gmail.com\n",
      "Length: 869, dtype: object\n"
     ]
    },
    {
     "name": "stderr",
     "output_type": "stream",
     "text": [
      "\n",
      " 80%|███████▉  | 307/384 [1:03:18<10:24,  8.11s/it]\u001b[A"
     ]
    },
    {
     "name": "stdout",
     "output_type": "stream",
     "text": [
      "MAGISTER EN GESTION AMBIENTAL DEL DESARROLLO URBAN Done 1             ggcisterna@gmail.com\n",
      "1       sanchogabriela@hotmail.com\n",
      "1           ecalamos@argentina.com\n",
      "4           conghos@hotmail.com.ar\n",
      "5      marianonicola1975@gmail.com\n",
      "                 ...              \n",
      "1         EMERONO2004@YAHOO.COM.AR\n",
      "1     silviodambrosio@arnet.com.ar\n",
      "2            valjauregui@gmail.com\n",
      "3           gabriel.rey1@gmail.com\n",
      "1    veronicainesmartins@gmail.com\n",
      "Length: 870, dtype: object\n"
     ]
    },
    {
     "name": "stderr",
     "output_type": "stream",
     "text": [
      "\n",
      " 80%|████████  | 308/384 [1:03:25<10:06,  7.99s/it]\u001b[A"
     ]
    },
    {
     "name": "stdout",
     "output_type": "stream",
     "text": [
      "Magister en Ingenieria Ambiental Done 1             ggcisterna@gmail.com\n",
      "1       sanchogabriela@hotmail.com\n",
      "1           ecalamos@argentina.com\n",
      "4           conghos@hotmail.com.ar\n",
      "5      marianonicola1975@gmail.com\n",
      "                 ...              \n",
      "1         EMERONO2004@YAHOO.COM.AR\n",
      "1     silviodambrosio@arnet.com.ar\n",
      "2            valjauregui@gmail.com\n",
      "3           gabriel.rey1@gmail.com\n",
      "1    veronicainesmartins@gmail.com\n",
      "Length: 870, dtype: object\n"
     ]
    },
    {
     "name": "stderr",
     "output_type": "stream",
     "text": [
      "\n",
      " 80%|████████  | 309/384 [1:03:33<09:56,  7.96s/it]\u001b[A"
     ]
    },
    {
     "name": "stdout",
     "output_type": "stream",
     "text": [
      "Martillero y Corredor Publico Done 1             ggcisterna@gmail.com\n",
      "1       sanchogabriela@hotmail.com\n",
      "1           ecalamos@argentina.com\n",
      "4           conghos@hotmail.com.ar\n",
      "5      marianonicola1975@gmail.com\n",
      "                 ...              \n",
      "1         EMERONO2004@YAHOO.COM.AR\n",
      "1     silviodambrosio@arnet.com.ar\n",
      "2            valjauregui@gmail.com\n",
      "3           gabriel.rey1@gmail.com\n",
      "1    veronicainesmartins@gmail.com\n",
      "Length: 870, dtype: object\n"
     ]
    },
    {
     "name": "stderr",
     "output_type": "stream",
     "text": [
      "\n",
      " 81%|████████  | 310/384 [1:03:40<09:29,  7.69s/it]\u001b[A"
     ]
    },
    {
     "name": "stdout",
     "output_type": "stream",
     "text": [
      "Master en Gestion y Auditorias Ambientales Done 1             ggcisterna@gmail.com\n",
      "1       sanchogabriela@hotmail.com\n",
      "1           ecalamos@argentina.com\n",
      "4           conghos@hotmail.com.ar\n",
      "5      marianonicola1975@gmail.com\n",
      "                 ...              \n",
      "1         EMERONO2004@YAHOO.COM.AR\n",
      "1     silviodambrosio@arnet.com.ar\n",
      "2            valjauregui@gmail.com\n",
      "3           gabriel.rey1@gmail.com\n",
      "1    veronicainesmartins@gmail.com\n",
      "Length: 870, dtype: object\n"
     ]
    },
    {
     "name": "stderr",
     "output_type": "stream",
     "text": [
      "\n",
      " 81%|████████  | 311/384 [1:03:48<09:14,  7.59s/it]\u001b[A"
     ]
    },
    {
     "name": "stdout",
     "output_type": "stream",
     "text": [
      "MASTER EN INGENIERIA AMBIENTAL DE LA EMPRESA Done 1             ggcisterna@gmail.com\n",
      "1       sanchogabriela@hotmail.com\n",
      "1           ecalamos@argentina.com\n",
      "4           conghos@hotmail.com.ar\n",
      "5      marianonicola1975@gmail.com\n",
      "                 ...              \n",
      "1         EMERONO2004@YAHOO.COM.AR\n",
      "1     silviodambrosio@arnet.com.ar\n",
      "2            valjauregui@gmail.com\n",
      "3           gabriel.rey1@gmail.com\n",
      "1    veronicainesmartins@gmail.com\n",
      "Length: 870, dtype: object\n"
     ]
    },
    {
     "name": "stderr",
     "output_type": "stream",
     "text": [
      "\n",
      " 81%|████████▏ | 312/384 [1:03:55<08:54,  7.43s/it]\u001b[A"
     ]
    },
    {
     "name": "stdout",
     "output_type": "stream",
     "text": [
      "Master en Seguridad Industrial Done 1             ggcisterna@gmail.com\n",
      "1       sanchogabriela@hotmail.com\n",
      "1           ecalamos@argentina.com\n",
      "4           conghos@hotmail.com.ar\n",
      "5      marianonicola1975@gmail.com\n",
      "                 ...              \n",
      "1         EMERONO2004@YAHOO.COM.AR\n",
      "1     silviodambrosio@arnet.com.ar\n",
      "2            valjauregui@gmail.com\n",
      "3           gabriel.rey1@gmail.com\n",
      "1    veronicainesmartins@gmail.com\n",
      "Length: 870, dtype: object\n"
     ]
    },
    {
     "name": "stderr",
     "output_type": "stream",
     "text": [
      "\n",
      " 82%|████████▏ | 313/384 [1:04:02<08:39,  7.32s/it]\u001b[A"
     ]
    },
    {
     "name": "stdout",
     "output_type": "stream",
     "text": [
      "Master Lic. en Amb. del Desarrolo Urbano    Done 1             ggcisterna@gmail.com\n",
      "1       sanchogabriela@hotmail.com\n",
      "1           ecalamos@argentina.com\n",
      "4           conghos@hotmail.com.ar\n",
      "5      marianonicola1975@gmail.com\n",
      "                 ...              \n",
      "1         EMERONO2004@YAHOO.COM.AR\n",
      "1     silviodambrosio@arnet.com.ar\n",
      "2            valjauregui@gmail.com\n",
      "3           gabriel.rey1@gmail.com\n",
      "1    veronicainesmartins@gmail.com\n",
      "Length: 870, dtype: object\n"
     ]
    },
    {
     "name": "stderr",
     "output_type": "stream",
     "text": [
      "\n",
      " 82%|████████▏ | 314/384 [1:04:09<08:18,  7.13s/it]\u001b[A"
     ]
    },
    {
     "name": "stdout",
     "output_type": "stream",
     "text": [
      "Master Universitario en Gestion y Auditoria Ambie  Done 1             ggcisterna@gmail.com\n",
      "1       sanchogabriela@hotmail.com\n",
      "1           ecalamos@argentina.com\n",
      "4           conghos@hotmail.com.ar\n",
      "5      marianonicola1975@gmail.com\n",
      "                 ...              \n",
      "1         EMERONO2004@YAHOO.COM.AR\n",
      "1     silviodambrosio@arnet.com.ar\n",
      "2            valjauregui@gmail.com\n",
      "3           gabriel.rey1@gmail.com\n",
      "1    veronicainesmartins@gmail.com\n",
      "Length: 870, dtype: object\n"
     ]
    },
    {
     "name": "stderr",
     "output_type": "stream",
     "text": [
      "\n",
      " 82%|████████▏ | 315/384 [1:04:17<08:29,  7.39s/it]\u001b[A"
     ]
    },
    {
     "name": "stdout",
     "output_type": "stream",
     "text": [
      "Médico Done 1             ggcisterna@gmail.com\n",
      "1       sanchogabriela@hotmail.com\n",
      "1           ecalamos@argentina.com\n",
      "4           conghos@hotmail.com.ar\n",
      "5      marianonicola1975@gmail.com\n",
      "                 ...              \n",
      "1         EMERONO2004@YAHOO.COM.AR\n",
      "1     silviodambrosio@arnet.com.ar\n",
      "2            valjauregui@gmail.com\n",
      "3           gabriel.rey1@gmail.com\n",
      "1    veronicainesmartins@gmail.com\n",
      "Length: 870, dtype: object\n"
     ]
    },
    {
     "name": "stderr",
     "output_type": "stream",
     "text": [
      "\n",
      " 82%|████████▏ | 316/384 [1:04:27<09:32,  8.42s/it]\u001b[A"
     ]
    },
    {
     "name": "stdout",
     "output_type": "stream",
     "text": [
      "Meteorólogo Done 1             ggcisterna@gmail.com\n",
      "1       sanchogabriela@hotmail.com\n",
      "1           ecalamos@argentina.com\n",
      "4           conghos@hotmail.com.ar\n",
      "5      marianonicola1975@gmail.com\n",
      "                 ...              \n",
      "1         EMERONO2004@YAHOO.COM.AR\n",
      "1     silviodambrosio@arnet.com.ar\n",
      "2            valjauregui@gmail.com\n",
      "3           gabriel.rey1@gmail.com\n",
      "1    veronicainesmartins@gmail.com\n",
      "Length: 870, dtype: object\n"
     ]
    },
    {
     "name": "stderr",
     "output_type": "stream",
     "text": [
      "\n",
      " 83%|████████▎ | 317/384 [1:04:33<08:34,  7.67s/it]\u001b[A"
     ]
    },
    {
     "name": "stdout",
     "output_type": "stream",
     "text": [
      "Muestreador (Curso RENATOM) Done 1             ggcisterna@gmail.com\n",
      "1       sanchogabriela@hotmail.com\n",
      "1           ecalamos@argentina.com\n",
      "4           conghos@hotmail.com.ar\n",
      "5      marianonicola1975@gmail.com\n",
      "                 ...              \n",
      "1         EMERONO2004@YAHOO.COM.AR\n",
      "1     silviodambrosio@arnet.com.ar\n",
      "2            valjauregui@gmail.com\n",
      "3           gabriel.rey1@gmail.com\n",
      "1    veronicainesmartins@gmail.com\n",
      "Length: 870, dtype: object\n"
     ]
    },
    {
     "name": "stderr",
     "output_type": "stream",
     "text": [
      "\n",
      " 83%|████████▎ | 318/384 [1:04:39<07:48,  7.10s/it]\u001b[A"
     ]
    },
    {
     "name": "stdout",
     "output_type": "stream",
     "text": [
      "Muestreador (Curso RETOMA) Done 1             ggcisterna@gmail.com\n",
      "1       sanchogabriela@hotmail.com\n",
      "1           ecalamos@argentina.com\n",
      "4           conghos@hotmail.com.ar\n",
      "5      marianonicola1975@gmail.com\n",
      "                 ...              \n",
      "1         EMERONO2004@YAHOO.COM.AR\n",
      "1     silviodambrosio@arnet.com.ar\n",
      "2            valjauregui@gmail.com\n",
      "3           gabriel.rey1@gmail.com\n",
      "1    veronicainesmartins@gmail.com\n",
      "Length: 870, dtype: object\n"
     ]
    },
    {
     "name": "stderr",
     "output_type": "stream",
     "text": [
      "\n",
      " 83%|████████▎ | 319/384 [1:04:45<07:22,  6.81s/it]\u001b[A"
     ]
    },
    {
     "name": "stdout",
     "output_type": "stream",
     "text": [
      "No posee colegio Done 1             ggcisterna@gmail.com\n",
      "1       sanchogabriela@hotmail.com\n",
      "1           ecalamos@argentina.com\n",
      "4           conghos@hotmail.com.ar\n",
      "5      marianonicola1975@gmail.com\n",
      "                 ...              \n",
      "1         EMERONO2004@YAHOO.COM.AR\n",
      "1     silviodambrosio@arnet.com.ar\n",
      "2            valjauregui@gmail.com\n",
      "3           gabriel.rey1@gmail.com\n",
      "1    veronicainesmartins@gmail.com\n",
      "Length: 870, dtype: object\n"
     ]
    },
    {
     "name": "stderr",
     "output_type": "stream",
     "text": [
      "\n",
      " 83%|████████▎ | 320/384 [1:04:56<08:27,  7.94s/it]\u001b[A"
     ]
    },
    {
     "name": "stdout",
     "output_type": "stream",
     "text": [
      "Oceanografo Done 1             ggcisterna@gmail.com\n",
      "1       sanchogabriela@hotmail.com\n",
      "1           ecalamos@argentina.com\n",
      "4           conghos@hotmail.com.ar\n",
      "5      marianonicola1975@gmail.com\n",
      "                 ...              \n",
      "1     silviodambrosio@arnet.com.ar\n",
      "2            valjauregui@gmail.com\n",
      "3           gabriel.rey1@gmail.com\n",
      "1    veronicainesmartins@gmail.com\n",
      "1      lucia.elmankabadi@gmail.com\n",
      "Length: 871, dtype: object\n"
     ]
    },
    {
     "name": "stderr",
     "output_type": "stream",
     "text": [
      "\n",
      " 84%|████████▎ | 321/384 [1:05:03<08:06,  7.73s/it]\u001b[A"
     ]
    },
    {
     "name": "stdout",
     "output_type": "stream",
     "text": [
      "ODONTOLOGA Done 1             ggcisterna@gmail.com\n",
      "1       sanchogabriela@hotmail.com\n",
      "1           ecalamos@argentina.com\n",
      "4           conghos@hotmail.com.ar\n",
      "5      marianonicola1975@gmail.com\n",
      "                 ...              \n",
      "1     silviodambrosio@arnet.com.ar\n",
      "2            valjauregui@gmail.com\n",
      "3           gabriel.rey1@gmail.com\n",
      "1    veronicainesmartins@gmail.com\n",
      "1      lucia.elmankabadi@gmail.com\n",
      "Length: 871, dtype: object\n"
     ]
    },
    {
     "name": "stderr",
     "output_type": "stream",
     "text": [
      "\n",
      " 84%|████████▍ | 322/384 [1:05:10<07:53,  7.63s/it]\u001b[A"
     ]
    },
    {
     "name": "stdout",
     "output_type": "stream",
     "text": [
      "Orientacion Mecanica Done 1              ggcisterna@gmail.com\n",
      "1        sanchogabriela@hotmail.com\n",
      "1            ecalamos@argentina.com\n",
      "4            conghos@hotmail.com.ar\n",
      "5       marianonicola1975@gmail.com\n",
      "                  ...              \n",
      "3            gabriel.rey1@gmail.com\n",
      "1     veronicainesmartins@gmail.com\n",
      "1       lucia.elmankabadi@gmail.com\n",
      "1    osvaldo.simonini@ecotec.com.ar\n",
      "2    osvaldo.simonini@ecotec.com.ar\n",
      "Length: 873, dtype: object\n"
     ]
    },
    {
     "name": "stderr",
     "output_type": "stream",
     "text": [
      "\n",
      " 84%|████████▍ | 323/384 [1:05:17<07:29,  7.37s/it]\u001b[A"
     ]
    },
    {
     "name": "stdout",
     "output_type": "stream",
     "text": [
      "Posgrado - INGENIERIA AMBIENTAL Done 1              ggcisterna@gmail.com\n",
      "1        sanchogabriela@hotmail.com\n",
      "1            ecalamos@argentina.com\n",
      "4            conghos@hotmail.com.ar\n",
      "5       marianonicola1975@gmail.com\n",
      "                  ...              \n",
      "1     veronicainesmartins@gmail.com\n",
      "1       lucia.elmankabadi@gmail.com\n",
      "1    osvaldo.simonini@ecotec.com.ar\n",
      "2    osvaldo.simonini@ecotec.com.ar\n",
      "1          abertona@fibertel.com.ar\n",
      "Length: 874, dtype: object\n"
     ]
    },
    {
     "name": "stderr",
     "output_type": "stream",
     "text": [
      "\n",
      " 84%|████████▍ | 324/384 [1:05:25<07:23,  7.39s/it]\u001b[A"
     ]
    },
    {
     "name": "stdout",
     "output_type": "stream",
     "text": [
      "Posgrado en Hig. y Seg. en el Trab Done 1              ggcisterna@gmail.com\n",
      "1        sanchogabriela@hotmail.com\n",
      "1            ecalamos@argentina.com\n",
      "4            conghos@hotmail.com.ar\n",
      "5       marianonicola1975@gmail.com\n",
      "                  ...              \n",
      "1     veronicainesmartins@gmail.com\n",
      "1       lucia.elmankabadi@gmail.com\n",
      "1    osvaldo.simonini@ecotec.com.ar\n",
      "2    osvaldo.simonini@ecotec.com.ar\n",
      "1          abertona@fibertel.com.ar\n",
      "Length: 874, dtype: object\n"
     ]
    },
    {
     "name": "stderr",
     "output_type": "stream",
     "text": [
      "\n",
      " 85%|████████▍ | 325/384 [1:05:31<07:03,  7.17s/it]\u001b[A"
     ]
    },
    {
     "name": "stdout",
     "output_type": "stream",
     "text": [
      "post grado en gestión ambiental Done 1              ggcisterna@gmail.com\n",
      "1        sanchogabriela@hotmail.com\n",
      "1            ecalamos@argentina.com\n",
      "4            conghos@hotmail.com.ar\n",
      "5       marianonicola1975@gmail.com\n",
      "                  ...              \n",
      "1     veronicainesmartins@gmail.com\n",
      "1       lucia.elmankabadi@gmail.com\n",
      "1    osvaldo.simonini@ecotec.com.ar\n",
      "2    osvaldo.simonini@ecotec.com.ar\n",
      "1          abertona@fibertel.com.ar\n",
      "Length: 874, dtype: object\n"
     ]
    },
    {
     "name": "stderr",
     "output_type": "stream",
     "text": [
      "\n",
      " 85%|████████▍ | 326/384 [1:05:38<06:50,  7.08s/it]\u001b[A"
     ]
    },
    {
     "name": "stdout",
     "output_type": "stream",
     "text": [
      "PROCURADORA Done 1              ggcisterna@gmail.com\n",
      "1        sanchogabriela@hotmail.com\n",
      "1            ecalamos@argentina.com\n",
      "4            conghos@hotmail.com.ar\n",
      "5       marianonicola1975@gmail.com\n",
      "                  ...              \n",
      "1       lucia.elmankabadi@gmail.com\n",
      "1    osvaldo.simonini@ecotec.com.ar\n",
      "2    osvaldo.simonini@ecotec.com.ar\n",
      "1          abertona@fibertel.com.ar\n",
      "1           estudio_dlq@hotmail.com\n",
      "Length: 875, dtype: object\n"
     ]
    },
    {
     "name": "stderr",
     "output_type": "stream",
     "text": [
      "\n",
      " 85%|████████▌ | 327/384 [1:05:45<06:36,  6.96s/it]\u001b[A"
     ]
    },
    {
     "name": "stdout",
     "output_type": "stream",
     "text": [
      "Profesora en Geografía Done 1              ggcisterna@gmail.com\n",
      "1        sanchogabriela@hotmail.com\n",
      "1            ecalamos@argentina.com\n",
      "4            conghos@hotmail.com.ar\n",
      "5       marianonicola1975@gmail.com\n",
      "                  ...              \n",
      "1       lucia.elmankabadi@gmail.com\n",
      "1    osvaldo.simonini@ecotec.com.ar\n",
      "2    osvaldo.simonini@ecotec.com.ar\n",
      "1          abertona@fibertel.com.ar\n",
      "1           estudio_dlq@hotmail.com\n",
      "Length: 875, dtype: object\n"
     ]
    },
    {
     "name": "stderr",
     "output_type": "stream",
     "text": [
      "\n",
      " 85%|████████▌ | 328/384 [1:05:52<06:32,  7.01s/it]\u001b[A"
     ]
    },
    {
     "name": "stdout",
     "output_type": "stream",
     "text": [
      "Programa de Gestión Ambiental Done 1              ggcisterna@gmail.com\n",
      "1        sanchogabriela@hotmail.com\n",
      "1            ecalamos@argentina.com\n",
      "4            conghos@hotmail.com.ar\n",
      "5       marianonicola1975@gmail.com\n",
      "                  ...              \n",
      "1       lucia.elmankabadi@gmail.com\n",
      "1    osvaldo.simonini@ecotec.com.ar\n",
      "2    osvaldo.simonini@ecotec.com.ar\n",
      "1          abertona@fibertel.com.ar\n",
      "1           estudio_dlq@hotmail.com\n",
      "Length: 875, dtype: object\n"
     ]
    },
    {
     "name": "stderr",
     "output_type": "stream",
     "text": [
      "\n",
      " 86%|████████▌ | 329/384 [1:05:59<06:30,  7.09s/it]\u001b[A"
     ]
    },
    {
     "name": "stdout",
     "output_type": "stream",
     "text": [
      "Programa de Gestiòn Ambiental Done 1              ggcisterna@gmail.com\n",
      "1        sanchogabriela@hotmail.com\n",
      "1            ecalamos@argentina.com\n",
      "4            conghos@hotmail.com.ar\n",
      "5       marianonicola1975@gmail.com\n",
      "                  ...              \n",
      "1       lucia.elmankabadi@gmail.com\n",
      "1    osvaldo.simonini@ecotec.com.ar\n",
      "2    osvaldo.simonini@ecotec.com.ar\n",
      "1          abertona@fibertel.com.ar\n",
      "1           estudio_dlq@hotmail.com\n",
      "Length: 875, dtype: object\n"
     ]
    },
    {
     "name": "stderr",
     "output_type": "stream",
     "text": [
      "\n",
      " 86%|████████▌ | 330/384 [1:06:05<06:07,  6.81s/it]\u001b[A"
     ]
    },
    {
     "name": "stdout",
     "output_type": "stream",
     "text": [
      "proyecto de instalaciones hospitalarias Done 1              ggcisterna@gmail.com\n",
      "1        sanchogabriela@hotmail.com\n",
      "1            ecalamos@argentina.com\n",
      "4            conghos@hotmail.com.ar\n",
      "5       marianonicola1975@gmail.com\n",
      "                  ...              \n",
      "1       lucia.elmankabadi@gmail.com\n",
      "1    osvaldo.simonini@ecotec.com.ar\n",
      "2    osvaldo.simonini@ecotec.com.ar\n",
      "1          abertona@fibertel.com.ar\n",
      "1           estudio_dlq@hotmail.com\n",
      "Length: 875, dtype: object\n"
     ]
    },
    {
     "name": "stderr",
     "output_type": "stream",
     "text": [
      "\n",
      " 86%|████████▌ | 331/384 [1:06:12<05:59,  6.79s/it]\u001b[A"
     ]
    },
    {
     "name": "stdout",
     "output_type": "stream",
     "text": [
      "QUIMICA (Carrera Bioquimica) Done 1              ggcisterna@gmail.com\n",
      "1        sanchogabriela@hotmail.com\n",
      "1            ecalamos@argentina.com\n",
      "4            conghos@hotmail.com.ar\n",
      "5       marianonicola1975@gmail.com\n",
      "                  ...              \n",
      "1       lucia.elmankabadi@gmail.com\n",
      "1    osvaldo.simonini@ecotec.com.ar\n",
      "2    osvaldo.simonini@ecotec.com.ar\n",
      "1          abertona@fibertel.com.ar\n",
      "1           estudio_dlq@hotmail.com\n",
      "Length: 875, dtype: object\n"
     ]
    },
    {
     "name": "stderr",
     "output_type": "stream",
     "text": [
      "\n",
      " 86%|████████▋ | 332/384 [1:06:19<05:51,  6.76s/it]\u001b[A"
     ]
    },
    {
     "name": "stdout",
     "output_type": "stream",
     "text": [
      "QUIMICO Done 1              ggcisterna@gmail.com\n",
      "1        sanchogabriela@hotmail.com\n",
      "1            ecalamos@argentina.com\n",
      "4            conghos@hotmail.com.ar\n",
      "5       marianonicola1975@gmail.com\n",
      "                  ...              \n",
      "1       lucia.elmankabadi@gmail.com\n",
      "1    osvaldo.simonini@ecotec.com.ar\n",
      "2    osvaldo.simonini@ecotec.com.ar\n",
      "1          abertona@fibertel.com.ar\n",
      "1           estudio_dlq@hotmail.com\n",
      "Length: 875, dtype: object\n"
     ]
    },
    {
     "name": "stderr",
     "output_type": "stream",
     "text": [
      "\n",
      " 87%|████████▋ | 333/384 [1:06:25<05:41,  6.69s/it]\u001b[A"
     ]
    },
    {
     "name": "stdout",
     "output_type": "stream",
     "text": [
      "saneamiento proteccion ambiental Done 1              ggcisterna@gmail.com\n",
      "1        sanchogabriela@hotmail.com\n",
      "1            ecalamos@argentina.com\n",
      "4            conghos@hotmail.com.ar\n",
      "5       marianonicola1975@gmail.com\n",
      "                  ...              \n",
      "1       lucia.elmankabadi@gmail.com\n",
      "1    osvaldo.simonini@ecotec.com.ar\n",
      "2    osvaldo.simonini@ecotec.com.ar\n",
      "1          abertona@fibertel.com.ar\n",
      "1           estudio_dlq@hotmail.com\n",
      "Length: 875, dtype: object\n"
     ]
    },
    {
     "name": "stderr",
     "output_type": "stream",
     "text": [
      "\n",
      " 87%|████████▋ | 334/384 [1:06:40<07:32,  9.05s/it]\u001b[A"
     ]
    },
    {
     "name": "stdout",
     "output_type": "stream",
     "text": [
      "tec sup en seg e higiene en el trabajo .  Done 1           ggcisterna@gmail.com\n",
      "1     sanchogabriela@hotmail.com\n",
      "1         ecalamos@argentina.com\n",
      "4         conghos@hotmail.com.ar\n",
      "5    marianonicola1975@gmail.com\n",
      "                ...             \n",
      "3         HGABRIEL47@HOTMAIL.COM\n",
      "4    alejandrailion@yahoo.com.ar\n",
      "5              hisotti@gmail.com\n",
      "6        nestorlamas@hotmail.con\n",
      "7           rmluduenia@gmail.com\n",
      "Length: 882, dtype: object\n"
     ]
    },
    {
     "name": "stderr",
     "output_type": "stream",
     "text": [
      "\n",
      " 87%|████████▋ | 335/384 [1:06:46<06:46,  8.30s/it]\u001b[A"
     ]
    },
    {
     "name": "stdout",
     "output_type": "stream",
     "text": [
      "TEC. SUP. EN MED. AMB. MARINO Y COSTERO Done 1           ggcisterna@gmail.com\n",
      "1     sanchogabriela@hotmail.com\n",
      "1         ecalamos@argentina.com\n",
      "4         conghos@hotmail.com.ar\n",
      "5    marianonicola1975@gmail.com\n",
      "                ...             \n",
      "3         HGABRIEL47@HOTMAIL.COM\n",
      "4    alejandrailion@yahoo.com.ar\n",
      "5              hisotti@gmail.com\n",
      "6        nestorlamas@hotmail.con\n",
      "7           rmluduenia@gmail.com\n",
      "Length: 882, dtype: object\n"
     ]
    },
    {
     "name": "stderr",
     "output_type": "stream",
     "text": [
      "\n",
      " 88%|████████▊ | 336/384 [1:06:56<07:02,  8.80s/it]\u001b[A"
     ]
    },
    {
     "name": "stdout",
     "output_type": "stream",
     "text": [
      "Tec. Sup. en Seg., Hig. y Control Amb. Ind. Done 1           ggcisterna@gmail.com\n",
      "1     sanchogabriela@hotmail.com\n",
      "1         ecalamos@argentina.com\n",
      "4         conghos@hotmail.com.ar\n",
      "5    marianonicola1975@gmail.com\n",
      "                ...             \n",
      "6        nestorlamas@hotmail.con\n",
      "7           rmluduenia@gmail.com\n",
      "1      bustosmarcos@yahoo.com.ar\n",
      "2        anibal.davviu@gmail.com\n",
      "3       antovera_shi@hotmail.com\n",
      "Length: 885, dtype: object\n"
     ]
    },
    {
     "name": "stderr",
     "output_type": "stream",
     "text": [
      "\n",
      " 88%|████████▊ | 337/384 [1:07:03<06:24,  8.17s/it]\u001b[A"
     ]
    },
    {
     "name": "stdout",
     "output_type": "stream",
     "text": [
      "Tec. Superior en Hig. y Seg. en el Trabajo Done 1           ggcisterna@gmail.com\n",
      "1     sanchogabriela@hotmail.com\n",
      "1         ecalamos@argentina.com\n",
      "4         conghos@hotmail.com.ar\n",
      "5    marianonicola1975@gmail.com\n",
      "                ...             \n",
      "6        nestorlamas@hotmail.con\n",
      "7           rmluduenia@gmail.com\n",
      "1      bustosmarcos@yahoo.com.ar\n",
      "2        anibal.davviu@gmail.com\n",
      "3       antovera_shi@hotmail.com\n",
      "Length: 885, dtype: object\n"
     ]
    },
    {
     "name": "stderr",
     "output_type": "stream",
     "text": [
      "\n",
      " 88%|████████▊ | 338/384 [1:07:11<06:10,  8.06s/it]\u001b[A"
     ]
    },
    {
     "name": "stdout",
     "output_type": "stream",
     "text": [
      "Tec. Superior en Manejo Ambiental Done 1           ggcisterna@gmail.com\n",
      "1     sanchogabriela@hotmail.com\n",
      "1         ecalamos@argentina.com\n",
      "4         conghos@hotmail.com.ar\n",
      "5    marianonicola1975@gmail.com\n",
      "                ...             \n",
      "7           rmluduenia@gmail.com\n",
      "1      bustosmarcos@yahoo.com.ar\n",
      "2        anibal.davviu@gmail.com\n",
      "3       antovera_shi@hotmail.com\n",
      "1         TORRERODAIANA@LIVE.COM\n",
      "Length: 886, dtype: object\n"
     ]
    },
    {
     "name": "stderr",
     "output_type": "stream",
     "text": [
      "\n",
      " 88%|████████▊ | 339/384 [1:07:18<05:49,  7.76s/it]\u001b[A"
     ]
    },
    {
     "name": "stdout",
     "output_type": "stream",
     "text": [
      "Tec. Universitario en Gestión Ambiental Urbana Done 1           ggcisterna@gmail.com\n",
      "1     sanchogabriela@hotmail.com\n",
      "1         ecalamos@argentina.com\n",
      "4         conghos@hotmail.com.ar\n",
      "5    marianonicola1975@gmail.com\n",
      "                ...             \n",
      "7           rmluduenia@gmail.com\n",
      "1      bustosmarcos@yahoo.com.ar\n",
      "2        anibal.davviu@gmail.com\n",
      "3       antovera_shi@hotmail.com\n",
      "1         TORRERODAIANA@LIVE.COM\n",
      "Length: 886, dtype: object\n"
     ]
    },
    {
     "name": "stderr",
     "output_type": "stream",
     "text": [
      "\n",
      " 89%|████████▊ | 340/384 [1:07:25<05:25,  7.40s/it]\u001b[A"
     ]
    },
    {
     "name": "stdout",
     "output_type": "stream",
     "text": [
      "TECNICA MAESTRO MAYOR DE OBRAS Done 1           ggcisterna@gmail.com\n",
      "1     sanchogabriela@hotmail.com\n",
      "1         ecalamos@argentina.com\n",
      "4         conghos@hotmail.com.ar\n",
      "5    marianonicola1975@gmail.com\n",
      "                ...             \n",
      "7           rmluduenia@gmail.com\n",
      "1      bustosmarcos@yahoo.com.ar\n",
      "2        anibal.davviu@gmail.com\n",
      "3       antovera_shi@hotmail.com\n",
      "1         TORRERODAIANA@LIVE.COM\n",
      "Length: 886, dtype: object\n"
     ]
    },
    {
     "name": "stderr",
     "output_type": "stream",
     "text": [
      "\n",
      " 89%|████████▉ | 341/384 [1:07:31<05:12,  7.27s/it]\u001b[A"
     ]
    },
    {
     "name": "stdout",
     "output_type": "stream",
     "text": [
      "Tecnica Superior en Gestiòn Ambiental Done 1           ggcisterna@gmail.com\n",
      "1     sanchogabriela@hotmail.com\n",
      "1         ecalamos@argentina.com\n",
      "4         conghos@hotmail.com.ar\n",
      "5    marianonicola1975@gmail.com\n",
      "                ...             \n",
      "1      bustosmarcos@yahoo.com.ar\n",
      "2        anibal.davviu@gmail.com\n",
      "3       antovera_shi@hotmail.com\n",
      "1         TORRERODAIANA@LIVE.COM\n",
      "1     carodantiochia@hotmail.com\n",
      "Length: 887, dtype: object\n"
     ]
    },
    {
     "name": "stderr",
     "output_type": "stream",
     "text": [
      "\n",
      " 89%|████████▉ | 342/384 [1:07:42<05:46,  8.25s/it]\u001b[A"
     ]
    },
    {
     "name": "stdout",
     "output_type": "stream",
     "text": [
      "Tecnica Univ. en Informacion Ambiental Done 1                                 ggcisterna@gmail.com\n",
      "1                           sanchogabriela@hotmail.com\n",
      "1                               ecalamos@argentina.com\n",
      "4                               conghos@hotmail.com.ar\n",
      "5                          marianonicola1975@gmail.com\n",
      "                           ...                        \n",
      "1                           carodantiochia@hotmail.com\n",
      "1                  rodrigo.flores@arcelormittal.com.ar\n",
      "2    anitagimenezgrego@hotmail.com sga.serviciosamb...\n",
      "3                              poyomariela@hotmail.com\n",
      "4                         eugenia_spinelli@hotmail.com\n",
      "Length: 891, dtype: object\n"
     ]
    },
    {
     "name": "stderr",
     "output_type": "stream",
     "text": [
      "\n",
      " 89%|████████▉ | 343/384 [1:07:50<05:36,  8.20s/it]\u001b[A"
     ]
    },
    {
     "name": "stdout",
     "output_type": "stream",
     "text": [
      "TECNICATURA SUPERIOR EN GESTION AMBIENTAL Y SALUD Done 1                                 ggcisterna@gmail.com\n",
      "1                           sanchogabriela@hotmail.com\n",
      "1                               ecalamos@argentina.com\n",
      "4                               conghos@hotmail.com.ar\n",
      "5                          marianonicola1975@gmail.com\n",
      "                           ...                        \n",
      "2    anitagimenezgrego@hotmail.com sga.serviciosamb...\n",
      "3                              poyomariela@hotmail.com\n",
      "4                         eugenia_spinelli@hotmail.com\n",
      "1                                  juan86@pm@gmail.com\n",
      "2                                ANTOVIGO9@HOTMAIL.COM\n",
      "Length: 893, dtype: object\n"
     ]
    },
    {
     "name": "stderr",
     "output_type": "stream",
     "text": [
      "\n",
      " 90%|████████▉ | 344/384 [1:08:04<06:38,  9.95s/it]\u001b[A"
     ]
    },
    {
     "name": "stdout",
     "output_type": "stream",
     "text": [
      "Tecnico  Mecanico Done 1           ggcisterna@gmail.com\n",
      "1     sanchogabriela@hotmail.com\n",
      "1         ecalamos@argentina.com\n",
      "4         conghos@hotmail.com.ar\n",
      "5    marianonicola1975@gmail.com\n",
      "                ...             \n",
      "5    OSVALDO.LOPEZ@SPEEDY.COM.AR\n",
      "6            DRACO@HOTMAL.COM.AR\n",
      "7        sdmconsultora@gmail.com\n",
      "8              casvl@hotmail.com\n",
      "9        maxisidella@hotmail.com\n",
      "Length: 901, dtype: object\n"
     ]
    },
    {
     "name": "stderr",
     "output_type": "stream",
     "text": [
      "\n",
      " 90%|████████▉ | 345/384 [1:08:12<05:57,  9.17s/it]\u001b[A"
     ]
    },
    {
     "name": "stdout",
     "output_type": "stream",
     "text": [
      "Tecnico  Saneamiento Ambiental Done 1           ggcisterna@gmail.com\n",
      "1     sanchogabriela@hotmail.com\n",
      "1         ecalamos@argentina.com\n",
      "4         conghos@hotmail.com.ar\n",
      "5    marianonicola1975@gmail.com\n",
      "                ...             \n",
      "5    OSVALDO.LOPEZ@SPEEDY.COM.AR\n",
      "6            DRACO@HOTMAL.COM.AR\n",
      "7        sdmconsultora@gmail.com\n",
      "8              casvl@hotmail.com\n",
      "9        maxisidella@hotmail.com\n",
      "Length: 901, dtype: object\n"
     ]
    },
    {
     "name": "stderr",
     "output_type": "stream",
     "text": [
      "\n",
      " 90%|█████████ | 346/384 [1:08:19<05:26,  8.58s/it]\u001b[A"
     ]
    },
    {
     "name": "stdout",
     "output_type": "stream",
     "text": [
      "Tecnico Analista Ambiental Done 1           ggcisterna@gmail.com\n",
      "1     sanchogabriela@hotmail.com\n",
      "1         ecalamos@argentina.com\n",
      "4         conghos@hotmail.com.ar\n",
      "5    marianonicola1975@gmail.com\n",
      "                ...             \n",
      "6            DRACO@HOTMAL.COM.AR\n",
      "7        sdmconsultora@gmail.com\n",
      "8              casvl@hotmail.com\n",
      "9        maxisidella@hotmail.com\n",
      "1    fchiarbonello@desler-sa.com\n",
      "Length: 902, dtype: object\n"
     ]
    },
    {
     "name": "stderr",
     "output_type": "stream",
     "text": [
      "\n",
      " 90%|█████████ | 347/384 [1:08:27<05:08,  8.34s/it]\u001b[A"
     ]
    },
    {
     "name": "stdout",
     "output_type": "stream",
     "text": [
      "tecnico constructor Done 1           ggcisterna@gmail.com\n",
      "1     sanchogabriela@hotmail.com\n",
      "1         ecalamos@argentina.com\n",
      "4         conghos@hotmail.com.ar\n",
      "5    marianonicola1975@gmail.com\n",
      "                ...             \n",
      "6            DRACO@HOTMAL.COM.AR\n",
      "7        sdmconsultora@gmail.com\n",
      "8              casvl@hotmail.com\n",
      "9        maxisidella@hotmail.com\n",
      "1    fchiarbonello@desler-sa.com\n",
      "Length: 902, dtype: object\n"
     ]
    },
    {
     "name": "stderr",
     "output_type": "stream",
     "text": [
      "\n",
      " 91%|█████████ | 348/384 [1:08:34<04:48,  8.02s/it]\u001b[A"
     ]
    },
    {
     "name": "stdout",
     "output_type": "stream",
     "text": [
      "Técnico Electrónico Done 1           ggcisterna@gmail.com\n",
      "1     sanchogabriela@hotmail.com\n",
      "1         ecalamos@argentina.com\n",
      "4         conghos@hotmail.com.ar\n",
      "5    marianonicola1975@gmail.com\n",
      "                ...             \n",
      "6            DRACO@HOTMAL.COM.AR\n",
      "7        sdmconsultora@gmail.com\n",
      "8              casvl@hotmail.com\n",
      "9        maxisidella@hotmail.com\n",
      "1    fchiarbonello@desler-sa.com\n",
      "Length: 902, dtype: object\n"
     ]
    },
    {
     "name": "stderr",
     "output_type": "stream",
     "text": [
      "\n",
      " 91%|█████████ | 349/384 [1:08:39<04:14,  7.27s/it]\u001b[A"
     ]
    },
    {
     "name": "stdout",
     "output_type": "stream",
     "text": [
      "TECNICO EN E. Y INST. ELECTROMECANICAS Done 1           ggcisterna@gmail.com\n",
      "1     sanchogabriela@hotmail.com\n",
      "1         ecalamos@argentina.com\n",
      "4         conghos@hotmail.com.ar\n",
      "5    marianonicola1975@gmail.com\n",
      "                ...             \n",
      "6            DRACO@HOTMAL.COM.AR\n",
      "7        sdmconsultora@gmail.com\n",
      "8              casvl@hotmail.com\n",
      "9        maxisidella@hotmail.com\n",
      "1    fchiarbonello@desler-sa.com\n",
      "Length: 902, dtype: object\n"
     ]
    },
    {
     "name": "stderr",
     "output_type": "stream",
     "text": [
      "\n",
      " 91%|█████████ | 350/384 [1:08:46<04:04,  7.20s/it]\u001b[A"
     ]
    },
    {
     "name": "stdout",
     "output_type": "stream",
     "text": [
      "Técnico en Electromecanica Done 1           ggcisterna@gmail.com\n",
      "1     sanchogabriela@hotmail.com\n",
      "1         ecalamos@argentina.com\n",
      "4         conghos@hotmail.com.ar\n",
      "5    marianonicola1975@gmail.com\n",
      "                ...             \n",
      "6            DRACO@HOTMAL.COM.AR\n",
      "7        sdmconsultora@gmail.com\n",
      "8              casvl@hotmail.com\n",
      "9        maxisidella@hotmail.com\n",
      "1    fchiarbonello@desler-sa.com\n",
      "Length: 902, dtype: object\n"
     ]
    },
    {
     "name": "stderr",
     "output_type": "stream",
     "text": [
      "\n",
      " 91%|█████████▏| 351/384 [1:08:53<03:56,  7.17s/it]\u001b[A"
     ]
    },
    {
     "name": "stdout",
     "output_type": "stream",
     "text": [
      "TECNICO EN EQUIPOS E INST. ELECTROMECANICAS Done 1           ggcisterna@gmail.com\n",
      "1     sanchogabriela@hotmail.com\n",
      "1         ecalamos@argentina.com\n",
      "4         conghos@hotmail.com.ar\n",
      "5    marianonicola1975@gmail.com\n",
      "                ...             \n",
      "7        sdmconsultora@gmail.com\n",
      "8              casvl@hotmail.com\n",
      "9        maxisidella@hotmail.com\n",
      "1    fchiarbonello@desler-sa.com\n",
      "1     miguelenrique198@gmail.com\n",
      "Length: 903, dtype: object\n"
     ]
    },
    {
     "name": "stderr",
     "output_type": "stream",
     "text": [
      "\n",
      " 92%|█████████▏| 352/384 [1:09:01<03:55,  7.35s/it]\u001b[A"
     ]
    },
    {
     "name": "stdout",
     "output_type": "stream",
     "text": [
      "Tecnico en Gerenciamiento Ambiental Done 1           ggcisterna@gmail.com\n",
      "1     sanchogabriela@hotmail.com\n",
      "1         ecalamos@argentina.com\n",
      "4         conghos@hotmail.com.ar\n",
      "5    marianonicola1975@gmail.com\n",
      "                ...             \n",
      "7        sdmconsultora@gmail.com\n",
      "8              casvl@hotmail.com\n",
      "9        maxisidella@hotmail.com\n",
      "1    fchiarbonello@desler-sa.com\n",
      "1     miguelenrique198@gmail.com\n",
      "Length: 903, dtype: object\n"
     ]
    },
    {
     "name": "stderr",
     "output_type": "stream",
     "text": [
      "\n",
      " 92%|█████████▏| 353/384 [1:09:08<03:45,  7.26s/it]\u001b[A"
     ]
    },
    {
     "name": "stdout",
     "output_type": "stream",
     "text": [
      "TECNICO EN INDUSTRIAS DE LA ALIMENTACION ORI.PESCA Done 1           ggcisterna@gmail.com\n",
      "1     sanchogabriela@hotmail.com\n",
      "1         ecalamos@argentina.com\n",
      "4         conghos@hotmail.com.ar\n",
      "5    marianonicola1975@gmail.com\n",
      "                ...             \n",
      "7        sdmconsultora@gmail.com\n",
      "8              casvl@hotmail.com\n",
      "9        maxisidella@hotmail.com\n",
      "1    fchiarbonello@desler-sa.com\n",
      "1     miguelenrique198@gmail.com\n",
      "Length: 903, dtype: object\n"
     ]
    },
    {
     "name": "stderr",
     "output_type": "stream",
     "text": [
      "\n",
      " 92%|█████████▏| 354/384 [1:09:14<03:25,  6.85s/it]\u001b[A"
     ]
    },
    {
     "name": "stdout",
     "output_type": "stream",
     "text": [
      "TECNICO EN INDUSTRIAS DE PROCESOS Done 1           ggcisterna@gmail.com\n",
      "1     sanchogabriela@hotmail.com\n",
      "1         ecalamos@argentina.com\n",
      "4         conghos@hotmail.com.ar\n",
      "5    marianonicola1975@gmail.com\n",
      "                ...             \n",
      "7        sdmconsultora@gmail.com\n",
      "8              casvl@hotmail.com\n",
      "9        maxisidella@hotmail.com\n",
      "1    fchiarbonello@desler-sa.com\n",
      "1     miguelenrique198@gmail.com\n",
      "Length: 903, dtype: object\n"
     ]
    },
    {
     "name": "stderr",
     "output_type": "stream",
     "text": [
      "\n",
      " 92%|█████████▏| 355/384 [1:09:22<03:27,  7.15s/it]\u001b[A"
     ]
    },
    {
     "name": "stdout",
     "output_type": "stream",
     "text": [
      "Técnico en la Cadena de Carnes Done 1           ggcisterna@gmail.com\n",
      "1     sanchogabriela@hotmail.com\n",
      "1         ecalamos@argentina.com\n",
      "4         conghos@hotmail.com.ar\n",
      "5    marianonicola1975@gmail.com\n",
      "                ...             \n",
      "7        sdmconsultora@gmail.com\n",
      "8              casvl@hotmail.com\n",
      "9        maxisidella@hotmail.com\n",
      "1    fchiarbonello@desler-sa.com\n",
      "1     miguelenrique198@gmail.com\n",
      "Length: 903, dtype: object\n"
     ]
    },
    {
     "name": "stderr",
     "output_type": "stream",
     "text": [
      "\n",
      " 93%|█████████▎| 356/384 [1:09:29<03:22,  7.24s/it]\u001b[A"
     ]
    },
    {
     "name": "stdout",
     "output_type": "stream",
     "text": [
      "Técnico en Meteorología Sinóptica Done 1           ggcisterna@gmail.com\n",
      "1     sanchogabriela@hotmail.com\n",
      "1         ecalamos@argentina.com\n",
      "4         conghos@hotmail.com.ar\n",
      "5    marianonicola1975@gmail.com\n",
      "                ...             \n",
      "7        sdmconsultora@gmail.com\n",
      "8              casvl@hotmail.com\n",
      "9        maxisidella@hotmail.com\n",
      "1    fchiarbonello@desler-sa.com\n",
      "1     miguelenrique198@gmail.com\n",
      "Length: 903, dtype: object\n"
     ]
    },
    {
     "name": "stderr",
     "output_type": "stream",
     "text": [
      "\n",
      " 93%|█████████▎| 357/384 [1:09:48<04:48, 10.69s/it]\u001b[A"
     ]
    },
    {
     "name": "stdout",
     "output_type": "stream",
     "text": [
      "Tecnico en Seguridad e Higiene Done 1           ggcisterna@gmail.com\n",
      "1     sanchogabriela@hotmail.com\n",
      "1         ecalamos@argentina.com\n",
      "4         conghos@hotmail.com.ar\n",
      "5    marianonicola1975@gmail.com\n",
      "                ...             \n",
      "1        MARBATALLA7@HOTMAIL.COM\n",
      "2          ing.bill@yahoo.com.ar\n",
      "3             imatakay@gmail.com\n",
      "4            DRACO@HOTMAL.COM.AR\n",
      "5        PINEDOMANUELE@GMAIL.COM\n",
      "Length: 908, dtype: object\n"
     ]
    },
    {
     "name": "stderr",
     "output_type": "stream",
     "text": [
      "\n",
      " 93%|█████████▎| 358/384 [1:09:56<04:12,  9.69s/it]\u001b[A"
     ]
    },
    {
     "name": "stdout",
     "output_type": "stream",
     "text": [
      "Tecnico en Seguridad Industrial  Done 1           ggcisterna@gmail.com\n",
      "1     sanchogabriela@hotmail.com\n",
      "1         ecalamos@argentina.com\n",
      "4         conghos@hotmail.com.ar\n",
      "5    marianonicola1975@gmail.com\n",
      "                ...             \n",
      "1        MARBATALLA7@HOTMAIL.COM\n",
      "2          ing.bill@yahoo.com.ar\n",
      "3             imatakay@gmail.com\n",
      "4            DRACO@HOTMAL.COM.AR\n",
      "5        PINEDOMANUELE@GMAIL.COM\n",
      "Length: 908, dtype: object\n"
     ]
    },
    {
     "name": "stderr",
     "output_type": "stream",
     "text": [
      "\n",
      " 93%|█████████▎| 359/384 [1:10:02<03:39,  8.78s/it]\u001b[A"
     ]
    },
    {
     "name": "stdout",
     "output_type": "stream",
     "text": [
      "TECNICO EN SONIDO ESP EN DISEÑO DE INST. ACUSTICAS Done 1           ggcisterna@gmail.com\n",
      "1     sanchogabriela@hotmail.com\n",
      "1         ecalamos@argentina.com\n",
      "4         conghos@hotmail.com.ar\n",
      "5    marianonicola1975@gmail.com\n",
      "                ...             \n",
      "1        MARBATALLA7@HOTMAIL.COM\n",
      "2          ing.bill@yahoo.com.ar\n",
      "3             imatakay@gmail.com\n",
      "4            DRACO@HOTMAL.COM.AR\n",
      "5        PINEDOMANUELE@GMAIL.COM\n",
      "Length: 908, dtype: object\n"
     ]
    },
    {
     "name": "stderr",
     "output_type": "stream",
     "text": [
      "\n",
      " 94%|█████████▍| 360/384 [1:10:10<03:23,  8.46s/it]\u001b[A"
     ]
    },
    {
     "name": "stdout",
     "output_type": "stream",
     "text": [
      "TECNICO FORESTAL Done 1           ggcisterna@gmail.com\n",
      "1     sanchogabriela@hotmail.com\n",
      "1         ecalamos@argentina.com\n",
      "4         conghos@hotmail.com.ar\n",
      "5    marianonicola1975@gmail.com\n",
      "                ...             \n",
      "1        MARBATALLA7@HOTMAIL.COM\n",
      "2          ing.bill@yahoo.com.ar\n",
      "3             imatakay@gmail.com\n",
      "4            DRACO@HOTMAL.COM.AR\n",
      "5        PINEDOMANUELE@GMAIL.COM\n",
      "Length: 908, dtype: object\n"
     ]
    },
    {
     "name": "stderr",
     "output_type": "stream",
     "text": [
      "\n",
      " 94%|█████████▍| 361/384 [1:10:19<03:15,  8.50s/it]\u001b[A"
     ]
    },
    {
     "name": "stdout",
     "output_type": "stream",
     "text": [
      "Técnico Mecánico  Done 1           ggcisterna@gmail.com\n",
      "1     sanchogabriela@hotmail.com\n",
      "1         ecalamos@argentina.com\n",
      "4         conghos@hotmail.com.ar\n",
      "5    marianonicola1975@gmail.com\n",
      "                ...             \n",
      "3             imatakay@gmail.com\n",
      "4            DRACO@HOTMAL.COM.AR\n",
      "5        PINEDOMANUELE@GMAIL.COM\n",
      "1      luciano@ctbelgrano.com.ar\n",
      "2           longodaniel@live.com\n",
      "Length: 910, dtype: object\n"
     ]
    },
    {
     "name": "stderr",
     "output_type": "stream",
     "text": [
      "\n",
      " 94%|█████████▍| 362/384 [1:10:27<03:09,  8.63s/it]\u001b[A"
     ]
    },
    {
     "name": "stdout",
     "output_type": "stream",
     "text": [
      "Tecnico Mecanico Electricista Done 1            ggcisterna@gmail.com\n",
      "1      sanchogabriela@hotmail.com\n",
      "1          ecalamos@argentina.com\n",
      "4          conghos@hotmail.com.ar\n",
      "5     marianonicola1975@gmail.com\n",
      "                 ...             \n",
      "2            longodaniel@live.com\n",
      "1    galaingenieria@speedy.com.ar\n",
      "2    galaingenieria@speedy.com.ar\n",
      "3       rodrigo_luque@hotmail.com\n",
      "4        marianototo@yahoo.com.ar\n",
      "Length: 914, dtype: object\n"
     ]
    },
    {
     "name": "stderr",
     "output_type": "stream",
     "text": [
      "\n",
      " 95%|█████████▍| 363/384 [1:10:35<02:55,  8.37s/it]\u001b[A"
     ]
    },
    {
     "name": "stdout",
     "output_type": "stream",
     "text": [
      "Tècnico Mecanico Electricista Done 1            ggcisterna@gmail.com\n",
      "1      sanchogabriela@hotmail.com\n",
      "1          ecalamos@argentina.com\n",
      "4          conghos@hotmail.com.ar\n",
      "5     marianonicola1975@gmail.com\n",
      "                 ...             \n",
      "1    galaingenieria@speedy.com.ar\n",
      "2    galaingenieria@speedy.com.ar\n",
      "3       rodrigo_luque@hotmail.com\n",
      "4        marianototo@yahoo.com.ar\n",
      "1        EMERONO2004@YAHOO.COM.AR\n",
      "Length: 915, dtype: object\n"
     ]
    },
    {
     "name": "stderr",
     "output_type": "stream",
     "text": [
      "\n",
      " 95%|█████████▍| 364/384 [1:10:53<03:41, 11.09s/it]\u001b[A"
     ]
    },
    {
     "name": "stdout",
     "output_type": "stream",
     "text": [
      "Técnico Químico Done 1            ggcisterna@gmail.com\n",
      "1      sanchogabriela@hotmail.com\n",
      "1          ecalamos@argentina.com\n",
      "4          conghos@hotmail.com.ar\n",
      "5     marianonicola1975@gmail.com\n",
      "                 ...             \n",
      "1    ambientesannicolas@gmail.com\n",
      "2           carrillotdf@gmail.com\n",
      "3           PSCORONEL@HOTMAIL.COM\n",
      "4         muestreo@induser.com.ar\n",
      "5           joselspring@gmail.com\n",
      "Length: 920, dtype: object\n"
     ]
    },
    {
     "name": "stderr",
     "output_type": "stream",
     "text": [
      "\n",
      " 95%|█████████▌| 365/384 [1:10:59<03:04,  9.69s/it]\u001b[A"
     ]
    },
    {
     "name": "stdout",
     "output_type": "stream",
     "text": [
      "Técnico sup. en gestion Ambiental Done 1            ggcisterna@gmail.com\n",
      "1      sanchogabriela@hotmail.com\n",
      "1          ecalamos@argentina.com\n",
      "4          conghos@hotmail.com.ar\n",
      "5     marianonicola1975@gmail.com\n",
      "                 ...             \n",
      "1    ambientesannicolas@gmail.com\n",
      "2           carrillotdf@gmail.com\n",
      "3           PSCORONEL@HOTMAIL.COM\n",
      "4         muestreo@induser.com.ar\n",
      "5           joselspring@gmail.com\n",
      "Length: 920, dtype: object\n"
     ]
    },
    {
     "name": "stderr",
     "output_type": "stream",
     "text": [
      "\n",
      " 95%|█████████▌| 366/384 [1:11:05<02:35,  8.66s/it]\u001b[A"
     ]
    },
    {
     "name": "stdout",
     "output_type": "stream",
     "text": [
      "TECNICO SUPERIOR AGRARIO EN SUELOS Y AGUAS Done 1            ggcisterna@gmail.com\n",
      "1      sanchogabriela@hotmail.com\n",
      "1          ecalamos@argentina.com\n",
      "4          conghos@hotmail.com.ar\n",
      "5     marianonicola1975@gmail.com\n",
      "                 ...             \n",
      "1    ambientesannicolas@gmail.com\n",
      "2           carrillotdf@gmail.com\n",
      "3           PSCORONEL@HOTMAIL.COM\n",
      "4         muestreo@induser.com.ar\n",
      "5           joselspring@gmail.com\n",
      "Length: 920, dtype: object\n"
     ]
    },
    {
     "name": "stderr",
     "output_type": "stream",
     "text": [
      "\n",
      " 96%|█████████▌| 367/384 [1:11:12<02:16,  8.05s/it]\u001b[A"
     ]
    },
    {
     "name": "stdout",
     "output_type": "stream",
     "text": [
      "TECNICO SUPERIOR EN BROMATOLOGIA Done 1            ggcisterna@gmail.com\n",
      "1      sanchogabriela@hotmail.com\n",
      "1          ecalamos@argentina.com\n",
      "4          conghos@hotmail.com.ar\n",
      "5     marianonicola1975@gmail.com\n",
      "                 ...             \n",
      "1    ambientesannicolas@gmail.com\n",
      "2           carrillotdf@gmail.com\n",
      "3           PSCORONEL@HOTMAIL.COM\n",
      "4         muestreo@induser.com.ar\n",
      "5           joselspring@gmail.com\n",
      "Length: 920, dtype: object\n"
     ]
    },
    {
     "name": "stderr",
     "output_type": "stream",
     "text": [
      "\n",
      " 96%|█████████▌| 368/384 [1:11:19<02:02,  7.67s/it]\u001b[A"
     ]
    },
    {
     "name": "stdout",
     "output_type": "stream",
     "text": [
      "Tecnico Superior en Ecologia Done 1            ggcisterna@gmail.com\n",
      "1      sanchogabriela@hotmail.com\n",
      "1          ecalamos@argentina.com\n",
      "4          conghos@hotmail.com.ar\n",
      "5     marianonicola1975@gmail.com\n",
      "                 ...             \n",
      "1    ambientesannicolas@gmail.com\n",
      "2           carrillotdf@gmail.com\n",
      "3           PSCORONEL@HOTMAIL.COM\n",
      "4         muestreo@induser.com.ar\n",
      "5           joselspring@gmail.com\n",
      "Length: 920, dtype: object\n"
     ]
    },
    {
     "name": "stderr",
     "output_type": "stream",
     "text": [
      "\n",
      " 96%|█████████▌| 369/384 [1:11:27<01:56,  7.77s/it]\u001b[A"
     ]
    },
    {
     "name": "stdout",
     "output_type": "stream",
     "text": [
      "TECNICO SUPERIOR EN MANEJO AMBIENTAL Done 1            ggcisterna@gmail.com\n",
      "1      sanchogabriela@hotmail.com\n",
      "1          ecalamos@argentina.com\n",
      "4          conghos@hotmail.com.ar\n",
      "5     marianonicola1975@gmail.com\n",
      "                 ...             \n",
      "1    ambientesannicolas@gmail.com\n",
      "2           carrillotdf@gmail.com\n",
      "3           PSCORONEL@HOTMAIL.COM\n",
      "4         muestreo@induser.com.ar\n",
      "5           joselspring@gmail.com\n",
      "Length: 920, dtype: object\n"
     ]
    },
    {
     "name": "stderr",
     "output_type": "stream",
     "text": [
      "\n",
      " 96%|█████████▋| 370/384 [1:11:42<02:22, 10.16s/it]\u001b[A"
     ]
    },
    {
     "name": "stdout",
     "output_type": "stream",
     "text": [
      "Técnico Superior en Seg. Higiene y Control Amb. Done 1                                 ggcisterna@gmail.com\n",
      "1                           sanchogabriela@hotmail.com\n",
      "1                               ecalamos@argentina.com\n",
      "4                               conghos@hotmail.com.ar\n",
      "5                          marianonicola1975@gmail.com\n",
      "                           ...                        \n",
      "1                         estudiotecnicolb@hotmail.com\n",
      "2    gabrielgraff.gg@gmail.com / gabrielolav@hotmai...\n",
      "3                        rdanielmanzanares@hotmail.com\n",
      "4                           MARCELASARTINI@HOTMAIL.COM\n",
      "5                           svazquez@cerronegro.com.ar\n",
      "Length: 925, dtype: object\n"
     ]
    },
    {
     "name": "stderr",
     "output_type": "stream",
     "text": [
      "\n",
      " 97%|█████████▋| 371/384 [1:11:51<02:05,  9.62s/it]\u001b[A"
     ]
    },
    {
     "name": "stdout",
     "output_type": "stream",
     "text": [
      "Tecnico Superior en Seguridad e Higiene en el Trab Done 1                                 ggcisterna@gmail.com\n",
      "1                           sanchogabriela@hotmail.com\n",
      "1                               ecalamos@argentina.com\n",
      "4                               conghos@hotmail.com.ar\n",
      "5                          marianonicola1975@gmail.com\n",
      "                           ...                        \n",
      "2    gabrielgraff.gg@gmail.com / gabrielolav@hotmai...\n",
      "3                        rdanielmanzanares@hotmail.com\n",
      "4                           MARCELASARTINI@HOTMAIL.COM\n",
      "5                           svazquez@cerronegro.com.ar\n",
      "1                       alvarez@terminalneuquen.com.ar\n",
      "Length: 926, dtype: object\n"
     ]
    },
    {
     "name": "stderr",
     "output_type": "stream",
     "text": [
      "\n",
      " 97%|█████████▋| 372/384 [1:11:58<01:46,  8.84s/it]\u001b[A"
     ]
    },
    {
     "name": "stdout",
     "output_type": "stream",
     "text": [
      "Técnico Superior en Seguridad e Higiene Industrial Done 1                                 ggcisterna@gmail.com\n",
      "1                           sanchogabriela@hotmail.com\n",
      "1                               ecalamos@argentina.com\n",
      "4                               conghos@hotmail.com.ar\n",
      "5                          marianonicola1975@gmail.com\n",
      "                           ...                        \n",
      "2    gabrielgraff.gg@gmail.com / gabrielolav@hotmai...\n",
      "3                        rdanielmanzanares@hotmail.com\n",
      "4                           MARCELASARTINI@HOTMAIL.COM\n",
      "5                           svazquez@cerronegro.com.ar\n",
      "1                       alvarez@terminalneuquen.com.ar\n",
      "Length: 926, dtype: object\n"
     ]
    },
    {
     "name": "stderr",
     "output_type": "stream",
     "text": [
      "\n",
      " 97%|█████████▋| 373/384 [1:12:07<01:39,  9.07s/it]\u001b[A"
     ]
    },
    {
     "name": "stdout",
     "output_type": "stream",
     "text": [
      "Técnico Superior en Seguridad, Higiene y Control A Done 1              ggcisterna@gmail.com\n",
      "1        sanchogabriela@hotmail.com\n",
      "1            ecalamos@argentina.com\n",
      "4            conghos@hotmail.com.ar\n",
      "5       marianonicola1975@gmail.com\n",
      "                  ...              \n",
      "3     rdanielmanzanares@hotmail.com\n",
      "4        MARCELASARTINI@HOTMAIL.COM\n",
      "5        svazquez@cerronegro.com.ar\n",
      "1    alvarez@terminalneuquen.com.ar\n",
      "1         mauromerlo82@yahoo.com.ar\n",
      "Length: 927, dtype: object\n"
     ]
    },
    {
     "name": "stderr",
     "output_type": "stream",
     "text": [
      "\n",
      " 97%|█████████▋| 374/384 [1:12:15<01:25,  8.50s/it]\u001b[A"
     ]
    },
    {
     "name": "stdout",
     "output_type": "stream",
     "text": [
      "Tecnico Superior en Seguridad, Higiene y ControlAm Done 1              ggcisterna@gmail.com\n",
      "1        sanchogabriela@hotmail.com\n",
      "1            ecalamos@argentina.com\n",
      "4            conghos@hotmail.com.ar\n",
      "5       marianonicola1975@gmail.com\n",
      "                  ...              \n",
      "4        MARCELASARTINI@HOTMAIL.COM\n",
      "5        svazquez@cerronegro.com.ar\n",
      "1    alvarez@terminalneuquen.com.ar\n",
      "1         mauromerlo82@yahoo.com.ar\n",
      "1             sebavines@hotmail.com\n",
      "Length: 928, dtype: object\n"
     ]
    },
    {
     "name": "stderr",
     "output_type": "stream",
     "text": [
      "\n",
      " 98%|█████████▊| 375/384 [1:12:21<01:12,  8.01s/it]\u001b[A"
     ]
    },
    {
     "name": "stdout",
     "output_type": "stream",
     "text": [
      "tecnico superior en turismo Done 1              ggcisterna@gmail.com\n",
      "1        sanchogabriela@hotmail.com\n",
      "1            ecalamos@argentina.com\n",
      "4            conghos@hotmail.com.ar\n",
      "5       marianonicola1975@gmail.com\n",
      "                  ...              \n",
      "4        MARCELASARTINI@HOTMAIL.COM\n",
      "5        svazquez@cerronegro.com.ar\n",
      "1    alvarez@terminalneuquen.com.ar\n",
      "1         mauromerlo82@yahoo.com.ar\n",
      "1             sebavines@hotmail.com\n",
      "Length: 928, dtype: object\n"
     ]
    },
    {
     "name": "stderr",
     "output_type": "stream",
     "text": [
      "\n",
      " 98%|█████████▊| 376/384 [1:12:29<01:02,  7.80s/it]\u001b[A"
     ]
    },
    {
     "name": "stdout",
     "output_type": "stream",
     "text": [
      "TECNICO UNIVERSITARIO EN GERENCIAMIENTO AMBIENTAL Done 1              ggcisterna@gmail.com\n",
      "1        sanchogabriela@hotmail.com\n",
      "1            ecalamos@argentina.com\n",
      "4            conghos@hotmail.com.ar\n",
      "5       marianonicola1975@gmail.com\n",
      "                  ...              \n",
      "5        svazquez@cerronegro.com.ar\n",
      "1    alvarez@terminalneuquen.com.ar\n",
      "1         mauromerlo82@yahoo.com.ar\n",
      "1             sebavines@hotmail.com\n",
      "1         sergiociglesias@gmail.com\n",
      "Length: 929, dtype: object\n"
     ]
    },
    {
     "name": "stderr",
     "output_type": "stream",
     "text": [
      "\n",
      " 98%|█████████▊| 377/384 [1:12:36<00:53,  7.63s/it]\u001b[A"
     ]
    },
    {
     "name": "stdout",
     "output_type": "stream",
     "text": [
      "TECNICO UNIVERSITARIO EN GESTION AMBIENTAL Done 1              ggcisterna@gmail.com\n",
      "1        sanchogabriela@hotmail.com\n",
      "1            ecalamos@argentina.com\n",
      "4            conghos@hotmail.com.ar\n",
      "5       marianonicola1975@gmail.com\n",
      "                  ...              \n",
      "1    alvarez@terminalneuquen.com.ar\n",
      "1         mauromerlo82@yahoo.com.ar\n",
      "1             sebavines@hotmail.com\n",
      "1         sergiociglesias@gmail.com\n",
      "1            diegofcuesta.gmail.com\n",
      "Length: 930, dtype: object\n"
     ]
    },
    {
     "name": "stderr",
     "output_type": "stream",
     "text": [
      "\n",
      " 98%|█████████▊| 378/384 [1:12:43<00:44,  7.46s/it]\u001b[A"
     ]
    },
    {
     "name": "stdout",
     "output_type": "stream",
     "text": [
      "Técnico Universitario en Gestión Ambiental Done 1           ggcisterna@gmail.com\n",
      "1     sanchogabriela@hotmail.com\n",
      "1         ecalamos@argentina.com\n",
      "4         conghos@hotmail.com.ar\n",
      "5    marianonicola1975@gmail.com\n",
      "                ...             \n",
      "1      mauromerlo82@yahoo.com.ar\n",
      "1          sebavines@hotmail.com\n",
      "1      sergiociglesias@gmail.com\n",
      "1         diegofcuesta.gmail.com\n",
      "1     MOLINOS@MOLINOSTSAS.COM.AR\n",
      "Length: 931, dtype: object\n"
     ]
    },
    {
     "name": "stderr",
     "output_type": "stream",
     "text": [
      "\n",
      " 99%|█████████▊| 379/384 [1:12:50<00:35,  7.19s/it]\u001b[A"
     ]
    },
    {
     "name": "stdout",
     "output_type": "stream",
     "text": [
      "TECNICO UNIVERSITARIO EN HIGIENE Y SEGURIDAD EN EL Done 1           ggcisterna@gmail.com\n",
      "1     sanchogabriela@hotmail.com\n",
      "1         ecalamos@argentina.com\n",
      "4         conghos@hotmail.com.ar\n",
      "5    marianonicola1975@gmail.com\n",
      "                ...             \n",
      "1      mauromerlo82@yahoo.com.ar\n",
      "1          sebavines@hotmail.com\n",
      "1      sergiociglesias@gmail.com\n",
      "1         diegofcuesta.gmail.com\n",
      "1     MOLINOS@MOLINOSTSAS.COM.AR\n",
      "Length: 931, dtype: object\n"
     ]
    },
    {
     "name": "stderr",
     "output_type": "stream",
     "text": [
      "\n",
      " 99%|█████████▉| 380/384 [1:12:57<00:28,  7.15s/it]\u001b[A"
     ]
    },
    {
     "name": "stdout",
     "output_type": "stream",
     "text": [
      "Técnico Universitario en Higiene y Seguridad Labor Done 1           ggcisterna@gmail.com\n",
      "1     sanchogabriela@hotmail.com\n",
      "1         ecalamos@argentina.com\n",
      "4         conghos@hotmail.com.ar\n",
      "5    marianonicola1975@gmail.com\n",
      "                ...             \n",
      "1      mauromerlo82@yahoo.com.ar\n",
      "1          sebavines@hotmail.com\n",
      "1      sergiociglesias@gmail.com\n",
      "1         diegofcuesta.gmail.com\n",
      "1     MOLINOS@MOLINOSTSAS.COM.AR\n",
      "Length: 931, dtype: object\n"
     ]
    },
    {
     "name": "stderr",
     "output_type": "stream",
     "text": [
      "\n",
      " 99%|█████████▉| 381/384 [1:13:04<00:21,  7.15s/it]\u001b[A"
     ]
    },
    {
     "name": "stdout",
     "output_type": "stream",
     "text": [
      "TECNICO UNIVERSITARIO EN INFORMACION AMBIENTAL Done 1           ggcisterna@gmail.com\n",
      "1     sanchogabriela@hotmail.com\n",
      "1         ecalamos@argentina.com\n",
      "4         conghos@hotmail.com.ar\n",
      "5    marianonicola1975@gmail.com\n",
      "                ...             \n",
      "1      mauromerlo82@yahoo.com.ar\n",
      "1          sebavines@hotmail.com\n",
      "1      sergiociglesias@gmail.com\n",
      "1         diegofcuesta.gmail.com\n",
      "1     MOLINOS@MOLINOSTSAS.COM.AR\n",
      "Length: 931, dtype: object\n"
     ]
    },
    {
     "name": "stderr",
     "output_type": "stream",
     "text": [
      "\n",
      " 99%|█████████▉| 382/384 [1:13:11<00:14,  7.13s/it]\u001b[A"
     ]
    },
    {
     "name": "stdout",
     "output_type": "stream",
     "text": [
      "TECNICO UNIVERSITARIO EN MEDIO AMBIENTE Done 1           ggcisterna@gmail.com\n",
      "1     sanchogabriela@hotmail.com\n",
      "1         ecalamos@argentina.com\n",
      "4         conghos@hotmail.com.ar\n",
      "5    marianonicola1975@gmail.com\n",
      "                ...             \n",
      "1      mauromerlo82@yahoo.com.ar\n",
      "1          sebavines@hotmail.com\n",
      "1      sergiociglesias@gmail.com\n",
      "1         diegofcuesta.gmail.com\n",
      "1     MOLINOS@MOLINOSTSAS.COM.AR\n",
      "Length: 931, dtype: object\n"
     ]
    },
    {
     "name": "stderr",
     "output_type": "stream",
     "text": [
      "\n",
      "100%|█████████▉| 383/384 [1:13:23<00:08,  8.46s/it]\u001b[A"
     ]
    },
    {
     "name": "stdout",
     "output_type": "stream",
     "text": [
      "Veterinario Done 1                ggcisterna@gmail.com\n",
      "1          sanchogabriela@hotmail.com\n",
      "1              ecalamos@argentina.com\n",
      "4              conghos@hotmail.com.ar\n",
      "5         marianonicola1975@gmail.com\n",
      "                   ...               \n",
      "1               sebavines@hotmail.com\n",
      "1           sergiociglesias@gmail.com\n",
      "1              diegofcuesta.gmail.com\n",
      "1          MOLINOS@MOLINOSTSAS.COM.AR\n",
      "1    jrlamas@laboratoriollamas.com.ar\n",
      "Length: 932, dtype: object\n"
     ]
    },
    {
     "name": "stderr",
     "output_type": "stream",
     "text": [
      "\n",
      "100%|██████████| 384/384 [1:13:32<00:00,  8.66s/it]\u001b[A"
     ]
    },
    {
     "name": "stdout",
     "output_type": "stream",
     "text": [
      "Zoólogo Done 1                ggcisterna@gmail.com\n",
      "1          sanchogabriela@hotmail.com\n",
      "1              ecalamos@argentina.com\n",
      "4              conghos@hotmail.com.ar\n",
      "5         marianonicola1975@gmail.com\n",
      "                   ...               \n",
      "1               sebavines@hotmail.com\n",
      "1           sergiociglesias@gmail.com\n",
      "1              diegofcuesta.gmail.com\n",
      "1          MOLINOS@MOLINOSTSAS.COM.AR\n",
      "1    jrlamas@laboratoriollamas.com.ar\n",
      "Length: 932, dtype: object\n"
     ]
    }
   ],
   "source": [
    "finals = pd.Series()\n",
    "\n",
    "for i in tqdm(tits):\n",
    "    br = Browser()\n",
    "\n",
    "    br.set_handle_robots( False )\n",
    "    br.addheaders = [(\"User-agent\", \"Firefox\")]\n",
    "    br.open(\"http://sistemas.opds.gba.gov.ar/intra/Profesionales/ConsultaWeb.php\")\n",
    "\n",
    "    br.select_form(\"frmBuscaProf\")\n",
    "    br.form[\"sltTitulo\"] = [str(i),]\n",
    "    br.submit()\n",
    "    resp = br.response()\n",
    "    soup = BeautifulSoup(resp.read(), \"html.parser\")\n",
    "    data = soup.find(\"table\", border=1)\n",
    "    html_string = str(data)\n",
    "    try:\n",
    "\n",
    "        dat = pd.read_html(html_string)\n",
    "        mails = dat[0][6][1:]\n",
    "        mails = mails.dropna()\n",
    "        finals = finals.append(mails)\n",
    "    except Exception:\n",
    "        pass\n",
    "    print(i, \"Done\", finals)\n",
    "    finals.to_csv(\"mails_pais.csv\",index=False)"
   ]
  },
  {
   "cell_type": "code",
   "execution_count": 18,
   "metadata": {},
   "outputs": [
    {
     "data": {
      "text/plain": [
       "1            ggcisterna@gmail.com\n",
       "1      sanchogabriela@hotmail.com\n",
       "1          ecalamos@argentina.com\n",
       "4          conghos@hotmail.com.ar\n",
       "5     marianonicola1975@gmail.com\n",
       "                 ...             \n",
       "10      ingenierosendin@gmail.com\n",
       "11      adrianaspagnolo@gmail.com\n",
       "1           lauccordoba@gmail.com\n",
       "2          alejandro@falco.net.ar\n",
       "1       jmgconstrucciones.2@gmail\n",
       "Length: 100, dtype: object"
      ]
     },
     "execution_count": 18,
     "metadata": {},
     "output_type": "execute_result"
    }
   ],
   "source": [
    "finals.head(100)"
   ]
  },
  {
   "cell_type": "code",
   "execution_count": 16,
   "metadata": {},
   "outputs": [
    {
     "data": {
      "text/plain": [
       "(932,)"
      ]
     },
     "execution_count": 16,
     "metadata": {},
     "output_type": "execute_result"
    }
   ],
   "source": [
    "finals.shape"
   ]
  },
  {
   "cell_type": "code",
   "execution_count": null,
   "metadata": {},
   "outputs": [],
   "source": []
  }
 ],
 "metadata": {
  "kernelspec": {
   "display_name": "Python 3",
   "language": "python",
   "name": "python3"
  },
  "language_info": {
   "codemirror_mode": {
    "name": "ipython",
    "version": 3
   },
   "file_extension": ".py",
   "mimetype": "text/x-python",
   "name": "python",
   "nbconvert_exporter": "python",
   "pygments_lexer": "ipython3",
   "version": "3.6.8"
  }
 },
 "nbformat": 4,
 "nbformat_minor": 2
}
